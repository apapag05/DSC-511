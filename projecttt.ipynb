{
  "cells": [
    {
      "cell_type": "markdown",
      "metadata": {},
      "source": [
        "# DSC 511: Project\n",
        "# Argentina houses' price prediction"
      ]
    },
    {
      "cell_type": "code",
      "execution_count": 1,
      "metadata": {
        "colab": {
          "base_uri": "https://localhost:8080/"
        },
        "id": "m4fsRxm7E8xc",
        "outputId": "cfa6f28f-6426-48d0-c799-7d1bea1be15e"
      },
      "outputs": [
        {
          "name": "stdout",
          "output_type": "stream",
          "text": [
            "Requirement already satisfied: pyspark==3.4.2 in /Users/andrea/anaconda3/lib/python3.11/site-packages (3.4.2)\n",
            "Requirement already satisfied: py4j==0.10.9.7 in /Users/andrea/anaconda3/lib/python3.11/site-packages (from pyspark==3.4.2) (0.10.9.7)\n"
          ]
        }
      ],
      "source": [
        "! pip install pyspark==3.4.2"
      ]
    },
    {
      "cell_type": "code",
      "execution_count": 2,
      "metadata": {},
      "outputs": [
        {
          "name": "stdout",
          "output_type": "stream",
          "text": [
            "Requirement already satisfied: scikit-learn in /Library/Frameworks/Python.framework/Versions/3.11/lib/python3.11/site-packages (1.4.2)\n",
            "Requirement already satisfied: numpy>=1.19.5 in /Library/Frameworks/Python.framework/Versions/3.11/lib/python3.11/site-packages (from scikit-learn) (1.26.2)\n",
            "Requirement already satisfied: scipy>=1.6.0 in /Library/Frameworks/Python.framework/Versions/3.11/lib/python3.11/site-packages (from scikit-learn) (1.13.0)\n",
            "Requirement already satisfied: joblib>=1.2.0 in /Library/Frameworks/Python.framework/Versions/3.11/lib/python3.11/site-packages (from scikit-learn) (1.4.0)\n",
            "Requirement already satisfied: threadpoolctl>=2.0.0 in /Library/Frameworks/Python.framework/Versions/3.11/lib/python3.11/site-packages (from scikit-learn) (3.4.0)\n"
          ]
        },
        {
          "data": {
            "text/plain": [
              "0"
            ]
          },
          "execution_count": 2,
          "metadata": {},
          "output_type": "execute_result"
        }
      ],
      "source": [
        "import sys\n",
        "import subprocess\n",
        "\n",
        "subprocess.check_call([sys.executable, \"-m\", \"pip\", \"install\", \"scikit-learn\"])\n"
      ]
    },
    {
      "cell_type": "code",
      "execution_count": 3,
      "metadata": {},
      "outputs": [],
      "source": [
        "# libraries\n",
        "\n",
        "import sklearn\n",
        "from sklearn.impute import KNNImputer\n",
        "import pandas as pd\n",
        "from pyspark.sql.functions import *\n",
        "import seaborn as sns\n",
        "import matplotlib.pyplot as plt"
      ]
    },
    {
      "cell_type": "markdown",
      "metadata": {},
      "source": [
        "## Read Dataset"
      ]
    },
    {
      "cell_type": "code",
      "execution_count": 4,
      "metadata": {
        "colab": {
          "base_uri": "https://localhost:8080/"
        },
        "id": "5LLpEB-5F4ua",
        "outputId": "c95366e0-51a3-4306-f468-6adf133c7487"
      },
      "outputs": [],
      "source": [
        "# from google.colab import drive\n",
        "# drive.mount('/content/gdrive')\n",
        "# google_drive_path = \"/content/gdrive/MyDrive/Colab Notebooks/Project/\""
      ]
    },
    {
      "cell_type": "code",
      "execution_count": 5,
      "metadata": {
        "id": "hesw_1QjF43J"
      },
      "outputs": [
        {
          "name": "stderr",
          "output_type": "stream",
          "text": [
            "Setting default log level to \"WARN\".\n",
            "To adjust logging level use sc.setLogLevel(newLevel). For SparkR, use setLogLevel(newLevel).\n",
            "24/04/26 11:43:43 WARN NativeCodeLoader: Unable to load native-hadoop library for your platform... using builtin-java classes where applicable\n"
          ]
        }
      ],
      "source": [
        "from pyspark.sql import SparkSession\n",
        "from pyspark.sql.types import *\n",
        "from pyspark.sql.functions import *\n",
        "from pyspark.sql.window import Window\n",
        "\n",
        "# create Spark Session\n",
        "spark = SparkSession.builder.appName(\"Project511\").master(\"local[*]\").getOrCreate()\n",
        "\n",
        "# this is our schema defined in order for spark to read the csv correctly\n",
        "schema = StructType( [\n",
        "  StructField(\"id\", StringType(), True),\n",
        "  StructField(\"ad_type\", StringType(), True),\n",
        "  StructField(\"start_date\", StringType(), True),\n",
        "  StructField(\"end_date\", StringType(), True),\n",
        "  StructField(\"created_on\", StringType(), True),\n",
        "  StructField(\"lat\", FloatType(), True),\n",
        "  StructField(\"lon\", FloatType(), True),\n",
        "  StructField(\"l1\", StringType(), True),\n",
        "  StructField(\"l2\", StringType(), True),\n",
        "  StructField(\"l3\", StringType(), True),\n",
        "  StructField(\"l4\", StringType(), True),\n",
        "  StructField(\"l5\", StringType(), True),\n",
        "  StructField(\"l6\", StringType(), True),\n",
        "  StructField(\"rooms\", IntegerType(), True),\n",
        "  StructField(\"bedrooms\", IntegerType(), True),\n",
        "  StructField(\"bathrooms\", IntegerType(), True),\n",
        "  StructField(\"surface_total\", DoubleType(), True),\n",
        "  StructField(\"surface_covered\", DoubleType(), True),\n",
        "  StructField(\"price\", DoubleType(), True),\n",
        "  StructField(\"currency\", StringType(), True),\n",
        "  StructField(\"price_period\", StringType(), True),\n",
        "  StructField(\"title\", StringType(), True),\n",
        "  StructField(\"description\", StringType(), True),\n",
        "  StructField(\"property_type\", StringType(), True),\n",
        "  StructField(\"operation_type\", StringType(), True)])"
      ]
    },
    {
      "cell_type": "code",
      "execution_count": 6,
      "metadata": {},
      "outputs": [],
      "source": [
        "from pyspark.sql.functions import regexp_replace, split\n",
        "\n",
        "# read the csv file appropriately in order to handle specific characters that are included in some of our columns\n",
        "df = spark.read.format(\"csv\").option(\"header\", \"true\").option(\"multiLine\", \"true\").option(\"escape\", \"\\\"\").option(\"quote\", \"\\\"\").schema(schema) \\\n",
        "    .load(\"/Users/andrea/Documents/MSc Data Science/2nd term/DSC 511/project/ar_properties.csv\")\n",
        "\n",
        "# clean the id column by removing HTML tags and other unwanted characters and replace new lines within the field with space\n",
        "df = df.withColumn(\"id\", regexp_replace(\"id\", \"<.*?>\", \"\")).withColumn(\"id\", regexp_replace(\"id\", \"[\\r\\n]+\", \" \"))  "
      ]
    },
    {
      "cell_type": "code",
      "execution_count": 7,
      "metadata": {},
      "outputs": [
        {
          "name": "stderr",
          "output_type": "stream",
          "text": [
            "                                                                                \r"
          ]
        },
        {
          "name": "stdout",
          "output_type": "stream",
          "text": [
            "+--------------------+---------+----------+----------+----------+----------+----------+---------+--------------------+--------------------+----------------+----+----+-----+--------+---------+-------------+---------------+-----+--------+------------+--------------------+--------------------+-------------+-----------------+\n",
            "|                  id|  ad_type|start_date|  end_date|created_on|       lat|       lon|       l1|                  l2|                  l3|              l4|  l5|  l6|rooms|bedrooms|bathrooms|surface_total|surface_covered|price|currency|price_period|               title|         description|property_type|   operation_type|\n",
            "+--------------------+---------+----------+----------+----------+----------+----------+---------+--------------------+--------------------+----------------+----+----+-----+--------+---------+-------------+---------------+-----+--------+------------+--------------------+--------------------+-------------+-----------------+\n",
            "|wdQ5hWhv8P14T7Sh9...|Propiedad|2020-12-25|9999-12-31|2020-12-25|-32.716652| -68.64269|Argentina|             Mendoza|                NULL|            NULL|NULL|NULL| NULL|    NULL|     NULL|        350.0|          350.0| NULL|    NULL|        NULL|Excelentes Lotes ...|Corredor Responsa...|         Lote|            Venta|\n",
            "|nnMBYZ4RMRY+vm753...|Propiedad|2020-12-25|9999-12-31|2020-12-25|-24.797724|-65.467514|Argentina|               Salta|                NULL|            NULL|NULL|NULL| NULL|    NULL|     NULL|       1541.0|         1541.0| NULL|    NULL|     Mensual|TERRENO + VENTA +...|Corredor Responsa...|         Lote|            Venta|\n",
            "|+dnVA1K6JxzL1zAjO...|Propiedad|2020-12-25|2020-12-29|2020-12-25|-34.919373| -58.02059|Argentina|Bs.As. G.B.A. Zon...|            La Plata|        La Plata|NULL|NULL| NULL|    NULL|     NULL|       1000.0|         1000.0| NULL|    NULL|     Mensual|Lote en Venta de ...|Corredor Responsa...|         Lote|            Venta|\n",
            "|dLHXKN5/sRZpm9Yk0...|Propiedad|2020-12-25|2020-12-29|2020-12-25|-34.919456|-58.024807|Argentina|Bs.As. G.B.A. Zon...|            La Plata|        La Plata|NULL|NULL| NULL|    NULL|     NULL|       1000.0|         1000.0| NULL|    NULL|     Mensual|Lote en Venta de ...|Corredor Responsa...|         Lote|            Venta|\n",
            "|wtw/k887EPipd37UY...|Propiedad|2020-12-25|9999-12-31|2020-12-25|-34.364925|-58.783142|Argentina|Bs.As. G.B.A. Zon...|             Escobar|Belén de Escobar|NULL|NULL| NULL|    NULL|     NULL|      18164.0|        18164.0| NULL|    NULL|     Mensual|  PANAMERICANA 47300|Nave principal 66...|         Otro|            Venta|\n",
            "|eYw+ClpuHC0Y5o5my...|Propiedad|2020-12-25|9999-12-31|2020-12-25|-34.601383|-58.372612|Argentina|     Capital Federal|         San Nicolás|            NULL|NULL|NULL| NULL|    NULL|        6|         NULL|         1980.0| NULL|    NULL|     Mensual|Oficina - Centro ...|Oficina / Consult...|      Oficina|            Venta|\n",
            "|UFmsxz8sSGfnOgA06...|Propiedad|2020-12-25|9999-12-31|2020-12-25|-34.601383|-58.372612|Argentina|     Capital Federal|         San Nicolás|            NULL|NULL|NULL| NULL|    NULL|        6|         NULL|         1980.0| NULL|    NULL|     Mensual|Oficina - Centro ...|Excepcional Ofici...|      Oficina|         Alquiler|\n",
            "|PC59hZVBOYNk5bh+X...|Propiedad|2020-12-25|9999-12-31|2020-12-25|-34.601383|-58.372612|Argentina|     Capital Federal|         San Nicolás|            NULL|NULL|NULL| NULL|    NULL|        6|         NULL|         1980.0| NULL|    NULL|     Mensual|Oficina - Centro ...|Oficina / Consult...|      Oficina|         Alquiler|\n",
            "|TOZstKBOcHY5+Ww9m...|Propiedad|2020-12-25|2020-12-30|2020-12-25|-24.818157| -65.42671|Argentina|               Salta|               Salta|            NULL|NULL|NULL| NULL|    NULL|     NULL|       1050.0|         1050.0| NULL|    NULL|     Mensual|ALQUILER + GALPÓN...|Corredor Responsa...|     Depósito|         Alquiler|\n",
            "|2LYMXj1wkHEcCjXc7...|Propiedad|2020-12-25|2021-03-05|2020-12-25| -34.58578|-58.423862|Argentina|     Capital Federal|             Palermo|            NULL|NULL|NULL| NULL|       1|     NULL|         NULL|           NULL| NULL|    NULL|     Mensual|DEPARTAMENTO EN V...|Muy lindo monoamb...| Departamento|            Venta|\n",
            "|raShnoQBxqJDC1yGO...|Propiedad|2020-12-25|9999-12-31|2020-12-25|-37.312977| -59.12618|Argentina|Buenos Aires Inte...|              Tandil|            NULL|NULL|NULL|    1|       1|        1|         NULL|           NULL| NULL|    NULL|     Mensual|Departamento More...|Departamento More...| Departamento|Alquiler temporal|\n",
            "|uYRYZl/8/lt7sMzs/...|Propiedad|2020-12-25|9999-12-31|2020-12-25|-31.423485| -64.49646|Argentina|             Córdoba|             Córdoba|          Centro|NULL|NULL|    1|       1|        1|         NULL|           NULL| NULL|    NULL|     Mensual|Departamento cént...|Departamento cént...| Departamento|Alquiler temporal|\n",
            "|e1Qi5/Anm22rmLZHc...|Propiedad|2020-12-25|9999-12-31|2020-12-25|-31.651438|-60.699646|Argentina|            Santa Fe|            Santa Fe|            NULL|NULL|NULL|    1|       1|        1|         38.0|           38.0| NULL|    NULL|     Mensual|MONOAMBIENTE EQUI...|Corredor Responsa...| Departamento|            Venta|\n",
            "|Kzc1P2vPsC18Qj5oo...|Propiedad|2020-12-25|9999-12-31|2020-12-25| -31.42601| -64.49735|Argentina|             Córdoba|    Villa Carlos Paz|            NULL|NULL|NULL|    1|       1|        1|         NULL|           NULL| NULL|    NULL|     Mensual|Tomy II Complejo ...|Tomy II Complejo ...| Departamento|Alquiler temporal|\n",
            "|d0z/2lR9jVPz/xm65...|Propiedad|2020-12-25|9999-12-31|2020-12-25|-31.788168| -64.52919|Argentina|             Córdoba|Villa Ciudad de A...|            NULL|NULL|NULL|    1|       1|        1|         NULL|           NULL| NULL|    NULL|     Mensual|Condominio Monte ...|Condominio Monte ...| Departamento|Alquiler temporal|\n",
            "|FBO0kGkWmi9pfBMe/...|Propiedad|2020-12-25|9999-12-31|2020-12-25|-38.981655|-61.324535|Argentina|Buenos Aires Cost...|       Monte Hermoso|            NULL|NULL|NULL|    2|       2|        2|         NULL|           NULL| NULL|    NULL|     Mensual|Cabañas Max - Cas...|Cabañas Max - Cas...|         Casa|Alquiler temporal|\n",
            "|ZWlV/5PL2WRbe26Fd...|Propiedad|2020-12-25|9999-12-31|2020-12-25|-38.895153| -71.12771|Argentina|             Neuquén|      Villa Pehuenia|            NULL|NULL|NULL|    2|       2|        1|         NULL|           NULL| NULL|    NULL|     Mensual|Cabañas Aucaman -...|Cabañas Aucaman -...|         Otro|Alquiler temporal|\n",
            "|0Shyi5ebmoPoRaGTN...|Propiedad|2020-12-25|2021-01-31|2020-12-25|  -37.1149|-56.860073|Argentina|Buenos Aires Cost...|             Pinamar|            NULL|NULL|NULL|    2|       2|        1|         NULL|           NULL| NULL|    NULL|     Mensual|Status Tower - De...|Status Tower - De...| Departamento|Alquiler temporal|\n",
            "|4QbtbHlmRAbqdtHnw...|Propiedad|2020-12-25|9999-12-31|2020-12-25| -31.65246|-64.436806|Argentina|             Córdoba|         Alta Gracia|            NULL|NULL|NULL|    2|       2|        2|         NULL|           NULL| NULL|    NULL|     Mensual|Departamento para...|Departamento para...| Departamento|Alquiler temporal|\n",
            "|4Yxm18AoXOe0v5Dxz...|Propiedad|2020-12-25|9999-12-31|2020-12-25| -31.42159| -64.49697|Argentina|             Córdoba|             Córdoba|            NULL|NULL|NULL|    3|       1|        1|         63.0|           49.0| NULL|    NULL|        NULL|VENDO HERMOSO DEP...|Corredor Responsa...| Departamento|            Venta|\n",
            "+--------------------+---------+----------+----------+----------+----------+----------+---------+--------------------+--------------------+----------------+----+----+-----+--------+---------+-------------+---------------+-----+--------+------------+--------------------+--------------------+-------------+-----------------+\n",
            "only showing top 20 rows\n",
            "\n"
          ]
        }
      ],
      "source": [
        "df.show()"
      ]
    },
    {
      "cell_type": "code",
      "execution_count": 8,
      "metadata": {},
      "outputs": [
        {
          "name": "stderr",
          "output_type": "stream",
          "text": [
            "                                                                                \r"
          ]
        },
        {
          "data": {
            "text/plain": [
              "1000000"
            ]
          },
          "execution_count": 8,
          "metadata": {},
          "output_type": "execute_result"
        }
      ],
      "source": [
        "df.count()"
      ]
    },
    {
      "cell_type": "markdown",
      "metadata": {},
      "source": [
        "## Preprocessing"
      ]
    },
    {
      "cell_type": "markdown",
      "metadata": {},
      "source": [
        "Missing Values"
      ]
    },
    {
      "cell_type": "code",
      "execution_count": 9,
      "metadata": {
        "colab": {
          "base_uri": "https://localhost:8080/"
        },
        "id": "DsyP4iSSF4-g",
        "outputId": "67c647dc-2808-4758-c5f4-541e4127303a"
      },
      "outputs": [
        {
          "name": "stderr",
          "output_type": "stream",
          "text": [
            "24/04/26 11:44:17 WARN SparkStringUtils: Truncated the string representation of a plan since it was too large. This behavior can be adjusted by setting 'spark.sql.debug.maxToStringFields'.\n",
            "[Stage 4:>                                                          (0 + 1) / 1]\r"
          ]
        },
        {
          "name": "stdout",
          "output_type": "stream",
          "text": [
            "Percentage of NAs in id: 0.00%\n",
            "Percentage of NAs in ad_type: 0.00%\n",
            "Percentage of NAs in start_date: 0.00%\n",
            "Percentage of NAs in end_date: 0.00%\n",
            "Percentage of NAs in created_on: 0.00%\n",
            "Percentage of NAs in lat: 15.08%\n",
            "Percentage of NAs in lon: 15.17%\n",
            "Percentage of NAs in l1: 0.00%\n",
            "Percentage of NAs in l2: 0.00%\n",
            "Percentage of NAs in l3: 5.33%\n",
            "Percentage of NAs in l4: 76.05%\n",
            "Percentage of NAs in l5: 99.50%\n",
            "Percentage of NAs in l6: 100.00%\n",
            "Percentage of NAs in rooms: 47.36%\n",
            "Percentage of NAs in bedrooms: 53.38%\n",
            "Percentage of NAs in bathrooms: 22.33%\n",
            "Percentage of NAs in surface_total: 62.05%\n",
            "Percentage of NAs in surface_covered: 61.85%\n",
            "Percentage of NAs in price: 3.69%\n",
            "Percentage of NAs in currency: 3.83%\n",
            "Percentage of NAs in price_period: 63.70%\n",
            "Percentage of NAs in title: 0.00%\n",
            "Percentage of NAs in description: 0.00%\n",
            "Percentage of NAs in property_type: 0.00%\n",
            "Percentage of NAs in operation_type: 0.00%\n"
          ]
        },
        {
          "name": "stderr",
          "output_type": "stream",
          "text": [
            "                                                                                \r"
          ]
        }
      ],
      "source": [
        "# percentage of na's in each column\n",
        "na_counts = df.select([(count(when(col(c).isNull(), c)) / count('*') * 100).alias(c) for c in df.columns])\n",
        "\n",
        "# print the results in a more readable format - in percentage\n",
        "for row in na_counts.collect():\n",
        "    for column, percentage in row.asDict().items():\n",
        "        print(f\"Percentage of NAs in {column}: {percentage:.2f}%\")"
      ]
    },
    {
      "cell_type": "markdown",
      "metadata": {},
      "source": [
        "### Drop Columns"
      ]
    },
    {
      "cell_type": "code",
      "execution_count": 10,
      "metadata": {
        "id": "_hNzfEbLF5AY"
      },
      "outputs": [],
      "source": [
        "# l4, l5, l6 refer to more specific location of the house like address, block, etc so we drop them\n",
        "# we keep l1, l2, l3 which refer to the region, main locality\n",
        "# drop if as it's also irrelevant\n",
        "\n",
        "df = df.drop(\"l4\", \"l5\", \"l6\", \"id\")"
      ]
    },
    {
      "cell_type": "markdown",
      "metadata": {},
      "source": [
        "\"ad_type\" column"
      ]
    },
    {
      "cell_type": "code",
      "execution_count": 11,
      "metadata": {},
      "outputs": [
        {
          "name": "stderr",
          "output_type": "stream",
          "text": [
            "[Stage 7:>                                                          (0 + 1) / 1]\r"
          ]
        },
        {
          "name": "stdout",
          "output_type": "stream",
          "text": [
            "+---------+\n",
            "|  ad_type|\n",
            "+---------+\n",
            "|Propiedad|\n",
            "+---------+\n",
            "\n"
          ]
        },
        {
          "name": "stderr",
          "output_type": "stream",
          "text": [
            "                                                                                \r"
          ]
        }
      ],
      "source": [
        "\n",
        "df.select('ad_type').distinct().show() #only one unique value -> drop"
      ]
    },
    {
      "cell_type": "code",
      "execution_count": 12,
      "metadata": {},
      "outputs": [],
      "source": [
        "df = df.drop(\"ad_type\")"
      ]
    },
    {
      "cell_type": "markdown",
      "metadata": {},
      "source": [
        "'l1' column - Country"
      ]
    },
    {
      "cell_type": "code",
      "execution_count": 13,
      "metadata": {},
      "outputs": [
        {
          "name": "stderr",
          "output_type": "stream",
          "text": [
            "[Stage 10:>                                                         (0 + 1) / 1]\r"
          ]
        },
        {
          "name": "stdout",
          "output_type": "stream",
          "text": [
            "+--------------+------+\n",
            "|            l1| count|\n",
            "+--------------+------+\n",
            "|     Argentina|985725|\n",
            "|       Uruguay| 13471|\n",
            "|Estados Unidos|   705|\n",
            "|        Brasil|    99|\n",
            "+--------------+------+\n",
            "\n"
          ]
        },
        {
          "name": "stderr",
          "output_type": "stream",
          "text": [
            "                                                                                \r"
          ]
        }
      ],
      "source": [
        "# we want only houses in argentina\n",
        "df.groupBy('l1').count().show()"
      ]
    },
    {
      "cell_type": "code",
      "execution_count": 14,
      "metadata": {},
      "outputs": [],
      "source": [
        "# filter out any other country\n",
        "df = df.filter(col(\"l1\") == \"Argentina\")"
      ]
    },
    {
      "cell_type": "markdown",
      "metadata": {},
      "source": [
        "'Bedrooms' Column"
      ]
    },
    {
      "cell_type": "code",
      "execution_count": 15,
      "metadata": {},
      "outputs": [
        {
          "name": "stderr",
          "output_type": "stream",
          "text": [
            "[Stage 13:>                                                         (0 + 1) / 1]\r"
          ]
        },
        {
          "name": "stdout",
          "output_type": "stream",
          "text": [
            "+--------+------+\n",
            "|bedrooms| count|\n",
            "+--------+------+\n",
            "|    NULL|530039|\n",
            "|     -16|     1|\n",
            "|      -2|     1|\n",
            "|      -1|     5|\n",
            "|       0| 28526|\n",
            "|       1|145749|\n",
            "|       2|128611|\n",
            "|       3| 98326|\n",
            "|       4| 38787|\n",
            "|       5| 10188|\n",
            "|       6|  3278|\n",
            "|       7|   939|\n",
            "|       8|   411|\n",
            "|       9|   121|\n",
            "|      10|   306|\n",
            "|      11|    47|\n",
            "|      12|    80|\n",
            "|      13|    19|\n",
            "|      14|    25|\n",
            "|      15|    17|\n",
            "+--------+------+\n",
            "only showing top 20 rows\n",
            "\n"
          ]
        },
        {
          "name": "stderr",
          "output_type": "stream",
          "text": [
            "                                                                                \r"
          ]
        }
      ],
      "source": [
        "df.groupBy(\"bedrooms\").count().sort(\"bedrooms\").show()"
      ]
    },
    {
      "cell_type": "code",
      "execution_count": 16,
      "metadata": {},
      "outputs": [
        {
          "name": "stderr",
          "output_type": "stream",
          "text": [
            "                                                                                \r"
          ]
        },
        {
          "data": {
            "text/plain": [
              "985725"
            ]
          },
          "execution_count": 16,
          "metadata": {},
          "output_type": "execute_result"
        }
      ],
      "source": [
        "df.count()"
      ]
    },
    {
      "cell_type": "code",
      "execution_count": 17,
      "metadata": {},
      "outputs": [],
      "source": [
        "# [-1, -2, -16, 900, 335, 129, 100, 99]\n",
        "\n",
        "# remove rows with bedrooms < 0 and some extreme values\n",
        "df = df.filter(((col(\"bedrooms\") >= 0) & (col(\"bedrooms\") < 100)) | (col(\"bedrooms\").isNull()))"
      ]
    },
    {
      "cell_type": "code",
      "execution_count": 18,
      "metadata": {},
      "outputs": [
        {
          "name": "stderr",
          "output_type": "stream",
          "text": [
            "                                                                                \r"
          ]
        },
        {
          "data": {
            "text/plain": [
              "985691"
            ]
          },
          "execution_count": 18,
          "metadata": {},
          "output_type": "execute_result"
        }
      ],
      "source": [
        "df.count()"
      ]
    },
    {
      "cell_type": "code",
      "execution_count": 19,
      "metadata": {},
      "outputs": [],
      "source": [
        "# Bedrooms are larger than rooms which doesnt make sense thus we remove these rows\n",
        "# we also keep the nulls\n",
        "df = df.filter((col(\"bedrooms\").isNull()) | (col(\"rooms\").isNull()) | (col(\"bedrooms\") <= col(\"rooms\")))"
      ]
    },
    {
      "cell_type": "code",
      "execution_count": 20,
      "metadata": {},
      "outputs": [
        {
          "name": "stderr",
          "output_type": "stream",
          "text": [
            "                                                                                \r"
          ]
        },
        {
          "data": {
            "text/plain": [
              "982907"
            ]
          },
          "execution_count": 20,
          "metadata": {},
          "output_type": "execute_result"
        }
      ],
      "source": [
        "df.count()"
      ]
    },
    {
      "cell_type": "markdown",
      "metadata": {},
      "source": [
        "### Handling missing values"
      ]
    },
    {
      "cell_type": "code",
      "execution_count": 21,
      "metadata": {},
      "outputs": [],
      "source": [
        "# na of target variable = 3.69% < 10% => drop rows\n",
        "df = df.na.drop(subset=[\"price\"])"
      ]
    },
    {
      "cell_type": "markdown",
      "metadata": {},
      "source": [
        "Correlation Matrix \n",
        "- search for features that might be related"
      ]
    },
    {
      "cell_type": "code",
      "execution_count": 22,
      "metadata": {},
      "outputs": [],
      "source": [
        "# # get numeric columns\n",
        "# numeric = [field.name for field in df.schema.fields if isinstance(field.dataType, (FloatType, IntegerType))]\n",
        "\n",
        "# correlation_matrix = {}\n",
        "\n",
        "# # compute correlations\n",
        "# for col1 in numeric:\n",
        "#     correlation_matrix[col1] = {}\n",
        "#     for col2 in numeric:\n",
        "#         correlation_matrix[col1][col2] = df.stat.corr(col1, col2)\n",
        "\n",
        "# correlation_matrix_df = pd.DataFrame(correlation_matrix)\n",
        "\n",
        "# # plot the heatmap with the correlations\n",
        "# plt.figure(figsize=(10, 8))\n",
        "# sns.heatmap(correlation_matrix_df, annot=True, cmap='RdBu', fmt=\".2f\", linewidths=.5)\n",
        "# plt.title('Correlation Matrix')\n",
        "# plt.show()"
      ]
    },
    {
      "cell_type": "code",
      "execution_count": 23,
      "metadata": {},
      "outputs": [
        {
          "name": "stderr",
          "output_type": "stream",
          "text": [
            "                                                                                \r"
          ]
        }
      ],
      "source": [
        "# Define an iterator to load chunks into Pandas DataFrames\n",
        "def to_pandas_in_chunks(spark_df, chunk_size=1000):\n",
        "    num_rows = spark_df.count()\n",
        "    num_chunks = (num_rows // chunk_size) + 1\n",
        "    for i in range(num_chunks):\n",
        "        yield spark_df.limit(chunk_size).offset(i * chunk_size).toPandas()\n",
        "\n",
        "# Concatenate chunks into a single Pandas DataFrame\n",
        "import pandas as pd\n",
        "pandas_df = pd.concat([chunk for chunk in to_pandas_in_chunks(df)], ignore_index=True)\n"
      ]
    },
    {
      "cell_type": "code",
      "execution_count": 24,
      "metadata": {},
      "outputs": [
        {
          "data": {
            "image/png": "[encoded data removed]",
            "text/plain": [
              "<Figure size 800x600 with 1 Axes>"
            ]
          },
          "metadata": {},
          "output_type": "display_data"
        }
      ],
      "source": [
        "plt.figure(figsize=(8, 6))\n",
        "plt.scatter(pandas_df['bedrooms'], pandas_df['rooms'], color='blue', alpha=0.5)\n",
        "plt.title('Scatterplot of Bedrooms vs Rooms')\n",
        "plt.xlabel('Bedrooms')\n",
        "plt.ylabel('Rooms')\n",
        "plt.grid(True)\n",
        "plt.tight_layout()\n",
        "\n",
        "# Show plot\n",
        "plt.show()"
      ]
    },
    {
      "cell_type": "code",
      "execution_count": 25,
      "metadata": {},
      "outputs": [
        {
          "data": {
            "text/html": [
              "<div>\n",
              "<style scoped>\n",
              "    .dataframe tbody tr th:only-of-type {\n",
              "        vertical-align: middle;\n",
              "    }\n",
              "\n",
              "    .dataframe tbody tr th {\n",
              "        vertical-align: top;\n",
              "    }\n",
              "\n",
              "    .dataframe thead th {\n",
              "        text-align: right;\n",
              "    }\n",
              "</style>\n",
              "<table border=\"1\" class=\"dataframe\">\n",
              "  <thead>\n",
              "    <tr style=\"text-align: right;\">\n",
              "      <th></th>\n",
              "      <th>bedrooms</th>\n",
              "      <th>rooms</th>\n",
              "      <th>bathrooms</th>\n",
              "    </tr>\n",
              "  </thead>\n",
              "  <tbody>\n",
              "    <tr>\n",
              "      <th>0</th>\n",
              "      <td>2.000000</td>\n",
              "      <td>4.000000</td>\n",
              "      <td>1.000000</td>\n",
              "    </tr>\n",
              "    <tr>\n",
              "      <th>1</th>\n",
              "      <td>2.034483</td>\n",
              "      <td>2.924577</td>\n",
              "      <td>1.541613</td>\n",
              "    </tr>\n",
              "    <tr>\n",
              "      <th>2</th>\n",
              "      <td>2.034483</td>\n",
              "      <td>2.924577</td>\n",
              "      <td>1.541613</td>\n",
              "    </tr>\n",
              "    <tr>\n",
              "      <th>3</th>\n",
              "      <td>2.034483</td>\n",
              "      <td>2.924577</td>\n",
              "      <td>1.541613</td>\n",
              "    </tr>\n",
              "    <tr>\n",
              "      <th>4</th>\n",
              "      <td>3.000000</td>\n",
              "      <td>4.800000</td>\n",
              "      <td>2.000000</td>\n",
              "    </tr>\n",
              "  </tbody>\n",
              "</table>\n",
              "</div>"
            ],
            "text/plain": [
              "   bedrooms     rooms  bathrooms\n",
              "0  2.000000  4.000000   1.000000\n",
              "1  2.034483  2.924577   1.541613\n",
              "2  2.034483  2.924577   1.541613\n",
              "3  2.034483  2.924577   1.541613\n",
              "4  3.000000  4.800000   2.000000"
            ]
          },
          "execution_count": 25,
          "metadata": {},
          "output_type": "execute_result"
        }
      ],
      "source": [
        "# KNNImputer\n",
        "imputer = KNNImputer(n_neighbors=5, weights=\"uniform\")\n",
        "df_imputed = imputer.fit_transform(pandas_df[['bedrooms', 'rooms', 'bathrooms']]) # fit and transofmr\n",
        "df_imputed = pd.DataFrame(df_imputed, columns=['bedrooms', 'rooms', 'bathrooms']) # convert the numpy array returned by the imputer to a pandas df\n",
        "\n",
        "# # If you want to replace the original columns with imputed ones:\n",
        "# pandas_df[['bedrooms', 'rooms', 'bathrooms']] = pandas_df_imputed\n",
        "\n",
        "# # Optional: Convert back to Spark DataFrame\n",
        "# spark_df_imputed = spark.createDataFrame(pandas_df)\n",
        "\n",
        "# spark_df_imputed.show()\n",
        "\n",
        "df_imputed.head()"
      ]
    }
  ],
  "metadata": {
    "colab": {
      "provenance": []
    },
    "kernelspec": {
      "display_name": "Python 3",
      "name": "python3"
    },
    "language_info": {
      "codemirror_mode": {
        "name": "ipython",
        "version": 3
      },
      "file_extension": ".py",
      "mimetype": "text/x-python",
      "name": "python",
      "nbconvert_exporter": "python",
      "pygments_lexer": "ipython3",
      "version": "3.11.5"
    }
  },
  "nbformat": 4,
  "nbformat_minor": 0
}
