{
  "cells": [
    {
      "cell_type": "markdown",
      "metadata": {
        "id": "TM1yOexQ2-VD"
      },
      "source": [
        "# **Recommendation Systems**"
      ]
    },
    {
      "cell_type": "markdown",
      "metadata": {
        "id": "jVQTtawioNm8"
      },
      "source": [
        "In this part, we are going to implement a Recommendation System for properties for sale in Argentina. Based on a property id, the system is going to recommend 10 other properties that are similar, based on cosine similarity, to the specified property."
      ]
    },
    {
      "cell_type": "code",
      "execution_count": 1,
      "metadata": {
        "colab": {
          "base_uri": "https://localhost:8080/"
        },
        "id": "vd7xHm-K3XDD",
        "outputId": "a86651de-6973-4ca3-8294-cca808b5d0ac"
      },
      "outputs": [
        {
          "output_type": "stream",
          "name": "stdout",
          "text": [
            "Collecting pyspark\n",
            "  Downloading pyspark-3.5.1.tar.gz (317.0 MB)\n",
            "\u001b[2K     \u001b[90m━━━━━━━━━━━━━━━━━━━━━━━━━━━━━━━━━━━━━━━━\u001b[0m \u001b[32m317.0/317.0 MB\u001b[0m \u001b[31m2.1 MB/s\u001b[0m eta \u001b[36m0:00:00\u001b[0m\n",
            "\u001b[?25h  Preparing metadata (setup.py) ... \u001b[?25l\u001b[?25hdone\n",
            "Requirement already satisfied: seaborn in /usr/local/lib/python3.10/dist-packages (0.13.1)\n",
            "Requirement already satisfied: py4j==0.10.9.7 in /usr/local/lib/python3.10/dist-packages (from pyspark) (0.10.9.7)\n",
            "Requirement already satisfied: numpy!=1.24.0,>=1.20 in /usr/local/lib/python3.10/dist-packages (from seaborn) (1.25.2)\n",
            "Requirement already satisfied: pandas>=1.2 in /usr/local/lib/python3.10/dist-packages (from seaborn) (2.0.3)\n",
            "Requirement already satisfied: matplotlib!=3.6.1,>=3.4 in /usr/local/lib/python3.10/dist-packages (from seaborn) (3.7.1)\n",
            "Requirement already satisfied: contourpy>=1.0.1 in /usr/local/lib/python3.10/dist-packages (from matplotlib!=3.6.1,>=3.4->seaborn) (1.2.1)\n",
            "Requirement already satisfied: cycler>=0.10 in /usr/local/lib/python3.10/dist-packages (from matplotlib!=3.6.1,>=3.4->seaborn) (0.12.1)\n",
            "Requirement already satisfied: fonttools>=4.22.0 in /usr/local/lib/python3.10/dist-packages (from matplotlib!=3.6.1,>=3.4->seaborn) (4.51.0)\n",
            "Requirement already satisfied: kiwisolver>=1.0.1 in /usr/local/lib/python3.10/dist-packages (from matplotlib!=3.6.1,>=3.4->seaborn) (1.4.5)\n",
            "Requirement already satisfied: packaging>=20.0 in /usr/local/lib/python3.10/dist-packages (from matplotlib!=3.6.1,>=3.4->seaborn) (24.0)\n",
            "Requirement already satisfied: pillow>=6.2.0 in /usr/local/lib/python3.10/dist-packages (from matplotlib!=3.6.1,>=3.4->seaborn) (9.4.0)\n",
            "Requirement already satisfied: pyparsing>=2.3.1 in /usr/local/lib/python3.10/dist-packages (from matplotlib!=3.6.1,>=3.4->seaborn) (3.1.2)\n",
            "Requirement already satisfied: python-dateutil>=2.7 in /usr/local/lib/python3.10/dist-packages (from matplotlib!=3.6.1,>=3.4->seaborn) (2.8.2)\n",
            "Requirement already satisfied: pytz>=2020.1 in /usr/local/lib/python3.10/dist-packages (from pandas>=1.2->seaborn) (2023.4)\n",
            "Requirement already satisfied: tzdata>=2022.1 in /usr/local/lib/python3.10/dist-packages (from pandas>=1.2->seaborn) (2024.1)\n",
            "Requirement already satisfied: six>=1.5 in /usr/local/lib/python3.10/dist-packages (from python-dateutil>=2.7->matplotlib!=3.6.1,>=3.4->seaborn) (1.16.0)\n",
            "Building wheels for collected packages: pyspark\n",
            "  Building wheel for pyspark (setup.py) ... \u001b[?25l\u001b[?25hdone\n",
            "  Created wheel for pyspark: filename=pyspark-3.5.1-py2.py3-none-any.whl size=317488491 sha256=88259ef1c6e5e9662131ad39ca34f8dde443fc7b4b6669f6054a3e9d7e6f8ddd\n",
            "  Stored in directory: /root/.cache/pip/wheels/80/1d/60/2c256ed38dddce2fdd93be545214a63e02fbd8d74fb0b7f3a6\n",
            "Successfully built pyspark\n",
            "Installing collected packages: pyspark\n",
            "Successfully installed pyspark-3.5.1\n"
          ]
        }
      ],
      "source": [
        "! pip install pyspark seaborn"
      ]
    },
    {
      "cell_type": "code",
      "execution_count": 2,
      "metadata": {
        "id": "BS3r30a029uV"
      },
      "outputs": [],
      "source": [
        "# libraries\n",
        "\n",
        "import sklearn\n",
        "import pandas as pd\n",
        "from pyspark.sql.functions import *\n",
        "from pyspark.sql import SparkSession\n",
        "from pyspark.sql.types import *\n",
        "from scipy.spatial.distance import cosine\n",
        "from pyspark.ml.feature import Normalizer\n",
        "from pyspark.ml.feature import VectorAssembler\n",
        "from pyspark.ml.feature import StandardScaler\n",
        "from pyspark.sql.window import Window"
      ]
    },
    {
      "cell_type": "code",
      "execution_count": 3,
      "metadata": {
        "colab": {
          "base_uri": "https://localhost:8080/"
        },
        "id": "SnU8mtyL3Ml5",
        "outputId": "e9de78ab-66dd-4896-b736-a84f8d9f3d57"
      },
      "outputs": [
        {
          "output_type": "stream",
          "name": "stdout",
          "text": [
            "Mounted at /content/gdrive\n"
          ]
        }
      ],
      "source": [
        "from google.colab import drive\n",
        "drive.mount('/content/gdrive')\n",
        "google_drive_path = \"/content/gdrive/MyDrive/Colab Notebooks/Project/\""
      ]
    },
    {
      "cell_type": "code",
      "execution_count": 4,
      "metadata": {
        "id": "PpoImQxB3OLG"
      },
      "outputs": [],
      "source": [
        "# we've configured the Spark session to handle large datasets with high memory and parallelism settings\n",
        "spark = SparkSession.builder.appName(\"Project511_RS\").master(\"local[*]\") \\\n",
        "          .config(\"spark.driver.memory\", \"10g\") \\\n",
        "          .config(\"spark.executor.memory\", \"10g\") \\\n",
        "          .config(\"spark.driver.maxResultSize\", \"2g\") \\\n",
        "          .config(\"spark.sql.shuffle.partitions\", \"200\") \\\n",
        "          .config(\"spark.default.parallelism\", \"100\") \\\n",
        "          .getOrCreate()"
      ]
    },
    {
      "cell_type": "markdown",
      "metadata": {
        "id": "-vuJZcod3Ffo"
      },
      "source": [
        "# Read Datasets"
      ]
    },
    {
      "cell_type": "markdown",
      "metadata": {
        "id": "oDacAtHVoNnB"
      },
      "source": [
        "We are going to load two versions of your dataset: one with numeric representations (for similarity calculations) and another with human-readable property characteristics (for presenting recommendations)."
      ]
    },
    {
      "cell_type": "markdown",
      "metadata": {
        "id": "8KzOVlaPoNnC"
      },
      "source": [
        "Read the latest version of our sale df with all the preprocessing or other manipulation we did to the data."
      ]
    },
    {
      "cell_type": "code",
      "execution_count": 5,
      "metadata": {
        "id": "kXAuW_iy3QDX"
      },
      "outputs": [],
      "source": [
        "sale_df = spark.read.format(\"parquet\").load(google_drive_path + \"sale_ml.parquet\")"
      ]
    },
    {
      "cell_type": "code",
      "execution_count": 6,
      "metadata": {
        "colab": {
          "base_uri": "https://localhost:8080/"
        },
        "id": "JpKunXBB3QBR",
        "outputId": "0dba3052-02c2-403e-eef1-ee504eaaa324"
      },
      "outputs": [
        {
          "output_type": "stream",
          "name": "stdout",
          "text": [
            "root\n",
            " |-- price_bucket: double (nullable = true)\n",
            " |-- start_year: integer (nullable = true)\n",
            " |-- end_year: integer (nullable = true)\n",
            " |-- is_active: integer (nullable = true)\n",
            " |-- l3_one_hot: vector (nullable = true)\n",
            " |-- l2_one_hot: vector (nullable = true)\n",
            " |-- property_one_hot: vector (nullable = true)\n",
            " |-- encoded_start_month: vector (nullable = true)\n",
            " |-- encoded_end_month: vector (nullable = true)\n",
            " |-- encoded_start_day_of_week: vector (nullable = true)\n",
            " |-- encoded_end_day_of_week: vector (nullable = true)\n",
            " |-- geo_cluster: integer (nullable = true)\n",
            " |-- rooms_scaled: double (nullable = true)\n",
            " |-- bedrooms_scaled: double (nullable = true)\n",
            " |-- bathrooms_scaled: double (nullable = true)\n",
            " |-- surface_total_scaled: double (nullable = true)\n",
            " |-- scaled_final_features: vector (nullable = true)\n",
            "\n"
          ]
        }
      ],
      "source": [
        "sale_df.printSchema()"
      ]
    },
    {
      "cell_type": "markdown",
      "metadata": {
        "id": "4rMvS2lRYgO2"
      },
      "source": [
        "This df (sale_df) does not have the description of the properties in textual representation, but only in numeric representation, which we converted in the Text Analytics file, so we are going to read the processed df without any encoded or scaled feature, but only the actual - readable characteristics of the properties. Both datasets have the same rows and data in the same order, but in order to give the description of the property when we recommending other properties, we are going to merge the two datasets on the id column that we will create afterwards."
      ]
    },
    {
      "cell_type": "code",
      "execution_count": 7,
      "metadata": {
        "id": "7rZUkjKjYeAe"
      },
      "outputs": [],
      "source": [
        "df = spark.read.format(\"parquet\").load(google_drive_path + \"ar_properties_processed.parquet\")"
      ]
    },
    {
      "cell_type": "markdown",
      "metadata": {
        "id": "jCzNfEpYvW_C"
      },
      "source": [
        "This is the dataset with the descriptions and all the info not encoded."
      ]
    },
    {
      "cell_type": "code",
      "execution_count": 8,
      "metadata": {
        "colab": {
          "base_uri": "https://localhost:8080/"
        },
        "id": "aSeHjwNium4i",
        "outputId": "76550a48-f6cb-4789-ae9e-2c88e718c6ed"
      },
      "outputs": [
        {
          "output_type": "stream",
          "name": "stdout",
          "text": [
            "+----------+----------+--------------------+--------------------+-----+--------+---------+-------------+---------------+--------------------+--------------------+----------------+--------------+--------------------+------------------+\n",
            "|start_date|  end_date|                  l2|                  l3|rooms|bedrooms|bathrooms|surface_total|surface_covered|               title|         description|   property_type|operation_type|         coordinates|    amount_in_euro|\n",
            "+----------+----------+--------------------+--------------------+-----+--------+---------+-------------+---------------+--------------------+--------------------+----------------+--------------+--------------------+------------------+\n",
            "|2019-12-29|2020-02-11|Bs.As. G.B.A. Zon...|               Pilar|    4|       3|        2|        140.0|          140.0|Susana Aravena Pr...|Excelente propied...|           House|          Rent|[-34.879692077636...|             533.8|\n",
            "|2019-12-29|2020-04-04|Bs.As. G.B.A. Zon...|             Escobar|    3|       3|        2|       438.17|         347.07|Casa en Alquiler ...|Casa muy cómoda c...|           House|          Rent|[-34.361125946044...|1726.9999999999998|\n",
            "|2019-12-29|2020-07-22|             Córdoba|             Córdoba|    5|       3|        4|        135.0|          135.0|       Casa - Centro|Se VENDE y/o se A...|           House|          Rent|[-31.409379959106...|1020.4999999999999|\n",
            "|2019-12-29|2020-02-21|Bs.As. G.B.A. Zon...|     Lomas de Zamora|    3|       1|        1|       438.17|         347.07|Casa - Banfield O...|Se trata inmueble...|           House|          Rent|[-34.745143890380...|             329.7|\n",
            "|2019-12-29|2020-08-26|Bs.As. G.B.A. Zon...|     Lomas de Zamora|    2|       2|        1|       438.17|         347.07|Casa - Temperley ...|Casa en Av Almira...|           House|          Rent|[-34.780479431152...|439.59999999999997|\n",
            "|2019-12-29|2020-06-14|Bs.As. G.B.A. Zon...|              Moreno|    2|       2|        1|        300.0|          260.0|Azucena Villaflor...|Excelente oportun...|             Lot|          Sale|[-34.879692077636...| 7064.999999999999|\n",
            "|2019-12-29|2020-03-09|     Capital Federal|            Belgrano|    2|       2|        1|        511.0|          511.0|11 DE SEPTIEMBRE DE |Oficina con acces...|          Office|          Rent|[-34.561073303222...|            4867.0|\n",
            "|2019-12-29|2020-04-01|Bs.As. G.B.A. Zon...|          San Miguel|    3|       3|        2|         55.0|           52.6|Domingo F Sarmien...|Oficina de 55 m2 ...|          Office|          Rent|[-34.546260833740...|188.39999999999998|\n",
            "|2019-12-29|2020-02-14|Bs.As. G.B.A. Zon...|               Tigre|    3|       3|        2|       438.17|         347.07|ALQUILER DEPARTAM...|Departamento en a...|       Apartment|          Rent|[-34.400051116943...|470.99999999999994|\n",
            "|2019-12-29|2020-01-11|     Capital Federal|             Almagro|    2|       1|        1|         45.0|           40.0|2 amb muy comodo ...|Corredor Responsa...|       Apartment|          Rent|[-34.608074188232...|             345.4|\n",
            "|2019-12-29|2020-07-31|     Capital Federal|             Palermo|    2|       1|        1|         45.0|           43.6|Departamento - Pa...|Hermoso departame...|       Apartment|          Rent|[-34.574123382568...|             628.0|\n",
            "|2019-12-29|2020-02-04|            Santa Fe|             Rosario|    2|       2|        1|       438.17|         347.07|         Colon  1200|Amplio departamen...|       Apartment|          Rent|[-32.953746795654...| 97.33999999999999|\n",
            "|2019-12-29|2020-01-24|     Capital Federal|            Recoleta|    3|       2|        1|         64.0|           56.0|ALQUILER 3 AMB, A...|EXCELENTE UBICACI...|       Apartment|          Rent|[-34.588634490966...|             628.0|\n",
            "|2019-12-29|2020-02-15|     Capital Federal|         San Nicolás|    2|       2|        1|       438.17|         347.07|Se alquila Dto du...|Un ambiente (mono...|       Apartment|          Rent|[-34.604598999023...|           171.915|\n",
            "|2019-12-29|2020-03-03|Buenos Aires Cost...|       Mar del Plata|    2|       2|        1|       438.17|         347.07|Departamento 2 Am...|Departamento inte...|       Apartment|          Rent|[-38.013683319091...|             37.68|\n",
            "|2019-12-29|2020-02-17|Buenos Aires Cost...|       Mar del Plata|    3|       3|        2|       438.17|         347.07|DEPARTAMENTO 3 AM...|FEIGELMULLER ESTU...|       Apartment|          Rent|[-38.003520965576...|376.79999999999995|\n",
            "|2019-12-29|2020-01-26|Bs.As. G.B.A. Zon...|       Vicente López|    2|       1|        1|         48.0|           40.0|departamento 2 am...|Departamento 2 am...|       Apartment|          Rent|[-34.532951354980...|235.49999999999997|\n",
            "|2019-12-29|2020-01-31|Bs.As. G.B.A. Zon...|     Lomas de Zamora|    1|       0|        1|         50.0|           48.8|Colombres   200 3...|Living comedor, c...|       Apartment|          Rent|[-34.764102935791...|219.79999999999998|\n",
            "|2019-12-29|2020-07-16|             Tucumán|San Miguel de Tuc...|    4|       2|        1|        100.0|           92.8|Departamento - Sa...|Departamento en v...|       Apartment|          Rent|[-26.820627212524...|282.59999999999997|\n",
            "|2019-12-29|2020-10-23|     Capital Federal|             Almagro|    2|       2|        1|         63.2|           54.0|     Local - Almagro|Amplio local come...|Commercial Space|          Rent|[-34.611446380615...|219.79999999999998|\n",
            "+----------+----------+--------------------+--------------------+-----+--------+---------+-------------+---------------+--------------------+--------------------+----------------+--------------+--------------------+------------------+\n",
            "only showing top 20 rows\n",
            "\n"
          ]
        }
      ],
      "source": [
        "df.show()"
      ]
    },
    {
      "cell_type": "markdown",
      "metadata": {
        "id": "7JghEOsZvc8A"
      },
      "source": [
        "We are going to do some preprocessing in order to have the consistent version of it (we did some changes during the machine learning task)."
      ]
    },
    {
      "cell_type": "code",
      "execution_count": 9,
      "metadata": {
        "id": "YP2fi6AKsyJY"
      },
      "outputs": [],
      "source": [
        "df = df.filter(col(\"operation_type\") == \"Sale\")"
      ]
    },
    {
      "cell_type": "code",
      "execution_count": 10,
      "metadata": {
        "colab": {
          "base_uri": "https://localhost:8080/"
        },
        "id": "OCfxyizGujLh",
        "outputId": "4484dde9-ddf5-4d9f-b875-feda0bdd8b9d"
      },
      "outputs": [
        {
          "output_type": "execute_result",
          "data": {
            "text/plain": [
              "210341"
            ]
          },
          "metadata": {},
          "execution_count": 10
        }
      ],
      "source": [
        "df.count()"
      ]
    },
    {
      "cell_type": "code",
      "execution_count": 11,
      "metadata": {
        "id": "h5ETDKcQvGWc"
      },
      "outputs": [],
      "source": [
        "df = df.filter((col(\"amount_in_euro\") <= 9000000000) & (col(\"amount_in_euro\") > 11))"
      ]
    },
    {
      "cell_type": "code",
      "execution_count": 12,
      "metadata": {
        "colab": {
          "base_uri": "https://localhost:8080/"
        },
        "id": "C7QvIjtNvQZ6",
        "outputId": "31937f49-b4b7-4f81-e533-9d7e6d2e7a6b"
      },
      "outputs": [
        {
          "output_type": "execute_result",
          "data": {
            "text/plain": [
              "210339"
            ]
          },
          "metadata": {},
          "execution_count": 12
        }
      ],
      "source": [
        "df.count()"
      ]
    },
    {
      "cell_type": "markdown",
      "metadata": {
        "id": "QF5gVo2-vjWK"
      },
      "source": [
        "We are going to add the unique property id to both datasets using pyspark window function, in order to merge them later."
      ]
    },
    {
      "cell_type": "markdown",
      "metadata": {
        "id": "r5vbu7_5oNnF"
      },
      "source": [
        "# Index"
      ]
    },
    {
      "cell_type": "markdown",
      "metadata": {
        "id": "h6XsWlUXoNnF"
      },
      "source": [
        "## Readable Dataset"
      ]
    },
    {
      "cell_type": "code",
      "execution_count": 13,
      "metadata": {
        "id": "7f40HoChvpfr"
      },
      "outputs": [],
      "source": [
        "# add column called 'id' that contains row numbers from 1 to n\n",
        "w = Window().orderBy(lit('A'))\n",
        "df = df.withColumn('id', row_number().over(w))"
      ]
    },
    {
      "cell_type": "code",
      "execution_count": 14,
      "metadata": {
        "colab": {
          "base_uri": "https://localhost:8080/"
        },
        "id": "4Q67LfzMvztS",
        "outputId": "67a307e0-8dce-421b-d90e-eb5683891e25"
      },
      "outputs": [
        {
          "output_type": "stream",
          "name": "stdout",
          "text": [
            "+----------+----------+--------------------+--------------------+-----+--------+---------+-------------+---------------+--------------------+--------------------+-------------+--------------+--------------------+------------------+---+\n",
            "|start_date|  end_date|                  l2|                  l3|rooms|bedrooms|bathrooms|surface_total|surface_covered|               title|         description|property_type|operation_type|         coordinates|    amount_in_euro| id|\n",
            "+----------+----------+--------------------+--------------------+-----+--------+---------+-------------+---------------+--------------------+--------------------+-------------+--------------+--------------------+------------------+---+\n",
            "|2019-12-29|2020-06-14|Bs.As. G.B.A. Zon...|              Moreno|    2|       2|        1|        300.0|          260.0|Azucena Villaflor...|Excelente oportun...|          Lot|          Sale|[-34.879692077636...| 7064.999999999999|  1|\n",
            "|2019-12-29|2019-12-29|             Mendoza|           Las Heras|    2|       2|        1|       438.17|         347.07|Venta de lote opo...|Excelente oportun...|        Other|          Sale|[-32.825477600097...| 46314.99999999999|  2|\n",
            "|2019-12-29|2020-01-04|            San Juan|            San Juan|    8|       4|        3|        359.0|          298.0|Excelente oportun...|Corredor Responsa...|        House|          Sale|[-31.527658462524...| 62799.99999999999|  3|\n",
            "|2019-12-29|2020-01-08|             Neuquén|               Añelo|    2|       2|        1|        300.0|          260.0|VENTA Terreno San...|Corredor Responsa...|          Lot|          Sale|[-38.627246856689...| 6750.999999999999|  4|\n",
            "|2019-12-29|2020-01-13|             Córdoba|         Santa María|    2|       2|        1|        560.0|          366.8|Se Vende Lote en ...|Corredor Responsa...|          Lot|          Sale|[-31.621995925903...| 5494.999999999999|  5|\n",
            "|2019-12-29|2020-01-21|            Santa Fe|           Esperanza|    2|       1|        1|        670.0|          206.0|Amplia casa en Es...|Corredor Responsa...|        House|          Sale|[-31.413465499877...|           34540.0|  6|\n",
            "|2019-12-29|2020-04-27|            Misiones|             Posadas|    2|       2|        1|       438.17|         347.07|Vendo o permutó, ...|Vendo terreno gra...|        Other|          Sale|[-27.358028411865...| 7849.999999999999|  7|\n",
            "|2019-12-31|2020-04-28|             Neuquén|Rincón de los Sauces|    2|       2|        1|       438.17|         347.07|Vendo vivienda de...|- Inmobiliaria De...|        House|          Sale|[-37.397430419921...|23549.999999999996|  8|\n",
            "|2019-12-31|2020-01-18|Bs.As. G.B.A. Zon...|               Pilar|    2|       2|        1|        275.0|          260.0|Lote de 275 m2. E...|Corredor Responsa...|          Lot|          Sale|[-34.387504577636...| 7064.999999999999|  9|\n",
            "|2019-12-31|9999-12-31|             Córdoba|             Punilla|    2|       2|        1|       438.17|         347.07|  Terreno - La Falda|Soys Inmobiliaria...|          Lot|          Sale|[-31.080308914184...|5381.8814999999995| 10|\n",
            "|2019-12-31|2020-02-13|             Neuquén|            Plottier|    2|       2|        1|        600.0|          221.0| VENTA LOTE PLOTTIER|GRUPO WENGAN MP° ...|          Lot|          Sale|[-38.962383270263...| 7849.999999999999| 11|\n",
            "|2019-12-31|2020-06-27|               Jujuy|         San Antonio|    2|       2|        1|        649.0|          266.0|VENTA TERRENO BOS...|Contacto: Maximil...|          Lot|          Sale|[-24.299505233764...|            8792.0| 12|\n",
            "|2019-12-31|2020-01-08|             Mendoza|            San José|    2|       2|        1|       438.17|         347.07|     Capital Mendoza|RIVAROLA AGOSTINI...|        Other|          Sale|[-32.873050689697...|23549.999999999996| 13|\n",
            "|2019-12-31|2020-04-27|             Córdoba|          Río Cuarto|    2|       2|        1|       438.17|         347.07|Departamento - Ri...|Departamento 50m²...|    Apartment|          Sale|[-33.127326965332...| 51024.99999999999| 14|\n",
            "|2019-12-31|2020-01-21|               Salta|               Salta|    3|       2|        1|        120.0|           90.0|Casa en venta - Z...|Corredor Responsa...|        House|          Sale|[-24.804218292236...|14914.999999999998| 15|\n",
            "|2019-12-25|2020-02-27|Bs.As. G.B.A. Zon...|          Marcos Paz|    2|       2|        1|       438.17|         347.07|8 Lotes en Genera...|8 Lotes de 200 m2...|        Other|          Sale|[-34.736999511718...| 5494.999999999999| 16|\n",
            "|2019-12-25|2020-04-18|            Santa Fe|Villa Gobernador ...|    2|       2|        1|       438.17|         347.07|VENTA - TERRENOS ...|Eco Pueblo - ALVE...|        Other|          Sale|[-33.058921813964...|25904.999999999996| 17|\n",
            "|2019-12-25|2020-04-18|            Santa Fe|Villa Gobernador ...|    2|       2|        1|       438.17|         347.07|ECOPUEBLO. Terren...|Eco Pueblo - ALVE...|        Other|          Sale|[-33.058921813964...|           18369.0| 18|\n",
            "|2019-12-25|2020-04-18|            Santa Fe|             Rosario|    2|       2|        1|       438.17|         347.07|VENTA - DEPARTAME...|*GUEMES 2678 - BA...|    Apartment|          Sale|[-32.931991577148...|          78895.64| 19|\n",
            "|2019-12-25|2020-04-27|            Santa Fe|             Álvarez|    2|       2|        1|       438.17|         347.07|VENDO - TERRENO E...|COMPRA TU TERRENO...|        Other|          Sale|[-34.879692077636...|13344.999999999998| 20|\n",
            "+----------+----------+--------------------+--------------------+-----+--------+---------+-------------+---------------+--------------------+--------------------+-------------+--------------+--------------------+------------------+---+\n",
            "only showing top 20 rows\n",
            "\n"
          ]
        }
      ],
      "source": [
        "df.show()"
      ]
    },
    {
      "cell_type": "markdown",
      "metadata": {
        "id": "-ef3cpjS7tS_"
      },
      "source": [
        "## Sale Dataset - Encoded"
      ]
    },
    {
      "cell_type": "code",
      "execution_count": 15,
      "metadata": {
        "id": "f0oL4SND7wGJ"
      },
      "outputs": [],
      "source": [
        "sale_df = sale_df.withColumn('id', row_number().over(w))"
      ]
    },
    {
      "cell_type": "code",
      "execution_count": 16,
      "metadata": {
        "colab": {
          "base_uri": "https://localhost:8080/"
        },
        "id": "6oMODhGO96ru",
        "outputId": "d4301b77-2e1f-471b-c7f3-a41dabd18ca6"
      },
      "outputs": [
        {
          "output_type": "stream",
          "name": "stdout",
          "text": [
            "+------------+----------+--------+---------+-------------+--------------+----------------+-------------------+-----------------+-------------------------+-----------------------+-----------+-------------------+--------------------+-------------------+--------------------+---------------------+---+\n",
            "|price_bucket|start_year|end_year|is_active|   l3_one_hot|    l2_one_hot|property_one_hot|encoded_start_month|encoded_end_month|encoded_start_day_of_week|encoded_end_day_of_week|geo_cluster|       rooms_scaled|     bedrooms_scaled|   bathrooms_scaled|surface_total_scaled|scaled_final_features| id|\n",
            "+------------+----------+--------+---------+-------------+--------------+----------------+-------------------+-----------------+-------------------------+-----------------------+-----------+-------------------+--------------------+-------------------+--------------------+---------------------+---+\n",
            "|         4.0|      2020|    2020|        0|(4,[0],[1.0])|(27,[2],[1.0])|   (9,[0],[1.0])|     (11,[7],[1.0])|   (11,[7],[1.0])|            (6,[0],[1.0])|          (6,[4],[1.0])|          7|0.10256410256410256| 0.05714285714285714|0.10526315789473684|3.293617918167629...| (17000,[0,1,2,3,6...|  1|\n",
            "|         0.0|      2020|    2021|        1|(4,[1],[1.0])|(27,[0],[1.0])|   (9,[0],[1.0])|     (11,[7],[1.0])|   (11,[0],[1.0])|            (6,[1],[1.0])|          (6,[0],[1.0])|          1|0.02564102564102564|0.014285714285714285|                0.0|3.293617918167629...| (17000,[0,1,3,4,5...|  2|\n",
            "|         2.0|      2020|    2021|        1|(4,[0],[1.0])|(27,[1],[1.0])|   (9,[0],[1.0])|     (11,[8],[1.0])|   (11,[0],[1.0])|            (6,[3],[1.0])|          (6,[0],[1.0])|          7|0.02564102564102564|0.014285714285714285|                0.0|3.293617918167629...| (17000,[0,1,3,4,5...|  3|\n",
            "|         1.0|      2020|    2021|        1|(4,[2],[1.0])|(27,[4],[1.0])|   (9,[0],[1.0])|     (11,[5],[1.0])|   (11,[0],[1.0])|            (6,[0],[1.0])|          (6,[0],[1.0])|          0|0.05128205128205128|0.014285714285714285|                0.0|3.293617918167629...| (17000,[0,2,3,6,7...|  4|\n",
            "|         2.0|      2020|    2021|        1|(4,[0],[1.0])|(27,[5],[1.0])|   (9,[2],[1.0])|     (11,[9],[1.0])|   (11,[0],[1.0])|            (6,[4],[1.0])|          (6,[0],[1.0])|          7|0.05128205128205128| 0.02857142857142857|                0.0|6.707697467459591E-6| (17000,[0,1,2,3,4...|  5|\n",
            "|         4.0|      2020|    2021|        1|(4,[0],[1.0])|(27,[3],[1.0])|   (9,[2],[1.0])|     (11,[9],[1.0])|   (11,[0],[1.0])|            (6,[4],[1.0])|          (6,[0],[1.0])|          7|0.07692307692307693| 0.02857142857142857|0.05263157894736842|3.293617918167629...| (17000,[0,1,2,3,7...|  6|\n",
            "|         2.0|      2020|    2021|        1|(4,[0],[1.0])|(27,[4],[1.0])|   (9,[2],[1.0])|     (11,[8],[1.0])|   (11,[0],[1.0])|            (6,[0],[1.0])|          (6,[0],[1.0])|          0|0.05128205128205128| 0.02857142857142857|                0.0|9.215391704147466E-6| (17000,[0,3,4,9,1...|  7|\n",
            "|         2.0|      2020|    2021|        0|(4,[0],[1.0])|(27,[1],[1.0])|   (9,[0],[1.0])|     (11,[4],[1.0])|   (11,[2],[1.0])|            (6,[2],[1.0])|          (6,[3],[1.0])|          7|0.02564102564102564|0.014285714285714285|                0.0|2.538463491125762...| (17000,[1,2,3,4,5...|  8|\n",
            "|         0.0|      2020|    2021|        1|(4,[0],[1.0])|(27,[0],[1.0])|   (9,[2],[1.0])|     (11,[7],[1.0])|   (11,[0],[1.0])|            (6,[2],[1.0])|          (6,[0],[1.0])|          1|0.05128205128205128|0.014285714285714285|                0.0|2.692309763315202...| (17000,[0,1,2,3,4...|  9|\n",
            "|         2.0|      2020|    2021|        1|(4,[0],[1.0])|(27,[5],[1.0])|   (9,[2],[1.0])|     (11,[5],[1.0])|   (11,[0],[1.0])|            (6,[1],[1.0])|          (6,[0],[1.0])|          7|0.05128205128205128| 0.02857142857142857|0.05263157894736842|3.293617918167629...| (17000,[0,1,2,3,4...| 10|\n",
            "|         1.0|      2020|    2021|        1|(4,[0],[1.0])|(27,[3],[1.0])|   (9,[3],[1.0])|     (11,[8],[1.0])|   (11,[0],[1.0])|            (6,[4],[1.0])|          (6,[0],[1.0])|          7|0.02564102564102564| 0.02857142857142857|                0.0|4.538465029588485E-5| (17000,[2,15,32,6...| 11|\n",
            "|         4.0|      2020|    2020|        0|(4,[3],[1.0])|(27,[2],[1.0])|   (9,[2],[1.0])|     (11,[8],[1.0])|   (11,[9],[1.0])|            (6,[5],[1.0])|          (6,[0],[1.0])|          7|0.05128205128205128| 0.02857142857142857|                0.0|3.293617918167629...| (17000,[0,2,4,9,2...| 12|\n",
            "|         4.0|      2020|    2021|        1|(4,[0],[1.0])|(27,[1],[1.0])|   (9,[4],[1.0])|     (11,[8],[1.0])|   (11,[0],[1.0])|            (6,[3],[1.0])|          (6,[0],[1.0])|          7|0.07692307692307693| 0.02857142857142857|0.05263157894736842|1.230770177515521...| (17000,[0,1,3,4,5...| 13|\n",
            "|         1.0|      2020|    2020|        0|(4,[0],[1.0])|(27,[2],[1.0])|   (9,[0],[1.0])|     (11,[5],[1.0])|   (11,[7],[1.0])|            (6,[0],[1.0])|          (6,[4],[1.0])|          7|                0.0|0.014285714285714285|                0.0|3.293617918167629...| (17000,[1,2,3,6,1...| 14|\n",
            "|         3.0|      2020|    2020|        0|(4,[0],[1.0])|(27,[2],[1.0])|   (9,[2],[1.0])|     (11,[6],[1.0])|   (11,[8],[1.0])|            (6,[5],[1.0])|          (6,[5],[1.0])|          7|0.05128205128205128| 0.02857142857142857|0.05263157894736842|3.293617918167629...| (17000,[0,1,2,3,8...| 15|\n",
            "|         3.0|      2020|    2021|        1|(4,[0],[1.0])|(27,[0],[1.0])|   (9,[2],[1.0])|     (11,[4],[1.0])|   (11,[0],[1.0])|                (6,[],[])|          (6,[0],[1.0])|          1| 0.1282051282051282| 0.04285714285714286|0.05263157894736842|3.293617918167629...| (17000,[3,5,9,10,...| 16|\n",
            "|         0.0|      2020|    2020|        0|(4,[2],[1.0])|(27,[4],[1.0])|   (9,[7],[1.0])|     (11,[2],[1.0])|   (11,[3],[1.0])|            (6,[0],[1.0])|          (6,[4],[1.0])|          0|0.02564102564102564| 0.02857142857142857|                0.0|3.293617918167629...| (17000,[2,16,17,3...| 17|\n",
            "|         2.0|      2020|    2020|        0|(4,[0],[1.0])|(27,[1],[1.0])|   (9,[3],[1.0])|     (11,[6],[1.0])|   (11,[8],[1.0])|            (6,[0],[1.0])|          (6,[0],[1.0])|          7|                0.0|                 0.0|                0.0|3.293617918167629...| (17000,[2,4,15,16...| 18|\n",
            "|         1.0|      2020|    2020|        0|(4,[0],[1.0])|(27,[2],[1.0])|   (9,[3],[1.0])|     (11,[6],[1.0])|   (11,[8],[1.0])|            (6,[4],[1.0])|          (6,[1],[1.0])|          7|                0.0|                 0.0|                0.0|3.293617918167629...| (17000,[2,15,32,3...| 19|\n",
            "|         3.0|      2020|    2021|        0|(4,[2],[1.0])|(27,[4],[1.0])|   (9,[0],[1.0])|     (11,[8],[1.0])|   (11,[6],[1.0])|            (6,[1],[1.0])|          (6,[2],[1.0])|          0|0.02564102564102564|0.014285714285714285|                0.0|4.769234437872645E-6| (17000,[0,1,2,3,4...| 20|\n",
            "+------------+----------+--------+---------+-------------+--------------+----------------+-------------------+-----------------+-------------------------+-----------------------+-----------+-------------------+--------------------+-------------------+--------------------+---------------------+---+\n",
            "only showing top 20 rows\n",
            "\n"
          ]
        }
      ],
      "source": [
        "sale_df.show()"
      ]
    },
    {
      "cell_type": "markdown",
      "source": [
        "Final_features are the numeric representation of each property's description so we have scaled them. This is necessary as different features can have varying ranges and scaling them helps in normalizing these differences.\n",
        "This step prepares the dataset for more effective similarity calculations by ensuring that all features contribute equally, improving the quality of recommendations in the recommendation system."
      ],
      "metadata": {
        "id": "_YCSYcQgoWxQ"
      }
    },
    {
      "cell_type": "code",
      "execution_count": 17,
      "metadata": {
        "id": "-L6zKX6t-F2S"
      },
      "outputs": [],
      "source": [
        "# reorder the features in order to have id first\n",
        "sale_df = sale_df.select(\"id\", \"scaled_final_features\", \"start_year\", \"end_year\", \"is_active\", \"l3_one_hot\", \"l2_one_hot\", \"property_one_hot\", \\\n",
        "               \"encoded_start_month\", \"encoded_end_month\", \"encoded_start_day_of_week\",  \"encoded_end_day_of_week\", \"geo_cluster\", \"rooms_scaled\", \\\n",
        "               \"bedrooms_scaled\", \"bathrooms_scaled\", \"surface_total_scaled\", \"price_bucket\")"
      ]
    },
    {
      "cell_type": "code",
      "execution_count": 18,
      "metadata": {
        "colab": {
          "base_uri": "https://localhost:8080/"
        },
        "id": "POV_TJNC-0eZ",
        "outputId": "a84c146a-8cb2-4879-c434-6cb82c62cd4c"
      },
      "outputs": [
        {
          "output_type": "stream",
          "name": "stdout",
          "text": [
            "+---+---------------------+----------+--------+---------+-------------+--------------+----------------+-------------------+-----------------+-------------------------+-----------------------+-----------+-------------------+--------------------+-------------------+--------------------+------------+\n",
            "| id|scaled_final_features|start_year|end_year|is_active|   l3_one_hot|    l2_one_hot|property_one_hot|encoded_start_month|encoded_end_month|encoded_start_day_of_week|encoded_end_day_of_week|geo_cluster|       rooms_scaled|     bedrooms_scaled|   bathrooms_scaled|surface_total_scaled|price_bucket|\n",
            "+---+---------------------+----------+--------+---------+-------------+--------------+----------------+-------------------+-----------------+-------------------------+-----------------------+-----------+-------------------+--------------------+-------------------+--------------------+------------+\n",
            "|  1| (17000,[0,1,2,3,6...|      2020|    2020|        0|(4,[0],[1.0])|(27,[2],[1.0])|   (9,[0],[1.0])|     (11,[7],[1.0])|   (11,[7],[1.0])|            (6,[0],[1.0])|          (6,[4],[1.0])|          7|0.10256410256410256| 0.05714285714285714|0.10526315789473684|3.293617918167629...|         4.0|\n",
            "|  2| (17000,[0,1,3,4,5...|      2020|    2021|        1|(4,[1],[1.0])|(27,[0],[1.0])|   (9,[0],[1.0])|     (11,[7],[1.0])|   (11,[0],[1.0])|            (6,[1],[1.0])|          (6,[0],[1.0])|          1|0.02564102564102564|0.014285714285714285|                0.0|3.293617918167629...|         0.0|\n",
            "|  3| (17000,[0,1,3,4,5...|      2020|    2021|        1|(4,[0],[1.0])|(27,[1],[1.0])|   (9,[0],[1.0])|     (11,[8],[1.0])|   (11,[0],[1.0])|            (6,[3],[1.0])|          (6,[0],[1.0])|          7|0.02564102564102564|0.014285714285714285|                0.0|3.293617918167629...|         2.0|\n",
            "|  4| (17000,[0,2,3,6,7...|      2020|    2021|        1|(4,[2],[1.0])|(27,[4],[1.0])|   (9,[0],[1.0])|     (11,[5],[1.0])|   (11,[0],[1.0])|            (6,[0],[1.0])|          (6,[0],[1.0])|          0|0.05128205128205128|0.014285714285714285|                0.0|3.293617918167629...|         1.0|\n",
            "|  5| (17000,[0,1,2,3,4...|      2020|    2021|        1|(4,[0],[1.0])|(27,[5],[1.0])|   (9,[2],[1.0])|     (11,[9],[1.0])|   (11,[0],[1.0])|            (6,[4],[1.0])|          (6,[0],[1.0])|          7|0.05128205128205128| 0.02857142857142857|                0.0|6.707697467459591E-6|         2.0|\n",
            "|  6| (17000,[0,1,2,3,7...|      2020|    2021|        1|(4,[0],[1.0])|(27,[3],[1.0])|   (9,[2],[1.0])|     (11,[9],[1.0])|   (11,[0],[1.0])|            (6,[4],[1.0])|          (6,[0],[1.0])|          7|0.07692307692307693| 0.02857142857142857|0.05263157894736842|3.293617918167629...|         4.0|\n",
            "|  7| (17000,[0,3,4,9,1...|      2020|    2021|        1|(4,[0],[1.0])|(27,[4],[1.0])|   (9,[2],[1.0])|     (11,[8],[1.0])|   (11,[0],[1.0])|            (6,[0],[1.0])|          (6,[0],[1.0])|          0|0.05128205128205128| 0.02857142857142857|                0.0|9.215391704147466E-6|         2.0|\n",
            "|  8| (17000,[1,2,3,4,5...|      2020|    2021|        0|(4,[0],[1.0])|(27,[1],[1.0])|   (9,[0],[1.0])|     (11,[4],[1.0])|   (11,[2],[1.0])|            (6,[2],[1.0])|          (6,[3],[1.0])|          7|0.02564102564102564|0.014285714285714285|                0.0|2.538463491125762...|         2.0|\n",
            "|  9| (17000,[0,1,2,3,4...|      2020|    2021|        1|(4,[0],[1.0])|(27,[0],[1.0])|   (9,[2],[1.0])|     (11,[7],[1.0])|   (11,[0],[1.0])|            (6,[2],[1.0])|          (6,[0],[1.0])|          1|0.05128205128205128|0.014285714285714285|                0.0|2.692309763315202...|         0.0|\n",
            "| 10| (17000,[0,1,2,3,4...|      2020|    2021|        1|(4,[0],[1.0])|(27,[5],[1.0])|   (9,[2],[1.0])|     (11,[5],[1.0])|   (11,[0],[1.0])|            (6,[1],[1.0])|          (6,[0],[1.0])|          7|0.05128205128205128| 0.02857142857142857|0.05263157894736842|3.293617918167629...|         2.0|\n",
            "| 11| (17000,[2,15,32,6...|      2020|    2021|        1|(4,[0],[1.0])|(27,[3],[1.0])|   (9,[3],[1.0])|     (11,[8],[1.0])|   (11,[0],[1.0])|            (6,[4],[1.0])|          (6,[0],[1.0])|          7|0.02564102564102564| 0.02857142857142857|                0.0|4.538465029588485E-5|         1.0|\n",
            "| 12| (17000,[0,2,4,9,2...|      2020|    2020|        0|(4,[3],[1.0])|(27,[2],[1.0])|   (9,[2],[1.0])|     (11,[8],[1.0])|   (11,[9],[1.0])|            (6,[5],[1.0])|          (6,[0],[1.0])|          7|0.05128205128205128| 0.02857142857142857|                0.0|3.293617918167629...|         4.0|\n",
            "| 13| (17000,[0,1,3,4,5...|      2020|    2021|        1|(4,[0],[1.0])|(27,[1],[1.0])|   (9,[4],[1.0])|     (11,[8],[1.0])|   (11,[0],[1.0])|            (6,[3],[1.0])|          (6,[0],[1.0])|          7|0.07692307692307693| 0.02857142857142857|0.05263157894736842|1.230770177515521...|         4.0|\n",
            "| 14| (17000,[1,2,3,6,1...|      2020|    2020|        0|(4,[0],[1.0])|(27,[2],[1.0])|   (9,[0],[1.0])|     (11,[5],[1.0])|   (11,[7],[1.0])|            (6,[0],[1.0])|          (6,[4],[1.0])|          7|                0.0|0.014285714285714285|                0.0|3.293617918167629...|         1.0|\n",
            "| 15| (17000,[0,1,2,3,8...|      2020|    2020|        0|(4,[0],[1.0])|(27,[2],[1.0])|   (9,[2],[1.0])|     (11,[6],[1.0])|   (11,[8],[1.0])|            (6,[5],[1.0])|          (6,[5],[1.0])|          7|0.05128205128205128| 0.02857142857142857|0.05263157894736842|3.293617918167629...|         3.0|\n",
            "| 16| (17000,[3,5,9,10,...|      2020|    2021|        1|(4,[0],[1.0])|(27,[0],[1.0])|   (9,[2],[1.0])|     (11,[4],[1.0])|   (11,[0],[1.0])|                (6,[],[])|          (6,[0],[1.0])|          1| 0.1282051282051282| 0.04285714285714286|0.05263157894736842|3.293617918167629...|         3.0|\n",
            "| 17| (17000,[2,16,17,3...|      2020|    2020|        0|(4,[2],[1.0])|(27,[4],[1.0])|   (9,[7],[1.0])|     (11,[2],[1.0])|   (11,[3],[1.0])|            (6,[0],[1.0])|          (6,[4],[1.0])|          0|0.02564102564102564| 0.02857142857142857|                0.0|3.293617918167629...|         0.0|\n",
            "| 18| (17000,[2,4,15,16...|      2020|    2020|        0|(4,[0],[1.0])|(27,[1],[1.0])|   (9,[3],[1.0])|     (11,[6],[1.0])|   (11,[8],[1.0])|            (6,[0],[1.0])|          (6,[0],[1.0])|          7|                0.0|                 0.0|                0.0|3.293617918167629...|         2.0|\n",
            "| 19| (17000,[2,15,32,3...|      2020|    2020|        0|(4,[0],[1.0])|(27,[2],[1.0])|   (9,[3],[1.0])|     (11,[6],[1.0])|   (11,[8],[1.0])|            (6,[4],[1.0])|          (6,[1],[1.0])|          7|                0.0|                 0.0|                0.0|3.293617918167629...|         1.0|\n",
            "| 20| (17000,[0,1,2,3,4...|      2020|    2021|        0|(4,[2],[1.0])|(27,[4],[1.0])|   (9,[0],[1.0])|     (11,[8],[1.0])|   (11,[6],[1.0])|            (6,[1],[1.0])|          (6,[2],[1.0])|          0|0.02564102564102564|0.014285714285714285|                0.0|4.769234437872645E-6|         3.0|\n",
            "+---+---------------------+----------+--------+---------+-------------+--------------+----------------+-------------------+-----------------+-------------------------+-----------------------+-----------+-------------------+--------------------+-------------------+--------------------+------------+\n",
            "only showing top 20 rows\n",
            "\n"
          ]
        }
      ],
      "source": [
        "sale_df.show()"
      ]
    },
    {
      "cell_type": "code",
      "execution_count": 19,
      "metadata": {
        "colab": {
          "base_uri": "https://localhost:8080/"
        },
        "id": "yeHYQTdDCDkE",
        "outputId": "9a7a0d63-43c9-4648-b363-778ecc84bacb"
      },
      "outputs": [
        {
          "output_type": "execute_result",
          "data": {
            "text/plain": [
              "210339"
            ]
          },
          "metadata": {},
          "execution_count": 19
        }
      ],
      "source": [
        "sale_df.count()"
      ]
    },
    {
      "cell_type": "markdown",
      "metadata": {
        "id": "7QsioCVg7ZWh"
      },
      "source": [
        "# Feature Vector Construction"
      ]
    },
    {
      "cell_type": "markdown",
      "metadata": {
        "id": "WnEMLdBE7c2h"
      },
      "source": [
        "The goal of constructing a feature vector is to combine all relevant features into a single vector that represents each property. This vector is then utilized for calculating similarities between properties in the recommendation system.\n",
        "\n",
        "This process is vital for ensuring that the properties are represented in a way that enhances the effectiveness and accuracy of the recommendation system, leveraging both numerical and categorical data to identify the most similar properties based on a variety of characteristics."
      ]
    },
    {
      "cell_type": "code",
      "execution_count": 20,
      "metadata": {
        "id": "4S47asS83P-q"
      },
      "outputs": [],
      "source": [
        "# list with both scaled numeric features and categorical features that have been one-hot encoded\n",
        "feature_columns = [\n",
        "    'scaled_final_features', 'price_bucket', 'l3_one_hot', 'l2_one_hot', 'property_one_hot',\n",
        "    'encoded_start_month', 'encoded_end_month', 'encoded_start_day_of_week', 'encoded_end_day_of_week',\n",
        "    'rooms_scaled', 'bedrooms_scaled', 'bathrooms_scaled', 'surface_total_scaled']\n",
        "\n",
        "# VectorAssembler is a transformer that combines a given list of columns into a single vector column\n",
        "assembler = VectorAssembler(inputCols=feature_columns, outputCol=\"features\")\n",
        "sale_df = assembler.transform(sale_df) # trasform df"
      ]
    },
    {
      "cell_type": "markdown",
      "metadata": {
        "id": "RZprbAutoNnI"
      },
      "source": [
        "# Sample"
      ]
    },
    {
      "cell_type": "markdown",
      "metadata": {
        "id": "PaB3qtaGoNnI"
      },
      "source": [
        "Unfortunately, due to constraints in computational resources and to ensure the system remains performant, we decided to proceed with only 10% of the full dataset.\n",
        "\n",
        ":(\n",
        "\n",
        "Fortunately, as we will see later on, the results weren't that disappointing.\n",
        "\n",
        ":)"
      ]
    },
    {
      "cell_type": "code",
      "execution_count": 21,
      "metadata": {
        "id": "9QZDXxvWYWxi"
      },
      "outputs": [],
      "source": [
        "sale_df = sale_df.sample(fraction=0.1, seed=1234)"
      ]
    },
    {
      "cell_type": "code",
      "execution_count": 22,
      "metadata": {
        "colab": {
          "base_uri": "https://localhost:8080/"
        },
        "id": "jfjdclMfmxib",
        "outputId": "b960fd0f-c99b-45c6-8f28-456b8717f935"
      },
      "outputs": [
        {
          "output_type": "stream",
          "name": "stdout",
          "text": [
            "+---+\n",
            "| id|\n",
            "+---+\n",
            "| 31|\n",
            "| 36|\n",
            "| 38|\n",
            "| 47|\n",
            "| 51|\n",
            "| 55|\n",
            "| 61|\n",
            "| 63|\n",
            "| 88|\n",
            "| 89|\n",
            "| 93|\n",
            "| 98|\n",
            "|121|\n",
            "|132|\n",
            "|134|\n",
            "|142|\n",
            "|143|\n",
            "|165|\n",
            "|171|\n",
            "|174|\n",
            "+---+\n",
            "only showing top 20 rows\n",
            "\n"
          ]
        }
      ],
      "source": [
        "sale_df.select(\"id\").show()"
      ]
    },
    {
      "cell_type": "markdown",
      "metadata": {
        "id": "aBXD4ZF1oNnJ"
      },
      "source": [
        "**Example:**\n",
        "\n",
        "For demonstration purposes, we select an example property from the sampled dataset. Recommendations for this property will showcase how the system can identify and suggest similar properties based on the learned features."
      ]
    },
    {
      "cell_type": "code",
      "execution_count": 23,
      "metadata": {
        "id": "L-5Eu__zz2rf"
      },
      "outputs": [],
      "source": [
        "property_id = sale_df.first()[\"id\"]"
      ]
    },
    {
      "cell_type": "code",
      "execution_count": 24,
      "metadata": {
        "colab": {
          "base_uri": "https://localhost:8080/"
        },
        "id": "Hmau3_eU1BYh",
        "outputId": "2926d8e1-6c8a-4a94-e537-d58ff81f5d3d"
      },
      "outputs": [
        {
          "output_type": "execute_result",
          "data": {
            "text/plain": [
              "31"
            ]
          },
          "metadata": {},
          "execution_count": 24
        }
      ],
      "source": [
        "property_id"
      ]
    },
    {
      "cell_type": "markdown",
      "metadata": {
        "id": "a00-IkXjoNnJ"
      },
      "source": [
        "# Normalization"
      ]
    },
    {
      "cell_type": "markdown",
      "metadata": {
        "id": "e41HlT2LYP0B"
      },
      "source": [
        "We have to ensure that our feature vectors are normalized. This simplifies the cosine similarity to just a dot product since cosine similarity between two normalized vectors A and B is just their dot product. This simplifies and speeds up the computation significantly."
      ]
    },
    {
      "cell_type": "code",
      "execution_count": 25,
      "metadata": {
        "id": "elzpk96RYPXW"
      },
      "outputs": [],
      "source": [
        "# initialize the Normalizer which will be used to normalize the feature vectors\n",
        "normalizer = Normalizer(inputCol=\"features\", outputCol=\"normFeatures\")\n",
        "sale_df = normalizer.transform(sale_df) # transform sale df\n"
      ]
    },
    {
      "cell_type": "code",
      "execution_count": 26,
      "metadata": {
        "colab": {
          "base_uri": "https://localhost:8080/"
        },
        "id": "Afn56UX-arkm",
        "outputId": "bf999595-61b8-415a-e71b-5f803a792020"
      },
      "outputs": [
        {
          "output_type": "execute_result",
          "data": {
            "text/plain": [
              "DataFrame[id: int, scaled_final_features: vector, start_year: int, end_year: int, is_active: int, l3_one_hot: vector, l2_one_hot: vector, property_one_hot: vector, encoded_start_month: vector, encoded_end_month: vector, encoded_start_day_of_week: vector, encoded_end_day_of_week: vector, geo_cluster: int, rooms_scaled: double, bedrooms_scaled: double, bathrooms_scaled: double, surface_total_scaled: double, price_bucket: double, features: vector, normFeatures: vector]"
            ]
          },
          "metadata": {},
          "execution_count": 26
        }
      ],
      "source": [
        "#  caching the df to optimize performance as it will be accessed multiple times during the recommendation process\n",
        "sale_df.cache()"
      ]
    },
    {
      "cell_type": "code",
      "execution_count": 27,
      "metadata": {
        "id": "Cyzijglurqho"
      },
      "outputs": [],
      "source": [
        "# repartitioning the df by 'id' to optimize the layout of data across the cluster, improving the efficiency of the query operations that follow\n",
        "sale_df = sale_df.repartition(50, \"id\")"
      ]
    },
    {
      "cell_type": "markdown",
      "metadata": {
        "id": "HtBlcofwAfhi"
      },
      "source": [
        "# Similarity-Based Recommender"
      ]
    },
    {
      "cell_type": "markdown",
      "metadata": {
        "id": "9WIieVRJA_SV"
      },
      "source": [
        "Since we are not dealing with user interactions but rather with item similarity, traditional collaborative filtering techniques like ALS (Alternating Least Squares) may not be suitable. Instead, we can focus on content-based filtering using the feature vectors we've constructed. By focusing on content-based filtering, the system can make precise recommendations based on detailed property features.\n"
      ]
    },
    {
      "cell_type": "code",
      "execution_count": 28,
      "metadata": {
        "id": "Sfm6uVBS3P5-"
      },
      "outputs": [],
      "source": [
        "# UDF for calculating cosine similarity between two feature vectors\n",
        "def cosine_similarity(x, y):\n",
        "    return float(1 - cosine(np.array(x), np.array(y))) # convert vectors to numpy arrays and compute the cosine similarity\n"
      ]
    },
    {
      "cell_type": "code",
      "execution_count": 29,
      "metadata": {
        "id": "ximLbncW3P3a"
      },
      "outputs": [],
      "source": [
        "# udf\n",
        "cosine_similarity_udf = udf(cosine_similarity, FloatType())"
      ]
    },
    {
      "cell_type": "markdown",
      "metadata": {
        "id": "YEr2IHSkpnkG"
      },
      "source": [
        "Function to recommend properties based on similarity of feature vectors"
      ]
    },
    {
      "cell_type": "code",
      "execution_count": 30,
      "metadata": {
        "id": "O2oWT3pyAnHc"
      },
      "outputs": [],
      "source": [
        "def recommend_properties(property_id, num_recommendations=10):\n",
        "    try:\n",
        "        # retrieve the feature vector for the specified property\n",
        "        target_feature_vector = sale_df.filter(col(\"id\") == property_id).select(\"features\").first()\n",
        "        if target_feature_vector is None:\n",
        "            return f\"No property found with ID {property_id}\"\n",
        "\n",
        "        # convert the sparse vector to a numpy array for similarity computation\n",
        "        target_feature_vector = target_feature_vector[\"features\"].toArray()\n",
        "\n",
        "        # broadcast the target feature vector to all nodes to minimize data transfer during similarity calculations\n",
        "        broadcast_vector = spark.sparkContext.broadcast(target_feature_vector)\n",
        "\n",
        "        # calculate the similarity of the broadcasted vector with all properties' feature vectors\n",
        "        similarities = sale_df.withColumn(\"similarity\", cosine_similarity_udf(col(\"features\"), lit(broadcast_vector.value)))\n",
        "\n",
        "        # get the top properties ordered by their similarity scores, excluding the property itself\n",
        "        recommendations = similarities.orderBy(\"similarity\", ascending=False).limit(num_recommendations + 1)\n",
        "        recommendations = recommendations.filter(col(\"id\") != property_id)\n",
        "\n",
        "        return recommendations.select(\"id\", \"similarity\")\n",
        "\n",
        "    # handle exceptions\n",
        "    except Exception as e:\n",
        "        return f\"An error occurred: {str(e)}\"\n"
      ]
    },
    {
      "cell_type": "code",
      "execution_count": 31,
      "metadata": {
        "id": "W6Sz-TX88N_U"
      },
      "outputs": [],
      "source": [
        "recommended_properties = recommend_properties(property_id).cache()"
      ]
    },
    {
      "cell_type": "code",
      "execution_count": 32,
      "metadata": {
        "colab": {
          "base_uri": "https://localhost:8080/"
        },
        "id": "vHwuarIdX8lx",
        "outputId": "e205eefb-79b5-4c04-c0cd-3f334e7ee734"
      },
      "outputs": [
        {
          "output_type": "stream",
          "name": "stdout",
          "text": [
            "+------+----------+\n",
            "|    id|similarity|\n",
            "+------+----------+\n",
            "| 15503|  0.910231|\n",
            "| 23616| 0.8911548|\n",
            "| 20686| 0.8837744|\n",
            "|103114| 0.8835265|\n",
            "|153171|0.87793225|\n",
            "|107779| 0.8747517|\n",
            "|115588| 0.8681503|\n",
            "| 19007| 0.8631911|\n",
            "|181483|0.86172354|\n",
            "|140950| 0.8527636|\n",
            "+------+----------+\n",
            "\n"
          ]
        }
      ],
      "source": [
        "recommended_properties.show()"
      ]
    },
    {
      "cell_type": "markdown",
      "metadata": {
        "id": "rrN1wil7oNnL"
      },
      "source": [
        "As we can observe, the scores of the recommended properties are quite high, meaning that the recommendation system, can efficiently suggest similar properties, compared to the specified one. In a real case scenario, such similarity metrics can help users discover properties that match their preferences or needs closely."
      ]
    },
    {
      "cell_type": "markdown",
      "metadata": {
        "id": "-OtAR608xtWw"
      },
      "source": [
        "# Merge Datasets"
      ]
    },
    {
      "cell_type": "markdown",
      "metadata": {
        "id": "lMSTIRwyoNnM"
      },
      "source": [
        "We merge the two datasets, in order to get a detailed description in a readable representation for each recommended property."
      ]
    },
    {
      "cell_type": "code",
      "execution_count": 33,
      "metadata": {
        "id": "KF9QRXkIq1qT"
      },
      "outputs": [],
      "source": [
        "merged_df = recommended_properties.join(df, \"id\")"
      ]
    },
    {
      "cell_type": "code",
      "execution_count": 34,
      "metadata": {
        "colab": {
          "base_uri": "https://localhost:8080/"
        },
        "id": "6FfNr-qUzQpO",
        "outputId": "2497bc0a-18e4-4492-92aa-ddf9fee5d2d8"
      },
      "outputs": [
        {
          "output_type": "stream",
          "name": "stdout",
          "text": [
            "+------+----------+----------+----------+--------------------+---------------+-----+--------+---------+-------------+---------------+--------------------+--------------------+-------------+--------------+--------------------+--------------+\n",
            "|    id|similarity|start_date|  end_date|                  l2|             l3|rooms|bedrooms|bathrooms|surface_total|surface_covered|               title|         description|property_type|operation_type|         coordinates|amount_in_euro|\n",
            "+------+----------+----------+----------+--------------------+---------------+-----+--------+---------+-------------+---------------+--------------------+--------------------+-------------+--------------+--------------------+--------------+\n",
            "| 15503|  0.910231|2020-06-20|2020-06-20|     Capital Federal|   Barrio Norte|    3|       2|        1|         78.0|           62.0|Excelente inmuebl...|RETASADO OPORTUNI...|    Apartment|          Sale|[-34.879692077636...|      137080.0|\n",
            "| 19007| 0.8631911|2020-03-15|2020-03-16|Buenos Aires Cost...|  Mar del Plata|    3|       3|        2|       438.17|         347.07|Impecable 3 ambie...|Impecable  Piso d...|        Other|          Sale|[-38.010562896728...|      144440.0|\n",
            "| 20686| 0.8837744|2020-04-12|2020-04-13|Buenos Aires Cost...|  Mar del Plata|    3|       3|        2|       438.17|         347.07|Casa 4 amb con co...|Casa 4 amb.  con ...|        Other|          Sale|[-38.025199890136...|       41400.0|\n",
            "| 23616| 0.8911548|2020-04-30|2020-09-23|Bs.As. G.B.A. Zon...|Lomas de Zamora|    2|       2|        1|         12.0|           12.0|Manuel Castro  80...|COCHERA CUBIERTA ...|       Garage|          Sale|[-34.750175476074...|       18400.0|\n",
            "|103114| 0.8835265|2020-03-07|2020-10-03|     Capital Federal|       Belgrano|    5|       3|        2|        200.0|          170.0|VENTA DEPARTAMENT...|Corredor Responsa...|    Apartment|          Sale|[-34.558422088623...|      409400.0|\n",
            "|107779| 0.8747517|2020-02-25|9999-12-31|             Córdoba|      Malagueño|    2|       2|        1|       438.17|         347.07|Terreno a la Vent...|Terreno en Venta ...|          Lot|          Sale|[-31.465902328491...|      644000.0|\n",
            "|115588| 0.8681503|2020-03-20|2020-03-20|Bs.As. G.B.A. Zon...|          Morón|    3|       3|        2|       438.17|         347.07|Casa con Departam...|Venta de Casa 6 A...|        Other|          Sale|[-34.646434783935...|      303600.0|\n",
            "|140950| 0.8527636|2020-11-20|9999-12-31|            Santa Fe|        Rosario|    5|       3|        1|       438.17|         347.07|Casa venta 3 dorm...|<b>Casa venta 3 d...|        House|          Sale|[-32.881641387939...|       36400.0|\n",
            "|153171|0.87793225|2020-12-31|9999-12-31|Bs.As. G.B.A. Zon...|    Berazategui|    2|       1|        1|       438.17|         347.07|Departamento en V...|Departamento en G...|    Apartment|          Sale|[-34.879692077636...|      163800.0|\n",
            "|181483|0.86172354|2020-07-26|2020-10-05|     Capital Federal|       Recoleta|    1|       0|        1|         30.0|           27.0|Departamento - Re...|Venta de departam...|    Apartment|          Sale|[-34.599971771240...|       66430.0|\n",
            "+------+----------+----------+----------+--------------------+---------------+-----+--------+---------+-------------+---------------+--------------------+--------------------+-------------+--------------+--------------------+--------------+\n",
            "\n"
          ]
        }
      ],
      "source": [
        "merged_df.show()"
      ]
    },
    {
      "cell_type": "markdown",
      "metadata": {
        "id": "r_gZNgm0WpT2"
      },
      "source": [
        "Recommendation Score: It confirms that the system can identify properties similar to a given reference, validated by similarity scores.\n",
        "\n",
        "Information Richness: The extensive details accompanying each recommendation enhance transparency and trust, enabling users to understand why these properties were suggested.\n"
      ]
    },
    {
      "cell_type": "markdown",
      "metadata": {
        "id": "dDONW-UnoNnM"
      },
      "source": [
        "Last but not least,we implemented one more recommendation system. The main idea of this, is to create \"ground truth\" by using KMeans Clustering, train on training set and get recommendations and then test that the recommendations are in the same cluster as the specified property id. The results may not be reliable, as we do not have an actual label."
      ]
    },
    {
      "cell_type": "code",
      "source": [],
      "metadata": {
        "id": "urTT6TbZzxrK"
      },
      "execution_count": null,
      "outputs": []
    }
  ],
  "metadata": {
    "colab": {
      "provenance": [],
      "toc_visible": true
    },
    "kernelspec": {
      "display_name": "Python 3",
      "name": "python3"
    },
    "language_info": {
      "name": "python"
    }
  },
  "nbformat": 4,
  "nbformat_minor": 0
}
