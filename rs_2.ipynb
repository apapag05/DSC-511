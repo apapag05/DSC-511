{
  "cells": [
    {
      "cell_type": "markdown",
      "metadata": {
        "id": "TM1yOexQ2-VD"
      },
      "source": [
        "# **Recommendation Systems**"
      ]
    },
    {
      "cell_type": "markdown",
      "source": [
        "The main idea of this file, is to create \"ground truth\" by using KMeans Clustering, train on training set and get recommendations and then test that the recommendations are in the same cluster as the specified property id. We are not going to analyze much the file as we are not sure if the results are reliable. We couldnt figure out a good way to implement the code since we didnt have label column for evaluating our recommendations."
      ],
      "metadata": {
        "id": "qyWnjUiu0_2W"
      }
    },
    {
      "cell_type": "code",
      "execution_count": 1,
      "metadata": {
        "id": "vd7xHm-K3XDD",
        "colab": {
          "base_uri": "https://localhost:8080/"
        },
        "outputId": "f5e25435-0294-486d-8867-f65229a58d88"
      },
      "outputs": [
        {
          "output_type": "stream",
          "name": "stdout",
          "text": [
            "Requirement already satisfied: pyspark in /usr/local/lib/python3.10/dist-packages (3.5.1)\n",
            "Requirement already satisfied: seaborn in /usr/local/lib/python3.10/dist-packages (0.13.1)\n",
            "Requirement already satisfied: py4j==0.10.9.7 in /usr/local/lib/python3.10/dist-packages (from pyspark) (0.10.9.7)\n",
            "Requirement already satisfied: numpy!=1.24.0,>=1.20 in /usr/local/lib/python3.10/dist-packages (from seaborn) (1.25.2)\n",
            "Requirement already satisfied: pandas>=1.2 in /usr/local/lib/python3.10/dist-packages (from seaborn) (2.0.3)\n",
            "Requirement already satisfied: matplotlib!=3.6.1,>=3.4 in /usr/local/lib/python3.10/dist-packages (from seaborn) (3.7.1)\n",
            "Requirement already satisfied: contourpy>=1.0.1 in /usr/local/lib/python3.10/dist-packages (from matplotlib!=3.6.1,>=3.4->seaborn) (1.2.1)\n",
            "Requirement already satisfied: cycler>=0.10 in /usr/local/lib/python3.10/dist-packages (from matplotlib!=3.6.1,>=3.4->seaborn) (0.12.1)\n",
            "Requirement already satisfied: fonttools>=4.22.0 in /usr/local/lib/python3.10/dist-packages (from matplotlib!=3.6.1,>=3.4->seaborn) (4.51.0)\n",
            "Requirement already satisfied: kiwisolver>=1.0.1 in /usr/local/lib/python3.10/dist-packages (from matplotlib!=3.6.1,>=3.4->seaborn) (1.4.5)\n",
            "Requirement already satisfied: packaging>=20.0 in /usr/local/lib/python3.10/dist-packages (from matplotlib!=3.6.1,>=3.4->seaborn) (24.0)\n",
            "Requirement already satisfied: pillow>=6.2.0 in /usr/local/lib/python3.10/dist-packages (from matplotlib!=3.6.1,>=3.4->seaborn) (9.4.0)\n",
            "Requirement already satisfied: pyparsing>=2.3.1 in /usr/local/lib/python3.10/dist-packages (from matplotlib!=3.6.1,>=3.4->seaborn) (3.1.2)\n",
            "Requirement already satisfied: python-dateutil>=2.7 in /usr/local/lib/python3.10/dist-packages (from matplotlib!=3.6.1,>=3.4->seaborn) (2.8.2)\n",
            "Requirement already satisfied: pytz>=2020.1 in /usr/local/lib/python3.10/dist-packages (from pandas>=1.2->seaborn) (2023.4)\n",
            "Requirement already satisfied: tzdata>=2022.1 in /usr/local/lib/python3.10/dist-packages (from pandas>=1.2->seaborn) (2024.1)\n",
            "Requirement already satisfied: six>=1.5 in /usr/local/lib/python3.10/dist-packages (from python-dateutil>=2.7->matplotlib!=3.6.1,>=3.4->seaborn) (1.16.0)\n"
          ]
        }
      ],
      "source": [
        "! pip install pyspark seaborn"
      ]
    },
    {
      "cell_type": "code",
      "execution_count": 2,
      "metadata": {
        "id": "BS3r30a029uV"
      },
      "outputs": [],
      "source": [
        "# libraries\n",
        "\n",
        "import sklearn\n",
        "import pandas as pd\n",
        "from pyspark.sql.functions import *\n",
        "from pyspark.sql import SparkSession\n",
        "from pyspark.sql.types import *\n",
        "from pyspark.sql.functions import *\n",
        "from pyspark.sql.window import Window\n",
        "from pyspark.ml.clustering import KMeans\n",
        "from scipy.spatial.distance import cosine"
      ]
    },
    {
      "cell_type": "code",
      "execution_count": 3,
      "metadata": {
        "id": "SnU8mtyL3Ml5",
        "colab": {
          "base_uri": "https://localhost:8080/"
        },
        "outputId": "d1fcafb5-4dad-4cac-c9e9-7f140a761bd1"
      },
      "outputs": [
        {
          "output_type": "stream",
          "name": "stdout",
          "text": [
            "Drive already mounted at /content/gdrive; to attempt to forcibly remount, call drive.mount(\"/content/gdrive\", force_remount=True).\n"
          ]
        }
      ],
      "source": [
        "from google.colab import drive\n",
        "drive.mount('/content/gdrive')\n",
        "google_drive_path = \"/content/gdrive/MyDrive/Colab Notebooks/Project/\""
      ]
    },
    {
      "cell_type": "code",
      "execution_count": 4,
      "metadata": {
        "id": "PpoImQxB3OLG"
      },
      "outputs": [],
      "source": [
        "spark = SparkSession.builder.appName(\"Project511_RS\").master(\"local[*]\") \\\n",
        "          .config(\"spark.driver.memory\", \"10g\") \\\n",
        "          .config(\"spark.executor.memory\", \"10g\") \\\n",
        "          .config(\"spark.driver.maxResultSize\", \"2g\") \\\n",
        "          .config(\"spark.sql.shuffle.partitions\", \"200\") \\\n",
        "          .config(\"spark.default.parallelism\", \"100\") \\\n",
        "          .getOrCreate()"
      ]
    },
    {
      "cell_type": "markdown",
      "metadata": {
        "id": "-vuJZcod3Ffo"
      },
      "source": [
        "# Read Dataset"
      ]
    },
    {
      "cell_type": "code",
      "execution_count": 5,
      "metadata": {
        "id": "kXAuW_iy3QDX"
      },
      "outputs": [],
      "source": [
        "sale_df = spark.read.format(\"parquet\").load(google_drive_path + \"sale_ml.parquet\")"
      ]
    },
    {
      "cell_type": "code",
      "execution_count": 6,
      "metadata": {
        "id": "JpKunXBB3QBR",
        "colab": {
          "base_uri": "https://localhost:8080/"
        },
        "outputId": "d4e7c687-3308-4517-c0c9-cb23fb4ceb67"
      },
      "outputs": [
        {
          "output_type": "stream",
          "name": "stdout",
          "text": [
            "root\n",
            " |-- price_bucket: double (nullable = true)\n",
            " |-- start_year: integer (nullable = true)\n",
            " |-- end_year: integer (nullable = true)\n",
            " |-- is_active: integer (nullable = true)\n",
            " |-- l3_one_hot: vector (nullable = true)\n",
            " |-- l2_one_hot: vector (nullable = true)\n",
            " |-- property_one_hot: vector (nullable = true)\n",
            " |-- encoded_start_month: vector (nullable = true)\n",
            " |-- encoded_end_month: vector (nullable = true)\n",
            " |-- encoded_start_day_of_week: vector (nullable = true)\n",
            " |-- encoded_end_day_of_week: vector (nullable = true)\n",
            " |-- geo_cluster: integer (nullable = true)\n",
            " |-- rooms_scaled: double (nullable = true)\n",
            " |-- bedrooms_scaled: double (nullable = true)\n",
            " |-- bathrooms_scaled: double (nullable = true)\n",
            " |-- surface_total_scaled: double (nullable = true)\n",
            " |-- scaled_final_features: vector (nullable = true)\n",
            "\n"
          ]
        }
      ],
      "source": [
        "sale_df.printSchema()"
      ]
    },
    {
      "cell_type": "code",
      "source": [
        "sale_df.count()"
      ],
      "metadata": {
        "colab": {
          "base_uri": "https://localhost:8080/"
        },
        "id": "xn2H_pGVFdPF",
        "outputId": "3618ea25-9944-477c-aff7-427fdbd61b45"
      },
      "execution_count": 7,
      "outputs": [
        {
          "output_type": "execute_result",
          "data": {
            "text/plain": [
              "210339"
            ]
          },
          "metadata": {},
          "execution_count": 7
        }
      ]
    },
    {
      "cell_type": "markdown",
      "metadata": {
        "id": "4rMvS2lRYgO2"
      },
      "source": [
        "This df does not have the description of the properties in textual representation, but only in numeric representation, which we converted in the Text Analytics file. Both datasets have the same rows and data in the same order, but in order to give the description of the property when we recommending other properties, we are going to merge the two datasets."
      ]
    },
    {
      "cell_type": "code",
      "execution_count": 8,
      "metadata": {
        "id": "7rZUkjKjYeAe"
      },
      "outputs": [],
      "source": [
        "df = spark.read.format(\"parquet\").load(google_drive_path + \"ar_properties_processed.parquet\")"
      ]
    },
    {
      "cell_type": "code",
      "source": [
        "df.count()"
      ],
      "metadata": {
        "colab": {
          "base_uri": "https://localhost:8080/"
        },
        "id": "5x_WWop6DsOw",
        "outputId": "8ee8d71a-3e13-4c02-9882-d3e8f6d4e825"
      },
      "execution_count": 9,
      "outputs": [
        {
          "output_type": "execute_result",
          "data": {
            "text/plain": [
              "259910"
            ]
          },
          "metadata": {},
          "execution_count": 9
        }
      ]
    },
    {
      "cell_type": "markdown",
      "metadata": {
        "id": "jCzNfEpYvW_C"
      },
      "source": [
        "This is the dataset with the descriptions and all the info not encoded."
      ]
    },
    {
      "cell_type": "code",
      "execution_count": 10,
      "metadata": {
        "id": "aSeHjwNium4i",
        "colab": {
          "base_uri": "https://localhost:8080/"
        },
        "outputId": "71c90ff1-c12d-45ba-922a-186d326aa131"
      },
      "outputs": [
        {
          "output_type": "stream",
          "name": "stdout",
          "text": [
            "+----------+----------+--------------------+--------------------+-----+--------+---------+-------------+---------------+--------------------+--------------------+----------------+--------------+--------------------+------------------+\n",
            "|start_date|  end_date|                  l2|                  l3|rooms|bedrooms|bathrooms|surface_total|surface_covered|               title|         description|   property_type|operation_type|         coordinates|    amount_in_euro|\n",
            "+----------+----------+--------------------+--------------------+-----+--------+---------+-------------+---------------+--------------------+--------------------+----------------+--------------+--------------------+------------------+\n",
            "|2019-12-29|2020-02-11|Bs.As. G.B.A. Zon...|               Pilar|    4|       3|        2|        140.0|          140.0|Susana Aravena Pr...|Excelente propied...|           House|          Rent|[-34.879692077636...|             533.8|\n",
            "|2019-12-29|2020-04-04|Bs.As. G.B.A. Zon...|             Escobar|    3|       3|        2|       438.17|         347.07|Casa en Alquiler ...|Casa muy cómoda c...|           House|          Rent|[-34.361125946044...|1726.9999999999998|\n",
            "|2019-12-29|2020-07-22|             Córdoba|             Córdoba|    5|       3|        4|        135.0|          135.0|       Casa - Centro|Se VENDE y/o se A...|           House|          Rent|[-31.409379959106...|1020.4999999999999|\n",
            "|2019-12-29|2020-02-21|Bs.As. G.B.A. Zon...|     Lomas de Zamora|    3|       1|        1|       438.17|         347.07|Casa - Banfield O...|Se trata inmueble...|           House|          Rent|[-34.745143890380...|             329.7|\n",
            "|2019-12-29|2020-08-26|Bs.As. G.B.A. Zon...|     Lomas de Zamora|    2|       2|        1|       438.17|         347.07|Casa - Temperley ...|Casa en Av Almira...|           House|          Rent|[-34.780479431152...|439.59999999999997|\n",
            "|2019-12-29|2020-06-14|Bs.As. G.B.A. Zon...|              Moreno|    2|       2|        1|        300.0|          260.0|Azucena Villaflor...|Excelente oportun...|             Lot|          Sale|[-34.879692077636...| 7064.999999999999|\n",
            "|2019-12-29|2020-03-09|     Capital Federal|            Belgrano|    2|       2|        1|        511.0|          511.0|11 DE SEPTIEMBRE DE |Oficina con acces...|          Office|          Rent|[-34.561073303222...|            4867.0|\n",
            "|2019-12-29|2020-04-01|Bs.As. G.B.A. Zon...|          San Miguel|    3|       3|        2|         55.0|           52.6|Domingo F Sarmien...|Oficina de 55 m2 ...|          Office|          Rent|[-34.546260833740...|188.39999999999998|\n",
            "|2019-12-29|2020-02-14|Bs.As. G.B.A. Zon...|               Tigre|    3|       3|        2|       438.17|         347.07|ALQUILER DEPARTAM...|Departamento en a...|       Apartment|          Rent|[-34.400051116943...|470.99999999999994|\n",
            "|2019-12-29|2020-01-11|     Capital Federal|             Almagro|    2|       1|        1|         45.0|           40.0|2 amb muy comodo ...|Corredor Responsa...|       Apartment|          Rent|[-34.608074188232...|             345.4|\n",
            "|2019-12-29|2020-07-31|     Capital Federal|             Palermo|    2|       1|        1|         45.0|           43.6|Departamento - Pa...|Hermoso departame...|       Apartment|          Rent|[-34.574123382568...|             628.0|\n",
            "|2019-12-29|2020-02-04|            Santa Fe|             Rosario|    2|       2|        1|       438.17|         347.07|         Colon  1200|Amplio departamen...|       Apartment|          Rent|[-32.953746795654...| 97.33999999999999|\n",
            "|2019-12-29|2020-01-24|     Capital Federal|            Recoleta|    3|       2|        1|         64.0|           56.0|ALQUILER 3 AMB, A...|EXCELENTE UBICACI...|       Apartment|          Rent|[-34.588634490966...|             628.0|\n",
            "|2019-12-29|2020-02-15|     Capital Federal|         San Nicolás|    2|       2|        1|       438.17|         347.07|Se alquila Dto du...|Un ambiente (mono...|       Apartment|          Rent|[-34.604598999023...|           171.915|\n",
            "|2019-12-29|2020-03-03|Buenos Aires Cost...|       Mar del Plata|    2|       2|        1|       438.17|         347.07|Departamento 2 Am...|Departamento inte...|       Apartment|          Rent|[-38.013683319091...|             37.68|\n",
            "|2019-12-29|2020-02-17|Buenos Aires Cost...|       Mar del Plata|    3|       3|        2|       438.17|         347.07|DEPARTAMENTO 3 AM...|FEIGELMULLER ESTU...|       Apartment|          Rent|[-38.003520965576...|376.79999999999995|\n",
            "|2019-12-29|2020-01-26|Bs.As. G.B.A. Zon...|       Vicente López|    2|       1|        1|         48.0|           40.0|departamento 2 am...|Departamento 2 am...|       Apartment|          Rent|[-34.532951354980...|235.49999999999997|\n",
            "|2019-12-29|2020-01-31|Bs.As. G.B.A. Zon...|     Lomas de Zamora|    1|       0|        1|         50.0|           48.8|Colombres   200 3...|Living comedor, c...|       Apartment|          Rent|[-34.764102935791...|219.79999999999998|\n",
            "|2019-12-29|2020-07-16|             Tucumán|San Miguel de Tuc...|    4|       2|        1|        100.0|           92.8|Departamento - Sa...|Departamento en v...|       Apartment|          Rent|[-26.820627212524...|282.59999999999997|\n",
            "|2019-12-29|2020-10-23|     Capital Federal|             Almagro|    2|       2|        1|         63.2|           54.0|     Local - Almagro|Amplio local come...|Commercial Space|          Rent|[-34.611446380615...|219.79999999999998|\n",
            "+----------+----------+--------------------+--------------------+-----+--------+---------+-------------+---------------+--------------------+--------------------+----------------+--------------+--------------------+------------------+\n",
            "only showing top 20 rows\n",
            "\n"
          ]
        }
      ],
      "source": [
        "df.show()"
      ]
    },
    {
      "cell_type": "markdown",
      "metadata": {
        "id": "7JghEOsZvc8A"
      },
      "source": [
        "We are going to do some preprocessing in order to have the consistent version of it"
      ]
    },
    {
      "cell_type": "code",
      "execution_count": 11,
      "metadata": {
        "id": "YP2fi6AKsyJY"
      },
      "outputs": [],
      "source": [
        "df = df.filter(col(\"operation_type\") == \"Sale\")"
      ]
    },
    {
      "cell_type": "code",
      "execution_count": 12,
      "metadata": {
        "id": "OCfxyizGujLh",
        "colab": {
          "base_uri": "https://localhost:8080/"
        },
        "outputId": "38563236-f52f-430b-c704-1ae39f0363d2"
      },
      "outputs": [
        {
          "output_type": "execute_result",
          "data": {
            "text/plain": [
              "210341"
            ]
          },
          "metadata": {},
          "execution_count": 12
        }
      ],
      "source": [
        "df.count()"
      ]
    },
    {
      "cell_type": "code",
      "execution_count": 13,
      "metadata": {
        "id": "h5ETDKcQvGWc"
      },
      "outputs": [],
      "source": [
        "df = df.filter((col(\"amount_in_euro\") <= 9000000000) & (col(\"amount_in_euro\") > 11))"
      ]
    },
    {
      "cell_type": "code",
      "execution_count": 14,
      "metadata": {
        "id": "C7QvIjtNvQZ6",
        "colab": {
          "base_uri": "https://localhost:8080/"
        },
        "outputId": "d4fcdb83-6bc2-42b0-95e9-813e649c3480"
      },
      "outputs": [
        {
          "output_type": "execute_result",
          "data": {
            "text/plain": [
              "210339"
            ]
          },
          "metadata": {},
          "execution_count": 14
        }
      ],
      "source": [
        "df.count()"
      ]
    },
    {
      "cell_type": "markdown",
      "metadata": {
        "id": "QF5gVo2-vjWK"
      },
      "source": [
        "We are going to add the property id, in order to merge it then with the sale_df"
      ]
    },
    {
      "cell_type": "code",
      "execution_count": 15,
      "metadata": {
        "id": "7f40HoChvpfr"
      },
      "outputs": [],
      "source": [
        "# add column called 'id' that contains row numbers from 1 to n\n",
        "w = Window().orderBy(lit('A'))\n",
        "df = df.withColumn('id', row_number().over(w))"
      ]
    },
    {
      "cell_type": "code",
      "execution_count": 16,
      "metadata": {
        "id": "4Q67LfzMvztS",
        "colab": {
          "base_uri": "https://localhost:8080/"
        },
        "outputId": "88156ff6-f5ea-482e-d3e8-c53f25489f2d"
      },
      "outputs": [
        {
          "output_type": "stream",
          "name": "stdout",
          "text": [
            "+----------+----------+--------------------+--------------------+-----+--------+---------+-------------+---------------+--------------------+--------------------+-------------+--------------+--------------------+------------------+---+\n",
            "|start_date|  end_date|                  l2|                  l3|rooms|bedrooms|bathrooms|surface_total|surface_covered|               title|         description|property_type|operation_type|         coordinates|    amount_in_euro| id|\n",
            "+----------+----------+--------------------+--------------------+-----+--------+---------+-------------+---------------+--------------------+--------------------+-------------+--------------+--------------------+------------------+---+\n",
            "|2019-12-29|2020-06-14|Bs.As. G.B.A. Zon...|              Moreno|    2|       2|        1|        300.0|          260.0|Azucena Villaflor...|Excelente oportun...|          Lot|          Sale|[-34.879692077636...| 7064.999999999999|  1|\n",
            "|2019-12-29|2019-12-29|             Mendoza|           Las Heras|    2|       2|        1|       438.17|         347.07|Venta de lote opo...|Excelente oportun...|        Other|          Sale|[-32.825477600097...| 46314.99999999999|  2|\n",
            "|2019-12-29|2020-01-04|            San Juan|            San Juan|    8|       4|        3|        359.0|          298.0|Excelente oportun...|Corredor Responsa...|        House|          Sale|[-31.527658462524...| 62799.99999999999|  3|\n",
            "|2019-12-29|2020-01-08|             Neuquén|               Añelo|    2|       2|        1|        300.0|          260.0|VENTA Terreno San...|Corredor Responsa...|          Lot|          Sale|[-38.627246856689...| 6750.999999999999|  4|\n",
            "|2019-12-29|2020-01-13|             Córdoba|         Santa María|    2|       2|        1|        560.0|          366.8|Se Vende Lote en ...|Corredor Responsa...|          Lot|          Sale|[-31.621995925903...| 5494.999999999999|  5|\n",
            "|2019-12-29|2020-01-21|            Santa Fe|           Esperanza|    2|       1|        1|        670.0|          206.0|Amplia casa en Es...|Corredor Responsa...|        House|          Sale|[-31.413465499877...|           34540.0|  6|\n",
            "|2019-12-29|2020-04-27|            Misiones|             Posadas|    2|       2|        1|       438.17|         347.07|Vendo o permutó, ...|Vendo terreno gra...|        Other|          Sale|[-27.358028411865...| 7849.999999999999|  7|\n",
            "|2019-12-31|2020-04-28|             Neuquén|Rincón de los Sauces|    2|       2|        1|       438.17|         347.07|Vendo vivienda de...|- Inmobiliaria De...|        House|          Sale|[-37.397430419921...|23549.999999999996|  8|\n",
            "|2019-12-31|2020-01-18|Bs.As. G.B.A. Zon...|               Pilar|    2|       2|        1|        275.0|          260.0|Lote de 275 m2. E...|Corredor Responsa...|          Lot|          Sale|[-34.387504577636...| 7064.999999999999|  9|\n",
            "|2019-12-31|9999-12-31|             Córdoba|             Punilla|    2|       2|        1|       438.17|         347.07|  Terreno - La Falda|Soys Inmobiliaria...|          Lot|          Sale|[-31.080308914184...|5381.8814999999995| 10|\n",
            "|2019-12-31|2020-02-13|             Neuquén|            Plottier|    2|       2|        1|        600.0|          221.0| VENTA LOTE PLOTTIER|GRUPO WENGAN MP° ...|          Lot|          Sale|[-38.962383270263...| 7849.999999999999| 11|\n",
            "|2019-12-31|2020-06-27|               Jujuy|         San Antonio|    2|       2|        1|        649.0|          266.0|VENTA TERRENO BOS...|Contacto: Maximil...|          Lot|          Sale|[-24.299505233764...|            8792.0| 12|\n",
            "|2019-12-31|2020-01-08|             Mendoza|            San José|    2|       2|        1|       438.17|         347.07|     Capital Mendoza|RIVAROLA AGOSTINI...|        Other|          Sale|[-32.873050689697...|23549.999999999996| 13|\n",
            "|2019-12-31|2020-04-27|             Córdoba|          Río Cuarto|    2|       2|        1|       438.17|         347.07|Departamento - Ri...|Departamento 50m²...|    Apartment|          Sale|[-33.127326965332...| 51024.99999999999| 14|\n",
            "|2019-12-31|2020-01-21|               Salta|               Salta|    3|       2|        1|        120.0|           90.0|Casa en venta - Z...|Corredor Responsa...|        House|          Sale|[-24.804218292236...|14914.999999999998| 15|\n",
            "|2019-12-25|2020-02-27|Bs.As. G.B.A. Zon...|          Marcos Paz|    2|       2|        1|       438.17|         347.07|8 Lotes en Genera...|8 Lotes de 200 m2...|        Other|          Sale|[-34.736999511718...| 5494.999999999999| 16|\n",
            "|2019-12-25|2020-04-18|            Santa Fe|Villa Gobernador ...|    2|       2|        1|       438.17|         347.07|VENTA - TERRENOS ...|Eco Pueblo - ALVE...|        Other|          Sale|[-33.058921813964...|25904.999999999996| 17|\n",
            "|2019-12-25|2020-04-18|            Santa Fe|Villa Gobernador ...|    2|       2|        1|       438.17|         347.07|ECOPUEBLO. Terren...|Eco Pueblo - ALVE...|        Other|          Sale|[-33.058921813964...|           18369.0| 18|\n",
            "|2019-12-25|2020-04-18|            Santa Fe|             Rosario|    2|       2|        1|       438.17|         347.07|VENTA - DEPARTAME...|*GUEMES 2678 - BA...|    Apartment|          Sale|[-32.931991577148...|          78895.64| 19|\n",
            "|2019-12-25|2020-04-27|            Santa Fe|             Álvarez|    2|       2|        1|       438.17|         347.07|VENDO - TERRENO E...|COMPRA TU TERRENO...|        Other|          Sale|[-34.879692077636...|13344.999999999998| 20|\n",
            "+----------+----------+--------------------+--------------------+-----+--------+---------+-------------+---------------+--------------------+--------------------+-------------+--------------+--------------------+------------------+---+\n",
            "only showing top 20 rows\n",
            "\n"
          ]
        }
      ],
      "source": [
        "df.show()"
      ]
    },
    {
      "cell_type": "markdown",
      "metadata": {
        "id": "-ef3cpjS7tS_"
      },
      "source": [
        "# Properties' Indexing"
      ]
    },
    {
      "cell_type": "code",
      "execution_count": 17,
      "metadata": {
        "id": "f0oL4SND7wGJ"
      },
      "outputs": [],
      "source": [
        "sale_df = sale_df.withColumn('id', row_number().over(w))"
      ]
    },
    {
      "cell_type": "code",
      "execution_count": 18,
      "metadata": {
        "id": "6oMODhGO96ru",
        "colab": {
          "base_uri": "https://localhost:8080/"
        },
        "outputId": "9baf42a0-ea06-4e0e-d9fd-2fdcf658762a"
      },
      "outputs": [
        {
          "output_type": "stream",
          "name": "stdout",
          "text": [
            "+------------+----------+--------+---------+-------------+--------------+----------------+-------------------+-----------------+-------------------------+-----------------------+-----------+-------------------+--------------------+-------------------+--------------------+---------------------+---+\n",
            "|price_bucket|start_year|end_year|is_active|   l3_one_hot|    l2_one_hot|property_one_hot|encoded_start_month|encoded_end_month|encoded_start_day_of_week|encoded_end_day_of_week|geo_cluster|       rooms_scaled|     bedrooms_scaled|   bathrooms_scaled|surface_total_scaled|scaled_final_features| id|\n",
            "+------------+----------+--------+---------+-------------+--------------+----------------+-------------------+-----------------+-------------------------+-----------------------+-----------+-------------------+--------------------+-------------------+--------------------+---------------------+---+\n",
            "|         4.0|      2020|    2020|        0|(4,[0],[1.0])|(27,[2],[1.0])|   (9,[0],[1.0])|     (11,[7],[1.0])|   (11,[7],[1.0])|            (6,[0],[1.0])|          (6,[4],[1.0])|          7|0.10256410256410256| 0.05714285714285714|0.10526315789473684|3.293617918167629...| (17000,[0,1,2,3,6...|  1|\n",
            "|         0.0|      2020|    2021|        1|(4,[1],[1.0])|(27,[0],[1.0])|   (9,[0],[1.0])|     (11,[7],[1.0])|   (11,[0],[1.0])|            (6,[1],[1.0])|          (6,[0],[1.0])|          1|0.02564102564102564|0.014285714285714285|                0.0|3.293617918167629...| (17000,[0,1,3,4,5...|  2|\n",
            "|         2.0|      2020|    2021|        1|(4,[0],[1.0])|(27,[1],[1.0])|   (9,[0],[1.0])|     (11,[8],[1.0])|   (11,[0],[1.0])|            (6,[3],[1.0])|          (6,[0],[1.0])|          7|0.02564102564102564|0.014285714285714285|                0.0|3.293617918167629...| (17000,[0,1,3,4,5...|  3|\n",
            "|         1.0|      2020|    2021|        1|(4,[2],[1.0])|(27,[4],[1.0])|   (9,[0],[1.0])|     (11,[5],[1.0])|   (11,[0],[1.0])|            (6,[0],[1.0])|          (6,[0],[1.0])|          0|0.05128205128205128|0.014285714285714285|                0.0|3.293617918167629...| (17000,[0,2,3,6,7...|  4|\n",
            "|         2.0|      2020|    2021|        1|(4,[0],[1.0])|(27,[5],[1.0])|   (9,[2],[1.0])|     (11,[9],[1.0])|   (11,[0],[1.0])|            (6,[4],[1.0])|          (6,[0],[1.0])|          7|0.05128205128205128| 0.02857142857142857|                0.0|6.707697467459591E-6| (17000,[0,1,2,3,4...|  5|\n",
            "|         4.0|      2020|    2021|        1|(4,[0],[1.0])|(27,[3],[1.0])|   (9,[2],[1.0])|     (11,[9],[1.0])|   (11,[0],[1.0])|            (6,[4],[1.0])|          (6,[0],[1.0])|          7|0.07692307692307693| 0.02857142857142857|0.05263157894736842|3.293617918167629...| (17000,[0,1,2,3,7...|  6|\n",
            "|         2.0|      2020|    2021|        1|(4,[0],[1.0])|(27,[4],[1.0])|   (9,[2],[1.0])|     (11,[8],[1.0])|   (11,[0],[1.0])|            (6,[0],[1.0])|          (6,[0],[1.0])|          0|0.05128205128205128| 0.02857142857142857|                0.0|9.215391704147466E-6| (17000,[0,3,4,9,1...|  7|\n",
            "|         2.0|      2020|    2021|        0|(4,[0],[1.0])|(27,[1],[1.0])|   (9,[0],[1.0])|     (11,[4],[1.0])|   (11,[2],[1.0])|            (6,[2],[1.0])|          (6,[3],[1.0])|          7|0.02564102564102564|0.014285714285714285|                0.0|2.538463491125762...| (17000,[1,2,3,4,5...|  8|\n",
            "|         0.0|      2020|    2021|        1|(4,[0],[1.0])|(27,[0],[1.0])|   (9,[2],[1.0])|     (11,[7],[1.0])|   (11,[0],[1.0])|            (6,[2],[1.0])|          (6,[0],[1.0])|          1|0.05128205128205128|0.014285714285714285|                0.0|2.692309763315202...| (17000,[0,1,2,3,4...|  9|\n",
            "|         2.0|      2020|    2021|        1|(4,[0],[1.0])|(27,[5],[1.0])|   (9,[2],[1.0])|     (11,[5],[1.0])|   (11,[0],[1.0])|            (6,[1],[1.0])|          (6,[0],[1.0])|          7|0.05128205128205128| 0.02857142857142857|0.05263157894736842|3.293617918167629...| (17000,[0,1,2,3,4...| 10|\n",
            "|         1.0|      2020|    2021|        1|(4,[0],[1.0])|(27,[3],[1.0])|   (9,[3],[1.0])|     (11,[8],[1.0])|   (11,[0],[1.0])|            (6,[4],[1.0])|          (6,[0],[1.0])|          7|0.02564102564102564| 0.02857142857142857|                0.0|4.538465029588485E-5| (17000,[2,15,32,6...| 11|\n",
            "|         4.0|      2020|    2020|        0|(4,[3],[1.0])|(27,[2],[1.0])|   (9,[2],[1.0])|     (11,[8],[1.0])|   (11,[9],[1.0])|            (6,[5],[1.0])|          (6,[0],[1.0])|          7|0.05128205128205128| 0.02857142857142857|                0.0|3.293617918167629...| (17000,[0,2,4,9,2...| 12|\n",
            "|         4.0|      2020|    2021|        1|(4,[0],[1.0])|(27,[1],[1.0])|   (9,[4],[1.0])|     (11,[8],[1.0])|   (11,[0],[1.0])|            (6,[3],[1.0])|          (6,[0],[1.0])|          7|0.07692307692307693| 0.02857142857142857|0.05263157894736842|1.230770177515521...| (17000,[0,1,3,4,5...| 13|\n",
            "|         1.0|      2020|    2020|        0|(4,[0],[1.0])|(27,[2],[1.0])|   (9,[0],[1.0])|     (11,[5],[1.0])|   (11,[7],[1.0])|            (6,[0],[1.0])|          (6,[4],[1.0])|          7|                0.0|0.014285714285714285|                0.0|3.293617918167629...| (17000,[1,2,3,6,1...| 14|\n",
            "|         3.0|      2020|    2020|        0|(4,[0],[1.0])|(27,[2],[1.0])|   (9,[2],[1.0])|     (11,[6],[1.0])|   (11,[8],[1.0])|            (6,[5],[1.0])|          (6,[5],[1.0])|          7|0.05128205128205128| 0.02857142857142857|0.05263157894736842|3.293617918167629...| (17000,[0,1,2,3,8...| 15|\n",
            "|         3.0|      2020|    2021|        1|(4,[0],[1.0])|(27,[0],[1.0])|   (9,[2],[1.0])|     (11,[4],[1.0])|   (11,[0],[1.0])|                (6,[],[])|          (6,[0],[1.0])|          1| 0.1282051282051282| 0.04285714285714286|0.05263157894736842|3.293617918167629...| (17000,[3,5,9,10,...| 16|\n",
            "|         0.0|      2020|    2020|        0|(4,[2],[1.0])|(27,[4],[1.0])|   (9,[7],[1.0])|     (11,[2],[1.0])|   (11,[3],[1.0])|            (6,[0],[1.0])|          (6,[4],[1.0])|          0|0.02564102564102564| 0.02857142857142857|                0.0|3.293617918167629...| (17000,[2,16,17,3...| 17|\n",
            "|         2.0|      2020|    2020|        0|(4,[0],[1.0])|(27,[1],[1.0])|   (9,[3],[1.0])|     (11,[6],[1.0])|   (11,[8],[1.0])|            (6,[0],[1.0])|          (6,[0],[1.0])|          7|                0.0|                 0.0|                0.0|3.293617918167629...| (17000,[2,4,15,16...| 18|\n",
            "|         1.0|      2020|    2020|        0|(4,[0],[1.0])|(27,[2],[1.0])|   (9,[3],[1.0])|     (11,[6],[1.0])|   (11,[8],[1.0])|            (6,[4],[1.0])|          (6,[1],[1.0])|          7|                0.0|                 0.0|                0.0|3.293617918167629...| (17000,[2,15,32,3...| 19|\n",
            "|         3.0|      2020|    2021|        0|(4,[2],[1.0])|(27,[4],[1.0])|   (9,[0],[1.0])|     (11,[8],[1.0])|   (11,[6],[1.0])|            (6,[1],[1.0])|          (6,[2],[1.0])|          0|0.02564102564102564|0.014285714285714285|                0.0|4.769234437872645E-6| (17000,[0,1,2,3,4...| 20|\n",
            "+------------+----------+--------+---------+-------------+--------------+----------------+-------------------+-----------------+-------------------------+-----------------------+-----------+-------------------+--------------------+-------------------+--------------------+---------------------+---+\n",
            "only showing top 20 rows\n",
            "\n"
          ]
        }
      ],
      "source": [
        "sale_df.show()"
      ]
    },
    {
      "cell_type": "code",
      "execution_count": 19,
      "metadata": {
        "id": "-L6zKX6t-F2S"
      },
      "outputs": [],
      "source": [
        "sale_df = sale_df.select(\"id\", \"scaled_final_features\", \"start_year\", \"end_year\", \"is_active\", \"l3_one_hot\", \"l2_one_hot\", \"property_one_hot\", \\\n",
        "               \"encoded_start_month\", \"encoded_end_month\", \"encoded_start_day_of_week\",  \"encoded_end_day_of_week\", \"geo_cluster\", \"rooms_scaled\",\n",
        "               \"bedrooms_scaled\", \"bathrooms_scaled\", \"surface_total_scaled\", \"price_bucket\")"
      ]
    },
    {
      "cell_type": "code",
      "execution_count": 20,
      "metadata": {
        "id": "POV_TJNC-0eZ",
        "colab": {
          "base_uri": "https://localhost:8080/"
        },
        "outputId": "77cf895f-2037-4fb7-a3ca-a71c193e045b"
      },
      "outputs": [
        {
          "output_type": "stream",
          "name": "stdout",
          "text": [
            "+---+---------------------+----------+--------+---------+-------------+--------------+----------------+-------------------+-----------------+-------------------------+-----------------------+-----------+-------------------+--------------------+-------------------+--------------------+------------+\n",
            "| id|scaled_final_features|start_year|end_year|is_active|   l3_one_hot|    l2_one_hot|property_one_hot|encoded_start_month|encoded_end_month|encoded_start_day_of_week|encoded_end_day_of_week|geo_cluster|       rooms_scaled|     bedrooms_scaled|   bathrooms_scaled|surface_total_scaled|price_bucket|\n",
            "+---+---------------------+----------+--------+---------+-------------+--------------+----------------+-------------------+-----------------+-------------------------+-----------------------+-----------+-------------------+--------------------+-------------------+--------------------+------------+\n",
            "|  1| (17000,[0,1,2,3,6...|      2020|    2020|        0|(4,[0],[1.0])|(27,[2],[1.0])|   (9,[0],[1.0])|     (11,[7],[1.0])|   (11,[7],[1.0])|            (6,[0],[1.0])|          (6,[4],[1.0])|          7|0.10256410256410256| 0.05714285714285714|0.10526315789473684|3.293617918167629...|         4.0|\n",
            "|  2| (17000,[0,1,3,4,5...|      2020|    2021|        1|(4,[1],[1.0])|(27,[0],[1.0])|   (9,[0],[1.0])|     (11,[7],[1.0])|   (11,[0],[1.0])|            (6,[1],[1.0])|          (6,[0],[1.0])|          1|0.02564102564102564|0.014285714285714285|                0.0|3.293617918167629...|         0.0|\n",
            "|  3| (17000,[0,1,3,4,5...|      2020|    2021|        1|(4,[0],[1.0])|(27,[1],[1.0])|   (9,[0],[1.0])|     (11,[8],[1.0])|   (11,[0],[1.0])|            (6,[3],[1.0])|          (6,[0],[1.0])|          7|0.02564102564102564|0.014285714285714285|                0.0|3.293617918167629...|         2.0|\n",
            "|  4| (17000,[0,2,3,6,7...|      2020|    2021|        1|(4,[2],[1.0])|(27,[4],[1.0])|   (9,[0],[1.0])|     (11,[5],[1.0])|   (11,[0],[1.0])|            (6,[0],[1.0])|          (6,[0],[1.0])|          0|0.05128205128205128|0.014285714285714285|                0.0|3.293617918167629...|         1.0|\n",
            "|  5| (17000,[0,1,2,3,4...|      2020|    2021|        1|(4,[0],[1.0])|(27,[5],[1.0])|   (9,[2],[1.0])|     (11,[9],[1.0])|   (11,[0],[1.0])|            (6,[4],[1.0])|          (6,[0],[1.0])|          7|0.05128205128205128| 0.02857142857142857|                0.0|6.707697467459591E-6|         2.0|\n",
            "|  6| (17000,[0,1,2,3,7...|      2020|    2021|        1|(4,[0],[1.0])|(27,[3],[1.0])|   (9,[2],[1.0])|     (11,[9],[1.0])|   (11,[0],[1.0])|            (6,[4],[1.0])|          (6,[0],[1.0])|          7|0.07692307692307693| 0.02857142857142857|0.05263157894736842|3.293617918167629...|         4.0|\n",
            "|  7| (17000,[0,3,4,9,1...|      2020|    2021|        1|(4,[0],[1.0])|(27,[4],[1.0])|   (9,[2],[1.0])|     (11,[8],[1.0])|   (11,[0],[1.0])|            (6,[0],[1.0])|          (6,[0],[1.0])|          0|0.05128205128205128| 0.02857142857142857|                0.0|9.215391704147466E-6|         2.0|\n",
            "|  8| (17000,[1,2,3,4,5...|      2020|    2021|        0|(4,[0],[1.0])|(27,[1],[1.0])|   (9,[0],[1.0])|     (11,[4],[1.0])|   (11,[2],[1.0])|            (6,[2],[1.0])|          (6,[3],[1.0])|          7|0.02564102564102564|0.014285714285714285|                0.0|2.538463491125762...|         2.0|\n",
            "|  9| (17000,[0,1,2,3,4...|      2020|    2021|        1|(4,[0],[1.0])|(27,[0],[1.0])|   (9,[2],[1.0])|     (11,[7],[1.0])|   (11,[0],[1.0])|            (6,[2],[1.0])|          (6,[0],[1.0])|          1|0.05128205128205128|0.014285714285714285|                0.0|2.692309763315202...|         0.0|\n",
            "| 10| (17000,[0,1,2,3,4...|      2020|    2021|        1|(4,[0],[1.0])|(27,[5],[1.0])|   (9,[2],[1.0])|     (11,[5],[1.0])|   (11,[0],[1.0])|            (6,[1],[1.0])|          (6,[0],[1.0])|          7|0.05128205128205128| 0.02857142857142857|0.05263157894736842|3.293617918167629...|         2.0|\n",
            "| 11| (17000,[2,15,32,6...|      2020|    2021|        1|(4,[0],[1.0])|(27,[3],[1.0])|   (9,[3],[1.0])|     (11,[8],[1.0])|   (11,[0],[1.0])|            (6,[4],[1.0])|          (6,[0],[1.0])|          7|0.02564102564102564| 0.02857142857142857|                0.0|4.538465029588485E-5|         1.0|\n",
            "| 12| (17000,[0,2,4,9,2...|      2020|    2020|        0|(4,[3],[1.0])|(27,[2],[1.0])|   (9,[2],[1.0])|     (11,[8],[1.0])|   (11,[9],[1.0])|            (6,[5],[1.0])|          (6,[0],[1.0])|          7|0.05128205128205128| 0.02857142857142857|                0.0|3.293617918167629...|         4.0|\n",
            "| 13| (17000,[0,1,3,4,5...|      2020|    2021|        1|(4,[0],[1.0])|(27,[1],[1.0])|   (9,[4],[1.0])|     (11,[8],[1.0])|   (11,[0],[1.0])|            (6,[3],[1.0])|          (6,[0],[1.0])|          7|0.07692307692307693| 0.02857142857142857|0.05263157894736842|1.230770177515521...|         4.0|\n",
            "| 14| (17000,[1,2,3,6,1...|      2020|    2020|        0|(4,[0],[1.0])|(27,[2],[1.0])|   (9,[0],[1.0])|     (11,[5],[1.0])|   (11,[7],[1.0])|            (6,[0],[1.0])|          (6,[4],[1.0])|          7|                0.0|0.014285714285714285|                0.0|3.293617918167629...|         1.0|\n",
            "| 15| (17000,[0,1,2,3,8...|      2020|    2020|        0|(4,[0],[1.0])|(27,[2],[1.0])|   (9,[2],[1.0])|     (11,[6],[1.0])|   (11,[8],[1.0])|            (6,[5],[1.0])|          (6,[5],[1.0])|          7|0.05128205128205128| 0.02857142857142857|0.05263157894736842|3.293617918167629...|         3.0|\n",
            "| 16| (17000,[3,5,9,10,...|      2020|    2021|        1|(4,[0],[1.0])|(27,[0],[1.0])|   (9,[2],[1.0])|     (11,[4],[1.0])|   (11,[0],[1.0])|                (6,[],[])|          (6,[0],[1.0])|          1| 0.1282051282051282| 0.04285714285714286|0.05263157894736842|3.293617918167629...|         3.0|\n",
            "| 17| (17000,[2,16,17,3...|      2020|    2020|        0|(4,[2],[1.0])|(27,[4],[1.0])|   (9,[7],[1.0])|     (11,[2],[1.0])|   (11,[3],[1.0])|            (6,[0],[1.0])|          (6,[4],[1.0])|          0|0.02564102564102564| 0.02857142857142857|                0.0|3.293617918167629...|         0.0|\n",
            "| 18| (17000,[2,4,15,16...|      2020|    2020|        0|(4,[0],[1.0])|(27,[1],[1.0])|   (9,[3],[1.0])|     (11,[6],[1.0])|   (11,[8],[1.0])|            (6,[0],[1.0])|          (6,[0],[1.0])|          7|                0.0|                 0.0|                0.0|3.293617918167629...|         2.0|\n",
            "| 19| (17000,[2,15,32,3...|      2020|    2020|        0|(4,[0],[1.0])|(27,[2],[1.0])|   (9,[3],[1.0])|     (11,[6],[1.0])|   (11,[8],[1.0])|            (6,[4],[1.0])|          (6,[1],[1.0])|          7|                0.0|                 0.0|                0.0|3.293617918167629...|         1.0|\n",
            "| 20| (17000,[0,1,2,3,4...|      2020|    2021|        0|(4,[2],[1.0])|(27,[4],[1.0])|   (9,[0],[1.0])|     (11,[8],[1.0])|   (11,[6],[1.0])|            (6,[1],[1.0])|          (6,[2],[1.0])|          0|0.02564102564102564|0.014285714285714285|                0.0|4.769234437872645E-6|         3.0|\n",
            "+---+---------------------+----------+--------+---------+-------------+--------------+----------------+-------------------+-----------------+-------------------------+-----------------------+-----------+-------------------+--------------------+-------------------+--------------------+------------+\n",
            "only showing top 20 rows\n",
            "\n"
          ]
        }
      ],
      "source": [
        "sale_df.show()"
      ]
    },
    {
      "cell_type": "code",
      "execution_count": 21,
      "metadata": {
        "id": "yeHYQTdDCDkE",
        "colab": {
          "base_uri": "https://localhost:8080/"
        },
        "outputId": "936c386c-e8e3-47df-a752-ed7ae464a712"
      },
      "outputs": [
        {
          "output_type": "execute_result",
          "data": {
            "text/plain": [
              "210339"
            ]
          },
          "metadata": {},
          "execution_count": 21
        }
      ],
      "source": [
        "sale_df.count()"
      ]
    },
    {
      "cell_type": "markdown",
      "metadata": {
        "id": "7QsioCVg7ZWh"
      },
      "source": [
        "# Feature Vector Construction"
      ]
    },
    {
      "cell_type": "markdown",
      "metadata": {
        "id": "WnEMLdBE7c2h"
      },
      "source": [
        "We need to combine all our features into a single feature vector for each property. This will be used for the similarity calculations in the recommendation model."
      ]
    },
    {
      "cell_type": "code",
      "execution_count": 22,
      "metadata": {
        "id": "4S47asS83P-q"
      },
      "outputs": [],
      "source": [
        "from pyspark.ml.feature import VectorAssembler\n",
        "\n",
        "# define all the features to be included in the vector\n",
        "feature_columns = [\n",
        "    'scaled_final_features', 'price_bucket', 'l3_one_hot', 'l2_one_hot', 'property_one_hot',\n",
        "    'encoded_start_month', 'encoded_end_month', 'encoded_start_day_of_week', 'encoded_end_day_of_week',\n",
        "    'rooms_scaled', 'bedrooms_scaled', 'bathrooms_scaled', 'surface_total_scaled'\n",
        "]\n",
        "\n",
        "assembler = VectorAssembler(inputCols=feature_columns, outputCol=\"features\")\n",
        "sale_df = assembler.transform(sale_df)"
      ]
    },
    {
      "cell_type": "code",
      "execution_count": 23,
      "metadata": {
        "id": "9QZDXxvWYWxi"
      },
      "outputs": [],
      "source": [
        "sale_df = sale_df.sample(fraction=0.01, seed=1234)"
      ]
    },
    {
      "cell_type": "code",
      "execution_count": 24,
      "metadata": {
        "id": "jfjdclMfmxib",
        "colab": {
          "base_uri": "https://localhost:8080/"
        },
        "outputId": "f97c509b-5fee-4eec-89fe-403e6dd629aa"
      },
      "outputs": [
        {
          "output_type": "stream",
          "name": "stdout",
          "text": [
            "+----+\n",
            "|  id|\n",
            "+----+\n",
            "| 239|\n",
            "| 283|\n",
            "| 313|\n",
            "| 336|\n",
            "| 376|\n",
            "| 395|\n",
            "| 442|\n",
            "| 449|\n",
            "| 501|\n",
            "| 521|\n",
            "| 638|\n",
            "| 744|\n",
            "| 781|\n",
            "| 829|\n",
            "| 931|\n",
            "| 939|\n",
            "|1017|\n",
            "|1233|\n",
            "|1361|\n",
            "|1524|\n",
            "+----+\n",
            "only showing top 20 rows\n",
            "\n"
          ]
        }
      ],
      "source": [
        "sale_df.select(\"id\").show()"
      ]
    },
    {
      "cell_type": "markdown",
      "source": [
        "Take an example"
      ],
      "metadata": {
        "id": "D8g8ZleL_4r6"
      }
    },
    {
      "cell_type": "code",
      "execution_count": 25,
      "metadata": {
        "id": "L-5Eu__zz2rf"
      },
      "outputs": [],
      "source": [
        "property_id = sale_df.first()[\"id\"]"
      ]
    },
    {
      "cell_type": "code",
      "execution_count": 26,
      "metadata": {
        "id": "Hmau3_eU1BYh",
        "colab": {
          "base_uri": "https://localhost:8080/"
        },
        "outputId": "1aa40c9b-e981-481b-a67d-d0a199153982"
      },
      "outputs": [
        {
          "output_type": "execute_result",
          "data": {
            "text/plain": [
              "239"
            ]
          },
          "metadata": {},
          "execution_count": 26
        }
      ],
      "source": [
        "property_id"
      ]
    },
    {
      "cell_type": "markdown",
      "metadata": {
        "id": "e41HlT2LYP0B"
      },
      "source": [
        "We have to ensure that our feature vectors are normalized. This simplifies the cosine similarity to just a dot product since cosine similarity between two normalized vectors A and B is just their dot product."
      ]
    },
    {
      "cell_type": "code",
      "execution_count": 27,
      "metadata": {
        "id": "elzpk96RYPXW"
      },
      "outputs": [],
      "source": [
        "from pyspark.ml.feature import Normalizer\n",
        "\n",
        "# normalize feature vectors\n",
        "normalizer = Normalizer(inputCol=\"features\", outputCol=\"normFeatures\")\n",
        "sale_df = normalizer.transform(sale_df)\n"
      ]
    },
    {
      "cell_type": "markdown",
      "source": [
        "We cache the DataFrame to optimize read and compute efficiency across multiple actions on this dataframe. Then, we repartition the dataframe based on the 'id' column to balance the data across partitions, which can lead to performance improvements in distributed environments."
      ],
      "metadata": {
        "id": "C1d-GFUSAZxT"
      }
    },
    {
      "cell_type": "code",
      "execution_count": 28,
      "metadata": {
        "id": "Afn56UX-arkm",
        "colab": {
          "base_uri": "https://localhost:8080/"
        },
        "outputId": "03b8fe41-bbfa-42ef-f4f8-bcfcb0aa4c51"
      },
      "outputs": [
        {
          "output_type": "execute_result",
          "data": {
            "text/plain": [
              "DataFrame[id: int, scaled_final_features: vector, start_year: int, end_year: int, is_active: int, l3_one_hot: vector, l2_one_hot: vector, property_one_hot: vector, encoded_start_month: vector, encoded_end_month: vector, encoded_start_day_of_week: vector, encoded_end_day_of_week: vector, geo_cluster: int, rooms_scaled: double, bedrooms_scaled: double, bathrooms_scaled: double, surface_total_scaled: double, price_bucket: double, features: vector, normFeatures: vector]"
            ]
          },
          "metadata": {},
          "execution_count": 28
        }
      ],
      "source": [
        "sale_df.cache()"
      ]
    },
    {
      "cell_type": "code",
      "execution_count": 29,
      "metadata": {
        "id": "Cyzijglurqho"
      },
      "outputs": [],
      "source": [
        "sale_df = sale_df.repartition(50, \"id\")"
      ]
    },
    {
      "cell_type": "markdown",
      "source": [
        "# KMeans Clustering"
      ],
      "metadata": {
        "id": "hSHPdPme43Hb"
      }
    },
    {
      "cell_type": "markdown",
      "source": [
        "We apply KMeans clustering to group similar properties based on their normalized feature vectors. We specify the number of clusters and set a seed for reproducibility. This step helps in understanding sensible groups in the property data which can be useful for recommendation systems."
      ],
      "metadata": {
        "id": "ReiA5VTrAf_U"
      }
    },
    {
      "cell_type": "code",
      "source": [
        "# initialize the KMeans model with 10 clusters\n",
        "kmeans = KMeans().setK(10).setSeed(1).setFeaturesCol(\"normFeatures\").setPredictionCol(\"cluster\")\n",
        "model = kmeans.fit(sale_df)\n",
        "\n",
        "# add cluster column to the df\n",
        "sale_df = model.transform(sale_df)"
      ],
      "metadata": {
        "id": "LJ9ypwOd45fa"
      },
      "execution_count": 30,
      "outputs": []
    },
    {
      "cell_type": "code",
      "source": [
        "sale_df.groupBy(\"cluster\").count().show()"
      ],
      "metadata": {
        "colab": {
          "base_uri": "https://localhost:8080/"
        },
        "id": "sPHNU5fb45dH",
        "outputId": "1ed872b8-dd24-4e39-c219-57e7f6d8d291"
      },
      "execution_count": 31,
      "outputs": [
        {
          "output_type": "stream",
          "name": "stdout",
          "text": [
            "+-------+-----+\n",
            "|cluster|count|\n",
            "+-------+-----+\n",
            "|      1|  485|\n",
            "|      6|  172|\n",
            "|      3|  286|\n",
            "|      9|   26|\n",
            "|      4|  233|\n",
            "|      8|  188|\n",
            "|      7|  117|\n",
            "|      2|  212|\n",
            "|      0|  435|\n",
            "|      5|   16|\n",
            "+-------+-----+\n",
            "\n"
          ]
        }
      ]
    },
    {
      "cell_type": "markdown",
      "metadata": {
        "id": "HtBlcofwAfhi"
      },
      "source": [
        "# Similarity-Based Recommender"
      ]
    },
    {
      "cell_type": "markdown",
      "metadata": {
        "id": "9WIieVRJA_SV"
      },
      "source": [
        "Since we are not dealing with user interactions but rather with item similarity, traditional collaborative filtering techniques like ALS (Alternating Least Squares) may not be suitable. Instead, we can focus on content-based filtering using the feature vectors we've constructed."
      ]
    },
    {
      "cell_type": "code",
      "execution_count": 32,
      "metadata": {
        "id": "Sfm6uVBS3P5-"
      },
      "outputs": [],
      "source": [
        "# UDF for calculating cosine similarity\n",
        "def cosine_similarity(x, y):\n",
        "    return float(1 - cosine(np.array(x), np.array(y)))"
      ]
    },
    {
      "cell_type": "code",
      "execution_count": 33,
      "metadata": {
        "id": "ximLbncW3P3a"
      },
      "outputs": [],
      "source": [
        "# udf\n",
        "cosine_similarity_udf = udf(cosine_similarity, FloatType())"
      ]
    },
    {
      "cell_type": "markdown",
      "metadata": {
        "id": "YEr2IHSkpnkG"
      },
      "source": [
        "recommendation function based on cosine similarity"
      ]
    },
    {
      "cell_type": "markdown",
      "source": [
        "The recommendation function identifies properties similar to a given property based on their feature vectors and the cluster they belong to. This method ensures that recommended properties are not only similar in feature space but also belong to the same data-driven group, improving the relevance of the recommendations."
      ],
      "metadata": {
        "id": "BHyszHmJBQgo"
      }
    },
    {
      "cell_type": "code",
      "source": [
        "def recommend_properties(property_id, num_recommendations=10):\n",
        "    try:\n",
        "        # extract the feature vector and cluster for the specified property\n",
        "        target_row = sale_df.filter(col(\"id\") == property_id).select(\"features\", \"cluster\").first()\n",
        "        if target_row is None:\n",
        "            return f\"No property found with ID {property_id}\"\n",
        "\n",
        "        target_feature_vector = target_row[\"features\"].toArray()\n",
        "        target_cluster = target_row[\"cluster\"]\n",
        "\n",
        "        # broadcast the target feature vector and cluster to all nodes\n",
        "        broadcast_vector = spark.sparkContext.broadcast(target_feature_vector)\n",
        "        broadcast_cluster = spark.sparkContext.broadcast(target_cluster)\n",
        "\n",
        "        # calculate the similarity and filter by cluster\n",
        "        similarities = sale_df.withColumn(\"similarity\", cosine_similarity_udf(col(\"features\"), lit(broadcast_vector.value)))\n",
        "        # similarities = similarities.filter(col(\"cluster\") == broadcast_cluster.value)\n",
        "\n",
        "        # get the top properties ordered by their similarity scores, excluding the property itself\n",
        "        recommendations = similarities.orderBy(\"similarity\", ascending=False).limit(num_recommendations + 1)\n",
        "        recommendations = recommendations.filter(col(\"id\") != property_id)\n",
        "\n",
        "        return recommendations.select(\"id\", \"similarity\", \"cluster\")\n",
        "\n",
        "    # handle exception\n",
        "    except Exception as e:\n",
        "        return f\"An error occurred: {str(e)}\"\n"
      ],
      "metadata": {
        "id": "a6Hmvl0O5BbO"
      },
      "execution_count": 43,
      "outputs": []
    },
    {
      "cell_type": "code",
      "execution_count": 44,
      "metadata": {
        "id": "W6Sz-TX88N_U"
      },
      "outputs": [],
      "source": [
        "recommended_properties = recommend_properties(property_id).cache()"
      ]
    },
    {
      "cell_type": "code",
      "execution_count": 45,
      "metadata": {
        "id": "vHwuarIdX8lx",
        "colab": {
          "base_uri": "https://localhost:8080/"
        },
        "outputId": "b26c61ad-8f78-4b0e-f462-aad66b78a300"
      },
      "outputs": [
        {
          "output_type": "stream",
          "name": "stdout",
          "text": [
            "+------+----------+-------+\n",
            "|    id|similarity|cluster|\n",
            "+------+----------+-------+\n",
            "| 13935| 0.7240418|      1|\n",
            "|104835| 0.7235273|      1|\n",
            "|143138| 0.6786017|      1|\n",
            "|149266|0.67008126|      1|\n",
            "|187800| 0.6656894|      1|\n",
            "|  5327|0.64989126|      1|\n",
            "| 36650| 0.6481783|      1|\n",
            "| 93877|0.64642775|      1|\n",
            "|  2307| 0.6450274|      1|\n",
            "|101316| 0.6442616|      1|\n",
            "+------+----------+-------+\n",
            "\n"
          ]
        }
      ],
      "source": [
        "recommended_properties.show()"
      ]
    },
    {
      "cell_type": "markdown",
      "source": [
        "The similarities listed in our output are all relatively high, with the lowest being around 0.644 and the highest above 0.724. This means that the recommended properties are quite similar to the target property based on the feature vectors used.\n",
        "The range of similarity scores (from 0.644 to 0.724) suggests that the top 10 recommendations are fairly close in terms of feature-based similarity."
      ],
      "metadata": {
        "id": "6tFKL1sEE45a"
      }
    },
    {
      "cell_type": "markdown",
      "source": [
        "# Evaluate Recommendations"
      ],
      "metadata": {
        "id": "_n8q104sFBzr"
      }
    },
    {
      "cell_type": "markdown",
      "source": [
        "The function evaluate_recommendations evaluates the accuracy of the recommendation system by checking how many of the recommended properties belong to the same cluster as the original property."
      ],
      "metadata": {
        "id": "HNz707d_CCMg"
      }
    },
    {
      "cell_type": "markdown",
      "source": [
        "The evaluation function calculates the percentage of recommended properties that share the same cluster as the original property. This metric - accuracy, helps in understanding the clustering quality and the effectiveness of the recommendation based on feature similarity."
      ],
      "metadata": {
        "id": "5XcbscEICHiZ"
      }
    },
    {
      "cell_type": "code",
      "source": [
        "def evaluate_recommendations(property_id, recommendations):\n",
        "\n",
        "    # recommendations = recommend_properties(property_id)\n",
        "\n",
        "    # handle errors -> return the error\n",
        "    if isinstance(recommendations, str):\n",
        "        return recommendations\n",
        "\n",
        "    # get the cluster id of the specified property\n",
        "    original_cluster = sale_df.filter(col(\"id\") == property_id).select(\"cluster\").first()[\"cluster\"]\n",
        "\n",
        "    # calculate how many recommendations match the specified property's cluster\n",
        "    matching_cluster_count = recommendations.filter(col(\"cluster\") == original_cluster).count()\n",
        "    total_recommendations = recommendations.count()\n",
        "\n",
        "    # calculate accuracy\n",
        "    accuracy = matching_cluster_count / total_recommendations if total_recommendations > 0 else 0\n",
        "    return f\"Accuracy of recommendations: {accuracy:.2f}\"\n",
        "\n"
      ],
      "metadata": {
        "id": "Ph_AdKhd5Fyp"
      },
      "execution_count": 37,
      "outputs": []
    },
    {
      "cell_type": "code",
      "source": [
        "accuracy_score = evaluate_recommendations(property_id, recommended_properties)\n",
        "print(accuracy_score)\n"
      ],
      "metadata": {
        "colab": {
          "base_uri": "https://localhost:8080/"
        },
        "id": "A0oYM15I5M-P",
        "outputId": "986badfb-e096-4314-b7d1-96f906ae5979"
      },
      "execution_count": 38,
      "outputs": [
        {
          "output_type": "stream",
          "name": "stdout",
          "text": [
            "Accuracy of recommendations: 1.00\n"
          ]
        }
      ]
    },
    {
      "cell_type": "markdown",
      "source": [
        "All recommended properties belong to the same cluster (cluster = 1). This is a good indication that the clustering is meaningful and that properties within the same cluster are indeed similar to each other.\n",
        "Given that the accuracy of recommendations is 1.00, it confirms that all recommended properties match the original property's cluster, underscoring reliable clustering. Of course, we have in mind that the clusters/label we have are not actual truthful data but a column that we created.\n"
      ],
      "metadata": {
        "id": "ue6yVOHKFShf"
      }
    },
    {
      "cell_type": "markdown",
      "metadata": {
        "id": "-OtAR608xtWw"
      },
      "source": [
        "# Merge Datasets"
      ]
    },
    {
      "cell_type": "markdown",
      "source": [
        "We merge the two datasets, in order to get a detailed description in a readable representation for each recommended property."
      ],
      "metadata": {
        "id": "brvfrVV2D0If"
      }
    },
    {
      "cell_type": "code",
      "execution_count": 39,
      "metadata": {
        "id": "KF9QRXkIq1qT"
      },
      "outputs": [],
      "source": [
        "merged_df = recommended_properties.join(df, \"id\")"
      ]
    },
    {
      "cell_type": "code",
      "execution_count": 40,
      "metadata": {
        "id": "6FfNr-qUzQpO",
        "colab": {
          "base_uri": "https://localhost:8080/"
        },
        "outputId": "e0da3bb5-09c3-4803-f12d-ebf23bafac4c"
      },
      "outputs": [
        {
          "output_type": "stream",
          "name": "stdout",
          "text": [
            "+------+----------+-------+----------+----------+--------------------+----------------+-----+--------+---------+-------------+---------------+--------------------+--------------------+-------------+--------------+--------------------+--------------+\n",
            "|    id|similarity|cluster|start_date|  end_date|                  l2|              l3|rooms|bedrooms|bathrooms|surface_total|surface_covered|               title|         description|property_type|operation_type|         coordinates|amount_in_euro|\n",
            "+------+----------+-------+----------+----------+--------------------+----------------+-----+--------+---------+-------------+---------------+--------------------+--------------------+-------------+--------------+--------------------+--------------+\n",
            "|  2307| 0.6450274|      1|2021-01-12|9999-12-31|     Capital Federal|Parque Chacabuco|   10|       5|        4|       438.17|         347.07|CASA 3 DORMI + DP...|<b>CASA 3 DORMI +...|        House|          Sale|[-34.879692077636...|      142800.0|\n",
            "|  5327|0.64989126|      1|2020-06-15|2020-06-25|Bs.As. G.B.A. Zon...|      San Miguel|    3|       2|        2|         74.0|           74.0|Venta Departament...|GLM. Venta Excele...|    Apartment|          Sale|[-34.547607421875...|      147200.0|\n",
            "| 13935| 0.7240418|      1|2020-01-31|2020-02-17|     Capital Federal|        Saavedra|    3|       2|        1|        103.0|           59.0|VENTA 3 AMBIENTES...|Edificio de vivie...|       Duplex|          Sale|[-34.541919708251...|      177560.0|\n",
            "| 36650| 0.6481783|      1|2020-03-31|2020-04-01|Buenos Aires Cost...|   Mar del Plata|    2|       2|        1|       438.17|         347.07|Dpto 3 amb en Edi...|Excelente departa...|        Other|          Sale|[-38.018081665039...|      247480.0|\n",
            "| 93877|0.64642775|      1|2020-04-23|2020-04-23|Buenos Aires Cost...|   Mar del Plata|    2|       2|        1|       438.17|         347.07|OFICINA EN MICROC...|Oficina sobre Ind...|        Other|          Sale|[-37.997219085693...|      105800.0|\n",
            "|101316| 0.6442616|      1|2020-03-12|2020-03-13|Buenos Aires Cost...|   Mar del Plata|    2|       2|        1|       438.17|         347.07|2 ambientes a 2 c...|Departamento de 2...|        Other|          Sale|[-38.009067535400...|       51520.0|\n",
            "|104835| 0.7235273|      1|2020-01-08|2020-04-14|            Santa Fe|         Rosario|    2|       2|        1|       438.17|         347.07|VENDO LOTE FINANC...|TIERRA DE SUEÑOS ...|        Other|          Sale|[-34.879692077636...|       13340.0|\n",
            "|143138| 0.6786017|      1|2020-07-25|2020-07-31|Buenos Aires Cost...|   Mar del Plata|    2|       1|        2|       438.17|         347.07|VENTA DEPARTAMENT...|Impecable departa...|    Apartment|          Sale|[-38.005538940429...|       79989.0|\n",
            "|149266|0.67008126|      1|2020-08-07|2021-01-10|            Santa Fe|         Rosario|    1|       0|        1|         33.0|           30.0|VENTA DEPARTAMENT...|Corredor Responsa...|    Apartment|          Sale|[-32.957431793212...|       49140.0|\n",
            "|187800| 0.6656894|      1|2020-08-20|2020-09-16|Buenos Aires Cost...|  Santa Teresita|    2|       1|        1|       438.17|         347.07|Santa Teresita,de...|SANTA TERESITA<br...|    Apartment|          Sale|[-36.536193847656...|       31850.0|\n",
            "+------+----------+-------+----------+----------+--------------------+----------------+-----+--------+---------+-------------+---------------+--------------------+--------------------+-------------+--------------+--------------------+--------------+\n",
            "\n"
          ]
        }
      ],
      "source": [
        "merged_df.show()"
      ]
    }
  ],
  "metadata": {
    "colab": {
      "toc_visible": true,
      "provenance": []
    },
    "kernelspec": {
      "display_name": "Python 3",
      "name": "python3"
    },
    "language_info": {
      "name": "python"
    }
  },
  "nbformat": 4,
  "nbformat_minor": 0
}