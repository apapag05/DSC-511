{
  "cells": [
    {
      "cell_type": "markdown",
      "metadata": {
        "id": "TJS6NP4RR8UL"
      },
      "source": [
        "# <u>**Classification for the sales dataset**</u>"
      ]
    },
    {
      "cell_type": "code",
      "execution_count": 1,
      "metadata": {
        "colab": {
          "base_uri": "https://localhost:8080/"
        },
        "id": "5VPSSzNLTVNX",
        "outputId": "d8873336-d576-4ba9-fdd6-b12163bb61c0"
      },
      "outputs": [
        {
          "output_type": "stream",
          "name": "stdout",
          "text": [
            "Requirement already satisfied: pyspark in /usr/local/lib/python3.10/dist-packages (3.5.1)\n",
            "Requirement already satisfied: seaborn in /usr/local/lib/python3.10/dist-packages (0.13.1)\n",
            "Requirement already satisfied: py4j==0.10.9.7 in /usr/local/lib/python3.10/dist-packages (from pyspark) (0.10.9.7)\n",
            "Requirement already satisfied: numpy!=1.24.0,>=1.20 in /usr/local/lib/python3.10/dist-packages (from seaborn) (1.25.2)\n",
            "Requirement already satisfied: pandas>=1.2 in /usr/local/lib/python3.10/dist-packages (from seaborn) (2.0.3)\n",
            "Requirement already satisfied: matplotlib!=3.6.1,>=3.4 in /usr/local/lib/python3.10/dist-packages (from seaborn) (3.7.1)\n",
            "Requirement already satisfied: contourpy>=1.0.1 in /usr/local/lib/python3.10/dist-packages (from matplotlib!=3.6.1,>=3.4->seaborn) (1.2.1)\n",
            "Requirement already satisfied: cycler>=0.10 in /usr/local/lib/python3.10/dist-packages (from matplotlib!=3.6.1,>=3.4->seaborn) (0.12.1)\n",
            "Requirement already satisfied: fonttools>=4.22.0 in /usr/local/lib/python3.10/dist-packages (from matplotlib!=3.6.1,>=3.4->seaborn) (4.51.0)\n",
            "Requirement already satisfied: kiwisolver>=1.0.1 in /usr/local/lib/python3.10/dist-packages (from matplotlib!=3.6.1,>=3.4->seaborn) (1.4.5)\n",
            "Requirement already satisfied: packaging>=20.0 in /usr/local/lib/python3.10/dist-packages (from matplotlib!=3.6.1,>=3.4->seaborn) (24.0)\n",
            "Requirement already satisfied: pillow>=6.2.0 in /usr/local/lib/python3.10/dist-packages (from matplotlib!=3.6.1,>=3.4->seaborn) (9.4.0)\n",
            "Requirement already satisfied: pyparsing>=2.3.1 in /usr/local/lib/python3.10/dist-packages (from matplotlib!=3.6.1,>=3.4->seaborn) (3.1.2)\n",
            "Requirement already satisfied: python-dateutil>=2.7 in /usr/local/lib/python3.10/dist-packages (from matplotlib!=3.6.1,>=3.4->seaborn) (2.8.2)\n",
            "Requirement already satisfied: pytz>=2020.1 in /usr/local/lib/python3.10/dist-packages (from pandas>=1.2->seaborn) (2023.4)\n",
            "Requirement already satisfied: tzdata>=2022.1 in /usr/local/lib/python3.10/dist-packages (from pandas>=1.2->seaborn) (2024.1)\n",
            "Requirement already satisfied: six>=1.5 in /usr/local/lib/python3.10/dist-packages (from python-dateutil>=2.7->matplotlib!=3.6.1,>=3.4->seaborn) (1.16.0)\n"
          ]
        }
      ],
      "source": [
        "! pip install pyspark seaborn"
      ]
    },
    {
      "cell_type": "code",
      "execution_count": 2,
      "metadata": {
        "id": "VHzXF8efTXLp"
      },
      "outputs": [],
      "source": [
        "# libraries\n",
        "\n",
        "import sklearn\n",
        "import pandas as pd\n",
        "import matplotlib.pyplot as plt\n",
        "from pyspark.ml import Pipeline\n",
        "from pyspark.sql.types import *\n",
        "import pyspark.sql.functions as F\n",
        "from pyspark.sql.functions import *\n",
        "from pyspark.sql import SparkSession\n",
        "\n",
        "import seaborn as sns\n",
        "from pyspark.sql.window import Window\n",
        "from pyspark.ml.feature import Bucketizer\n",
        "from pyspark.ml.clustering import KMeans\n",
        "from pyspark.ml.feature import MinMaxScaler\n",
        "from pyspark.sql.functions import broadcast\n",
        "from pyspark.ml.feature import VectorAssembler\n",
        "from pyspark.ml.classification import LinearSVC\n",
        "from pyspark.ml.classification import OneVsRest\n",
        "\n",
        "from pyspark.sql.functions import col, when, log\n",
        "from pyspark.ml.classification import DecisionTreeClassifier\n",
        "from pyspark.ml.classification import RandomForestClassifier\n",
        "from pyspark.ml.feature import StringIndexer, OneHotEncoder\n",
        "from pyspark.ml.tuning import ParamGridBuilder, CrossValidator\n",
        "from pyspark.mllib.evaluation import MulticlassMetrics\n",
        "from pyspark.ml.evaluation import MulticlassClassificationEvaluator\n",
        "from pyspark.sql.functions import year, month, dayofweek, when, current_date, datediff"
      ]
    },
    {
      "cell_type": "code",
      "execution_count": 3,
      "metadata": {
        "colab": {
          "base_uri": "https://localhost:8080/"
        },
        "id": "ZWnKYt9vTX0Q",
        "outputId": "306adc84-232b-4f80-bd25-4e9c1e6415ba"
      },
      "outputs": [
        {
          "output_type": "stream",
          "name": "stdout",
          "text": [
            "Drive already mounted at /content/gdrive; to attempt to forcibly remount, call drive.mount(\"/content/gdrive\", force_remount=True).\n"
          ]
        }
      ],
      "source": [
        "from google.colab import drive\n",
        "drive.mount('/content/gdrive')\n",
        "google_drive_path = \"/content/gdrive/MyDrive/Colab Notebooks/Project/\""
      ]
    },
    {
      "cell_type": "code",
      "execution_count": 4,
      "metadata": {
        "id": "05ORUmgFTaYE"
      },
      "outputs": [],
      "source": [
        "spark = SparkSession.builder.appName(\"Project511_ML_SALE\").master(\"local[*]\").config(\"spark.driver.maxResultSize\", \"2g\").getOrCreate()"
      ]
    },
    {
      "cell_type": "markdown",
      "metadata": {
        "id": "cBj0ZFYWSEqa"
      },
      "source": [
        "## Importing the dataset"
      ]
    },
    {
      "cell_type": "code",
      "execution_count": 5,
      "metadata": {
        "id": "K-FNaRXHSG3z"
      },
      "outputs": [],
      "source": [
        "sale_df = spark.read.format(\"parquet\").load(google_drive_path + \"sale_tfidf.parquet\")"
      ]
    },
    {
      "cell_type": "code",
      "execution_count": 6,
      "metadata": {
        "colab": {
          "base_uri": "https://localhost:8080/"
        },
        "id": "Y1j6EtGiUCj6",
        "outputId": "262dc965-440b-44ce-e9f6-3a65719480cf"
      },
      "outputs": [
        {
          "output_type": "stream",
          "name": "stdout",
          "text": [
            "+----------+----------+--------------------+------------------+-----+--------+---------+-------------+---------------+-------------+--------------+--------------------+--------------+--------------------+--------------------+--------------------+--------------------+--------------------+--------------------+--------------------+--------------------+--------------------+\n",
            "|start_date|  end_date|                  l2|                l3|rooms|bedrooms|bathrooms|surface_total|surface_covered|property_type|operation_type|         coordinates|amount_in_euro|    full_description|      processed_text|             bigrams|            trigrams|   features_unigrams|    features_bigrams|   features_trigrams|            features|      final_features|\n",
            "+----------+----------+--------------------+------------------+-----+--------+---------+-------------+---------------+-------------+--------------+--------------------+--------------+--------------------+--------------------+--------------------+--------------------+--------------------+--------------------+--------------------+--------------------+--------------------+\n",
            "|2020-09-14|9999-12-31|Bs.As. G.B.A. Zon...|             Morón|    3|       2|        1|       438.17|         347.07|       Duplex|          Sale|[-34.656478881835...|       74620.0|Casa PH en Venta ...|[cas, ph, vent, c...|[cas ph, ph vent,...|[cas ph vent, ph ...|(10000,[0,1,2,3,4...|(5000,[0,1,5,6,9,...|(2000,[0,17,22,68...|(17000,[0,1,2,3,4...|(17000,[0,1,2,3,4...|\n",
            "|2020-10-13|9999-12-31|     Capital Federal|        Tribunales|    2|       2|        1|        147.0|          130.6|       Office|          Sale|[-34.603145599365...|      374556.0|  Lex Tower Av Co...|[lex, tow, av, co...|[lex tow, tow av,...|[lex tow av, tow ...|(10000,[2,10,11,2...|(5000,[171,175,25...|        (2000,[],[])|(17000,[2,10,11,2...|(17000,[2,10,11,2...|\n",
            "|2020-11-21|9999-12-31|Bs.As. G.B.A. Zon...|      San Fernando|    2|       2|        1|         26.0|           25.4|    Apartment|          Sale|[-34.441738128662...|       49140.0|Sarmiento  1400 1...|[sarmient, 1400, ...|[sarmient 1400, 1...|[sarmient 1400 1,...|(10000,[1,2,3,5,6...|(5000,[0,7,11,59,...|(2000,[523,783,97...|(17000,[1,2,3,5,6...|(17000,[1,2,3,5,6...|\n",
            "|2020-08-10|9999-12-31|Bs.As. G.B.A. Zon...|Esteban Echeverría|    5|       3|        2|        150.0|          150.0|        House|          Sale|[-34.801128387451...|      163800.0|Casa - Monte Gran...|[cas, mont, grand...|[cas mont, mont g...|[cas mont grand, ...|(10000,[0,1,3,8,9...|(5000,[5,17,186,2...|(2000,[223,226],[...|(17000,[0,1,3,8,9...|(17000,[0,1,3,8,9...|\n",
            "|2020-07-22|9999-12-31|     Capital Federal|      Villa Crespo|    4|       3|        1|        165.0|          154.0|    Apartment|          Sale|[-34.593872070312...|      191100.0|Departamento de 4...|[departament, 4, ...|[departament 4, 4...|[departament 4 am...|(10000,[2,3,5,6,7...|(5000,[3,5,14,22,...|(2000,[17,19,20,2...|(17000,[2,3,5,6,7...|(17000,[2,3,5,6,7...|\n",
            "|2020-09-13|2021-01-02|Bs.As. G.B.A. Zon...|          La Plata|    6|       5|        3|        230.0|          170.0|        House|          Sale|[-34.932636260986...|      143780.0|CASA EN VENTA 5 D...|[cas, vent, 5, do...|[cas vent, vent 5...|[cas vent 5, vent...|(10000,[0,1,2,3,4...|(5000,[0,3,8,17,2...|(2000,[4,6,7,8,9,...|(17000,[0,1,2,3,4...|(17000,[0,1,2,3,4...|\n",
            "|2020-09-30|2020-10-01|Bs.As. G.B.A. Zon...|   Lomas de Zamora|    2|       1|        1|       438.17|         347.07|          Lot|          Sale|[-34.765007019042...|      145600.0|Lote en Venta en ...|[lot, vent, lom, ...|[lot vent, vent l...|[lot vent lom, ve...|(10000,[0,1,2,4,7...|(5000,[0,6,11,16,...|(2000,[5,115,117,...|(17000,[0,1,2,4,7...|(17000,[0,1,2,4,7...|\n",
            "|2020-10-11|9999-12-31|Bs.As. G.B.A. Zon...|          La Plata|    2|       2|        1|        106.0|           50.0|    Apartment|          Sale|[-34.917877197265...|       81900.0|Departamento 34 Y...|[departament, 34,...|[departament 34, ...|[departament 34 3...|(10000,[1,2,6,8,1...|(5000,[0,3,7,133,...|(2000,[761,829],[...|(17000,[1,2,6,8,1...|(17000,[1,2,6,8,1...|\n",
            "|2020-10-23|2020-11-16|Bs.As. G.B.A. Zon...|             Pilar|    2|       2|        1|        872.0|          358.4|          Lot|          Sale|[-34.459278106689...|      104650.0|VENTA -TERRENO RU...|[vent, terren, ru...|[vent terren, ter...|[vent terren rut,...|(10000,[2,16,20,2...|(5000,[186,247,73...|        (2000,[],[])|(17000,[2,16,20,2...|(17000,[2,16,20,2...|\n",
            "|2020-04-26|2020-04-26|Bs.As. G.B.A. Zon...|   Almirante Brown|    1|       0|        1|       438.17|         347.07|          Lot|          Sale|[-34.82080078125,...|       34320.0|Lote en Venta en ...|[lot, vent, burza...|[lot vent, vent b...|[lot vent burzac,...|(10000,[2,9,15,20...|(5000,[64,668,123...|        (2000,[],[])|(17000,[2,9,15,20...|(17000,[2,9,15,20...|\n",
            "|2020-07-02|9999-12-31|     Capital Federal|          Floresta|    5|       3|        2|        160.0|          115.0|        House|          Sale|[-34.636135101318...|      104650.0|Rivadavia  8900 -...|[rivadavi, 8900, ...|[rivadavi 8900, 8...|[rivadavi 8900 ud...|(10000,[1,2,3,4,5...|(5000,[62,99,110,...|(2000,[324,359,71...|(17000,[1,2,3,4,5...|(17000,[1,2,3,4,5...|\n",
            "|2020-09-29|9999-12-31|Buenos Aires Cost...|      Mar Chiquita|    2|       2|        1|       438.17|         347.07|          Lot|          Sale|[-37.867740631103...|       12740.0|Terreno de 478 m2...|[terren, 478, m2,...|[terren 478, 478 ...|[terren 478 m2, 4...|(10000,[4,9,16,21...|(5000,[79,130,131...|(2000,[45,69,72,7...|(17000,[4,9,16,21...|(17000,[4,9,16,21...|\n",
            "|2020-12-01|9999-12-31|Bs.As. G.B.A. Zon...|           Escobar|    2|       2|        1|       438.17|         347.07|          Lot|          Sale|[-34.879692077636...|       56420.0|Terreno - El Naud...|[terren, naud, lo...|[terren naud, nau...|[terren naud lot,...|(10000,[15,16,19,...|(5000,[96,123,233...|(2000,[411,1247],...|(17000,[15,16,19,...|(17000,[15,16,19,...|\n",
            "|2020-08-08|2020-09-15|     Capital Federal|           Palermo|    1|       0|        1|         44.0|           40.0|    Apartment|          Sale|[-34.578514099121...|      136500.0|Departamento - Pa...|[departament, pal...|[departament pale...|[departament pale...|(10000,[1,3,6,13,...|(5000,[0,368,1344...|        (2000,[],[])|(17000,[1,3,6,13,...|(17000,[1,3,6,13,...|\n",
            "|2019-12-24|2020-02-13|     Capital Federal|          Belgrano|    3|       2|        1|         53.0|           53.0|    Apartment|          Sale|[-34.573326110839...|      109375.0|Departamento 3 am...|[departament, 3, ...|[departament 3, 3...|[departament 3 am...|(10000,[0,3,4,5,6...|(5000,[1,2,6,10,1...|(2000,[3,148,426,...|(17000,[0,3,4,5,6...|(17000,[0,3,4,5,6...|\n",
            "|2020-08-05|2020-09-02|Bs.As. G.B.A. Zon...|        La Matanza|    3|       2|        1|         45.0|           40.0|    Apartment|          Sale|[-34.641345977783...|       65520.0|Venta Dpto 3 amb....|[vent, dpto, 3, a...|[vent dpto, dpto ...|[vent dpto 3, dpt...|(10000,[0,1,2,3,5...|(5000,[0,2,12,19,...|(2000,[4,6,7,8,9,...|(17000,[0,1,2,3,5...|(17000,[0,1,2,3,5...|\n",
            "|2020-11-16|9999-12-31|            Santa Fe|           Rosario|    3|       1|        1|       438.17|         347.07|    Apartment|          Sale|[-32.924793243408...|      154245.0|CONDO REFINERIA -...|[cond, refineri, ...|[cond refineri, r...|[cond refineri de...|(10000,[0,6,10,11...|(5000,[3,15,21,32...|(2000,[2,16,37,56...|(17000,[0,6,10,11...|(17000,[0,6,10,11...|\n",
            "|2020-08-12|2020-08-25|     Capital Federal|           Palermo|    2|       1|        1|         50.0|           50.0|    Apartment|          Sale|[-34.577884674072...|      143780.0|VENTA GRAN DEPART...|[vent, gran, depa...|[vent gran, gran ...|[vent gran depart...|(10000,[0,1,2,3,4...|(5000,[0,1,4,10,1...|(2000,[1,71,115,1...|(17000,[0,1,2,3,4...|(17000,[0,1,2,3,4...|\n",
            "|2020-08-12|2020-08-14|Bs.As. G.B.A. Zon...|            Ezeiza|    1|       0|        1|       438.17|         347.07|          Lot|          Sale|[-34.904773712158...|       66430.0|Lote en Venta en ...|[lot, vent, terra...|[lot vent, vent t...|[lot vent terrala...|(10000,[1,2,4,15,...|(5000,[64,96,115,...|(2000,[181,194,21...|(17000,[1,2,4,15,...|(17000,[1,2,4,15,...|\n",
            "|2020-09-08|2021-02-18|Buenos Aires Cost...|     Mar del Plata|    2|       1|        1|       438.17|         347.07|    Apartment|          Sale|[-37.990852355957...|       80990.0|Departamento 2 Am...|[departament, 2, ...|[departament 2, 2...|[departament 2 am...|(10000,[1,2,3,4,5...|(5000,[0,1,4,13,6...|(2000,[1,267,352,...|(17000,[1,2,3,4,5...|(17000,[1,2,3,4,5...|\n",
            "+----------+----------+--------------------+------------------+-----+--------+---------+-------------+---------------+-------------+--------------+--------------------+--------------+--------------------+--------------------+--------------------+--------------------+--------------------+--------------------+--------------------+--------------------+--------------------+\n",
            "only showing top 20 rows\n",
            "\n"
          ]
        }
      ],
      "source": [
        "sale_df.show()"
      ]
    },
    {
      "cell_type": "code",
      "execution_count": 7,
      "metadata": {
        "colab": {
          "base_uri": "https://localhost:8080/"
        },
        "id": "29Pmnu0gVGBH",
        "outputId": "d8474c2e-d9dd-47c8-c6f9-8b7d9e08c6a5"
      },
      "outputs": [
        {
          "output_type": "execute_result",
          "data": {
            "text/plain": [
              "210341"
            ]
          },
          "metadata": {},
          "execution_count": 7
        }
      ],
      "source": [
        "sale_df.count()"
      ]
    },
    {
      "cell_type": "code",
      "execution_count": 8,
      "metadata": {
        "colab": {
          "base_uri": "https://localhost:8080/"
        },
        "id": "Wj0QnpHiVTWc",
        "outputId": "99221298-3b4b-443e-84b0-ed947c29ac1f"
      },
      "outputs": [
        {
          "output_type": "execute_result",
          "data": {
            "text/plain": [
              "[('start_date', 'date'),\n",
              " ('end_date', 'string'),\n",
              " ('l2', 'string'),\n",
              " ('l3', 'string'),\n",
              " ('rooms', 'int'),\n",
              " ('bedrooms', 'int'),\n",
              " ('bathrooms', 'int'),\n",
              " ('surface_total', 'double'),\n",
              " ('surface_covered', 'double'),\n",
              " ('property_type', 'string'),\n",
              " ('operation_type', 'string'),\n",
              " ('coordinates', 'array<double>'),\n",
              " ('amount_in_euro', 'double'),\n",
              " ('full_description', 'string'),\n",
              " ('processed_text', 'array<string>'),\n",
              " ('bigrams', 'array<string>'),\n",
              " ('trigrams', 'array<string>'),\n",
              " ('features_unigrams', 'vector'),\n",
              " ('features_bigrams', 'vector'),\n",
              " ('features_trigrams', 'vector'),\n",
              " ('features', 'vector'),\n",
              " ('final_features', 'vector')]"
            ]
          },
          "metadata": {},
          "execution_count": 8
        }
      ],
      "source": [
        "sale_df.dtypes"
      ]
    },
    {
      "cell_type": "code",
      "execution_count": 9,
      "metadata": {
        "id": "IuepBkswVSzv"
      },
      "outputs": [],
      "source": [
        "# dropping some useless columns from text analytics\n",
        "sale_df = sale_df.drop(\"full_description\", \"processed_text\", \"bigrams\", \"trigrams\",\n",
        "                       \"features_unigrams\", \"features_bigrams\", \"features_trigrams\", \"features\")"
      ]
    },
    {
      "cell_type": "markdown",
      "metadata": {
        "id": "eYzP4p4bSBZk"
      },
      "source": [
        "## Classes Creation"
      ]
    },
    {
      "cell_type": "markdown",
      "source": [
        "**Fixing some incorrect values**\n",
        "\n"
      ],
      "metadata": {
        "id": "gHPE8LZ-5uFk"
      }
    },
    {
      "cell_type": "code",
      "execution_count": 10,
      "metadata": {
        "id": "qZiJu5H8RQQs"
      },
      "outputs": [],
      "source": [
        "# casting amount to euro to integer (round to the nearest integer)\n",
        "sale_df = sale_df.withColumn(\"amount_in_euro\", round(\"amount_in_euro\", 2))"
      ]
    },
    {
      "cell_type": "code",
      "execution_count": 11,
      "metadata": {
        "colab": {
          "base_uri": "https://localhost:8080/"
        },
        "id": "1li--2fhVQxY",
        "outputId": "ebd0a9e3-ed24-4adb-b71d-67278fbe0dc5"
      },
      "outputs": [
        {
          "output_type": "stream",
          "name": "stdout",
          "text": [
            "+-------------------+-------------------+-------------------+\n",
            "|min(amount_in_euro)|max(amount_in_euro)|avg(amount_in_euro)|\n",
            "+-------------------+-------------------+-------------------+\n",
            "|              10.01|    9.19999999908E9|  233904.8059317496|\n",
            "+-------------------+-------------------+-------------------+\n",
            "\n"
          ]
        }
      ],
      "source": [
        "sale_df.select(\"amount_in_euro\").agg(min(\"amount_in_euro\"), max(\"amount_in_euro\"), avg(\"amount_in_euro\")).show()"
      ]
    },
    {
      "cell_type": "markdown",
      "metadata": {
        "id": "3dMWXn7Sl_e9"
      },
      "source": [
        "We found some extreme values and we will discard them because there is no logic in buying a house that is 10€ or 9.2x10^9€."
      ]
    },
    {
      "cell_type": "code",
      "execution_count": 12,
      "metadata": {
        "id": "-S3JKg2YWYia"
      },
      "outputs": [],
      "source": [
        "sale_df = sale_df.filter(col(\"amount_in_euro\") != 9199999999.08)"
      ]
    },
    {
      "cell_type": "code",
      "execution_count": 13,
      "metadata": {
        "id": "fbjF9fb0550N"
      },
      "outputs": [],
      "source": [
        "sale_df = sale_df.filter(col(\"amount_in_euro\") != 10.01)"
      ]
    },
    {
      "cell_type": "code",
      "execution_count": 14,
      "metadata": {
        "colab": {
          "base_uri": "https://localhost:8080/"
        },
        "id": "csETmaSwnieu",
        "outputId": "0e7412e7-8917-49e0-eedf-36540c3bacae"
      },
      "outputs": [
        {
          "output_type": "stream",
          "name": "stdout",
          "text": [
            "+-------------------+-------------------+-------------------+\n",
            "|min(amount_in_euro)|max(amount_in_euro)|avg(amount_in_euro)|\n",
            "+-------------------+-------------------+-------------------+\n",
            "|              373.1|     1.0111111101E8|  190168.1132619249|\n",
            "+-------------------+-------------------+-------------------+\n",
            "\n"
          ]
        }
      ],
      "source": [
        "sale_df.select(\"amount_in_euro\").agg(min(\"amount_in_euro\"), max(\"amount_in_euro\"), avg(\"amount_in_euro\")).show()"
      ]
    },
    {
      "cell_type": "markdown",
      "source": [
        "**Log-transformation of the target variable to reduce its skewness**"
      ],
      "metadata": {
        "id": "iGPcPX3a7nma"
      }
    },
    {
      "cell_type": "code",
      "execution_count": 15,
      "metadata": {
        "id": "RGer3qJ8rWSK"
      },
      "outputs": [],
      "source": [
        "# Log-transform the price to reduce skewness\n",
        "sale_df = sale_df.withColumn(\"log_price\", log(col(\"amount_in_euro\")))\n",
        "\n",
        "# min and max for the log price\n",
        "log_price_stats = sale_df.agg(F.min(col(\"log_price\")).alias(\"min_log_price\"),\n",
        "                          F.max(col(\"log_price\")).alias(\"max_log_price\")).collect()\n",
        "\n",
        "min_log_price = log_price_stats[0][\"min_log_price\"]\n",
        "max_log_price = log_price_stats[0][\"max_log_price\"]\n",
        "\n",
        "# bins for the log-transformed prices\n",
        "bin_edges = list(np.linspace(min_log_price, max_log_price, num=5))\n",
        "bucketizer = Bucketizer(splits=bin_edges, inputCol=\"log_price\", outputCol=\"price_bucket\")\n",
        "\n",
        "\n",
        "quantiles = sale_df.approxQuantile(\"log_price\", [0.2, 0.4, 0.6, 0.8], 0.05)\n",
        "# Include the minimum and maximum values to cover all possible values\n",
        "min_price = sale_df.agg(F.min(\"log_price\")).collect()[0][0]\n",
        "max_price = sale_df.agg(F.max(\"log_price\")).collect()[0][0]\n",
        "quantiles = [min_price] + quantiles + [max_price]\n",
        "\n",
        "bucketizer = Bucketizer(splits=quantiles, inputCol=\"log_price\", outputCol=\"price_bucket\")\n",
        "sale_df = bucketizer.transform(sale_df)"
      ]
    },
    {
      "cell_type": "code",
      "execution_count": 16,
      "metadata": {
        "colab": {
          "base_uri": "https://localhost:8080/"
        },
        "id": "XqvdBYdUthCl",
        "outputId": "5cd8239b-9c2d-48a7-c47c-9944867858e2"
      },
      "outputs": [
        {
          "output_type": "stream",
          "name": "stdout",
          "text": [
            "+------------+-----+\n",
            "|price_bucket|count|\n",
            "+------------+-----+\n",
            "|         0.0|41710|\n",
            "|         1.0|40238|\n",
            "|         4.0|50673|\n",
            "|         3.0|38267|\n",
            "|         2.0|39451|\n",
            "+------------+-----+\n",
            "\n"
          ]
        }
      ],
      "source": [
        "sale_df.groupBy(\"price_bucket\").count().show() # displaying the buckets"
      ]
    },
    {
      "cell_type": "code",
      "execution_count": 17,
      "metadata": {
        "colab": {
          "base_uri": "https://localhost:8080/"
        },
        "id": "BI5ASA9kr7Gj",
        "outputId": "f02f24f9-52e9-4996-826e-82e5e0ea07d3"
      },
      "outputs": [
        {
          "output_type": "stream",
          "name": "stdout",
          "text": [
            "Bin ranges (original scale):\n",
            "Bin 0: [373.09999999999985, 53360.00000000001)\n",
            "Bin 1: [53360.00000000001, 84639.99999999997)\n",
            "Bin 2: [84639.99999999997, 128800.0000000001)\n",
            "Bin 3: [128800.0000000001, 210680.00000000015)\n",
            "Bin 4: [210680.00000000015, 101111111.00999996)\n"
          ]
        }
      ],
      "source": [
        "splits = bucketizer.getSplits()\n",
        "# Display the range of each bin\n",
        "print(\"Bin ranges (original scale):\")\n",
        "for i in range(1, len(splits)):\n",
        "    print(f\"Bin {i-1}: [{np.exp(splits[i-1])}, {np.exp(splits[i])})\")"
      ]
    },
    {
      "cell_type": "code",
      "execution_count": 18,
      "metadata": {
        "colab": {
          "base_uri": "https://localhost:8080/",
          "height": 472
        },
        "id": "ee6gtCYivdMe",
        "outputId": "d4d039df-0c3d-4ad8-b8b6-5f14073767d6"
      },
      "outputs": [
        {
          "output_type": "display_data",
          "data": {
            "text/plain": [
              "<Figure size 640x480 with 1 Axes>"
            ],
            "image/png": "[encoded data removed]"
          },
          "metadata": {}
        }
      ],
      "source": [
        "# Barplot of each bucket\n",
        "bucket_counts = sale_df.groupBy(\"price_bucket\").count().orderBy(\"price_bucket\").toPandas()\n",
        "\n",
        "plt.bar(bucket_counts[\"price_bucket\"], bucket_counts[\"count\"], color='slateblue')\n",
        "plt.xlabel('Price Bucket')\n",
        "plt.ylabel('Count')\n",
        "plt.title('Distribution of Price Buckets')\n",
        "plt.xticks(bucket_counts[\"price_bucket\"], [f\"Bucket {int(b)}\" for b in bucket_counts[\"price_bucket\"]])\n",
        "plt.show()"
      ]
    },
    {
      "cell_type": "code",
      "execution_count": 19,
      "metadata": {
        "colab": {
          "base_uri": "https://localhost:8080/"
        },
        "id": "VJPfmeeHxIeI",
        "outputId": "44990c91-037a-4f85-d54c-776d734bb254"
      },
      "outputs": [
        {
          "output_type": "stream",
          "name": "stdout",
          "text": [
            "+------------+----------------+-----+-----------+----------+\n",
            "|price_bucket|   property_type|count|total_count|percentage|\n",
            "+------------+----------------+-----+-----------+----------+\n",
            "|         4.0|           House|18078|      40822|     44.28|\n",
            "|         4.0|       Apartment|12533|      72048|      17.4|\n",
            "|         4.0|           Other|11362|      58134|     19.54|\n",
            "|         4.0|             Lot| 4450|      21807|     20.41|\n",
            "|         4.0|Commercial Space| 1590|       3787|     41.99|\n",
            "|         4.0|          Duplex| 1274|       7706|     16.53|\n",
            "|         4.0|          Office|  758|       2743|     27.63|\n",
            "|         4.0|       Warehouse|  495|        804|     61.57|\n",
            "|         4.0|   Country House|   98|        309|     31.72|\n",
            "|         4.0|          Garage|   35|       2179|      1.61|\n",
            "|         3.0|       Apartment|14361|      72048|     19.93|\n",
            "|         3.0|           House| 9696|      40822|     23.75|\n",
            "|         3.0|           Other| 8821|      58134|     15.17|\n",
            "|         3.0|          Duplex| 2044|       7706|     26.52|\n",
            "|         3.0|             Lot| 1819|      21807|      8.34|\n",
            "|         3.0|Commercial Space|  661|       3787|     17.45|\n",
            "|         3.0|          Office|  612|       2743|     22.31|\n",
            "|         3.0|       Warehouse|  143|        804|     17.79|\n",
            "|         3.0|   Country House|   96|        309|     31.07|\n",
            "|         3.0|          Garage|   14|       2179|      0.64|\n",
            "|         2.0|       Apartment|18419|      72048|     25.56|\n",
            "|         2.0|           Other|10199|      58134|     17.54|\n",
            "|         2.0|           House| 6342|      40822|     15.54|\n",
            "|         2.0|          Duplex| 1849|       7706|     23.99|\n",
            "|         2.0|             Lot| 1525|      21807|      6.99|\n",
            "|         2.0|          Office|  517|       2743|     18.85|\n",
            "|         2.0|Commercial Space|  438|       3787|     11.57|\n",
            "|         2.0|       Warehouse|   88|        804|     10.95|\n",
            "|         2.0|   Country House|   64|        309|     20.71|\n",
            "|         2.0|          Garage|   10|       2179|      0.46|\n",
            "|         1.0|       Apartment|18528|      72048|     25.72|\n",
            "|         1.0|           Other|11948|      58134|     20.55|\n",
            "|         1.0|           House| 4274|      40822|     10.47|\n",
            "|         1.0|             Lot| 2692|      21807|     12.34|\n",
            "|         1.0|          Duplex| 1781|       7706|     23.11|\n",
            "|         1.0|Commercial Space|  499|       3787|     13.18|\n",
            "|         1.0|          Office|  411|       2743|     14.98|\n",
            "|         1.0|       Warehouse|   54|        804|      6.72|\n",
            "|         1.0|   Country House|   35|        309|     11.33|\n",
            "|         1.0|          Garage|   16|       2179|      0.73|\n",
            "|         0.0|           Other|15804|      58134|     27.19|\n",
            "|         0.0|             Lot|11321|      21807|     51.91|\n",
            "|         0.0|       Apartment| 8207|      72048|     11.39|\n",
            "|         0.0|           House| 2432|      40822|      5.96|\n",
            "|         0.0|          Garage| 2104|       2179|     96.56|\n",
            "|         0.0|          Duplex|  758|       7706|      9.84|\n",
            "|         0.0|Commercial Space|  599|       3787|     15.82|\n",
            "|         0.0|          Office|  445|       2743|     16.22|\n",
            "|         0.0|       Warehouse|   24|        804|      2.99|\n",
            "|         0.0|   Country House|   16|        309|      5.18|\n",
            "+------------+----------------+-----+-----------+----------+\n",
            "\n"
          ]
        }
      ],
      "source": [
        "# Step 1: Count each property_type within each price_bucket\n",
        "property_count = sale_df.groupBy(\"price_bucket\", \"property_type\").count()\n",
        "\n",
        "# Step 2: Calculate total counts for each property_type across all buckets\n",
        "total_property_count = property_count.groupBy(\"property_type\").agg(F.sum(\"count\").alias(\"total_count\"))\n",
        "\n",
        "# Step 3: Join the counts with the totals and calculate the percentage\n",
        "percentage_df = property_count.join(total_property_count, \"property_type\") \\\n",
        "    .withColumn(\"percentage\", round(F.col(\"count\") / F.col(\"total_count\") * 100, 2))\n",
        "\n",
        "# Step 4: Select the relevant columns and order for readability\n",
        "result_df = percentage_df.select(\n",
        "    \"price_bucket\", \"property_type\", \"count\", \"total_count\", \"percentage\"\n",
        ").orderBy(\"price_bucket\", \"property_type\")\n",
        "\n",
        "# Step 5: Results\n",
        "result_df.orderBy(\"price_bucket\", \"count\", ascending=False).show(50)"
      ]
    },
    {
      "cell_type": "code",
      "execution_count": 20,
      "metadata": {
        "colab": {
          "base_uri": "https://localhost:8080/"
        },
        "id": "pMnhPX_jEL_X",
        "outputId": "eb0a910f-20f6-404f-ba6c-3e110869e8de"
      },
      "outputs": [
        {
          "output_type": "stream",
          "name": "stdout",
          "text": [
            "+----------+----------+--------------------+------------------+-----+--------+---------+-------------+---------------+-------------+--------------+--------------------+--------------+--------------------+------------------+------------+\n",
            "|start_date|  end_date|                  l2|                l3|rooms|bedrooms|bathrooms|surface_total|surface_covered|property_type|operation_type|         coordinates|amount_in_euro|      final_features|         log_price|price_bucket|\n",
            "+----------+----------+--------------------+------------------+-----+--------+---------+-------------+---------------+-------------+--------------+--------------------+--------------+--------------------+------------------+------------+\n",
            "|2020-09-14|9999-12-31|Bs.As. G.B.A. Zon...|             Morón|    3|       2|        1|       438.17|         347.07|       Duplex|          Sale|[-34.656478881835...|       74620.0|(17000,[0,1,2,3,4...|11.220163846775149|         1.0|\n",
            "|2020-10-13|9999-12-31|     Capital Federal|        Tribunales|    2|       2|        1|        147.0|          130.6|       Office|          Sale|[-34.603145599365...|      374556.0|(17000,[2,10,11,2...| 12.83349660347079|         4.0|\n",
            "|2020-11-21|9999-12-31|Bs.As. G.B.A. Zon...|      San Fernando|    2|       2|        1|         26.0|           25.4|    Apartment|          Sale|[-34.441738128662...|       49140.0|(17000,[1,2,3,5,6...| 10.80242864607517|         0.0|\n",
            "|2020-08-10|9999-12-31|Bs.As. G.B.A. Zon...|Esteban Echeverría|    5|       3|        2|        150.0|          150.0|        House|          Sale|[-34.801128387451...|      163800.0|(17000,[0,1,3,8,9...|12.006401450401107|         3.0|\n",
            "|2020-07-22|9999-12-31|     Capital Federal|      Villa Crespo|    4|       3|        1|        165.0|          154.0|    Apartment|          Sale|[-34.593872070312...|      191100.0|(17000,[2,3,5,6,7...|12.160552130228364|         3.0|\n",
            "|2020-09-13|2021-01-02|Bs.As. G.B.A. Zon...|          La Plata|    6|       5|        3|        230.0|          170.0|        House|          Sale|[-34.932636260986...|      143780.0|(17000,[0,1,2,3,4...|11.876039632537863|         3.0|\n",
            "|2020-09-30|2020-10-01|Bs.As. G.B.A. Zon...|   Lomas de Zamora|    2|       1|        1|       438.17|         347.07|          Lot|          Sale|[-34.765007019042...|      145600.0|(17000,[0,1,2,4,7...|11.888618414744723|         3.0|\n",
            "|2020-10-11|9999-12-31|Bs.As. G.B.A. Zon...|          La Plata|    2|       2|        1|        106.0|           50.0|    Apartment|          Sale|[-34.917877197265...|       81900.0|(17000,[1,2,6,8,1...|11.313254269841162|         1.0|\n",
            "|2020-10-23|2020-11-16|Bs.As. G.B.A. Zon...|             Pilar|    2|       2|        1|        872.0|          358.4|          Lot|          Sale|[-34.459278106689...|      104650.0|(17000,[2,16,20,2...|11.558376727874146|         2.0|\n",
            "|2020-04-26|2020-04-26|Bs.As. G.B.A. Zon...|   Almirante Brown|    1|       0|        1|       438.17|         347.07|          Lot|          Sale|[-34.82080078125,...|       34320.0|(17000,[2,9,15,20...|10.443483553601899|         0.0|\n",
            "|2020-07-02|9999-12-31|     Capital Federal|          Floresta|    5|       3|        2|        160.0|          115.0|        House|          Sale|[-34.636135101318...|      104650.0|(17000,[1,2,3,4,5...|11.558376727874146|         2.0|\n",
            "|2020-09-29|9999-12-31|Buenos Aires Cost...|      Mar Chiquita|    2|       2|        1|       438.17|         347.07|          Lot|          Sale|[-37.867740631103...|       12740.0|(17000,[4,9,16,21...| 9.452501929126154|         0.0|\n",
            "|2020-12-01|9999-12-31|Bs.As. G.B.A. Zon...|           Escobar|    2|       2|        1|       438.17|         347.07|          Lot|          Sale|[-34.879692077636...|       56420.0|(17000,[15,16,19,...|10.940578984555987|         1.0|\n",
            "|2020-08-08|2020-09-15|     Capital Federal|           Palermo|    1|       0|        1|         44.0|           40.0|    Apartment|          Sale|[-34.578514099121...|      136500.0|(17000,[1,3,6,13,...|11.824079893607152|         3.0|\n",
            "|2019-12-24|2020-02-13|     Capital Federal|          Belgrano|    3|       2|        1|         53.0|           53.0|    Apartment|          Sale|[-34.573326110839...|      109375.0|(17000,[0,3,4,5,6...|11.602537623659915|         2.0|\n",
            "|2020-08-05|2020-09-02|Bs.As. G.B.A. Zon...|        La Matanza|    3|       2|        1|         45.0|           40.0|    Apartment|          Sale|[-34.641345977783...|       65520.0|(17000,[0,1,2,3,5...|11.090110718526951|         1.0|\n",
            "|2020-11-16|9999-12-31|            Santa Fe|           Rosario|    3|       1|        1|       438.17|         347.07|    Apartment|          Sale|[-32.924793243408...|      154245.0|(17000,[0,6,10,11...|11.946297526331401|         3.0|\n",
            "|2020-08-12|2020-08-25|     Capital Federal|           Palermo|    2|       1|        1|         50.0|           50.0|    Apartment|          Sale|[-34.577884674072...|      143780.0|(17000,[0,1,2,3,4...|11.876039632537863|         3.0|\n",
            "|2020-08-12|2020-08-14|Bs.As. G.B.A. Zon...|            Ezeiza|    1|       0|        1|       438.17|         347.07|          Lot|          Sale|[-34.904773712158...|       66430.0|(17000,[1,2,4,15,...|11.103904040659287|         1.0|\n",
            "|2020-09-08|2021-02-18|Buenos Aires Cost...|     Mar del Plata|    2|       1|        1|       438.17|         347.07|    Apartment|          Sale|[-37.990852355957...|       80990.0|(17000,[1,2,3,4,5...|11.302080969243036|         1.0|\n",
            "+----------+----------+--------------------+------------------+-----+--------+---------+-------------+---------------+-------------+--------------+--------------------+--------------+--------------------+------------------+------------+\n",
            "only showing top 20 rows\n",
            "\n"
          ]
        }
      ],
      "source": [
        "sale_df.show()"
      ]
    },
    {
      "cell_type": "code",
      "execution_count": 21,
      "metadata": {
        "id": "lwIIhBF-ETvb"
      },
      "outputs": [],
      "source": [
        "sale_df = sale_df.drop(\"amount_in_euro\", \"log_price\") # dropping the price columns"
      ]
    },
    {
      "cell_type": "markdown",
      "metadata": {
        "id": "UCEOYHPGs16O"
      },
      "source": [
        "## Encoding"
      ]
    },
    {
      "cell_type": "markdown",
      "metadata": {
        "id": "RDVLVFrRgTne"
      },
      "source": [
        "### 'Operation Type'"
      ]
    },
    {
      "cell_type": "markdown",
      "metadata": {
        "id": "FhYTD2n-gVsi"
      },
      "source": [
        "There is no need for encoding because we have one unique value in the specific column => drop"
      ]
    },
    {
      "cell_type": "code",
      "execution_count": 22,
      "metadata": {
        "id": "e55t-0B0gYgc"
      },
      "outputs": [],
      "source": [
        "sale_df = sale_df.drop(\"operation_type\")"
      ]
    },
    {
      "cell_type": "markdown",
      "metadata": {
        "id": "178VGTlFbOyS"
      },
      "source": [
        "### 'Start Date' and 'End Date'"
      ]
    },
    {
      "cell_type": "code",
      "execution_count": 23,
      "metadata": {
        "id": "r8fjf72gXfLI"
      },
      "outputs": [],
      "source": [
        "# extracting the year, month and day of the week of each date of the start date of the advertisment\n",
        "sale_df = sale_df.withColumn(\"start_year\", year(\"start_date\")) \\\n",
        "                 .withColumn(\"start_month\", month(\"start_date\")) \\\n",
        "                 .withColumn(\"start_day_of_week\", dayofweek(\"start_date\"))"
      ]
    },
    {
      "cell_type": "code",
      "execution_count": 24,
      "metadata": {
        "id": "M3Fnbc8WXjjD"
      },
      "outputs": [],
      "source": [
        "# extracting the year, month and day of the week of each date of the end date of the advertisment\n",
        "sale_df = sale_df.withColumn(\"end_year\", year(\"end_date\")) \\\n",
        "                 .withColumn(\"end_month\", month(\"end_date\")) \\\n",
        "                 .withColumn(\"end_day_of_week\", dayofweek(\"end_date\"))"
      ]
    },
    {
      "cell_type": "code",
      "execution_count": 25,
      "metadata": {
        "id": "RsZ_y3esYaH6"
      },
      "outputs": [],
      "source": [
        "sale_df = sale_df.withColumn(\"is_active\", F.when(col(\"end_year\") == 9999, 1).otherwise(0))\n",
        "                      # creating an extra column when there is no end date\n",
        "                      # '9999-MM-DD' to represent active advertisments (till the day the dataset has been published on Kaggle)"
      ]
    },
    {
      "cell_type": "code",
      "execution_count": 26,
      "metadata": {
        "id": "FkK5ZOVhH3xr"
      },
      "outputs": [],
      "source": [
        "sale_df = sale_df.withColumn(\"end_year\", F.when(col(\"end_year\") == 9999, 2021).otherwise(col(\"end_year\")))\n",
        "                      # transforming the end_year where there is 9999 to 2021 because this is the date when the dataset was published in Kaggle"
      ]
    },
    {
      "cell_type": "code",
      "execution_count": 27,
      "metadata": {
        "colab": {
          "base_uri": "https://localhost:8080/"
        },
        "id": "KCb_kDhrYlsm",
        "outputId": "1a50148d-d238-4622-bafb-8f524faf3a66"
      },
      "outputs": [
        {
          "output_type": "stream",
          "name": "stdout",
          "text": [
            "+----------+----------+--------------------+------------------+-----+--------+---------+-------------+---------------+-------------+--------------------+--------------------+------------+----------+-----------+-----------------+--------+---------+---------------+---------+\n",
            "|start_date|  end_date|                  l2|                l3|rooms|bedrooms|bathrooms|surface_total|surface_covered|property_type|         coordinates|      final_features|price_bucket|start_year|start_month|start_day_of_week|end_year|end_month|end_day_of_week|is_active|\n",
            "+----------+----------+--------------------+------------------+-----+--------+---------+-------------+---------------+-------------+--------------------+--------------------+------------+----------+-----------+-----------------+--------+---------+---------------+---------+\n",
            "|2020-09-14|9999-12-31|Bs.As. G.B.A. Zon...|             Morón|    3|       2|        1|       438.17|         347.07|       Duplex|[-34.656478881835...|(17000,[0,1,2,3,4...|         1.0|      2020|          9|                2|    2021|       12|              6|        1|\n",
            "|2020-10-13|9999-12-31|     Capital Federal|        Tribunales|    2|       2|        1|        147.0|          130.6|       Office|[-34.603145599365...|(17000,[2,10,11,2...|         4.0|      2020|         10|                3|    2021|       12|              6|        1|\n",
            "|2020-11-21|9999-12-31|Bs.As. G.B.A. Zon...|      San Fernando|    2|       2|        1|         26.0|           25.4|    Apartment|[-34.441738128662...|(17000,[1,2,3,5,6...|         0.0|      2020|         11|                7|    2021|       12|              6|        1|\n",
            "|2020-08-10|9999-12-31|Bs.As. G.B.A. Zon...|Esteban Echeverría|    5|       3|        2|        150.0|          150.0|        House|[-34.801128387451...|(17000,[0,1,3,8,9...|         3.0|      2020|          8|                2|    2021|       12|              6|        1|\n",
            "|2020-07-22|9999-12-31|     Capital Federal|      Villa Crespo|    4|       3|        1|        165.0|          154.0|    Apartment|[-34.593872070312...|(17000,[2,3,5,6,7...|         3.0|      2020|          7|                4|    2021|       12|              6|        1|\n",
            "|2020-09-13|2021-01-02|Bs.As. G.B.A. Zon...|          La Plata|    6|       5|        3|        230.0|          170.0|        House|[-34.932636260986...|(17000,[0,1,2,3,4...|         3.0|      2020|          9|                1|    2021|        1|              7|        0|\n",
            "|2020-09-30|2020-10-01|Bs.As. G.B.A. Zon...|   Lomas de Zamora|    2|       1|        1|       438.17|         347.07|          Lot|[-34.765007019042...|(17000,[0,1,2,4,7...|         3.0|      2020|          9|                4|    2020|       10|              5|        0|\n",
            "|2020-10-11|9999-12-31|Bs.As. G.B.A. Zon...|          La Plata|    2|       2|        1|        106.0|           50.0|    Apartment|[-34.917877197265...|(17000,[1,2,6,8,1...|         1.0|      2020|         10|                1|    2021|       12|              6|        1|\n",
            "|2020-10-23|2020-11-16|Bs.As. G.B.A. Zon...|             Pilar|    2|       2|        1|        872.0|          358.4|          Lot|[-34.459278106689...|(17000,[2,16,20,2...|         2.0|      2020|         10|                6|    2020|       11|              2|        0|\n",
            "|2020-04-26|2020-04-26|Bs.As. G.B.A. Zon...|   Almirante Brown|    1|       0|        1|       438.17|         347.07|          Lot|[-34.82080078125,...|(17000,[2,9,15,20...|         0.0|      2020|          4|                1|    2020|        4|              1|        0|\n",
            "|2020-07-02|9999-12-31|     Capital Federal|          Floresta|    5|       3|        2|        160.0|          115.0|        House|[-34.636135101318...|(17000,[1,2,3,4,5...|         2.0|      2020|          7|                5|    2021|       12|              6|        1|\n",
            "|2020-09-29|9999-12-31|Buenos Aires Cost...|      Mar Chiquita|    2|       2|        1|       438.17|         347.07|          Lot|[-37.867740631103...|(17000,[4,9,16,21...|         0.0|      2020|          9|                3|    2021|       12|              6|        1|\n",
            "|2020-12-01|9999-12-31|Bs.As. G.B.A. Zon...|           Escobar|    2|       2|        1|       438.17|         347.07|          Lot|[-34.879692077636...|(17000,[15,16,19,...|         1.0|      2020|         12|                3|    2021|       12|              6|        1|\n",
            "|2020-08-08|2020-09-15|     Capital Federal|           Palermo|    1|       0|        1|         44.0|           40.0|    Apartment|[-34.578514099121...|(17000,[1,3,6,13,...|         3.0|      2020|          8|                7|    2020|        9|              3|        0|\n",
            "|2019-12-24|2020-02-13|     Capital Federal|          Belgrano|    3|       2|        1|         53.0|           53.0|    Apartment|[-34.573326110839...|(17000,[0,3,4,5,6...|         2.0|      2019|         12|                3|    2020|        2|              5|        0|\n",
            "|2020-08-05|2020-09-02|Bs.As. G.B.A. Zon...|        La Matanza|    3|       2|        1|         45.0|           40.0|    Apartment|[-34.641345977783...|(17000,[0,1,2,3,5...|         1.0|      2020|          8|                4|    2020|        9|              4|        0|\n",
            "|2020-11-16|9999-12-31|            Santa Fe|           Rosario|    3|       1|        1|       438.17|         347.07|    Apartment|[-32.924793243408...|(17000,[0,6,10,11...|         3.0|      2020|         11|                2|    2021|       12|              6|        1|\n",
            "|2020-08-12|2020-08-25|     Capital Federal|           Palermo|    2|       1|        1|         50.0|           50.0|    Apartment|[-34.577884674072...|(17000,[0,1,2,3,4...|         3.0|      2020|          8|                4|    2020|        8|              3|        0|\n",
            "|2020-08-12|2020-08-14|Bs.As. G.B.A. Zon...|            Ezeiza|    1|       0|        1|       438.17|         347.07|          Lot|[-34.904773712158...|(17000,[1,2,4,15,...|         1.0|      2020|          8|                4|    2020|        8|              6|        0|\n",
            "|2020-09-08|2021-02-18|Buenos Aires Cost...|     Mar del Plata|    2|       1|        1|       438.17|         347.07|    Apartment|[-37.990852355957...|(17000,[1,2,3,4,5...|         1.0|      2020|          9|                3|    2021|        2|              5|        0|\n",
            "+----------+----------+--------------------+------------------+-----+--------+---------+-------------+---------------+-------------+--------------------+--------------------+------------+----------+-----------+-----------------+--------+---------+---------------+---------+\n",
            "only showing top 20 rows\n",
            "\n"
          ]
        }
      ],
      "source": [
        "sale_df.show()"
      ]
    },
    {
      "cell_type": "code",
      "execution_count": 28,
      "metadata": {
        "id": "W1VPfo2SY8E3"
      },
      "outputs": [],
      "source": [
        "sale_df = sale_df.drop(\"start_date\", \"end_date\") # dropping 'end_date' and 'start_date' since we have extracted the information from these columns"
      ]
    },
    {
      "cell_type": "markdown",
      "metadata": {
        "id": "WUxWnWX5bdwm"
      },
      "source": [
        "### 'l3'"
      ]
    },
    {
      "cell_type": "code",
      "execution_count": 29,
      "metadata": {
        "colab": {
          "base_uri": "https://localhost:8080/"
        },
        "id": "M6UwzFOcZKhn",
        "outputId": "5d0293ea-746c-4269-e204-c824a17fb7da"
      },
      "outputs": [
        {
          "output_type": "execute_result",
          "data": {
            "text/plain": [
              "868"
            ]
          },
          "metadata": {},
          "execution_count": 29
        }
      ],
      "source": [
        "sale_df.select(\"l3\").distinct().count() # distinct categories of 'l3'"
      ]
    },
    {
      "cell_type": "code",
      "execution_count": 30,
      "metadata": {
        "id": "zIsAbTH6bhas"
      },
      "outputs": [],
      "source": [
        "freq = sale_df.groupBy('l3').count() # frequency of each category\n",
        "\n",
        "# Filter to find categories that appear less than or equal to 8000 times to reduce complexity\n",
        "infrequent_categories = freq.filter(col('count') <= 8000)"
      ]
    },
    {
      "cell_type": "code",
      "execution_count": 31,
      "metadata": {
        "id": "9SeDkwyVbiKn"
      },
      "outputs": [],
      "source": [
        "# List with infrequent categories\n",
        "infrequent_list = infrequent_categories.select('l3').rdd.flatMap(lambda x: x).collect()\n",
        "\n",
        "# Broadcast the infrequent list to optimize join performance\n",
        "infrequent_broadcast = spark.sparkContext.broadcast(infrequent_list)\n",
        "\n",
        "# New column where infrequent categories are replaced by 'Other'\n",
        "sale_df = sale_df.withColumn('l3', when(col('l3').isin(infrequent_broadcast.value), 'Other').otherwise(col('l3')))"
      ]
    },
    {
      "cell_type": "code",
      "execution_count": 32,
      "metadata": {
        "colab": {
          "base_uri": "https://localhost:8080/"
        },
        "id": "yW_EPFrSb7NB",
        "outputId": "a2f38da4-8fff-481d-9ce6-4d116bbb7ec7"
      },
      "outputs": [
        {
          "output_type": "execute_result",
          "data": {
            "text/plain": [
              "5"
            ]
          },
          "metadata": {},
          "execution_count": 32
        }
      ],
      "source": [
        "sale_df.select(\"l3\").distinct().count() # distinct categories of l3"
      ]
    },
    {
      "cell_type": "code",
      "execution_count": 33,
      "metadata": {
        "id": "EGQ4457idcYg"
      },
      "outputs": [],
      "source": [
        "# Indexing the 'l3' column\n",
        "indexer_l3 = StringIndexer(inputCol=\"l3\", outputCol=\"l3_encoded\")\n",
        "\n",
        "# One-hot encoding the indexed values\n",
        "encoder_l3 = OneHotEncoder(inputCols=[\"l3_encoded\"], outputCols=[\"l3_one_hot\"])"
      ]
    },
    {
      "cell_type": "code",
      "execution_count": 34,
      "metadata": {
        "id": "d2mvhQtcebpe"
      },
      "outputs": [],
      "source": [
        "# Pipeline to apply the transformations\n",
        "pipeline_l3 = Pipeline(stages=[indexer_l3, encoder_l3])"
      ]
    },
    {
      "cell_type": "code",
      "execution_count": 35,
      "metadata": {
        "id": "VKJ29_LCeepM"
      },
      "outputs": [],
      "source": [
        "# Fit and transform the DataFrame\n",
        "sale_df = pipeline_l3.fit(sale_df).transform(sale_df)"
      ]
    },
    {
      "cell_type": "code",
      "execution_count": 36,
      "metadata": {
        "colab": {
          "base_uri": "https://localhost:8080/"
        },
        "id": "FJ_8YFTpfnp9",
        "outputId": "fb36e78d-2691-4053-b258-474827886209"
      },
      "outputs": [
        {
          "output_type": "stream",
          "name": "stdout",
          "text": [
            "+--------------------+-------------+-----+--------+---------+-------------+---------------+-------------+--------------------+--------------------+------------+----------+-----------+-----------------+--------+---------+---------------+---------+----------+-------------+\n",
            "|                  l2|           l3|rooms|bedrooms|bathrooms|surface_total|surface_covered|property_type|         coordinates|      final_features|price_bucket|start_year|start_month|start_day_of_week|end_year|end_month|end_day_of_week|is_active|l3_encoded|   l3_one_hot|\n",
            "+--------------------+-------------+-----+--------+---------+-------------+---------------+-------------+--------------------+--------------------+------------+----------+-----------+-----------------+--------+---------+---------------+---------+----------+-------------+\n",
            "|Bs.As. G.B.A. Zon...|        Other|    3|       2|        1|       438.17|         347.07|       Duplex|[-34.656478881835...|(17000,[0,1,2,3,4...|         1.0|      2020|          9|                2|    2021|       12|              6|        1|       0.0|(4,[0],[1.0])|\n",
            "|     Capital Federal|        Other|    2|       2|        1|        147.0|          130.6|       Office|[-34.603145599365...|(17000,[2,10,11,2...|         4.0|      2020|         10|                3|    2021|       12|              6|        1|       0.0|(4,[0],[1.0])|\n",
            "|Bs.As. G.B.A. Zon...|        Other|    2|       2|        1|         26.0|           25.4|    Apartment|[-34.441738128662...|(17000,[1,2,3,5,6...|         0.0|      2020|         11|                7|    2021|       12|              6|        1|       0.0|(4,[0],[1.0])|\n",
            "|Bs.As. G.B.A. Zon...|        Other|    5|       3|        2|        150.0|          150.0|        House|[-34.801128387451...|(17000,[0,1,3,8,9...|         3.0|      2020|          8|                2|    2021|       12|              6|        1|       0.0|(4,[0],[1.0])|\n",
            "|     Capital Federal|        Other|    4|       3|        1|        165.0|          154.0|    Apartment|[-34.593872070312...|(17000,[2,3,5,6,7...|         3.0|      2020|          7|                4|    2021|       12|              6|        1|       0.0|(4,[0],[1.0])|\n",
            "|Bs.As. G.B.A. Zon...|     La Plata|    6|       5|        3|        230.0|          170.0|        House|[-34.932636260986...|(17000,[0,1,2,3,4...|         3.0|      2020|          9|                1|    2021|        1|              7|        0|       3.0|(4,[3],[1.0])|\n",
            "|Bs.As. G.B.A. Zon...|        Other|    2|       1|        1|       438.17|         347.07|          Lot|[-34.765007019042...|(17000,[0,1,2,4,7...|         3.0|      2020|          9|                4|    2020|       10|              5|        0|       0.0|(4,[0],[1.0])|\n",
            "|Bs.As. G.B.A. Zon...|     La Plata|    2|       2|        1|        106.0|           50.0|    Apartment|[-34.917877197265...|(17000,[1,2,6,8,1...|         1.0|      2020|         10|                1|    2021|       12|              6|        1|       3.0|(4,[3],[1.0])|\n",
            "|Bs.As. G.B.A. Zon...|        Other|    2|       2|        1|        872.0|          358.4|          Lot|[-34.459278106689...|(17000,[2,16,20,2...|         2.0|      2020|         10|                6|    2020|       11|              2|        0|       0.0|(4,[0],[1.0])|\n",
            "|Bs.As. G.B.A. Zon...|        Other|    1|       0|        1|       438.17|         347.07|          Lot|[-34.82080078125,...|(17000,[2,9,15,20...|         0.0|      2020|          4|                1|    2020|        4|              1|        0|       0.0|(4,[0],[1.0])|\n",
            "|     Capital Federal|        Other|    5|       3|        2|        160.0|          115.0|        House|[-34.636135101318...|(17000,[1,2,3,4,5...|         2.0|      2020|          7|                5|    2021|       12|              6|        1|       0.0|(4,[0],[1.0])|\n",
            "|Buenos Aires Cost...|        Other|    2|       2|        1|       438.17|         347.07|          Lot|[-37.867740631103...|(17000,[4,9,16,21...|         0.0|      2020|          9|                3|    2021|       12|              6|        1|       0.0|(4,[0],[1.0])|\n",
            "|Bs.As. G.B.A. Zon...|        Other|    2|       2|        1|       438.17|         347.07|          Lot|[-34.879692077636...|(17000,[15,16,19,...|         1.0|      2020|         12|                3|    2021|       12|              6|        1|       0.0|(4,[0],[1.0])|\n",
            "|     Capital Federal|        Other|    1|       0|        1|         44.0|           40.0|    Apartment|[-34.578514099121...|(17000,[1,3,6,13,...|         3.0|      2020|          8|                7|    2020|        9|              3|        0|       0.0|(4,[0],[1.0])|\n",
            "|     Capital Federal|        Other|    3|       2|        1|         53.0|           53.0|    Apartment|[-34.573326110839...|(17000,[0,3,4,5,6...|         2.0|      2019|         12|                3|    2020|        2|              5|        0|       0.0|(4,[0],[1.0])|\n",
            "|Bs.As. G.B.A. Zon...|        Other|    3|       2|        1|         45.0|           40.0|    Apartment|[-34.641345977783...|(17000,[0,1,2,3,5...|         1.0|      2020|          8|                4|    2020|        9|              4|        0|       0.0|(4,[0],[1.0])|\n",
            "|            Santa Fe|      Rosario|    3|       1|        1|       438.17|         347.07|    Apartment|[-32.924793243408...|(17000,[0,6,10,11...|         3.0|      2020|         11|                2|    2021|       12|              6|        1|       2.0|(4,[2],[1.0])|\n",
            "|     Capital Federal|        Other|    2|       1|        1|         50.0|           50.0|    Apartment|[-34.577884674072...|(17000,[0,1,2,3,4...|         3.0|      2020|          8|                4|    2020|        8|              3|        0|       0.0|(4,[0],[1.0])|\n",
            "|Bs.As. G.B.A. Zon...|        Other|    1|       0|        1|       438.17|         347.07|          Lot|[-34.904773712158...|(17000,[1,2,4,15,...|         1.0|      2020|          8|                4|    2020|        8|              6|        0|       0.0|(4,[0],[1.0])|\n",
            "|Buenos Aires Cost...|Mar del Plata|    2|       1|        1|       438.17|         347.07|    Apartment|[-37.990852355957...|(17000,[1,2,3,4,5...|         1.0|      2020|          9|                3|    2021|        2|              5|        0|       1.0|(4,[1],[1.0])|\n",
            "+--------------------+-------------+-----+--------+---------+-------------+---------------+-------------+--------------------+--------------------+------------+----------+-----------+-----------------+--------+---------+---------------+---------+----------+-------------+\n",
            "only showing top 20 rows\n",
            "\n"
          ]
        }
      ],
      "source": [
        "sale_df.show()"
      ]
    },
    {
      "cell_type": "code",
      "execution_count": 37,
      "metadata": {
        "id": "kfbD9TH5gLBf"
      },
      "outputs": [],
      "source": [
        "sale_df = sale_df.drop(\"l3_encoded\", \"l3\") # dropping the l3 an l3 encoded from StringIndexer and keeping the features created from one-hot encoding"
      ]
    },
    {
      "cell_type": "markdown",
      "metadata": {
        "id": "vJXShyjLeWTE"
      },
      "source": [
        "* The *StringIndexer* transforms a column of labels (categorical data)\n",
        "into a column of label indices. These indices are numerical and are easier for machine learning algorithms to work with.  \n",
        " **How It Works:**  The indexer assigns a numerical index to each unique categorical value. By default, the most frequent label gets index 0, the next most frequent label gets index 1, and so on. This ordering can help in some algorithms where the most frequent classes might be given more importance.\n",
        "\n",
        "*  The *OneHotEncoder* takes a column of label indices (as provided by StringIndexer) and encodes it into a binary vector with at most a single one-value per row that indicates the input label index. This is important because it removes the ordinal relationship introduced by the StringIndexer.  \n",
        " **How It Works:** For each unique category (represented by an index), the encoder creates a new binary column."
      ]
    },
    {
      "cell_type": "markdown",
      "metadata": {
        "id": "5j_50ovZf2sK"
      },
      "source": [
        "### 'l2'"
      ]
    },
    {
      "cell_type": "code",
      "execution_count": 38,
      "metadata": {
        "id": "NdR_JIdMf5Yy"
      },
      "outputs": [],
      "source": [
        "# Indexing the 'l2' column\n",
        "indexer_l2 = StringIndexer(inputCol=\"l2\", outputCol=\"l2_encoded\")\n",
        "\n",
        "# One-hot encoding the indexed values\n",
        "encoder_l2 = OneHotEncoder(inputCols=[\"l2_encoded\"], outputCols=[\"l2_one_hot\"])"
      ]
    },
    {
      "cell_type": "code",
      "execution_count": 39,
      "metadata": {
        "id": "Ygjojjpngd3s"
      },
      "outputs": [],
      "source": [
        "# Pipeline to apply the transformations\n",
        "pipeline_l2 = Pipeline(stages=[indexer_l2, encoder_l2])"
      ]
    },
    {
      "cell_type": "code",
      "execution_count": 40,
      "metadata": {
        "id": "ELN9nBHPgf1q"
      },
      "outputs": [],
      "source": [
        "# Fit and transform\n",
        "sale_df = pipeline_l2.fit(sale_df).transform(sale_df)"
      ]
    },
    {
      "cell_type": "code",
      "execution_count": 41,
      "metadata": {
        "colab": {
          "base_uri": "https://localhost:8080/"
        },
        "id": "l--Evu16gfzP",
        "outputId": "5c398944-9110-4881-d0ca-9ef7c1a6561e"
      },
      "outputs": [
        {
          "output_type": "stream",
          "name": "stdout",
          "text": [
            "+--------------------+-----+--------+---------+-------------+---------------+-------------+--------------------+--------------------+------------+----------+-----------+-----------------+--------+---------+---------------+---------+-------------+----------+--------------+\n",
            "|                  l2|rooms|bedrooms|bathrooms|surface_total|surface_covered|property_type|         coordinates|      final_features|price_bucket|start_year|start_month|start_day_of_week|end_year|end_month|end_day_of_week|is_active|   l3_one_hot|l2_encoded|    l2_one_hot|\n",
            "+--------------------+-----+--------+---------+-------------+---------------+-------------+--------------------+--------------------+------------+----------+-----------+-----------------+--------+---------+---------------+---------+-------------+----------+--------------+\n",
            "|Bs.As. G.B.A. Zon...|    3|       2|        1|       438.17|         347.07|       Duplex|[-34.656478881835...|(17000,[0,1,2,3,4...|         1.0|      2020|          9|                2|    2021|       12|              6|        1|(4,[0],[1.0])|       5.0|(27,[5],[1.0])|\n",
            "|     Capital Federal|    2|       2|        1|        147.0|          130.6|       Office|[-34.603145599365...|(17000,[2,10,11,2...|         4.0|      2020|         10|                3|    2021|       12|              6|        1|(4,[0],[1.0])|       1.0|(27,[1],[1.0])|\n",
            "|Bs.As. G.B.A. Zon...|    2|       2|        1|         26.0|           25.4|    Apartment|[-34.441738128662...|(17000,[1,2,3,5,6...|         0.0|      2020|         11|                7|    2021|       12|              6|        1|(4,[0],[1.0])|       3.0|(27,[3],[1.0])|\n",
            "|Bs.As. G.B.A. Zon...|    5|       3|        2|        150.0|          150.0|        House|[-34.801128387451...|(17000,[0,1,3,8,9...|         3.0|      2020|          8|                2|    2021|       12|              6|        1|(4,[0],[1.0])|       2.0|(27,[2],[1.0])|\n",
            "|     Capital Federal|    4|       3|        1|        165.0|          154.0|    Apartment|[-34.593872070312...|(17000,[2,3,5,6,7...|         3.0|      2020|          7|                4|    2021|       12|              6|        1|(4,[0],[1.0])|       1.0|(27,[1],[1.0])|\n",
            "|Bs.As. G.B.A. Zon...|    6|       5|        3|        230.0|          170.0|        House|[-34.932636260986...|(17000,[0,1,2,3,4...|         3.0|      2020|          9|                1|    2021|        1|              7|        0|(4,[3],[1.0])|       2.0|(27,[2],[1.0])|\n",
            "|Bs.As. G.B.A. Zon...|    2|       1|        1|       438.17|         347.07|          Lot|[-34.765007019042...|(17000,[0,1,2,4,7...|         3.0|      2020|          9|                4|    2020|       10|              5|        0|(4,[0],[1.0])|       2.0|(27,[2],[1.0])|\n",
            "|Bs.As. G.B.A. Zon...|    2|       2|        1|        106.0|           50.0|    Apartment|[-34.917877197265...|(17000,[1,2,6,8,1...|         1.0|      2020|         10|                1|    2021|       12|              6|        1|(4,[3],[1.0])|       2.0|(27,[2],[1.0])|\n",
            "|Bs.As. G.B.A. Zon...|    2|       2|        1|        872.0|          358.4|          Lot|[-34.459278106689...|(17000,[2,16,20,2...|         2.0|      2020|         10|                6|    2020|       11|              2|        0|(4,[0],[1.0])|       3.0|(27,[3],[1.0])|\n",
            "|Bs.As. G.B.A. Zon...|    1|       0|        1|       438.17|         347.07|          Lot|[-34.82080078125,...|(17000,[2,9,15,20...|         0.0|      2020|          4|                1|    2020|        4|              1|        0|(4,[0],[1.0])|       2.0|(27,[2],[1.0])|\n",
            "|     Capital Federal|    5|       3|        2|        160.0|          115.0|        House|[-34.636135101318...|(17000,[1,2,3,4,5...|         2.0|      2020|          7|                5|    2021|       12|              6|        1|(4,[0],[1.0])|       1.0|(27,[1],[1.0])|\n",
            "|Buenos Aires Cost...|    2|       2|        1|       438.17|         347.07|          Lot|[-37.867740631103...|(17000,[4,9,16,21...|         0.0|      2020|          9|                3|    2021|       12|              6|        1|(4,[0],[1.0])|       0.0|(27,[0],[1.0])|\n",
            "|Bs.As. G.B.A. Zon...|    2|       2|        1|       438.17|         347.07|          Lot|[-34.879692077636...|(17000,[15,16,19,...|         1.0|      2020|         12|                3|    2021|       12|              6|        1|(4,[0],[1.0])|       3.0|(27,[3],[1.0])|\n",
            "|     Capital Federal|    1|       0|        1|         44.0|           40.0|    Apartment|[-34.578514099121...|(17000,[1,3,6,13,...|         3.0|      2020|          8|                7|    2020|        9|              3|        0|(4,[0],[1.0])|       1.0|(27,[1],[1.0])|\n",
            "|     Capital Federal|    3|       2|        1|         53.0|           53.0|    Apartment|[-34.573326110839...|(17000,[0,3,4,5,6...|         2.0|      2019|         12|                3|    2020|        2|              5|        0|(4,[0],[1.0])|       1.0|(27,[1],[1.0])|\n",
            "|Bs.As. G.B.A. Zon...|    3|       2|        1|         45.0|           40.0|    Apartment|[-34.641345977783...|(17000,[0,1,2,3,5...|         1.0|      2020|          8|                4|    2020|        9|              4|        0|(4,[0],[1.0])|       5.0|(27,[5],[1.0])|\n",
            "|            Santa Fe|    3|       1|        1|       438.17|         347.07|    Apartment|[-32.924793243408...|(17000,[0,6,10,11...|         3.0|      2020|         11|                2|    2021|       12|              6|        1|(4,[2],[1.0])|       4.0|(27,[4],[1.0])|\n",
            "|     Capital Federal|    2|       1|        1|         50.0|           50.0|    Apartment|[-34.577884674072...|(17000,[0,1,2,3,4...|         3.0|      2020|          8|                4|    2020|        8|              3|        0|(4,[0],[1.0])|       1.0|(27,[1],[1.0])|\n",
            "|Bs.As. G.B.A. Zon...|    1|       0|        1|       438.17|         347.07|          Lot|[-34.904773712158...|(17000,[1,2,4,15,...|         1.0|      2020|          8|                4|    2020|        8|              6|        0|(4,[0],[1.0])|       2.0|(27,[2],[1.0])|\n",
            "|Buenos Aires Cost...|    2|       1|        1|       438.17|         347.07|    Apartment|[-37.990852355957...|(17000,[1,2,3,4,5...|         1.0|      2020|          9|                3|    2021|        2|              5|        0|(4,[1],[1.0])|       0.0|(27,[0],[1.0])|\n",
            "+--------------------+-----+--------+---------+-------------+---------------+-------------+--------------------+--------------------+------------+----------+-----------+-----------------+--------+---------+---------------+---------+-------------+----------+--------------+\n",
            "only showing top 20 rows\n",
            "\n"
          ]
        }
      ],
      "source": [
        "sale_df.show()"
      ]
    },
    {
      "cell_type": "code",
      "execution_count": 42,
      "metadata": {
        "id": "As0ulyCdgfw4"
      },
      "outputs": [],
      "source": [
        "sale_df = sale_df.drop(\"l2\", \"l2_encoded\") # dropping the l2 an l2 encoded from StringIndexer and keeping the features created from one-hot encoding"
      ]
    },
    {
      "cell_type": "code",
      "execution_count": 43,
      "metadata": {
        "colab": {
          "base_uri": "https://localhost:8080/"
        },
        "id": "TBVGflm3gfud",
        "outputId": "b6da42f9-e459-4f84-8c8f-554a402769c6"
      },
      "outputs": [
        {
          "output_type": "stream",
          "name": "stdout",
          "text": [
            "+-----+--------+---------+-------------+---------------+-------------+--------------------+--------------------+------------+----------+-----------+-----------------+--------+---------+---------------+---------+-------------+--------------+\n",
            "|rooms|bedrooms|bathrooms|surface_total|surface_covered|property_type|         coordinates|      final_features|price_bucket|start_year|start_month|start_day_of_week|end_year|end_month|end_day_of_week|is_active|   l3_one_hot|    l2_one_hot|\n",
            "+-----+--------+---------+-------------+---------------+-------------+--------------------+--------------------+------------+----------+-----------+-----------------+--------+---------+---------------+---------+-------------+--------------+\n",
            "|    3|       2|        1|       438.17|         347.07|       Duplex|[-34.656478881835...|(17000,[0,1,2,3,4...|         1.0|      2020|          9|                2|    2021|       12|              6|        1|(4,[0],[1.0])|(27,[5],[1.0])|\n",
            "|    2|       2|        1|        147.0|          130.6|       Office|[-34.603145599365...|(17000,[2,10,11,2...|         4.0|      2020|         10|                3|    2021|       12|              6|        1|(4,[0],[1.0])|(27,[1],[1.0])|\n",
            "|    2|       2|        1|         26.0|           25.4|    Apartment|[-34.441738128662...|(17000,[1,2,3,5,6...|         0.0|      2020|         11|                7|    2021|       12|              6|        1|(4,[0],[1.0])|(27,[3],[1.0])|\n",
            "|    5|       3|        2|        150.0|          150.0|        House|[-34.801128387451...|(17000,[0,1,3,8,9...|         3.0|      2020|          8|                2|    2021|       12|              6|        1|(4,[0],[1.0])|(27,[2],[1.0])|\n",
            "|    4|       3|        1|        165.0|          154.0|    Apartment|[-34.593872070312...|(17000,[2,3,5,6,7...|         3.0|      2020|          7|                4|    2021|       12|              6|        1|(4,[0],[1.0])|(27,[1],[1.0])|\n",
            "|    6|       5|        3|        230.0|          170.0|        House|[-34.932636260986...|(17000,[0,1,2,3,4...|         3.0|      2020|          9|                1|    2021|        1|              7|        0|(4,[3],[1.0])|(27,[2],[1.0])|\n",
            "|    2|       1|        1|       438.17|         347.07|          Lot|[-34.765007019042...|(17000,[0,1,2,4,7...|         3.0|      2020|          9|                4|    2020|       10|              5|        0|(4,[0],[1.0])|(27,[2],[1.0])|\n",
            "|    2|       2|        1|        106.0|           50.0|    Apartment|[-34.917877197265...|(17000,[1,2,6,8,1...|         1.0|      2020|         10|                1|    2021|       12|              6|        1|(4,[3],[1.0])|(27,[2],[1.0])|\n",
            "|    2|       2|        1|        872.0|          358.4|          Lot|[-34.459278106689...|(17000,[2,16,20,2...|         2.0|      2020|         10|                6|    2020|       11|              2|        0|(4,[0],[1.0])|(27,[3],[1.0])|\n",
            "|    1|       0|        1|       438.17|         347.07|          Lot|[-34.82080078125,...|(17000,[2,9,15,20...|         0.0|      2020|          4|                1|    2020|        4|              1|        0|(4,[0],[1.0])|(27,[2],[1.0])|\n",
            "|    5|       3|        2|        160.0|          115.0|        House|[-34.636135101318...|(17000,[1,2,3,4,5...|         2.0|      2020|          7|                5|    2021|       12|              6|        1|(4,[0],[1.0])|(27,[1],[1.0])|\n",
            "|    2|       2|        1|       438.17|         347.07|          Lot|[-37.867740631103...|(17000,[4,9,16,21...|         0.0|      2020|          9|                3|    2021|       12|              6|        1|(4,[0],[1.0])|(27,[0],[1.0])|\n",
            "|    2|       2|        1|       438.17|         347.07|          Lot|[-34.879692077636...|(17000,[15,16,19,...|         1.0|      2020|         12|                3|    2021|       12|              6|        1|(4,[0],[1.0])|(27,[3],[1.0])|\n",
            "|    1|       0|        1|         44.0|           40.0|    Apartment|[-34.578514099121...|(17000,[1,3,6,13,...|         3.0|      2020|          8|                7|    2020|        9|              3|        0|(4,[0],[1.0])|(27,[1],[1.0])|\n",
            "|    3|       2|        1|         53.0|           53.0|    Apartment|[-34.573326110839...|(17000,[0,3,4,5,6...|         2.0|      2019|         12|                3|    2020|        2|              5|        0|(4,[0],[1.0])|(27,[1],[1.0])|\n",
            "|    3|       2|        1|         45.0|           40.0|    Apartment|[-34.641345977783...|(17000,[0,1,2,3,5...|         1.0|      2020|          8|                4|    2020|        9|              4|        0|(4,[0],[1.0])|(27,[5],[1.0])|\n",
            "|    3|       1|        1|       438.17|         347.07|    Apartment|[-32.924793243408...|(17000,[0,6,10,11...|         3.0|      2020|         11|                2|    2021|       12|              6|        1|(4,[2],[1.0])|(27,[4],[1.0])|\n",
            "|    2|       1|        1|         50.0|           50.0|    Apartment|[-34.577884674072...|(17000,[0,1,2,3,4...|         3.0|      2020|          8|                4|    2020|        8|              3|        0|(4,[0],[1.0])|(27,[1],[1.0])|\n",
            "|    1|       0|        1|       438.17|         347.07|          Lot|[-34.904773712158...|(17000,[1,2,4,15,...|         1.0|      2020|          8|                4|    2020|        8|              6|        0|(4,[0],[1.0])|(27,[2],[1.0])|\n",
            "|    2|       1|        1|       438.17|         347.07|    Apartment|[-37.990852355957...|(17000,[1,2,3,4,5...|         1.0|      2020|          9|                3|    2021|        2|              5|        0|(4,[1],[1.0])|(27,[0],[1.0])|\n",
            "+-----+--------+---------+-------------+---------------+-------------+--------------------+--------------------+------------+----------+-----------+-----------------+--------+---------+---------------+---------+-------------+--------------+\n",
            "only showing top 20 rows\n",
            "\n"
          ]
        }
      ],
      "source": [
        "sale_df.show()"
      ]
    },
    {
      "cell_type": "markdown",
      "metadata": {
        "id": "FeTEUJDjiPCJ"
      },
      "source": [
        "### 'Property Type'"
      ]
    },
    {
      "cell_type": "code",
      "execution_count": 44,
      "metadata": {
        "id": "lpp8hiWXY3py"
      },
      "outputs": [],
      "source": [
        "# Indexing the property type column\n",
        "indexer_property = StringIndexer(inputCol=\"property_type\", outputCol=\"property_encoded\")\n",
        "\n",
        "# One-hot encoding the indexed values\n",
        "encoder_property = OneHotEncoder(inputCols=[\"property_encoded\"], outputCols=[\"property_one_hot\"])"
      ]
    },
    {
      "cell_type": "code",
      "execution_count": 45,
      "metadata": {
        "id": "mTo_WuK5iaEU"
      },
      "outputs": [],
      "source": [
        "# Pipeline to apply the transformations\n",
        "pipeline_property = Pipeline(stages=[indexer_property, encoder_property])"
      ]
    },
    {
      "cell_type": "code",
      "execution_count": 46,
      "metadata": {
        "id": "cl0kz6ckirYs"
      },
      "outputs": [],
      "source": [
        "# Fit and transform\n",
        "sale_df = pipeline_property.fit(sale_df).transform(sale_df)"
      ]
    },
    {
      "cell_type": "code",
      "execution_count": 47,
      "metadata": {
        "id": "_2eoCeCni2XZ"
      },
      "outputs": [],
      "source": [
        "sale_df = sale_df.drop(\"property_type\", \"property_encoded\") # dropping the property_type an property_encoded from StringIndexer and keeping the features created from one-hot encoding"
      ]
    },
    {
      "cell_type": "code",
      "execution_count": 48,
      "metadata": {
        "colab": {
          "base_uri": "https://localhost:8080/"
        },
        "id": "wdtmMWaqiuwk",
        "outputId": "7a1f5016-1d84-4176-89e0-fc3999c02e52"
      },
      "outputs": [
        {
          "output_type": "stream",
          "name": "stdout",
          "text": [
            "+-----+--------+---------+-------------+---------------+--------------------+--------------------+------------+----------+-----------+-----------------+--------+---------+---------------+---------+-------------+--------------+----------------+\n",
            "|rooms|bedrooms|bathrooms|surface_total|surface_covered|         coordinates|      final_features|price_bucket|start_year|start_month|start_day_of_week|end_year|end_month|end_day_of_week|is_active|   l3_one_hot|    l2_one_hot|property_one_hot|\n",
            "+-----+--------+---------+-------------+---------------+--------------------+--------------------+------------+----------+-----------+-----------------+--------+---------+---------------+---------+-------------+--------------+----------------+\n",
            "|    3|       2|        1|       438.17|         347.07|[-34.656478881835...|(17000,[0,1,2,3,4...|         1.0|      2020|          9|                2|    2021|       12|              6|        1|(4,[0],[1.0])|(27,[5],[1.0])|   (9,[4],[1.0])|\n",
            "|    2|       2|        1|        147.0|          130.6|[-34.603145599365...|(17000,[2,10,11,2...|         4.0|      2020|         10|                3|    2021|       12|              6|        1|(4,[0],[1.0])|(27,[1],[1.0])|   (9,[6],[1.0])|\n",
            "|    2|       2|        1|         26.0|           25.4|[-34.441738128662...|(17000,[1,2,3,5,6...|         0.0|      2020|         11|                7|    2021|       12|              6|        1|(4,[0],[1.0])|(27,[3],[1.0])|   (9,[0],[1.0])|\n",
            "|    5|       3|        2|        150.0|          150.0|[-34.801128387451...|(17000,[0,1,3,8,9...|         3.0|      2020|          8|                2|    2021|       12|              6|        1|(4,[0],[1.0])|(27,[2],[1.0])|   (9,[2],[1.0])|\n",
            "|    4|       3|        1|        165.0|          154.0|[-34.593872070312...|(17000,[2,3,5,6,7...|         3.0|      2020|          7|                4|    2021|       12|              6|        1|(4,[0],[1.0])|(27,[1],[1.0])|   (9,[0],[1.0])|\n",
            "|    6|       5|        3|        230.0|          170.0|[-34.932636260986...|(17000,[0,1,2,3,4...|         3.0|      2020|          9|                1|    2021|        1|              7|        0|(4,[3],[1.0])|(27,[2],[1.0])|   (9,[2],[1.0])|\n",
            "|    2|       1|        1|       438.17|         347.07|[-34.765007019042...|(17000,[0,1,2,4,7...|         3.0|      2020|          9|                4|    2020|       10|              5|        0|(4,[0],[1.0])|(27,[2],[1.0])|   (9,[3],[1.0])|\n",
            "|    2|       2|        1|        106.0|           50.0|[-34.917877197265...|(17000,[1,2,6,8,1...|         1.0|      2020|         10|                1|    2021|       12|              6|        1|(4,[3],[1.0])|(27,[2],[1.0])|   (9,[0],[1.0])|\n",
            "|    2|       2|        1|        872.0|          358.4|[-34.459278106689...|(17000,[2,16,20,2...|         2.0|      2020|         10|                6|    2020|       11|              2|        0|(4,[0],[1.0])|(27,[3],[1.0])|   (9,[3],[1.0])|\n",
            "|    1|       0|        1|       438.17|         347.07|[-34.82080078125,...|(17000,[2,9,15,20...|         0.0|      2020|          4|                1|    2020|        4|              1|        0|(4,[0],[1.0])|(27,[2],[1.0])|   (9,[3],[1.0])|\n",
            "|    5|       3|        2|        160.0|          115.0|[-34.636135101318...|(17000,[1,2,3,4,5...|         2.0|      2020|          7|                5|    2021|       12|              6|        1|(4,[0],[1.0])|(27,[1],[1.0])|   (9,[2],[1.0])|\n",
            "|    2|       2|        1|       438.17|         347.07|[-37.867740631103...|(17000,[4,9,16,21...|         0.0|      2020|          9|                3|    2021|       12|              6|        1|(4,[0],[1.0])|(27,[0],[1.0])|   (9,[3],[1.0])|\n",
            "|    2|       2|        1|       438.17|         347.07|[-34.879692077636...|(17000,[15,16,19,...|         1.0|      2020|         12|                3|    2021|       12|              6|        1|(4,[0],[1.0])|(27,[3],[1.0])|   (9,[3],[1.0])|\n",
            "|    1|       0|        1|         44.0|           40.0|[-34.578514099121...|(17000,[1,3,6,13,...|         3.0|      2020|          8|                7|    2020|        9|              3|        0|(4,[0],[1.0])|(27,[1],[1.0])|   (9,[0],[1.0])|\n",
            "|    3|       2|        1|         53.0|           53.0|[-34.573326110839...|(17000,[0,3,4,5,6...|         2.0|      2019|         12|                3|    2020|        2|              5|        0|(4,[0],[1.0])|(27,[1],[1.0])|   (9,[0],[1.0])|\n",
            "|    3|       2|        1|         45.0|           40.0|[-34.641345977783...|(17000,[0,1,2,3,5...|         1.0|      2020|          8|                4|    2020|        9|              4|        0|(4,[0],[1.0])|(27,[5],[1.0])|   (9,[0],[1.0])|\n",
            "|    3|       1|        1|       438.17|         347.07|[-32.924793243408...|(17000,[0,6,10,11...|         3.0|      2020|         11|                2|    2021|       12|              6|        1|(4,[2],[1.0])|(27,[4],[1.0])|   (9,[0],[1.0])|\n",
            "|    2|       1|        1|         50.0|           50.0|[-34.577884674072...|(17000,[0,1,2,3,4...|         3.0|      2020|          8|                4|    2020|        8|              3|        0|(4,[0],[1.0])|(27,[1],[1.0])|   (9,[0],[1.0])|\n",
            "|    1|       0|        1|       438.17|         347.07|[-34.904773712158...|(17000,[1,2,4,15,...|         1.0|      2020|          8|                4|    2020|        8|              6|        0|(4,[0],[1.0])|(27,[2],[1.0])|   (9,[3],[1.0])|\n",
            "|    2|       1|        1|       438.17|         347.07|[-37.990852355957...|(17000,[1,2,3,4,5...|         1.0|      2020|          9|                3|    2021|        2|              5|        0|(4,[1],[1.0])|(27,[0],[1.0])|   (9,[0],[1.0])|\n",
            "+-----+--------+---------+-------------+---------------+--------------------+--------------------+------------+----------+-----------+-----------------+--------+---------+---------------+---------+-------------+--------------+----------------+\n",
            "only showing top 20 rows\n",
            "\n"
          ]
        }
      ],
      "source": [
        "sale_df.show()"
      ]
    },
    {
      "cell_type": "markdown",
      "metadata": {
        "id": "nP78ZYNPiRiE"
      },
      "source": [
        "### 'Dates (Month and Day of Week)'"
      ]
    },
    {
      "cell_type": "code",
      "execution_count": 49,
      "metadata": {
        "id": "RVUz8qsRiSrY"
      },
      "outputs": [],
      "source": [
        "indexer_date = StringIndexer(inputCols=[\"start_month\", \"end_month\", \"start_day_of_week\", \"end_day_of_week\"],\n",
        "                              outputCols=[\"indexed_start_month\", \"indexed_end_month\", \"indexed_start_day_of_week\", \\\n",
        "                                          \"indexed_end_day_of_week\"])\n",
        "\n",
        "# One-hot encoding the indexed month and day columns\n",
        "encoder_date = OneHotEncoder(inputCols=[\"indexed_start_month\", \"indexed_end_month\", \"indexed_start_day_of_week\", \\\n",
        "                                        \"indexed_end_day_of_week\"],\n",
        "                        outputCols=[\"encoded_start_month\", \"encoded_end_month\", \"encoded_start_day_of_week\", \\\n",
        "                                    \"encoded_end_day_of_week\"])"
      ]
    },
    {
      "cell_type": "code",
      "execution_count": 50,
      "metadata": {
        "id": "pgJbVFx1iSj2"
      },
      "outputs": [],
      "source": [
        "# Pipeline\n",
        "pipeline_date = Pipeline(stages=[indexer_date, encoder_date])"
      ]
    },
    {
      "cell_type": "code",
      "execution_count": 51,
      "metadata": {
        "id": "y3cRItnfiSgj"
      },
      "outputs": [],
      "source": [
        "# Fit the pipeline\n",
        "model_date = pipeline_date.fit(sale_df)\n",
        "\n",
        "# Transform\n",
        "sale_df = model_date.transform(sale_df)"
      ]
    },
    {
      "cell_type": "code",
      "execution_count": 52,
      "metadata": {
        "id": "fzszPzuwiSdl"
      },
      "outputs": [],
      "source": [
        "sale_df = sale_df.drop(\"indexed_start_month\", \"indexed_end_month\", \"indexed_start_day_of_week\", \"indexed_end_day_of_week\",\n",
        "                       \"start_month\", \"start_day_of_week\", \"end_month\", \"end_day_of_week\")"
      ]
    },
    {
      "cell_type": "code",
      "execution_count": 53,
      "metadata": {
        "colab": {
          "base_uri": "https://localhost:8080/"
        },
        "id": "vALhE5x7iSZ_",
        "outputId": "39409240-63ed-488a-a747-075ec42f17c2"
      },
      "outputs": [
        {
          "output_type": "stream",
          "name": "stdout",
          "text": [
            "+-----+--------+---------+-------------+---------------+--------------------+--------------------+------------+----------+--------+---------+-------------+--------------+----------------+-------------------+-----------------+-------------------------+-----------------------+\n",
            "|rooms|bedrooms|bathrooms|surface_total|surface_covered|         coordinates|      final_features|price_bucket|start_year|end_year|is_active|   l3_one_hot|    l2_one_hot|property_one_hot|encoded_start_month|encoded_end_month|encoded_start_day_of_week|encoded_end_day_of_week|\n",
            "+-----+--------+---------+-------------+---------------+--------------------+--------------------+------------+----------+--------+---------+-------------+--------------+----------------+-------------------+-----------------+-------------------------+-----------------------+\n",
            "|    3|       2|        1|       438.17|         347.07|[-34.656478881835...|(17000,[0,1,2,3,4...|         1.0|      2020|    2021|        1|(4,[0],[1.0])|(27,[5],[1.0])|   (9,[4],[1.0])|     (11,[5],[1.0])|   (11,[0],[1.0])|            (6,[5],[1.0])|          (6,[0],[1.0])|\n",
            "|    2|       2|        1|        147.0|          130.6|[-34.603145599365...|(17000,[2,10,11,2...|         4.0|      2020|    2021|        1|(4,[0],[1.0])|(27,[1],[1.0])|   (9,[6],[1.0])|     (11,[4],[1.0])|   (11,[0],[1.0])|            (6,[1],[1.0])|          (6,[0],[1.0])|\n",
            "|    2|       2|        1|         26.0|           25.4|[-34.441738128662...|(17000,[1,2,3,5,6...|         0.0|      2020|    2021|        1|(4,[0],[1.0])|(27,[3],[1.0])|   (9,[0],[1.0])|     (11,[8],[1.0])|   (11,[0],[1.0])|            (6,[4],[1.0])|          (6,[0],[1.0])|\n",
            "|    5|       3|        2|        150.0|          150.0|[-34.801128387451...|(17000,[0,1,3,8,9...|         3.0|      2020|    2021|        1|(4,[0],[1.0])|(27,[2],[1.0])|   (9,[2],[1.0])|     (11,[6],[1.0])|   (11,[0],[1.0])|            (6,[5],[1.0])|          (6,[0],[1.0])|\n",
            "|    4|       3|        1|        165.0|          154.0|[-34.593872070312...|(17000,[2,3,5,6,7...|         3.0|      2020|    2021|        1|(4,[0],[1.0])|(27,[1],[1.0])|   (9,[0],[1.0])|     (11,[7],[1.0])|   (11,[0],[1.0])|            (6,[0],[1.0])|          (6,[0],[1.0])|\n",
            "|    6|       5|        3|        230.0|          170.0|[-34.932636260986...|(17000,[0,1,2,3,4...|         3.0|      2020|    2021|        0|(4,[3],[1.0])|(27,[2],[1.0])|   (9,[2],[1.0])|     (11,[5],[1.0])|   (11,[6],[1.0])|                (6,[],[])|              (6,[],[])|\n",
            "|    2|       1|        1|       438.17|         347.07|[-34.765007019042...|(17000,[0,1,2,4,7...|         3.0|      2020|    2020|        0|(4,[0],[1.0])|(27,[2],[1.0])|   (9,[3],[1.0])|     (11,[5],[1.0])|   (11,[7],[1.0])|            (6,[0],[1.0])|          (6,[4],[1.0])|\n",
            "|    2|       2|        1|        106.0|           50.0|[-34.917877197265...|(17000,[1,2,6,8,1...|         1.0|      2020|    2021|        1|(4,[3],[1.0])|(27,[2],[1.0])|   (9,[0],[1.0])|     (11,[4],[1.0])|   (11,[0],[1.0])|                (6,[],[])|          (6,[0],[1.0])|\n",
            "|    2|       2|        1|        872.0|          358.4|[-34.459278106689...|(17000,[2,16,20,2...|         2.0|      2020|    2020|        0|(4,[0],[1.0])|(27,[3],[1.0])|   (9,[3],[1.0])|     (11,[4],[1.0])|   (11,[9],[1.0])|            (6,[3],[1.0])|          (6,[3],[1.0])|\n",
            "|    1|       0|        1|       438.17|         347.07|[-34.82080078125,...|(17000,[2,9,15,20...|         0.0|      2020|    2020|        0|(4,[0],[1.0])|(27,[2],[1.0])|   (9,[3],[1.0])|     (11,[1],[1.0])|   (11,[1],[1.0])|                (6,[],[])|          (6,[5],[1.0])|\n",
            "|    5|       3|        2|        160.0|          115.0|[-34.636135101318...|(17000,[1,2,3,4,5...|         2.0|      2020|    2021|        1|(4,[0],[1.0])|(27,[1],[1.0])|   (9,[2],[1.0])|     (11,[7],[1.0])|   (11,[0],[1.0])|            (6,[2],[1.0])|          (6,[0],[1.0])|\n",
            "|    2|       2|        1|       438.17|         347.07|[-37.867740631103...|(17000,[4,9,16,21...|         0.0|      2020|    2021|        1|(4,[0],[1.0])|(27,[0],[1.0])|   (9,[3],[1.0])|     (11,[5],[1.0])|   (11,[0],[1.0])|            (6,[1],[1.0])|          (6,[0],[1.0])|\n",
            "|    2|       2|        1|       438.17|         347.07|[-34.879692077636...|(17000,[15,16,19,...|         1.0|      2020|    2021|        1|(4,[0],[1.0])|(27,[3],[1.0])|   (9,[3],[1.0])|     (11,[9],[1.0])|   (11,[0],[1.0])|            (6,[1],[1.0])|          (6,[0],[1.0])|\n",
            "|    1|       0|        1|         44.0|           40.0|[-34.578514099121...|(17000,[1,3,6,13,...|         3.0|      2020|    2020|        0|(4,[0],[1.0])|(27,[1],[1.0])|   (9,[0],[1.0])|     (11,[6],[1.0])|   (11,[4],[1.0])|            (6,[4],[1.0])|          (6,[1],[1.0])|\n",
            "|    3|       2|        1|         53.0|           53.0|[-34.573326110839...|(17000,[0,3,4,5,6...|         2.0|      2019|    2020|        0|(4,[0],[1.0])|(27,[1],[1.0])|   (9,[0],[1.0])|     (11,[9],[1.0])|   (11,[3],[1.0])|            (6,[1],[1.0])|          (6,[4],[1.0])|\n",
            "|    3|       2|        1|         45.0|           40.0|[-34.641345977783...|(17000,[0,1,2,3,5...|         1.0|      2020|    2020|        0|(4,[0],[1.0])|(27,[5],[1.0])|   (9,[0],[1.0])|     (11,[6],[1.0])|   (11,[4],[1.0])|            (6,[0],[1.0])|          (6,[2],[1.0])|\n",
            "|    3|       1|        1|       438.17|         347.07|[-32.924793243408...|(17000,[0,6,10,11...|         3.0|      2020|    2021|        1|(4,[2],[1.0])|(27,[4],[1.0])|   (9,[0],[1.0])|     (11,[8],[1.0])|   (11,[0],[1.0])|            (6,[5],[1.0])|          (6,[0],[1.0])|\n",
            "|    2|       1|        1|         50.0|           50.0|[-34.577884674072...|(17000,[0,1,2,3,4...|         3.0|      2020|    2020|        0|(4,[0],[1.0])|(27,[1],[1.0])|   (9,[0],[1.0])|     (11,[6],[1.0])|   (11,[8],[1.0])|            (6,[0],[1.0])|          (6,[1],[1.0])|\n",
            "|    1|       0|        1|       438.17|         347.07|[-34.904773712158...|(17000,[1,2,4,15,...|         1.0|      2020|    2020|        0|(4,[0],[1.0])|(27,[2],[1.0])|   (9,[3],[1.0])|     (11,[6],[1.0])|   (11,[8],[1.0])|            (6,[0],[1.0])|          (6,[0],[1.0])|\n",
            "|    2|       1|        1|       438.17|         347.07|[-37.990852355957...|(17000,[1,2,3,4,5...|         1.0|      2020|    2021|        0|(4,[1],[1.0])|(27,[0],[1.0])|   (9,[0],[1.0])|     (11,[5],[1.0])|   (11,[3],[1.0])|            (6,[1],[1.0])|          (6,[4],[1.0])|\n",
            "+-----+--------+---------+-------------+---------------+--------------------+--------------------+------------+----------+--------+---------+-------------+--------------+----------------+-------------------+-----------------+-------------------------+-----------------------+\n",
            "only showing top 20 rows\n",
            "\n"
          ]
        }
      ],
      "source": [
        "sale_df.show()"
      ]
    },
    {
      "cell_type": "markdown",
      "metadata": {
        "id": "zoV5X8DAkYkh"
      },
      "source": [
        "## Scaling"
      ]
    },
    {
      "cell_type": "markdown",
      "metadata": {
        "id": "2DMeazVbk00B"
      },
      "source": [
        "### Lat & Lon"
      ]
    },
    {
      "cell_type": "code",
      "execution_count": 54,
      "metadata": {
        "colab": {
          "base_uri": "https://localhost:8080/"
        },
        "id": "pDDfVqOkIrRN",
        "outputId": "4cc54325-02dd-4c8c-af16-cd514ecda25d"
      },
      "outputs": [
        {
          "output_type": "execute_result",
          "data": {
            "text/plain": [
              "[('rooms', 'int'),\n",
              " ('bedrooms', 'int'),\n",
              " ('bathrooms', 'int'),\n",
              " ('surface_total', 'double'),\n",
              " ('surface_covered', 'double'),\n",
              " ('coordinates', 'array<double>'),\n",
              " ('final_features', 'vector'),\n",
              " ('price_bucket', 'double'),\n",
              " ('start_year', 'int'),\n",
              " ('end_year', 'int'),\n",
              " ('is_active', 'int'),\n",
              " ('l3_one_hot', 'vector'),\n",
              " ('l2_one_hot', 'vector'),\n",
              " ('property_one_hot', 'vector'),\n",
              " ('encoded_start_month', 'vector'),\n",
              " ('encoded_end_month', 'vector'),\n",
              " ('encoded_start_day_of_week', 'vector'),\n",
              " ('encoded_end_day_of_week', 'vector')]"
            ]
          },
          "metadata": {},
          "execution_count": 54
        }
      ],
      "source": [
        "sale_df.dtypes"
      ]
    },
    {
      "cell_type": "markdown",
      "metadata": {
        "id": "vNcHDKFvk3yE"
      },
      "source": [
        " For ML we need it to be two columns and not a list thus, we split it."
      ]
    },
    {
      "cell_type": "markdown",
      "metadata": {
        "id": "10sP81-0M-P0"
      },
      "source": [
        "- Scaling: Given that latitude and longitude are on different scales than other features in the dataset, we apply MinMax scaling to normalize them, making them comparable to other features in terms of magnitude."
      ]
    },
    {
      "cell_type": "code",
      "execution_count": 55,
      "metadata": {
        "id": "9kFdAwz8k26Y"
      },
      "outputs": [],
      "source": [
        "sale_df = sale_df.withColumn(\"latitude\", col(\"coordinates\").getItem(0))\n",
        "sale_df = sale_df.withColumn(\"longitude\", col(\"coordinates\").getItem(1))"
      ]
    },
    {
      "cell_type": "code",
      "execution_count": 56,
      "metadata": {
        "id": "Lr-o90kHk_3h"
      },
      "outputs": [],
      "source": [
        "sale_df = sale_df.drop(\"coordinates\")"
      ]
    },
    {
      "cell_type": "code",
      "execution_count": 57,
      "metadata": {
        "id": "L2lnPcWplSiq"
      },
      "outputs": [],
      "source": [
        "assembler_coord = VectorAssembler(inputCols=[\"latitude\", \"longitude\"], outputCol=\"coordinates_vector\")\n",
        "\n",
        "# Define the scaler\n",
        "scaler_coord = MinMaxScaler(inputCol=\"coordinates_vector\", outputCol=\"scaled_coordinates\")"
      ]
    },
    {
      "cell_type": "code",
      "execution_count": 58,
      "metadata": {
        "id": "HzsNlTZhlm8Z"
      },
      "outputs": [],
      "source": [
        "# Create a pipeline and fit it\n",
        "pipeline_coord = Pipeline(stages=[assembler_coord, scaler_coord])\n",
        "model_coord = pipeline_coord.fit(sale_df)\n",
        "sale_df = model_coord.transform(sale_df)"
      ]
    },
    {
      "cell_type": "code",
      "execution_count": 59,
      "metadata": {
        "colab": {
          "base_uri": "https://localhost:8080/"
        },
        "id": "UpnooP6dNRUl",
        "outputId": "90fa482c-16d3-4e59-8c64-99b80a6b089c"
      },
      "outputs": [
        {
          "output_type": "stream",
          "name": "stdout",
          "text": [
            "+-----+--------+---------+-------------+---------------+--------------------+------------+----------+--------+---------+-------------+--------------+----------------+-------------------+-----------------+-------------------------+-----------------------+-------------------+-------------------+--------------------+--------------------+\n",
            "|rooms|bedrooms|bathrooms|surface_total|surface_covered|      final_features|price_bucket|start_year|end_year|is_active|   l3_one_hot|    l2_one_hot|property_one_hot|encoded_start_month|encoded_end_month|encoded_start_day_of_week|encoded_end_day_of_week|           latitude|          longitude|  coordinates_vector|  scaled_coordinates|\n",
            "+-----+--------+---------+-------------+---------------+--------------------+------------+----------+--------+---------+-------------+--------------+----------------+-------------------+-----------------+-------------------------+-----------------------+-------------------+-------------------+--------------------+--------------------+\n",
            "|    3|       2|        1|       438.17|         347.07|(17000,[0,1,2,3,4...|         1.0|      2020|    2021|        1|(4,[0],[1.0])|(27,[5],[1.0])|   (9,[4],[1.0])|     (11,[5],[1.0])|   (11,[0],[1.0])|            (6,[5],[1.0])|          (6,[0],[1.0])| -34.65647888183594|  -58.6475715637207|[-34.656478881835...|[0.20562924935439...|\n",
            "|    2|       2|        1|        147.0|          130.6|(17000,[2,10,11,2...|         4.0|      2020|    2021|        1|(4,[0],[1.0])|(27,[1],[1.0])|   (9,[6],[1.0])|     (11,[4],[1.0])|   (11,[0],[1.0])|            (6,[1],[1.0])|          (6,[0],[1.0])|-34.603145599365234| -58.37456512451172|[-34.603145599365...|[0.20617258378235...|\n",
            "|    2|       2|        1|         26.0|           25.4|(17000,[1,2,3,5,6...|         0.0|      2020|    2021|        1|(4,[0],[1.0])|(27,[3],[1.0])|   (9,[0],[1.0])|     (11,[8],[1.0])|   (11,[0],[1.0])|            (6,[4],[1.0])|          (6,[0],[1.0])| -34.44173812866211| -58.56001663208008|[-34.441738128662...|[0.20781692727106...|\n",
            "|    5|       3|        2|        150.0|          150.0|(17000,[0,1,3,8,9...|         3.0|      2020|    2021|        1|(4,[0],[1.0])|(27,[2],[1.0])|   (9,[2],[1.0])|     (11,[6],[1.0])|   (11,[0],[1.0])|            (6,[5],[1.0])|          (6,[0],[1.0])| -34.80112838745117| -58.47160339355469|[-34.801128387451...|[0.20415562814177...|\n",
            "|    4|       3|        1|        165.0|          154.0|(17000,[2,3,5,6,7...|         3.0|      2020|    2021|        1|(4,[0],[1.0])|(27,[1],[1.0])|   (9,[0],[1.0])|     (11,[7],[1.0])|   (11,[0],[1.0])|            (6,[0],[1.0])|          (6,[0],[1.0])|  -34.5938720703125| -58.44389724731445|[-34.593872070312...|[0.20626705814000...|\n",
            "|    6|       5|        3|        230.0|          170.0|(17000,[0,1,2,3,4...|         3.0|      2020|    2021|        0|(4,[3],[1.0])|(27,[2],[1.0])|   (9,[2],[1.0])|     (11,[5],[1.0])|   (11,[6],[1.0])|                (6,[],[])|              (6,[],[])| -34.93263626098633|   -57.902099609375|[-34.932636260986...|[0.20281588770337...|\n",
            "|    2|       1|        1|       438.17|         347.07|(17000,[0,1,2,4,7...|         3.0|      2020|    2020|        0|(4,[0],[1.0])|(27,[2],[1.0])|   (9,[3],[1.0])|     (11,[5],[1.0])|   (11,[7],[1.0])|            (6,[0],[1.0])|          (6,[4],[1.0])| -34.76500701904297| -58.39433670043945|[-34.765007019042...|[0.20452361567473...|\n",
            "|    2|       2|        1|        106.0|           50.0|(17000,[1,2,6,8,1...|         1.0|      2020|    2021|        1|(4,[3],[1.0])|(27,[2],[1.0])|   (9,[0],[1.0])|     (11,[4],[1.0])|   (11,[0],[1.0])|                (6,[],[])|          (6,[0],[1.0])|-34.917877197265625| -58.00041580200195|[-34.917877197265...|[0.20296624611133...|\n",
            "|    2|       2|        1|        872.0|          358.4|(17000,[2,16,20,2...|         2.0|      2020|    2020|        0|(4,[0],[1.0])|(27,[3],[1.0])|   (9,[3],[1.0])|     (11,[4],[1.0])|   (11,[9],[1.0])|            (6,[3],[1.0])|          (6,[3],[1.0])| -34.45927810668945|-58.810882568359375|[-34.459278106689...|[0.20763823821450...|\n",
            "|    1|       0|        1|       438.17|         347.07|(17000,[2,9,15,20...|         0.0|      2020|    2020|        0|(4,[0],[1.0])|(27,[2],[1.0])|   (9,[3],[1.0])|     (11,[1],[1.0])|   (11,[1],[1.0])|                (6,[],[])|          (6,[5],[1.0])|    -34.82080078125| -58.35802459716797|[-34.82080078125,...|[0.20395521503506...|\n",
            "|    5|       3|        2|        160.0|          115.0|(17000,[1,2,3,4,5...|         2.0|      2020|    2021|        1|(4,[0],[1.0])|(27,[1],[1.0])|   (9,[2],[1.0])|     (11,[7],[1.0])|   (11,[0],[1.0])|            (6,[2],[1.0])|          (6,[0],[1.0])| -34.63613510131836|-58.490638732910156|[-34.636135101318...|[0.20583650223361...|\n",
            "|    2|       2|        1|       438.17|         347.07|(17000,[4,9,16,21...|         0.0|      2020|    2021|        1|(4,[0],[1.0])|(27,[0],[1.0])|   (9,[3],[1.0])|     (11,[5],[1.0])|   (11,[0],[1.0])|            (6,[1],[1.0])|          (6,[0],[1.0])|-37.867740631103516| -57.52729034423828|[-37.867740631103...|[0.17291442317594...|\n",
            "|    2|       2|        1|       438.17|         347.07|(17000,[15,16,19,...|         1.0|      2020|    2021|        1|(4,[0],[1.0])|(27,[3],[1.0])|   (9,[3],[1.0])|     (11,[9],[1.0])|   (11,[0],[1.0])|            (6,[1],[1.0])|          (6,[0],[1.0])| -34.87969207763672|-59.226341247558594|[-34.879692077636...|[0.20335525817226...|\n",
            "|    1|       0|        1|         44.0|           40.0|(17000,[1,3,6,13,...|         3.0|      2020|    2020|        0|(4,[0],[1.0])|(27,[1],[1.0])|   (9,[0],[1.0])|     (11,[6],[1.0])|   (11,[4],[1.0])|            (6,[4],[1.0])|          (6,[1],[1.0])|-34.578514099121094| -58.40805435180664|[-34.578514099121...|[0.20642351793594...|\n",
            "|    3|       2|        1|         53.0|           53.0|(17000,[0,3,4,5,6...|         2.0|      2019|    2020|        0|(4,[0],[1.0])|(27,[1],[1.0])|   (9,[0],[1.0])|     (11,[9],[1.0])|   (11,[3],[1.0])|            (6,[1],[1.0])|          (6,[4],[1.0])|-34.573326110839844| -58.43914031982422|[-34.573326110839...|[0.20647637072344...|\n",
            "|    3|       2|        1|         45.0|           40.0|(17000,[0,1,2,3,5...|         1.0|      2020|    2020|        0|(4,[0],[1.0])|(27,[5],[1.0])|   (9,[0],[1.0])|     (11,[6],[1.0])|   (11,[4],[1.0])|            (6,[0],[1.0])|          (6,[2],[1.0])|  -34.6413459777832| -58.55253601074219|[-34.641345977783...|[0.20578341627205...|\n",
            "|    3|       1|        1|       438.17|         347.07|(17000,[0,6,10,11...|         3.0|      2020|    2021|        1|(4,[2],[1.0])|(27,[4],[1.0])|   (9,[0],[1.0])|     (11,[8],[1.0])|   (11,[0],[1.0])|            (6,[5],[1.0])|          (6,[0],[1.0])|  -32.9247932434082| -60.67075729370117|[-32.924793243408...|[0.22327084916164...|\n",
            "|    2|       1|        1|         50.0|           50.0|(17000,[0,1,2,3,4...|         3.0|      2020|    2020|        0|(4,[0],[1.0])|(27,[1],[1.0])|   (9,[0],[1.0])|     (11,[6],[1.0])|   (11,[8],[1.0])|            (6,[0],[1.0])|          (6,[1],[1.0])|-34.577884674072266|  -58.4124755859375|[-34.577884674072...|[0.20642993022266...|\n",
            "|    1|       0|        1|       438.17|         347.07|(17000,[1,2,4,15,...|         1.0|      2020|    2020|        0|(4,[0],[1.0])|(27,[2],[1.0])|   (9,[3],[1.0])|     (11,[6],[1.0])|   (11,[8],[1.0])|            (6,[0],[1.0])|          (6,[0],[1.0])|  -34.9047737121582|-58.521663665771484|[-34.904773712158...|[0.20309973826211...|\n",
            "|    2|       1|        1|       438.17|         347.07|(17000,[1,2,3,4,5...|         1.0|      2020|    2021|        0|(4,[1],[1.0])|(27,[0],[1.0])|   (9,[0],[1.0])|     (11,[5],[1.0])|   (11,[3],[1.0])|            (6,[1],[1.0])|          (6,[4],[1.0])| -37.99085235595703| -57.54829788208008|[-37.990852355957...|[0.17166021875613...|\n",
            "+-----+--------+---------+-------------+---------------+--------------------+------------+----------+--------+---------+-------------+--------------+----------------+-------------------+-----------------+-------------------------+-----------------------+-------------------+-------------------+--------------------+--------------------+\n",
            "only showing top 20 rows\n",
            "\n"
          ]
        }
      ],
      "source": [
        "sale_df.show()"
      ]
    },
    {
      "cell_type": "code",
      "execution_count": 60,
      "metadata": {
        "id": "6lRFLs6LODYA"
      },
      "outputs": [],
      "source": [
        "sale_df = sale_df.drop(\"latitude\", \"longitude\", \"coordinates_vector\")"
      ]
    },
    {
      "cell_type": "markdown",
      "metadata": {
        "id": "-BYSIS2ANKLk"
      },
      "source": [
        "- Clustering Geographic Locations: We use clustering algorithms like K-means to cluster geographical locations. Clusters can then be treated as categorical features, where each cluster label represents a group of locations with similar latitudes and longitudes."
      ]
    },
    {
      "cell_type": "code",
      "execution_count": 61,
      "metadata": {
        "id": "8A02sqDuNHGs"
      },
      "outputs": [],
      "source": [
        "kmeans = KMeans(featuresCol='scaled_coordinates', predictionCol='geo_cluster', k=10)\n",
        "model_kmeans = kmeans.fit(sale_df)\n",
        "sale_df = model_kmeans.transform(sale_df)"
      ]
    },
    {
      "cell_type": "code",
      "execution_count": 62,
      "metadata": {
        "colab": {
          "base_uri": "https://localhost:8080/"
        },
        "id": "TwhK4JAJlqLR",
        "outputId": "95ffa7ae-9181-48a0-ea67-71c90efbb46e"
      },
      "outputs": [
        {
          "output_type": "stream",
          "name": "stdout",
          "text": [
            "+-----+--------+---------+-------------+---------------+--------------------+------------+----------+--------+---------+-------------+--------------+----------------+-------------------+-----------------+-------------------------+-----------------------+--------------------+-----------+\n",
            "|rooms|bedrooms|bathrooms|surface_total|surface_covered|      final_features|price_bucket|start_year|end_year|is_active|   l3_one_hot|    l2_one_hot|property_one_hot|encoded_start_month|encoded_end_month|encoded_start_day_of_week|encoded_end_day_of_week|  scaled_coordinates|geo_cluster|\n",
            "+-----+--------+---------+-------------+---------------+--------------------+------------+----------+--------+---------+-------------+--------------+----------------+-------------------+-----------------+-------------------------+-----------------------+--------------------+-----------+\n",
            "|    3|       2|        1|       438.17|         347.07|(17000,[0,1,2,3,4...|         1.0|      2020|    2021|        1|(4,[0],[1.0])|(27,[5],[1.0])|   (9,[4],[1.0])|     (11,[5],[1.0])|   (11,[0],[1.0])|            (6,[5],[1.0])|          (6,[0],[1.0])|[0.20562924935439...|          0|\n",
            "|    2|       2|        1|        147.0|          130.6|(17000,[2,10,11,2...|         4.0|      2020|    2021|        1|(4,[0],[1.0])|(27,[1],[1.0])|   (9,[6],[1.0])|     (11,[4],[1.0])|   (11,[0],[1.0])|            (6,[1],[1.0])|          (6,[0],[1.0])|[0.20617258378235...|          0|\n",
            "|    2|       2|        1|         26.0|           25.4|(17000,[1,2,3,5,6...|         0.0|      2020|    2021|        1|(4,[0],[1.0])|(27,[3],[1.0])|   (9,[0],[1.0])|     (11,[8],[1.0])|   (11,[0],[1.0])|            (6,[4],[1.0])|          (6,[0],[1.0])|[0.20781692727106...|          0|\n",
            "|    5|       3|        2|        150.0|          150.0|(17000,[0,1,3,8,9...|         3.0|      2020|    2021|        1|(4,[0],[1.0])|(27,[2],[1.0])|   (9,[2],[1.0])|     (11,[6],[1.0])|   (11,[0],[1.0])|            (6,[5],[1.0])|          (6,[0],[1.0])|[0.20415562814177...|          0|\n",
            "|    4|       3|        1|        165.0|          154.0|(17000,[2,3,5,6,7...|         3.0|      2020|    2021|        1|(4,[0],[1.0])|(27,[1],[1.0])|   (9,[0],[1.0])|     (11,[7],[1.0])|   (11,[0],[1.0])|            (6,[0],[1.0])|          (6,[0],[1.0])|[0.20626705814000...|          0|\n",
            "|    6|       5|        3|        230.0|          170.0|(17000,[0,1,2,3,4...|         3.0|      2020|    2021|        0|(4,[3],[1.0])|(27,[2],[1.0])|   (9,[2],[1.0])|     (11,[5],[1.0])|   (11,[6],[1.0])|                (6,[],[])|              (6,[],[])|[0.20281588770337...|          0|\n",
            "|    2|       1|        1|       438.17|         347.07|(17000,[0,1,2,4,7...|         3.0|      2020|    2020|        0|(4,[0],[1.0])|(27,[2],[1.0])|   (9,[3],[1.0])|     (11,[5],[1.0])|   (11,[7],[1.0])|            (6,[0],[1.0])|          (6,[4],[1.0])|[0.20452361567473...|          0|\n",
            "|    2|       2|        1|        106.0|           50.0|(17000,[1,2,6,8,1...|         1.0|      2020|    2021|        1|(4,[3],[1.0])|(27,[2],[1.0])|   (9,[0],[1.0])|     (11,[4],[1.0])|   (11,[0],[1.0])|                (6,[],[])|          (6,[0],[1.0])|[0.20296624611133...|          0|\n",
            "|    2|       2|        1|        872.0|          358.4|(17000,[2,16,20,2...|         2.0|      2020|    2020|        0|(4,[0],[1.0])|(27,[3],[1.0])|   (9,[3],[1.0])|     (11,[4],[1.0])|   (11,[9],[1.0])|            (6,[3],[1.0])|          (6,[3],[1.0])|[0.20763823821450...|          0|\n",
            "|    1|       0|        1|       438.17|         347.07|(17000,[2,9,15,20...|         0.0|      2020|    2020|        0|(4,[0],[1.0])|(27,[2],[1.0])|   (9,[3],[1.0])|     (11,[1],[1.0])|   (11,[1],[1.0])|                (6,[],[])|          (6,[5],[1.0])|[0.20395521503506...|          0|\n",
            "|    5|       3|        2|        160.0|          115.0|(17000,[1,2,3,4,5...|         2.0|      2020|    2021|        1|(4,[0],[1.0])|(27,[1],[1.0])|   (9,[2],[1.0])|     (11,[7],[1.0])|   (11,[0],[1.0])|            (6,[2],[1.0])|          (6,[0],[1.0])|[0.20583650223361...|          0|\n",
            "|    2|       2|        1|       438.17|         347.07|(17000,[4,9,16,21...|         0.0|      2020|    2021|        1|(4,[0],[1.0])|(27,[0],[1.0])|   (9,[3],[1.0])|     (11,[5],[1.0])|   (11,[0],[1.0])|            (6,[1],[1.0])|          (6,[0],[1.0])|[0.17291442317594...|          3|\n",
            "|    2|       2|        1|       438.17|         347.07|(17000,[15,16,19,...|         1.0|      2020|    2021|        1|(4,[0],[1.0])|(27,[3],[1.0])|   (9,[3],[1.0])|     (11,[9],[1.0])|   (11,[0],[1.0])|            (6,[1],[1.0])|          (6,[0],[1.0])|[0.20335525817226...|          5|\n",
            "|    1|       0|        1|         44.0|           40.0|(17000,[1,3,6,13,...|         3.0|      2020|    2020|        0|(4,[0],[1.0])|(27,[1],[1.0])|   (9,[0],[1.0])|     (11,[6],[1.0])|   (11,[4],[1.0])|            (6,[4],[1.0])|          (6,[1],[1.0])|[0.20642351793594...|          0|\n",
            "|    3|       2|        1|         53.0|           53.0|(17000,[0,3,4,5,6...|         2.0|      2019|    2020|        0|(4,[0],[1.0])|(27,[1],[1.0])|   (9,[0],[1.0])|     (11,[9],[1.0])|   (11,[3],[1.0])|            (6,[1],[1.0])|          (6,[4],[1.0])|[0.20647637072344...|          0|\n",
            "|    3|       2|        1|         45.0|           40.0|(17000,[0,1,2,3,5...|         1.0|      2020|    2020|        0|(4,[0],[1.0])|(27,[5],[1.0])|   (9,[0],[1.0])|     (11,[6],[1.0])|   (11,[4],[1.0])|            (6,[0],[1.0])|          (6,[2],[1.0])|[0.20578341627205...|          0|\n",
            "|    3|       1|        1|       438.17|         347.07|(17000,[0,6,10,11...|         3.0|      2020|    2021|        1|(4,[2],[1.0])|(27,[4],[1.0])|   (9,[0],[1.0])|     (11,[8],[1.0])|   (11,[0],[1.0])|            (6,[5],[1.0])|          (6,[0],[1.0])|[0.22327084916164...|          4|\n",
            "|    2|       1|        1|         50.0|           50.0|(17000,[0,1,2,3,4...|         3.0|      2020|    2020|        0|(4,[0],[1.0])|(27,[1],[1.0])|   (9,[0],[1.0])|     (11,[6],[1.0])|   (11,[8],[1.0])|            (6,[0],[1.0])|          (6,[1],[1.0])|[0.20642993022266...|          0|\n",
            "|    1|       0|        1|       438.17|         347.07|(17000,[1,2,4,15,...|         1.0|      2020|    2020|        0|(4,[0],[1.0])|(27,[2],[1.0])|   (9,[3],[1.0])|     (11,[6],[1.0])|   (11,[8],[1.0])|            (6,[0],[1.0])|          (6,[0],[1.0])|[0.20309973826211...|          0|\n",
            "|    2|       1|        1|       438.17|         347.07|(17000,[1,2,3,4,5...|         1.0|      2020|    2021|        0|(4,[1],[1.0])|(27,[0],[1.0])|   (9,[0],[1.0])|     (11,[5],[1.0])|   (11,[3],[1.0])|            (6,[1],[1.0])|          (6,[4],[1.0])|[0.17166021875613...|          3|\n",
            "+-----+--------+---------+-------------+---------------+--------------------+------------+----------+--------+---------+-------------+--------------+----------------+-------------------+-----------------+-------------------------+-----------------------+--------------------+-----------+\n",
            "only showing top 20 rows\n",
            "\n"
          ]
        }
      ],
      "source": [
        "sale_df.show()"
      ]
    },
    {
      "cell_type": "code",
      "execution_count": 63,
      "metadata": {
        "id": "XNDdqpmuOk47"
      },
      "outputs": [],
      "source": [
        "sale_df = sale_df.drop(\"scaled_coordinates\")"
      ]
    },
    {
      "cell_type": "markdown",
      "metadata": {
        "id": "ILSAjxAxOqtU"
      },
      "source": [
        "### Rooms, Bedrooms, Bathrooms, Surface_total, Surface_covered"
      ]
    },
    {
      "cell_type": "code",
      "execution_count": 64,
      "metadata": {
        "id": "133FPuLpmBjI"
      },
      "outputs": [],
      "source": [
        "assembler_other = VectorAssembler(\n",
        "    inputCols=[\"rooms\", \"bedrooms\", \"bathrooms\", \"surface_total\", \"surface_covered\"],\n",
        "    outputCol=\"features\"\n",
        ")"
      ]
    },
    {
      "cell_type": "code",
      "execution_count": 65,
      "metadata": {
        "id": "YqK4QmFmmBY8"
      },
      "outputs": [],
      "source": [
        "scaler_other = MinMaxScaler(\n",
        "    inputCol=\"features\",\n",
        "    outputCol=\"scaled_features\"\n",
        ")"
      ]
    },
    {
      "cell_type": "code",
      "execution_count": 66,
      "metadata": {
        "id": "9mdY0rRwmBU1"
      },
      "outputs": [],
      "source": [
        "pipeline_other = Pipeline(stages=[assembler_other, scaler_other])\n",
        "\n",
        "# Fit the pipeline to the DataFrame\n",
        "model_other = pipeline_other.fit(sale_df)\n",
        "\n",
        "# Transform the DataFrame\n",
        "sale_df = model_other.transform(sale_df)"
      ]
    },
    {
      "cell_type": "code",
      "execution_count": 67,
      "metadata": {
        "id": "TNshfwMRRq7U"
      },
      "outputs": [],
      "source": [
        "def split_array_to_list(col):\n",
        "    def to_list(v):\n",
        "        return v.toArray().tolist()\n",
        "    return F.udf(to_list, ArrayType(DoubleType()))(col)"
      ]
    },
    {
      "cell_type": "code",
      "execution_count": 68,
      "metadata": {
        "id": "HByeaSWsYRMO"
      },
      "outputs": [],
      "source": [
        "sale_df = sale_df.withColumn(\"scaled_features\", split_array_to_list(F.col(\"scaled_features\")))"
      ]
    },
    {
      "cell_type": "code",
      "execution_count": 69,
      "metadata": {
        "id": "FLDAiyK3YVfd"
      },
      "outputs": [],
      "source": [
        "for i, feature in enumerate([\"rooms\", \"bedrooms\", \"bathrooms\", \"surface_total\", \"surface_covered\"]):\n",
        "    sale_df = sale_df.withColumn(f\"{feature}_scaled\", col(\"scaled_features\")[i])"
      ]
    },
    {
      "cell_type": "code",
      "execution_count": 70,
      "metadata": {
        "colab": {
          "base_uri": "https://localhost:8080/"
        },
        "id": "sl57geYZSBqe",
        "outputId": "25fc786a-b69b-49b3-c230-f310b58cdfd1"
      },
      "outputs": [
        {
          "output_type": "stream",
          "name": "stdout",
          "text": [
            "+-----+--------+---------+-------------+---------------+--------------------+------------+----------+--------+---------+-------------+--------------+----------------+-------------------+-----------------+-------------------------+-----------------------+-----------+--------------------+--------------------+-------------------+--------------------+-------------------+--------------------+----------------------+\n",
            "|rooms|bedrooms|bathrooms|surface_total|surface_covered|      final_features|price_bucket|start_year|end_year|is_active|   l3_one_hot|    l2_one_hot|property_one_hot|encoded_start_month|encoded_end_month|encoded_start_day_of_week|encoded_end_day_of_week|geo_cluster|            features|     scaled_features|       rooms_scaled|     bedrooms_scaled|   bathrooms_scaled|surface_total_scaled|surface_covered_scaled|\n",
            "+-----+--------+---------+-------------+---------------+--------------------+------------+----------+--------+---------+-------------+--------------+----------------+-------------------+-----------------+-------------------------+-----------------------+-----------+--------------------+--------------------+-------------------+--------------------+-------------------+--------------------+----------------------+\n",
            "|    3|       2|        1|       438.17|         347.07|(17000,[0,1,2,3,4...|         1.0|      2020|    2021|        1|(4,[0],[1.0])|(27,[5],[1.0])|   (9,[4],[1.0])|     (11,[5],[1.0])|   (11,[0],[1.0])|            (6,[5],[1.0])|          (6,[0],[1.0])|          0|[3.0,2.0,1.0,438....|[0.05128205128205...|0.05128205128205128| 0.02857142857142857|                0.0|3.293617918167629...|  2.677461332502974...|\n",
            "|    2|       2|        1|        147.0|          130.6|(17000,[2,10,11,2...|         4.0|      2020|    2021|        1|(4,[0],[1.0])|(27,[1],[1.0])|   (9,[6],[1.0])|     (11,[4],[1.0])|   (11,[0],[1.0])|            (6,[1],[1.0])|          (6,[0],[1.0])|          0|[2.0,2.0,1.0,147....|[0.02564102564102...|0.02564102564102564| 0.02857142857142857|                0.0|1.053846964497665E-5|  1.012307614437875...|\n",
            "|    2|       2|        1|         26.0|           25.4|(17000,[1,2,3,5,6...|         0.0|      2020|    2021|        1|(4,[0],[1.0])|(27,[3],[1.0])|   (9,[0],[1.0])|     (11,[8],[1.0])|   (11,[0],[1.0])|            (6,[4],[1.0])|          (6,[0],[1.0])|          0|[2.0,2.0,1.0,26.0...|[0.02564102564102...|0.02564102564102564| 0.02857142857142857|                0.0|1.230770177515521...|  2.030769074556225E-6|\n",
            "|    5|       3|        2|        150.0|          150.0|(17000,[0,1,3,8,9...|         3.0|      2020|    2021|        1|(4,[0],[1.0])|(27,[2],[1.0])|   (9,[2],[1.0])|     (11,[6],[1.0])|   (11,[0],[1.0])|            (6,[5],[1.0])|          (6,[0],[1.0])|          0|[5.0,3.0,2.0,150....|[0.10256410256410...|0.10256410256410256| 0.04285714285714286|0.05263157894736842|1.076923905326081E-5|  1.161538372189355...|\n",
            "|    4|       3|        1|        165.0|          154.0|(17000,[2,3,5,6,7...|         3.0|      2020|    2021|        1|(4,[0],[1.0])|(27,[1],[1.0])|   (9,[0],[1.0])|     (11,[7],[1.0])|   (11,[0],[1.0])|            (6,[0],[1.0])|          (6,[0],[1.0])|          0|[4.0,3.0,1.0,165....|[0.07692307692307...|0.07692307692307693| 0.04285714285714286|                0.0|1.192308609468161...|  1.192307600591723E-5|\n",
            "|    6|       5|        3|        230.0|          170.0|(17000,[0,1,2,3,4...|         3.0|      2020|    2021|        0|(4,[3],[1.0])|(27,[2],[1.0])|   (9,[2],[1.0])|     (11,[5],[1.0])|   (11,[6],[1.0])|                (6,[],[])|              (6,[],[])|          0|[6.0,5.0,3.0,230....|[0.12820512820512...| 0.1282051282051282| 0.07142857142857142|0.10526315789473684|1.692308994083841...|  1.315384514201191...|\n",
            "|    2|       1|        1|       438.17|         347.07|(17000,[0,1,2,4,7...|         3.0|      2020|    2020|        0|(4,[0],[1.0])|(27,[2],[1.0])|   (9,[3],[1.0])|     (11,[5],[1.0])|   (11,[7],[1.0])|            (6,[0],[1.0])|          (6,[4],[1.0])|          0|[2.0,1.0,1.0,438....|[0.02564102564102...|0.02564102564102564|0.014285714285714285|                0.0|3.293617918167629...|  2.677461332502974...|\n",
            "|    2|       2|        1|        106.0|           50.0|(17000,[1,2,6,8,1...|         1.0|      2020|    2021|        1|(4,[3],[1.0])|(27,[2],[1.0])|   (9,[0],[1.0])|     (11,[4],[1.0])|   (11,[0],[1.0])|                (6,[],[])|          (6,[0],[1.0])|          0|[2.0,2.0,1.0,106....|[0.02564102564102...|0.02564102564102564| 0.02857142857142857|                0.0|7.384621065093128E-6|  3.923076621301798E-6|\n",
            "|    2|       2|        1|        872.0|          358.4|(17000,[2,16,20,2...|         2.0|      2020|    2020|        0|(4,[0],[1.0])|(27,[3],[1.0])|   (9,[3],[1.0])|     (11,[4],[1.0])|   (11,[9],[1.0])|            (6,[3],[1.0])|          (6,[3],[1.0])|          0|[2.0,2.0,1.0,872....|[0.02564102564102...|0.02564102564102564| 0.02857142857142857|                0.0|6.630774331364871E-5|  2.764615171952678...|\n",
            "|    1|       0|        1|       438.17|         347.07|(17000,[2,9,15,20...|         0.0|      2020|    2020|        0|(4,[0],[1.0])|(27,[2],[1.0])|   (9,[3],[1.0])|     (11,[1],[1.0])|   (11,[1],[1.0])|                (6,[],[])|          (6,[5],[1.0])|          0|[1.0,0.0,1.0,438....|[0.0, 0.0, 0.0, 3...|                0.0|                 0.0|                0.0|3.293617918167629...|  2.677461332502974...|\n",
            "|    5|       3|        2|        160.0|          115.0|(17000,[1,2,3,4,5...|         2.0|      2020|    2021|        1|(4,[0],[1.0])|(27,[1],[1.0])|   (9,[2],[1.0])|     (11,[7],[1.0])|   (11,[0],[1.0])|            (6,[2],[1.0])|          (6,[0],[1.0])|          0|[5.0,3.0,2.0,160....|[0.10256410256410...|0.10256410256410256| 0.04285714285714286|0.05263157894736842|1.153847041420801...|  8.923076236686442E-6|\n",
            "|    2|       2|        1|       438.17|         347.07|(17000,[4,9,16,21...|         0.0|      2020|    2021|        1|(4,[0],[1.0])|(27,[0],[1.0])|   (9,[3],[1.0])|     (11,[5],[1.0])|   (11,[0],[1.0])|            (6,[1],[1.0])|          (6,[0],[1.0])|          3|[2.0,2.0,1.0,438....|[0.02564102564102...|0.02564102564102564| 0.02857142857142857|                0.0|3.293617918167629...|  2.677461332502974...|\n",
            "|    2|       2|        1|       438.17|         347.07|(17000,[15,16,19,...|         1.0|      2020|    2021|        1|(4,[0],[1.0])|(27,[3],[1.0])|   (9,[3],[1.0])|     (11,[9],[1.0])|   (11,[0],[1.0])|            (6,[1],[1.0])|          (6,[0],[1.0])|          5|[2.0,2.0,1.0,438....|[0.02564102564102...|0.02564102564102564| 0.02857142857142857|                0.0|3.293617918167629...|  2.677461332502974...|\n",
            "|    1|       0|        1|         44.0|           40.0|(17000,[1,3,6,13,...|         3.0|      2020|    2020|        0|(4,[0],[1.0])|(27,[1],[1.0])|   (9,[0],[1.0])|     (11,[6],[1.0])|   (11,[4],[1.0])|            (6,[4],[1.0])|          (6,[1],[1.0])|          0|[1.0,0.0,1.0,44.0...|[0.0, 0.0, 0.0, 2...|                0.0|                 0.0|                0.0|2.615386627220482...|  3.153845911242622E-6|\n",
            "|    3|       2|        1|         53.0|           53.0|(17000,[0,3,4,5,6...|         2.0|      2019|    2020|        0|(4,[0],[1.0])|(27,[1],[1.0])|   (9,[0],[1.0])|     (11,[9],[1.0])|   (11,[3],[1.0])|            (6,[1],[1.0])|          (6,[4],[1.0])|          0|[3.0,2.0,1.0,53.0...|[0.05128205128205...|0.05128205128205128| 0.02857142857142857|                0.0|3.307694852072963...|  4.153845834319551E-6|\n",
            "|    3|       2|        1|         45.0|           40.0|(17000,[0,1,2,3,5...|         1.0|      2020|    2020|        0|(4,[0],[1.0])|(27,[5],[1.0])|   (9,[0],[1.0])|     (11,[6],[1.0])|   (11,[4],[1.0])|            (6,[0],[1.0])|          (6,[2],[1.0])|          0|[3.0,2.0,1.0,45.0...|[0.05128205128205...|0.05128205128205128| 0.02857142857142857|                0.0|2.692309763315202...|  3.153845911242622E-6|\n",
            "|    3|       1|        1|       438.17|         347.07|(17000,[0,6,10,11...|         3.0|      2020|    2021|        1|(4,[2],[1.0])|(27,[4],[1.0])|   (9,[0],[1.0])|     (11,[8],[1.0])|   (11,[0],[1.0])|            (6,[5],[1.0])|          (6,[0],[1.0])|          4|[3.0,1.0,1.0,438....|[0.05128205128205...|0.05128205128205128|0.014285714285714285|                0.0|3.293617918167629...|  2.677461332502974...|\n",
            "|    2|       1|        1|         50.0|           50.0|(17000,[0,1,2,3,4...|         3.0|      2020|    2020|        0|(4,[0],[1.0])|(27,[1],[1.0])|   (9,[0],[1.0])|     (11,[6],[1.0])|   (11,[8],[1.0])|            (6,[0],[1.0])|          (6,[1],[1.0])|          0|[2.0,1.0,1.0,50.0...|[0.02564102564102...|0.02564102564102564|0.014285714285714285|                0.0|3.076925443788803E-6|  3.923076621301798E-6|\n",
            "|    1|       0|        1|       438.17|         347.07|(17000,[1,2,4,15,...|         1.0|      2020|    2020|        0|(4,[0],[1.0])|(27,[2],[1.0])|   (9,[3],[1.0])|     (11,[6],[1.0])|   (11,[8],[1.0])|            (6,[0],[1.0])|          (6,[0],[1.0])|          0|[1.0,0.0,1.0,438....|[0.0, 0.0, 0.0, 3...|                0.0|                 0.0|                0.0|3.293617918167629...|  2.677461332502974...|\n",
            "|    2|       1|        1|       438.17|         347.07|(17000,[1,2,3,4,5...|         1.0|      2020|    2021|        0|(4,[1],[1.0])|(27,[0],[1.0])|   (9,[0],[1.0])|     (11,[5],[1.0])|   (11,[3],[1.0])|            (6,[1],[1.0])|          (6,[4],[1.0])|          3|[2.0,1.0,1.0,438....|[0.02564102564102...|0.02564102564102564|0.014285714285714285|                0.0|3.293617918167629...|  2.677461332502974...|\n",
            "+-----+--------+---------+-------------+---------------+--------------------+------------+----------+--------+---------+-------------+--------------+----------------+-------------------+-----------------+-------------------------+-----------------------+-----------+--------------------+--------------------+-------------------+--------------------+-------------------+--------------------+----------------------+\n",
            "only showing top 20 rows\n",
            "\n"
          ]
        }
      ],
      "source": [
        "sale_df.show()"
      ]
    },
    {
      "cell_type": "code",
      "execution_count": 71,
      "metadata": {
        "id": "9N_n599Imb7m"
      },
      "outputs": [],
      "source": [
        "sale_df = sale_df.drop(\"rooms\", \"bedrooms\", \"bathrooms\", \"surface_total\", \"surface_covered\", \"features\", \"scaled_features\")"
      ]
    },
    {
      "cell_type": "code",
      "execution_count": 72,
      "metadata": {
        "colab": {
          "base_uri": "https://localhost:8080/"
        },
        "id": "aKzpzN55mb3X",
        "outputId": "8246aa4c-3da5-4188-cdce-ecc155927b75"
      },
      "outputs": [
        {
          "output_type": "stream",
          "name": "stdout",
          "text": [
            "+--------------------+------------+----------+--------+---------+-------------+--------------+----------------+-------------------+-----------------+-------------------------+-----------------------+-----------+-------------------+--------------------+-------------------+--------------------+----------------------+\n",
            "|      final_features|price_bucket|start_year|end_year|is_active|   l3_one_hot|    l2_one_hot|property_one_hot|encoded_start_month|encoded_end_month|encoded_start_day_of_week|encoded_end_day_of_week|geo_cluster|       rooms_scaled|     bedrooms_scaled|   bathrooms_scaled|surface_total_scaled|surface_covered_scaled|\n",
            "+--------------------+------------+----------+--------+---------+-------------+--------------+----------------+-------------------+-----------------+-------------------------+-----------------------+-----------+-------------------+--------------------+-------------------+--------------------+----------------------+\n",
            "|(17000,[0,1,2,3,4...|         1.0|      2020|    2021|        1|(4,[0],[1.0])|(27,[5],[1.0])|   (9,[4],[1.0])|     (11,[5],[1.0])|   (11,[0],[1.0])|            (6,[5],[1.0])|          (6,[0],[1.0])|          0|0.05128205128205128| 0.02857142857142857|                0.0|3.293617918167629...|  2.677461332502974...|\n",
            "|(17000,[2,10,11,2...|         4.0|      2020|    2021|        1|(4,[0],[1.0])|(27,[1],[1.0])|   (9,[6],[1.0])|     (11,[4],[1.0])|   (11,[0],[1.0])|            (6,[1],[1.0])|          (6,[0],[1.0])|          0|0.02564102564102564| 0.02857142857142857|                0.0|1.053846964497665E-5|  1.012307614437875...|\n",
            "|(17000,[1,2,3,5,6...|         0.0|      2020|    2021|        1|(4,[0],[1.0])|(27,[3],[1.0])|   (9,[0],[1.0])|     (11,[8],[1.0])|   (11,[0],[1.0])|            (6,[4],[1.0])|          (6,[0],[1.0])|          0|0.02564102564102564| 0.02857142857142857|                0.0|1.230770177515521...|  2.030769074556225E-6|\n",
            "|(17000,[0,1,3,8,9...|         3.0|      2020|    2021|        1|(4,[0],[1.0])|(27,[2],[1.0])|   (9,[2],[1.0])|     (11,[6],[1.0])|   (11,[0],[1.0])|            (6,[5],[1.0])|          (6,[0],[1.0])|          0|0.10256410256410256| 0.04285714285714286|0.05263157894736842|1.076923905326081E-5|  1.161538372189355...|\n",
            "|(17000,[2,3,5,6,7...|         3.0|      2020|    2021|        1|(4,[0],[1.0])|(27,[1],[1.0])|   (9,[0],[1.0])|     (11,[7],[1.0])|   (11,[0],[1.0])|            (6,[0],[1.0])|          (6,[0],[1.0])|          0|0.07692307692307693| 0.04285714285714286|                0.0|1.192308609468161...|  1.192307600591723E-5|\n",
            "|(17000,[0,1,2,3,4...|         3.0|      2020|    2021|        0|(4,[3],[1.0])|(27,[2],[1.0])|   (9,[2],[1.0])|     (11,[5],[1.0])|   (11,[6],[1.0])|                (6,[],[])|              (6,[],[])|          0| 0.1282051282051282| 0.07142857142857142|0.10526315789473684|1.692308994083841...|  1.315384514201191...|\n",
            "|(17000,[0,1,2,4,7...|         3.0|      2020|    2020|        0|(4,[0],[1.0])|(27,[2],[1.0])|   (9,[3],[1.0])|     (11,[5],[1.0])|   (11,[7],[1.0])|            (6,[0],[1.0])|          (6,[4],[1.0])|          0|0.02564102564102564|0.014285714285714285|                0.0|3.293617918167629...|  2.677461332502974...|\n",
            "|(17000,[1,2,6,8,1...|         1.0|      2020|    2021|        1|(4,[3],[1.0])|(27,[2],[1.0])|   (9,[0],[1.0])|     (11,[4],[1.0])|   (11,[0],[1.0])|                (6,[],[])|          (6,[0],[1.0])|          0|0.02564102564102564| 0.02857142857142857|                0.0|7.384621065093128E-6|  3.923076621301798E-6|\n",
            "|(17000,[2,16,20,2...|         2.0|      2020|    2020|        0|(4,[0],[1.0])|(27,[3],[1.0])|   (9,[3],[1.0])|     (11,[4],[1.0])|   (11,[9],[1.0])|            (6,[3],[1.0])|          (6,[3],[1.0])|          0|0.02564102564102564| 0.02857142857142857|                0.0|6.630774331364871E-5|  2.764615171952678...|\n",
            "|(17000,[2,9,15,20...|         0.0|      2020|    2020|        0|(4,[0],[1.0])|(27,[2],[1.0])|   (9,[3],[1.0])|     (11,[1],[1.0])|   (11,[1],[1.0])|                (6,[],[])|          (6,[5],[1.0])|          0|                0.0|                 0.0|                0.0|3.293617918167629...|  2.677461332502974...|\n",
            "|(17000,[1,2,3,4,5...|         2.0|      2020|    2021|        1|(4,[0],[1.0])|(27,[1],[1.0])|   (9,[2],[1.0])|     (11,[7],[1.0])|   (11,[0],[1.0])|            (6,[2],[1.0])|          (6,[0],[1.0])|          0|0.10256410256410256| 0.04285714285714286|0.05263157894736842|1.153847041420801...|  8.923076236686442E-6|\n",
            "|(17000,[4,9,16,21...|         0.0|      2020|    2021|        1|(4,[0],[1.0])|(27,[0],[1.0])|   (9,[3],[1.0])|     (11,[5],[1.0])|   (11,[0],[1.0])|            (6,[1],[1.0])|          (6,[0],[1.0])|          3|0.02564102564102564| 0.02857142857142857|                0.0|3.293617918167629...|  2.677461332502974...|\n",
            "|(17000,[15,16,19,...|         1.0|      2020|    2021|        1|(4,[0],[1.0])|(27,[3],[1.0])|   (9,[3],[1.0])|     (11,[9],[1.0])|   (11,[0],[1.0])|            (6,[1],[1.0])|          (6,[0],[1.0])|          5|0.02564102564102564| 0.02857142857142857|                0.0|3.293617918167629...|  2.677461332502974...|\n",
            "|(17000,[1,3,6,13,...|         3.0|      2020|    2020|        0|(4,[0],[1.0])|(27,[1],[1.0])|   (9,[0],[1.0])|     (11,[6],[1.0])|   (11,[4],[1.0])|            (6,[4],[1.0])|          (6,[1],[1.0])|          0|                0.0|                 0.0|                0.0|2.615386627220482...|  3.153845911242622E-6|\n",
            "|(17000,[0,3,4,5,6...|         2.0|      2019|    2020|        0|(4,[0],[1.0])|(27,[1],[1.0])|   (9,[0],[1.0])|     (11,[9],[1.0])|   (11,[3],[1.0])|            (6,[1],[1.0])|          (6,[4],[1.0])|          0|0.05128205128205128| 0.02857142857142857|                0.0|3.307694852072963...|  4.153845834319551E-6|\n",
            "|(17000,[0,1,2,3,5...|         1.0|      2020|    2020|        0|(4,[0],[1.0])|(27,[5],[1.0])|   (9,[0],[1.0])|     (11,[6],[1.0])|   (11,[4],[1.0])|            (6,[0],[1.0])|          (6,[2],[1.0])|          0|0.05128205128205128| 0.02857142857142857|                0.0|2.692309763315202...|  3.153845911242622E-6|\n",
            "|(17000,[0,6,10,11...|         3.0|      2020|    2021|        1|(4,[2],[1.0])|(27,[4],[1.0])|   (9,[0],[1.0])|     (11,[8],[1.0])|   (11,[0],[1.0])|            (6,[5],[1.0])|          (6,[0],[1.0])|          4|0.05128205128205128|0.014285714285714285|                0.0|3.293617918167629...|  2.677461332502974...|\n",
            "|(17000,[0,1,2,3,4...|         3.0|      2020|    2020|        0|(4,[0],[1.0])|(27,[1],[1.0])|   (9,[0],[1.0])|     (11,[6],[1.0])|   (11,[8],[1.0])|            (6,[0],[1.0])|          (6,[1],[1.0])|          0|0.02564102564102564|0.014285714285714285|                0.0|3.076925443788803E-6|  3.923076621301798E-6|\n",
            "|(17000,[1,2,4,15,...|         1.0|      2020|    2020|        0|(4,[0],[1.0])|(27,[2],[1.0])|   (9,[3],[1.0])|     (11,[6],[1.0])|   (11,[8],[1.0])|            (6,[0],[1.0])|          (6,[0],[1.0])|          0|                0.0|                 0.0|                0.0|3.293617918167629...|  2.677461332502974...|\n",
            "|(17000,[1,2,3,4,5...|         1.0|      2020|    2021|        0|(4,[1],[1.0])|(27,[0],[1.0])|   (9,[0],[1.0])|     (11,[5],[1.0])|   (11,[3],[1.0])|            (6,[1],[1.0])|          (6,[4],[1.0])|          3|0.02564102564102564|0.014285714285714285|                0.0|3.293617918167629...|  2.677461332502974...|\n",
            "+--------------------+------------+----------+--------+---------+-------------+--------------+----------------+-------------------+-----------------+-------------------------+-----------------------+-----------+-------------------+--------------------+-------------------+--------------------+----------------------+\n",
            "only showing top 20 rows\n",
            "\n"
          ]
        }
      ],
      "source": [
        "sale_df.show()"
      ]
    },
    {
      "cell_type": "code",
      "source": [
        "sale_df = sale_df.drop('surface_covered_scaled')"
      ],
      "metadata": {
        "id": "VWGN2Q8ECVux"
      },
      "execution_count": 73,
      "outputs": []
    },
    {
      "cell_type": "code",
      "source": [
        "sale_df.write.format(\"parquet\").mode(\"overwrite\").save(google_drive_path + \"sale_ml.parquet\")"
      ],
      "metadata": {
        "id": "krMTMvk6CWN9"
      },
      "execution_count": 74,
      "outputs": []
    },
    {
      "cell_type": "markdown",
      "source": [
        "### Final Features"
      ],
      "metadata": {
        "id": "0MRaqvDOFBYI"
      }
    },
    {
      "cell_type": "code",
      "execution_count": 75,
      "metadata": {
        "id": "eqBLmk0Wpxlt"
      },
      "outputs": [],
      "source": [
        "minmax_scaler = MinMaxScaler(inputCol=\"final_features\", outputCol=\"scaled_final_features\")\n",
        "\n",
        "minmax_scaler_model = minmax_scaler.fit(sale_df)\n",
        "\n",
        "sale_df = minmax_scaler_model.transform(sale_df)"
      ]
    },
    {
      "cell_type": "code",
      "source": [
        "sale_df = sale_df.drop(\"final_features\")"
      ],
      "metadata": {
        "id": "EfNOsL6PLE-Y"
      },
      "execution_count": 76,
      "outputs": []
    },
    {
      "cell_type": "code",
      "source": [
        "sale_df.show()"
      ],
      "metadata": {
        "colab": {
          "base_uri": "https://localhost:8080/"
        },
        "id": "227wmOvGLS-3",
        "outputId": "003ec11d-c2fc-419d-8564-56951d3b91e6"
      },
      "execution_count": 77,
      "outputs": [
        {
          "output_type": "stream",
          "name": "stdout",
          "text": [
            "+------------+----------+--------+---------+-------------+--------------+----------------+-------------------+-----------------+-------------------------+-----------------------+-----------+-------------------+--------------------+-------------------+--------------------+---------------------+\n",
            "|price_bucket|start_year|end_year|is_active|   l3_one_hot|    l2_one_hot|property_one_hot|encoded_start_month|encoded_end_month|encoded_start_day_of_week|encoded_end_day_of_week|geo_cluster|       rooms_scaled|     bedrooms_scaled|   bathrooms_scaled|surface_total_scaled|scaled_final_features|\n",
            "+------------+----------+--------+---------+-------------+--------------+----------------+-------------------+-----------------+-------------------------+-----------------------+-----------+-------------------+--------------------+-------------------+--------------------+---------------------+\n",
            "|         1.0|      2020|    2021|        1|(4,[0],[1.0])|(27,[5],[1.0])|   (9,[4],[1.0])|     (11,[5],[1.0])|   (11,[0],[1.0])|            (6,[5],[1.0])|          (6,[0],[1.0])|          0|0.05128205128205128| 0.02857142857142857|                0.0|3.293617918167629...| (17000,[0,1,2,3,4...|\n",
            "|         4.0|      2020|    2021|        1|(4,[0],[1.0])|(27,[1],[1.0])|   (9,[6],[1.0])|     (11,[4],[1.0])|   (11,[0],[1.0])|            (6,[1],[1.0])|          (6,[0],[1.0])|          0|0.02564102564102564| 0.02857142857142857|                0.0|1.053846964497665E-5| (17000,[2,10,11,2...|\n",
            "|         0.0|      2020|    2021|        1|(4,[0],[1.0])|(27,[3],[1.0])|   (9,[0],[1.0])|     (11,[8],[1.0])|   (11,[0],[1.0])|            (6,[4],[1.0])|          (6,[0],[1.0])|          0|0.02564102564102564| 0.02857142857142857|                0.0|1.230770177515521...| (17000,[1,2,3,5,6...|\n",
            "|         3.0|      2020|    2021|        1|(4,[0],[1.0])|(27,[2],[1.0])|   (9,[2],[1.0])|     (11,[6],[1.0])|   (11,[0],[1.0])|            (6,[5],[1.0])|          (6,[0],[1.0])|          0|0.10256410256410256| 0.04285714285714286|0.05263157894736842|1.076923905326081E-5| (17000,[0,1,3,8,9...|\n",
            "|         3.0|      2020|    2021|        1|(4,[0],[1.0])|(27,[1],[1.0])|   (9,[0],[1.0])|     (11,[7],[1.0])|   (11,[0],[1.0])|            (6,[0],[1.0])|          (6,[0],[1.0])|          0|0.07692307692307693| 0.04285714285714286|                0.0|1.192308609468161...| (17000,[2,3,5,6,7...|\n",
            "|         3.0|      2020|    2021|        0|(4,[3],[1.0])|(27,[2],[1.0])|   (9,[2],[1.0])|     (11,[5],[1.0])|   (11,[6],[1.0])|                (6,[],[])|              (6,[],[])|          0| 0.1282051282051282| 0.07142857142857142|0.10526315789473684|1.692308994083841...| (17000,[0,1,2,3,4...|\n",
            "|         3.0|      2020|    2020|        0|(4,[0],[1.0])|(27,[2],[1.0])|   (9,[3],[1.0])|     (11,[5],[1.0])|   (11,[7],[1.0])|            (6,[0],[1.0])|          (6,[4],[1.0])|          0|0.02564102564102564|0.014285714285714285|                0.0|3.293617918167629...| (17000,[0,1,2,4,7...|\n",
            "|         1.0|      2020|    2021|        1|(4,[3],[1.0])|(27,[2],[1.0])|   (9,[0],[1.0])|     (11,[4],[1.0])|   (11,[0],[1.0])|                (6,[],[])|          (6,[0],[1.0])|          0|0.02564102564102564| 0.02857142857142857|                0.0|7.384621065093128E-6| (17000,[1,2,6,8,1...|\n",
            "|         2.0|      2020|    2020|        0|(4,[0],[1.0])|(27,[3],[1.0])|   (9,[3],[1.0])|     (11,[4],[1.0])|   (11,[9],[1.0])|            (6,[3],[1.0])|          (6,[3],[1.0])|          0|0.02564102564102564| 0.02857142857142857|                0.0|6.630774331364871E-5| (17000,[2,16,20,2...|\n",
            "|         0.0|      2020|    2020|        0|(4,[0],[1.0])|(27,[2],[1.0])|   (9,[3],[1.0])|     (11,[1],[1.0])|   (11,[1],[1.0])|                (6,[],[])|          (6,[5],[1.0])|          0|                0.0|                 0.0|                0.0|3.293617918167629...| (17000,[2,9,15,20...|\n",
            "|         2.0|      2020|    2021|        1|(4,[0],[1.0])|(27,[1],[1.0])|   (9,[2],[1.0])|     (11,[7],[1.0])|   (11,[0],[1.0])|            (6,[2],[1.0])|          (6,[0],[1.0])|          0|0.10256410256410256| 0.04285714285714286|0.05263157894736842|1.153847041420801...| (17000,[1,2,3,4,5...|\n",
            "|         0.0|      2020|    2021|        1|(4,[0],[1.0])|(27,[0],[1.0])|   (9,[3],[1.0])|     (11,[5],[1.0])|   (11,[0],[1.0])|            (6,[1],[1.0])|          (6,[0],[1.0])|          3|0.02564102564102564| 0.02857142857142857|                0.0|3.293617918167629...| (17000,[4,9,16,21...|\n",
            "|         1.0|      2020|    2021|        1|(4,[0],[1.0])|(27,[3],[1.0])|   (9,[3],[1.0])|     (11,[9],[1.0])|   (11,[0],[1.0])|            (6,[1],[1.0])|          (6,[0],[1.0])|          5|0.02564102564102564| 0.02857142857142857|                0.0|3.293617918167629...| (17000,[15,16,19,...|\n",
            "|         3.0|      2020|    2020|        0|(4,[0],[1.0])|(27,[1],[1.0])|   (9,[0],[1.0])|     (11,[6],[1.0])|   (11,[4],[1.0])|            (6,[4],[1.0])|          (6,[1],[1.0])|          0|                0.0|                 0.0|                0.0|2.615386627220482...| (17000,[1,3,6,13,...|\n",
            "|         2.0|      2019|    2020|        0|(4,[0],[1.0])|(27,[1],[1.0])|   (9,[0],[1.0])|     (11,[9],[1.0])|   (11,[3],[1.0])|            (6,[1],[1.0])|          (6,[4],[1.0])|          0|0.05128205128205128| 0.02857142857142857|                0.0|3.307694852072963...| (17000,[0,3,4,5,6...|\n",
            "|         1.0|      2020|    2020|        0|(4,[0],[1.0])|(27,[5],[1.0])|   (9,[0],[1.0])|     (11,[6],[1.0])|   (11,[4],[1.0])|            (6,[0],[1.0])|          (6,[2],[1.0])|          0|0.05128205128205128| 0.02857142857142857|                0.0|2.692309763315202...| (17000,[0,1,2,3,5...|\n",
            "|         3.0|      2020|    2021|        1|(4,[2],[1.0])|(27,[4],[1.0])|   (9,[0],[1.0])|     (11,[8],[1.0])|   (11,[0],[1.0])|            (6,[5],[1.0])|          (6,[0],[1.0])|          4|0.05128205128205128|0.014285714285714285|                0.0|3.293617918167629...| (17000,[0,6,10,11...|\n",
            "|         3.0|      2020|    2020|        0|(4,[0],[1.0])|(27,[1],[1.0])|   (9,[0],[1.0])|     (11,[6],[1.0])|   (11,[8],[1.0])|            (6,[0],[1.0])|          (6,[1],[1.0])|          0|0.02564102564102564|0.014285714285714285|                0.0|3.076925443788803E-6| (17000,[0,1,2,3,4...|\n",
            "|         1.0|      2020|    2020|        0|(4,[0],[1.0])|(27,[2],[1.0])|   (9,[3],[1.0])|     (11,[6],[1.0])|   (11,[8],[1.0])|            (6,[0],[1.0])|          (6,[0],[1.0])|          0|                0.0|                 0.0|                0.0|3.293617918167629...| (17000,[1,2,4,15,...|\n",
            "|         1.0|      2020|    2021|        0|(4,[1],[1.0])|(27,[0],[1.0])|   (9,[0],[1.0])|     (11,[5],[1.0])|   (11,[3],[1.0])|            (6,[1],[1.0])|          (6,[4],[1.0])|          3|0.02564102564102564|0.014285714285714285|                0.0|3.293617918167629...| (17000,[1,2,3,4,5...|\n",
            "+------------+----------+--------+---------+-------------+--------------+----------------+-------------------+-----------------+-------------------------+-----------------------+-----------+-------------------+--------------------+-------------------+--------------------+---------------------+\n",
            "only showing top 20 rows\n",
            "\n"
          ]
        }
      ]
    },
    {
      "cell_type": "markdown",
      "metadata": {
        "id": "itosbnc4sq50"
      },
      "source": [
        "# Machine Learning"
      ]
    },
    {
      "cell_type": "code",
      "execution_count": 78,
      "metadata": {
        "id": "-Qtbzr7ILM2z"
      },
      "outputs": [],
      "source": [
        "(train_data, test_data)= sale_df.randomSplit([0.7, 0.3], 33) #random split of the data"
      ]
    },
    {
      "cell_type": "markdown",
      "metadata": {
        "id": "pRCK06qZV6W_"
      },
      "source": [
        "## Random Forest Feature Selection"
      ]
    },
    {
      "cell_type": "code",
      "execution_count": 79,
      "metadata": {
        "colab": {
          "base_uri": "https://localhost:8080/"
        },
        "id": "wnHlUsgqLM0o",
        "outputId": "a62522d8-b54e-4f3e-dfe6-1b333b591a7c"
      },
      "outputs": [
        {
          "output_type": "stream",
          "name": "stdout",
          "text": [
            "Feature: encoded_end_day_of_week, Importance: 0.03845911130990831\n",
            "Feature: rooms_scaled, Importance: 0.0313864037869349\n",
            "Feature: l2_one_hot, Importance: 0.029411275430167964\n",
            "Feature: bathrooms_scaled, Importance: 0.021697899419395324\n",
            "Feature: surface_total_scaled, Importance: 0.018919184883990536\n",
            "Feature: encoded_start_day_of_week, Importance: 0.007652085613866891\n",
            "Feature: scaled_final_features, Importance: 0.0073923385155483246\n",
            "Feature: encoded_end_month, Importance: 0.00026994949231982777\n",
            "Feature: bedrooms_scaled, Importance: 0.00010144147108136674\n",
            "Feature: start_year, Importance: 0.0\n",
            "Feature: end_year, Importance: 0.0\n",
            "Feature: is_active, Importance: 0.0\n",
            "Feature: l3_one_hot, Importance: 0.0\n",
            "Feature: property_one_hot, Importance: 0.0\n",
            "Feature: encoded_start_month, Importance: 0.0\n",
            "Feature: geo_cluster, Importance: 0.0\n"
          ]
        }
      ],
      "source": [
        "features=['scaled_final_features','start_year', 'end_year', 'is_active',\n",
        "         'l3_one_hot', 'l2_one_hot', 'property_one_hot', 'encoded_start_month',\n",
        "         'encoded_end_month', 'encoded_start_day_of_week', 'encoded_end_day_of_week',\n",
        "         'geo_cluster', 'rooms_scaled', 'bedrooms_scaled', 'bathrooms_scaled',\n",
        "         'surface_total_scaled'] # all the features\n",
        "\n",
        "assembler = VectorAssembler(inputCols=features, outputCol=\"features\")\n",
        "train_data_transformed = assembler.transform(train_data)\n",
        "\n",
        "# Initialize the Random Forest classifier\n",
        "rf_classifier = RandomForestClassifier(featuresCol=\"features\", labelCol=\"price_bucket\", numTrees=10)\n",
        "\n",
        "# Train the Random Forest model\n",
        "rf_model = rf_classifier.fit(train_data_transformed)\n",
        "\n",
        "# Extract feature importances\n",
        "importances = rf_model.featureImportances\n",
        "\n",
        "# Map feature importances to feature names\n",
        "feature_dict = dict(zip(features, importances))\n",
        "sorted_features = sorted(feature_dict.items(), key=lambda x: x[1], reverse=True)\n",
        "\n",
        "# Print the sorted features by importance\n",
        "for feature, importance in sorted_features:\n",
        "    print(f\"Feature: {feature}, Importance: {importance}\")"
      ]
    },
    {
      "cell_type": "code",
      "execution_count": 80,
      "metadata": {
        "colab": {
          "base_uri": "https://localhost:8080/",
          "height": 718
        },
        "id": "wruy5iW7LMyD",
        "outputId": "9f3524c3-5991-47b1-ac20-49c76e8ce799"
      },
      "outputs": [
        {
          "output_type": "display_data",
          "data": {
            "text/plain": [
              "<Figure size 1000x800 with 1 Axes>"
            ],
            "image/png": "[encoded data removed]"
          },
          "metadata": {}
        }
      ],
      "source": [
        "features, importances = zip(*sorted_features)\n",
        "\n",
        "# Creating the bar plot\n",
        "plt.figure(figsize=(10, 8))\n",
        "plt.barh(features, importances, color='orangered', alpha = .6)\n",
        "plt.xlabel('Importance')\n",
        "plt.ylabel('Features')\n",
        "plt.title('Feature Importances Plot')\n",
        "plt.gca().invert_yaxis()\n",
        "plt.show()"
      ]
    },
    {
      "cell_type": "markdown",
      "source": [
        "*Encoded End Day of Week (Importance: 0.0385)* - This feature, which represents the day of the week when an event ends, encoded numerically, emerges as the most influential in the model. Its relatively higher importance suggests that the timing of an event’s conclusion may significantly affect the price categorization.  \n",
        "*Rooms Scaled (Importance: 0.0314)* - The scaling of room counts appears to be the second most significant predictor. This indicates that the number of rooms, adjusted for scale, is a crucial factor in determining price segments.  \n",
        "*L2 One Hot (Importance: 0.0294)* - This one-hot encoded feature, likely representing a categorical geographical or administrative level (such as state or province), plays a notable role in the model, pointing to the importance of location in pricing.  \n",
        "*Bathrooms Scaled (Importance: 0.0217)* and *Surface Total Scaled (Importance: 0.0189)* - These features reflect physical attributes of properties (number of bathrooms and total surface area, respectively), both adjusted for scale, highlighting that larger and better-equipped properties tend to fall into specific price categories.  \n",
        "*Encoded Start Day of Week (Importance: 0.0077)* and *Scaled Final Features (Importance: 0.0074)* - These features show moderate importance, indicating that the start day of the week and other combined scaled metrics also influence price classification to a lesser extent.  \n",
        "Minimal Importance Features - Several features such as Encoded End Month, Bedrooms Scaled, Start Year, End Year, IsActive, L3 One Hot, Property One Hot, Encoded Start Month, and Geo Cluster have negligible or zero importances. This minimal impact suggests that these aspects, including time-specific (year, month) and certain categorical or encoded variables, do not significantly affect the price bucket determination in the current model configuration."
      ],
      "metadata": {
        "id": "NsbjFqV7dAQg"
      }
    },
    {
      "cell_type": "markdown",
      "metadata": {
        "id": "KvhctTQgVyZ3"
      },
      "source": [
        "### Decision Trees Classifier"
      ]
    },
    {
      "cell_type": "code",
      "execution_count": 82,
      "metadata": {
        "colab": {
          "base_uri": "https://localhost:8080/"
        },
        "id": "i5IyX35-LMqt",
        "outputId": "21f5491a-171c-4a91-d241-bd486c1bcfae"
      },
      "outputs": [
        {
          "output_type": "stream",
          "name": "stdout",
          "text": [
            "Test accuracy = 0.498638\n"
          ]
        }
      ],
      "source": [
        "# Select relevant features\n",
        "selected_features=['encoded_end_day_of_week', 'rooms_scaled', 'l2_one_hot','bathrooms_scaled','surface_total_scaled', 'encoded_start_day_of_week','scaled_final_features',\n",
        " 'encoded_end_month',\n",
        "'bedrooms_scaled']\n",
        "\n",
        "# Target variable\n",
        "target_variable = 'price_bucket'\n",
        "\n",
        "# Assemble features into a feature vector\n",
        "assembler = VectorAssembler(inputCols=selected_features, outputCol=\"features\")\n",
        "data = assembler.transform(sale_df)\n",
        "\n",
        "# Split the data into training and testing sets\n",
        "(trainingData, testData) = data.randomSplit([0.7, 0.3], 33)\n",
        "\n",
        "# Train a DecisionTreeClassifier\n",
        "dt = DecisionTreeClassifier(labelCol=target_variable, featuresCol=\"features\")\n",
        "\n",
        "# Train the model\n",
        "dc_model = dt.fit(trainingData)\n",
        "\n",
        "# Predictions\n",
        "predictions_dc_all = dc_model.transform(testData)\n",
        "\n",
        "# Evaluator\n",
        "evaluator_dc_all = MulticlassClassificationEvaluator(\n",
        "    labelCol=target_variable,\n",
        "    predictionCol=\"prediction\",\n",
        "    metricName=\"accuracy\"\n",
        ")\n",
        "\n",
        "# accuracy\n",
        "accuracy = evaluator_dc_all.evaluate(predictions_dc_all)\n",
        "print(\"Test accuracy = %g\" % accuracy)"
      ]
    },
    {
      "cell_type": "markdown",
      "source": [
        "=> It correctly predicts the correct class for about half of the test data."
      ],
      "metadata": {
        "id": "smGtDabJgFJ7"
      }
    },
    {
      "cell_type": "code",
      "execution_count": 83,
      "metadata": {
        "colab": {
          "base_uri": "https://localhost:8080/"
        },
        "id": "v5h44eJRLMnz",
        "outputId": "7f4da131-9c67-4779-f2e1-56d25156c5e4"
      },
      "outputs": [
        {
          "output_type": "stream",
          "name": "stderr",
          "text": [
            "/usr/local/lib/python3.10/dist-packages/pyspark/sql/context.py:158: FutureWarning: Deprecated in 3.0.0. Use SparkSession.builder.getOrCreate() instead.\n",
            "  warnings.warn(\n"
          ]
        },
        {
          "output_type": "stream",
          "name": "stdout",
          "text": [
            "Confusion Matrix:\n",
            " [[9186. 1904.  948.  320.  135.]\n",
            " [3383. 4976. 2376. 1287.  188.]\n",
            " [2033. 2993. 3020. 3006.  669.]\n",
            " [1394. 1135. 1999. 4149. 2636.]\n",
            " [1772.  348.  855. 2086. 9965.]]\n",
            "Class 0.0 precision: 0.5169968482665466\n",
            "Class 0.0 recall: 0.735291763387497\n",
            "Class 0.0 F1 Score: 0.6071180727669278\n",
            "Class 1.0 precision: 0.4381824586121874\n",
            "Class 1.0 recall: 0.40753480753480753\n",
            "Class 1.0 F1 Score: 0.4223033183399813\n",
            "Class 2.0 precision: 0.3283322461404653\n",
            "Class 2.0 recall: 0.25765719648494156\n",
            "Class 2.0 F1 Score: 0.2887327310100865\n",
            "Class 3.0 precision: 0.382466814159292\n",
            "Class 3.0 recall: 0.36674622116149563\n",
            "Class 3.0 F1 Score: 0.3744415865710031\n",
            "Class 4.0 precision: 0.7330979180460531\n",
            "Class 4.0 recall: 0.66318381472115\n",
            "Class 4.0 F1 Score: 0.696390509801181\n"
          ]
        }
      ],
      "source": [
        "# Convert DataFrame predictions to RDD\n",
        "predictionAndLabels = predictions_dc_all.select(\"prediction\", target_variable).rdd.map(lambda row: (float(row[\"prediction\"]), float(row[target_variable])))\n",
        "\n",
        "# Instantiate metrics object\n",
        "metrics = MulticlassMetrics(predictionAndLabels)\n",
        "\n",
        "# Get the confusion matrix\n",
        "confusion_matrix = metrics.confusionMatrix().toArray()\n",
        "\n",
        "# Print the confusion matrix\n",
        "print(\"Confusion Matrix:\\n\", confusion_matrix)\n",
        "\n",
        "for label in sorted(set(predictionAndLabels.map(lambda x: x[1]).collect())):\n",
        "    print(f\"Class {label} precision: {metrics.precision(label)}\")\n",
        "    print(f\"Class {label} recall: {metrics.recall(label)}\")\n",
        "    print(f\"Class {label} F1 Score: {metrics.fMeasure(label)}\")"
      ]
    },
    {
      "cell_type": "code",
      "execution_count": 84,
      "metadata": {
        "colab": {
          "base_uri": "https://localhost:8080/",
          "height": 472
        },
        "id": "oNLbx-oELMlk",
        "outputId": "6df943c2-1e01-4f0c-dc9b-ad7d2053045f"
      },
      "outputs": [
        {
          "output_type": "display_data",
          "data": {
            "text/plain": [
              "<Figure size 640x480 with 2 Axes>"
            ],
            "image/png": "[encoded data removed]"
          },
          "metadata": {}
        }
      ],
      "source": [
        "sns.heatmap(confusion_matrix, annot=True, fmt=\"g\", cmap='Greys')\n",
        "plt.xlabel('Predicted Labels')\n",
        "plt.ylabel('True Labels')\n",
        "plt.title('Confusion Matrix')\n",
        "plt.show()"
      ]
    },
    {
      "cell_type": "markdown",
      "source": [
        "The model performs best in identifying class 0 and class 4, with higher F1 scores suggesting more reliable performance in these categories.\n",
        "Classes 1, 2, and 3 show considerable room for improvement, especially in precision, which is critical for reducing false positives.\n",
        "The confusion matrix visually confirms these findings as the darker squares (indicating higher counts) on the diagonal for classes 0 and 4 show higher correct predictions, while lighter squares for classes 1, 2, and 3 indicate frequent misclassifications."
      ],
      "metadata": {
        "id": "_AfWmW5sdawz"
      }
    },
    {
      "cell_type": "markdown",
      "metadata": {
        "id": "Nuh4zqi0XuRt"
      },
      "source": [
        "### Random Forest Classifier"
      ]
    },
    {
      "cell_type": "code",
      "execution_count": 85,
      "metadata": {
        "colab": {
          "base_uri": "https://localhost:8080/"
        },
        "id": "CtD_8i-XW7Jk",
        "outputId": "8d756cac-c940-4003-df51-a4125b4fd9ae"
      },
      "outputs": [
        {
          "output_type": "stream",
          "name": "stdout",
          "text": [
            "Test Accuracy = 0.438905\n"
          ]
        }
      ],
      "source": [
        "# Train a RandomForestClassifier\n",
        "rf_classifier = RandomForestClassifier(\n",
        "    labelCol=target_variable,\n",
        "    featuresCol=\"features\",\n",
        "    numTrees=20,  # Number of trees in the forest\n",
        "    maxDepth=5    # Maximum depth of each tree\n",
        ")\n",
        "\n",
        "# Train the model\n",
        "model_rf_all = rf_classifier.fit(trainingData)\n",
        "\n",
        "# Make predictions\n",
        "predictions_rf_all = model_rf_all.transform(testData)\n",
        "\n",
        "evaluator_rf_all = MulticlassClassificationEvaluator(\n",
        "    labelCol=target_variable,\n",
        "    predictionCol=\"prediction\",\n",
        "    metricName=\"accuracy\"\n",
        ")\n",
        "\n",
        "# Accuracy\n",
        "accuracy = evaluator_rf_all.evaluate(predictions_rf_all)\n",
        "print(\"Test Accuracy = %g\" % accuracy)"
      ]
    },
    {
      "cell_type": "markdown",
      "source": [
        "=> It correctly predicts the outcome less than half of the time."
      ],
      "metadata": {
        "id": "trtDm35ehf77"
      }
    },
    {
      "cell_type": "code",
      "execution_count": 86,
      "metadata": {
        "colab": {
          "base_uri": "https://localhost:8080/"
        },
        "id": "_hDkm7AQLMil",
        "outputId": "7c457b69-1e98-4765-a73e-612dcae5f560"
      },
      "outputs": [
        {
          "output_type": "stream",
          "name": "stderr",
          "text": [
            "/usr/local/lib/python3.10/dist-packages/pyspark/sql/context.py:158: FutureWarning: Deprecated in 3.0.0. Use SparkSession.builder.getOrCreate() instead.\n",
            "  warnings.warn(\n"
          ]
        },
        {
          "output_type": "stream",
          "name": "stdout",
          "text": [
            "Confusion Matrix:\n",
            " [[9.693e+03 1.247e+03 1.870e+02 0.000e+00 1.366e+03]\n",
            " [4.010e+03 3.927e+03 7.580e+02 5.000e+00 3.510e+03]\n",
            " [2.457e+03 2.333e+03 1.371e+03 1.500e+01 5.545e+03]\n",
            " [1.651e+03 7.040e+02 7.140e+02 9.600e+01 8.148e+03]\n",
            " [2.390e+03 1.110e+02 6.100e+01 4.000e+00 1.246e+04]]\n",
            "Class 0.0 precision: 0.47982773130043066\n",
            "Class 0.0 recall: 0.77587448971424\n",
            "Class 0.0 F1 Score: 0.592952835382639\n",
            "Class 1.0 precision: 0.4718817591925018\n",
            "Class 1.0 recall: 0.3216216216216216\n",
            "Class 1.0 F1 Score: 0.38252483927527764\n",
            "Class 2.0 precision: 0.443545778065351\n",
            "Class 2.0 recall: 0.1169695418479652\n",
            "Class 2.0 F1 Score: 0.18512017283283824\n",
            "Class 3.0 precision: 0.8\n",
            "Class 3.0 recall: 0.008485812781755503\n",
            "Class 3.0 F1 Score: 0.01679349252164786\n",
            "Class 4.0 precision: 0.4015598311257211\n",
            "Class 4.0 recall: 0.8292293358179156\n",
            "Class 4.0 F1 Score: 0.5410921724025622\n"
          ]
        }
      ],
      "source": [
        "# Convert DataFrame predictions to RDD\n",
        "predictionAndLabels = predictions_rf_all.select(\"prediction\", target_variable).rdd.map(lambda row: (float(row[\"prediction\"]), float(row[target_variable])))\n",
        "\n",
        "# Instantiate metrics object\n",
        "metrics = MulticlassMetrics(predictionAndLabels)\n",
        "\n",
        "# Get the confusion matrix\n",
        "confusion_matrix = metrics.confusionMatrix().toArray()\n",
        "\n",
        "# Print the confusion matrix\n",
        "print(\"Confusion Matrix:\\n\", confusion_matrix)\n",
        "\n",
        "for label in sorted(set(predictionAndLabels.map(lambda x: x[1]).collect())):\n",
        "    print(f\"Class {label} precision: {metrics.precision(label)}\")\n",
        "    print(f\"Class {label} recall: {metrics.recall(label)}\")\n",
        "    print(f\"Class {label} F1 Score: {metrics.fMeasure(label)}\")"
      ]
    },
    {
      "cell_type": "code",
      "execution_count": 87,
      "metadata": {
        "colab": {
          "base_uri": "https://localhost:8080/",
          "height": 472
        },
        "id": "KeuhBXtLZHD8",
        "outputId": "98e9ab6d-e758-4048-9221-4ed7d929b267"
      },
      "outputs": [
        {
          "output_type": "display_data",
          "data": {
            "text/plain": [
              "<Figure size 640x480 with 2 Axes>"
            ],
            "image/png": "[encoded data removed]"
          },
          "metadata": {}
        }
      ],
      "source": [
        "sns.heatmap(confusion_matrix, annot=True, fmt=\"g\", cmap='Greys')\n",
        "plt.xlabel('Predicted Labels')\n",
        "plt.ylabel('True Labels')\n",
        "plt.title('Confusion Matrix')\n",
        "plt.show()"
      ]
    },
    {
      "cell_type": "markdown",
      "source": [
        "*Imbalance in Precision and Recall:* The model shows a clear imbalance between precision and recall in multiple classes. High recall and low precision in several classes suggest the classifier is biased toward predicting these classes more frequently, possibly at the expense of other classes.  \n",
        "*Varying F1 Scores:* The F1 scores vary significantly across classes, indicating uneven performance. Classes with higher F1 scores (like class 0 and class 4) are handled relatively better by the model compared to others.  \n",
        "*Problematic Areas:* Class 2 and Class 3, in particular, show poor performance metrics, suggesting that the model struggles to learn patterns specific to these classes or that there may be insufficient examples or distinguishing features."
      ],
      "metadata": {
        "id": "ikWA6YCAjG0x"
      }
    },
    {
      "cell_type": "markdown",
      "metadata": {
        "id": "-0zvopnOYO1m"
      },
      "source": [
        "### Linear SVC"
      ]
    },
    {
      "cell_type": "code",
      "execution_count": 88,
      "metadata": {
        "colab": {
          "base_uri": "https://localhost:8080/"
        },
        "id": "qHrOiAF6YD2g",
        "outputId": "c73499f7-e357-405f-f39b-9e4b6d0fadb5"
      },
      "outputs": [
        {
          "output_type": "stream",
          "name": "stdout",
          "text": [
            "Test accuracy = 0.691777\n"
          ]
        }
      ],
      "source": [
        "# Train a LinearSVC classifier (base classifier for OneVsRest)\n",
        "base_classifier = LinearSVC(maxIter=10, regParam=0.1)\n",
        "\n",
        "# Instantiate the OneVsRest classifier\n",
        "ovr = OneVsRest(classifier=base_classifier, labelCol=target_variable)\n",
        "\n",
        "# Train the model\n",
        "model_svm_all = ovr.fit(trainingData)\n",
        "\n",
        "# Predictions\n",
        "predictions_svm_all = model_svm_all.transform(testData)\n",
        "\n",
        "evaluator_svm_all = MulticlassClassificationEvaluator(\n",
        "    labelCol=target_variable,\n",
        "    predictionCol=\"prediction\",\n",
        "    metricName=\"accuracy\"\n",
        ")\n",
        "\n",
        "# Accuracy\n",
        "accuracy = evaluator_svm_all.evaluate(predictions_svm_all)\n",
        "print(\"Test accuracy = %g\" % accuracy)"
      ]
    },
    {
      "cell_type": "markdown",
      "source": [
        "=> It correctly predicts the correct class in about 69% of cases"
      ],
      "metadata": {
        "id": "5z4GrMk1kOzA"
      }
    },
    {
      "cell_type": "code",
      "execution_count": 89,
      "metadata": {
        "colab": {
          "base_uri": "https://localhost:8080/"
        },
        "id": "oJEFrXC1YDzW",
        "outputId": "5713ca01-31f4-49a3-f6a1-ebf3c0843fab"
      },
      "outputs": [
        {
          "output_type": "stream",
          "name": "stderr",
          "text": [
            "/usr/local/lib/python3.10/dist-packages/pyspark/sql/context.py:158: FutureWarning: Deprecated in 3.0.0. Use SparkSession.builder.getOrCreate() instead.\n",
            "  warnings.warn(\n"
          ]
        },
        {
          "output_type": "stream",
          "name": "stdout",
          "text": [
            "Confusion Matrix:\n",
            " [[10412.  1366.   267.   122.   326.]\n",
            " [ 2194.  7941.  1122.   476.   477.]\n",
            " [ 1221.  1848.  5968.  1452.  1232.]\n",
            " [  674.   647.  1047.  5728.  3217.]\n",
            " [  564.   159.   216.   718. 13369.]]\n",
            "Class 0.0 precision: 0.6911384002655161\n",
            "Class 0.0 recall: 0.8334267189626191\n",
            "Class 0.0 F1 Score: 0.7556426446041077\n",
            "Class 1.0 precision: 0.6639077000250815\n",
            "Class 1.0 recall: 0.6503685503685503\n",
            "Class 1.0 F1 Score: 0.6570683877373712\n",
            "Class 2.0 precision: 0.6923433874709977\n",
            "Class 2.0 recall: 0.5091715723914342\n",
            "Class 2.0 F1 Score: 0.5867951428150042\n",
            "Class 3.0 precision: 0.6741996233521658\n",
            "Class 3.0 recall: 0.506320162644745\n",
            "Class 3.0 F1 Score: 0.578322984501994\n",
            "Class 4.0 precision: 0.7179528489339992\n",
            "Class 4.0 recall: 0.8897244775722082\n",
            "Class 4.0 F1 Score: 0.7946622284304693\n"
          ]
        }
      ],
      "source": [
        "# Convert DataFrame predictions to RDD\n",
        "predictionAndLabels = predictions_svm_all.select(\"prediction\", target_variable).rdd.map(lambda row: (float(row[\"prediction\"]), float(row[target_variable])))\n",
        "\n",
        "# Instantiate metrics object\n",
        "metrics = MulticlassMetrics(predictionAndLabels)\n",
        "\n",
        "# Get the confusion matrix\n",
        "confusion_matrix = metrics.confusionMatrix().toArray()\n",
        "\n",
        "# Print the confusion matrix\n",
        "print(\"Confusion Matrix:\\n\", confusion_matrix)\n",
        "\n",
        "for label in sorted(set(predictionAndLabels.map(lambda x: x[1]).collect())):\n",
        "    print(f\"Class {label} precision: {metrics.precision(label)}\")\n",
        "    print(f\"Class {label} recall: {metrics.recall(label)}\")\n",
        "    print(f\"Class {label} F1 Score: {metrics.fMeasure(label)}\")"
      ]
    },
    {
      "cell_type": "code",
      "execution_count": 90,
      "metadata": {
        "colab": {
          "base_uri": "https://localhost:8080/",
          "height": 472
        },
        "id": "OMHBjJ-hYDvh",
        "outputId": "936415b1-f36c-4b53-b915-2ae82911e71e"
      },
      "outputs": [
        {
          "output_type": "display_data",
          "data": {
            "text/plain": [
              "<Figure size 640x480 with 2 Axes>"
            ],
            "image/png": "[encoded data removed]"
          },
          "metadata": {}
        }
      ],
      "source": [
        "sns.heatmap(confusion_matrix, annot=True, fmt=\"g\", cmap='Greys')\n",
        "plt.xlabel('Predicted Labels')\n",
        "plt.ylabel('True Labels')\n",
        "plt.title('Confusion Matrix')\n",
        "plt.show()"
      ]
    },
    {
      "cell_type": "markdown",
      "source": [
        "*Strengths:* The model performs best in predicting class 4, showing both high precision and recall. Class 0 also shows strong recall, although its precision could be improved.  \n",
        "*Weaknesses:* Classes 2 and 3 have lower recall rates, indicating potential difficulties in identifying these classes correctly. These classes could benefit from targeted improvements in feature selection, model training, or class-specific tuning."
      ],
      "metadata": {
        "id": "jy_R2aqBlla8"
      }
    },
    {
      "cell_type": "markdown",
      "metadata": {
        "id": "wP0RR_2Mq6Fo"
      },
      "source": [
        "## <u>**With all the features**</u>"
      ]
    },
    {
      "cell_type": "markdown",
      "metadata": {
        "id": "ddCLS52Tv-2z"
      },
      "source": [
        "#### Decision Trees"
      ]
    },
    {
      "cell_type": "code",
      "execution_count": 91,
      "metadata": {
        "colab": {
          "base_uri": "https://localhost:8080/"
        },
        "id": "aWgix0EIqgkp",
        "outputId": "563b2e92-c14a-43bf-9270-f59cb51ba740"
      },
      "outputs": [
        {
          "output_type": "stream",
          "name": "stdout",
          "text": [
            "Test accuracy = 0.498638\n"
          ]
        }
      ],
      "source": [
        "features=['scaled_final_features','start_year', 'end_year', 'is_active',\n",
        "         'l3_one_hot', 'l2_one_hot', 'property_one_hot', 'encoded_start_month',\n",
        "         'encoded_end_month', 'encoded_start_day_of_week', 'encoded_end_day_of_week',\n",
        "         'geo_cluster', 'rooms_scaled', 'bedrooms_scaled', 'bathrooms_scaled',\n",
        "         'surface_total_scaled']\n",
        "\n",
        "# Target variable\n",
        "target_variable = 'price_bucket'\n",
        "\n",
        "# Assemble features into a feature vector\n",
        "assembler = VectorAssembler(inputCols=features, outputCol=\"features\")\n",
        "data = assembler.transform(sale_df)\n",
        "\n",
        "# Train a DecisionTreeClassifier\n",
        "dt = DecisionTreeClassifier(labelCol=target_variable, featuresCol=\"features\")\n",
        "\n",
        "# Train the model\n",
        "dc_model = dt.fit(trainingData)\n",
        "\n",
        "# Make predictions\n",
        "predictions_dc_all = dc_model.transform(testData)\n",
        "\n",
        "evaluator_dc_all = MulticlassClassificationEvaluator(\n",
        "    labelCol=target_variable,\n",
        "    predictionCol=\"prediction\",\n",
        "    metricName=\"accuracy\"\n",
        ")\n",
        "\n",
        "# Accuracy\n",
        "accuracy = evaluator_dc_all.evaluate(predictions_dc_all)\n",
        "print(\"Test accuracy = %g\" % accuracy)"
      ]
    },
    {
      "cell_type": "markdown",
      "source": [
        "=> Approximately 49.9%, indicates that the decision model correctly predicts the outcome nearly half of the time."
      ],
      "metadata": {
        "id": "fEUI4RbipKHk"
      }
    },
    {
      "cell_type": "code",
      "execution_count": 92,
      "metadata": {
        "colab": {
          "base_uri": "https://localhost:8080/",
          "height": 891
        },
        "id": "qa7vc7vZt0JG",
        "outputId": "d996380c-92b8-49c6-decb-9c32605b7e59"
      },
      "outputs": [
        {
          "output_type": "stream",
          "name": "stderr",
          "text": [
            "/usr/local/lib/python3.10/dist-packages/pyspark/sql/context.py:158: FutureWarning: Deprecated in 3.0.0. Use SparkSession.builder.getOrCreate() instead.\n",
            "  warnings.warn(\n"
          ]
        },
        {
          "output_type": "stream",
          "name": "stdout",
          "text": [
            "Confusion Matrix:\n",
            " [[9186. 1904.  948.  320.  135.]\n",
            " [3383. 4976. 2376. 1287.  188.]\n",
            " [2033. 2993. 3020. 3006.  669.]\n",
            " [1394. 1135. 1999. 4149. 2636.]\n",
            " [1772.  348.  855. 2086. 9965.]]\n",
            "Class 0.0 precision: 0.5169968482665466\n",
            "Class 0.0 recall: 0.735291763387497\n",
            "Class 0.0 F1 Score: 0.6071180727669278\n",
            "Class 1.0 precision: 0.4381824586121874\n",
            "Class 1.0 recall: 0.40753480753480753\n",
            "Class 1.0 F1 Score: 0.4223033183399813\n",
            "Class 2.0 precision: 0.3283322461404653\n",
            "Class 2.0 recall: 0.25765719648494156\n",
            "Class 2.0 F1 Score: 0.2887327310100865\n",
            "Class 3.0 precision: 0.382466814159292\n",
            "Class 3.0 recall: 0.36674622116149563\n",
            "Class 3.0 F1 Score: 0.3744415865710031\n",
            "Class 4.0 precision: 0.7330979180460531\n",
            "Class 4.0 recall: 0.66318381472115\n",
            "Class 4.0 F1 Score: 0.696390509801181\n"
          ]
        },
        {
          "output_type": "display_data",
          "data": {
            "text/plain": [
              "<Figure size 640x480 with 2 Axes>"
            ],
            "image/png": "[encoded data removed]"
          },
          "metadata": {}
        }
      ],
      "source": [
        "predictionAndLabels = predictions_dc_all.select(\"prediction\", target_variable).rdd.map(lambda row: (float(row[\"prediction\"]), float(row[target_variable])))\n",
        "\n",
        "# Instantiate metrics object\n",
        "metrics = MulticlassMetrics(predictionAndLabels)\n",
        "\n",
        "# Get the confusion matrix\n",
        "confusion_matrix = metrics.confusionMatrix().toArray()\n",
        "\n",
        "# Print the confusion matrix\n",
        "print(\"Confusion Matrix:\\n\", confusion_matrix)\n",
        "\n",
        "for label in sorted(set(predictionAndLabels.map(lambda x: x[1]).collect())):\n",
        "    print(f\"Class {label} precision: {metrics.precision(label)}\")\n",
        "    print(f\"Class {label} recall: {metrics.recall(label)}\")\n",
        "    print(f\"Class {label} F1 Score: {metrics.fMeasure(label)}\")\n",
        "\n",
        "sns.heatmap(confusion_matrix, annot=True, fmt=\"g\", cmap='Greys')\n",
        "plt.xlabel('Predicted Labels')\n",
        "plt.ylabel('True Labels')\n",
        "plt.title('Confusion Matrix')\n",
        "plt.show()"
      ]
    },
    {
      "cell_type": "markdown",
      "source": [
        "<u>Class 0:</u>  \n",
        "Precision: 51.70%  \n",
        "Recall: 73.53%  \n",
        "F1 Score: 60.71%  \n",
        "Observations: High recall but moderate precision suggests the model identifies most actual Class 0 instances but also incorrectly labels many other instances as Class 0.   \n",
        "\n",
        "<u>Class 1:</u>  \n",
        "Precision: 43.82%  \n",
        "Recall: 40.75%  \n",
        "F1 Score: 42.23%  \n",
        "Observations: Both precision and recall are moderate to low, indicating struggles in correctly identifying and distinguishing Class 1 instances.  \n",
        "\n",
        "<u>Class 2:</u>  \n",
        "Precision: 32.83%  \n",
        "Recall: 25.77%  \n",
        "F1 Score: 28.87%  \n",
        "Observations: Both metrics are low, especially recall, suggesting significant challenges in detecting Class 2 instances.  \n",
        "\n",
        "<u>Class 3:</u>  \n",
        "Precision: 38.25%  \n",
        "Recall: 36.67%  \n",
        "F1 Score: 37.44%  \n",
        "Observations: Similar to Class 2, both precision and recall are low, which indicates poor model performance on Class 3.  \n",
        "\n",
        "<u>Class 4:</u>  \n",
        "Precision: 73.31%  \n",
        "Recall: 66.32%  \n",
        "F1 Score: 69.64%  \n",
        "Observations: The strongest performance among the classes with the highest precision and recall, suggesting that features relevant to Class 4 are well represented and utilized by the model."
      ],
      "metadata": {
        "id": "odzwlkkTpipv"
      }
    },
    {
      "cell_type": "markdown",
      "metadata": {
        "id": "HM2s-2GqwKdk"
      },
      "source": [
        "#### Random Forest"
      ]
    },
    {
      "cell_type": "code",
      "execution_count": 93,
      "metadata": {
        "colab": {
          "base_uri": "https://localhost:8080/"
        },
        "id": "a7dewPWirNyB",
        "outputId": "f86597a0-8918-4511-a8b3-2747597a150e"
      },
      "outputs": [
        {
          "output_type": "stream",
          "name": "stdout",
          "text": [
            "Test Accuracy = 0.438905\n"
          ]
        }
      ],
      "source": [
        "# Train a RandomForestClassifier\n",
        "rf_classifier = RandomForestClassifier(\n",
        "    labelCol=target_variable,\n",
        "    featuresCol=\"features\",\n",
        "    numTrees=20,  # Number of trees in the forest\n",
        "    maxDepth=5    # Maximum depth of each tree\n",
        ")\n",
        "\n",
        "# Train the model\n",
        "model_rf_all = rf_classifier.fit(trainingData)\n",
        "\n",
        "# Make predictions\n",
        "predictions_rf_all = model_rf_all.transform(testData)\n",
        "\n",
        "evaluator_rf_all = MulticlassClassificationEvaluator(\n",
        "    labelCol=target_variable,\n",
        "    predictionCol=\"prediction\",\n",
        "    metricName=\"accuracy\"\n",
        ")\n",
        "\n",
        "# Accuracy\n",
        "accuracy = evaluator_rf_all.evaluate(predictions_rf_all)\n",
        "print(\"Test Accuracy = %g\" % accuracy)"
      ]
    },
    {
      "cell_type": "markdown",
      "source": [
        "=> It correctly predicts the correct class in about 44% of cases"
      ],
      "metadata": {
        "id": "2ACL0GNMsJn9"
      }
    },
    {
      "cell_type": "code",
      "execution_count": 94,
      "metadata": {
        "colab": {
          "base_uri": "https://localhost:8080/",
          "height": 891
        },
        "id": "xTK0r8Ndv7dW",
        "outputId": "0f04bf61-8043-4d7d-f281-8f1186b3b267"
      },
      "outputs": [
        {
          "output_type": "stream",
          "name": "stderr",
          "text": [
            "/usr/local/lib/python3.10/dist-packages/pyspark/sql/context.py:158: FutureWarning: Deprecated in 3.0.0. Use SparkSession.builder.getOrCreate() instead.\n",
            "  warnings.warn(\n"
          ]
        },
        {
          "output_type": "stream",
          "name": "stdout",
          "text": [
            "Confusion Matrix:\n",
            " [[9.693e+03 1.247e+03 1.870e+02 0.000e+00 1.366e+03]\n",
            " [4.010e+03 3.927e+03 7.580e+02 5.000e+00 3.510e+03]\n",
            " [2.457e+03 2.333e+03 1.371e+03 1.500e+01 5.545e+03]\n",
            " [1.651e+03 7.040e+02 7.140e+02 9.600e+01 8.148e+03]\n",
            " [2.390e+03 1.110e+02 6.100e+01 4.000e+00 1.246e+04]]\n",
            "Class 0.0 precision: 0.47982773130043066\n",
            "Class 0.0 recall: 0.77587448971424\n",
            "Class 0.0 F1 Score: 0.592952835382639\n",
            "Class 1.0 precision: 0.4718817591925018\n",
            "Class 1.0 recall: 0.3216216216216216\n",
            "Class 1.0 F1 Score: 0.38252483927527764\n",
            "Class 2.0 precision: 0.443545778065351\n",
            "Class 2.0 recall: 0.1169695418479652\n",
            "Class 2.0 F1 Score: 0.18512017283283824\n",
            "Class 3.0 precision: 0.8\n",
            "Class 3.0 recall: 0.008485812781755503\n",
            "Class 3.0 F1 Score: 0.01679349252164786\n",
            "Class 4.0 precision: 0.4015598311257211\n",
            "Class 4.0 recall: 0.8292293358179156\n",
            "Class 4.0 F1 Score: 0.5410921724025622\n"
          ]
        },
        {
          "output_type": "display_data",
          "data": {
            "text/plain": [
              "<Figure size 640x480 with 2 Axes>"
            ],
            "image/png": "[encoded data removed]"
          },
          "metadata": {}
        }
      ],
      "source": [
        "predictionAndLabels = predictions_rf_all.select(\"prediction\", target_variable).rdd.map(lambda row: (float(row[\"prediction\"]), float(row[target_variable])))\n",
        "\n",
        "# Instantiate metrics object\n",
        "metrics = MulticlassMetrics(predictionAndLabels)\n",
        "\n",
        "# Get the confusion matrix\n",
        "confusion_matrix = metrics.confusionMatrix().toArray()\n",
        "\n",
        "# Print the confusion matrix\n",
        "print(\"Confusion Matrix:\\n\", confusion_matrix)\n",
        "\n",
        "for label in sorted(set(predictionAndLabels.map(lambda x: x[1]).collect())):\n",
        "    print(f\"Class {label} precision: {metrics.precision(label)}\")\n",
        "    print(f\"Class {label} recall: {metrics.recall(label)}\")\n",
        "    print(f\"Class {label} F1 Score: {metrics.fMeasure(label)}\")\n",
        "\n",
        "sns.heatmap(confusion_matrix, annot=True, fmt=\"g\", cmap='Greys')\n",
        "plt.xlabel('Predicted Labels')\n",
        "plt.ylabel('True Labels')\n",
        "plt.title('Confusion Matrix')\n",
        "plt.show()"
      ]
    },
    {
      "cell_type": "markdown",
      "source": [
        "<u>Class 0:</u>  \n",
        "Precision: 47.98% - Slightly under half of the predictions made for class 0 are accurate.  \n",
        "Recall: 77.59% - A high percentage of actual class 0 instances are correctly identified, although at the cost of precision.  \n",
        "F1 Score: 59.30% - Indicates a decent balance between precision and recall, albeit more skewed towards recall.  \n",
        "<u>Class 1:</u>  \n",
        "Precision: 47.19% - Similar to class 0, under half of the predictions for class 1 are correct.  \n",
        "Recall: 32.16% - This class has a significantly lower recall compared to class 0, indicating many actual class 1 instances go undetected.  \n",
        "F1 Score: 38.25% - Reflects the need for improvement in both precision and recall.  \n",
        "<u>Class 2:</u>  \n",
        "Precision: 44.35% - The precision remains low, similar to classes 0 and 1.  \n",
        "Recall: 11.70% - Significantly low, suggesting the model struggles substantially in identifying class 2 instances.  \n",
        "F1 Score: 18.51% - Very low, highlighting this class as a major area of weakness for the model.  \n",
        "<u>Class 3:</u>  \n",
        "Precision: 80.00% - Notably high, indicating when class 3 is predicted, it is very likely to be correct.  \n",
        "Recall: 0.85% - Extremely low, almost all actual class 3 instances are missed.  \n",
        "F1 Score: 1.68% - Reflects an extremely poor balance due to the low recall rate.  \n",
        "<u>Class 4:</u>  \n",
        "Precision: 40.16% - The lowest precision among all classes.  \n",
        "Recall: 82.93% - High, suggesting that while the model frequently predicts class 4, many are false positives.  \n",
        "F1 Score: 54.11% - Relatively higher, but still indicative of the need to balance recall with precision."
      ],
      "metadata": {
        "id": "qfdTJRYVtnLg"
      }
    },
    {
      "cell_type": "markdown",
      "metadata": {
        "id": "ga0jtCfQwPX3"
      },
      "source": [
        "#### Linear SVC ❤"
      ]
    },
    {
      "cell_type": "code",
      "execution_count": 95,
      "metadata": {
        "colab": {
          "base_uri": "https://localhost:8080/"
        },
        "id": "FPZPSADirRKV",
        "outputId": "c70d955a-46cb-4018-8007-0d7e9a3f4528"
      },
      "outputs": [
        {
          "output_type": "stream",
          "name": "stdout",
          "text": [
            "Test accuracy = 0.691777\n"
          ]
        }
      ],
      "source": [
        "# Train a LinearSVC classifier (base classifier for OneVsRest)\n",
        "base_classifier = LinearSVC(maxIter=10, regParam=0.1)\n",
        "\n",
        "# Instantiate the OneVsRest classifier\n",
        "ovr = OneVsRest(classifier=base_classifier, labelCol=target_variable)\n",
        "\n",
        "# Train the model\n",
        "model_svm_all = ovr.fit(trainingData)\n",
        "\n",
        "# Make predictions\n",
        "predictions_svm_all = model_svm_all.transform(testData)\n",
        "\n",
        "evaluator_svm_all = MulticlassClassificationEvaluator(\n",
        "    labelCol=target_variable,\n",
        "    predictionCol=\"prediction\",\n",
        "    metricName=\"accuracy\"\n",
        ")\n",
        "\n",
        "# Compute the accuracy\n",
        "accuracy = evaluator_svm_all.evaluate(predictions_svm_all)\n",
        "print(\"Test accuracy = %g\" % accuracy)"
      ]
    },
    {
      "cell_type": "markdown",
      "source": [
        "=> It correctly predicts the correct class in about 69% of cases"
      ],
      "metadata": {
        "id": "o2jl76WRu5di"
      }
    },
    {
      "cell_type": "code",
      "source": [
        "predictionAndLabels = predictions_svm_all.select(\"prediction\", target_variable).rdd.map(lambda row: (float(row[\"prediction\"]), float(row[target_variable])))\n",
        "\n",
        "# Instantiate metrics object\n",
        "metrics = MulticlassMetrics(predictionAndLabels)\n",
        "\n",
        "# Get the confusion matrix\n",
        "confusion_matrix = metrics.confusionMatrix().toArray()\n",
        "\n",
        "# Print the confusion matrix\n",
        "print(\"Confusion Matrix:\\n\", confusion_matrix)\n",
        "\n",
        "for label in sorted(set(predictionAndLabels.map(lambda x: x[1]).collect())):\n",
        "    print(f\"Class {label} precision: {metrics.precision(label)}\")\n",
        "    print(f\"Class {label} recall: {metrics.recall(label)}\")\n",
        "    print(f\"Class {label} F1 Score: {metrics.fMeasure(label)}\")\n",
        "\n",
        "sns.heatmap(confusion_matrix, annot=True, fmt=\"g\", cmap='Greys')\n",
        "plt.xlabel('Predicted Labels')\n",
        "plt.ylabel('True Labels')\n",
        "plt.title('Confusion Matrix')\n",
        "plt.show()"
      ],
      "metadata": {
        "colab": {
          "base_uri": "https://localhost:8080/",
          "height": 891
        },
        "id": "IFQpMAuzkpsZ",
        "outputId": "be34cce2-9d5d-43f7-82c9-ab23e40a10a2"
      },
      "execution_count": 96,
      "outputs": [
        {
          "output_type": "stream",
          "name": "stderr",
          "text": [
            "/usr/local/lib/python3.10/dist-packages/pyspark/sql/context.py:158: FutureWarning: Deprecated in 3.0.0. Use SparkSession.builder.getOrCreate() instead.\n",
            "  warnings.warn(\n"
          ]
        },
        {
          "output_type": "stream",
          "name": "stdout",
          "text": [
            "Confusion Matrix:\n",
            " [[10412.  1366.   267.   122.   326.]\n",
            " [ 2194.  7941.  1122.   476.   477.]\n",
            " [ 1221.  1848.  5968.  1452.  1232.]\n",
            " [  674.   647.  1047.  5728.  3217.]\n",
            " [  564.   159.   216.   718. 13369.]]\n",
            "Class 0.0 precision: 0.6911384002655161\n",
            "Class 0.0 recall: 0.8334267189626191\n",
            "Class 0.0 F1 Score: 0.7556426446041077\n",
            "Class 1.0 precision: 0.6639077000250815\n",
            "Class 1.0 recall: 0.6503685503685503\n",
            "Class 1.0 F1 Score: 0.6570683877373712\n",
            "Class 2.0 precision: 0.6923433874709977\n",
            "Class 2.0 recall: 0.5091715723914342\n",
            "Class 2.0 F1 Score: 0.5867951428150042\n",
            "Class 3.0 precision: 0.6741996233521658\n",
            "Class 3.0 recall: 0.506320162644745\n",
            "Class 3.0 F1 Score: 0.578322984501994\n",
            "Class 4.0 precision: 0.7179528489339992\n",
            "Class 4.0 recall: 0.8897244775722082\n",
            "Class 4.0 F1 Score: 0.7946622284304693\n"
          ]
        },
        {
          "output_type": "display_data",
          "data": {
            "text/plain": [
              "<Figure size 640x480 with 2 Axes>"
            ],
            "image/png": "[encoded data removed]"
          },
          "metadata": {}
        }
      ]
    },
    {
      "cell_type": "markdown",
      "source": [
        "**Class 0:**  \n",
        "Precision: 69.11%  \n",
        "Recall: 83.34%  \n",
        "F1 Score: 75.56%  \n",
        "Observations: Strong recall indicates effective identification of Class 0 instances, with decent precision suggesting a moderate rate of false positives.  \n",
        "**Class 1:**  \n",
        "Precision: 66.39%  \n",
        "Recall: 65.04%  \n",
        "F1 Score: 65.71%  \n",
        "Observations: Balanced precision and recall, indicating reasonable performance but room for improvement to reduce misclassifications.  \n",
        "**Class 2:**  \n",
        "Precision: 69.23%  \n",
        "Recall: 50.92%  \n",
        "F1 Score: 58.68%  \n",
        "Observations: While precision is on par with the other classes, the lower recall highlights challenges in consistently identifying Class 2 instances.  \n",
        "**Class 3:**  \n",
        "Precision: 67.42%  \n",
        "Recall: 50.63%  \n",
        "F1 Score: 57.83%  \n",
        "Observations: Similar issues as Class 2 with low recall, indicating potential difficulty in detecting true Class 3 instances.  \n",
        "**Class 4:**  \n",
        "Precision: 71.80%  \n",
        "Recall: 88.97%  \n",
        "F1 Score: 79.47%  \n",
        "Observations: The best performing class, with high precision and recall, indicating effective identification and low false positive rates."
      ],
      "metadata": {
        "id": "05NxW0BGwty1"
      }
    },
    {
      "cell_type": "markdown",
      "source": [
        "=> The model demonstrates strong precision, recall, and F1 scores for classes 0.0 and 4.0, indicating its ability to effectively classify instances belonging to these classes. However, for classes 2.0 and 3.0, the model's performance is comparatively weaker, with lower recall and F1 scores. This suggests that the model struggles to correctly identify instances of these classes, potentially leading to misclassifications or false negatives."
      ],
      "metadata": {
        "id": "HR-cYT3TzLZP"
      }
    },
    {
      "cell_type": "markdown",
      "source": [
        "#### <u>**Hyperparameter Tunning with 'optuna'**</u> 🧿"
      ],
      "metadata": {
        "id": "gbvIJCXZfPDI"
      }
    },
    {
      "cell_type": "code",
      "execution_count": 97,
      "metadata": {
        "colab": {
          "base_uri": "https://localhost:8080/"
        },
        "id": "5JO_7H8Cieg_",
        "outputId": "fff7c9d8-5294-4477-8ca8-b3fa5be9d7ef"
      },
      "outputs": [
        {
          "output_type": "stream",
          "name": "stdout",
          "text": [
            "Requirement already satisfied: optuna in /usr/local/lib/python3.10/dist-packages (3.6.1)\n",
            "Requirement already satisfied: alembic>=1.5.0 in /usr/local/lib/python3.10/dist-packages (from optuna) (1.13.1)\n",
            "Requirement already satisfied: colorlog in /usr/local/lib/python3.10/dist-packages (from optuna) (6.8.2)\n",
            "Requirement already satisfied: numpy in /usr/local/lib/python3.10/dist-packages (from optuna) (1.25.2)\n",
            "Requirement already satisfied: packaging>=20.0 in /usr/local/lib/python3.10/dist-packages (from optuna) (24.0)\n",
            "Requirement already satisfied: sqlalchemy>=1.3.0 in /usr/local/lib/python3.10/dist-packages (from optuna) (2.0.29)\n",
            "Requirement already satisfied: tqdm in /usr/local/lib/python3.10/dist-packages (from optuna) (4.66.4)\n",
            "Requirement already satisfied: PyYAML in /usr/local/lib/python3.10/dist-packages (from optuna) (6.0.1)\n",
            "Requirement already satisfied: Mako in /usr/local/lib/python3.10/dist-packages (from alembic>=1.5.0->optuna) (1.3.3)\n",
            "Requirement already satisfied: typing-extensions>=4 in /usr/local/lib/python3.10/dist-packages (from alembic>=1.5.0->optuna) (4.11.0)\n",
            "Requirement already satisfied: greenlet!=0.4.17 in /usr/local/lib/python3.10/dist-packages (from sqlalchemy>=1.3.0->optuna) (3.0.3)\n",
            "Requirement already satisfied: MarkupSafe>=0.9.2 in /usr/local/lib/python3.10/dist-packages (from Mako->alembic>=1.5.0->optuna) (2.1.5)\n"
          ]
        }
      ],
      "source": [
        "! pip install optuna"
      ]
    },
    {
      "cell_type": "code",
      "execution_count": 98,
      "metadata": {
        "colab": {
          "base_uri": "https://localhost:8080/"
        },
        "id": "yj7ISz-BVTxw",
        "outputId": "7a7fb3c7-ac00-4ba8-f141-8f06b35738b4"
      },
      "outputs": [
        {
          "output_type": "stream",
          "name": "stderr",
          "text": [
            "[I 2024-05-09 19:06:57,314] A new study created in memory with name: no-name-a54c2981-54d9-49b1-b7a8-aaba4cb00a09\n",
            "<ipython-input-98-fa65d639f15b>:8: FutureWarning: suggest_loguniform has been deprecated in v3.0.0. This feature will be removed in v6.0.0. See https://github.com/optuna/optuna/releases/tag/v3.0.0. Use suggest_float(..., log=True) instead.\n",
            "  reg_param = trial.suggest_loguniform('regParam', 1e-4, 1.0)\n",
            "[I 2024-05-09 19:16:09,651] Trial 0 finished with value: 0.7324857001736692 and parameters: {'maxIter': 40, 'regParam': 0.051703910947791386}. Best is trial 0 with value: 0.7324857001736692.\n",
            "[I 2024-05-09 19:28:08,554] Trial 1 finished with value: 0.729155712760703 and parameters: {'maxIter': 91, 'regParam': 0.13465404439197734}. Best is trial 0 with value: 0.7324857001736692.\n",
            "[I 2024-05-09 19:38:36,869] Trial 2 finished with value: 0.738747351146376 and parameters: {'maxIter': 64, 'regParam': 0.01622154226727319}. Best is trial 2 with value: 0.738747351146376.\n",
            "[I 2024-05-09 19:49:31,929] Trial 3 finished with value: 0.7332345490177333 and parameters: {'maxIter': 69, 'regParam': 0.06710438558237683}. Best is trial 2 with value: 0.738747351146376.\n",
            "[I 2024-05-09 20:01:05,455] Trial 4 finished with value: 0.7318324490543792 and parameters: {'maxIter': 85, 'regParam': 0.08638415363203894}. Best is trial 2 with value: 0.738747351146376.\n",
            "[I 2024-05-09 20:12:44,952] Trial 5 finished with value: 0.7423163328712776 and parameters: {'maxIter': 89, 'regParam': 0.00040848369791241586}. Best is trial 5 with value: 0.7423163328712776.\n",
            "[I 2024-05-09 20:22:56,826] Trial 6 finished with value: 0.7328999569810238 and parameters: {'maxIter': 72, 'regParam': 0.05890768507558324}. Best is trial 5 with value: 0.7423163328712776.\n",
            "[I 2024-05-09 20:29:49,487] Trial 7 finished with value: 0.7263355798798655 and parameters: {'maxIter': 25, 'regParam': 0.07172052826175408}. Best is trial 5 with value: 0.7423163328712776.\n",
            "[I 2024-05-09 20:40:28,368] Trial 8 finished with value: 0.7414559533483103 and parameters: {'maxIter': 88, 'regParam': 0.00010481002415489951}. Best is trial 5 with value: 0.7423163328712776.\n",
            "[I 2024-05-09 20:49:12,245] Trial 9 finished with value: 0.7334098115131527 and parameters: {'maxIter': 30, 'regParam': 0.026355662395578894}. Best is trial 5 with value: 0.7423163328712776.\n"
          ]
        },
        {
          "output_type": "stream",
          "name": "stdout",
          "text": [
            "Best trial:\n",
            " Accuracy: 0.7423163328712776\n",
            " Params: \n",
            "    maxIter: 89\n",
            "    regParam: 0.00040848369791241586\n"
          ]
        }
      ],
      "source": [
        "import optuna\n",
        "\n",
        "def objective(trial):\n",
        "    # Values for the hyperparameters\n",
        "    max_iter = trial.suggest_int('maxIter', 10, 100)\n",
        "    reg_param = trial.suggest_loguniform('regParam', 1e-4, 1.0)\n",
        "\n",
        "    # Classifier\n",
        "    base_classifier = LinearSVC(maxIter=max_iter, regParam=reg_param)\n",
        "    ovr = OneVsRest(classifier=base_classifier, labelCol=target_variable)\n",
        "\n",
        "    # Fitting\n",
        "    model = ovr.fit(trainingData)\n",
        "\n",
        "    # Predictions\n",
        "    predictions = model.transform(testData)\n",
        "\n",
        "    # Evaluation\n",
        "    evaluator = MulticlassClassificationEvaluator(\n",
        "        labelCol=target_variable,\n",
        "        predictionCol=\"prediction\",\n",
        "        metricName=\"accuracy\"\n",
        "    )\n",
        "    accuracy = evaluator.evaluate(predictions)\n",
        "\n",
        "    return accuracy\n",
        "\n",
        "# Study object and optimize the objective function\n",
        "study = optuna.create_study(direction='maximize')\n",
        "study.optimize(objective, n_trials=10)\n",
        "\n",
        "print(\"Best trial:\")\n",
        "trial = study.best_trial\n",
        "print(f\" Accuracy: {trial.value}\")\n",
        "print(\" Params: \")\n",
        "for key, value in trial.params.items():\n",
        "    print(f\"    {key}: {value}\")"
      ]
    },
    {
      "cell_type": "markdown",
      "source": [
        "<span style=\"color:red\"><u>After ALL THESE technical difficulties we encountered, here are the final results!</u></span>\n"
      ],
      "metadata": {
        "id": "HlvzAuTD7Pkh"
      }
    },
    {
      "cell_type": "markdown",
      "source": [
        "The hyperparameter optimization process conducted on the sale dataset aimed to refine the model's performance by systematically exploring various combinations of hyperparameters. Over 10 trials, different values for hyperparameters such as maxIter and regParam were tested to identify the configuration that maximized accuracy.\n",
        "\n",
        "Among the trials, a notable improvement in accuracy was observed, with the best-performing trial achieving an accuracy of 74.2%. This trial utilized maxIter set to 89 and regParam set to 0.00041."
      ],
      "metadata": {
        "id": "N-xJUJkFFtUx"
      }
    },
    {
      "cell_type": "code",
      "source": [],
      "metadata": {
        "id": "eKRBr0PUILC2"
      },
      "execution_count": null,
      "outputs": []
    }
  ],
  "metadata": {
    "colab": {
      "provenance": [],
      "toc_visible": true
    },
    "kernelspec": {
      "display_name": "Python 3",
      "name": "python3"
    },
    "language_info": {
      "name": "python"
    }
  },
  "nbformat": 4,
  "nbformat_minor": 0
}