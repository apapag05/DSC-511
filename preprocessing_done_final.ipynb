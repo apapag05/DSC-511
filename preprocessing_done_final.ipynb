{
  "cells": [
    {
      "cell_type": "markdown",
      "metadata": {
        "id": "vjwshZApdJt6"
      },
      "source": [
        "# DSC 511: Project\n",
        "# Argentina houses' price prediction"
      ]
    },
    {
      "cell_type": "code",
      "execution_count": 1,
      "metadata": {
        "colab": {
          "base_uri": "https://localhost:8080/"
        },
        "id": "m4fsRxm7E8xc",
        "outputId": "70c103bf-befe-47a5-f87a-d71e1ecde7d8"
      },
      "outputs": [
        {
          "name": "stdout",
          "output_type": "stream",
          "text": [
            "Requirement already satisfied: pyspark in /usr/local/lib/python3.10/dist-packages (3.5.1)\n",
            "Requirement already satisfied: seaborn in /usr/local/lib/python3.10/dist-packages (0.13.1)\n",
            "Requirement already satisfied: py4j==0.10.9.7 in /usr/local/lib/python3.10/dist-packages (from pyspark) (0.10.9.7)\n",
            "Requirement already satisfied: numpy!=1.24.0,>=1.20 in /usr/local/lib/python3.10/dist-packages (from seaborn) (1.25.2)\n",
            "Requirement already satisfied: pandas>=1.2 in /usr/local/lib/python3.10/dist-packages (from seaborn) (2.0.3)\n",
            "Requirement already satisfied: matplotlib!=3.6.1,>=3.4 in /usr/local/lib/python3.10/dist-packages (from seaborn) (3.7.1)\n",
            "Requirement already satisfied: contourpy>=1.0.1 in /usr/local/lib/python3.10/dist-packages (from matplotlib!=3.6.1,>=3.4->seaborn) (1.2.1)\n",
            "Requirement already satisfied: cycler>=0.10 in /usr/local/lib/python3.10/dist-packages (from matplotlib!=3.6.1,>=3.4->seaborn) (0.12.1)\n",
            "Requirement already satisfied: fonttools>=4.22.0 in /usr/local/lib/python3.10/dist-packages (from matplotlib!=3.6.1,>=3.4->seaborn) (4.51.0)\n",
            "Requirement already satisfied: kiwisolver>=1.0.1 in /usr/local/lib/python3.10/dist-packages (from matplotlib!=3.6.1,>=3.4->seaborn) (1.4.5)\n",
            "Requirement already satisfied: packaging>=20.0 in /usr/local/lib/python3.10/dist-packages (from matplotlib!=3.6.1,>=3.4->seaborn) (24.0)\n",
            "Requirement already satisfied: pillow>=6.2.0 in /usr/local/lib/python3.10/dist-packages (from matplotlib!=3.6.1,>=3.4->seaborn) (9.4.0)\n",
            "Requirement already satisfied: pyparsing>=2.3.1 in /usr/local/lib/python3.10/dist-packages (from matplotlib!=3.6.1,>=3.4->seaborn) (3.1.2)\n",
            "Requirement already satisfied: python-dateutil>=2.7 in /usr/local/lib/python3.10/dist-packages (from matplotlib!=3.6.1,>=3.4->seaborn) (2.8.2)\n",
            "Requirement already satisfied: pytz>=2020.1 in /usr/local/lib/python3.10/dist-packages (from pandas>=1.2->seaborn) (2023.4)\n",
            "Requirement already satisfied: tzdata>=2022.1 in /usr/local/lib/python3.10/dist-packages (from pandas>=1.2->seaborn) (2024.1)\n",
            "Requirement already satisfied: six>=1.5 in /usr/local/lib/python3.10/dist-packages (from python-dateutil>=2.7->matplotlib!=3.6.1,>=3.4->seaborn) (1.16.0)\n"
          ]
        }
      ],
      "source": [
        "! pip install pyspark seaborn"
      ]
    },
    {
      "cell_type": "code",
      "execution_count": 2,
      "metadata": {
        "id": "yxLNw8aEdJt-"
      },
      "outputs": [],
      "source": [
        "# for visual studio\n",
        "# import sys\n",
        "# import subprocess\n",
        "\n",
        "# subprocess.check_call([sys.executable, \"-m\", \"pip\", \"install\", \"scikit-learn\"])\n"
      ]
    },
    {
      "cell_type": "code",
      "execution_count": 2,
      "metadata": {
        "id": "1mb42iITdJt-"
      },
      "outputs": [],
      "source": [
        "# libraries\n",
        "\n",
        "import sklearn\n",
        "from sklearn.impute import KNNImputer\n",
        "import pandas as pd\n",
        "from pyspark.sql.functions import *\n",
        "import seaborn as sns\n",
        "import matplotlib.pyplot as plt\n",
        "from pyspark.sql import functions as F\n",
        "from pyspark.sql.types import DateType\n",
        "from pyspark.sql import SparkSession\n",
        "from pyspark.sql.types import *\n",
        "from pyspark.sql.window import Window\n",
        "from pyspark import SparkConf"
      ]
    },
    {
      "cell_type": "markdown",
      "metadata": {
        "id": "nyR-W_CWdJt_"
      },
      "source": [
        "## Read Dataset"
      ]
    },
    {
      "cell_type": "code",
      "execution_count": 3,
      "metadata": {
        "colab": {
          "base_uri": "https://localhost:8080/"
        },
        "id": "5LLpEB-5F4ua",
        "outputId": "e6190ba6-362b-44c0-a500-eb4d8914570d"
      },
      "outputs": [
        {
          "name": "stdout",
          "output_type": "stream",
          "text": [
            "Drive already mounted at /content/gdrive; to attempt to forcibly remount, call drive.mount(\"/content/gdrive\", force_remount=True).\n"
          ]
        }
      ],
      "source": [
        "from google.colab import drive\n",
        "drive.mount('/content/gdrive')\n",
        "google_drive_path = \"/content/gdrive/MyDrive/Colab Notebooks/Project/\""
      ]
    },
    {
      "cell_type": "code",
      "execution_count": 4,
      "metadata": {
        "id": "hesw_1QjF43J"
      },
      "outputs": [],
      "source": [
        "# configure Spark settings for memory management\n",
        "conf = (SparkConf().set(\"spark.executor.memory\", \"4g\").set(\"spark.driver.memory\", \"4g\"))\n",
        "\n",
        "\n",
        "# create Spark Session\n",
        "spark = SparkSession.builder.appName(\"Project511\").master(\"local[*]\").config(conf=conf).getOrCreate()\n",
        "\n",
        "# define a schema for the csv dataset to ensure all data types are correctly interpreted by Spark\n",
        "schema = StructType( [\n",
        "  StructField(\"id\", StringType(), True),\n",
        "  StructField(\"ad_type\", StringType(), True),\n",
        "  StructField(\"start_date\", StringType(), True),\n",
        "  StructField(\"end_date\", StringType(), True),\n",
        "  StructField(\"created_on\", StringType(), True),\n",
        "  StructField(\"lat\", FloatType(), True),\n",
        "  StructField(\"lon\", FloatType(), True),\n",
        "  StructField(\"l1\", StringType(), True),\n",
        "  StructField(\"l2\", StringType(), True),\n",
        "  StructField(\"l3\", StringType(), True),\n",
        "  StructField(\"l4\", StringType(), True),\n",
        "  StructField(\"l5\", StringType(), True),\n",
        "  StructField(\"l6\", StringType(), True),\n",
        "  StructField(\"rooms\", IntegerType(), True),\n",
        "  StructField(\"bedrooms\", IntegerType(), True),\n",
        "  StructField(\"bathrooms\", IntegerType(), True),\n",
        "  StructField(\"surface_total\", DoubleType(), True),\n",
        "  StructField(\"surface_covered\", DoubleType(), True),\n",
        "  StructField(\"price\", DoubleType(), True),\n",
        "  StructField(\"currency\", StringType(), True),\n",
        "  StructField(\"price_period\", StringType(), True),\n",
        "  StructField(\"title\", StringType(), True),\n",
        "  StructField(\"description\", StringType(), True),\n",
        "  StructField(\"property_type\", StringType(), True),\n",
        "  StructField(\"operation_type\", StringType(), True)])"
      ]
    },
    {
      "cell_type": "code",
      "execution_count": 5,
      "metadata": {
        "id": "JqA0PMo4dJuA"
      },
      "outputs": [],
      "source": [
        "# read the csv file appropriately in order to handle specific characters that are included in some of our columns\n",
        "df = spark.read.format(\"csv\").option(\"header\", \"true\").option(\"multiLine\", \"true\").option(\"escape\", \"\\\"\").option(\"quote\", \"\\\"\").schema(schema) \\\n",
        "    .load(google_drive_path + 'ar_properties.csv', header=True, inferSchema=True)\n",
        "\n",
        "# clean the id column by removing HTML tags and other unwanted characters and replace new lines within the field with space\n",
        "df = df.withColumn(\"id\", regexp_replace(\"id\", \"<.*?>\", \"\")).withColumn(\"id\", regexp_replace(\"id\", \"[\\r\\n]+\", \" \"))"
      ]
    },
    {
      "cell_type": "markdown",
      "metadata": {
        "id": "iQzQ6MXWu8ca"
      },
      "source": []
    },
    {
      "cell_type": "code",
      "execution_count": 6,
      "metadata": {
        "colab": {
          "base_uri": "https://localhost:8080/"
        },
        "id": "5rZBD2eGdJuA",
        "outputId": "89bbaa76-fdb1-4c9d-f62f-0d9a74a81cea"
      },
      "outputs": [
        {
          "name": "stdout",
          "output_type": "stream",
          "text": [
            "+--------------------+---------+----------+----------+----------+----------+----------+---------+--------------------+--------------------+----------------+----+----+-----+--------+---------+-------------+---------------+-----+--------+------------+--------------------+--------------------+-------------+-----------------+\n",
            "|                  id|  ad_type|start_date|  end_date|created_on|       lat|       lon|       l1|                  l2|                  l3|              l4|  l5|  l6|rooms|bedrooms|bathrooms|surface_total|surface_covered|price|currency|price_period|               title|         description|property_type|   operation_type|\n",
            "+--------------------+---------+----------+----------+----------+----------+----------+---------+--------------------+--------------------+----------------+----+----+-----+--------+---------+-------------+---------------+-----+--------+------------+--------------------+--------------------+-------------+-----------------+\n",
            "|wdQ5hWhv8P14T7Sh9...|Propiedad|2020-12-25|9999-12-31|2020-12-25|-32.716652| -68.64269|Argentina|             Mendoza|                NULL|            NULL|NULL|NULL| NULL|    NULL|     NULL|        350.0|          350.0| NULL|    NULL|        NULL|Excelentes Lotes ...|Corredor Responsa...|         Lote|            Venta|\n",
            "|nnMBYZ4RMRY+vm753...|Propiedad|2020-12-25|9999-12-31|2020-12-25|-24.797724|-65.467514|Argentina|               Salta|                NULL|            NULL|NULL|NULL| NULL|    NULL|     NULL|       1541.0|         1541.0| NULL|    NULL|     Mensual|TERRENO + VENTA +...|Corredor Responsa...|         Lote|            Venta|\n",
            "|+dnVA1K6JxzL1zAjO...|Propiedad|2020-12-25|2020-12-29|2020-12-25|-34.919373| -58.02059|Argentina|Bs.As. G.B.A. Zon...|            La Plata|        La Plata|NULL|NULL| NULL|    NULL|     NULL|       1000.0|         1000.0| NULL|    NULL|     Mensual|Lote en Venta de ...|Corredor Responsa...|         Lote|            Venta|\n",
            "|dLHXKN5/sRZpm9Yk0...|Propiedad|2020-12-25|2020-12-29|2020-12-25|-34.919456|-58.024807|Argentina|Bs.As. G.B.A. Zon...|            La Plata|        La Plata|NULL|NULL| NULL|    NULL|     NULL|       1000.0|         1000.0| NULL|    NULL|     Mensual|Lote en Venta de ...|Corredor Responsa...|         Lote|            Venta|\n",
            "|wtw/k887EPipd37UY...|Propiedad|2020-12-25|9999-12-31|2020-12-25|-34.364925|-58.783142|Argentina|Bs.As. G.B.A. Zon...|             Escobar|Belén de Escobar|NULL|NULL| NULL|    NULL|     NULL|      18164.0|        18164.0| NULL|    NULL|     Mensual|  PANAMERICANA 47300|Nave principal 66...|         Otro|            Venta|\n",
            "|eYw+ClpuHC0Y5o5my...|Propiedad|2020-12-25|9999-12-31|2020-12-25|-34.601383|-58.372612|Argentina|     Capital Federal|         San Nicolás|            NULL|NULL|NULL| NULL|    NULL|        6|         NULL|         1980.0| NULL|    NULL|     Mensual|Oficina - Centro ...|Oficina / Consult...|      Oficina|            Venta|\n",
            "|UFmsxz8sSGfnOgA06...|Propiedad|2020-12-25|9999-12-31|2020-12-25|-34.601383|-58.372612|Argentina|     Capital Federal|         San Nicolás|            NULL|NULL|NULL| NULL|    NULL|        6|         NULL|         1980.0| NULL|    NULL|     Mensual|Oficina - Centro ...|Excepcional Ofici...|      Oficina|         Alquiler|\n",
            "|PC59hZVBOYNk5bh+X...|Propiedad|2020-12-25|9999-12-31|2020-12-25|-34.601383|-58.372612|Argentina|     Capital Federal|         San Nicolás|            NULL|NULL|NULL| NULL|    NULL|        6|         NULL|         1980.0| NULL|    NULL|     Mensual|Oficina - Centro ...|Oficina / Consult...|      Oficina|         Alquiler|\n",
            "|TOZstKBOcHY5+Ww9m...|Propiedad|2020-12-25|2020-12-30|2020-12-25|-24.818157| -65.42671|Argentina|               Salta|               Salta|            NULL|NULL|NULL| NULL|    NULL|     NULL|       1050.0|         1050.0| NULL|    NULL|     Mensual|ALQUILER + GALPÓN...|Corredor Responsa...|     Depósito|         Alquiler|\n",
            "|2LYMXj1wkHEcCjXc7...|Propiedad|2020-12-25|2021-03-05|2020-12-25| -34.58578|-58.423862|Argentina|     Capital Federal|             Palermo|            NULL|NULL|NULL| NULL|       1|     NULL|         NULL|           NULL| NULL|    NULL|     Mensual|DEPARTAMENTO EN V...|Muy lindo monoamb...| Departamento|            Venta|\n",
            "|raShnoQBxqJDC1yGO...|Propiedad|2020-12-25|9999-12-31|2020-12-25|-37.312977| -59.12618|Argentina|Buenos Aires Inte...|              Tandil|            NULL|NULL|NULL|    1|       1|        1|         NULL|           NULL| NULL|    NULL|     Mensual|Departamento More...|Departamento More...| Departamento|Alquiler temporal|\n",
            "|uYRYZl/8/lt7sMzs/...|Propiedad|2020-12-25|9999-12-31|2020-12-25|-31.423485| -64.49646|Argentina|             Córdoba|             Córdoba|          Centro|NULL|NULL|    1|       1|        1|         NULL|           NULL| NULL|    NULL|     Mensual|Departamento cént...|Departamento cént...| Departamento|Alquiler temporal|\n",
            "|e1Qi5/Anm22rmLZHc...|Propiedad|2020-12-25|9999-12-31|2020-12-25|-31.651438|-60.699646|Argentina|            Santa Fe|            Santa Fe|            NULL|NULL|NULL|    1|       1|        1|         38.0|           38.0| NULL|    NULL|     Mensual|MONOAMBIENTE EQUI...|Corredor Responsa...| Departamento|            Venta|\n",
            "|Kzc1P2vPsC18Qj5oo...|Propiedad|2020-12-25|9999-12-31|2020-12-25| -31.42601| -64.49735|Argentina|             Córdoba|    Villa Carlos Paz|            NULL|NULL|NULL|    1|       1|        1|         NULL|           NULL| NULL|    NULL|     Mensual|Tomy II Complejo ...|Tomy II Complejo ...| Departamento|Alquiler temporal|\n",
            "|d0z/2lR9jVPz/xm65...|Propiedad|2020-12-25|9999-12-31|2020-12-25|-31.788168| -64.52919|Argentina|             Córdoba|Villa Ciudad de A...|            NULL|NULL|NULL|    1|       1|        1|         NULL|           NULL| NULL|    NULL|     Mensual|Condominio Monte ...|Condominio Monte ...| Departamento|Alquiler temporal|\n",
            "|FBO0kGkWmi9pfBMe/...|Propiedad|2020-12-25|9999-12-31|2020-12-25|-38.981655|-61.324535|Argentina|Buenos Aires Cost...|       Monte Hermoso|            NULL|NULL|NULL|    2|       2|        2|         NULL|           NULL| NULL|    NULL|     Mensual|Cabañas Max - Cas...|Cabañas Max - Cas...|         Casa|Alquiler temporal|\n",
            "|ZWlV/5PL2WRbe26Fd...|Propiedad|2020-12-25|9999-12-31|2020-12-25|-38.895153| -71.12771|Argentina|             Neuquén|      Villa Pehuenia|            NULL|NULL|NULL|    2|       2|        1|         NULL|           NULL| NULL|    NULL|     Mensual|Cabañas Aucaman -...|Cabañas Aucaman -...|         Otro|Alquiler temporal|\n",
            "|0Shyi5ebmoPoRaGTN...|Propiedad|2020-12-25|2021-01-31|2020-12-25|  -37.1149|-56.860073|Argentina|Buenos Aires Cost...|             Pinamar|            NULL|NULL|NULL|    2|       2|        1|         NULL|           NULL| NULL|    NULL|     Mensual|Status Tower - De...|Status Tower - De...| Departamento|Alquiler temporal|\n",
            "|4QbtbHlmRAbqdtHnw...|Propiedad|2020-12-25|9999-12-31|2020-12-25| -31.65246|-64.436806|Argentina|             Córdoba|         Alta Gracia|            NULL|NULL|NULL|    2|       2|        2|         NULL|           NULL| NULL|    NULL|     Mensual|Departamento para...|Departamento para...| Departamento|Alquiler temporal|\n",
            "|4Yxm18AoXOe0v5Dxz...|Propiedad|2020-12-25|9999-12-31|2020-12-25| -31.42159| -64.49697|Argentina|             Córdoba|             Córdoba|            NULL|NULL|NULL|    3|       1|        1|         63.0|           49.0| NULL|    NULL|        NULL|VENDO HERMOSO DEP...|Corredor Responsa...| Departamento|            Venta|\n",
            "+--------------------+---------+----------+----------+----------+----------+----------+---------+--------------------+--------------------+----------------+----+----+-----+--------+---------+-------------+---------------+-----+--------+------------+--------------------+--------------------+-------------+-----------------+\n",
            "only showing top 20 rows\n",
            "\n"
          ]
        }
      ],
      "source": [
        "df.show()"
      ]
    },
    {
      "cell_type": "code",
      "execution_count": 7,
      "metadata": {
        "colab": {
          "base_uri": "https://localhost:8080/"
        },
        "id": "_xGZmpGcdJuB",
        "outputId": "3d1a3cf0-3797-433e-a616-097d048507fb"
      },
      "outputs": [
        {
          "data": {
            "text/plain": [
              "1000000"
            ]
          },
          "execution_count": 7,
          "metadata": {},
          "output_type": "execute_result"
        }
      ],
      "source": [
        "df.count()"
      ]
    },
    {
      "cell_type": "markdown",
      "metadata": {
        "id": "ZPt0gIM0dJuB"
      },
      "source": [
        "## Preprocessing"
      ]
    },
    {
      "cell_type": "markdown",
      "metadata": {
        "id": "PLm_skgVdJuB"
      },
      "source": [
        "Missing Values"
      ]
    },
    {
      "cell_type": "markdown",
      "metadata": {},
      "source": [
        "To quantify the completeness of the dataset we calculated the percentage of missing values in each column. This analysis helps identify data quality issues and informs necessary preprocessing steps like data imputation or deletion."
      ]
    },
    {
      "cell_type": "code",
      "execution_count": 8,
      "metadata": {
        "colab": {
          "base_uri": "https://localhost:8080/"
        },
        "id": "DsyP4iSSF4-g",
        "outputId": "f30a8506-b608-440c-d4ce-110329ed3018"
      },
      "outputs": [
        {
          "name": "stdout",
          "output_type": "stream",
          "text": [
            "Percentage of NAs in id: 0.00%\n",
            "Percentage of NAs in ad_type: 0.00%\n",
            "Percentage of NAs in start_date: 0.00%\n",
            "Percentage of NAs in end_date: 0.00%\n",
            "Percentage of NAs in created_on: 0.00%\n",
            "Percentage of NAs in lat: 15.08%\n",
            "Percentage of NAs in lon: 15.17%\n",
            "Percentage of NAs in l1: 0.00%\n",
            "Percentage of NAs in l2: 0.00%\n",
            "Percentage of NAs in l3: 5.33%\n",
            "Percentage of NAs in l4: 76.05%\n",
            "Percentage of NAs in l5: 99.50%\n",
            "Percentage of NAs in l6: 100.00%\n",
            "Percentage of NAs in rooms: 47.36%\n",
            "Percentage of NAs in bedrooms: 53.38%\n",
            "Percentage of NAs in bathrooms: 22.33%\n",
            "Percentage of NAs in surface_total: 62.05%\n",
            "Percentage of NAs in surface_covered: 61.85%\n",
            "Percentage of NAs in price: 3.69%\n",
            "Percentage of NAs in currency: 3.83%\n",
            "Percentage of NAs in price_period: 63.70%\n",
            "Percentage of NAs in title: 0.00%\n",
            "Percentage of NAs in description: 0.00%\n",
            "Percentage of NAs in property_type: 0.00%\n",
            "Percentage of NAs in operation_type: 0.00%\n"
          ]
        }
      ],
      "source": [
        "# percentage of na's in each column\n",
        "na_counts = df.select([(count(when(isnan(c) | col(c).isNull(), c)) / count('*') * 100).alias(c) for c in df.columns])\n",
        "\n",
        "# print the results in a more readable format - in percentage\n",
        "for row in na_counts.collect():\n",
        "    for column, percentage in row.asDict().items():\n",
        "        print(f\"Percentage of NAs in {column}: {percentage:.2f}%\")"
      ]
    },
    {
      "cell_type": "markdown",
      "metadata": {},
      "source": [
        "- No Missing Data: Columns like id, ad_type, and operation_type have 0% missing values, indicating complete records in these critical fields.\n",
        "- High Missing Data: l6 has 100% missing data, and l5 has 99.5% missing, suggesting these columns are not useful without further context or additional data.\n",
        "- Columns like l4, surface_total, surface_covered, and price_period also exhibit high percentages of missing values (over 60%), indicating substantial gaps in property details that could impact analysis or model training.\n",
        "- Moderate Missing Data: rooms, bedrooms, and bathrooms show significant missing data, which could affect analyses related to property size and capacity.\n",
        "- Low Missing Data: lat, lon.\n",
        "- Very low Missing Data: price, currency, l3, which can ve dropped."
      ]
    },
    {
      "cell_type": "markdown",
      "metadata": {
        "id": "5ID5SzyTdJuC"
      },
      "source": [
        "### Drop Columns"
      ]
    },
    {
      "cell_type": "markdown",
      "metadata": {},
      "source": [
        "The following steps include dropping irrelevant columns, filtering rows based on specific conditions, and handling partially missing values. Additionally, they include steps for correcting data inconsistencies, and ensure logical coherence among data attributes."
      ]
    },
    {
      "cell_type": "code",
      "execution_count": 9,
      "metadata": {
        "id": "_hNzfEbLF5AY"
      },
      "outputs": [],
      "source": [
        "# l4, l5, l6 refer to more specific location of the house like address, block, etc so we drop them\n",
        "# we keep l1, l2, l3 which refer to the region, main locality\n",
        "# drop id as it's also irrelevant and not even unique\n",
        "\n",
        "df = df.drop(\"l4\", \"l5\", \"l6\", \"id\")"
      ]
    },
    {
      "cell_type": "code",
      "execution_count": 10,
      "metadata": {
        "id": "7dNPHRlgdJuC"
      },
      "outputs": [],
      "source": [
        "# currency nan < 10% => drop rows\n",
        "df = df.na.drop(subset=[\"currency\"])"
      ]
    },
    {
      "cell_type": "markdown",
      "metadata": {
        "id": "ZpnJ-iJGdJuC"
      },
      "source": [
        "\"ad_type\" column"
      ]
    },
    {
      "cell_type": "code",
      "execution_count": 11,
      "metadata": {
        "colab": {
          "base_uri": "https://localhost:8080/"
        },
        "id": "yneQWJ44dJuC",
        "outputId": "e5c24f1f-64a9-4dd6-bcd2-ae8b99da596f"
      },
      "outputs": [
        {
          "name": "stdout",
          "output_type": "stream",
          "text": [
            "+---------+\n",
            "|  ad_type|\n",
            "+---------+\n",
            "|Propiedad|\n",
            "+---------+\n",
            "\n"
          ]
        }
      ],
      "source": [
        "\n",
        "df.select('ad_type').distinct().show() # only one unique value -> drop"
      ]
    },
    {
      "cell_type": "code",
      "execution_count": 12,
      "metadata": {
        "id": "mxh4bQiedJuC"
      },
      "outputs": [],
      "source": [
        "df = df.drop(\"ad_type\")"
      ]
    },
    {
      "cell_type": "markdown",
      "metadata": {
        "id": "uR0OkYgddJuD"
      },
      "source": [
        "'l1' column - Country"
      ]
    },
    {
      "cell_type": "code",
      "execution_count": 13,
      "metadata": {
        "colab": {
          "base_uri": "https://localhost:8080/"
        },
        "id": "YLLYER2edJuD",
        "outputId": "516a4db7-95d9-45ea-db5f-ed5a8de771c4"
      },
      "outputs": [
        {
          "name": "stdout",
          "output_type": "stream",
          "text": [
            "+--------------+------+\n",
            "|            l1| count|\n",
            "+--------------+------+\n",
            "|     Argentina|947979|\n",
            "|       Uruguay| 12962|\n",
            "|Estados Unidos|   688|\n",
            "|        Brasil|    90|\n",
            "+--------------+------+\n",
            "\n"
          ]
        }
      ],
      "source": [
        "# we want only houses in argentina\n",
        "df.groupBy('l1').count().show()"
      ]
    },
    {
      "cell_type": "code",
      "execution_count": 14,
      "metadata": {
        "id": "4obeOOpFdJuD"
      },
      "outputs": [],
      "source": [
        "# filter out any other country\n",
        "df = df.filter(col(\"l1\") == \"Argentina\")"
      ]
    },
    {
      "cell_type": "code",
      "execution_count": 15,
      "metadata": {
        "id": "he9kaHjFyW63"
      },
      "outputs": [],
      "source": [
        "df = df.drop(\"l1\") # => only one value remained"
      ]
    },
    {
      "cell_type": "markdown",
      "metadata": {
        "id": "78V2GcOudJuD"
      },
      "source": [
        "'Bedrooms' Column"
      ]
    },
    {
      "cell_type": "code",
      "execution_count": 16,
      "metadata": {
        "colab": {
          "base_uri": "https://localhost:8080/"
        },
        "id": "hwBRZUoUdJuD",
        "outputId": "7fcd37e7-4320-4e01-a7e4-957b575710b2"
      },
      "outputs": [
        {
          "name": "stdout",
          "output_type": "stream",
          "text": [
            "+--------+------+\n",
            "|bedrooms| count|\n",
            "+--------+------+\n",
            "|    NULL|512420|\n",
            "|     -16|     1|\n",
            "|      -2|     1|\n",
            "|      -1|     5|\n",
            "|       0| 28409|\n",
            "|       1|140490|\n",
            "|       2|122037|\n",
            "|       3| 93157|\n",
            "|       4| 36824|\n",
            "|       5|  9590|\n",
            "|       6|  3112|\n",
            "|       7|   794|\n",
            "|       8|   380|\n",
            "|       9|   116|\n",
            "|      10|   268|\n",
            "|      11|    44|\n",
            "|      12|    74|\n",
            "|      13|    17|\n",
            "|      14|    23|\n",
            "|      15|    15|\n",
            "+--------+------+\n",
            "only showing top 20 rows\n",
            "\n"
          ]
        }
      ],
      "source": [
        "df.groupBy(\"bedrooms\").count().sort(\"bedrooms\").show()"
      ]
    },
    {
      "cell_type": "code",
      "execution_count": 17,
      "metadata": {
        "id": "LCJ4ZtyqdJuE"
      },
      "outputs": [],
      "source": [
        "# [-1, -2, -16, 900, 335, 129, 100, 99]\n",
        "\n",
        "# remove rows with bedrooms < 0 and some extreme values\n",
        "df = df.filter(((col(\"bedrooms\") >= 0) & (col(\"bedrooms\") < 100)) | (col(\"bedrooms\").isNull()))"
      ]
    },
    {
      "cell_type": "code",
      "execution_count": 18,
      "metadata": {
        "colab": {
          "base_uri": "https://localhost:8080/"
        },
        "id": "2-X0oxmIdJuE",
        "outputId": "0af2a05c-2c76-4fbb-85df-ab85d6b4dcc5"
      },
      "outputs": [
        {
          "data": {
            "text/plain": [
              "947958"
            ]
          },
          "execution_count": 18,
          "metadata": {},
          "output_type": "execute_result"
        }
      ],
      "source": [
        "df.count()"
      ]
    },
    {
      "cell_type": "code",
      "execution_count": 19,
      "metadata": {
        "id": "alhOc1b0dJuE"
      },
      "outputs": [],
      "source": [
        "# Bedrooms are larger than rooms which doesnt make sense thus we remove these rows\n",
        "# we also keep the nulls\n",
        "df = df.filter((col(\"bedrooms\").isNull()) | (col(\"rooms\").isNull()) | (col(\"bedrooms\") <= col(\"rooms\")))\n"
      ]
    },
    {
      "cell_type": "code",
      "execution_count": 20,
      "metadata": {
        "colab": {
          "base_uri": "https://localhost:8080/"
        },
        "id": "1PbTBUQddJuE",
        "outputId": "b4be99bf-1bf7-4fcd-c1b0-83c691d284e0"
      },
      "outputs": [
        {
          "data": {
            "text/plain": [
              "945266"
            ]
          },
          "execution_count": 20,
          "metadata": {},
          "output_type": "execute_result"
        }
      ],
      "source": [
        "df.count()"
      ]
    },
    {
      "cell_type": "code",
      "execution_count": 21,
      "metadata": {
        "id": "bhMStT2-3iEg"
      },
      "outputs": [],
      "source": [
        "# bathrooms are larger than rooms which doesnt make sense thus we remove these rows\n",
        "# we also keep the nulls\n",
        "df = df.filter((col(\"bathrooms\").isNull()) | (col(\"rooms\").isNull()) | (col(\"bathrooms\") <= col(\"rooms\")))"
      ]
    },
    {
      "cell_type": "code",
      "execution_count": 22,
      "metadata": {
        "colab": {
          "base_uri": "https://localhost:8080/"
        },
        "id": "YrhRuCgj2RiD",
        "outputId": "6f0a40be-9289-4826-9d0e-78735cc0cb27"
      },
      "outputs": [
        {
          "data": {
            "text/plain": [
              "937022"
            ]
          },
          "execution_count": 22,
          "metadata": {},
          "output_type": "execute_result"
        }
      ],
      "source": [
        "df.count()"
      ]
    },
    {
      "cell_type": "markdown",
      "metadata": {
        "id": "J2mW_t5adJuF"
      },
      "source": [
        "Price Period"
      ]
    },
    {
      "cell_type": "code",
      "execution_count": 23,
      "metadata": {
        "colab": {
          "base_uri": "https://localhost:8080/"
        },
        "id": "PGRS_jY5dJuF",
        "outputId": "b0ea208d-06c0-4bf7-cf33-3d156d7697bc"
      },
      "outputs": [
        {
          "data": {
            "text/plain": [
              "DataFrame[price_period: string]"
            ]
          },
          "execution_count": 23,
          "metadata": {},
          "output_type": "execute_result"
        }
      ],
      "source": [
        "df.select('price_period').distinct()"
      ]
    },
    {
      "cell_type": "code",
      "execution_count": 24,
      "metadata": {
        "id": "jXmPAB4SdJuF"
      },
      "outputs": [],
      "source": [
        "# # we dont care about the time period of the payments => drop\n",
        "# # most of the instances are also null or mensual => uninformative\n",
        "df = df.drop('price_period')"
      ]
    },
    {
      "cell_type": "markdown",
      "metadata": {
        "id": "fhmAQq80dJuF"
      },
      "source": [
        "Price"
      ]
    },
    {
      "cell_type": "code",
      "execution_count": 25,
      "metadata": {
        "id": "I4ZZxd2NdJuF"
      },
      "outputs": [],
      "source": [
        "# na of target variable = 3.69% < 10% => drop rows\n",
        "df = df.na.drop(subset=[\"price\"])"
      ]
    },
    {
      "cell_type": "code",
      "execution_count": 26,
      "metadata": {
        "id": "gW_6nCdbgB7Q"
      },
      "outputs": [],
      "source": [
        "# Take only the rows with the price more than 0\n",
        "df = df.filter(col('price') > 0)"
      ]
    },
    {
      "cell_type": "code",
      "execution_count": 27,
      "metadata": {
        "colab": {
          "base_uri": "https://localhost:8080/"
        },
        "id": "IGNFl067kq6x",
        "outputId": "ef032727-e4fd-467e-ec20-640e2f67c51b"
      },
      "outputs": [
        {
          "data": {
            "text/plain": [
              "936882"
            ]
          },
          "execution_count": 27,
          "metadata": {},
          "output_type": "execute_result"
        }
      ],
      "source": [
        "df.count()"
      ]
    },
    {
      "cell_type": "markdown",
      "metadata": {
        "id": "Fd-jsV0KdJuG"
      },
      "source": [
        "### Handling missing values"
      ]
    },
    {
      "cell_type": "markdown",
      "metadata": {
        "id": "Hi4DqoifdJuG"
      },
      "source": [
        "#### Lat and Lon\n",
        "\n",
        "- Nature of the Features: Latitude and longitude are coordinates that together define a unique location. Dropping one might lead to loss of valuable geographic information that could be predictive of our target variable (e.g., house prices might be highly dependent on specific locations).\n",
        "- Model Dependency: Some models are more sensitive to multicollinearity (high correlation among predictor variables) than others. For instance, linear regression models can have issues with multicollinearity, leading to unstable coefficients. However, tree-based models like decision trees, random forests, and gradient boosting machines are generally less affected by multicollinearity because they are splitting the data on the most important variables one at a time.\n",
        "- Feature Engineering: Instead of dropping one of the coordinates, we can combine them into a single feature that captures both. These transformations can help mitigate the impact of multicollinearity while preserving essential information."
      ]
    },
    {
      "cell_type": "markdown",
      "metadata": {
        "id": "jR5beGl0dJuG"
      },
      "source": [
        "1. Fill na with mean\n",
        "2. Combine lat and lon to one feature"
      ]
    },
    {
      "cell_type": "markdown",
      "metadata": {},
      "source": [
        "Calculate and use the mean values of latitude and longitude to fill missing entries. This approach maintains the general geographical characteristics of the dataset without introducing bias that might occur with the deletion of these rows."
      ]
    },
    {
      "cell_type": "code",
      "execution_count": null,
      "metadata": {},
      "outputs": [],
      "source": [
        "# function to replace NaN values with null for more accurate computation of statistics such as mean\n",
        "def replace_nan_with_null(df, columns):\n",
        "    for column in columns:\n",
        "        df = df.withColumn(column, when(isnan(col(column)), None).otherwise(col(column)))\n",
        "    return df"
      ]
    },
    {
      "cell_type": "code",
      "execution_count": 28,
      "metadata": {
        "colab": {
          "base_uri": "https://localhost:8080/"
        },
        "id": "19K8ANxkdJuH",
        "outputId": "e535760a-bfd8-4581-fe76-e0da246792ac"
      },
      "outputs": [
        {
          "name": "stdout",
          "output_type": "stream",
          "text": [
            "+----------+----------+----------+----------+----------+--------------------+--------------------+-----+--------+---------+-------------+---------------+---------+--------+--------------------+--------------------+-------------+-----------------+\n",
            "|start_date|  end_date|created_on|       lat|       lon|                  l2|                  l3|rooms|bedrooms|bathrooms|surface_total|surface_covered|    price|currency|               title|         description|property_type|   operation_type|\n",
            "+----------+----------+----------+----------+----------+--------------------+--------------------+-----+--------+---------+-------------+---------------+---------+--------+--------------------+--------------------+-------------+-----------------+\n",
            "|2020-12-25|2021-02-13|2020-12-25|-24.825768|-65.470795|               Salta|               Salta| NULL|    NULL|     NULL|        324.0|          324.0|2000000.0|     ARS|TERRENO + VENTA +...|Corredor Responsa...|         Lote|            Venta|\n",
            "|2020-12-25|2021-01-02|2020-12-25|  -38.9829| -68.35075|             Neuquén|         Confluencia| NULL|    NULL|     NULL|        250.0|          250.0| 780000.0|     ARS|Venta de Lote en ...|Corredor Responsa...|         Lote|            Venta|\n",
            "|2020-12-25|2020-12-29|2020-12-25|-38.948296|-68.265564|             Neuquén|         Confluencia| NULL|    NULL|     NULL|        360.0|          360.0|1650000.0|     ARS|B° Mangeles - Lot...|Corredor Responsa...|         Lote|            Venta|\n",
            "|2020-12-25|2021-01-05|2020-12-25|-34.602165| -58.37503|     Capital Federal|         San Nicolás| NULL|    NULL|        2|        160.0|          160.0|  50000.0|     ARS|AVDA. CORRIENTES ...|EDIFICIO DE OFICI...|      Oficina|         Alquiler|\n",
            "|2020-12-25|2020-12-29|2020-12-25| -34.62443|-58.404045|     Capital Federal|       San Cristobal| NULL|    NULL|     NULL|         48.0|           48.0|  35000.0|     ARS|DEPTO 2 AMB - FUL...|Corredor Responsa...|      Oficina|         Alquiler|\n",
            "|2020-12-25|9999-12-31|2020-12-25|-34.601395| -58.37478|     Capital Federal|Centro / Microcentro| NULL|    NULL|     NULL|         32.0|           32.0|  19500.0|     ARS|Oficina en alquil...|Corredor Responsa...|      Oficina|         Alquiler|\n",
            "|2020-12-25|2021-01-04|2020-12-25|-38.928032|-68.178345|             Neuquén|         Confluencia| NULL|    NULL|     NULL|       1045.0|         1045.0| 380000.0|     ARS|Alquiler galpón c...|Corredor Responsa...|     Depósito|         Alquiler|\n",
            "|2020-12-25|9999-12-31|2020-12-25|-34.879692| -59.22634|             Córdoba|             Córdoba|    1|       1|        1|         NULL|           NULL|   4100.0|     ARS|Habitacion doble ...|<b>Habitacion dob...| Departamento|Alquiler temporal|\n",
            "|2020-12-25|2021-01-08|2020-12-25|-34.591217|-58.406685|     Capital Federal|            Recoleta|    1|       1|        1|         17.0|           17.0|  15000.0|     ARS|Monoambiente en a...|Corredor Responsa...| Departamento|         Alquiler|\n",
            "|2020-12-25|2021-01-08|2020-12-25|-34.637905| -58.50222|     Capital Federal|          Villa Luro|    1|       1|        1|         38.0|           36.0|  24000.0|     ARS|Alquiler Monoambi...|Corredor Responsa...| Departamento|         Alquiler|\n",
            "|2020-12-25|2020-12-30|2020-12-25|-34.587807|-58.388885|     Capital Federal|        Barrio Norte|    1|    NULL|        1|         39.0|           39.0|  16500.0|     ARS|Barrio Norte Mono...|Barrio Norte - Zo...| Departamento|         Alquiler|\n",
            "|2020-12-25|9999-12-31|2020-12-25| -34.38524|-59.110306|Buenos Aires Inte...|Exaltación de la ...|    1|    NULL|        1|       1500.0|           60.0|  99500.0|     ARS|QUINTA ZONA NORTE...|Corredor Responsa...|Casa de campo|Alquiler temporal|\n",
            "|2020-12-25|2020-12-25|2020-12-25|-31.427786| -64.19061|             Córdoba|                NULL|    2|       1|        1|         NULL|           NULL|  15000.0|     ARS|B° NUEVA CÓRDOBA ...|Ubicación: Obispo...| Departamento|         Alquiler|\n",
            "|2020-12-25|2021-01-05|2020-12-25|-34.720875|  -58.2781|Bs.As. G.B.A. Zon...|             Quilmes|    2|       1|        1|         45.0|           45.0|  16000.0|     ARS|ALQUILER. DPTO 2 ...|Corredor Responsa...| Departamento|         Alquiler|\n",
            "|2020-12-25|2020-12-25|2020-12-25|-31.427786| -64.19061|             Córdoba|             Córdoba|    2|       1|        1|         NULL|           NULL|  15000.0|     ARS|B° NUEVA CÓRDOBA ...|Ubicación: Obispo...| Departamento|         Alquiler|\n",
            "|2020-12-25|2020-12-25|2020-12-25|-31.427786| -64.19061|             Córdoba|             Córdoba|    2|       1|        1|         NULL|           NULL|  15000.0|     ARS|B° NUEVA CÓRDOBA ...|Ubicación: Obispo...| Departamento|         Alquiler|\n",
            "|2020-12-25|2020-12-25|2020-12-25|-31.427786| -64.19061|             Córdoba|             Córdoba|    2|       1|        1|         NULL|           NULL|  15000.0|     ARS|B° NUEVA CÓRDOBA ...|Ubicación: Obispo...| Departamento|         Alquiler|\n",
            "|2020-12-25|2021-01-02|2020-12-25|-34.591263|-58.410973|     Capital Federal|            Recoleta|    2|       1|        1|         39.0|           38.0|  21000.0|     ARS|Alquiler Departam...|Corredor Responsa...| Departamento|         Alquiler|\n",
            "|2020-12-25|2020-12-29|2020-12-25| -38.94614| -68.04917|             Neuquén|         Confluencia|    2|       1|        1|         60.0|           58.0|  55000.0|     ARS|DEPARTAMENTO UN D...|Corredor Responsa...| Departamento|         Alquiler|\n",
            "|2020-12-25|2021-01-01|2020-12-25|-31.728437| -65.00461|             Córdoba|        Mina Clavero|    3|       2|        3|         NULL|           NULL|   5800.0|     ARS|ALQUILO CABAÑAS- ...|<b>ALQUILO CABAÑA...|         Casa|Alquiler temporal|\n",
            "+----------+----------+----------+----------+----------+--------------------+--------------------+-----+--------+---------+-------------+---------------+---------+--------+--------------------+--------------------+-------------+-----------------+\n",
            "only showing top 20 rows\n",
            "\n"
          ]
        }
      ],
      "source": [
        "# replace NaN values in latitude and longitude columns\n",
        "df = replace_nan_with_null(df, [\"lat\", \"lon\"])\n",
        "\n",
        "# calculate mean, excluding nulls\n",
        "mean_values = df.agg(mean(col(\"lat\")).alias(\"mean_lat\"),mean(col(\"lon\")).alias(\"mean_lon\")).first()  # get the 1st row object\n",
        "\n",
        "mean_lat = mean_values[\"mean_lat\"]\n",
        "mean_lon = mean_values[\"mean_lon\"]\n",
        "\n",
        "# fill missing values in lat and lon with their respective mean values\n",
        "df = df.na.fill({\"lat\": mean_lat,\"lon\": mean_lon})\n",
        "\n",
        "\n",
        "df.show()\n"
      ]
    },
    {
      "cell_type": "code",
      "execution_count": 29,
      "metadata": {
        "id": "QmOwtJoQXeCk"
      },
      "outputs": [],
      "source": [
        "# combining lat and lon into a single column - list\n",
        "df = df.withColumn(\"coordinates\", array(\"lat\", \"lon\"))"
      ]
    },
    {
      "cell_type": "code",
      "execution_count": 30,
      "metadata": {
        "id": "jU-4kYgYXeCl"
      },
      "outputs": [],
      "source": [
        "df = df.drop(\"lat\", \"lon\")"
      ]
    },
    {
      "cell_type": "code",
      "execution_count": 31,
      "metadata": {
        "colab": {
          "base_uri": "https://localhost:8080/"
        },
        "id": "yLGw4mm8XeCl",
        "outputId": "9011bb5f-5ae4-42df-a698-081881335cd3"
      },
      "outputs": [
        {
          "name": "stdout",
          "output_type": "stream",
          "text": [
            "+----------+----------+----------+--------------------+--------------------+-----+--------+---------+-------------+---------------+---------+--------+--------------------+--------------------+-------------+-----------------+--------------------+\n",
            "|start_date|  end_date|created_on|                  l2|                  l3|rooms|bedrooms|bathrooms|surface_total|surface_covered|    price|currency|               title|         description|property_type|   operation_type|         coordinates|\n",
            "+----------+----------+----------+--------------------+--------------------+-----+--------+---------+-------------+---------------+---------+--------+--------------------+--------------------+-------------+-----------------+--------------------+\n",
            "|2020-12-25|2021-02-13|2020-12-25|               Salta|               Salta| NULL|    NULL|     NULL|        324.0|          324.0|2000000.0|     ARS|TERRENO + VENTA +...|Corredor Responsa...|         Lote|            Venta|[-24.825768, -65....|\n",
            "|2020-12-25|2021-01-02|2020-12-25|             Neuquén|         Confluencia| NULL|    NULL|     NULL|        250.0|          250.0| 780000.0|     ARS|Venta de Lote en ...|Corredor Responsa...|         Lote|            Venta|[-38.9829, -68.35...|\n",
            "|2020-12-25|2020-12-29|2020-12-25|             Neuquén|         Confluencia| NULL|    NULL|     NULL|        360.0|          360.0|1650000.0|     ARS|B° Mangeles - Lot...|Corredor Responsa...|         Lote|            Venta|[-38.948296, -68....|\n",
            "|2020-12-25|2021-01-05|2020-12-25|     Capital Federal|         San Nicolás| NULL|    NULL|        2|        160.0|          160.0|  50000.0|     ARS|AVDA. CORRIENTES ...|EDIFICIO DE OFICI...|      Oficina|         Alquiler|[-34.602165, -58....|\n",
            "|2020-12-25|2020-12-29|2020-12-25|     Capital Federal|       San Cristobal| NULL|    NULL|     NULL|         48.0|           48.0|  35000.0|     ARS|DEPTO 2 AMB - FUL...|Corredor Responsa...|      Oficina|         Alquiler|[-34.62443, -58.4...|\n",
            "|2020-12-25|9999-12-31|2020-12-25|     Capital Federal|Centro / Microcentro| NULL|    NULL|     NULL|         32.0|           32.0|  19500.0|     ARS|Oficina en alquil...|Corredor Responsa...|      Oficina|         Alquiler|[-34.601395, -58....|\n",
            "|2020-12-25|2021-01-04|2020-12-25|             Neuquén|         Confluencia| NULL|    NULL|     NULL|       1045.0|         1045.0| 380000.0|     ARS|Alquiler galpón c...|Corredor Responsa...|     Depósito|         Alquiler|[-38.928032, -68....|\n",
            "|2020-12-25|9999-12-31|2020-12-25|             Córdoba|             Córdoba|    1|       1|        1|         NULL|           NULL|   4100.0|     ARS|Habitacion doble ...|<b>Habitacion dob...| Departamento|Alquiler temporal|[-34.879692, -59....|\n",
            "|2020-12-25|2021-01-08|2020-12-25|     Capital Federal|            Recoleta|    1|       1|        1|         17.0|           17.0|  15000.0|     ARS|Monoambiente en a...|Corredor Responsa...| Departamento|         Alquiler|[-34.591217, -58....|\n",
            "|2020-12-25|2021-01-08|2020-12-25|     Capital Federal|          Villa Luro|    1|       1|        1|         38.0|           36.0|  24000.0|     ARS|Alquiler Monoambi...|Corredor Responsa...| Departamento|         Alquiler|[-34.637905, -58....|\n",
            "|2020-12-25|2020-12-30|2020-12-25|     Capital Federal|        Barrio Norte|    1|    NULL|        1|         39.0|           39.0|  16500.0|     ARS|Barrio Norte Mono...|Barrio Norte - Zo...| Departamento|         Alquiler|[-34.587807, -58....|\n",
            "|2020-12-25|9999-12-31|2020-12-25|Buenos Aires Inte...|Exaltación de la ...|    1|    NULL|        1|       1500.0|           60.0|  99500.0|     ARS|QUINTA ZONA NORTE...|Corredor Responsa...|Casa de campo|Alquiler temporal|[-34.38524, -59.1...|\n",
            "|2020-12-25|2020-12-25|2020-12-25|             Córdoba|                NULL|    2|       1|        1|         NULL|           NULL|  15000.0|     ARS|B° NUEVA CÓRDOBA ...|Ubicación: Obispo...| Departamento|         Alquiler|[-31.427786, -64....|\n",
            "|2020-12-25|2021-01-05|2020-12-25|Bs.As. G.B.A. Zon...|             Quilmes|    2|       1|        1|         45.0|           45.0|  16000.0|     ARS|ALQUILER. DPTO 2 ...|Corredor Responsa...| Departamento|         Alquiler|[-34.720875, -58....|\n",
            "|2020-12-25|2020-12-25|2020-12-25|             Córdoba|             Córdoba|    2|       1|        1|         NULL|           NULL|  15000.0|     ARS|B° NUEVA CÓRDOBA ...|Ubicación: Obispo...| Departamento|         Alquiler|[-31.427786, -64....|\n",
            "|2020-12-25|2020-12-25|2020-12-25|             Córdoba|             Córdoba|    2|       1|        1|         NULL|           NULL|  15000.0|     ARS|B° NUEVA CÓRDOBA ...|Ubicación: Obispo...| Departamento|         Alquiler|[-31.427786, -64....|\n",
            "|2020-12-25|2020-12-25|2020-12-25|             Córdoba|             Córdoba|    2|       1|        1|         NULL|           NULL|  15000.0|     ARS|B° NUEVA CÓRDOBA ...|Ubicación: Obispo...| Departamento|         Alquiler|[-31.427786, -64....|\n",
            "|2020-12-25|2021-01-02|2020-12-25|     Capital Federal|            Recoleta|    2|       1|        1|         39.0|           38.0|  21000.0|     ARS|Alquiler Departam...|Corredor Responsa...| Departamento|         Alquiler|[-34.591263, -58....|\n",
            "|2020-12-25|2020-12-29|2020-12-25|             Neuquén|         Confluencia|    2|       1|        1|         60.0|           58.0|  55000.0|     ARS|DEPARTAMENTO UN D...|Corredor Responsa...| Departamento|         Alquiler|[-38.94614, -68.0...|\n",
            "|2020-12-25|2021-01-01|2020-12-25|             Córdoba|        Mina Clavero|    3|       2|        3|         NULL|           NULL|   5800.0|     ARS|ALQUILO CABAÑAS- ...|<b>ALQUILO CABAÑA...|         Casa|Alquiler temporal|[-31.728437, -65....|\n",
            "+----------+----------+----------+--------------------+--------------------+-----+--------+---------+-------------+---------------+---------+--------+--------------------+--------------------+-------------+-----------------+--------------------+\n",
            "only showing top 20 rows\n",
            "\n"
          ]
        }
      ],
      "source": [
        "df.show()"
      ]
    },
    {
      "cell_type": "markdown",
      "metadata": {
        "id": "JbK4gy7AdJuH"
      },
      "source": [
        "#### l3"
      ]
    },
    {
      "cell_type": "code",
      "execution_count": 32,
      "metadata": {
        "id": "HXRhB0IidJuH"
      },
      "outputs": [],
      "source": [
        "# drop rows where 'l3' location data is missing\n",
        "df = df.na.drop(subset=[\"l3\"])"
      ]
    },
    {
      "cell_type": "code",
      "execution_count": 33,
      "metadata": {
        "colab": {
          "base_uri": "https://localhost:8080/"
        },
        "id": "taJP-XgoXeCl",
        "outputId": "51f0b8af-32b2-432a-8e89-90a774c38715"
      },
      "outputs": [
        {
          "name": "stdout",
          "output_type": "stream",
          "text": [
            "root\n",
            " |-- start_date: string (nullable = true)\n",
            " |-- end_date: string (nullable = true)\n",
            " |-- created_on: string (nullable = true)\n",
            " |-- l2: string (nullable = true)\n",
            " |-- l3: string (nullable = true)\n",
            " |-- rooms: integer (nullable = true)\n",
            " |-- bedrooms: integer (nullable = true)\n",
            " |-- bathrooms: integer (nullable = true)\n",
            " |-- surface_total: double (nullable = true)\n",
            " |-- surface_covered: double (nullable = true)\n",
            " |-- price: double (nullable = true)\n",
            " |-- currency: string (nullable = true)\n",
            " |-- title: string (nullable = true)\n",
            " |-- description: string (nullable = true)\n",
            " |-- property_type: string (nullable = true)\n",
            " |-- operation_type: string (nullable = true)\n",
            " |-- coordinates: array (nullable = false)\n",
            " |    |-- element: float (containsNull = false)\n",
            "\n"
          ]
        }
      ],
      "source": [
        "df.printSchema()"
      ]
    },
    {
      "cell_type": "code",
      "execution_count": 34,
      "metadata": {
        "id": "pkr_f2BIXeCm"
      },
      "outputs": [],
      "source": [
        "# function to calculate the percentage of missing values across different data types\n",
        "def na_percentage(c, dtype):\n",
        "    if dtype in ['integer', 'double']:  # check both NaN and null for numeric types\n",
        "        return ((count(when(isnan(c) | col(c).isNull(), c)) / count('*')) * 100).alias(c)\n",
        "    elif dtype == 'array':  # check if the array is empty or null \n",
        "        return ((count(when(col(c).isNull() | (size(col(c)) == 0), c)) / count('*')) * 100).alias(c)\n",
        "    else:  # for all other types just check for null\n",
        "        return (count(when(col(c).isNull(), c)) / count('*') * 100).alias(c)\n"
      ]
    },
    {
      "cell_type": "code",
      "execution_count": 35,
      "metadata": {
        "colab": {
          "base_uri": "https://localhost:8080/"
        },
        "id": "tbEXsHeAXeCm",
        "outputId": "6214b659-83f0-423b-9c76-1c367527458f"
      },
      "outputs": [
        {
          "name": "stdout",
          "output_type": "stream",
          "text": [
            "Percentage of NAs in start_date: 0.0000%\n",
            "Percentage of NAs in end_date: 0.0000%\n",
            "Percentage of NAs in created_on: 0.0000%\n",
            "Percentage of NAs in l2: 0.0000%\n",
            "Percentage of NAs in l3: 0.0000%\n",
            "Percentage of NAs in rooms: 46.9162%\n",
            "Percentage of NAs in bedrooms: 53.1813%\n",
            "Percentage of NAs in bathrooms: 22.1505%\n",
            "Percentage of NAs in surface_total: 61.8157%\n",
            "Percentage of NAs in surface_covered: 61.6571%\n",
            "Percentage of NAs in price: 0.0000%\n",
            "Percentage of NAs in currency: 0.0000%\n",
            "Percentage of NAs in title: 0.0000%\n",
            "Percentage of NAs in description: 0.0015%\n",
            "Percentage of NAs in property_type: 0.0000%\n",
            "Percentage of NAs in operation_type: 0.0000%\n",
            "Percentage of NAs in coordinates: 0.0000%\n"
          ]
        }
      ],
      "source": [
        "# calculate the % of missing values for each column \n",
        "na_counts = df.select([na_percentage(c, dtype) for c, dtype in df.dtypes])\n",
        "\n",
        "# print the results in percentage\n",
        "for row in na_counts.collect():\n",
        "    for column, percentage in row.asDict().items():\n",
        "        print(f\"Percentage of NAs in {column}: {percentage:.4f}%\")\n"
      ]
    },
    {
      "cell_type": "markdown",
      "metadata": {},
      "source": [
        "#### Description"
      ]
    },
    {
      "cell_type": "code",
      "execution_count": 36,
      "metadata": {
        "id": "YuAlQEs8gMgZ"
      },
      "outputs": [],
      "source": [
        "# drop rows with missing values in the 'description' column\n",
        "df = df.dropna(subset=['description'])"
      ]
    },
    {
      "cell_type": "markdown",
      "metadata": {
        "id": "fPcl98FA_25U"
      },
      "source": [
        "#### Currency Conversion"
      ]
    },
    {
      "cell_type": "markdown",
      "metadata": {},
      "source": [
        "The next step, involves the currency conversion to unify financial metrics across different regions – main goal is to convert all currencies to euro in order for the properties’ prices to be comparable."
      ]
    },
    {
      "cell_type": "code",
      "execution_count": 37,
      "metadata": {
        "colab": {
          "base_uri": "https://localhost:8080/"
        },
        "id": "lP2Zn2Md_0H1",
        "outputId": "83dc7d95-ab34-4cd1-943b-af464d129272"
      },
      "outputs": [
        {
          "name": "stdout",
          "output_type": "stream",
          "text": [
            "+----------+\n",
            "|start_date|\n",
            "+----------+\n",
            "|2021-01-14|\n",
            "|2021-01-13|\n",
            "|2021-01-12|\n",
            "|2021-01-11|\n",
            "|2021-01-10|\n",
            "|2021-01-09|\n",
            "|2021-01-08|\n",
            "|2021-01-07|\n",
            "|2021-01-06|\n",
            "|2021-01-05|\n",
            "|2021-01-04|\n",
            "|2021-01-02|\n",
            "|2021-01-01|\n",
            "|2020-12-31|\n",
            "|2020-12-30|\n",
            "|2020-12-29|\n",
            "|2020-12-27|\n",
            "|2020-12-26|\n",
            "|2020-12-25|\n",
            "|2020-12-24|\n",
            "+----------+\n",
            "only showing top 20 rows\n",
            "\n"
          ]
        }
      ],
      "source": [
        "df.select(\"start_date\").distinct().orderBy(\"start_date\", ascending = False).show()"
      ]
    },
    {
      "cell_type": "code",
      "execution_count": 38,
      "metadata": {
        "colab": {
          "base_uri": "https://localhost:8080/"
        },
        "id": "VV18oJNIXeCm",
        "outputId": "1bc321c5-3050-4cc5-c975-739262a044da"
      },
      "outputs": [
        {
          "name": "stdout",
          "output_type": "stream",
          "text": [
            "+---------------+---------------+\n",
            "|min(start_date)|max(start_date)|\n",
            "+---------------+---------------+\n",
            "|     2019-12-22|     2021-01-14|\n",
            "+---------------+---------------+\n",
            "\n"
          ]
        }
      ],
      "source": [
        "df.agg(min(\"start_date\"), max(\"start_date\")).show()"
      ]
    },
    {
      "cell_type": "code",
      "execution_count": 39,
      "metadata": {
        "id": "6bBdiw_vB3OZ"
      },
      "outputs": [],
      "source": [
        "# make the start_date as a DateType()\n",
        "df = df.withColumn(\"start_date\", F.col(\"start_date\").cast(DateType()))"
      ]
    },
    {
      "cell_type": "code",
      "execution_count": 40,
      "metadata": {
        "id": "aJKtPMcCB3XN"
      },
      "outputs": [],
      "source": [
        "# categorize the date into first or last six months of the year in order to match the corresponding currency exchange rate at the time\n",
        "df = df.withColumn(\"period\", F.when(F.month(\"start_date\") <= 6, \"first_6_months\").otherwise(\"last_6_months\"))"
      ]
    },
    {
      "cell_type": "code",
      "execution_count": 41,
      "metadata": {
        "colab": {
          "base_uri": "https://localhost:8080/"
        },
        "id": "b_JQEXpZB82s",
        "outputId": "380cdcdd-2c70-4533-9022-d4be83bd2c86"
      },
      "outputs": [
        {
          "name": "stdout",
          "output_type": "stream",
          "text": [
            "+--------+--------------+----+------------+\n",
            "|currency|        period|year|rate_to_euro|\n",
            "+--------+--------------+----+------------+\n",
            "|     ARS|first_6_months|2019|       0.021|\n",
            "|     ARS| last_6_months|2019|      0.0157|\n",
            "|     ARS|first_6_months|2020|      0.0143|\n",
            "|     ARS| last_6_months|2020|      0.0114|\n",
            "|     ARS|first_6_months|2021|      0.0096|\n",
            "|     ARS| last_6_months|2021|      0.0087|\n",
            "|     PEN|first_6_months|2019|       0.267|\n",
            "|     PEN| last_6_months|2019|       0.263|\n",
            "|     PEN|first_6_months|2020|        0.28|\n",
            "|     PEN| last_6_months|2020|       0.275|\n",
            "|     PEN|first_6_months|2021|        0.29|\n",
            "|     PEN| last_6_months|2021|       0.285|\n",
            "|     USD|first_6_months|2019|        0.89|\n",
            "|     USD| last_6_months|2019|       0.875|\n",
            "|     USD|first_6_months|2020|        0.92|\n",
            "|     USD| last_6_months|2020|        0.91|\n",
            "|     USD|first_6_months|2021|        0.84|\n",
            "|     USD| last_6_months|2021|       0.825|\n",
            "|     UYU|first_6_months|2019|       0.025|\n",
            "|     UYU| last_6_months|2019|       0.024|\n",
            "+--------+--------------+----+------------+\n",
            "only showing top 20 rows\n",
            "\n"
          ]
        }
      ],
      "source": [
        "# schema for the exchange rates df\n",
        "schema = StructType([\n",
        "    StructField(\"currency\", StringType(), True),\n",
        "    StructField(\"period\", StringType(), True),\n",
        "    StructField(\"year\", IntegerType(), True),\n",
        "    StructField(\"rate_to_euro\", DoubleType(), True)])\n",
        "\n",
        "# create the df with the predefined exchange rates for the currencies ARS, PEN, USD and UYU\n",
        "exchange_rates = spark.createDataFrame(\n",
        "    [\n",
        "        (\"ARS\", \"first_6_months\", 2019, 0.0210), (\"ARS\", \"last_6_months\", 2019, 0.0157),\n",
        "        (\"ARS\", \"first_6_months\", 2020, 0.0143), (\"ARS\", \"last_6_months\", 2020, 0.0114),\n",
        "        (\"ARS\", \"first_6_months\", 2021, 0.0096), (\"ARS\", \"last_6_months\", 2021, 0.0087),\n",
        "        (\"PEN\", \"first_6_months\", 2019,  0.267), (\"PEN\", \"last_6_months\", 2019, 0.263),\n",
        "        (\"PEN\", \"first_6_months\", 2020, 0.280), (\"PEN\", \"last_6_months\", 2020, 0.275),\n",
        "        (\"PEN\", \"first_6_months\", 2021, 0.290), (\"PEN\", \"last_6_months\", 2021, 0.285),\n",
        "        (\"USD\", \"first_6_months\", 2019, 0.890), (\"USD\", \"last_6_months\", 2019, 0.875),\n",
        "        (\"USD\", \"first_6_months\", 2020, 0.920), (\"USD\", \"last_6_months\", 2020, 0.910),\n",
        "        (\"USD\", \"first_6_months\", 2021, 0.840), (\"USD\", \"last_6_months\", 2021, 0.825),\n",
        "        (\"UYU\", \"first_6_months\", 2019, 0.025), (\"UYU\", \"last_6_months\", 2019, 0.024),\n",
        "        (\"UYU\", \"first_6_months\", 2020, 0.023), (\"UYU\", \"last_6_months\", 2020, 0.022),\n",
        "        (\"UYU\", \"first_6_months\", 2021, 0.021), (\"UYU\", \"last_6_months\", 2021, 0.020)\n",
        "    ],\n",
        "    schema)\n",
        "\n",
        "\n",
        "exchange_rates.show()"
      ]
    },
    {
      "cell_type": "code",
      "execution_count": 42,
      "metadata": {
        "id": "eoBkkVEECBpX"
      },
      "outputs": [],
      "source": [
        "# join the original df with the exchange rates df based on currency, period, and year\n",
        "result_df = df.join(exchange_rates,\n",
        "    (df.currency == exchange_rates.currency) & (df.period == exchange_rates.period) & (F.year(df.start_date) == exchange_rates.year),\n",
        "    \"left\")"
      ]
    },
    {
      "cell_type": "code",
      "execution_count": 43,
      "metadata": {
        "colab": {
          "base_uri": "https://localhost:8080/"
        },
        "id": "9fmbV8FlCBwn",
        "outputId": "c527aae2-6236-4c4f-cc3c-39cdc667d2a3"
      },
      "outputs": [
        {
          "data": {
            "text/plain": [
              "['start_date',\n",
              " 'end_date',\n",
              " 'created_on',\n",
              " 'l2',\n",
              " 'l3',\n",
              " 'rooms',\n",
              " 'bedrooms',\n",
              " 'bathrooms',\n",
              " 'surface_total',\n",
              " 'surface_covered',\n",
              " 'price',\n",
              " 'currency',\n",
              " 'title',\n",
              " 'description',\n",
              " 'property_type',\n",
              " 'operation_type',\n",
              " 'coordinates',\n",
              " 'period']"
            ]
          },
          "execution_count": 43,
          "metadata": {},
          "output_type": "execute_result"
        }
      ],
      "source": [
        "df.columns"
      ]
    },
    {
      "cell_type": "code",
      "execution_count": 44,
      "metadata": {
        "id": "yGcYEsSyCIAR"
      },
      "outputs": [],
      "source": [
        "# calculate the amount in euros by applying the exchange rate to the price\n",
        "result_df = result_df.withColumn(\"amount_in_euro\",F.col(\"price\") * F.col(\"rate_to_euro\"))"
      ]
    },
    {
      "cell_type": "code",
      "execution_count": 45,
      "metadata": {
        "colab": {
          "base_uri": "https://localhost:8080/"
        },
        "id": "zxz6oL8tCNAx",
        "outputId": "493229d7-921c-4f78-c77d-bf77cb17e568"
      },
      "outputs": [
        {
          "name": "stdout",
          "output_type": "stream",
          "text": [
            "+----------+----------+----------+--------------------+--------------------+-----+--------+---------+-------------+---------------+---------+--------+--------------------+--------------------+-------------+-----------------+--------------------+-------------+--------+-------------+----+------------+--------------+\n",
            "|start_date|  end_date|created_on|                  l2|                  l3|rooms|bedrooms|bathrooms|surface_total|surface_covered|    price|currency|               title|         description|property_type|   operation_type|         coordinates|       period|currency|       period|year|rate_to_euro|amount_in_euro|\n",
            "+----------+----------+----------+--------------------+--------------------+-----+--------+---------+-------------+---------------+---------+--------+--------------------+--------------------+-------------+-----------------+--------------------+-------------+--------+-------------+----+------------+--------------+\n",
            "|2020-12-25|2021-02-13|2020-12-25|               Salta|               Salta| NULL|    NULL|     NULL|        324.0|          324.0|2000000.0|     ARS|TERRENO + VENTA +...|Corredor Responsa...|         Lote|            Venta|[-24.825768, -65....|last_6_months|     ARS|last_6_months|2020|      0.0114|       22800.0|\n",
            "|2020-12-25|2021-01-02|2020-12-25|             Neuquén|         Confluencia| NULL|    NULL|     NULL|        250.0|          250.0| 780000.0|     ARS|Venta de Lote en ...|Corredor Responsa...|         Lote|            Venta|[-38.9829, -68.35...|last_6_months|     ARS|last_6_months|2020|      0.0114|        8892.0|\n",
            "|2020-12-25|2020-12-29|2020-12-25|             Neuquén|         Confluencia| NULL|    NULL|     NULL|        360.0|          360.0|1650000.0|     ARS|B° Mangeles - Lot...|Corredor Responsa...|         Lote|            Venta|[-38.948296, -68....|last_6_months|     ARS|last_6_months|2020|      0.0114|       18810.0|\n",
            "|2020-12-25|2021-01-05|2020-12-25|     Capital Federal|         San Nicolás| NULL|    NULL|        2|        160.0|          160.0|  50000.0|     ARS|AVDA. CORRIENTES ...|EDIFICIO DE OFICI...|      Oficina|         Alquiler|[-34.602165, -58....|last_6_months|     ARS|last_6_months|2020|      0.0114|         570.0|\n",
            "|2020-12-25|2020-12-29|2020-12-25|     Capital Federal|       San Cristobal| NULL|    NULL|     NULL|         48.0|           48.0|  35000.0|     ARS|DEPTO 2 AMB - FUL...|Corredor Responsa...|      Oficina|         Alquiler|[-34.62443, -58.4...|last_6_months|     ARS|last_6_months|2020|      0.0114|         399.0|\n",
            "|2020-12-25|9999-12-31|2020-12-25|     Capital Federal|Centro / Microcentro| NULL|    NULL|     NULL|         32.0|           32.0|  19500.0|     ARS|Oficina en alquil...|Corredor Responsa...|      Oficina|         Alquiler|[-34.601395, -58....|last_6_months|     ARS|last_6_months|2020|      0.0114|         222.3|\n",
            "|2020-12-25|2021-01-04|2020-12-25|             Neuquén|         Confluencia| NULL|    NULL|     NULL|       1045.0|         1045.0| 380000.0|     ARS|Alquiler galpón c...|Corredor Responsa...|     Depósito|         Alquiler|[-38.928032, -68....|last_6_months|     ARS|last_6_months|2020|      0.0114|        4332.0|\n",
            "|2020-12-25|9999-12-31|2020-12-25|             Córdoba|             Córdoba|    1|       1|        1|         NULL|           NULL|   4100.0|     ARS|Habitacion doble ...|<b>Habitacion dob...| Departamento|Alquiler temporal|[-34.879692, -59....|last_6_months|     ARS|last_6_months|2020|      0.0114|         46.74|\n",
            "|2020-12-25|2021-01-08|2020-12-25|     Capital Federal|            Recoleta|    1|       1|        1|         17.0|           17.0|  15000.0|     ARS|Monoambiente en a...|Corredor Responsa...| Departamento|         Alquiler|[-34.591217, -58....|last_6_months|     ARS|last_6_months|2020|      0.0114|         171.0|\n",
            "|2020-12-25|2021-01-08|2020-12-25|     Capital Federal|          Villa Luro|    1|       1|        1|         38.0|           36.0|  24000.0|     ARS|Alquiler Monoambi...|Corredor Responsa...| Departamento|         Alquiler|[-34.637905, -58....|last_6_months|     ARS|last_6_months|2020|      0.0114|         273.6|\n",
            "|2020-12-25|2020-12-30|2020-12-25|     Capital Federal|        Barrio Norte|    1|    NULL|        1|         39.0|           39.0|  16500.0|     ARS|Barrio Norte Mono...|Barrio Norte - Zo...| Departamento|         Alquiler|[-34.587807, -58....|last_6_months|     ARS|last_6_months|2020|      0.0114|         188.1|\n",
            "|2020-12-25|9999-12-31|2020-12-25|Buenos Aires Inte...|Exaltación de la ...|    1|    NULL|        1|       1500.0|           60.0|  99500.0|     ARS|QUINTA ZONA NORTE...|Corredor Responsa...|Casa de campo|Alquiler temporal|[-34.38524, -59.1...|last_6_months|     ARS|last_6_months|2020|      0.0114|        1134.3|\n",
            "|2020-12-25|2021-01-05|2020-12-25|Bs.As. G.B.A. Zon...|             Quilmes|    2|       1|        1|         45.0|           45.0|  16000.0|     ARS|ALQUILER. DPTO 2 ...|Corredor Responsa...| Departamento|         Alquiler|[-34.720875, -58....|last_6_months|     ARS|last_6_months|2020|      0.0114|         182.4|\n",
            "|2020-12-25|2020-12-25|2020-12-25|             Córdoba|             Córdoba|    2|       1|        1|         NULL|           NULL|  15000.0|     ARS|B° NUEVA CÓRDOBA ...|Ubicación: Obispo...| Departamento|         Alquiler|[-31.427786, -64....|last_6_months|     ARS|last_6_months|2020|      0.0114|         171.0|\n",
            "|2020-12-25|2020-12-25|2020-12-25|             Córdoba|             Córdoba|    2|       1|        1|         NULL|           NULL|  15000.0|     ARS|B° NUEVA CÓRDOBA ...|Ubicación: Obispo...| Departamento|         Alquiler|[-31.427786, -64....|last_6_months|     ARS|last_6_months|2020|      0.0114|         171.0|\n",
            "|2020-12-25|2020-12-25|2020-12-25|             Córdoba|             Córdoba|    2|       1|        1|         NULL|           NULL|  15000.0|     ARS|B° NUEVA CÓRDOBA ...|Ubicación: Obispo...| Departamento|         Alquiler|[-31.427786, -64....|last_6_months|     ARS|last_6_months|2020|      0.0114|         171.0|\n",
            "|2020-12-25|2021-01-02|2020-12-25|     Capital Federal|            Recoleta|    2|       1|        1|         39.0|           38.0|  21000.0|     ARS|Alquiler Departam...|Corredor Responsa...| Departamento|         Alquiler|[-34.591263, -58....|last_6_months|     ARS|last_6_months|2020|      0.0114|         239.4|\n",
            "|2020-12-25|2020-12-29|2020-12-25|             Neuquén|         Confluencia|    2|       1|        1|         60.0|           58.0|  55000.0|     ARS|DEPARTAMENTO UN D...|Corredor Responsa...| Departamento|         Alquiler|[-38.94614, -68.0...|last_6_months|     ARS|last_6_months|2020|      0.0114|         627.0|\n",
            "|2020-12-25|2021-01-01|2020-12-25|             Córdoba|        Mina Clavero|    3|       2|        3|         NULL|           NULL|   5800.0|     ARS|ALQUILO CABAÑAS- ...|<b>ALQUILO CABAÑA...|         Casa|Alquiler temporal|[-31.728437, -65....|last_6_months|     ARS|last_6_months|2020|      0.0114|         66.12|\n",
            "|2020-12-25|2021-01-02|2020-12-25|Bs.As. G.B.A. Zon...|               Tigre|    3|    NULL|        1|         NULL|           NULL|  30000.0|     ARS| Oficina en Nordelta|<b>Oficina en Nor...|      Oficina|         Alquiler|[-34.397602, -58....|last_6_months|     ARS|last_6_months|2020|      0.0114|         342.0|\n",
            "+----------+----------+----------+--------------------+--------------------+-----+--------+---------+-------------+---------------+---------+--------+--------------------+--------------------+-------------+-----------------+--------------------+-------------+--------+-------------+----+------------+--------------+\n",
            "only showing top 20 rows\n",
            "\n"
          ]
        }
      ],
      "source": [
        "result_df.show()"
      ]
    },
    {
      "cell_type": "code",
      "execution_count": 46,
      "metadata": {
        "colab": {
          "base_uri": "https://localhost:8080/"
        },
        "id": "TmXqHlMxCnKf",
        "outputId": "7e61394d-9a99-4fba-feae-1e4b04a3edde"
      },
      "outputs": [
        {
          "data": {
            "text/plain": [
              "['start_date',\n",
              " 'end_date',\n",
              " 'created_on',\n",
              " 'l2',\n",
              " 'l3',\n",
              " 'rooms',\n",
              " 'bedrooms',\n",
              " 'bathrooms',\n",
              " 'surface_total',\n",
              " 'surface_covered',\n",
              " 'price',\n",
              " 'currency',\n",
              " 'title',\n",
              " 'description',\n",
              " 'property_type',\n",
              " 'operation_type',\n",
              " 'coordinates',\n",
              " 'period',\n",
              " 'currency',\n",
              " 'period',\n",
              " 'year',\n",
              " 'rate_to_euro',\n",
              " 'amount_in_euro']"
            ]
          },
          "execution_count": 46,
          "metadata": {},
          "output_type": "execute_result"
        }
      ],
      "source": [
        "result_df.columns"
      ]
    },
    {
      "cell_type": "code",
      "execution_count": 47,
      "metadata": {
        "colab": {
          "base_uri": "https://localhost:8080/"
        },
        "id": "ThVjKkiARae0",
        "outputId": "6608d9c3-7c9f-4b77-ce30-ded76849c0b4"
      },
      "outputs": [
        {
          "name": "stdout",
          "output_type": "stream",
          "text": [
            "+----------+----------+----------+--------------------+--------------------+-----+--------+---------+-------------+---------------+---------+--------+--------------------+--------------------+-------------+-----------------+--------------------+-------------+----------+-------------+----+------------+--------------+\n",
            "|start_date|  end_date|created_on|                  l2|                  l3|rooms|bedrooms|bathrooms|surface_total|surface_covered|    price|currency|               title|         description|property_type|   operation_type|         coordinates|       period|currency_1|     period_1|year|rate_to_euro|amount_in_euro|\n",
            "+----------+----------+----------+--------------------+--------------------+-----+--------+---------+-------------+---------------+---------+--------+--------------------+--------------------+-------------+-----------------+--------------------+-------------+----------+-------------+----+------------+--------------+\n",
            "|2020-12-25|2021-02-13|2020-12-25|               Salta|               Salta| NULL|    NULL|     NULL|        324.0|          324.0|2000000.0|     ARS|TERRENO + VENTA +...|Corredor Responsa...|         Lote|            Venta|[-24.825768, -65....|last_6_months|       ARS|last_6_months|2020|      0.0114|       22800.0|\n",
            "|2020-12-25|2021-01-02|2020-12-25|             Neuquén|         Confluencia| NULL|    NULL|     NULL|        250.0|          250.0| 780000.0|     ARS|Venta de Lote en ...|Corredor Responsa...|         Lote|            Venta|[-38.9829, -68.35...|last_6_months|       ARS|last_6_months|2020|      0.0114|        8892.0|\n",
            "|2020-12-25|2020-12-29|2020-12-25|             Neuquén|         Confluencia| NULL|    NULL|     NULL|        360.0|          360.0|1650000.0|     ARS|B° Mangeles - Lot...|Corredor Responsa...|         Lote|            Venta|[-38.948296, -68....|last_6_months|       ARS|last_6_months|2020|      0.0114|       18810.0|\n",
            "|2020-12-25|2021-01-05|2020-12-25|     Capital Federal|         San Nicolás| NULL|    NULL|        2|        160.0|          160.0|  50000.0|     ARS|AVDA. CORRIENTES ...|EDIFICIO DE OFICI...|      Oficina|         Alquiler|[-34.602165, -58....|last_6_months|       ARS|last_6_months|2020|      0.0114|         570.0|\n",
            "|2020-12-25|2020-12-29|2020-12-25|     Capital Federal|       San Cristobal| NULL|    NULL|     NULL|         48.0|           48.0|  35000.0|     ARS|DEPTO 2 AMB - FUL...|Corredor Responsa...|      Oficina|         Alquiler|[-34.62443, -58.4...|last_6_months|       ARS|last_6_months|2020|      0.0114|         399.0|\n",
            "|2020-12-25|9999-12-31|2020-12-25|     Capital Federal|Centro / Microcentro| NULL|    NULL|     NULL|         32.0|           32.0|  19500.0|     ARS|Oficina en alquil...|Corredor Responsa...|      Oficina|         Alquiler|[-34.601395, -58....|last_6_months|       ARS|last_6_months|2020|      0.0114|         222.3|\n",
            "|2020-12-25|2021-01-04|2020-12-25|             Neuquén|         Confluencia| NULL|    NULL|     NULL|       1045.0|         1045.0| 380000.0|     ARS|Alquiler galpón c...|Corredor Responsa...|     Depósito|         Alquiler|[-38.928032, -68....|last_6_months|       ARS|last_6_months|2020|      0.0114|        4332.0|\n",
            "|2020-12-25|9999-12-31|2020-12-25|             Córdoba|             Córdoba|    1|       1|        1|         NULL|           NULL|   4100.0|     ARS|Habitacion doble ...|<b>Habitacion dob...| Departamento|Alquiler temporal|[-34.879692, -59....|last_6_months|       ARS|last_6_months|2020|      0.0114|         46.74|\n",
            "|2020-12-25|2021-01-08|2020-12-25|     Capital Federal|            Recoleta|    1|       1|        1|         17.0|           17.0|  15000.0|     ARS|Monoambiente en a...|Corredor Responsa...| Departamento|         Alquiler|[-34.591217, -58....|last_6_months|       ARS|last_6_months|2020|      0.0114|         171.0|\n",
            "|2020-12-25|2021-01-08|2020-12-25|     Capital Federal|          Villa Luro|    1|       1|        1|         38.0|           36.0|  24000.0|     ARS|Alquiler Monoambi...|Corredor Responsa...| Departamento|         Alquiler|[-34.637905, -58....|last_6_months|       ARS|last_6_months|2020|      0.0114|         273.6|\n",
            "|2020-12-25|2020-12-30|2020-12-25|     Capital Federal|        Barrio Norte|    1|    NULL|        1|         39.0|           39.0|  16500.0|     ARS|Barrio Norte Mono...|Barrio Norte - Zo...| Departamento|         Alquiler|[-34.587807, -58....|last_6_months|       ARS|last_6_months|2020|      0.0114|         188.1|\n",
            "|2020-12-25|9999-12-31|2020-12-25|Buenos Aires Inte...|Exaltación de la ...|    1|    NULL|        1|       1500.0|           60.0|  99500.0|     ARS|QUINTA ZONA NORTE...|Corredor Responsa...|Casa de campo|Alquiler temporal|[-34.38524, -59.1...|last_6_months|       ARS|last_6_months|2020|      0.0114|        1134.3|\n",
            "|2020-12-25|2021-01-05|2020-12-25|Bs.As. G.B.A. Zon...|             Quilmes|    2|       1|        1|         45.0|           45.0|  16000.0|     ARS|ALQUILER. DPTO 2 ...|Corredor Responsa...| Departamento|         Alquiler|[-34.720875, -58....|last_6_months|       ARS|last_6_months|2020|      0.0114|         182.4|\n",
            "|2020-12-25|2020-12-25|2020-12-25|             Córdoba|             Córdoba|    2|       1|        1|         NULL|           NULL|  15000.0|     ARS|B° NUEVA CÓRDOBA ...|Ubicación: Obispo...| Departamento|         Alquiler|[-31.427786, -64....|last_6_months|       ARS|last_6_months|2020|      0.0114|         171.0|\n",
            "|2020-12-25|2020-12-25|2020-12-25|             Córdoba|             Córdoba|    2|       1|        1|         NULL|           NULL|  15000.0|     ARS|B° NUEVA CÓRDOBA ...|Ubicación: Obispo...| Departamento|         Alquiler|[-31.427786, -64....|last_6_months|       ARS|last_6_months|2020|      0.0114|         171.0|\n",
            "|2020-12-25|2020-12-25|2020-12-25|             Córdoba|             Córdoba|    2|       1|        1|         NULL|           NULL|  15000.0|     ARS|B° NUEVA CÓRDOBA ...|Ubicación: Obispo...| Departamento|         Alquiler|[-31.427786, -64....|last_6_months|       ARS|last_6_months|2020|      0.0114|         171.0|\n",
            "|2020-12-25|2021-01-02|2020-12-25|     Capital Federal|            Recoleta|    2|       1|        1|         39.0|           38.0|  21000.0|     ARS|Alquiler Departam...|Corredor Responsa...| Departamento|         Alquiler|[-34.591263, -58....|last_6_months|       ARS|last_6_months|2020|      0.0114|         239.4|\n",
            "|2020-12-25|2020-12-29|2020-12-25|             Neuquén|         Confluencia|    2|       1|        1|         60.0|           58.0|  55000.0|     ARS|DEPARTAMENTO UN D...|Corredor Responsa...| Departamento|         Alquiler|[-38.94614, -68.0...|last_6_months|       ARS|last_6_months|2020|      0.0114|         627.0|\n",
            "|2020-12-25|2021-01-01|2020-12-25|             Córdoba|        Mina Clavero|    3|       2|        3|         NULL|           NULL|   5800.0|     ARS|ALQUILO CABAÑAS- ...|<b>ALQUILO CABAÑA...|         Casa|Alquiler temporal|[-31.728437, -65....|last_6_months|       ARS|last_6_months|2020|      0.0114|         66.12|\n",
            "|2020-12-25|2021-01-02|2020-12-25|Bs.As. G.B.A. Zon...|               Tigre|    3|    NULL|        1|         NULL|           NULL|  30000.0|     ARS| Oficina en Nordelta|<b>Oficina en Nor...|      Oficina|         Alquiler|[-34.397602, -58....|last_6_months|       ARS|last_6_months|2020|      0.0114|         342.0|\n",
            "+----------+----------+----------+--------------------+--------------------+-----+--------+---------+-------------+---------------+---------+--------+--------------------+--------------------+-------------+-----------------+--------------------+-------------+----------+-------------+----+------------+--------------+\n",
            "only showing top 20 rows\n",
            "\n"
          ]
        }
      ],
      "source": [
        "# function to rename duplicate columns after join operation\n",
        "def rename_duplicates(df):\n",
        "    new_cols = []\n",
        "    seen = {}\n",
        "    for col in df.columns:\n",
        "        if col in seen:\n",
        "            new_cols.append(f\"{col}_{seen[col]}\")\n",
        "            seen[col] += 1\n",
        "        else:\n",
        "            new_cols.append(col)\n",
        "            seen[col] = 1\n",
        "    return df.toDF(*new_cols)\n",
        "\n",
        "# apply the function\n",
        "result_df = rename_duplicates(result_df)\n",
        "\n",
        "result_df.show()"
      ]
    },
    {
      "cell_type": "code",
      "execution_count": 48,
      "metadata": {
        "colab": {
          "base_uri": "https://localhost:8080/"
        },
        "id": "VR5rOJMlReV9",
        "outputId": "c9ede236-c820-47a1-e496-b0c348830b64"
      },
      "outputs": [
        {
          "data": {
            "text/plain": [
              "True"
            ]
          },
          "execution_count": 48,
          "metadata": {},
          "output_type": "execute_result"
        }
      ],
      "source": [
        "# checking the minimun value of the duplicate columns to see if they have all the same values\n",
        "result_df.withColumn(\"is_same\", when(col(\"currency\") == col(\"currency_1\"), True).otherwise(False)).select(min(col(\"is_same\"))).collect()[0][0]"
      ]
    },
    {
      "cell_type": "code",
      "execution_count": 49,
      "metadata": {
        "colab": {
          "base_uri": "https://localhost:8080/"
        },
        "id": "A3HXXZO2RksL",
        "outputId": "d4a41930-af90-47ce-ddbe-ae4f721b7390"
      },
      "outputs": [
        {
          "data": {
            "text/plain": [
              "True"
            ]
          },
          "execution_count": 49,
          "metadata": {},
          "output_type": "execute_result"
        }
      ],
      "source": [
        "# checking the minimun value of the duplicate columns to see if they have all the same values\n",
        "result_df.withColumn(\"is_same\", when(col(\"period\") == col(\"period_1\"), True).otherwise(False)).select(min(col(\"is_same\"))).collect()[0][0]"
      ]
    },
    {
      "cell_type": "code",
      "execution_count": 50,
      "metadata": {
        "id": "FpRcaEWsC3HX"
      },
      "outputs": [],
      "source": [
        "# drop the duplicate columns\n",
        "columns_to_drop = ['currency', 'period', 'currency_1', 'period_1']\n",
        "result_df = result_df.drop(*columns_to_drop)"
      ]
    },
    {
      "cell_type": "code",
      "execution_count": 51,
      "metadata": {
        "colab": {
          "base_uri": "https://localhost:8080/"
        },
        "id": "sslpHmsBEgFN",
        "outputId": "8e69ea70-03f5-4ff6-8e47-05454d3f2640"
      },
      "outputs": [
        {
          "name": "stdout",
          "output_type": "stream",
          "text": [
            "+----------+----------+----------+--------------------+--------------------+-----+--------+---------+-------------+---------------+---------+--------------------+--------------------+-------------+-----------------+--------------------+----+------------+--------------+\n",
            "|start_date|  end_date|created_on|                  l2|                  l3|rooms|bedrooms|bathrooms|surface_total|surface_covered|    price|               title|         description|property_type|   operation_type|         coordinates|year|rate_to_euro|amount_in_euro|\n",
            "+----------+----------+----------+--------------------+--------------------+-----+--------+---------+-------------+---------------+---------+--------------------+--------------------+-------------+-----------------+--------------------+----+------------+--------------+\n",
            "|2020-12-25|2021-02-13|2020-12-25|               Salta|               Salta| NULL|    NULL|     NULL|        324.0|          324.0|2000000.0|TERRENO + VENTA +...|Corredor Responsa...|         Lote|            Venta|[-24.825768, -65....|2020|      0.0114|       22800.0|\n",
            "|2020-12-25|2021-01-02|2020-12-25|             Neuquén|         Confluencia| NULL|    NULL|     NULL|        250.0|          250.0| 780000.0|Venta de Lote en ...|Corredor Responsa...|         Lote|            Venta|[-38.9829, -68.35...|2020|      0.0114|        8892.0|\n",
            "|2020-12-25|2020-12-29|2020-12-25|             Neuquén|         Confluencia| NULL|    NULL|     NULL|        360.0|          360.0|1650000.0|B° Mangeles - Lot...|Corredor Responsa...|         Lote|            Venta|[-38.948296, -68....|2020|      0.0114|       18810.0|\n",
            "|2020-12-25|2021-01-05|2020-12-25|     Capital Federal|         San Nicolás| NULL|    NULL|        2|        160.0|          160.0|  50000.0|AVDA. CORRIENTES ...|EDIFICIO DE OFICI...|      Oficina|         Alquiler|[-34.602165, -58....|2020|      0.0114|         570.0|\n",
            "|2020-12-25|2020-12-29|2020-12-25|     Capital Federal|       San Cristobal| NULL|    NULL|     NULL|         48.0|           48.0|  35000.0|DEPTO 2 AMB - FUL...|Corredor Responsa...|      Oficina|         Alquiler|[-34.62443, -58.4...|2020|      0.0114|         399.0|\n",
            "|2020-12-25|9999-12-31|2020-12-25|     Capital Federal|Centro / Microcentro| NULL|    NULL|     NULL|         32.0|           32.0|  19500.0|Oficina en alquil...|Corredor Responsa...|      Oficina|         Alquiler|[-34.601395, -58....|2020|      0.0114|         222.3|\n",
            "|2020-12-25|2021-01-04|2020-12-25|             Neuquén|         Confluencia| NULL|    NULL|     NULL|       1045.0|         1045.0| 380000.0|Alquiler galpón c...|Corredor Responsa...|     Depósito|         Alquiler|[-38.928032, -68....|2020|      0.0114|        4332.0|\n",
            "|2020-12-25|9999-12-31|2020-12-25|             Córdoba|             Córdoba|    1|       1|        1|         NULL|           NULL|   4100.0|Habitacion doble ...|<b>Habitacion dob...| Departamento|Alquiler temporal|[-34.879692, -59....|2020|      0.0114|         46.74|\n",
            "|2020-12-25|2021-01-08|2020-12-25|     Capital Federal|            Recoleta|    1|       1|        1|         17.0|           17.0|  15000.0|Monoambiente en a...|Corredor Responsa...| Departamento|         Alquiler|[-34.591217, -58....|2020|      0.0114|         171.0|\n",
            "|2020-12-25|2021-01-08|2020-12-25|     Capital Federal|          Villa Luro|    1|       1|        1|         38.0|           36.0|  24000.0|Alquiler Monoambi...|Corredor Responsa...| Departamento|         Alquiler|[-34.637905, -58....|2020|      0.0114|         273.6|\n",
            "|2020-12-25|2020-12-30|2020-12-25|     Capital Federal|        Barrio Norte|    1|    NULL|        1|         39.0|           39.0|  16500.0|Barrio Norte Mono...|Barrio Norte - Zo...| Departamento|         Alquiler|[-34.587807, -58....|2020|      0.0114|         188.1|\n",
            "|2020-12-25|9999-12-31|2020-12-25|Buenos Aires Inte...|Exaltación de la ...|    1|    NULL|        1|       1500.0|           60.0|  99500.0|QUINTA ZONA NORTE...|Corredor Responsa...|Casa de campo|Alquiler temporal|[-34.38524, -59.1...|2020|      0.0114|        1134.3|\n",
            "|2020-12-25|2021-01-05|2020-12-25|Bs.As. G.B.A. Zon...|             Quilmes|    2|       1|        1|         45.0|           45.0|  16000.0|ALQUILER. DPTO 2 ...|Corredor Responsa...| Departamento|         Alquiler|[-34.720875, -58....|2020|      0.0114|         182.4|\n",
            "|2020-12-25|2020-12-25|2020-12-25|             Córdoba|             Córdoba|    2|       1|        1|         NULL|           NULL|  15000.0|B° NUEVA CÓRDOBA ...|Ubicación: Obispo...| Departamento|         Alquiler|[-31.427786, -64....|2020|      0.0114|         171.0|\n",
            "|2020-12-25|2020-12-25|2020-12-25|             Córdoba|             Córdoba|    2|       1|        1|         NULL|           NULL|  15000.0|B° NUEVA CÓRDOBA ...|Ubicación: Obispo...| Departamento|         Alquiler|[-31.427786, -64....|2020|      0.0114|         171.0|\n",
            "|2020-12-25|2020-12-25|2020-12-25|             Córdoba|             Córdoba|    2|       1|        1|         NULL|           NULL|  15000.0|B° NUEVA CÓRDOBA ...|Ubicación: Obispo...| Departamento|         Alquiler|[-31.427786, -64....|2020|      0.0114|         171.0|\n",
            "|2020-12-25|2021-01-02|2020-12-25|     Capital Federal|            Recoleta|    2|       1|        1|         39.0|           38.0|  21000.0|Alquiler Departam...|Corredor Responsa...| Departamento|         Alquiler|[-34.591263, -58....|2020|      0.0114|         239.4|\n",
            "|2020-12-25|2020-12-29|2020-12-25|             Neuquén|         Confluencia|    2|       1|        1|         60.0|           58.0|  55000.0|DEPARTAMENTO UN D...|Corredor Responsa...| Departamento|         Alquiler|[-38.94614, -68.0...|2020|      0.0114|         627.0|\n",
            "|2020-12-25|2021-01-01|2020-12-25|             Córdoba|        Mina Clavero|    3|       2|        3|         NULL|           NULL|   5800.0|ALQUILO CABAÑAS- ...|<b>ALQUILO CABAÑA...|         Casa|Alquiler temporal|[-31.728437, -65....|2020|      0.0114|         66.12|\n",
            "|2020-12-25|2021-01-02|2020-12-25|Bs.As. G.B.A. Zon...|               Tigre|    3|    NULL|        1|         NULL|           NULL|  30000.0| Oficina en Nordelta|<b>Oficina en Nor...|      Oficina|         Alquiler|[-34.397602, -58....|2020|      0.0114|         342.0|\n",
            "+----------+----------+----------+--------------------+--------------------+-----+--------+---------+-------------+---------------+---------+--------------------+--------------------+-------------+-----------------+--------------------+----+------------+--------------+\n",
            "only showing top 20 rows\n",
            "\n"
          ]
        }
      ],
      "source": [
        "result_df.show()"
      ]
    },
    {
      "cell_type": "code",
      "execution_count": 52,
      "metadata": {
        "id": "HACM726uFFLf"
      },
      "outputs": [],
      "source": [
        "df=result_df.alias(\"df\")\n"
      ]
    },
    {
      "cell_type": "code",
      "execution_count": 53,
      "metadata": {
        "colab": {
          "base_uri": "https://localhost:8080/"
        },
        "id": "QVb9YeiUXeCo",
        "outputId": "0d169978-9664-40ed-c031-f1c7dafd42f4"
      },
      "outputs": [
        {
          "name": "stdout",
          "output_type": "stream",
          "text": [
            "+----------+----------+----------+--------------------+--------------------+-----+--------+---------+-------------+---------------+---------+--------------------+--------------------+-------------+-----------------+--------------------+----+------------+--------------+\n",
            "|start_date|  end_date|created_on|                  l2|                  l3|rooms|bedrooms|bathrooms|surface_total|surface_covered|    price|               title|         description|property_type|   operation_type|         coordinates|year|rate_to_euro|amount_in_euro|\n",
            "+----------+----------+----------+--------------------+--------------------+-----+--------+---------+-------------+---------------+---------+--------------------+--------------------+-------------+-----------------+--------------------+----+------------+--------------+\n",
            "|2020-12-25|2021-02-13|2020-12-25|               Salta|               Salta| NULL|    NULL|     NULL|        324.0|          324.0|2000000.0|TERRENO + VENTA +...|Corredor Responsa...|         Lote|            Venta|[-24.825768, -65....|2020|      0.0114|       22800.0|\n",
            "|2020-12-25|2021-01-02|2020-12-25|             Neuquén|         Confluencia| NULL|    NULL|     NULL|        250.0|          250.0| 780000.0|Venta de Lote en ...|Corredor Responsa...|         Lote|            Venta|[-38.9829, -68.35...|2020|      0.0114|        8892.0|\n",
            "|2020-12-25|2020-12-29|2020-12-25|             Neuquén|         Confluencia| NULL|    NULL|     NULL|        360.0|          360.0|1650000.0|B° Mangeles - Lot...|Corredor Responsa...|         Lote|            Venta|[-38.948296, -68....|2020|      0.0114|       18810.0|\n",
            "|2020-12-25|2021-01-05|2020-12-25|     Capital Federal|         San Nicolás| NULL|    NULL|        2|        160.0|          160.0|  50000.0|AVDA. CORRIENTES ...|EDIFICIO DE OFICI...|      Oficina|         Alquiler|[-34.602165, -58....|2020|      0.0114|         570.0|\n",
            "|2020-12-25|2020-12-29|2020-12-25|     Capital Federal|       San Cristobal| NULL|    NULL|     NULL|         48.0|           48.0|  35000.0|DEPTO 2 AMB - FUL...|Corredor Responsa...|      Oficina|         Alquiler|[-34.62443, -58.4...|2020|      0.0114|         399.0|\n",
            "|2020-12-25|9999-12-31|2020-12-25|     Capital Federal|Centro / Microcentro| NULL|    NULL|     NULL|         32.0|           32.0|  19500.0|Oficina en alquil...|Corredor Responsa...|      Oficina|         Alquiler|[-34.601395, -58....|2020|      0.0114|         222.3|\n",
            "|2020-12-25|2021-01-04|2020-12-25|             Neuquén|         Confluencia| NULL|    NULL|     NULL|       1045.0|         1045.0| 380000.0|Alquiler galpón c...|Corredor Responsa...|     Depósito|         Alquiler|[-38.928032, -68....|2020|      0.0114|        4332.0|\n",
            "|2020-12-25|9999-12-31|2020-12-25|             Córdoba|             Córdoba|    1|       1|        1|         NULL|           NULL|   4100.0|Habitacion doble ...|<b>Habitacion dob...| Departamento|Alquiler temporal|[-34.879692, -59....|2020|      0.0114|         46.74|\n",
            "|2020-12-25|2021-01-08|2020-12-25|     Capital Federal|            Recoleta|    1|       1|        1|         17.0|           17.0|  15000.0|Monoambiente en a...|Corredor Responsa...| Departamento|         Alquiler|[-34.591217, -58....|2020|      0.0114|         171.0|\n",
            "|2020-12-25|2021-01-08|2020-12-25|     Capital Federal|          Villa Luro|    1|       1|        1|         38.0|           36.0|  24000.0|Alquiler Monoambi...|Corredor Responsa...| Departamento|         Alquiler|[-34.637905, -58....|2020|      0.0114|         273.6|\n",
            "|2020-12-25|2020-12-30|2020-12-25|     Capital Federal|        Barrio Norte|    1|    NULL|        1|         39.0|           39.0|  16500.0|Barrio Norte Mono...|Barrio Norte - Zo...| Departamento|         Alquiler|[-34.587807, -58....|2020|      0.0114|         188.1|\n",
            "|2020-12-25|9999-12-31|2020-12-25|Buenos Aires Inte...|Exaltación de la ...|    1|    NULL|        1|       1500.0|           60.0|  99500.0|QUINTA ZONA NORTE...|Corredor Responsa...|Casa de campo|Alquiler temporal|[-34.38524, -59.1...|2020|      0.0114|        1134.3|\n",
            "|2020-12-25|2021-01-05|2020-12-25|Bs.As. G.B.A. Zon...|             Quilmes|    2|       1|        1|         45.0|           45.0|  16000.0|ALQUILER. DPTO 2 ...|Corredor Responsa...| Departamento|         Alquiler|[-34.720875, -58....|2020|      0.0114|         182.4|\n",
            "|2020-12-25|2020-12-25|2020-12-25|             Córdoba|             Córdoba|    2|       1|        1|         NULL|           NULL|  15000.0|B° NUEVA CÓRDOBA ...|Ubicación: Obispo...| Departamento|         Alquiler|[-31.427786, -64....|2020|      0.0114|         171.0|\n",
            "|2020-12-25|2020-12-25|2020-12-25|             Córdoba|             Córdoba|    2|       1|        1|         NULL|           NULL|  15000.0|B° NUEVA CÓRDOBA ...|Ubicación: Obispo...| Departamento|         Alquiler|[-31.427786, -64....|2020|      0.0114|         171.0|\n",
            "|2020-12-25|2020-12-25|2020-12-25|             Córdoba|             Córdoba|    2|       1|        1|         NULL|           NULL|  15000.0|B° NUEVA CÓRDOBA ...|Ubicación: Obispo...| Departamento|         Alquiler|[-31.427786, -64....|2020|      0.0114|         171.0|\n",
            "|2020-12-25|2021-01-02|2020-12-25|     Capital Federal|            Recoleta|    2|       1|        1|         39.0|           38.0|  21000.0|Alquiler Departam...|Corredor Responsa...| Departamento|         Alquiler|[-34.591263, -58....|2020|      0.0114|         239.4|\n",
            "|2020-12-25|2020-12-29|2020-12-25|             Neuquén|         Confluencia|    2|       1|        1|         60.0|           58.0|  55000.0|DEPARTAMENTO UN D...|Corredor Responsa...| Departamento|         Alquiler|[-38.94614, -68.0...|2020|      0.0114|         627.0|\n",
            "|2020-12-25|2021-01-01|2020-12-25|             Córdoba|        Mina Clavero|    3|       2|        3|         NULL|           NULL|   5800.0|ALQUILO CABAÑAS- ...|<b>ALQUILO CABAÑA...|         Casa|Alquiler temporal|[-31.728437, -65....|2020|      0.0114|         66.12|\n",
            "|2020-12-25|2021-01-02|2020-12-25|Bs.As. G.B.A. Zon...|               Tigre|    3|    NULL|        1|         NULL|           NULL|  30000.0| Oficina en Nordelta|<b>Oficina en Nor...|      Oficina|         Alquiler|[-34.397602, -58....|2020|      0.0114|         342.0|\n",
            "+----------+----------+----------+--------------------+--------------------+-----+--------+---------+-------------+---------------+---------+--------------------+--------------------+-------------+-----------------+--------------------+----+------------+--------------+\n",
            "only showing top 20 rows\n",
            "\n"
          ]
        }
      ],
      "source": [
        "df.show()"
      ]
    },
    {
      "cell_type": "code",
      "execution_count": 54,
      "metadata": {
        "id": "z3dOvRwyXeCo"
      },
      "outputs": [],
      "source": [
        "# drop price column, year and rate\n",
        "df = df.drop(\"price\", \"year\", \"rate_to_euro\")"
      ]
    },
    {
      "cell_type": "markdown",
      "metadata": {
        "id": "VSt5wmZKdJuI"
      },
      "source": [
        "#### Rooms KNN Imputation"
      ]
    },
    {
      "cell_type": "code",
      "execution_count": 55,
      "metadata": {
        "colab": {
          "base_uri": "https://localhost:8080/"
        },
        "id": "XbER0ALuR8yh",
        "outputId": "93de609c-7567-4fe8-9fd2-4b62ffe4823a"
      },
      "outputs": [
        {
          "data": {
            "text/plain": [
              "16"
            ]
          },
          "execution_count": 55,
          "metadata": {},
          "output_type": "execute_result"
        }
      ],
      "source": [
        "len(df.columns)"
      ]
    },
    {
      "cell_type": "code",
      "execution_count": 56,
      "metadata": {
        "colab": {
          "base_uri": "https://localhost:8080/"
        },
        "id": "zq5kTdpYk4uA",
        "outputId": "5273af8f-4387-4ddf-b980-f2d961c2849d"
      },
      "outputs": [
        {
          "data": {
            "text/plain": [
              "891700"
            ]
          },
          "execution_count": 56,
          "metadata": {},
          "output_type": "execute_result"
        }
      ],
      "source": [
        "df.count()"
      ]
    },
    {
      "cell_type": "markdown",
      "metadata": {
        "id": "LEt4vgJedJuJ"
      },
      "source": [
        "Correlation Matrix\n",
        "- search for features that might be related"
      ]
    },
    {
      "cell_type": "code",
      "execution_count": 58,
      "metadata": {
        "colab": {
          "base_uri": "https://localhost:8080/",
          "height": 699
        },
        "id": "NdroJ_yCdJuJ",
        "outputId": "a30aa8f1-a2ca-44fb-b7e0-9ccbc0d50a43"
      },
      "outputs": [
        {
          "data": {
            "image/png": "[encoded data removed]",
            "text/plain": [
              "<Figure size 1000x800 with 2 Axes>"
            ]
          },
          "metadata": {},
          "output_type": "display_data"
        }
      ],
      "source": [
        "# get numeric columns\n",
        "numeric = [field.name for field in df.schema.fields if isinstance(field.dataType, (FloatType, IntegerType, DoubleType))]\n",
        "\n",
        "correlation_matrix = {}\n",
        "\n",
        "# compute correlations\n",
        "for col1 in numeric:\n",
        "    correlation_matrix[col1] = {}\n",
        "    for col2 in numeric:\n",
        "        correlation_matrix[col1][col2] = df.stat.corr(col1, col2)\n",
        "\n",
        "correlation_matrix_df = pd.DataFrame(correlation_matrix)\n",
        "\n",
        "# plot the heatmap with the correlations\n",
        "plt.figure(figsize=(10, 8))\n",
        "sns.heatmap(correlation_matrix_df, annot=True, cmap='RdBu', fmt=\".2f\", linewidths=.5)\n",
        "plt.title('Correlation Matrix')\n",
        "plt.show()"
      ]
    },
    {
      "cell_type": "markdown",
      "metadata": {},
      "source": [
        "- Rooms and Bedrooms: There is a strong positive correlation (0.66) between rooms and bedrooms. This suggests that as the number of rooms increases, the number of bedrooms generally increases as well, which is expected.\n",
        "- Rooms and Bathrooms: There is a moderate positive correlation (0.33) between the number of rooms and bathrooms, indicating that properties with more rooms tend to have more bathrooms.\n",
        "- Bedrooms and Bathrooms: There is a moderately strong correlation (0.45) here, which is logical since larger homes (with more bedrooms) often have more bathrooms."
      ]
    },
    {
      "cell_type": "markdown",
      "metadata": {},
      "source": [
        "=> Using KNNImputer is a robust choice for handling missing data in real estate datasets because it considers the proximity of samples to fill missing values, which is especially suitable given the correlations among rooms, bedrooms, and bathrooms."
      ]
    },
    {
      "cell_type": "markdown",
      "metadata": {},
      "source": [
        "Additionally, the imputation improves the dataset's completeness without introducing biases that could affect subsequent analyses or model accuracy."
      ]
    },
    {
      "cell_type": "markdown",
      "metadata": {},
      "source": [
        "Get Sample"
      ]
    },
    {
      "cell_type": "code",
      "execution_count": 57,
      "metadata": {
        "id": "577o50s5gE7j"
      },
      "outputs": [],
      "source": [
        "# sampling 30% of the original df\n",
        "# colab wouldnt let us convert to pandasDF, more than 30% sample (errors regarding memory)\n",
        "df_sample = df.sample(fraction=0.3, seed=5)"
      ]
    },
    {
      "cell_type": "code",
      "execution_count": 58,
      "metadata": {
        "colab": {
          "base_uri": "https://localhost:8080/"
        },
        "id": "o63fPEwgfEj7",
        "outputId": "93a253ac-3819-4484-f7bf-7de7d53ecb75"
      },
      "outputs": [
        {
          "data": {
            "text/plain": [
              "267705"
            ]
          },
          "execution_count": 58,
          "metadata": {},
          "output_type": "execute_result"
        }
      ],
      "source": [
        "df_sample.count()"
      ]
    },
    {
      "cell_type": "markdown",
      "metadata": {},
      "source": [
        "Converting the Spark df to a Pandas df for imputation."
      ]
    },
    {
      "cell_type": "code",
      "execution_count": 59,
      "metadata": {
        "id": "ha5G1T9_dJuJ"
      },
      "outputs": [],
      "source": [
        "pandas_df = df_sample.toPandas()"
      ]
    },
    {
      "cell_type": "code",
      "execution_count": 60,
      "metadata": {
        "colab": {
          "base_uri": "https://localhost:8080/"
        },
        "id": "Bk6i4B2oiIAI",
        "outputId": "6ec0927c-1870-411b-9be9-9796769dd0f0"
      },
      "outputs": [
        {
          "data": {
            "text/plain": [
              "(267868, 16)"
            ]
          },
          "execution_count": 60,
          "metadata": {},
          "output_type": "execute_result"
        }
      ],
      "source": [
        "pandas_df.shape"
      ]
    },
    {
      "cell_type": "code",
      "execution_count": 63,
      "metadata": {
        "colab": {
          "base_uri": "https://localhost:8080/",
          "height": 204
        },
        "id": "Sxr2GOrRdJuJ",
        "outputId": "9774b073-23e0-416f-8576-e8cca53f87c7"
      },
      "outputs": [
        {
          "data": {
            "application/vnd.google.colaboratory.intrinsic+json": {
              "type": "dataframe",
              "variable_name": "df_rooms"
            },
            "text/html": [
              "\n",
              "  <div id=\"df-3d2d8324-2860-46ef-81f7-60067b057356\" class=\"colab-df-container\">\n",
              "    <div>\n",
              "<style scoped>\n",
              "    .dataframe tbody tr th:only-of-type {\n",
              "        vertical-align: middle;\n",
              "    }\n",
              "\n",
              "    .dataframe tbody tr th {\n",
              "        vertical-align: top;\n",
              "    }\n",
              "\n",
              "    .dataframe thead th {\n",
              "        text-align: right;\n",
              "    }\n",
              "</style>\n",
              "<table border=\"1\" class=\"dataframe\">\n",
              "  <thead>\n",
              "    <tr style=\"text-align: right;\">\n",
              "      <th></th>\n",
              "      <th>bedrooms</th>\n",
              "      <th>rooms</th>\n",
              "      <th>bathrooms</th>\n",
              "    </tr>\n",
              "  </thead>\n",
              "  <tbody>\n",
              "    <tr>\n",
              "      <th>0</th>\n",
              "      <td>2.0</td>\n",
              "      <td>3.0</td>\n",
              "      <td>2.0</td>\n",
              "    </tr>\n",
              "    <tr>\n",
              "      <th>1</th>\n",
              "      <td>3.0</td>\n",
              "      <td>4.0</td>\n",
              "      <td>2.0</td>\n",
              "    </tr>\n",
              "    <tr>\n",
              "      <th>2</th>\n",
              "      <td>3.0</td>\n",
              "      <td>3.6</td>\n",
              "      <td>2.0</td>\n",
              "    </tr>\n",
              "    <tr>\n",
              "      <th>3</th>\n",
              "      <td>3.4</td>\n",
              "      <td>5.8</td>\n",
              "      <td>4.0</td>\n",
              "    </tr>\n",
              "    <tr>\n",
              "      <th>4</th>\n",
              "      <td>1.6</td>\n",
              "      <td>3.0</td>\n",
              "      <td>1.0</td>\n",
              "    </tr>\n",
              "  </tbody>\n",
              "</table>\n",
              "</div>\n",
              "    <div class=\"colab-df-buttons\">\n",
              "\n",
              "  <div class=\"colab-df-container\">\n",
              "    <button class=\"colab-df-convert\" onclick=\"convertToInteractive('df-3d2d8324-2860-46ef-81f7-60067b057356')\"\n",
              "            title=\"Convert this dataframe to an interactive table.\"\n",
              "            style=\"display:none;\">\n",
              "\n",
              "  <svg xmlns=\"http://www.w3.org/2000/svg\" height=\"24px\" viewBox=\"0 -960 960 960\">\n",
              "    <path d=\"M120-120v-720h720v720H120Zm60-500h600v-160H180v160Zm220 220h160v-160H400v160Zm0 220h160v-160H400v160ZM180-400h160v-160H180v160Zm440 0h160v-160H620v160ZM180-180h160v-160H180v160Zm440 0h160v-160H620v160Z\"/>\n",
              "  </svg>\n",
              "    </button>\n",
              "\n",
              "  <style>\n",
              "    .colab-df-container {\n",
              "      display:flex;\n",
              "      gap: 12px;\n",
              "    }\n",
              "\n",
              "    .colab-df-convert {\n",
              "      background-color: #E8F0FE;\n",
              "      border: none;\n",
              "      border-radius: 50%;\n",
              "      cursor: pointer;\n",
              "      display: none;\n",
              "      fill: #1967D2;\n",
              "      height: 32px;\n",
              "      padding: 0 0 0 0;\n",
              "      width: 32px;\n",
              "    }\n",
              "\n",
              "    .colab-df-convert:hover {\n",
              "      background-color: #E2EBFA;\n",
              "      box-shadow: 0px 1px 2px rgba(60, 64, 67, 0.3), 0px 1px 3px 1px rgba(60, 64, 67, 0.15);\n",
              "      fill: #174EA6;\n",
              "    }\n",
              "\n",
              "    .colab-df-buttons div {\n",
              "      margin-bottom: 4px;\n",
              "    }\n",
              "\n",
              "    [theme=dark] .colab-df-convert {\n",
              "      background-color: #3B4455;\n",
              "      fill: #D2E3FC;\n",
              "    }\n",
              "\n",
              "    [theme=dark] .colab-df-convert:hover {\n",
              "      background-color: #434B5C;\n",
              "      box-shadow: 0px 1px 3px 1px rgba(0, 0, 0, 0.15);\n",
              "      filter: drop-shadow(0px 1px 2px rgba(0, 0, 0, 0.3));\n",
              "      fill: #FFFFFF;\n",
              "    }\n",
              "  </style>\n",
              "\n",
              "    <script>\n",
              "      const buttonEl =\n",
              "        document.querySelector('#df-3d2d8324-2860-46ef-81f7-60067b057356 button.colab-df-convert');\n",
              "      buttonEl.style.display =\n",
              "        google.colab.kernel.accessAllowed ? 'block' : 'none';\n",
              "\n",
              "      async function convertToInteractive(key) {\n",
              "        const element = document.querySelector('#df-3d2d8324-2860-46ef-81f7-60067b057356');\n",
              "        const dataTable =\n",
              "          await google.colab.kernel.invokeFunction('convertToInteractive',\n",
              "                                                    [key], {});\n",
              "        if (!dataTable) return;\n",
              "\n",
              "        const docLinkHtml = 'Like what you see? Visit the ' +\n",
              "          '<a target=\"_blank\" href=https://colab.research.google.com/notebooks/data_table.ipynb>data table notebook</a>'\n",
              "          + ' to learn more about interactive tables.';\n",
              "        element.innerHTML = '';\n",
              "        dataTable['output_type'] = 'display_data';\n",
              "        await google.colab.output.renderOutput(dataTable, element);\n",
              "        const docLink = document.createElement('div');\n",
              "        docLink.innerHTML = docLinkHtml;\n",
              "        element.appendChild(docLink);\n",
              "      }\n",
              "    </script>\n",
              "  </div>\n",
              "\n",
              "\n",
              "<div id=\"df-44445e36-5d2c-4933-af0d-228efd521e91\">\n",
              "  <button class=\"colab-df-quickchart\" onclick=\"quickchart('df-44445e36-5d2c-4933-af0d-228efd521e91')\"\n",
              "            title=\"Suggest charts\"\n",
              "            style=\"display:none;\">\n",
              "\n",
              "<svg xmlns=\"http://www.w3.org/2000/svg\" height=\"24px\"viewBox=\"0 0 24 24\"\n",
              "     width=\"24px\">\n",
              "    <g>\n",
              "        <path d=\"M19 3H5c-1.1 0-2 .9-2 2v14c0 1.1.9 2 2 2h14c1.1 0 2-.9 2-2V5c0-1.1-.9-2-2-2zM9 17H7v-7h2v7zm4 0h-2V7h2v10zm4 0h-2v-4h2v4z\"/>\n",
              "    </g>\n",
              "</svg>\n",
              "  </button>\n",
              "\n",
              "<style>\n",
              "  .colab-df-quickchart {\n",
              "      --bg-color: #E8F0FE;\n",
              "      --fill-color: #1967D2;\n",
              "      --hover-bg-color: #E2EBFA;\n",
              "      --hover-fill-color: #174EA6;\n",
              "      --disabled-fill-color: #AAA;\n",
              "      --disabled-bg-color: #DDD;\n",
              "  }\n",
              "\n",
              "  [theme=dark] .colab-df-quickchart {\n",
              "      --bg-color: #3B4455;\n",
              "      --fill-color: #D2E3FC;\n",
              "      --hover-bg-color: #434B5C;\n",
              "      --hover-fill-color: #FFFFFF;\n",
              "      --disabled-bg-color: #3B4455;\n",
              "      --disabled-fill-color: #666;\n",
              "  }\n",
              "\n",
              "  .colab-df-quickchart {\n",
              "    background-color: var(--bg-color);\n",
              "    border: none;\n",
              "    border-radius: 50%;\n",
              "    cursor: pointer;\n",
              "    display: none;\n",
              "    fill: var(--fill-color);\n",
              "    height: 32px;\n",
              "    padding: 0;\n",
              "    width: 32px;\n",
              "  }\n",
              "\n",
              "  .colab-df-quickchart:hover {\n",
              "    background-color: var(--hover-bg-color);\n",
              "    box-shadow: 0 1px 2px rgba(60, 64, 67, 0.3), 0 1px 3px 1px rgba(60, 64, 67, 0.15);\n",
              "    fill: var(--button-hover-fill-color);\n",
              "  }\n",
              "\n",
              "  .colab-df-quickchart-complete:disabled,\n",
              "  .colab-df-quickchart-complete:disabled:hover {\n",
              "    background-color: var(--disabled-bg-color);\n",
              "    fill: var(--disabled-fill-color);\n",
              "    box-shadow: none;\n",
              "  }\n",
              "\n",
              "  .colab-df-spinner {\n",
              "    border: 2px solid var(--fill-color);\n",
              "    border-color: transparent;\n",
              "    border-bottom-color: var(--fill-color);\n",
              "    animation:\n",
              "      spin 1s steps(1) infinite;\n",
              "  }\n",
              "\n",
              "  @keyframes spin {\n",
              "    0% {\n",
              "      border-color: transparent;\n",
              "      border-bottom-color: var(--fill-color);\n",
              "      border-left-color: var(--fill-color);\n",
              "    }\n",
              "    20% {\n",
              "      border-color: transparent;\n",
              "      border-left-color: var(--fill-color);\n",
              "      border-top-color: var(--fill-color);\n",
              "    }\n",
              "    30% {\n",
              "      border-color: transparent;\n",
              "      border-left-color: var(--fill-color);\n",
              "      border-top-color: var(--fill-color);\n",
              "      border-right-color: var(--fill-color);\n",
              "    }\n",
              "    40% {\n",
              "      border-color: transparent;\n",
              "      border-right-color: var(--fill-color);\n",
              "      border-top-color: var(--fill-color);\n",
              "    }\n",
              "    60% {\n",
              "      border-color: transparent;\n",
              "      border-right-color: var(--fill-color);\n",
              "    }\n",
              "    80% {\n",
              "      border-color: transparent;\n",
              "      border-right-color: var(--fill-color);\n",
              "      border-bottom-color: var(--fill-color);\n",
              "    }\n",
              "    90% {\n",
              "      border-color: transparent;\n",
              "      border-bottom-color: var(--fill-color);\n",
              "    }\n",
              "  }\n",
              "</style>\n",
              "\n",
              "  <script>\n",
              "    async function quickchart(key) {\n",
              "      const quickchartButtonEl =\n",
              "        document.querySelector('#' + key + ' button');\n",
              "      quickchartButtonEl.disabled = true;  // To prevent multiple clicks.\n",
              "      quickchartButtonEl.classList.add('colab-df-spinner');\n",
              "      try {\n",
              "        const charts = await google.colab.kernel.invokeFunction(\n",
              "            'suggestCharts', [key], {});\n",
              "      } catch (error) {\n",
              "        console.error('Error during call to suggestCharts:', error);\n",
              "      }\n",
              "      quickchartButtonEl.classList.remove('colab-df-spinner');\n",
              "      quickchartButtonEl.classList.add('colab-df-quickchart-complete');\n",
              "    }\n",
              "    (() => {\n",
              "      let quickchartButtonEl =\n",
              "        document.querySelector('#df-44445e36-5d2c-4933-af0d-228efd521e91 button');\n",
              "      quickchartButtonEl.style.display =\n",
              "        google.colab.kernel.accessAllowed ? 'block' : 'none';\n",
              "    })();\n",
              "  </script>\n",
              "</div>\n",
              "    </div>\n",
              "  </div>\n"
            ],
            "text/plain": [
              "   bedrooms  rooms  bathrooms\n",
              "0       2.0    3.0        2.0\n",
              "1       3.0    4.0        2.0\n",
              "2       3.0    3.6        2.0\n",
              "3       3.4    5.8        4.0\n",
              "4       1.6    3.0        1.0"
            ]
          },
          "execution_count": 63,
          "metadata": {},
          "output_type": "execute_result"
        }
      ],
      "source": [
        "# apply KNN imputation to fill in missing values\n",
        "imputer = KNNImputer(n_neighbors=5, weights=\"uniform\")\n",
        "df_rooms = imputer.fit_transform(pandas_df[['bedrooms', 'rooms', 'bathrooms']]) # fit and transform\n",
        "df_rooms = pd.DataFrame(df_rooms, columns=['bedrooms', 'rooms', 'bathrooms']) # convert the numpy array returned by the imputer to a pandas df\n",
        "\n",
        "df_rooms.head()"
      ]
    },
    {
      "cell_type": "markdown",
      "metadata": {
        "id": "gVqbVVc8XeCp"
      },
      "source": [
        "After imputing the rooms we are going to save the rooms_df (which consists only of the 3 columns) and then read it to replace only the desired columns."
      ]
    },
    {
      "cell_type": "code",
      "execution_count": 61,
      "metadata": {
        "colab": {
          "base_uri": "https://localhost:8080/"
        },
        "id": "k0JUmEecfoSY",
        "outputId": "0f4a9821-4e6b-4724-e9e6-ce5868c41ba2"
      },
      "outputs": [
        {
          "data": {
            "text/plain": [
              "(267868, 16)"
            ]
          },
          "execution_count": 61,
          "metadata": {},
          "output_type": "execute_result"
        }
      ],
      "source": [
        "pandas_df.shape"
      ]
    },
    {
      "cell_type": "code",
      "execution_count": 79,
      "metadata": {
        "colab": {
          "base_uri": "https://localhost:8080/"
        },
        "id": "zfFZjy48ffUz",
        "outputId": "8272c47b-6479-4f57-b8b9-0c6a065db9c5"
      },
      "outputs": [
        {
          "data": {
            "text/plain": [
              "(267868, 3)"
            ]
          },
          "execution_count": 79,
          "metadata": {},
          "output_type": "execute_result"
        }
      ],
      "source": [
        "df_rooms.shape"
      ]
    },
    {
      "cell_type": "code",
      "execution_count": 73,
      "metadata": {
        "id": "B1ck9Kv9dJuK"
      },
      "outputs": [],
      "source": [
        "df_rooms.to_csv(google_drive_path + 'df_rooms_only.csv', index = False, sep = ',')  # saving the 0.3% new dataset with the rooms"
      ]
    },
    {
      "cell_type": "markdown",
      "metadata": {
        "id": "zlXdnFRxdJuK"
      },
      "source": [
        "#### 'Surface_total' and 'surface_covered' KNN imputation"
      ]
    },
    {
      "cell_type": "markdown",
      "metadata": {},
      "source": [
        "Next, we will impute missing values in 'surface_total' and 'surface_covered' columns ensuring that the total surface area is always logically consistent ('surface_total' should not be less than 'surface_covered')."
      ]
    },
    {
      "cell_type": "code",
      "execution_count": 65,
      "metadata": {
        "colab": {
          "base_uri": "https://localhost:8080/",
          "height": 204
        },
        "id": "4pUVvx4udJuK",
        "outputId": "488c1440-89db-4d9a-9036-da0c2a36ee67"
      },
      "outputs": [
        {
          "data": {
            "application/vnd.google.colaboratory.intrinsic+json": {
              "type": "dataframe",
              "variable_name": "df_imputed_surface"
            },
            "text/html": [
              "\n",
              "  <div id=\"df-f915b37c-c874-44a2-936c-d61542a169ee\" class=\"colab-df-container\">\n",
              "    <div>\n",
              "<style scoped>\n",
              "    .dataframe tbody tr th:only-of-type {\n",
              "        vertical-align: middle;\n",
              "    }\n",
              "\n",
              "    .dataframe tbody tr th {\n",
              "        vertical-align: top;\n",
              "    }\n",
              "\n",
              "    .dataframe thead th {\n",
              "        text-align: right;\n",
              "    }\n",
              "</style>\n",
              "<table border=\"1\" class=\"dataframe\">\n",
              "  <thead>\n",
              "    <tr style=\"text-align: right;\">\n",
              "      <th></th>\n",
              "      <th>surface_total</th>\n",
              "      <th>surface_covered</th>\n",
              "    </tr>\n",
              "  </thead>\n",
              "  <tbody>\n",
              "    <tr>\n",
              "      <th>0</th>\n",
              "      <td>438.173042</td>\n",
              "      <td>347.066038</td>\n",
              "    </tr>\n",
              "    <tr>\n",
              "      <th>1</th>\n",
              "      <td>140.000000</td>\n",
              "      <td>140.000000</td>\n",
              "    </tr>\n",
              "    <tr>\n",
              "      <th>2</th>\n",
              "      <td>438.173042</td>\n",
              "      <td>347.066038</td>\n",
              "    </tr>\n",
              "    <tr>\n",
              "      <th>3</th>\n",
              "      <td>135.000000</td>\n",
              "      <td>135.000000</td>\n",
              "    </tr>\n",
              "    <tr>\n",
              "      <th>4</th>\n",
              "      <td>438.173042</td>\n",
              "      <td>347.066038</td>\n",
              "    </tr>\n",
              "  </tbody>\n",
              "</table>\n",
              "</div>\n",
              "    <div class=\"colab-df-buttons\">\n",
              "\n",
              "  <div class=\"colab-df-container\">\n",
              "    <button class=\"colab-df-convert\" onclick=\"convertToInteractive('df-f915b37c-c874-44a2-936c-d61542a169ee')\"\n",
              "            title=\"Convert this dataframe to an interactive table.\"\n",
              "            style=\"display:none;\">\n",
              "\n",
              "  <svg xmlns=\"http://www.w3.org/2000/svg\" height=\"24px\" viewBox=\"0 -960 960 960\">\n",
              "    <path d=\"M120-120v-720h720v720H120Zm60-500h600v-160H180v160Zm220 220h160v-160H400v160Zm0 220h160v-160H400v160ZM180-400h160v-160H180v160Zm440 0h160v-160H620v160ZM180-180h160v-160H180v160Zm440 0h160v-160H620v160Z\"/>\n",
              "  </svg>\n",
              "    </button>\n",
              "\n",
              "  <style>\n",
              "    .colab-df-container {\n",
              "      display:flex;\n",
              "      gap: 12px;\n",
              "    }\n",
              "\n",
              "    .colab-df-convert {\n",
              "      background-color: #E8F0FE;\n",
              "      border: none;\n",
              "      border-radius: 50%;\n",
              "      cursor: pointer;\n",
              "      display: none;\n",
              "      fill: #1967D2;\n",
              "      height: 32px;\n",
              "      padding: 0 0 0 0;\n",
              "      width: 32px;\n",
              "    }\n",
              "\n",
              "    .colab-df-convert:hover {\n",
              "      background-color: #E2EBFA;\n",
              "      box-shadow: 0px 1px 2px rgba(60, 64, 67, 0.3), 0px 1px 3px 1px rgba(60, 64, 67, 0.15);\n",
              "      fill: #174EA6;\n",
              "    }\n",
              "\n",
              "    .colab-df-buttons div {\n",
              "      margin-bottom: 4px;\n",
              "    }\n",
              "\n",
              "    [theme=dark] .colab-df-convert {\n",
              "      background-color: #3B4455;\n",
              "      fill: #D2E3FC;\n",
              "    }\n",
              "\n",
              "    [theme=dark] .colab-df-convert:hover {\n",
              "      background-color: #434B5C;\n",
              "      box-shadow: 0px 1px 3px 1px rgba(0, 0, 0, 0.15);\n",
              "      filter: drop-shadow(0px 1px 2px rgba(0, 0, 0, 0.3));\n",
              "      fill: #FFFFFF;\n",
              "    }\n",
              "  </style>\n",
              "\n",
              "    <script>\n",
              "      const buttonEl =\n",
              "        document.querySelector('#df-f915b37c-c874-44a2-936c-d61542a169ee button.colab-df-convert');\n",
              "      buttonEl.style.display =\n",
              "        google.colab.kernel.accessAllowed ? 'block' : 'none';\n",
              "\n",
              "      async function convertToInteractive(key) {\n",
              "        const element = document.querySelector('#df-f915b37c-c874-44a2-936c-d61542a169ee');\n",
              "        const dataTable =\n",
              "          await google.colab.kernel.invokeFunction('convertToInteractive',\n",
              "                                                    [key], {});\n",
              "        if (!dataTable) return;\n",
              "\n",
              "        const docLinkHtml = 'Like what you see? Visit the ' +\n",
              "          '<a target=\"_blank\" href=https://colab.research.google.com/notebooks/data_table.ipynb>data table notebook</a>'\n",
              "          + ' to learn more about interactive tables.';\n",
              "        element.innerHTML = '';\n",
              "        dataTable['output_type'] = 'display_data';\n",
              "        await google.colab.output.renderOutput(dataTable, element);\n",
              "        const docLink = document.createElement('div');\n",
              "        docLink.innerHTML = docLinkHtml;\n",
              "        element.appendChild(docLink);\n",
              "      }\n",
              "    </script>\n",
              "  </div>\n",
              "\n",
              "\n",
              "<div id=\"df-8d4e3adf-48a6-4345-8ec4-b3f168bab57c\">\n",
              "  <button class=\"colab-df-quickchart\" onclick=\"quickchart('df-8d4e3adf-48a6-4345-8ec4-b3f168bab57c')\"\n",
              "            title=\"Suggest charts\"\n",
              "            style=\"display:none;\">\n",
              "\n",
              "<svg xmlns=\"http://www.w3.org/2000/svg\" height=\"24px\"viewBox=\"0 0 24 24\"\n",
              "     width=\"24px\">\n",
              "    <g>\n",
              "        <path d=\"M19 3H5c-1.1 0-2 .9-2 2v14c0 1.1.9 2 2 2h14c1.1 0 2-.9 2-2V5c0-1.1-.9-2-2-2zM9 17H7v-7h2v7zm4 0h-2V7h2v10zm4 0h-2v-4h2v4z\"/>\n",
              "    </g>\n",
              "</svg>\n",
              "  </button>\n",
              "\n",
              "<style>\n",
              "  .colab-df-quickchart {\n",
              "      --bg-color: #E8F0FE;\n",
              "      --fill-color: #1967D2;\n",
              "      --hover-bg-color: #E2EBFA;\n",
              "      --hover-fill-color: #174EA6;\n",
              "      --disabled-fill-color: #AAA;\n",
              "      --disabled-bg-color: #DDD;\n",
              "  }\n",
              "\n",
              "  [theme=dark] .colab-df-quickchart {\n",
              "      --bg-color: #3B4455;\n",
              "      --fill-color: #D2E3FC;\n",
              "      --hover-bg-color: #434B5C;\n",
              "      --hover-fill-color: #FFFFFF;\n",
              "      --disabled-bg-color: #3B4455;\n",
              "      --disabled-fill-color: #666;\n",
              "  }\n",
              "\n",
              "  .colab-df-quickchart {\n",
              "    background-color: var(--bg-color);\n",
              "    border: none;\n",
              "    border-radius: 50%;\n",
              "    cursor: pointer;\n",
              "    display: none;\n",
              "    fill: var(--fill-color);\n",
              "    height: 32px;\n",
              "    padding: 0;\n",
              "    width: 32px;\n",
              "  }\n",
              "\n",
              "  .colab-df-quickchart:hover {\n",
              "    background-color: var(--hover-bg-color);\n",
              "    box-shadow: 0 1px 2px rgba(60, 64, 67, 0.3), 0 1px 3px 1px rgba(60, 64, 67, 0.15);\n",
              "    fill: var(--button-hover-fill-color);\n",
              "  }\n",
              "\n",
              "  .colab-df-quickchart-complete:disabled,\n",
              "  .colab-df-quickchart-complete:disabled:hover {\n",
              "    background-color: var(--disabled-bg-color);\n",
              "    fill: var(--disabled-fill-color);\n",
              "    box-shadow: none;\n",
              "  }\n",
              "\n",
              "  .colab-df-spinner {\n",
              "    border: 2px solid var(--fill-color);\n",
              "    border-color: transparent;\n",
              "    border-bottom-color: var(--fill-color);\n",
              "    animation:\n",
              "      spin 1s steps(1) infinite;\n",
              "  }\n",
              "\n",
              "  @keyframes spin {\n",
              "    0% {\n",
              "      border-color: transparent;\n",
              "      border-bottom-color: var(--fill-color);\n",
              "      border-left-color: var(--fill-color);\n",
              "    }\n",
              "    20% {\n",
              "      border-color: transparent;\n",
              "      border-left-color: var(--fill-color);\n",
              "      border-top-color: var(--fill-color);\n",
              "    }\n",
              "    30% {\n",
              "      border-color: transparent;\n",
              "      border-left-color: var(--fill-color);\n",
              "      border-top-color: var(--fill-color);\n",
              "      border-right-color: var(--fill-color);\n",
              "    }\n",
              "    40% {\n",
              "      border-color: transparent;\n",
              "      border-right-color: var(--fill-color);\n",
              "      border-top-color: var(--fill-color);\n",
              "    }\n",
              "    60% {\n",
              "      border-color: transparent;\n",
              "      border-right-color: var(--fill-color);\n",
              "    }\n",
              "    80% {\n",
              "      border-color: transparent;\n",
              "      border-right-color: var(--fill-color);\n",
              "      border-bottom-color: var(--fill-color);\n",
              "    }\n",
              "    90% {\n",
              "      border-color: transparent;\n",
              "      border-bottom-color: var(--fill-color);\n",
              "    }\n",
              "  }\n",
              "</style>\n",
              "\n",
              "  <script>\n",
              "    async function quickchart(key) {\n",
              "      const quickchartButtonEl =\n",
              "        document.querySelector('#' + key + ' button');\n",
              "      quickchartButtonEl.disabled = true;  // To prevent multiple clicks.\n",
              "      quickchartButtonEl.classList.add('colab-df-spinner');\n",
              "      try {\n",
              "        const charts = await google.colab.kernel.invokeFunction(\n",
              "            'suggestCharts', [key], {});\n",
              "      } catch (error) {\n",
              "        console.error('Error during call to suggestCharts:', error);\n",
              "      }\n",
              "      quickchartButtonEl.classList.remove('colab-df-spinner');\n",
              "      quickchartButtonEl.classList.add('colab-df-quickchart-complete');\n",
              "    }\n",
              "    (() => {\n",
              "      let quickchartButtonEl =\n",
              "        document.querySelector('#df-8d4e3adf-48a6-4345-8ec4-b3f168bab57c button');\n",
              "      quickchartButtonEl.style.display =\n",
              "        google.colab.kernel.accessAllowed ? 'block' : 'none';\n",
              "    })();\n",
              "  </script>\n",
              "</div>\n",
              "    </div>\n",
              "  </div>\n"
            ],
            "text/plain": [
              "   surface_total  surface_covered\n",
              "0     438.173042       347.066038\n",
              "1     140.000000       140.000000\n",
              "2     438.173042       347.066038\n",
              "3     135.000000       135.000000\n",
              "4     438.173042       347.066038"
            ]
          },
          "execution_count": 65,
          "metadata": {},
          "output_type": "execute_result"
        }
      ],
      "source": [
        "# KNN imputation\n",
        "imputer = KNNImputer(n_neighbors=5, weights=\"uniform\")\n",
        "df_imputed_surface = imputer.fit_transform(pandas_df[['surface_total', 'surface_covered']]) # fit and transofmr\n",
        "df_imputed_surface = pd.DataFrame(df_imputed_surface, columns=['surface_total', 'surface_covered']) # convert the numpy array returned by the imputer to a pandas df\n",
        "df_imputed_surface['surface_total'] = df_imputed_surface[['surface_total', 'surface_covered']].max(axis=1) # 'surface_total' has to be higher than 'surface_covered'\n",
        "\n",
        "df_imputed_surface.head()"
      ]
    },
    {
      "cell_type": "code",
      "execution_count": 70,
      "metadata": {
        "id": "fX8PW5unXeCq"
      },
      "outputs": [],
      "source": [
        "df_imputed_surface.to_csv(google_drive_path + 'df_surfaces_only.csv', index = False, sep = ',')  # saving the 0.3% new dataset with the surfaces"
      ]
    },
    {
      "cell_type": "markdown",
      "metadata": {
        "id": "mY2eDEkvXeCq"
      },
      "source": [
        "## Read Imputed Datasets"
      ]
    },
    {
      "cell_type": "markdown",
      "metadata": {
        "id": "1ELm_47XXeCq"
      },
      "source": [
        "Now, the next times we run the code, we just read the cvs and replace the columns. We write and read only the imputed columns this time, because with spark we had a lot of difficulties reading and writing the full dataset properly."
      ]
    },
    {
      "cell_type": "code",
      "execution_count": 61,
      "metadata": {
        "id": "h0yQ86FtXeCq"
      },
      "outputs": [],
      "source": [
        "rooms_df=pd.read_csv(google_drive_path + \"df_rooms_only.csv\", sep=\",\")"
      ]
    },
    {
      "cell_type": "code",
      "execution_count": 62,
      "metadata": {
        "colab": {
          "base_uri": "https://localhost:8080/",
          "height": 419
        },
        "id": "xEj5uYNcXeCq",
        "outputId": "034ffe48-a1e6-419d-baf5-62fdf4f0c89b"
      },
      "outputs": [
        {
          "data": {
            "application/vnd.google.colaboratory.intrinsic+json": {
              "type": "dataframe",
              "variable_name": "rooms_df"
            },
            "text/html": [
              "\n",
              "  <div id=\"df-a1c0dd89-8923-45de-9121-a23872efce8b\" class=\"colab-df-container\">\n",
              "    <div>\n",
              "<style scoped>\n",
              "    .dataframe tbody tr th:only-of-type {\n",
              "        vertical-align: middle;\n",
              "    }\n",
              "\n",
              "    .dataframe tbody tr th {\n",
              "        vertical-align: top;\n",
              "    }\n",
              "\n",
              "    .dataframe thead th {\n",
              "        text-align: right;\n",
              "    }\n",
              "</style>\n",
              "<table border=\"1\" class=\"dataframe\">\n",
              "  <thead>\n",
              "    <tr style=\"text-align: right;\">\n",
              "      <th></th>\n",
              "      <th>bedrooms</th>\n",
              "      <th>rooms</th>\n",
              "      <th>bathrooms</th>\n",
              "    </tr>\n",
              "  </thead>\n",
              "  <tbody>\n",
              "    <tr>\n",
              "      <th>0</th>\n",
              "      <td>2.00000</td>\n",
              "      <td>3.000000</td>\n",
              "      <td>2.000000</td>\n",
              "    </tr>\n",
              "    <tr>\n",
              "      <th>1</th>\n",
              "      <td>3.00000</td>\n",
              "      <td>4.000000</td>\n",
              "      <td>2.000000</td>\n",
              "    </tr>\n",
              "    <tr>\n",
              "      <th>2</th>\n",
              "      <td>3.00000</td>\n",
              "      <td>3.600000</td>\n",
              "      <td>2.000000</td>\n",
              "    </tr>\n",
              "    <tr>\n",
              "      <th>3</th>\n",
              "      <td>3.40000</td>\n",
              "      <td>5.800000</td>\n",
              "      <td>4.000000</td>\n",
              "    </tr>\n",
              "    <tr>\n",
              "      <th>4</th>\n",
              "      <td>1.60000</td>\n",
              "      <td>3.000000</td>\n",
              "      <td>1.000000</td>\n",
              "    </tr>\n",
              "    <tr>\n",
              "      <th>...</th>\n",
              "      <td>...</td>\n",
              "      <td>...</td>\n",
              "      <td>...</td>\n",
              "    </tr>\n",
              "    <tr>\n",
              "      <th>267863</th>\n",
              "      <td>2.05327</td>\n",
              "      <td>2.840145</td>\n",
              "      <td>1.675326</td>\n",
              "    </tr>\n",
              "    <tr>\n",
              "      <th>267864</th>\n",
              "      <td>3.00000</td>\n",
              "      <td>3.200000</td>\n",
              "      <td>3.000000</td>\n",
              "    </tr>\n",
              "    <tr>\n",
              "      <th>267865</th>\n",
              "      <td>2.00000</td>\n",
              "      <td>3.000000</td>\n",
              "      <td>1.000000</td>\n",
              "    </tr>\n",
              "    <tr>\n",
              "      <th>267866</th>\n",
              "      <td>3.00000</td>\n",
              "      <td>4.000000</td>\n",
              "      <td>2.000000</td>\n",
              "    </tr>\n",
              "    <tr>\n",
              "      <th>267867</th>\n",
              "      <td>3.00000</td>\n",
              "      <td>3.200000</td>\n",
              "      <td>3.000000</td>\n",
              "    </tr>\n",
              "  </tbody>\n",
              "</table>\n",
              "<p>267868 rows × 3 columns</p>\n",
              "</div>\n",
              "    <div class=\"colab-df-buttons\">\n",
              "\n",
              "  <div class=\"colab-df-container\">\n",
              "    <button class=\"colab-df-convert\" onclick=\"convertToInteractive('df-a1c0dd89-8923-45de-9121-a23872efce8b')\"\n",
              "            title=\"Convert this dataframe to an interactive table.\"\n",
              "            style=\"display:none;\">\n",
              "\n",
              "  <svg xmlns=\"http://www.w3.org/2000/svg\" height=\"24px\" viewBox=\"0 -960 960 960\">\n",
              "    <path d=\"M120-120v-720h720v720H120Zm60-500h600v-160H180v160Zm220 220h160v-160H400v160Zm0 220h160v-160H400v160ZM180-400h160v-160H180v160Zm440 0h160v-160H620v160ZM180-180h160v-160H180v160Zm440 0h160v-160H620v160Z\"/>\n",
              "  </svg>\n",
              "    </button>\n",
              "\n",
              "  <style>\n",
              "    .colab-df-container {\n",
              "      display:flex;\n",
              "      gap: 12px;\n",
              "    }\n",
              "\n",
              "    .colab-df-convert {\n",
              "      background-color: #E8F0FE;\n",
              "      border: none;\n",
              "      border-radius: 50%;\n",
              "      cursor: pointer;\n",
              "      display: none;\n",
              "      fill: #1967D2;\n",
              "      height: 32px;\n",
              "      padding: 0 0 0 0;\n",
              "      width: 32px;\n",
              "    }\n",
              "\n",
              "    .colab-df-convert:hover {\n",
              "      background-color: #E2EBFA;\n",
              "      box-shadow: 0px 1px 2px rgba(60, 64, 67, 0.3), 0px 1px 3px 1px rgba(60, 64, 67, 0.15);\n",
              "      fill: #174EA6;\n",
              "    }\n",
              "\n",
              "    .colab-df-buttons div {\n",
              "      margin-bottom: 4px;\n",
              "    }\n",
              "\n",
              "    [theme=dark] .colab-df-convert {\n",
              "      background-color: #3B4455;\n",
              "      fill: #D2E3FC;\n",
              "    }\n",
              "\n",
              "    [theme=dark] .colab-df-convert:hover {\n",
              "      background-color: #434B5C;\n",
              "      box-shadow: 0px 1px 3px 1px rgba(0, 0, 0, 0.15);\n",
              "      filter: drop-shadow(0px 1px 2px rgba(0, 0, 0, 0.3));\n",
              "      fill: #FFFFFF;\n",
              "    }\n",
              "  </style>\n",
              "\n",
              "    <script>\n",
              "      const buttonEl =\n",
              "        document.querySelector('#df-a1c0dd89-8923-45de-9121-a23872efce8b button.colab-df-convert');\n",
              "      buttonEl.style.display =\n",
              "        google.colab.kernel.accessAllowed ? 'block' : 'none';\n",
              "\n",
              "      async function convertToInteractive(key) {\n",
              "        const element = document.querySelector('#df-a1c0dd89-8923-45de-9121-a23872efce8b');\n",
              "        const dataTable =\n",
              "          await google.colab.kernel.invokeFunction('convertToInteractive',\n",
              "                                                    [key], {});\n",
              "        if (!dataTable) return;\n",
              "\n",
              "        const docLinkHtml = 'Like what you see? Visit the ' +\n",
              "          '<a target=\"_blank\" href=https://colab.research.google.com/notebooks/data_table.ipynb>data table notebook</a>'\n",
              "          + ' to learn more about interactive tables.';\n",
              "        element.innerHTML = '';\n",
              "        dataTable['output_type'] = 'display_data';\n",
              "        await google.colab.output.renderOutput(dataTable, element);\n",
              "        const docLink = document.createElement('div');\n",
              "        docLink.innerHTML = docLinkHtml;\n",
              "        element.appendChild(docLink);\n",
              "      }\n",
              "    </script>\n",
              "  </div>\n",
              "\n",
              "\n",
              "<div id=\"df-1a3a4677-6d14-4ca4-bf4f-8055701a466b\">\n",
              "  <button class=\"colab-df-quickchart\" onclick=\"quickchart('df-1a3a4677-6d14-4ca4-bf4f-8055701a466b')\"\n",
              "            title=\"Suggest charts\"\n",
              "            style=\"display:none;\">\n",
              "\n",
              "<svg xmlns=\"http://www.w3.org/2000/svg\" height=\"24px\"viewBox=\"0 0 24 24\"\n",
              "     width=\"24px\">\n",
              "    <g>\n",
              "        <path d=\"M19 3H5c-1.1 0-2 .9-2 2v14c0 1.1.9 2 2 2h14c1.1 0 2-.9 2-2V5c0-1.1-.9-2-2-2zM9 17H7v-7h2v7zm4 0h-2V7h2v10zm4 0h-2v-4h2v4z\"/>\n",
              "    </g>\n",
              "</svg>\n",
              "  </button>\n",
              "\n",
              "<style>\n",
              "  .colab-df-quickchart {\n",
              "      --bg-color: #E8F0FE;\n",
              "      --fill-color: #1967D2;\n",
              "      --hover-bg-color: #E2EBFA;\n",
              "      --hover-fill-color: #174EA6;\n",
              "      --disabled-fill-color: #AAA;\n",
              "      --disabled-bg-color: #DDD;\n",
              "  }\n",
              "\n",
              "  [theme=dark] .colab-df-quickchart {\n",
              "      --bg-color: #3B4455;\n",
              "      --fill-color: #D2E3FC;\n",
              "      --hover-bg-color: #434B5C;\n",
              "      --hover-fill-color: #FFFFFF;\n",
              "      --disabled-bg-color: #3B4455;\n",
              "      --disabled-fill-color: #666;\n",
              "  }\n",
              "\n",
              "  .colab-df-quickchart {\n",
              "    background-color: var(--bg-color);\n",
              "    border: none;\n",
              "    border-radius: 50%;\n",
              "    cursor: pointer;\n",
              "    display: none;\n",
              "    fill: var(--fill-color);\n",
              "    height: 32px;\n",
              "    padding: 0;\n",
              "    width: 32px;\n",
              "  }\n",
              "\n",
              "  .colab-df-quickchart:hover {\n",
              "    background-color: var(--hover-bg-color);\n",
              "    box-shadow: 0 1px 2px rgba(60, 64, 67, 0.3), 0 1px 3px 1px rgba(60, 64, 67, 0.15);\n",
              "    fill: var(--button-hover-fill-color);\n",
              "  }\n",
              "\n",
              "  .colab-df-quickchart-complete:disabled,\n",
              "  .colab-df-quickchart-complete:disabled:hover {\n",
              "    background-color: var(--disabled-bg-color);\n",
              "    fill: var(--disabled-fill-color);\n",
              "    box-shadow: none;\n",
              "  }\n",
              "\n",
              "  .colab-df-spinner {\n",
              "    border: 2px solid var(--fill-color);\n",
              "    border-color: transparent;\n",
              "    border-bottom-color: var(--fill-color);\n",
              "    animation:\n",
              "      spin 1s steps(1) infinite;\n",
              "  }\n",
              "\n",
              "  @keyframes spin {\n",
              "    0% {\n",
              "      border-color: transparent;\n",
              "      border-bottom-color: var(--fill-color);\n",
              "      border-left-color: var(--fill-color);\n",
              "    }\n",
              "    20% {\n",
              "      border-color: transparent;\n",
              "      border-left-color: var(--fill-color);\n",
              "      border-top-color: var(--fill-color);\n",
              "    }\n",
              "    30% {\n",
              "      border-color: transparent;\n",
              "      border-left-color: var(--fill-color);\n",
              "      border-top-color: var(--fill-color);\n",
              "      border-right-color: var(--fill-color);\n",
              "    }\n",
              "    40% {\n",
              "      border-color: transparent;\n",
              "      border-right-color: var(--fill-color);\n",
              "      border-top-color: var(--fill-color);\n",
              "    }\n",
              "    60% {\n",
              "      border-color: transparent;\n",
              "      border-right-color: var(--fill-color);\n",
              "    }\n",
              "    80% {\n",
              "      border-color: transparent;\n",
              "      border-right-color: var(--fill-color);\n",
              "      border-bottom-color: var(--fill-color);\n",
              "    }\n",
              "    90% {\n",
              "      border-color: transparent;\n",
              "      border-bottom-color: var(--fill-color);\n",
              "    }\n",
              "  }\n",
              "</style>\n",
              "\n",
              "  <script>\n",
              "    async function quickchart(key) {\n",
              "      const quickchartButtonEl =\n",
              "        document.querySelector('#' + key + ' button');\n",
              "      quickchartButtonEl.disabled = true;  // To prevent multiple clicks.\n",
              "      quickchartButtonEl.classList.add('colab-df-spinner');\n",
              "      try {\n",
              "        const charts = await google.colab.kernel.invokeFunction(\n",
              "            'suggestCharts', [key], {});\n",
              "      } catch (error) {\n",
              "        console.error('Error during call to suggestCharts:', error);\n",
              "      }\n",
              "      quickchartButtonEl.classList.remove('colab-df-spinner');\n",
              "      quickchartButtonEl.classList.add('colab-df-quickchart-complete');\n",
              "    }\n",
              "    (() => {\n",
              "      let quickchartButtonEl =\n",
              "        document.querySelector('#df-1a3a4677-6d14-4ca4-bf4f-8055701a466b button');\n",
              "      quickchartButtonEl.style.display =\n",
              "        google.colab.kernel.accessAllowed ? 'block' : 'none';\n",
              "    })();\n",
              "  </script>\n",
              "</div>\n",
              "    </div>\n",
              "  </div>\n"
            ],
            "text/plain": [
              "        bedrooms     rooms  bathrooms\n",
              "0        2.00000  3.000000   2.000000\n",
              "1        3.00000  4.000000   2.000000\n",
              "2        3.00000  3.600000   2.000000\n",
              "3        3.40000  5.800000   4.000000\n",
              "4        1.60000  3.000000   1.000000\n",
              "...          ...       ...        ...\n",
              "267863   2.05327  2.840145   1.675326\n",
              "267864   3.00000  3.200000   3.000000\n",
              "267865   2.00000  3.000000   1.000000\n",
              "267866   3.00000  4.000000   2.000000\n",
              "267867   3.00000  3.200000   3.000000\n",
              "\n",
              "[267868 rows x 3 columns]"
            ]
          },
          "execution_count": 62,
          "metadata": {},
          "output_type": "execute_result"
        }
      ],
      "source": [
        "rooms_df"
      ]
    },
    {
      "cell_type": "code",
      "execution_count": 63,
      "metadata": {
        "id": "eUwgijNQXeCq"
      },
      "outputs": [],
      "source": [
        "surfaces_df=pd.read_csv(google_drive_path + \"df_surfaces_only.csv\", sep=\",\")"
      ]
    },
    {
      "cell_type": "code",
      "execution_count": 64,
      "metadata": {
        "colab": {
          "base_uri": "https://localhost:8080/",
          "height": 419
        },
        "id": "Rulr9b0SXeCq",
        "outputId": "588db793-d1c7-4221-9b2e-255caf299cf5"
      },
      "outputs": [
        {
          "data": {
            "application/vnd.google.colaboratory.intrinsic+json": {
              "type": "dataframe",
              "variable_name": "surfaces_df"
            },
            "text/html": [
              "\n",
              "  <div id=\"df-4547e0c5-5961-43df-943e-39cf323ffef0\" class=\"colab-df-container\">\n",
              "    <div>\n",
              "<style scoped>\n",
              "    .dataframe tbody tr th:only-of-type {\n",
              "        vertical-align: middle;\n",
              "    }\n",
              "\n",
              "    .dataframe tbody tr th {\n",
              "        vertical-align: top;\n",
              "    }\n",
              "\n",
              "    .dataframe thead th {\n",
              "        text-align: right;\n",
              "    }\n",
              "</style>\n",
              "<table border=\"1\" class=\"dataframe\">\n",
              "  <thead>\n",
              "    <tr style=\"text-align: right;\">\n",
              "      <th></th>\n",
              "      <th>surface_total</th>\n",
              "      <th>surface_covered</th>\n",
              "    </tr>\n",
              "  </thead>\n",
              "  <tbody>\n",
              "    <tr>\n",
              "      <th>0</th>\n",
              "      <td>438.173042</td>\n",
              "      <td>347.066038</td>\n",
              "    </tr>\n",
              "    <tr>\n",
              "      <th>1</th>\n",
              "      <td>140.000000</td>\n",
              "      <td>140.000000</td>\n",
              "    </tr>\n",
              "    <tr>\n",
              "      <th>2</th>\n",
              "      <td>438.173042</td>\n",
              "      <td>347.066038</td>\n",
              "    </tr>\n",
              "    <tr>\n",
              "      <th>3</th>\n",
              "      <td>135.000000</td>\n",
              "      <td>135.000000</td>\n",
              "    </tr>\n",
              "    <tr>\n",
              "      <th>4</th>\n",
              "      <td>438.173042</td>\n",
              "      <td>347.066038</td>\n",
              "    </tr>\n",
              "    <tr>\n",
              "      <th>...</th>\n",
              "      <td>...</td>\n",
              "      <td>...</td>\n",
              "    </tr>\n",
              "    <tr>\n",
              "      <th>267863</th>\n",
              "      <td>438.173042</td>\n",
              "      <td>347.066038</td>\n",
              "    </tr>\n",
              "    <tr>\n",
              "      <th>267864</th>\n",
              "      <td>85.000000</td>\n",
              "      <td>85.000000</td>\n",
              "    </tr>\n",
              "    <tr>\n",
              "      <th>267865</th>\n",
              "      <td>438.173042</td>\n",
              "      <td>347.066038</td>\n",
              "    </tr>\n",
              "    <tr>\n",
              "      <th>267866</th>\n",
              "      <td>150.000000</td>\n",
              "      <td>150.000000</td>\n",
              "    </tr>\n",
              "    <tr>\n",
              "      <th>267867</th>\n",
              "      <td>232.000000</td>\n",
              "      <td>232.000000</td>\n",
              "    </tr>\n",
              "  </tbody>\n",
              "</table>\n",
              "<p>267868 rows × 2 columns</p>\n",
              "</div>\n",
              "    <div class=\"colab-df-buttons\">\n",
              "\n",
              "  <div class=\"colab-df-container\">\n",
              "    <button class=\"colab-df-convert\" onclick=\"convertToInteractive('df-4547e0c5-5961-43df-943e-39cf323ffef0')\"\n",
              "            title=\"Convert this dataframe to an interactive table.\"\n",
              "            style=\"display:none;\">\n",
              "\n",
              "  <svg xmlns=\"http://www.w3.org/2000/svg\" height=\"24px\" viewBox=\"0 -960 960 960\">\n",
              "    <path d=\"M120-120v-720h720v720H120Zm60-500h600v-160H180v160Zm220 220h160v-160H400v160Zm0 220h160v-160H400v160ZM180-400h160v-160H180v160Zm440 0h160v-160H620v160ZM180-180h160v-160H180v160Zm440 0h160v-160H620v160Z\"/>\n",
              "  </svg>\n",
              "    </button>\n",
              "\n",
              "  <style>\n",
              "    .colab-df-container {\n",
              "      display:flex;\n",
              "      gap: 12px;\n",
              "    }\n",
              "\n",
              "    .colab-df-convert {\n",
              "      background-color: #E8F0FE;\n",
              "      border: none;\n",
              "      border-radius: 50%;\n",
              "      cursor: pointer;\n",
              "      display: none;\n",
              "      fill: #1967D2;\n",
              "      height: 32px;\n",
              "      padding: 0 0 0 0;\n",
              "      width: 32px;\n",
              "    }\n",
              "\n",
              "    .colab-df-convert:hover {\n",
              "      background-color: #E2EBFA;\n",
              "      box-shadow: 0px 1px 2px rgba(60, 64, 67, 0.3), 0px 1px 3px 1px rgba(60, 64, 67, 0.15);\n",
              "      fill: #174EA6;\n",
              "    }\n",
              "\n",
              "    .colab-df-buttons div {\n",
              "      margin-bottom: 4px;\n",
              "    }\n",
              "\n",
              "    [theme=dark] .colab-df-convert {\n",
              "      background-color: #3B4455;\n",
              "      fill: #D2E3FC;\n",
              "    }\n",
              "\n",
              "    [theme=dark] .colab-df-convert:hover {\n",
              "      background-color: #434B5C;\n",
              "      box-shadow: 0px 1px 3px 1px rgba(0, 0, 0, 0.15);\n",
              "      filter: drop-shadow(0px 1px 2px rgba(0, 0, 0, 0.3));\n",
              "      fill: #FFFFFF;\n",
              "    }\n",
              "  </style>\n",
              "\n",
              "    <script>\n",
              "      const buttonEl =\n",
              "        document.querySelector('#df-4547e0c5-5961-43df-943e-39cf323ffef0 button.colab-df-convert');\n",
              "      buttonEl.style.display =\n",
              "        google.colab.kernel.accessAllowed ? 'block' : 'none';\n",
              "\n",
              "      async function convertToInteractive(key) {\n",
              "        const element = document.querySelector('#df-4547e0c5-5961-43df-943e-39cf323ffef0');\n",
              "        const dataTable =\n",
              "          await google.colab.kernel.invokeFunction('convertToInteractive',\n",
              "                                                    [key], {});\n",
              "        if (!dataTable) return;\n",
              "\n",
              "        const docLinkHtml = 'Like what you see? Visit the ' +\n",
              "          '<a target=\"_blank\" href=https://colab.research.google.com/notebooks/data_table.ipynb>data table notebook</a>'\n",
              "          + ' to learn more about interactive tables.';\n",
              "        element.innerHTML = '';\n",
              "        dataTable['output_type'] = 'display_data';\n",
              "        await google.colab.output.renderOutput(dataTable, element);\n",
              "        const docLink = document.createElement('div');\n",
              "        docLink.innerHTML = docLinkHtml;\n",
              "        element.appendChild(docLink);\n",
              "      }\n",
              "    </script>\n",
              "  </div>\n",
              "\n",
              "\n",
              "<div id=\"df-36059369-4435-4285-b997-5a9d7988d1c2\">\n",
              "  <button class=\"colab-df-quickchart\" onclick=\"quickchart('df-36059369-4435-4285-b997-5a9d7988d1c2')\"\n",
              "            title=\"Suggest charts\"\n",
              "            style=\"display:none;\">\n",
              "\n",
              "<svg xmlns=\"http://www.w3.org/2000/svg\" height=\"24px\"viewBox=\"0 0 24 24\"\n",
              "     width=\"24px\">\n",
              "    <g>\n",
              "        <path d=\"M19 3H5c-1.1 0-2 .9-2 2v14c0 1.1.9 2 2 2h14c1.1 0 2-.9 2-2V5c0-1.1-.9-2-2-2zM9 17H7v-7h2v7zm4 0h-2V7h2v10zm4 0h-2v-4h2v4z\"/>\n",
              "    </g>\n",
              "</svg>\n",
              "  </button>\n",
              "\n",
              "<style>\n",
              "  .colab-df-quickchart {\n",
              "      --bg-color: #E8F0FE;\n",
              "      --fill-color: #1967D2;\n",
              "      --hover-bg-color: #E2EBFA;\n",
              "      --hover-fill-color: #174EA6;\n",
              "      --disabled-fill-color: #AAA;\n",
              "      --disabled-bg-color: #DDD;\n",
              "  }\n",
              "\n",
              "  [theme=dark] .colab-df-quickchart {\n",
              "      --bg-color: #3B4455;\n",
              "      --fill-color: #D2E3FC;\n",
              "      --hover-bg-color: #434B5C;\n",
              "      --hover-fill-color: #FFFFFF;\n",
              "      --disabled-bg-color: #3B4455;\n",
              "      --disabled-fill-color: #666;\n",
              "  }\n",
              "\n",
              "  .colab-df-quickchart {\n",
              "    background-color: var(--bg-color);\n",
              "    border: none;\n",
              "    border-radius: 50%;\n",
              "    cursor: pointer;\n",
              "    display: none;\n",
              "    fill: var(--fill-color);\n",
              "    height: 32px;\n",
              "    padding: 0;\n",
              "    width: 32px;\n",
              "  }\n",
              "\n",
              "  .colab-df-quickchart:hover {\n",
              "    background-color: var(--hover-bg-color);\n",
              "    box-shadow: 0 1px 2px rgba(60, 64, 67, 0.3), 0 1px 3px 1px rgba(60, 64, 67, 0.15);\n",
              "    fill: var(--button-hover-fill-color);\n",
              "  }\n",
              "\n",
              "  .colab-df-quickchart-complete:disabled,\n",
              "  .colab-df-quickchart-complete:disabled:hover {\n",
              "    background-color: var(--disabled-bg-color);\n",
              "    fill: var(--disabled-fill-color);\n",
              "    box-shadow: none;\n",
              "  }\n",
              "\n",
              "  .colab-df-spinner {\n",
              "    border: 2px solid var(--fill-color);\n",
              "    border-color: transparent;\n",
              "    border-bottom-color: var(--fill-color);\n",
              "    animation:\n",
              "      spin 1s steps(1) infinite;\n",
              "  }\n",
              "\n",
              "  @keyframes spin {\n",
              "    0% {\n",
              "      border-color: transparent;\n",
              "      border-bottom-color: var(--fill-color);\n",
              "      border-left-color: var(--fill-color);\n",
              "    }\n",
              "    20% {\n",
              "      border-color: transparent;\n",
              "      border-left-color: var(--fill-color);\n",
              "      border-top-color: var(--fill-color);\n",
              "    }\n",
              "    30% {\n",
              "      border-color: transparent;\n",
              "      border-left-color: var(--fill-color);\n",
              "      border-top-color: var(--fill-color);\n",
              "      border-right-color: var(--fill-color);\n",
              "    }\n",
              "    40% {\n",
              "      border-color: transparent;\n",
              "      border-right-color: var(--fill-color);\n",
              "      border-top-color: var(--fill-color);\n",
              "    }\n",
              "    60% {\n",
              "      border-color: transparent;\n",
              "      border-right-color: var(--fill-color);\n",
              "    }\n",
              "    80% {\n",
              "      border-color: transparent;\n",
              "      border-right-color: var(--fill-color);\n",
              "      border-bottom-color: var(--fill-color);\n",
              "    }\n",
              "    90% {\n",
              "      border-color: transparent;\n",
              "      border-bottom-color: var(--fill-color);\n",
              "    }\n",
              "  }\n",
              "</style>\n",
              "\n",
              "  <script>\n",
              "    async function quickchart(key) {\n",
              "      const quickchartButtonEl =\n",
              "        document.querySelector('#' + key + ' button');\n",
              "      quickchartButtonEl.disabled = true;  // To prevent multiple clicks.\n",
              "      quickchartButtonEl.classList.add('colab-df-spinner');\n",
              "      try {\n",
              "        const charts = await google.colab.kernel.invokeFunction(\n",
              "            'suggestCharts', [key], {});\n",
              "      } catch (error) {\n",
              "        console.error('Error during call to suggestCharts:', error);\n",
              "      }\n",
              "      quickchartButtonEl.classList.remove('colab-df-spinner');\n",
              "      quickchartButtonEl.classList.add('colab-df-quickchart-complete');\n",
              "    }\n",
              "    (() => {\n",
              "      let quickchartButtonEl =\n",
              "        document.querySelector('#df-36059369-4435-4285-b997-5a9d7988d1c2 button');\n",
              "      quickchartButtonEl.style.display =\n",
              "        google.colab.kernel.accessAllowed ? 'block' : 'none';\n",
              "    })();\n",
              "  </script>\n",
              "</div>\n",
              "    </div>\n",
              "  </div>\n"
            ],
            "text/plain": [
              "        surface_total  surface_covered\n",
              "0          438.173042       347.066038\n",
              "1          140.000000       140.000000\n",
              "2          438.173042       347.066038\n",
              "3          135.000000       135.000000\n",
              "4          438.173042       347.066038\n",
              "...               ...              ...\n",
              "267863     438.173042       347.066038\n",
              "267864      85.000000        85.000000\n",
              "267865     438.173042       347.066038\n",
              "267866     150.000000       150.000000\n",
              "267867     232.000000       232.000000\n",
              "\n",
              "[267868 rows x 2 columns]"
            ]
          },
          "execution_count": 64,
          "metadata": {},
          "output_type": "execute_result"
        }
      ],
      "source": [
        "surfaces_df"
      ]
    },
    {
      "cell_type": "code",
      "execution_count": 65,
      "metadata": {
        "id": "kirw5wA8XeCq"
      },
      "outputs": [],
      "source": [
        "# replace the original columns with the imputed ones\n",
        "pandas_df[['bedrooms', 'rooms', 'bathrooms']] = rooms_df\n",
        "pandas_df[['surface_total', 'surface_covered']] = surfaces_df"
      ]
    },
    {
      "cell_type": "code",
      "execution_count": 66,
      "metadata": {
        "colab": {
          "base_uri": "https://localhost:8080/"
        },
        "id": "WjJ2tb1bnzXF",
        "outputId": "1714b3c4-ca1e-48da-ae9f-6fbb2f9ced00"
      },
      "outputs": [
        {
          "data": {
            "text/plain": [
              "start_date         267868\n",
              "end_date           267868\n",
              "created_on         267868\n",
              "l2                 267868\n",
              "l3                 267868\n",
              "rooms              267868\n",
              "bedrooms           267868\n",
              "bathrooms          267868\n",
              "surface_total      267868\n",
              "surface_covered    267868\n",
              "title              267868\n",
              "description        267868\n",
              "property_type      267868\n",
              "operation_type     267868\n",
              "coordinates        267868\n",
              "amount_in_euro     267868\n",
              "dtype: int64"
            ]
          },
          "execution_count": 66,
          "metadata": {},
          "output_type": "execute_result"
        }
      ],
      "source": [
        "# ensuring once more that 'surface_covered' does not exceed 'surface_total' after imputation\n",
        "pandas_df = pandas_df[~(pandas_df['surface_covered'] > pandas_df['surface_total'])]\n",
        "pandas_df.count()"
      ]
    },
    {
      "cell_type": "code",
      "execution_count": 67,
      "metadata": {
        "colab": {
          "base_uri": "https://localhost:8080/"
        },
        "id": "InAsHqYKdJuK",
        "outputId": "9b57fb93-e95d-4518-f03c-d074b01f9810"
      },
      "outputs": [
        {
          "name": "stdout",
          "output_type": "stream",
          "text": [
            "+----------+----------+----------+--------------------+---------------+-----------------+------------------+------------------+-----------------+----------------+--------------------+--------------------+-------------+-----------------+--------------------+------------------+\n",
            "|start_date|  end_date|created_on|                  l2|             l3|            rooms|          bedrooms|         bathrooms|    surface_total| surface_covered|               title|         description|property_type|   operation_type|         coordinates|    amount_in_euro|\n",
            "+----------+----------+----------+--------------------+---------------+-----------------+------------------+------------------+-----------------+----------------+--------------------+--------------------+-------------+-----------------+--------------------+------------------+\n",
            "|2019-12-29|2020-07-02|2019-12-29|Buenos Aires Cost...|        Pinamar|              3.0|               2.0|               2.0|438.1730422689701|347.066038471283|         PH - Duplex|DUPLEX DE 2 AMBIE...|           PH|Alquiler temporal|[-37.105281829833...|            1099.0|\n",
            "|2019-12-29|2020-02-11|2019-12-29|Bs.As. G.B.A. Zon...|          Pilar|              4.0|               3.0|               2.0|            140.0|           140.0|Susana Aravena Pr...|Excelente propied...|         Casa|         Alquiler|[-34.879692077636...|             533.8|\n",
            "|2019-12-29|2020-04-04|2019-12-29|Bs.As. G.B.A. Zon...|        Escobar|              3.6|               3.0|               2.0|438.1730422689701|347.066038471283|Casa en Alquiler ...|Casa muy cómoda c...|         Casa|         Alquiler|[-34.361125946044...|1726.9999999999998|\n",
            "|2019-12-29|2020-07-22|2019-12-29|             Córdoba|        Córdoba|              5.8|               3.4|               4.0|            135.0|           135.0|       Casa - Centro|Se VENDE y/o se A...|         Casa|         Alquiler|[-31.409379959106...|1020.4999999999999|\n",
            "|2019-12-29|2020-02-21|2019-12-29|Bs.As. G.B.A. Zon...|Lomas de Zamora|              3.0|               1.6|               1.0|438.1730422689701|347.066038471283|Casa - Banfield O...|Se trata inmueble...|         Casa|         Alquiler|[-34.745143890380...|             329.7|\n",
            "|2019-12-29|2020-08-26|2019-12-29|Bs.As. G.B.A. Zon...|Lomas de Zamora|2.840144619669964|2.0532697133905597|1.6753256081210497|438.1730422689701|347.066038471283|Casa - Temperley ...|Casa en Av Almira...|         Casa|         Alquiler|[-34.780479431152...|439.59999999999997|\n",
            "|2019-12-29|2020-06-14|2019-12-29|Bs.As. G.B.A. Zon...|         Moreno|2.840144619669964|2.0532697133905597|1.6753256081210497|            300.0|           260.0|Azucena Villaflor...|Excelente oportun...|         Lote|            Venta|[-34.879692077636...| 7064.999999999999|\n",
            "|2019-12-29|2020-03-09|2019-12-29|     Capital Federal|       Belgrano|2.840144619669964|2.0532697133905597|1.6753256081210497|            511.0|           511.0|11 DE SEPTIEMBRE DE |Oficina con acces...|      Oficina|         Alquiler|[-34.561073303222...|            4867.0|\n",
            "|2019-12-29|2020-04-01|2019-12-29|Bs.As. G.B.A. Zon...|     San Miguel|              3.6|               3.0|               2.0|             55.0|            52.6|Domingo F Sarmien...|Oficina de 55 m2 ...|      Oficina|         Alquiler|[-34.546260833740...|188.39999999999998|\n",
            "|2019-12-29|2020-02-14|2019-12-29|Bs.As. G.B.A. Zon...|          Tigre|              3.6|               3.0|               2.0|438.1730422689701|347.066038471283|ALQUILER DEPARTAM...|Departamento en a...| Departamento|         Alquiler|[-34.400051116943...|470.99999999999994|\n",
            "|2019-12-29|2020-02-17|2019-12-29|     Capital Federal|          Nuñez|              1.0|               0.6|               1.0|             32.0|            32.0|Franklin Roosevel...|CONTACTO : +54911...| Departamento|Alquiler temporal|[-34.554058074951...|             502.4|\n",
            "|2019-12-29|2020-01-11|2019-12-29|     Capital Federal|        Almagro|              2.0|               1.0|               1.0|             45.0|            40.0|2 amb muy comodo ...|Corredor Responsa...| Departamento|         Alquiler|[-34.608074188232...|             345.4|\n",
            "|2019-12-29|2020-03-09|2019-12-29|     Capital Federal|        Palermo|              4.0|               2.4|               2.0|             82.0|            78.0|Departamento - Pa...|SE LIBERA 1 DE MA...| Departamento|Alquiler temporal|[-34.587333679199...| 784.9999999999999|\n",
            "|2019-12-29|2020-07-31|2019-12-29|     Capital Federal|        Palermo|              2.0|               1.0|               1.0|             45.0|            43.6|Departamento - Pa...|Hermoso departame...| Departamento|         Alquiler|[-34.574123382568...|             628.0|\n",
            "|2019-12-29|2020-02-04|2019-12-29|            Santa Fe|        Rosario|              2.0|               2.0|               1.0|438.1730422689701|347.066038471283|         Colon  1200|Amplio departamen...| Departamento|         Alquiler|[-32.953746795654...| 97.33999999999999|\n",
            "|2019-12-29|2020-01-24|2019-12-29|     Capital Federal|       Recoleta|              3.0|               2.0|               1.0|             64.0|            56.0|ALQUILER 3 AMB, A...|EXCELENTE UBICACI...| Departamento|         Alquiler|[-34.588634490966...|             628.0|\n",
            "|2019-12-29|2019-12-31|2019-12-29|     Capital Federal|       Recoleta|              2.0|               1.0|               1.0|             55.0|            52.6|c996 - 2 AMB - GA...|CONTACTO : +54911...| Departamento|Alquiler temporal|[-34.596885681152...| 565.1999999999999|\n",
            "|2019-12-29|2020-03-18|2019-12-29|     Capital Federal|      Balvanera|              3.0|               1.6|               1.0|             60.0|            60.0|Departamento - Ba...|LIBRE YA!!  lo ma...| Departamento|Alquiler temporal|[-34.611484527587...|510.24999999999994|\n",
            "|2019-12-29|2020-01-22|2019-12-29|     Capital Federal|      Caballito|              2.0|               1.0|               1.0|             50.0|            50.0|Caballito - Senil...|CONTACTO : +54911...| Departamento|Alquiler temporal|[-34.627357482910...|             549.5|\n",
            "|2019-12-29|2020-01-07|2019-12-29|     Capital Federal|    San Nicolás|              1.0|               0.6|               1.0|             35.0|            33.2|San Nicolas - Ber...|CONTACTO :  +54 9...| Departamento|Alquiler temporal|[-34.603698730468...|             329.7|\n",
            "+----------+----------+----------+--------------------+---------------+-----------------+------------------+------------------+-----------------+----------------+--------------------+--------------------+-------------+-----------------+--------------------+------------------+\n",
            "only showing top 20 rows\n",
            "\n"
          ]
        }
      ],
      "source": [
        "# convert pandas df back to spark df\n",
        "spark_filled = spark.createDataFrame(pandas_df)\n",
        "\n",
        "spark_filled.show()"
      ]
    },
    {
      "cell_type": "code",
      "execution_count": 68,
      "metadata": {
        "colab": {
          "base_uri": "https://localhost:8080/"
        },
        "id": "ScEn3UeawIEr",
        "outputId": "6c9ba087-1ae5-4982-ca62-3f932875e5c6"
      },
      "outputs": [
        {
          "data": {
            "text/plain": [
              "[('start_date', 'date'),\n",
              " ('end_date', 'string'),\n",
              " ('created_on', 'string'),\n",
              " ('l2', 'string'),\n",
              " ('l3', 'string'),\n",
              " ('rooms', 'double'),\n",
              " ('bedrooms', 'double'),\n",
              " ('bathrooms', 'double'),\n",
              " ('surface_total', 'double'),\n",
              " ('surface_covered', 'double'),\n",
              " ('title', 'string'),\n",
              " ('description', 'string'),\n",
              " ('property_type', 'string'),\n",
              " ('operation_type', 'string'),\n",
              " ('coordinates', 'array<double>'),\n",
              " ('amount_in_euro', 'double')]"
            ]
          },
          "execution_count": 68,
          "metadata": {},
          "output_type": "execute_result"
        }
      ],
      "source": [
        "spark_filled.dtypes"
      ]
    },
    {
      "cell_type": "code",
      "execution_count": 69,
      "metadata": {
        "colab": {
          "base_uri": "https://localhost:8080/"
        },
        "id": "kSfBT7b6xhqV",
        "outputId": "a5bfe75e-4934-4257-ed8a-c5efff81a488"
      },
      "outputs": [
        {
          "data": {
            "text/plain": [
              "Index(['start_date', 'end_date', 'created_on', 'l2', 'l3', 'rooms', 'bedrooms',\n",
              "       'bathrooms', 'surface_total', 'surface_covered', 'title', 'description',\n",
              "       'property_type', 'operation_type', 'coordinates', 'amount_in_euro'],\n",
              "      dtype='object')"
            ]
          },
          "execution_count": 69,
          "metadata": {},
          "output_type": "execute_result"
        }
      ],
      "source": [
        "pandas_df.columns"
      ]
    },
    {
      "cell_type": "markdown",
      "metadata": {
        "id": "7c2tDBIlXeCr"
      },
      "source": [
        "## Other Preprocessing after the imputation"
      ]
    },
    {
      "cell_type": "code",
      "execution_count": 70,
      "metadata": {
        "colab": {
          "base_uri": "https://localhost:8080/"
        },
        "id": "B05rKgwKXeCr",
        "outputId": "827ca1ce-fb2c-4dde-dba8-cdd8daed5e40"
      },
      "outputs": [
        {
          "data": {
            "text/plain": [
              "267868"
            ]
          },
          "execution_count": 70,
          "metadata": {},
          "output_type": "execute_result"
        }
      ],
      "source": [
        "spark_filled.count()"
      ]
    },
    {
      "cell_type": "code",
      "execution_count": 71,
      "metadata": {
        "colab": {
          "base_uri": "https://localhost:8080/"
        },
        "id": "32olqHD4XeCr",
        "outputId": "6bdb9d36-b635-4356-ea75-bc5e1dc2253b"
      },
      "outputs": [
        {
          "name": "stdout",
          "output_type": "stream",
          "text": [
            "+----------+----------+----------+--------------------+---------------+-----------------+------------------+------------------+-----------------+----------------+--------------------+--------------------+-------------+-----------------+--------------------+------------------+\n",
            "|start_date|  end_date|created_on|                  l2|             l3|            rooms|          bedrooms|         bathrooms|    surface_total| surface_covered|               title|         description|property_type|   operation_type|         coordinates|    amount_in_euro|\n",
            "+----------+----------+----------+--------------------+---------------+-----------------+------------------+------------------+-----------------+----------------+--------------------+--------------------+-------------+-----------------+--------------------+------------------+\n",
            "|2019-12-29|2020-07-02|2019-12-29|Buenos Aires Cost...|        Pinamar|              3.0|               2.0|               2.0|438.1730422689701|347.066038471283|         PH - Duplex|DUPLEX DE 2 AMBIE...|           PH|Alquiler temporal|[-37.105281829833...|            1099.0|\n",
            "|2019-12-29|2020-02-11|2019-12-29|Bs.As. G.B.A. Zon...|          Pilar|              4.0|               3.0|               2.0|            140.0|           140.0|Susana Aravena Pr...|Excelente propied...|         Casa|         Alquiler|[-34.879692077636...|             533.8|\n",
            "|2019-12-29|2020-04-04|2019-12-29|Bs.As. G.B.A. Zon...|        Escobar|              3.6|               3.0|               2.0|438.1730422689701|347.066038471283|Casa en Alquiler ...|Casa muy cómoda c...|         Casa|         Alquiler|[-34.361125946044...|1726.9999999999998|\n",
            "|2019-12-29|2020-07-22|2019-12-29|             Córdoba|        Córdoba|              5.8|               3.4|               4.0|            135.0|           135.0|       Casa - Centro|Se VENDE y/o se A...|         Casa|         Alquiler|[-31.409379959106...|1020.4999999999999|\n",
            "|2019-12-29|2020-02-21|2019-12-29|Bs.As. G.B.A. Zon...|Lomas de Zamora|              3.0|               1.6|               1.0|438.1730422689701|347.066038471283|Casa - Banfield O...|Se trata inmueble...|         Casa|         Alquiler|[-34.745143890380...|             329.7|\n",
            "|2019-12-29|2020-08-26|2019-12-29|Bs.As. G.B.A. Zon...|Lomas de Zamora|2.840144619669964|2.0532697133905597|1.6753256081210497|438.1730422689701|347.066038471283|Casa - Temperley ...|Casa en Av Almira...|         Casa|         Alquiler|[-34.780479431152...|439.59999999999997|\n",
            "|2019-12-29|2020-06-14|2019-12-29|Bs.As. G.B.A. Zon...|         Moreno|2.840144619669964|2.0532697133905597|1.6753256081210497|            300.0|           260.0|Azucena Villaflor...|Excelente oportun...|         Lote|            Venta|[-34.879692077636...| 7064.999999999999|\n",
            "|2019-12-29|2020-03-09|2019-12-29|     Capital Federal|       Belgrano|2.840144619669964|2.0532697133905597|1.6753256081210497|            511.0|           511.0|11 DE SEPTIEMBRE DE |Oficina con acces...|      Oficina|         Alquiler|[-34.561073303222...|            4867.0|\n",
            "|2019-12-29|2020-04-01|2019-12-29|Bs.As. G.B.A. Zon...|     San Miguel|              3.6|               3.0|               2.0|             55.0|            52.6|Domingo F Sarmien...|Oficina de 55 m2 ...|      Oficina|         Alquiler|[-34.546260833740...|188.39999999999998|\n",
            "|2019-12-29|2020-02-14|2019-12-29|Bs.As. G.B.A. Zon...|          Tigre|              3.6|               3.0|               2.0|438.1730422689701|347.066038471283|ALQUILER DEPARTAM...|Departamento en a...| Departamento|         Alquiler|[-34.400051116943...|470.99999999999994|\n",
            "|2019-12-29|2020-02-17|2019-12-29|     Capital Federal|          Nuñez|              1.0|               0.6|               1.0|             32.0|            32.0|Franklin Roosevel...|CONTACTO : +54911...| Departamento|Alquiler temporal|[-34.554058074951...|             502.4|\n",
            "|2019-12-29|2020-01-11|2019-12-29|     Capital Federal|        Almagro|              2.0|               1.0|               1.0|             45.0|            40.0|2 amb muy comodo ...|Corredor Responsa...| Departamento|         Alquiler|[-34.608074188232...|             345.4|\n",
            "|2019-12-29|2020-03-09|2019-12-29|     Capital Federal|        Palermo|              4.0|               2.4|               2.0|             82.0|            78.0|Departamento - Pa...|SE LIBERA 1 DE MA...| Departamento|Alquiler temporal|[-34.587333679199...| 784.9999999999999|\n",
            "|2019-12-29|2020-07-31|2019-12-29|     Capital Federal|        Palermo|              2.0|               1.0|               1.0|             45.0|            43.6|Departamento - Pa...|Hermoso departame...| Departamento|         Alquiler|[-34.574123382568...|             628.0|\n",
            "|2019-12-29|2020-02-04|2019-12-29|            Santa Fe|        Rosario|              2.0|               2.0|               1.0|438.1730422689701|347.066038471283|         Colon  1200|Amplio departamen...| Departamento|         Alquiler|[-32.953746795654...| 97.33999999999999|\n",
            "|2019-12-29|2020-01-24|2019-12-29|     Capital Federal|       Recoleta|              3.0|               2.0|               1.0|             64.0|            56.0|ALQUILER 3 AMB, A...|EXCELENTE UBICACI...| Departamento|         Alquiler|[-34.588634490966...|             628.0|\n",
            "|2019-12-29|2019-12-31|2019-12-29|     Capital Federal|       Recoleta|              2.0|               1.0|               1.0|             55.0|            52.6|c996 - 2 AMB - GA...|CONTACTO : +54911...| Departamento|Alquiler temporal|[-34.596885681152...| 565.1999999999999|\n",
            "|2019-12-29|2020-03-18|2019-12-29|     Capital Federal|      Balvanera|              3.0|               1.6|               1.0|             60.0|            60.0|Departamento - Ba...|LIBRE YA!!  lo ma...| Departamento|Alquiler temporal|[-34.611484527587...|510.24999999999994|\n",
            "|2019-12-29|2020-01-22|2019-12-29|     Capital Federal|      Caballito|              2.0|               1.0|               1.0|             50.0|            50.0|Caballito - Senil...|CONTACTO : +54911...| Departamento|Alquiler temporal|[-34.627357482910...|             549.5|\n",
            "|2019-12-29|2020-01-07|2019-12-29|     Capital Federal|    San Nicolás|              1.0|               0.6|               1.0|             35.0|            33.2|San Nicolas - Ber...|CONTACTO :  +54 9...| Departamento|Alquiler temporal|[-34.603698730468...|             329.7|\n",
            "+----------+----------+----------+--------------------+---------------+-----------------+------------------+------------------+-----------------+----------------+--------------------+--------------------+-------------+-----------------+--------------------+------------------+\n",
            "only showing top 20 rows\n",
            "\n"
          ]
        }
      ],
      "source": [
        "spark_filled.show()"
      ]
    },
    {
      "cell_type": "markdown",
      "metadata": {
        "id": "glVsgBHuXeCr"
      },
      "source": [
        "### Fixing Data Types"
      ]
    },
    {
      "cell_type": "code",
      "execution_count": 72,
      "metadata": {
        "id": "_nFc70rGXeCs"
      },
      "outputs": [],
      "source": [
        "# casting all rooms to integer (round down)\n",
        "spark_filled = spark_filled.withColumn('rooms', spark_filled['rooms'].cast(IntegerType()))\n",
        "spark_filled = spark_filled.withColumn('bedrooms', spark_filled['bedrooms'].cast(IntegerType()))\n",
        "spark_filled = spark_filled.withColumn('bathrooms', spark_filled['bathrooms'].cast(IntegerType()))"
      ]
    },
    {
      "cell_type": "code",
      "execution_count": 73,
      "metadata": {
        "id": "VTiOB6V6XeCs"
      },
      "outputs": [],
      "source": [
        "# round surfaces to 2 decimals\n",
        "spark_filled = spark_filled.withColumn('surface_total', round(spark_filled.surface_total, 2))\n",
        "spark_filled = spark_filled.withColumn('surface_covered', round(spark_filled.surface_covered, 2))"
      ]
    },
    {
      "cell_type": "code",
      "execution_count": 74,
      "metadata": {
        "colab": {
          "base_uri": "https://localhost:8080/"
        },
        "id": "KcKy0yDdXeCs",
        "outputId": "12b6a500-a938-416a-e3b7-f541b02f7cfc"
      },
      "outputs": [
        {
          "name": "stdout",
          "output_type": "stream",
          "text": [
            "+----------+----------+----------+--------------------+---------------+-----+--------+---------+-------------+---------------+--------------------+--------------------+-------------+-----------------+--------------------+------------------+\n",
            "|start_date|  end_date|created_on|                  l2|             l3|rooms|bedrooms|bathrooms|surface_total|surface_covered|               title|         description|property_type|   operation_type|         coordinates|    amount_in_euro|\n",
            "+----------+----------+----------+--------------------+---------------+-----+--------+---------+-------------+---------------+--------------------+--------------------+-------------+-----------------+--------------------+------------------+\n",
            "|2019-12-29|2020-07-02|2019-12-29|Buenos Aires Cost...|        Pinamar|    3|       2|        2|       438.17|         347.07|         PH - Duplex|DUPLEX DE 2 AMBIE...|           PH|Alquiler temporal|[-37.105281829833...|            1099.0|\n",
            "|2019-12-29|2020-02-11|2019-12-29|Bs.As. G.B.A. Zon...|          Pilar|    4|       3|        2|        140.0|          140.0|Susana Aravena Pr...|Excelente propied...|         Casa|         Alquiler|[-34.879692077636...|             533.8|\n",
            "|2019-12-29|2020-04-04|2019-12-29|Bs.As. G.B.A. Zon...|        Escobar|    3|       3|        2|       438.17|         347.07|Casa en Alquiler ...|Casa muy cómoda c...|         Casa|         Alquiler|[-34.361125946044...|1726.9999999999998|\n",
            "|2019-12-29|2020-07-22|2019-12-29|             Córdoba|        Córdoba|    5|       3|        4|        135.0|          135.0|       Casa - Centro|Se VENDE y/o se A...|         Casa|         Alquiler|[-31.409379959106...|1020.4999999999999|\n",
            "|2019-12-29|2020-02-21|2019-12-29|Bs.As. G.B.A. Zon...|Lomas de Zamora|    3|       1|        1|       438.17|         347.07|Casa - Banfield O...|Se trata inmueble...|         Casa|         Alquiler|[-34.745143890380...|             329.7|\n",
            "|2019-12-29|2020-08-26|2019-12-29|Bs.As. G.B.A. Zon...|Lomas de Zamora|    2|       2|        1|       438.17|         347.07|Casa - Temperley ...|Casa en Av Almira...|         Casa|         Alquiler|[-34.780479431152...|439.59999999999997|\n",
            "|2019-12-29|2020-06-14|2019-12-29|Bs.As. G.B.A. Zon...|         Moreno|    2|       2|        1|        300.0|          260.0|Azucena Villaflor...|Excelente oportun...|         Lote|            Venta|[-34.879692077636...| 7064.999999999999|\n",
            "|2019-12-29|2020-03-09|2019-12-29|     Capital Federal|       Belgrano|    2|       2|        1|        511.0|          511.0|11 DE SEPTIEMBRE DE |Oficina con acces...|      Oficina|         Alquiler|[-34.561073303222...|            4867.0|\n",
            "|2019-12-29|2020-04-01|2019-12-29|Bs.As. G.B.A. Zon...|     San Miguel|    3|       3|        2|         55.0|           52.6|Domingo F Sarmien...|Oficina de 55 m2 ...|      Oficina|         Alquiler|[-34.546260833740...|188.39999999999998|\n",
            "|2019-12-29|2020-02-14|2019-12-29|Bs.As. G.B.A. Zon...|          Tigre|    3|       3|        2|       438.17|         347.07|ALQUILER DEPARTAM...|Departamento en a...| Departamento|         Alquiler|[-34.400051116943...|470.99999999999994|\n",
            "|2019-12-29|2020-02-17|2019-12-29|     Capital Federal|          Nuñez|    1|       0|        1|         32.0|           32.0|Franklin Roosevel...|CONTACTO : +54911...| Departamento|Alquiler temporal|[-34.554058074951...|             502.4|\n",
            "|2019-12-29|2020-01-11|2019-12-29|     Capital Federal|        Almagro|    2|       1|        1|         45.0|           40.0|2 amb muy comodo ...|Corredor Responsa...| Departamento|         Alquiler|[-34.608074188232...|             345.4|\n",
            "|2019-12-29|2020-03-09|2019-12-29|     Capital Federal|        Palermo|    4|       2|        2|         82.0|           78.0|Departamento - Pa...|SE LIBERA 1 DE MA...| Departamento|Alquiler temporal|[-34.587333679199...| 784.9999999999999|\n",
            "|2019-12-29|2020-07-31|2019-12-29|     Capital Federal|        Palermo|    2|       1|        1|         45.0|           43.6|Departamento - Pa...|Hermoso departame...| Departamento|         Alquiler|[-34.574123382568...|             628.0|\n",
            "|2019-12-29|2020-02-04|2019-12-29|            Santa Fe|        Rosario|    2|       2|        1|       438.17|         347.07|         Colon  1200|Amplio departamen...| Departamento|         Alquiler|[-32.953746795654...| 97.33999999999999|\n",
            "|2019-12-29|2020-01-24|2019-12-29|     Capital Federal|       Recoleta|    3|       2|        1|         64.0|           56.0|ALQUILER 3 AMB, A...|EXCELENTE UBICACI...| Departamento|         Alquiler|[-34.588634490966...|             628.0|\n",
            "|2019-12-29|2019-12-31|2019-12-29|     Capital Federal|       Recoleta|    2|       1|        1|         55.0|           52.6|c996 - 2 AMB - GA...|CONTACTO : +54911...| Departamento|Alquiler temporal|[-34.596885681152...| 565.1999999999999|\n",
            "|2019-12-29|2020-03-18|2019-12-29|     Capital Federal|      Balvanera|    3|       1|        1|         60.0|           60.0|Departamento - Ba...|LIBRE YA!!  lo ma...| Departamento|Alquiler temporal|[-34.611484527587...|510.24999999999994|\n",
            "|2019-12-29|2020-01-22|2019-12-29|     Capital Federal|      Caballito|    2|       1|        1|         50.0|           50.0|Caballito - Senil...|CONTACTO : +54911...| Departamento|Alquiler temporal|[-34.627357482910...|             549.5|\n",
            "|2019-12-29|2020-01-07|2019-12-29|     Capital Federal|    San Nicolás|    1|       0|        1|         35.0|           33.2|San Nicolas - Ber...|CONTACTO :  +54 9...| Departamento|Alquiler temporal|[-34.603698730468...|             329.7|\n",
            "+----------+----------+----------+--------------------+---------------+-----+--------+---------+-------------+---------------+--------------------+--------------------+-------------+-----------------+--------------------+------------------+\n",
            "only showing top 20 rows\n",
            "\n"
          ]
        }
      ],
      "source": [
        "spark_filled.show()"
      ]
    },
    {
      "cell_type": "code",
      "execution_count": 75,
      "metadata": {
        "colab": {
          "base_uri": "https://localhost:8080/"
        },
        "id": "9H8eS6ljXeCs",
        "outputId": "f0a94c5d-1093-4891-ae0b-1ebf338c43e5"
      },
      "outputs": [
        {
          "name": "stdout",
          "output_type": "stream",
          "text": [
            "Percentage of NAs in start_date: 0.0000%\n",
            "Percentage of NAs in end_date: 0.0000%\n",
            "Percentage of NAs in created_on: 0.0000%\n",
            "Percentage of NAs in l2: 0.0000%\n",
            "Percentage of NAs in l3: 0.0000%\n",
            "Percentage of NAs in rooms: 0.0000%\n",
            "Percentage of NAs in bedrooms: 0.0000%\n",
            "Percentage of NAs in bathrooms: 0.0000%\n",
            "Percentage of NAs in surface_total: 0.0000%\n",
            "Percentage of NAs in surface_covered: 0.0000%\n",
            "Percentage of NAs in title: 0.0000%\n",
            "Percentage of NAs in description: 0.0000%\n",
            "Percentage of NAs in property_type: 0.0000%\n",
            "Percentage of NAs in operation_type: 0.0000%\n",
            "Percentage of NAs in coordinates: 0.0000%\n",
            "Percentage of NAs in amount_in_euro: 0.0000%\n"
          ]
        }
      ],
      "source": [
        "na_counts = spark_filled.select([na_percentage(c, dtype) for c, dtype in df.dtypes])\n",
        "\n",
        "# print the results in a more readable format - in percentage\n",
        "for row in na_counts.collect():\n",
        "    for column, percentage in row.asDict().items():\n",
        "        print(f\"Percentage of NAs in {column}: {percentage:.4f}%\")\n"
      ]
    },
    {
      "cell_type": "markdown",
      "metadata": {
        "id": "cDDcVMa2XeCs"
      },
      "source": [
        "### Operation_type"
      ]
    },
    {
      "cell_type": "code",
      "execution_count": 76,
      "metadata": {
        "colab": {
          "base_uri": "https://localhost:8080/"
        },
        "id": "MTUs7WM9XeCs",
        "outputId": "e31f3447-c3f7-4f61-dbb0-00233cad88d8"
      },
      "outputs": [
        {
          "name": "stdout",
          "output_type": "stream",
          "text": [
            "+-----------------+------+\n",
            "|   operation_type| count|\n",
            "+-----------------+------+\n",
            "|            Venta|210341|\n",
            "|         Alquiler| 49569|\n",
            "|Alquiler temporal|  7958|\n",
            "+-----------------+------+\n",
            "\n"
          ]
        }
      ],
      "source": [
        "spark_filled.groupBy(\"operation_type\").count().show()"
      ]
    },
    {
      "cell_type": "markdown",
      "metadata": {
        "id": "EsmwPasFXeCs"
      },
      "source": [
        "We have three different types of housing. For sale, renting and temporary renting. Temporary renting is the minority. Let's check the ranges in price to see if renting and temporary renting have differences. If yes, we are going to drop the houses for temporary renting."
      ]
    },
    {
      "cell_type": "code",
      "execution_count": 77,
      "metadata": {
        "colab": {
          "base_uri": "https://localhost:8080/"
        },
        "id": "dG5oEaK-XeCs",
        "outputId": "7b632bff-8c4b-4bac-c47c-55eb988caad5"
      },
      "outputs": [
        {
          "name": "stdout",
          "output_type": "stream",
          "text": [
            "+-------------------+-------------------+\n",
            "|max(amount_in_euro)|min(amount_in_euro)|\n",
            "+-------------------+-------------------+\n",
            "|           210680.0|               14.3|\n",
            "+-------------------+-------------------+\n",
            "\n"
          ]
        }
      ],
      "source": [
        "spark_filled.filter((col(\"operation_type\") == \"Alquiler\")).agg(max(\"amount_in_euro\"), min(\"amount_in_euro\")).show()"
      ]
    },
    {
      "cell_type": "code",
      "execution_count": 78,
      "metadata": {
        "colab": {
          "base_uri": "https://localhost:8080/"
        },
        "id": "y7OZ-xSnXeCs",
        "outputId": "27a5afa1-61e6-4107-9678-f8678f880cc6"
      },
      "outputs": [
        {
          "name": "stdout",
          "output_type": "stream",
          "text": [
            "+-------------------+-------------------+\n",
            "|max(amount_in_euro)|min(amount_in_euro)|\n",
            "+-------------------+-------------------+\n",
            "|            72800.0|             1.2654|\n",
            "+-------------------+-------------------+\n",
            "\n"
          ]
        }
      ],
      "source": [
        "spark_filled.filter((col(\"operation_type\") == \"Alquiler temporal\")).agg(max(\"amount_in_euro\"), min(\"amount_in_euro\")).show()"
      ]
    },
    {
      "cell_type": "markdown",
      "metadata": {
        "id": "rjqtPaGAXeCs"
      },
      "source": [
        "As we can see, there are differences in prices => we are going to drop them and we are going to focus on more stable long-term data.\n"
      ]
    },
    {
      "cell_type": "code",
      "execution_count": 79,
      "metadata": {
        "id": "9Y8bqmRTXeCs"
      },
      "outputs": [],
      "source": [
        "spark_filled = spark_filled.filter(col(\"operation_type\") != \"Alquiler temporal\")"
      ]
    },
    {
      "cell_type": "code",
      "execution_count": 80,
      "metadata": {
        "colab": {
          "base_uri": "https://localhost:8080/"
        },
        "id": "bZmEJFjTXeCs",
        "outputId": "30a76c1e-d365-4d9e-fd60-f2fd086c7cce"
      },
      "outputs": [
        {
          "name": "stdout",
          "output_type": "stream",
          "text": [
            "Percentage of NAs in start_date: 0.00000000%\n",
            "Percentage of NAs in end_date: 0.00000000%\n",
            "Percentage of NAs in created_on: 0.00000000%\n",
            "Percentage of NAs in l2: 0.00000000%\n",
            "Percentage of NAs in l3: 0.00000000%\n",
            "Percentage of NAs in rooms: 0.00000000%\n",
            "Percentage of NAs in bedrooms: 0.00000000%\n",
            "Percentage of NAs in bathrooms: 0.00000000%\n",
            "Percentage of NAs in surface_total: 0.00000000%\n",
            "Percentage of NAs in surface_covered: 0.00000000%\n",
            "Percentage of NAs in title: 0.00000000%\n",
            "Percentage of NAs in description: 0.00000000%\n",
            "Percentage of NAs in property_type: 0.00000000%\n",
            "Percentage of NAs in operation_type: 0.00000000%\n",
            "Percentage of NAs in coordinates: 0.00000000%\n",
            "Percentage of NAs in amount_in_euro: 0.00000000%\n"
          ]
        }
      ],
      "source": [
        "# percentage of na's in each column\n",
        "na_counts = spark_filled.select([(count(when(col(c).isNull(), c)) / count('*') * 100).alias(c) for c in spark_filled.columns])\n",
        "\n",
        "# print the results in a more readable format - in percentage\n",
        "for row in na_counts.collect():\n",
        "    for column, percentage in row.asDict().items():\n",
        "        print(f\"Percentage of NAs in {column}: {percentage:.8f}%\")"
      ]
    },
    {
      "cell_type": "markdown",
      "metadata": {},
      "source": [
        "## Dates"
      ]
    },
    {
      "cell_type": "markdown",
      "metadata": {
        "id": "SJfg136YXeCs"
      },
      "source": [
        "### 'created_on', 'start_date'"
      ]
    },
    {
      "cell_type": "markdown",
      "metadata": {},
      "source": [
        "First, we want to see if the two columns are exactly the same. If yes, we are going to drop one of them."
      ]
    },
    {
      "cell_type": "code",
      "execution_count": 81,
      "metadata": {
        "colab": {
          "base_uri": "https://localhost:8080/"
        },
        "id": "fscgcuR7XeCs",
        "outputId": "ccb7736c-31ae-4a83-f8f1-14152abeea9a"
      },
      "outputs": [
        {
          "name": "stdout",
          "output_type": "stream",
          "text": [
            "+----------+----------+\n",
            "|created_on|start_date|\n",
            "+----------+----------+\n",
            "|2019-12-29|2019-12-29|\n",
            "|2019-12-29|2019-12-29|\n",
            "|2019-12-29|2019-12-29|\n",
            "|2019-12-29|2019-12-29|\n",
            "|2019-12-29|2019-12-29|\n",
            "|2019-12-29|2019-12-29|\n",
            "|2019-12-29|2019-12-29|\n",
            "|2019-12-29|2019-12-29|\n",
            "|2019-12-29|2019-12-29|\n",
            "|2019-12-29|2019-12-29|\n",
            "|2019-12-29|2019-12-29|\n",
            "|2019-12-29|2019-12-29|\n",
            "|2019-12-29|2019-12-29|\n",
            "|2019-12-29|2019-12-29|\n",
            "|2019-12-29|2019-12-29|\n",
            "|2019-12-29|2019-12-29|\n",
            "|2019-12-29|2019-12-29|\n",
            "|2019-12-29|2019-12-29|\n",
            "|2019-12-29|2019-12-29|\n",
            "|2019-12-29|2019-12-29|\n",
            "+----------+----------+\n",
            "only showing top 20 rows\n",
            "\n"
          ]
        }
      ],
      "source": [
        "spark_filled.select('created_on','start_date').show()"
      ]
    },
    {
      "cell_type": "code",
      "execution_count": 82,
      "metadata": {
        "colab": {
          "base_uri": "https://localhost:8080/"
        },
        "id": "_UTT6_L4XeCt",
        "outputId": "e36fec08-1b2c-4b91-c0d3-76c077f3b497"
      },
      "outputs": [
        {
          "name": "stdout",
          "output_type": "stream",
          "text": [
            "Have 'created_on' and 'start_date' the same values? True\n"
          ]
        }
      ],
      "source": [
        "diff_count = spark_filled.filter(col(\"created_on\") != col(\"start_date\")).count()\n",
        "\n",
        "# check if there are any rows where the values differ\n",
        "are_equal = diff_count == 0\n",
        "print(\"Have 'created_on' and 'start_date' the same values?\", are_equal)"
      ]
    },
    {
      "cell_type": "markdown",
      "metadata": {
        "id": "wvzB7c03XeCt"
      },
      "source": [
        "The two columns 'start_date' and 'created_on' are exactly the same so we decided to drop 'created_on'."
      ]
    },
    {
      "cell_type": "code",
      "execution_count": 83,
      "metadata": {
        "id": "sVDFhOAzXeCt"
      },
      "outputs": [],
      "source": [
        "# drop the 'created_on' column\n",
        "spark_filled = spark_filled.drop('created_on')"
      ]
    },
    {
      "cell_type": "markdown",
      "metadata": {
        "id": "TXmuPkg3XeCt"
      },
      "source": [
        "### 'end_date'"
      ]
    },
    {
      "cell_type": "code",
      "execution_count": 84,
      "metadata": {
        "colab": {
          "base_uri": "https://localhost:8080/"
        },
        "id": "9Q1DnqPAXeCt",
        "outputId": "97045085-896d-4e22-8b7d-7f94a6b678f4"
      },
      "outputs": [
        {
          "name": "stdout",
          "output_type": "stream",
          "text": [
            "+----------+\n",
            "|  end_date|\n",
            "+----------+\n",
            "|9999-12-31|\n",
            "|9999-12-31|\n",
            "|9999-12-31|\n",
            "|9999-12-31|\n",
            "|9999-12-31|\n",
            "|9999-12-31|\n",
            "|9999-12-31|\n",
            "|9999-12-31|\n",
            "|9999-12-31|\n",
            "|9999-12-31|\n",
            "|9999-12-31|\n",
            "|9999-12-31|\n",
            "|9999-12-31|\n",
            "|9999-12-31|\n",
            "|9999-12-31|\n",
            "|9999-12-31|\n",
            "|9999-12-31|\n",
            "|9999-12-31|\n",
            "|9999-12-31|\n",
            "|9999-12-31|\n",
            "+----------+\n",
            "only showing top 20 rows\n",
            "\n"
          ]
        }
      ],
      "source": [
        "# the end_data seems to have incorrect value of 9999-12-31\n",
        "spark_filled.orderBy(\"end_date\", ascending=False).select(\"end_date\").show()"
      ]
    },
    {
      "cell_type": "code",
      "execution_count": 85,
      "metadata": {
        "colab": {
          "base_uri": "https://localhost:8080/"
        },
        "id": "2TpfIYf1XeCt",
        "outputId": "5140465f-9799-4d9c-8482-2f5c263757fb"
      },
      "outputs": [
        {
          "data": {
            "text/plain": [
              "54992"
            ]
          },
          "execution_count": 85,
          "metadata": {},
          "output_type": "execute_result"
        }
      ],
      "source": [
        "# filter df to see how many values are less than '9999-12-31' in the 'end_date' column\n",
        "# we are going to keep these values because they are so many, so removing them is not a good idea, and\n",
        "# additionally they give us info => the ad is still active/the property havent been sold yet\n",
        "spark_filled.filter(col('end_date') >= '9999-12-31').count()"
      ]
    },
    {
      "cell_type": "markdown",
      "metadata": {
        "id": "Zeg2wfyBXeCt"
      },
      "source": [
        "### Manual Translation"
      ]
    },
    {
      "cell_type": "markdown",
      "metadata": {
        "id": "1b95T6TsXeCt"
      },
      "source": [
        "As you have already observed, our dataset is in Spanish. For now we are going to translate manually the property_type and operation_type for easier analysis and interpretability."
      ]
    },
    {
      "cell_type": "code",
      "execution_count": 86,
      "metadata": {
        "id": "fZrl7rSOXeCt"
      },
      "outputs": [],
      "source": [
        "# translate property_type\n",
        "spark_filled = spark_filled.withColumn(\"property_type\",\n",
        "                   F.when(F.col(\"property_type\") == \"Otro\", \"Other\")\n",
        "                    .when(F.col(\"property_type\") == \"Depósito\", \"Warehouse\")\n",
        "                    .when(F.col(\"property_type\") == \"Cochera\", \"Garage\")\n",
        "                    .when(F.col(\"property_type\") == \"Departamento\", \"Apartment\")\n",
        "                    .when(F.col(\"property_type\") == \"Lote\", \"Lot\")\n",
        "                    .when(F.col(\"property_type\") == \"Casa\", \"House\")\n",
        "                    .when(F.col(\"property_type\") == \"PH\", \"Duplex\")\n",
        "                    .when(F.col(\"property_type\") == \"Casa de campo\", \"Country House\")\n",
        "                    .when(F.col(\"property_type\") == \"Oficina\", \"Office\")\n",
        "                    .when(F.col(\"property_type\") == \"Local comercial\", \"Commercial Space\")\n",
        "                    .otherwise(F.col(\"property_type\"))  # in case of mismatch\n",
        "                  )\n",
        "\n"
      ]
    },
    {
      "cell_type": "code",
      "execution_count": 87,
      "metadata": {
        "colab": {
          "base_uri": "https://localhost:8080/"
        },
        "id": "1uBMDYnsXeCt",
        "outputId": "44e333a5-a2bc-41af-b9fe-3c3a8c2ff5ab"
      },
      "outputs": [
        {
          "name": "stdout",
          "output_type": "stream",
          "text": [
            "+----------------+-----+\n",
            "|   property_type|count|\n",
            "+----------------+-----+\n",
            "|Commercial Space| 8979|\n",
            "|       Apartment|96897|\n",
            "|          Office| 7048|\n",
            "|             Lot|22124|\n",
            "|   Country House|  347|\n",
            "|           Other|63958|\n",
            "|          Garage| 2377|\n",
            "|       Warehouse| 1715|\n",
            "|           House|46962|\n",
            "|          Duplex| 9503|\n",
            "+----------------+-----+\n",
            "\n"
          ]
        }
      ],
      "source": [
        "spark_filled.groupBy(\"property_type\").count().show()"
      ]
    },
    {
      "cell_type": "markdown",
      "metadata": {},
      "source": [
        "There is a huge variability among the property_types."
      ]
    },
    {
      "cell_type": "code",
      "execution_count": 88,
      "metadata": {
        "id": "7k4v2o2WXeCt"
      },
      "outputs": [],
      "source": [
        "# translate operation type\n",
        "spark_filled = spark_filled.withColumn(\"operation_type\",\n",
        "                   F.when(F.col(\"operation_type\") == \"Venta\", \"Sale\")\n",
        "                    .when(F.col(\"operation_type\") == \"Alquiler\", \"Rent\")\n",
        "                    .otherwise(F.col(\"operation_type\"))  # in case of mismatch\n",
        "                  )\n"
      ]
    },
    {
      "cell_type": "code",
      "execution_count": 89,
      "metadata": {
        "colab": {
          "base_uri": "https://localhost:8080/"
        },
        "id": "e9Qhm_PzXeCt",
        "outputId": "b4372c87-e7d5-435c-bcaa-6269df71f373"
      },
      "outputs": [
        {
          "name": "stdout",
          "output_type": "stream",
          "text": [
            "+--------------+------+\n",
            "|operation_type| count|\n",
            "+--------------+------+\n",
            "|          Rent| 49569|\n",
            "|          Sale|210341|\n",
            "+--------------+------+\n",
            "\n"
          ]
        }
      ],
      "source": [
        "spark_filled.groupBy(\"operation_type\").count().show()"
      ]
    },
    {
      "cell_type": "markdown",
      "metadata": {},
      "source": [
        "The dataset is not balances, but because we are going to analyse each operation_type as a distinct classification problem, the imbalance does not cause any subsidiary challenges."
      ]
    },
    {
      "cell_type": "markdown",
      "metadata": {
        "id": "JOK-OLWbXeCt"
      },
      "source": [
        "## Writing the df"
      ]
    },
    {
      "cell_type": "markdown",
      "metadata": {
        "id": "410lKHwuXeCu"
      },
      "source": [
        "We are going to save the preprocessed df in order not to run the whole code every time. We are going to write it in another format, because we have very complex data (including extremely complex text, arrays) => parquet."
      ]
    },
    {
      "cell_type": "markdown",
      "metadata": {
        "id": "d384XZ09XeCu"
      },
      "source": [
        "Benefits of Parquet:\n",
        "- Efficiency: Parquet is highly efficient for both storage and query performance due to its columnar storage format. It compresses data effectively and reduces I/O operations, which is especially beneficial when dealing with large datasets.\n",
        "- Schema Preservation: Parquet retains the schema along with the data, ensuring that when the data is read back into Spark, all column data types are correctly handled. \n",
        "- Compatibility: Parquet is widely supported across data processing frameworks, including Spark, Hadoop, and tools in the AWS and Azure ecosystems. This makes it a versatile choice should you choose to work with different platforms in the future.\n",
        "- Performance for Analytics: If we need to perform further analytics on the data, Parquet allows for efficient querying because it reads only the necessary columns, thus speeding up operations."
      ]
    },
    {
      "cell_type": "code",
      "execution_count": 90,
      "metadata": {
        "id": "IMCb-TLbXeCu"
      },
      "outputs": [],
      "source": [
        "spark_filled.write.format(\"parquet\") \\\n",
        "    .mode(\"overwrite\") \\\n",
        "    .save(google_drive_path + \"ar_properties_processed.parquet\")"
      ]
    },
    {
      "cell_type": "markdown",
      "metadata": {},
      "source": [
        "Read the parquet to ensure that everything went well with the writing and reading and we are not going to have any confusions to the next steps."
      ]
    },
    {
      "cell_type": "code",
      "execution_count": 91,
      "metadata": {
        "id": "TOeN9EUWXeCu"
      },
      "outputs": [],
      "source": [
        "DF = spark.read.format(\"parquet\") \\\n",
        "    .load(google_drive_path + \"ar_properties_processed.parquet\")"
      ]
    },
    {
      "cell_type": "code",
      "execution_count": 92,
      "metadata": {
        "colab": {
          "base_uri": "https://localhost:8080/"
        },
        "id": "sAzUAgu101PN",
        "outputId": "9bf3279a-2727-4e76-9bb5-56b1ee2206ef"
      },
      "outputs": [
        {
          "data": {
            "text/plain": [
              "259910"
            ]
          },
          "execution_count": 92,
          "metadata": {},
          "output_type": "execute_result"
        }
      ],
      "source": [
        "DF.count()"
      ]
    }
  ],
  "metadata": {
    "colab": {
      "provenance": [],
      "toc_visible": true
    },
    "kernelspec": {
      "display_name": "Python 3",
      "name": "python3"
    },
    "language_info": {
      "codemirror_mode": {
        "name": "ipython",
        "version": 3
      },
      "file_extension": ".py",
      "mimetype": "text/x-python",
      "name": "python",
      "nbconvert_exporter": "python",
      "pygments_lexer": "ipython3",
      "version": "3.11.5"
    }
  },
  "nbformat": 4,
  "nbformat_minor": 0
}
