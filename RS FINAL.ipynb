{
  "cells": [
    {
      "cell_type": "markdown",
      "metadata": {
        "id": "TM1yOexQ2-VD"
      },
      "source": [
        "# **Recommendation Systems**"
      ]
    },
    {
      "cell_type": "markdown",
      "metadata": {},
      "source": [
        "In this part, we are going to implement a Recommendation System for properties for sale in Argentina. Based on a property id, the system is going to recommend 10 other properties that are similar, based on cosine similarity, to the specified property."
      ]
    },
    {
      "cell_type": "code",
      "execution_count": 1,
      "metadata": {
        "colab": {
          "base_uri": "https://localhost:8080/"
        },
        "id": "vd7xHm-K3XDD",
        "outputId": "ee00a1ea-c97c-44d6-9562-4407c3d6b653"
      },
      "outputs": [
        {
          "name": "stdout",
          "output_type": "stream",
          "text": [
            "Requirement already satisfied: pyspark in /usr/local/lib/python3.10/dist-packages (3.5.1)\n",
            "Requirement already satisfied: seaborn in /usr/local/lib/python3.10/dist-packages (0.13.1)\n",
            "Requirement already satisfied: py4j==0.10.9.7 in /usr/local/lib/python3.10/dist-packages (from pyspark) (0.10.9.7)\n",
            "Requirement already satisfied: numpy!=1.24.0,>=1.20 in /usr/local/lib/python3.10/dist-packages (from seaborn) (1.25.2)\n",
            "Requirement already satisfied: pandas>=1.2 in /usr/local/lib/python3.10/dist-packages (from seaborn) (2.0.3)\n",
            "Requirement already satisfied: matplotlib!=3.6.1,>=3.4 in /usr/local/lib/python3.10/dist-packages (from seaborn) (3.7.1)\n",
            "Requirement already satisfied: contourpy>=1.0.1 in /usr/local/lib/python3.10/dist-packages (from matplotlib!=3.6.1,>=3.4->seaborn) (1.2.1)\n",
            "Requirement already satisfied: cycler>=0.10 in /usr/local/lib/python3.10/dist-packages (from matplotlib!=3.6.1,>=3.4->seaborn) (0.12.1)\n",
            "Requirement already satisfied: fonttools>=4.22.0 in /usr/local/lib/python3.10/dist-packages (from matplotlib!=3.6.1,>=3.4->seaborn) (4.51.0)\n",
            "Requirement already satisfied: kiwisolver>=1.0.1 in /usr/local/lib/python3.10/dist-packages (from matplotlib!=3.6.1,>=3.4->seaborn) (1.4.5)\n",
            "Requirement already satisfied: packaging>=20.0 in /usr/local/lib/python3.10/dist-packages (from matplotlib!=3.6.1,>=3.4->seaborn) (24.0)\n",
            "Requirement already satisfied: pillow>=6.2.0 in /usr/local/lib/python3.10/dist-packages (from matplotlib!=3.6.1,>=3.4->seaborn) (9.4.0)\n",
            "Requirement already satisfied: pyparsing>=2.3.1 in /usr/local/lib/python3.10/dist-packages (from matplotlib!=3.6.1,>=3.4->seaborn) (3.1.2)\n",
            "Requirement already satisfied: python-dateutil>=2.7 in /usr/local/lib/python3.10/dist-packages (from matplotlib!=3.6.1,>=3.4->seaborn) (2.8.2)\n",
            "Requirement already satisfied: pytz>=2020.1 in /usr/local/lib/python3.10/dist-packages (from pandas>=1.2->seaborn) (2023.4)\n",
            "Requirement already satisfied: tzdata>=2022.1 in /usr/local/lib/python3.10/dist-packages (from pandas>=1.2->seaborn) (2024.1)\n",
            "Requirement already satisfied: six>=1.5 in /usr/local/lib/python3.10/dist-packages (from python-dateutil>=2.7->matplotlib!=3.6.1,>=3.4->seaborn) (1.16.0)\n"
          ]
        }
      ],
      "source": [
        "! pip install pyspark seaborn"
      ]
    },
    {
      "cell_type": "code",
      "execution_count": 4,
      "metadata": {
        "id": "BS3r30a029uV"
      },
      "outputs": [],
      "source": [
        "# libraries\n",
        "\n",
        "import sklearn\n",
        "import pandas as pd\n",
        "from pyspark.sql.functions import *\n",
        "from pyspark.sql import SparkSession\n",
        "from pyspark.sql.types import *\n",
        "from scipy.spatial.distance import cosine\n",
        "from pyspark.ml.feature import Normalizer\n",
        "from pyspark.ml.feature import VectorAssembler\n",
        "from pyspark.ml.feature import StandardScaler\n",
        "from pyspark.sql.window import Window"
      ]
    },
    {
      "cell_type": "code",
      "execution_count": 2,
      "metadata": {
        "colab": {
          "base_uri": "https://localhost:8080/"
        },
        "id": "SnU8mtyL3Ml5",
        "outputId": "68d8b20f-7fd9-40ab-a057-932f50e1655f"
      },
      "outputs": [
        {
          "name": "stdout",
          "output_type": "stream",
          "text": [
            "Drive already mounted at /content/gdrive; to attempt to forcibly remount, call drive.mount(\"/content/gdrive\", force_remount=True).\n"
          ]
        }
      ],
      "source": [
        "from google.colab import drive\n",
        "drive.mount('/content/gdrive')\n",
        "google_drive_path = \"/content/gdrive/MyDrive/Colab Notebooks/Project/\""
      ]
    },
    {
      "cell_type": "code",
      "execution_count": 5,
      "metadata": {
        "id": "PpoImQxB3OLG"
      },
      "outputs": [],
      "source": [
        "# we've configured the Spark session to handle large datasets with high memory and parallelism settings\n",
        "spark = SparkSession.builder.appName(\"Project511_RS\").master(\"local[*]\") \\\n",
        "          .config(\"spark.driver.memory\", \"10g\") \\\n",
        "          .config(\"spark.executor.memory\", \"10g\") \\\n",
        "          .config(\"spark.driver.maxResultSize\", \"2g\") \\\n",
        "          .config(\"spark.sql.shuffle.partitions\", \"200\") \\\n",
        "          .config(\"spark.default.parallelism\", \"100\") \\\n",
        "          .getOrCreate()"
      ]
    },
    {
      "cell_type": "markdown",
      "metadata": {
        "id": "-vuJZcod3Ffo"
      },
      "source": [
        "# Read Datasets"
      ]
    },
    {
      "cell_type": "markdown",
      "metadata": {},
      "source": [
        "We are going to load two versions of your dataset: one with numeric representations (for similarity calculations) and another with human-readable property characteristics (for presenting recommendations)."
      ]
    },
    {
      "cell_type": "markdown",
      "metadata": {},
      "source": [
        "Read the latest version of our sale df with all the preprocessing or other manipulation we did to the data."
      ]
    },
    {
      "cell_type": "code",
      "execution_count": 6,
      "metadata": {
        "id": "kXAuW_iy3QDX"
      },
      "outputs": [],
      "source": [
        "sale_df = spark.read.format(\"parquet\").load(google_drive_path + \"sale_ml.parquet\")"
      ]
    },
    {
      "cell_type": "code",
      "execution_count": 7,
      "metadata": {
        "colab": {
          "base_uri": "https://localhost:8080/"
        },
        "id": "JpKunXBB3QBR",
        "outputId": "9cb20d07-227f-41b6-c28e-078600fce889"
      },
      "outputs": [
        {
          "name": "stdout",
          "output_type": "stream",
          "text": [
            "root\n",
            " |-- final_features: vector (nullable = true)\n",
            " |-- price_bucket: double (nullable = true)\n",
            " |-- start_year: integer (nullable = true)\n",
            " |-- end_year: integer (nullable = true)\n",
            " |-- is_active: integer (nullable = true)\n",
            " |-- l3_one_hot: vector (nullable = true)\n",
            " |-- l2_one_hot: vector (nullable = true)\n",
            " |-- property_one_hot: vector (nullable = true)\n",
            " |-- encoded_start_month: vector (nullable = true)\n",
            " |-- encoded_end_month: vector (nullable = true)\n",
            " |-- encoded_start_day_of_week: vector (nullable = true)\n",
            " |-- encoded_end_day_of_week: vector (nullable = true)\n",
            " |-- geo_cluster: integer (nullable = true)\n",
            " |-- rooms_scaled: double (nullable = true)\n",
            " |-- bedrooms_scaled: double (nullable = true)\n",
            " |-- bathrooms_scaled: double (nullable = true)\n",
            " |-- surface_total_scaled: double (nullable = true)\n",
            " |-- surface_covered_scaled: double (nullable = true)\n",
            "\n"
          ]
        }
      ],
      "source": [
        "sale_df.printSchema()"
      ]
    },
    {
      "cell_type": "markdown",
      "metadata": {
        "id": "4rMvS2lRYgO2"
      },
      "source": [
        "This df (sale_df) does not have the description of the properties in textual representation, but only in numeric representation, which we converted in the Text Analytics file, so we are going to read the processed df without any encoded or scaled feature, but only the actual - readable characteristics of the properties. Both datasets have the same rows and data in the same order, but in order to give the description of the property when we recommending other properties, we are going to merge the two datasets on the id column that we will create afterwards."
      ]
    },
    {
      "cell_type": "code",
      "execution_count": 23,
      "metadata": {
        "id": "7rZUkjKjYeAe"
      },
      "outputs": [],
      "source": [
        "df = spark.read.format(\"parquet\").load(google_drive_path + \"ar_properties_processed.parquet\")"
      ]
    },
    {
      "cell_type": "markdown",
      "metadata": {
        "id": "jCzNfEpYvW_C"
      },
      "source": [
        "This is the dataset with the descriptions and all the info not encoded."
      ]
    },
    {
      "cell_type": "code",
      "execution_count": 24,
      "metadata": {
        "colab": {
          "base_uri": "https://localhost:8080/"
        },
        "id": "aSeHjwNium4i",
        "outputId": "a68318dc-eda4-4e19-e980-ea120219bc3e"
      },
      "outputs": [
        {
          "name": "stdout",
          "output_type": "stream",
          "text": [
            "+----------+----------+--------------------+-------+-----+--------+---------+-------------+---------------+--------------------+--------------------+-------------+--------------+--------------------+-----------------+\n",
            "|start_date|  end_date|                  l2|     l3|rooms|bedrooms|bathrooms|surface_total|surface_covered|               title|         description|property_type|operation_type|         coordinates|   amount_in_euro|\n",
            "+----------+----------+--------------------+-------+-----+--------+---------+-------------+---------------+--------------------+--------------------+-------------+--------------+--------------------+-----------------+\n",
            "|2020-11-02|2020-11-16|Bs.As. G.B.A. Zon...|  Tigre|    2|       2|        1|        550.0|          267.0|Venta lote Las Ti...|Lote interno en z...|          Lot|          Sale|[-34.406894683837...|         154700.0|\n",
            "|2020-11-02|9999-12-31|            Santa Fe| Alvear|    2|       2|        1|       438.17|         347.07|Vendo lote de 268...|<b>Vendo lote de ...|          Lot|          Sale|[-33.054500579833...|          24115.0|\n",
            "|2020-11-02|9999-12-31|            Santa Fe| Alvear|    2|       2|        1|       438.17|         347.07|Terreno en oportu...|<b>Terreno en opo...|          Lot|          Sale|[-33.054500579833...|          24115.0|\n",
            "|2020-11-02|9999-12-31|            Santa Fe| Alvear|    2|       2|        1|       438.17|         347.07|Barrio abierto Ec...|<b>Barrio abierto...|          Lot|          Sale|[-33.054500579833...|          18200.0|\n",
            "|2020-11-02|2021-01-22|Buenos Aires Inte...|  Luján|    2|       2|        1|       438.17|         347.07|Terreno Lote  en ...|Lotes en Venta\\n\\...|          Lot|          Sale|[-34.544052124023...|          21021.0|\n",
            "|2020-11-02|2021-01-22|Buenos Aires Inte...|  Luján|    2|       2|        1|       438.17|         347.07|Terreno Lote  en ...|Lotes en Venta\\n\\...|          Lot|          Sale|[-34.544052124023...|          20839.0|\n",
            "|2020-11-02|2021-01-22|Buenos Aires Inte...|  Luján|    2|       2|        1|       438.17|         347.07|Terreno Lote  en ...|Lotes en Venta\\n\\...|          Lot|          Sale|[-34.544052124023...|          46410.0|\n",
            "|2020-11-02|2021-01-22|Buenos Aires Inte...|  Luján|    2|       2|        1|       438.17|         347.07|Terreno Lote  en ...|Lotes en Venta\\n\\...|          Lot|          Sale|[-34.544052124023...|          21567.0|\n",
            "|2020-11-02|2021-01-22|Buenos Aires Inte...|  Luján|    2|       2|        1|       438.17|         347.07|Terreno Lote  en ...|Lotes en Venta\\n\\...|          Lot|          Sale|[-34.544052124023...|          47320.0|\n",
            "|2020-11-02|2021-01-22|Buenos Aires Inte...|  Luján|    2|       2|        1|       438.17|         347.07|Terreno Lote  en ...|Lotes en Venta\\n\\...|          Lot|          Sale|[-34.544052124023...|          21749.0|\n",
            "|2020-11-02|2021-01-22|Buenos Aires Inte...|  Luján|    2|       2|        1|       438.17|         347.07|Terreno Lote  en ...|Lotes en Venta\\n\\...|          Lot|          Sale|[-34.544052124023...|          20475.0|\n",
            "|2020-11-02|2021-01-22|Buenos Aires Inte...|  Luján|    2|       2|        1|       438.17|         347.07|Terreno Lote  en ...|Lotes en Venta\\n\\...|          Lot|          Sale|[-34.544052124023...|          20748.0|\n",
            "|2020-11-02|2021-01-22|Buenos Aires Inte...|  Luján|    2|       2|        1|       438.17|         347.07|Terreno Lote  en ...|Lotes en Venta\\n\\...|          Lot|          Sale|[-34.544052124023...|          21840.0|\n",
            "|2020-11-02|2021-01-22|Buenos Aires Inte...|  Luján|    2|       2|        1|       438.17|         347.07|Terreno Lote  en ...|Lotes en Venta\\n\\...|          Lot|          Sale|[-34.544052124023...|          45500.0|\n",
            "|2020-11-02|2021-01-22|Buenos Aires Inte...|  Luján|    2|       2|        1|       438.17|         347.07|Terreno Lote  en ...|Lotes en Venta\\n\\...|          Lot|          Sale|[-34.544052124023...|          21931.0|\n",
            "|2020-11-02|2021-01-22|Buenos Aires Inte...|  Luján|    2|       2|        1|       438.17|         347.07|Terreno Lote  en ...|Lotes en Venta\\n\\...|          Lot|          Sale|[-34.544052124023...|          20384.0|\n",
            "|2020-11-02|2021-01-22|Buenos Aires Inte...|  Luján|    2|       2|        1|       438.17|         347.07|Terreno Lote  en ...|Lotes en Venta\\n\\...|          Lot|          Sale|[-34.544052124023...|          21385.0|\n",
            "|2020-11-02|2020-11-16|Bs.As. G.B.A. Zon...|Escobar|    2|       2|        1|        600.0|          221.0|PUERTOS - BARRIO ...|LOTE PERIMETRAL H...|          Lot|          Sale|[-34.879692077636...|         73315.06|\n",
            "|2020-11-02|2020-11-16|Bs.As. G.B.A. Zon...|Escobar|    2|       2|        1|        600.0|          221.0|PUERTOS - BARRIO ...|PERIMETRALRIBERAS...|          Lot|          Sale|[-34.879692077636...|69791.54000000001|\n",
            "|2020-11-02|2020-12-09|Bs.As. G.B.A. Zon...|Escobar|    2|       2|        1|       438.17|         347.07|Terreno - San Seb...|Contacto: Carolin...|          Lot|          Sale|[-34.879692077636...|          13650.0|\n",
            "+----------+----------+--------------------+-------+-----+--------+---------+-------------+---------------+--------------------+--------------------+-------------+--------------+--------------------+-----------------+\n",
            "only showing top 20 rows\n",
            "\n"
          ]
        }
      ],
      "source": [
        "df.show()"
      ]
    },
    {
      "cell_type": "markdown",
      "metadata": {
        "id": "7JghEOsZvc8A"
      },
      "source": [
        "We are going to do some preprocessing in order to have the consistent version of it (we did some changes during the machine learning task)."
      ]
    },
    {
      "cell_type": "code",
      "execution_count": 25,
      "metadata": {
        "id": "YP2fi6AKsyJY"
      },
      "outputs": [],
      "source": [
        "df = df.filter(col(\"operation_type\") == \"Sale\")"
      ]
    },
    {
      "cell_type": "code",
      "execution_count": 26,
      "metadata": {
        "colab": {
          "base_uri": "https://localhost:8080/"
        },
        "id": "OCfxyizGujLh",
        "outputId": "fb2af680-0860-438a-f92c-21325d99105d"
      },
      "outputs": [
        {
          "data": {
            "text/plain": [
              "210341"
            ]
          },
          "execution_count": 26,
          "metadata": {},
          "output_type": "execute_result"
        }
      ],
      "source": [
        "df.count()"
      ]
    },
    {
      "cell_type": "code",
      "execution_count": 27,
      "metadata": {
        "id": "h5ETDKcQvGWc"
      },
      "outputs": [],
      "source": [
        "df = df.filter((col(\"amount_in_euro\") <= 9000000000) & (col(\"amount_in_euro\") > 11))"
      ]
    },
    {
      "cell_type": "code",
      "execution_count": 28,
      "metadata": {
        "colab": {
          "base_uri": "https://localhost:8080/"
        },
        "id": "C7QvIjtNvQZ6",
        "outputId": "d978b506-9c21-4960-9ed0-cc70bb7f4179"
      },
      "outputs": [
        {
          "data": {
            "text/plain": [
              "210339"
            ]
          },
          "execution_count": 28,
          "metadata": {},
          "output_type": "execute_result"
        }
      ],
      "source": [
        "df.count()"
      ]
    },
    {
      "cell_type": "markdown",
      "metadata": {
        "id": "QF5gVo2-vjWK"
      },
      "source": [
        "We are going to add the unique property id to both datasets using pyspark window function, in order to merge them later."
      ]
    },
    {
      "cell_type": "markdown",
      "metadata": {},
      "source": [
        "# Index"
      ]
    },
    {
      "cell_type": "markdown",
      "metadata": {},
      "source": [
        "## Readable Dataset"
      ]
    },
    {
      "cell_type": "code",
      "execution_count": 29,
      "metadata": {
        "id": "7f40HoChvpfr"
      },
      "outputs": [],
      "source": [
        "# add column called 'id' that contains row numbers from 1 to n\n",
        "w = Window().orderBy(lit('A'))\n",
        "df = df.withColumn('id', row_number().over(w))"
      ]
    },
    {
      "cell_type": "code",
      "execution_count": 30,
      "metadata": {
        "colab": {
          "base_uri": "https://localhost:8080/"
        },
        "id": "4Q67LfzMvztS",
        "outputId": "659e9f16-4265-4eea-c211-e6ffd75ec950"
      },
      "outputs": [
        {
          "name": "stdout",
          "output_type": "stream",
          "text": [
            "+----------+----------+--------------------+-------+-----+--------+---------+-------------+---------------+--------------------+--------------------+-------------+--------------+--------------------+-----------------+---+\n",
            "|start_date|  end_date|                  l2|     l3|rooms|bedrooms|bathrooms|surface_total|surface_covered|               title|         description|property_type|operation_type|         coordinates|   amount_in_euro| id|\n",
            "+----------+----------+--------------------+-------+-----+--------+---------+-------------+---------------+--------------------+--------------------+-------------+--------------+--------------------+-----------------+---+\n",
            "|2020-11-02|2020-11-16|Bs.As. G.B.A. Zon...|  Tigre|    2|       2|        1|        550.0|          267.0|Venta lote Las Ti...|Lote interno en z...|          Lot|          Sale|[-34.406894683837...|         154700.0|  1|\n",
            "|2020-11-02|9999-12-31|            Santa Fe| Alvear|    2|       2|        1|       438.17|         347.07|Vendo lote de 268...|<b>Vendo lote de ...|          Lot|          Sale|[-33.054500579833...|          24115.0|  2|\n",
            "|2020-11-02|9999-12-31|            Santa Fe| Alvear|    2|       2|        1|       438.17|         347.07|Terreno en oportu...|<b>Terreno en opo...|          Lot|          Sale|[-33.054500579833...|          24115.0|  3|\n",
            "|2020-11-02|9999-12-31|            Santa Fe| Alvear|    2|       2|        1|       438.17|         347.07|Barrio abierto Ec...|<b>Barrio abierto...|          Lot|          Sale|[-33.054500579833...|          18200.0|  4|\n",
            "|2020-11-02|2021-01-22|Buenos Aires Inte...|  Luján|    2|       2|        1|       438.17|         347.07|Terreno Lote  en ...|Lotes en Venta\\n\\...|          Lot|          Sale|[-34.544052124023...|          21021.0|  5|\n",
            "|2020-11-02|2021-01-22|Buenos Aires Inte...|  Luján|    2|       2|        1|       438.17|         347.07|Terreno Lote  en ...|Lotes en Venta\\n\\...|          Lot|          Sale|[-34.544052124023...|          20839.0|  6|\n",
            "|2020-11-02|2021-01-22|Buenos Aires Inte...|  Luján|    2|       2|        1|       438.17|         347.07|Terreno Lote  en ...|Lotes en Venta\\n\\...|          Lot|          Sale|[-34.544052124023...|          46410.0|  7|\n",
            "|2020-11-02|2021-01-22|Buenos Aires Inte...|  Luján|    2|       2|        1|       438.17|         347.07|Terreno Lote  en ...|Lotes en Venta\\n\\...|          Lot|          Sale|[-34.544052124023...|          21567.0|  8|\n",
            "|2020-11-02|2021-01-22|Buenos Aires Inte...|  Luján|    2|       2|        1|       438.17|         347.07|Terreno Lote  en ...|Lotes en Venta\\n\\...|          Lot|          Sale|[-34.544052124023...|          47320.0|  9|\n",
            "|2020-11-02|2021-01-22|Buenos Aires Inte...|  Luján|    2|       2|        1|       438.17|         347.07|Terreno Lote  en ...|Lotes en Venta\\n\\...|          Lot|          Sale|[-34.544052124023...|          21749.0| 10|\n",
            "|2020-11-02|2021-01-22|Buenos Aires Inte...|  Luján|    2|       2|        1|       438.17|         347.07|Terreno Lote  en ...|Lotes en Venta\\n\\...|          Lot|          Sale|[-34.544052124023...|          20475.0| 11|\n",
            "|2020-11-02|2021-01-22|Buenos Aires Inte...|  Luján|    2|       2|        1|       438.17|         347.07|Terreno Lote  en ...|Lotes en Venta\\n\\...|          Lot|          Sale|[-34.544052124023...|          20748.0| 12|\n",
            "|2020-11-02|2021-01-22|Buenos Aires Inte...|  Luján|    2|       2|        1|       438.17|         347.07|Terreno Lote  en ...|Lotes en Venta\\n\\...|          Lot|          Sale|[-34.544052124023...|          21840.0| 13|\n",
            "|2020-11-02|2021-01-22|Buenos Aires Inte...|  Luján|    2|       2|        1|       438.17|         347.07|Terreno Lote  en ...|Lotes en Venta\\n\\...|          Lot|          Sale|[-34.544052124023...|          45500.0| 14|\n",
            "|2020-11-02|2021-01-22|Buenos Aires Inte...|  Luján|    2|       2|        1|       438.17|         347.07|Terreno Lote  en ...|Lotes en Venta\\n\\...|          Lot|          Sale|[-34.544052124023...|          21931.0| 15|\n",
            "|2020-11-02|2021-01-22|Buenos Aires Inte...|  Luján|    2|       2|        1|       438.17|         347.07|Terreno Lote  en ...|Lotes en Venta\\n\\...|          Lot|          Sale|[-34.544052124023...|          20384.0| 16|\n",
            "|2020-11-02|2021-01-22|Buenos Aires Inte...|  Luján|    2|       2|        1|       438.17|         347.07|Terreno Lote  en ...|Lotes en Venta\\n\\...|          Lot|          Sale|[-34.544052124023...|          21385.0| 17|\n",
            "|2020-11-02|2020-11-16|Bs.As. G.B.A. Zon...|Escobar|    2|       2|        1|        600.0|          221.0|PUERTOS - BARRIO ...|LOTE PERIMETRAL H...|          Lot|          Sale|[-34.879692077636...|         73315.06| 18|\n",
            "|2020-11-02|2020-11-16|Bs.As. G.B.A. Zon...|Escobar|    2|       2|        1|        600.0|          221.0|PUERTOS - BARRIO ...|PERIMETRALRIBERAS...|          Lot|          Sale|[-34.879692077636...|69791.54000000001| 19|\n",
            "|2020-11-02|2020-12-09|Bs.As. G.B.A. Zon...|Escobar|    2|       2|        1|       438.17|         347.07|Terreno - San Seb...|Contacto: Carolin...|          Lot|          Sale|[-34.879692077636...|          13650.0| 20|\n",
            "+----------+----------+--------------------+-------+-----+--------+---------+-------------+---------------+--------------------+--------------------+-------------+--------------+--------------------+-----------------+---+\n",
            "only showing top 20 rows\n",
            "\n"
          ]
        }
      ],
      "source": [
        "df.show()"
      ]
    },
    {
      "cell_type": "markdown",
      "metadata": {
        "id": "-ef3cpjS7tS_"
      },
      "source": [
        "## Sale Dataset - Encoded"
      ]
    },
    {
      "cell_type": "code",
      "execution_count": 31,
      "metadata": {
        "id": "f0oL4SND7wGJ"
      },
      "outputs": [],
      "source": [
        "sale_df = sale_df.withColumn('id', row_number().over(w))"
      ]
    },
    {
      "cell_type": "code",
      "execution_count": 32,
      "metadata": {
        "colab": {
          "base_uri": "https://localhost:8080/"
        },
        "id": "6oMODhGO96ru",
        "outputId": "1ccd9990-89b5-45b0-8047-3bd71489e783"
      },
      "outputs": [
        {
          "name": "stdout",
          "output_type": "stream",
          "text": [
            "+--------------------+------------+----------+--------+---------+-------------+--------------+----------------+-------------------+-----------------+-------------------------+-----------------------+-----------+-------------------+--------------------+-------------------+--------------------+----------------------+---+\n",
            "|      final_features|price_bucket|start_year|end_year|is_active|   l3_one_hot|    l2_one_hot|property_one_hot|encoded_start_month|encoded_end_month|encoded_start_day_of_week|encoded_end_day_of_week|geo_cluster|       rooms_scaled|     bedrooms_scaled|   bathrooms_scaled|surface_total_scaled|surface_covered_scaled| id|\n",
            "+--------------------+------------+----------+--------+---------+-------------+--------------+----------------+-------------------+-----------------+-------------------------+-----------------------+-----------+-------------------+--------------------+-------------------+--------------------+----------------------+---+\n",
            "|(17000,[0,1,2,3,6...|         4.0|      2020|    2020|        0|(4,[0],[1.0])|(27,[2],[1.0])|   (9,[0],[1.0])|     (11,[7],[1.0])|   (11,[7],[1.0])|            (6,[0],[1.0])|          (6,[4],[1.0])|          3|0.10256410256410256| 0.05714285714285714|0.10526315789473684|3.293617918167629...|  2.677461332502974...|  1|\n",
            "|(17000,[0,1,3,4,5...|         0.0|      2020|    2021|        1|(4,[1],[1.0])|(27,[0],[1.0])|   (9,[0],[1.0])|     (11,[7],[1.0])|   (11,[0],[1.0])|            (6,[1],[1.0])|          (6,[0],[1.0])|          1|0.02564102564102564|0.014285714285714285|                0.0|3.293617918167629...|  2.677461332502974...|  2|\n",
            "|(17000,[0,1,3,4,5...|         2.0|      2020|    2021|        1|(4,[0],[1.0])|(27,[1],[1.0])|   (9,[0],[1.0])|     (11,[8],[1.0])|   (11,[0],[1.0])|            (6,[3],[1.0])|          (6,[0],[1.0])|          3|0.02564102564102564|0.014285714285714285|                0.0|3.293617918167629...|  2.677461332502974...|  3|\n",
            "|(17000,[0,2,3,6,7...|         1.0|      2020|    2021|        1|(4,[2],[1.0])|(27,[4],[1.0])|   (9,[0],[1.0])|     (11,[5],[1.0])|   (11,[0],[1.0])|            (6,[0],[1.0])|          (6,[0],[1.0])|          6|0.05128205128205128|0.014285714285714285|                0.0|3.293617918167629...|  2.677461332502974...|  4|\n",
            "|(17000,[0,1,2,3,4...|         2.0|      2020|    2021|        1|(4,[0],[1.0])|(27,[5],[1.0])|   (9,[2],[1.0])|     (11,[9],[1.0])|   (11,[0],[1.0])|            (6,[4],[1.0])|          (6,[0],[1.0])|          3|0.05128205128205128| 0.02857142857142857|                0.0|6.707697467459591E-6|  6.384614893491162E-6|  5|\n",
            "|(17000,[0,1,2,3,7...|         4.0|      2020|    2021|        1|(4,[0],[1.0])|(27,[3],[1.0])|   (9,[2],[1.0])|     (11,[9],[1.0])|   (11,[0],[1.0])|            (6,[4],[1.0])|          (6,[0],[1.0])|          3|0.07692307692307693| 0.02857142857142857|0.05263157894736842|3.293617918167629...|  2.677461332502974...|  6|\n",
            "|(17000,[0,3,4,9,1...|         2.0|      2020|    2021|        1|(4,[0],[1.0])|(27,[4],[1.0])|   (9,[2],[1.0])|     (11,[8],[1.0])|   (11,[0],[1.0])|            (6,[0],[1.0])|          (6,[0],[1.0])|          6|0.05128205128205128| 0.02857142857142857|                0.0|9.215391704147466E-6|   9.30769159171603E-6|  7|\n",
            "|(17000,[1,2,3,4,5...|         2.0|      2020|    2021|        0|(4,[0],[1.0])|(27,[1],[1.0])|   (9,[0],[1.0])|     (11,[4],[1.0])|   (11,[2],[1.0])|            (6,[2],[1.0])|          (6,[3],[1.0])|          3|0.02564102564102564|0.014285714285714285|                0.0|2.538463491125762...|  3.384615124260375E-6|  8|\n",
            "|(17000,[0,1,2,3,4...|         0.0|      2020|    2021|        1|(4,[0],[1.0])|(27,[0],[1.0])|   (9,[2],[1.0])|     (11,[7],[1.0])|   (11,[0],[1.0])|            (6,[2],[1.0])|          (6,[0],[1.0])|          1|0.05128205128205128|0.014285714285714285|                0.0|2.692309763315202...|   3.53846126627221E-6|  9|\n",
            "|(17000,[0,1,2,3,4...|         2.0|      2020|    2021|        1|(4,[0],[1.0])|(27,[5],[1.0])|   (9,[2],[1.0])|     (11,[5],[1.0])|   (11,[0],[1.0])|            (6,[1],[1.0])|          (6,[0],[1.0])|          3|0.05128205128205128| 0.02857142857142857|0.05263157894736842|3.293617918167629...|  2.677461332502974...| 10|\n",
            "|(17000,[2,15,32,6...|         1.0|      2020|    2021|        1|(4,[0],[1.0])|(27,[3],[1.0])|   (9,[3],[1.0])|     (11,[8],[1.0])|   (11,[0],[1.0])|            (6,[4],[1.0])|          (6,[0],[1.0])|          3|0.02564102564102564| 0.02857142857142857|                0.0|4.538465029588485E-5|  1.707692176331370...| 11|\n",
            "|(17000,[0,2,4,9,2...|         4.0|      2020|    2020|        0|(4,[3],[1.0])|(27,[2],[1.0])|   (9,[2],[1.0])|     (11,[8],[1.0])|   (11,[9],[1.0])|            (6,[5],[1.0])|          (6,[0],[1.0])|          3|0.05128205128205128| 0.02857142857142857|                0.0|3.293617918167629...|  2.677461332502974...| 12|\n",
            "|(17000,[0,1,3,4,5...|         4.0|      2020|    2021|        1|(4,[0],[1.0])|(27,[1],[1.0])|   (9,[4],[1.0])|     (11,[8],[1.0])|   (11,[0],[1.0])|            (6,[3],[1.0])|          (6,[0],[1.0])|          3|0.07692307692307693| 0.02857142857142857|0.05263157894736842|1.230770177515521...|  8.538460881656854E-6| 13|\n",
            "|(17000,[1,2,3,6,1...|         1.0|      2020|    2020|        0|(4,[0],[1.0])|(27,[2],[1.0])|   (9,[0],[1.0])|     (11,[5],[1.0])|   (11,[7],[1.0])|            (6,[0],[1.0])|          (6,[4],[1.0])|          3|                0.0|0.014285714285714285|                0.0|3.293617918167629...|  2.677461332502974...| 14|\n",
            "|(17000,[0,1,2,3,8...|         3.0|      2020|    2020|        0|(4,[0],[1.0])|(27,[2],[1.0])|   (9,[2],[1.0])|     (11,[6],[1.0])|   (11,[8],[1.0])|            (6,[5],[1.0])|          (6,[5],[1.0])|          3|0.05128205128205128| 0.02857142857142857|0.05263157894736842|3.293617918167629...|  2.677461332502974...| 15|\n",
            "|(17000,[3,5,9,10,...|         3.0|      2020|    2021|        1|(4,[0],[1.0])|(27,[0],[1.0])|   (9,[2],[1.0])|     (11,[4],[1.0])|   (11,[0],[1.0])|                (6,[],[])|          (6,[0],[1.0])|          1| 0.1282051282051282| 0.04285714285714286|0.05263157894736842|3.293617918167629...|  2.677461332502974...| 16|\n",
            "|(17000,[2,16,17,3...|         0.0|      2020|    2020|        0|(4,[2],[1.0])|(27,[4],[1.0])|   (9,[7],[1.0])|     (11,[2],[1.0])|   (11,[3],[1.0])|            (6,[0],[1.0])|          (6,[4],[1.0])|          6|0.02564102564102564| 0.02857142857142857|                0.0|3.293617918167629...|  2.677461332502974...| 17|\n",
            "|(17000,[2,4,15,16...|         2.0|      2020|    2020|        0|(4,[0],[1.0])|(27,[1],[1.0])|   (9,[3],[1.0])|     (11,[6],[1.0])|   (11,[8],[1.0])|            (6,[0],[1.0])|          (6,[0],[1.0])|          3|                0.0|                 0.0|                0.0|3.293617918167629...|  2.677461332502974...| 18|\n",
            "|(17000,[2,15,32,3...|         1.0|      2020|    2020|        0|(4,[0],[1.0])|(27,[2],[1.0])|   (9,[3],[1.0])|     (11,[6],[1.0])|   (11,[8],[1.0])|            (6,[4],[1.0])|          (6,[1],[1.0])|          3|                0.0|                 0.0|                0.0|3.293617918167629...|  2.677461332502974...| 19|\n",
            "|(17000,[0,1,2,3,4...|         3.0|      2020|    2021|        0|(4,[2],[1.0])|(27,[4],[1.0])|   (9,[0],[1.0])|     (11,[8],[1.0])|   (11,[6],[1.0])|            (6,[1],[1.0])|          (6,[2],[1.0])|          6|0.02564102564102564|0.014285714285714285|                0.0|4.769234437872645E-6|  4.692307331360974...| 20|\n",
            "+--------------------+------------+----------+--------+---------+-------------+--------------+----------------+-------------------+-----------------+-------------------------+-----------------------+-----------+-------------------+--------------------+-------------------+--------------------+----------------------+---+\n",
            "only showing top 20 rows\n",
            "\n"
          ]
        }
      ],
      "source": [
        "sale_df.show()"
      ]
    },
    {
      "cell_type": "code",
      "execution_count": 33,
      "metadata": {
        "id": "-L6zKX6t-F2S"
      },
      "outputs": [],
      "source": [
        "# reorder the features in order to have id first\n",
        "sale_df = sale_df.select(\"id\", \"final_features\", \"start_year\", \"end_year\", \"is_active\", \"l3_one_hot\", \"l2_one_hot\", \"property_one_hot\", \\\n",
        "               \"encoded_start_month\", \"encoded_end_month\", \"encoded_start_day_of_week\",  \"encoded_end_day_of_week\", \"geo_cluster\", \"rooms_scaled\",\n",
        "               \"bedrooms_scaled\", \"bathrooms_scaled\", \"surface_total_scaled\", \"surface_covered_scaled\", \"price_bucket\")"
      ]
    },
    {
      "cell_type": "code",
      "execution_count": 34,
      "metadata": {
        "colab": {
          "base_uri": "https://localhost:8080/"
        },
        "id": "POV_TJNC-0eZ",
        "outputId": "befd9cb2-6f6c-4c48-ac84-d8461c97b468"
      },
      "outputs": [
        {
          "name": "stdout",
          "output_type": "stream",
          "text": [
            "+---+--------------------+----------+--------+---------+-------------+--------------+----------------+-------------------+-----------------+-------------------------+-----------------------+-----------+-------------------+--------------------+-------------------+--------------------+----------------------+------------+\n",
            "| id|      final_features|start_year|end_year|is_active|   l3_one_hot|    l2_one_hot|property_one_hot|encoded_start_month|encoded_end_month|encoded_start_day_of_week|encoded_end_day_of_week|geo_cluster|       rooms_scaled|     bedrooms_scaled|   bathrooms_scaled|surface_total_scaled|surface_covered_scaled|price_bucket|\n",
            "+---+--------------------+----------+--------+---------+-------------+--------------+----------------+-------------------+-----------------+-------------------------+-----------------------+-----------+-------------------+--------------------+-------------------+--------------------+----------------------+------------+\n",
            "|  1|(17000,[0,1,2,3,6...|      2020|    2020|        0|(4,[0],[1.0])|(27,[2],[1.0])|   (9,[0],[1.0])|     (11,[7],[1.0])|   (11,[7],[1.0])|            (6,[0],[1.0])|          (6,[4],[1.0])|          3|0.10256410256410256| 0.05714285714285714|0.10526315789473684|3.293617918167629...|  2.677461332502974...|         4.0|\n",
            "|  2|(17000,[0,1,3,4,5...|      2020|    2021|        1|(4,[1],[1.0])|(27,[0],[1.0])|   (9,[0],[1.0])|     (11,[7],[1.0])|   (11,[0],[1.0])|            (6,[1],[1.0])|          (6,[0],[1.0])|          1|0.02564102564102564|0.014285714285714285|                0.0|3.293617918167629...|  2.677461332502974...|         0.0|\n",
            "|  3|(17000,[0,1,3,4,5...|      2020|    2021|        1|(4,[0],[1.0])|(27,[1],[1.0])|   (9,[0],[1.0])|     (11,[8],[1.0])|   (11,[0],[1.0])|            (6,[3],[1.0])|          (6,[0],[1.0])|          3|0.02564102564102564|0.014285714285714285|                0.0|3.293617918167629...|  2.677461332502974...|         2.0|\n",
            "|  4|(17000,[0,2,3,6,7...|      2020|    2021|        1|(4,[2],[1.0])|(27,[4],[1.0])|   (9,[0],[1.0])|     (11,[5],[1.0])|   (11,[0],[1.0])|            (6,[0],[1.0])|          (6,[0],[1.0])|          6|0.05128205128205128|0.014285714285714285|                0.0|3.293617918167629...|  2.677461332502974...|         1.0|\n",
            "|  5|(17000,[0,1,2,3,4...|      2020|    2021|        1|(4,[0],[1.0])|(27,[5],[1.0])|   (9,[2],[1.0])|     (11,[9],[1.0])|   (11,[0],[1.0])|            (6,[4],[1.0])|          (6,[0],[1.0])|          3|0.05128205128205128| 0.02857142857142857|                0.0|6.707697467459591E-6|  6.384614893491162E-6|         2.0|\n",
            "|  6|(17000,[0,1,2,3,7...|      2020|    2021|        1|(4,[0],[1.0])|(27,[3],[1.0])|   (9,[2],[1.0])|     (11,[9],[1.0])|   (11,[0],[1.0])|            (6,[4],[1.0])|          (6,[0],[1.0])|          3|0.07692307692307693| 0.02857142857142857|0.05263157894736842|3.293617918167629...|  2.677461332502974...|         4.0|\n",
            "|  7|(17000,[0,3,4,9,1...|      2020|    2021|        1|(4,[0],[1.0])|(27,[4],[1.0])|   (9,[2],[1.0])|     (11,[8],[1.0])|   (11,[0],[1.0])|            (6,[0],[1.0])|          (6,[0],[1.0])|          6|0.05128205128205128| 0.02857142857142857|                0.0|9.215391704147466E-6|   9.30769159171603E-6|         2.0|\n",
            "|  8|(17000,[1,2,3,4,5...|      2020|    2021|        0|(4,[0],[1.0])|(27,[1],[1.0])|   (9,[0],[1.0])|     (11,[4],[1.0])|   (11,[2],[1.0])|            (6,[2],[1.0])|          (6,[3],[1.0])|          3|0.02564102564102564|0.014285714285714285|                0.0|2.538463491125762...|  3.384615124260375E-6|         2.0|\n",
            "|  9|(17000,[0,1,2,3,4...|      2020|    2021|        1|(4,[0],[1.0])|(27,[0],[1.0])|   (9,[2],[1.0])|     (11,[7],[1.0])|   (11,[0],[1.0])|            (6,[2],[1.0])|          (6,[0],[1.0])|          1|0.05128205128205128|0.014285714285714285|                0.0|2.692309763315202...|   3.53846126627221E-6|         0.0|\n",
            "| 10|(17000,[0,1,2,3,4...|      2020|    2021|        1|(4,[0],[1.0])|(27,[5],[1.0])|   (9,[2],[1.0])|     (11,[5],[1.0])|   (11,[0],[1.0])|            (6,[1],[1.0])|          (6,[0],[1.0])|          3|0.05128205128205128| 0.02857142857142857|0.05263157894736842|3.293617918167629...|  2.677461332502974...|         2.0|\n",
            "| 11|(17000,[2,15,32,6...|      2020|    2021|        1|(4,[0],[1.0])|(27,[3],[1.0])|   (9,[3],[1.0])|     (11,[8],[1.0])|   (11,[0],[1.0])|            (6,[4],[1.0])|          (6,[0],[1.0])|          3|0.02564102564102564| 0.02857142857142857|                0.0|4.538465029588485E-5|  1.707692176331370...|         1.0|\n",
            "| 12|(17000,[0,2,4,9,2...|      2020|    2020|        0|(4,[3],[1.0])|(27,[2],[1.0])|   (9,[2],[1.0])|     (11,[8],[1.0])|   (11,[9],[1.0])|            (6,[5],[1.0])|          (6,[0],[1.0])|          3|0.05128205128205128| 0.02857142857142857|                0.0|3.293617918167629...|  2.677461332502974...|         4.0|\n",
            "| 13|(17000,[0,1,3,4,5...|      2020|    2021|        1|(4,[0],[1.0])|(27,[1],[1.0])|   (9,[4],[1.0])|     (11,[8],[1.0])|   (11,[0],[1.0])|            (6,[3],[1.0])|          (6,[0],[1.0])|          3|0.07692307692307693| 0.02857142857142857|0.05263157894736842|1.230770177515521...|  8.538460881656854E-6|         4.0|\n",
            "| 14|(17000,[1,2,3,6,1...|      2020|    2020|        0|(4,[0],[1.0])|(27,[2],[1.0])|   (9,[0],[1.0])|     (11,[5],[1.0])|   (11,[7],[1.0])|            (6,[0],[1.0])|          (6,[4],[1.0])|          3|                0.0|0.014285714285714285|                0.0|3.293617918167629...|  2.677461332502974...|         1.0|\n",
            "| 15|(17000,[0,1,2,3,8...|      2020|    2020|        0|(4,[0],[1.0])|(27,[2],[1.0])|   (9,[2],[1.0])|     (11,[6],[1.0])|   (11,[8],[1.0])|            (6,[5],[1.0])|          (6,[5],[1.0])|          3|0.05128205128205128| 0.02857142857142857|0.05263157894736842|3.293617918167629...|  2.677461332502974...|         3.0|\n",
            "| 16|(17000,[3,5,9,10,...|      2020|    2021|        1|(4,[0],[1.0])|(27,[0],[1.0])|   (9,[2],[1.0])|     (11,[4],[1.0])|   (11,[0],[1.0])|                (6,[],[])|          (6,[0],[1.0])|          1| 0.1282051282051282| 0.04285714285714286|0.05263157894736842|3.293617918167629...|  2.677461332502974...|         3.0|\n",
            "| 17|(17000,[2,16,17,3...|      2020|    2020|        0|(4,[2],[1.0])|(27,[4],[1.0])|   (9,[7],[1.0])|     (11,[2],[1.0])|   (11,[3],[1.0])|            (6,[0],[1.0])|          (6,[4],[1.0])|          6|0.02564102564102564| 0.02857142857142857|                0.0|3.293617918167629...|  2.677461332502974...|         0.0|\n",
            "| 18|(17000,[2,4,15,16...|      2020|    2020|        0|(4,[0],[1.0])|(27,[1],[1.0])|   (9,[3],[1.0])|     (11,[6],[1.0])|   (11,[8],[1.0])|            (6,[0],[1.0])|          (6,[0],[1.0])|          3|                0.0|                 0.0|                0.0|3.293617918167629...|  2.677461332502974...|         2.0|\n",
            "| 19|(17000,[2,15,32,3...|      2020|    2020|        0|(4,[0],[1.0])|(27,[2],[1.0])|   (9,[3],[1.0])|     (11,[6],[1.0])|   (11,[8],[1.0])|            (6,[4],[1.0])|          (6,[1],[1.0])|          3|                0.0|                 0.0|                0.0|3.293617918167629...|  2.677461332502974...|         1.0|\n",
            "| 20|(17000,[0,1,2,3,4...|      2020|    2021|        0|(4,[2],[1.0])|(27,[4],[1.0])|   (9,[0],[1.0])|     (11,[8],[1.0])|   (11,[6],[1.0])|            (6,[1],[1.0])|          (6,[2],[1.0])|          6|0.02564102564102564|0.014285714285714285|                0.0|4.769234437872645E-6|  4.692307331360974...|         3.0|\n",
            "+---+--------------------+----------+--------+---------+-------------+--------------+----------------+-------------------+-----------------+-------------------------+-----------------------+-----------+-------------------+--------------------+-------------------+--------------------+----------------------+------------+\n",
            "only showing top 20 rows\n",
            "\n"
          ]
        }
      ],
      "source": [
        "sale_df.show()"
      ]
    },
    {
      "cell_type": "code",
      "execution_count": 35,
      "metadata": {
        "colab": {
          "base_uri": "https://localhost:8080/"
        },
        "id": "yeHYQTdDCDkE",
        "outputId": "1aceca22-e888-46b2-bf1c-666f8a569f7f"
      },
      "outputs": [
        {
          "data": {
            "text/plain": [
              "210339"
            ]
          },
          "execution_count": 35,
          "metadata": {},
          "output_type": "execute_result"
        }
      ],
      "source": [
        "sale_df.count()"
      ]
    },
    {
      "cell_type": "markdown",
      "metadata": {
        "id": "EO5Nrg938DOr"
      },
      "source": [
        "# Scale final_features"
      ]
    },
    {
      "cell_type": "markdown",
      "metadata": {
        "id": "BuKyiImo8Lj1"
      },
      "source": [
        "Final_features are the numeric representation of each property's description so we have to scale them. This is necessary as different features can have varying ranges and scaling them helps in normalizing these differences. \n",
        "\n",
        "This step prepares the dataset for more effective similarity calculations by ensuring that all features contribute equally, improving the quality of recommendations in the recommendation system."
      ]
    },
    {
      "cell_type": "code",
      "execution_count": 36,
      "metadata": {
        "id": "fmClxmEZ8B5s"
      },
      "outputs": [],
      "source": [
        "# Scaling 'final_features' to ensure they have a mean of 0 and a standard deviation of 1.\n",
        "scaler = StandardScaler(inputCol=\"final_features\", outputCol=\"scaled_final_features\", withStd=True, withMean=True)\n",
        "\n",
        "scalerModel = scaler.fit(sale_df) # fit the scaler model on the sale df to compute the mean and standard deviation of each feature\n",
        "\n",
        "sale_df = scalerModel.transform(sale_df) # transform the sale df\n"
      ]
    },
    {
      "cell_type": "code",
      "execution_count": 37,
      "metadata": {
        "id": "J04kUPjo80i_"
      },
      "outputs": [],
      "source": [
        "# drop the original 'final_features' column as it is no longer needed after scaling\n",
        "sale_df = sale_df.drop(\"final_features\")"
      ]
    },
    {
      "cell_type": "markdown",
      "metadata": {
        "id": "7QsioCVg7ZWh"
      },
      "source": [
        "# Feature Vector Construction"
      ]
    },
    {
      "cell_type": "markdown",
      "metadata": {
        "id": "WnEMLdBE7c2h"
      },
      "source": [
        "The goal of constructing a feature vector is to combine all relevant features into a single vector that represents each property. This vector is then utilized for calculating similarities between properties in the recommendation system.\n",
        "\n",
        "This process is vital for ensuring that the properties are represented in a way that enhances the effectiveness and accuracy of the recommendation system, leveraging both numerical and categorical data to identify the most similar properties based on a variety of characteristics."
      ]
    },
    {
      "cell_type": "code",
      "execution_count": 38,
      "metadata": {
        "id": "4S47asS83P-q"
      },
      "outputs": [],
      "source": [
        "# list with both scaled numeric features and categorical features that have been one-hot encoded\n",
        "feature_columns = [\n",
        "    'scaled_final_features', 'price_bucket', 'l3_one_hot', 'l2_one_hot', 'property_one_hot',\n",
        "    'encoded_start_month', 'encoded_end_month', 'encoded_start_day_of_week', 'encoded_end_day_of_week',\n",
        "    'rooms_scaled', 'bedrooms_scaled', 'bathrooms_scaled', 'surface_total_scaled', 'surface_covered_scaled'\n",
        "]\n",
        "\n",
        "# VectorAssembler is a transformer that combines a given list of columns into a single vector column\n",
        "assembler = VectorAssembler(inputCols=feature_columns, outputCol=\"features\")\n",
        "sale_df = assembler.transform(sale_df) # trasform df"
      ]
    },
    {
      "cell_type": "markdown",
      "metadata": {},
      "source": [
        "# Sample"
      ]
    },
    {
      "cell_type": "markdown",
      "metadata": {},
      "source": [
        "Unfortunately, due to constraints in computational resources and to ensure the system remains performant, we decided to proceed with only 10% of the full dataset. \n",
        "\n",
        ":(\n",
        "\n",
        "Fortunately, as we will see later on, the results weren't that disappointing.\n",
        "\n",
        ":)"
      ]
    },
    {
      "cell_type": "code",
      "execution_count": 39,
      "metadata": {
        "id": "9QZDXxvWYWxi"
      },
      "outputs": [],
      "source": [
        "sale_df = sale_df.sample(fraction=0.1, seed=1234)"
      ]
    },
    {
      "cell_type": "code",
      "execution_count": 40,
      "metadata": {
        "colab": {
          "base_uri": "https://localhost:8080/"
        },
        "id": "jfjdclMfmxib",
        "outputId": "af0696f5-6bad-403e-b0a8-7555697e42d0"
      },
      "outputs": [
        {
          "name": "stdout",
          "output_type": "stream",
          "text": [
            "+---+\n",
            "| id|\n",
            "+---+\n",
            "| 31|\n",
            "| 36|\n",
            "| 38|\n",
            "| 47|\n",
            "| 51|\n",
            "| 55|\n",
            "| 61|\n",
            "| 63|\n",
            "| 88|\n",
            "| 89|\n",
            "| 93|\n",
            "| 98|\n",
            "|121|\n",
            "|132|\n",
            "|134|\n",
            "|142|\n",
            "|143|\n",
            "|165|\n",
            "|171|\n",
            "|174|\n",
            "+---+\n",
            "only showing top 20 rows\n",
            "\n"
          ]
        }
      ],
      "source": [
        "sale_df.select(\"id\").show()"
      ]
    },
    {
      "cell_type": "markdown",
      "metadata": {},
      "source": [
        "**Example:** \n",
        "\n",
        "For demonstration purposes, we select an example property from the sampled dataset. Recommendations for this property will showcase how the system can identify and suggest similar properties based on the learned features."
      ]
    },
    {
      "cell_type": "code",
      "execution_count": 41,
      "metadata": {
        "id": "L-5Eu__zz2rf"
      },
      "outputs": [],
      "source": [
        "property_id = sale_df.first()[\"id\"]"
      ]
    },
    {
      "cell_type": "code",
      "execution_count": 42,
      "metadata": {
        "colab": {
          "base_uri": "https://localhost:8080/"
        },
        "id": "Hmau3_eU1BYh",
        "outputId": "3d5425e1-65ab-4af7-c653-de0e73031d65"
      },
      "outputs": [
        {
          "data": {
            "text/plain": [
              "31"
            ]
          },
          "execution_count": 42,
          "metadata": {},
          "output_type": "execute_result"
        }
      ],
      "source": [
        "property_id"
      ]
    },
    {
      "cell_type": "markdown",
      "metadata": {},
      "source": [
        "# Normalization"
      ]
    },
    {
      "cell_type": "markdown",
      "metadata": {
        "id": "e41HlT2LYP0B"
      },
      "source": [
        "We have to ensure that our feature vectors are normalized. This simplifies the cosine similarity to just a dot product since cosine similarity between two normalized vectors A and B is just their dot product. This simplifies and speeds up the computation significantly."
      ]
    },
    {
      "cell_type": "code",
      "execution_count": 43,
      "metadata": {
        "id": "elzpk96RYPXW"
      },
      "outputs": [],
      "source": [
        "# initialize the Normalizer which will be used to normalize the feature vectors\n",
        "normalizer = Normalizer(inputCol=\"features\", outputCol=\"normFeatures\")\n",
        "sale_df = normalizer.transform(sale_df) # transform sale df\n"
      ]
    },
    {
      "cell_type": "code",
      "execution_count": 44,
      "metadata": {
        "colab": {
          "base_uri": "https://localhost:8080/"
        },
        "id": "Afn56UX-arkm",
        "outputId": "16213940-fdfc-446a-d9c9-10a78726429f"
      },
      "outputs": [
        {
          "data": {
            "text/plain": [
              "DataFrame[id: int, start_year: int, end_year: int, is_active: int, l3_one_hot: vector, l2_one_hot: vector, property_one_hot: vector, encoded_start_month: vector, encoded_end_month: vector, encoded_start_day_of_week: vector, encoded_end_day_of_week: vector, geo_cluster: int, rooms_scaled: double, bedrooms_scaled: double, bathrooms_scaled: double, surface_total_scaled: double, surface_covered_scaled: double, price_bucket: double, scaled_final_features: vector, features: vector, normFeatures: vector]"
            ]
          },
          "execution_count": 44,
          "metadata": {},
          "output_type": "execute_result"
        }
      ],
      "source": [
        "#  caching the df to optimize performance as it will be accessed multiple times during the recommendation process\n",
        "sale_df.cache()"
      ]
    },
    {
      "cell_type": "code",
      "execution_count": 45,
      "metadata": {
        "id": "Cyzijglurqho"
      },
      "outputs": [],
      "source": [
        "# repartitioning the df by 'id' to optimize the layout of data across the cluster, improving the efficiency of the query operations that follow\n",
        "sale_df = sale_df.repartition(50, \"id\")"
      ]
    },
    {
      "cell_type": "markdown",
      "metadata": {
        "id": "HtBlcofwAfhi"
      },
      "source": [
        "# Similarity-Based Recommender"
      ]
    },
    {
      "cell_type": "markdown",
      "metadata": {
        "id": "9WIieVRJA_SV"
      },
      "source": [
        "Since we are not dealing with user interactions but rather with item similarity, traditional collaborative filtering techniques like ALS (Alternating Least Squares) may not be suitable. Instead, we can focus on content-based filtering using the feature vectors we've constructed. By focusing on content-based filtering, the system can make precise recommendations based on detailed property features.\n"
      ]
    },
    {
      "cell_type": "code",
      "execution_count": 46,
      "metadata": {
        "id": "Sfm6uVBS3P5-"
      },
      "outputs": [],
      "source": [
        "# UDF for calculating cosine similarity between two feature vectors\n",
        "def cosine_similarity(x, y):\n",
        "    return float(1 - cosine(np.array(x), np.array(y))) # convert vectors to numpy arrays and compute the cosine similarity\n"
      ]
    },
    {
      "cell_type": "code",
      "execution_count": 47,
      "metadata": {
        "id": "ximLbncW3P3a"
      },
      "outputs": [],
      "source": [
        "# udf\n",
        "cosine_similarity_udf = udf(cosine_similarity, FloatType())"
      ]
    },
    {
      "cell_type": "markdown",
      "metadata": {
        "id": "YEr2IHSkpnkG"
      },
      "source": [
        "Function to recommend properties based on similarity of feature vectors"
      ]
    },
    {
      "cell_type": "code",
      "execution_count": 48,
      "metadata": {
        "id": "O2oWT3pyAnHc"
      },
      "outputs": [],
      "source": [
        "def recommend_properties(property_id, num_recommendations=10):\n",
        "    try:\n",
        "        # retrieve the feature vector for the specified property\n",
        "        target_feature_vector = sale_df.filter(col(\"id\") == property_id).select(\"features\").first()\n",
        "        if target_feature_vector is None:\n",
        "            return f\"No property found with ID {property_id}\"\n",
        "\n",
        "        # convert the sparse vector to a numpy array for similarity computation\n",
        "        target_feature_vector = target_feature_vector[\"features\"].toArray()\n",
        "\n",
        "        # broadcast the target feature vector to all nodes to minimize data transfer during similarity calculations\n",
        "        broadcast_vector = spark.sparkContext.broadcast(target_feature_vector)\n",
        "\n",
        "        # calculate the similarity of the broadcasted vector with all properties' feature vectors\n",
        "        similarities = sale_df.withColumn(\"similarity\", cosine_similarity_udf(col(\"features\"), lit(broadcast_vector.value)))\n",
        "\n",
        "        # get the top properties ordered by their similarity scores, excluding the property itself\n",
        "        recommendations = similarities.orderBy(\"similarity\", ascending=False).limit(num_recommendations + 1)\n",
        "        recommendations = recommendations.filter(col(\"id\") != property_id)\n",
        "\n",
        "        return recommendations.select(\"id\", \"similarity\")\n",
        "    \n",
        "    # handle exceptions\n",
        "    except Exception as e:\n",
        "        return f\"An error occurred: {str(e)}\"\n"
      ]
    },
    {
      "cell_type": "code",
      "execution_count": 49,
      "metadata": {
        "id": "W6Sz-TX88N_U"
      },
      "outputs": [],
      "source": [
        "recommended_properties = recommend_properties(property_id).cache()"
      ]
    },
    {
      "cell_type": "code",
      "execution_count": 50,
      "metadata": {
        "colab": {
          "base_uri": "https://localhost:8080/"
        },
        "id": "vHwuarIdX8lx",
        "outputId": "220b5aaf-31af-418d-aa90-9f7a03762b40"
      },
      "outputs": [
        {
          "name": "stdout",
          "output_type": "stream",
          "text": [
            "+------+----------+\n",
            "|    id|similarity|\n",
            "+------+----------+\n",
            "| 23616|0.74673873|\n",
            "| 19007| 0.7411356|\n",
            "| 15503|   0.72375|\n",
            "| 87674| 0.7216825|\n",
            "|120358| 0.6843912|\n",
            "|103114| 0.6728982|\n",
            "|  4956| 0.6450466|\n",
            "| 19967| 0.6422261|\n",
            "|107779|0.63657355|\n",
            "| 38311| 0.6215914|\n",
            "+------+----------+\n",
            "\n"
          ]
        }
      ],
      "source": [
        "recommended_properties.show()"
      ]
    },
    {
      "cell_type": "markdown",
      "metadata": {},
      "source": [
        "As we can observe, the scores of the recommended properties are quite high, meaning that the recommendation system, can efficiently suggest similar properties, compared to the specified one. In a real case scenario, such similarity metrics can help users discover properties that match their preferences or needs closely. "
      ]
    },
    {
      "cell_type": "markdown",
      "metadata": {
        "id": "-OtAR608xtWw"
      },
      "source": [
        "# Merge Datasets"
      ]
    },
    {
      "cell_type": "markdown",
      "metadata": {},
      "source": [
        "We merge the two datasets, in order to get a detailed description in a readable representation for each recommended property."
      ]
    },
    {
      "cell_type": "code",
      "execution_count": 51,
      "metadata": {
        "id": "KF9QRXkIq1qT"
      },
      "outputs": [],
      "source": [
        "merged_df = recommended_properties.join(df, \"id\")"
      ]
    },
    {
      "cell_type": "code",
      "execution_count": 52,
      "metadata": {
        "colab": {
          "base_uri": "https://localhost:8080/"
        },
        "id": "6FfNr-qUzQpO",
        "outputId": "19fdd787-f5ef-4a27-9b85-6b2d51a24282"
      },
      "outputs": [
        {
          "name": "stdout",
          "output_type": "stream",
          "text": [
            "+------+----------+----------+----------+--------------------+------------------+-----+--------+---------+-------------+---------------+--------------------+--------------------+-------------+--------------+--------------------+--------------+\n",
            "|    id|similarity|start_date|  end_date|                  l2|                l3|rooms|bedrooms|bathrooms|surface_total|surface_covered|               title|         description|property_type|operation_type|         coordinates|amount_in_euro|\n",
            "+------+----------+----------+----------+--------------------+------------------+-----+--------+---------+-------------+---------------+--------------------+--------------------+-------------+--------------+--------------------+--------------+\n",
            "|  4956| 0.6450466|2020-09-12|2020-11-30|     Capital Federal|          Saavedra|    2|       1|        1|       438.17|         347.07|Excelente 2 amb c...|Departamento de 2...|    Apartment|          Sale|[-34.879692077636...|       97370.0|\n",
            "| 15503|   0.72375|2020-11-10|9999-12-31|            Santa Fe|           Rosario|    3|       3|        2|        102.0|           77.0|DEL PARQUE VENDE ...|Departamento inte...|    Apartment|          Sale|[-32.967166900634...|       78260.0|\n",
            "| 19007| 0.7411356|2020-08-07|2020-09-23|Bs.As. G.B.A. Zon...|        La Matanza|    1|       0|        1|         28.0|           28.0|Sarrachaga Al  60...|INMEJORABLE UBICA...|    Apartment|          Sale|[-34.699954986572...|       40950.0|\n",
            "| 19967| 0.6422261|2020-10-25|2020-10-29|Buenos Aires Inte...|General Pueyrredón|    2|       1|        1|         65.0|           30.0|Departamento - Pl...|LIVING COMEDOR CO...|    Apartment|          Sale|[-34.879692077636...|       78169.0|\n",
            "| 23616|0.74673873|2020-09-16|2021-01-21|     Capital Federal|         San Telmo|    2|       1|        1|         39.2|           37.0|Departamento - Sa...|Hall de entrada: ...|    Apartment|          Sale|[-34.621509552001...|       61880.0|\n",
            "| 38311| 0.6215914|2020-07-07|9999-12-31|Bs.As. G.B.A. Zon...|        La Matanza|    2|       2|        1|        480.0|           33.0|Cervantes  2000 -...|OPORTUNIDAD ÚNICA...|    Apartment|          Sale|[-34.655902862548...|       59150.0|\n",
            "| 87674| 0.7216825|2020-05-11|2020-05-27|     Capital Federal|         Mataderos|    2|       2|        1|       438.17|         347.07|Sandwicheria, Pas...|CODIGO: 114-714l ...|        Other|          Sale|[-34.660522460937...|       50600.0|\n",
            "|103114| 0.6728982|2020-06-22|2020-06-27|     Capital Federal|           Almagro|    1|       0|        1|         36.0|           33.0|Departamento de 1...|1 AMBIENTE DE POC...|    Apartment|          Sale|[-34.603042602539...|       90160.0|\n",
            "|107779|0.63657355|2020-04-03|2020-04-04|Bs.As. G.B.A. Zon...|             Morón|    4|       2|        3|       438.17|         347.07|Chalet PH en vent...|Venta de chalet e...|        Other|          Sale|[-34.645938873291...|      211600.0|\n",
            "|120358| 0.6843912|2020-01-13|2020-01-21|Bs.As. G.B.A. Zon...|Esteban Echeverría|    2|       2|        1|        262.0|          218.0|VENTA GALPON C/ O...|Corredor Responsa...|    Warehouse|          Sale|[-34.795253753662...|       90160.0|\n",
            "+------+----------+----------+----------+--------------------+------------------+-----+--------+---------+-------------+---------------+--------------------+--------------------+-------------+--------------+--------------------+--------------+\n",
            "\n"
          ]
        }
      ],
      "source": [
        "merged_df.show()"
      ]
    },
    {
      "cell_type": "markdown",
      "metadata": {
        "id": "r_gZNgm0WpT2"
      },
      "source": [
        "Recommendation Score: It confirms that the system can identify properties similar to a given reference, validated by similarity scores.\n",
        "\n",
        "Information Richness: The extensive details accompanying each recommendation enhance transparency and trust, enabling users to understand why these properties were suggested.\n"
      ]
    },
    {
      "cell_type": "markdown",
      "metadata": {},
      "source": [
        "Additionally, we tried to implement a recommendation system, which first clustered the properties with KMeans algorith, providing this way \"ground truth\". In this way, we could make our calculations both on train and test set and evaluate our recommendations. However we had several complications when evalutating on test set, so we decided to leave out from our submissions, this particular jupyter file."
      ]
    }
  ],
  "metadata": {
    "colab": {
      "provenance": []
    },
    "kernelspec": {
      "display_name": "Python 3",
      "name": "python3"
    },
    "language_info": {
      "name": "python"
    }
  },
  "nbformat": 4,
  "nbformat_minor": 0
}
