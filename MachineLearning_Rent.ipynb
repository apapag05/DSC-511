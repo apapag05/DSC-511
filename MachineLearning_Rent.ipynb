{
  "cells": [
    {
      "cell_type": "markdown",
      "metadata": {
        "id": "TJS6NP4RR8UL"
      },
      "source": [
        "\n",
        "# Classification Problem: Rent"
      ]
    },
    {
      "cell_type": "code",
      "execution_count": 19,
      "metadata": {
        "colab": {
          "base_uri": "https://localhost:8080/"
        },
        "id": "5VPSSzNLTVNX",
        "outputId": "873f784b-6c48-43b1-db43-66c54d4e77ac"
      },
      "outputs": [
        {
          "output_type": "stream",
          "name": "stdout",
          "text": [
            "Requirement already satisfied: pyspark in /usr/local/lib/python3.10/dist-packages (3.5.1)\n",
            "Requirement already satisfied: seaborn in /usr/local/lib/python3.10/dist-packages (0.13.1)\n",
            "Requirement already satisfied: py4j==0.10.9.7 in /usr/local/lib/python3.10/dist-packages (from pyspark) (0.10.9.7)\n",
            "Requirement already satisfied: numpy!=1.24.0,>=1.20 in /usr/local/lib/python3.10/dist-packages (from seaborn) (1.25.2)\n",
            "Requirement already satisfied: pandas>=1.2 in /usr/local/lib/python3.10/dist-packages (from seaborn) (2.0.3)\n",
            "Requirement already satisfied: matplotlib!=3.6.1,>=3.4 in /usr/local/lib/python3.10/dist-packages (from seaborn) (3.7.1)\n",
            "Requirement already satisfied: contourpy>=1.0.1 in /usr/local/lib/python3.10/dist-packages (from matplotlib!=3.6.1,>=3.4->seaborn) (1.2.1)\n",
            "Requirement already satisfied: cycler>=0.10 in /usr/local/lib/python3.10/dist-packages (from matplotlib!=3.6.1,>=3.4->seaborn) (0.12.1)\n",
            "Requirement already satisfied: fonttools>=4.22.0 in /usr/local/lib/python3.10/dist-packages (from matplotlib!=3.6.1,>=3.4->seaborn) (4.51.0)\n",
            "Requirement already satisfied: kiwisolver>=1.0.1 in /usr/local/lib/python3.10/dist-packages (from matplotlib!=3.6.1,>=3.4->seaborn) (1.4.5)\n",
            "Requirement already satisfied: packaging>=20.0 in /usr/local/lib/python3.10/dist-packages (from matplotlib!=3.6.1,>=3.4->seaborn) (24.0)\n",
            "Requirement already satisfied: pillow>=6.2.0 in /usr/local/lib/python3.10/dist-packages (from matplotlib!=3.6.1,>=3.4->seaborn) (9.4.0)\n",
            "Requirement already satisfied: pyparsing>=2.3.1 in /usr/local/lib/python3.10/dist-packages (from matplotlib!=3.6.1,>=3.4->seaborn) (3.1.2)\n",
            "Requirement already satisfied: python-dateutil>=2.7 in /usr/local/lib/python3.10/dist-packages (from matplotlib!=3.6.1,>=3.4->seaborn) (2.8.2)\n",
            "Requirement already satisfied: pytz>=2020.1 in /usr/local/lib/python3.10/dist-packages (from pandas>=1.2->seaborn) (2023.4)\n",
            "Requirement already satisfied: tzdata>=2022.1 in /usr/local/lib/python3.10/dist-packages (from pandas>=1.2->seaborn) (2024.1)\n",
            "Requirement already satisfied: six>=1.5 in /usr/local/lib/python3.10/dist-packages (from python-dateutil>=2.7->matplotlib!=3.6.1,>=3.4->seaborn) (1.16.0)\n"
          ]
        }
      ],
      "source": [
        "! pip install pyspark seaborn"
      ]
    },
    {
      "cell_type": "code",
      "execution_count": 20,
      "metadata": {
        "id": "VHzXF8efTXLp"
      },
      "outputs": [],
      "source": [
        "#libraries\n",
        "\n",
        "import pandas as pd\n",
        "from pyspark.sql import SparkSession\n",
        "from pyspark.sql.types import *\n",
        "from pyspark.sql.functions import *\n",
        "from pyspark.ml.feature import StringIndexer, OneHotEncoder, VectorAssembler, MinMaxScaler, PCA\n",
        "from pyspark.ml import Pipeline\n",
        "from pyspark.ml.clustering import KMeans\n",
        "from pyspark.ml.classification import LinearSVC, OneVsRest, DecisionTreeClassifier, RandomForestClassifier\n",
        "from pyspark.ml.evaluation import MulticlassClassificationEvaluator\n",
        "from pyspark.ml.tuning import CrossValidator, ParamGridBuilder\n",
        "import pyspark.sql.functions as F"
      ]
    },
    {
      "cell_type": "code",
      "execution_count": 21,
      "metadata": {
        "colab": {
          "base_uri": "https://localhost:8080/"
        },
        "id": "ZWnKYt9vTX0Q",
        "outputId": "9e28de9a-b198-4682-aa47-effcfc1b4734"
      },
      "outputs": [
        {
          "output_type": "stream",
          "name": "stdout",
          "text": [
            "Drive already mounted at /content/gdrive; to attempt to forcibly remount, call drive.mount(\"/content/gdrive\", force_remount=True).\n"
          ]
        }
      ],
      "source": [
        "from google.colab import drive\n",
        "drive.mount('/content/gdrive')\n",
        "google_drive_path = \"/content/gdrive/MyDrive/Colab Notebooks/Project/\""
      ]
    },
    {
      "cell_type": "code",
      "execution_count": 22,
      "metadata": {
        "id": "05ORUmgFTaYE"
      },
      "outputs": [],
      "source": [
        "spark = SparkSession.builder.appName(\"Project511_ML_RENT\").master(\"local[*]\").config(\"spark.driver.maxResultSize\", \"2g\").getOrCreate()"
      ]
    },
    {
      "cell_type": "markdown",
      "metadata": {
        "id": "cBj0ZFYWSEqa"
      },
      "source": [
        "# Read Dataset"
      ]
    },
    {
      "cell_type": "code",
      "execution_count": 23,
      "metadata": {
        "id": "jfjoZgTBSGmG"
      },
      "outputs": [],
      "source": [
        "#Read dataset which was preprocessed and the text was converted to numerical representation\n",
        "rent_df = spark.read.format(\"parquet\").load(google_drive_path + \"rent_tfidf.parquet\")"
      ]
    },
    {
      "cell_type": "code",
      "execution_count": 24,
      "metadata": {
        "colab": {
          "base_uri": "https://localhost:8080/"
        },
        "id": "tgfVfV4HU6xD",
        "outputId": "e0c7f39f-32fb-422b-a630-7c139b3f4185"
      },
      "outputs": [
        {
          "output_type": "stream",
          "name": "stdout",
          "text": [
            "+----------+----------+--------------------+------------------+-----+--------+---------+-------------+---------------+-------------+--------------+--------------------+------------------+--------------------+--------------------+--------------------+--------------------+--------------------+--------------------+--------------------+--------------------+--------------------+\n",
            "|start_date|  end_date|                  l2|                l3|rooms|bedrooms|bathrooms|surface_total|surface_covered|property_type|operation_type|         coordinates|    amount_in_euro|    full_description|      processed_text|             bigrams|            trigrams|   features_unigrams|    features_bigrams|   features_trigrams|            features|      final_features|\n",
            "+----------+----------+--------------------+------------------+-----+--------+---------+-------------+---------------+-------------+--------------+--------------------+------------------+--------------------+--------------------+--------------------+--------------------+--------------------+--------------------+--------------------+--------------------+--------------------+\n",
            "|2020-11-02|2020-11-16|     Capital Federal|           Palermo|    2|       2|        1|       2189.0|         1813.0|        Other|          Rent|[-34.581897735595...|           21385.0|Alquiler - El Sal...|[alquil, salvador...|[alquil salvador,...|[alquil salvador ...|(10000,[0,1,5,6,9...|(5000,[0,5,50,107...|(2000,[110,224,39...|(17000,[0,1,5,6,9...|(17000,[0,1,5,6,9...|\n",
            "|2020-11-02|9999-12-31|     Capital Federal|            Retiro|   10|       5|        9|       1500.0|         1500.0|       Office|          Rent|[-34.597373962402...|           27300.0|Torre Bellini | 3...|[torr, bellini, 3...|[torr bellini, be...|[torr bellini 3, ...|(10000,[0,5,6,9,1...|(5000,[5,6,36,81,...|(2000,[536,844,95...|(17000,[0,5,6,9,1...|(17000,[0,5,6,9,1...|\n",
            "|2020-11-02|9999-12-31|     Capital Federal|            Retiro|   14|      12|       12|       2000.0|         2000.0|       Office|          Rent|[-34.597373962402...|           38220.0|Torre Bellini | 4...|[torr, bellini, 4...|[torr bellini, be...|[torr bellini 4, ...|(10000,[0,5,6,9,1...|(5000,[5,6,36,81,...|(2000,[536,844,95...|(17000,[0,5,6,9,1...|(17000,[0,5,6,9,1...|\n",
            "|2020-11-02|2020-11-16|     Capital Federal|           Palermo|    3|       3|        2|        210.0|          210.0|       Office|          Rent|[-34.576053619384...|            3630.9|ORTIZ DE OCAMPO G...|[ortiz, ocamp, gr...|[ortiz ocamp, oca...|[ortiz ocamp gral...|(10000,[6,20,22,2...|(5000,[5,88,221,2...|(2000,[303,408],[...|(17000,[6,20,22,2...|(17000,[6,20,22,2...|\n",
            "|2020-11-02|2020-11-16|     Capital Federal|         Catalinas|    3|       3|        2|        432.0|          432.0|       Office|          Rent|[-34.595085144042...|           11793.6|TORRE BOSTON!!  O...|[torr, boston, of...|[torr boston, bos...|[torr boston ofic...|(10000,[0,1,4,5,6...|(5000,[5,6,143,18...|(2000,[1210,1334]...|(17000,[0,1,4,5,6...|(17000,[0,1,4,5,6...|\n",
            "|2020-11-02|9999-12-31|     Capital Federal|         Monserrat|    4|       2|        3|       1304.0|          590.0|       Office|          Rent|[-34.612655639648...|            6825.0|Muy buena oficina...|[buen, oficin, in...|[buen oficin, ofi...|[buen oficin incl...|(10000,[0,1,5,8,1...|(5000,[5,6,63,88,...|(2000,[303,372,84...|(17000,[0,1,5,8,1...|(17000,[0,1,5,8,1...|\n",
            "|2020-11-02|9999-12-31|Bs.As. G.B.A. Zon...|             Pilar|    2|       2|        1|       2100.0|         2000.0|    Warehouse|          Rent|[-34.413089752197...|            3640.0|Depósito 2.000m2 ...|[deposit, 2000m2,...|[deposit 2000m2, ...|[deposit 2000m2 p...|(10000,[1,6,18,19...|(5000,[915,1126,1...|        (2000,[],[])|(17000,[1,6,18,19...|(17000,[1,6,18,19...|\n",
            "|2020-11-02|2020-11-09|     Capital Federal|           Palermo|    3|       2|        1|         74.0|           64.0|    Apartment|          Rent|[-34.879692077636...|             455.0|Departamento - Pa...|[departament, pal...|[departament pale...|[departament pale...|(10000,[0,1,2,3,4...|(5000,[0,1,2,5,12...|(2000,[42,82,154,...|(17000,[0,1,2,3,4...|(17000,[0,1,2,3,4...|\n",
            "|2020-11-02|9999-12-31|     Capital Federal|     Puerto Madero|    3|       2|        3|        208.0|          200.0|    Apartment|          Rent|[-34.603286743164...|3919.3700000000003|MADERO CENTER El ...|[mader, cent, mej...|[mader cent, cent...|[mader cent mejor...|(10000,[5,11,20,2...|(5000,[101,143,21...|        (2000,[],[])|(17000,[5,11,20,2...|(17000,[5,11,20,2...|\n",
            "|2020-11-02|9999-12-31|     Capital Federal|     Puerto Madero|    3|       2|        3|        375.0|          250.0|    Apartment|          Rent|[-34.879692077636...|            7280.0|Penthouse en Torr...|[penthous, torr, ...|[penthous torr, t...|[penthous torr ya...|(10000,[1,2,3,5,6...|(5000,[1,12,25,19...|(2000,[99,635],[1...|(17000,[1,2,3,5,6...|(17000,[1,2,3,5,6...|\n",
            "|2020-11-02|2020-11-25|Bs.As. G.B.A. Zon...|           Escobar|    4|       3|        2|        466.2|          270.0|        House|          Rent|[-34.444469451904...|           10010.0|Casa - Villa Oliv...|[cas, vill, oliv,...|[cas vill, vill o...|[cas vill oliv, v...|(10000,[0,3,10,11...|(5000,[30,112,255...|  (2000,[543],[1.0])|(17000,[0,3,10,11...|(17000,[0,3,10,11...|\n",
            "|2020-11-02|2021-02-23|Buenos Aires Cost...|     Mar del Plata|    4|       3|        3|       438.17|         347.07|        House|          Rent|[-37.959014892578...|            3094.0|ALQUILER│CHALET│4...|[alquilerchalet4,...|[alquilerchalet4 ...|[alquilerchalet4 ...|(10000,[0,1,3,4,5...|(5000,[13,21,33,6...|(2000,[38,81,98,9...|(17000,[0,1,3,4,5...|(17000,[0,1,3,4,5...|\n",
            "|2020-11-02|2020-11-03|Bs.As. G.B.A. Zon...|             Tigre|    4|       3|        3|        330.0|          230.0|    Apartment|          Rent|[-34.879692077636...|            3731.0|ALQUILER YOO - To...|[alquil, yoo, tor...|[alquil yoo, yoo ...|[alquil yoo torr,...|(10000,[0,2,3,4,5...|(5000,[1,6,9,12,2...|(2000,[0,61,99,21...|(17000,[0,2,3,4,5...|(17000,[0,2,3,4,5...|\n",
            "|2020-11-02|9999-12-31|     Capital Federal|          Belgrano|    4|       3|        2|        172.0|          162.0|    Apartment|          Rent|[-34.553192138671...|            2275.0|Alquiler RETASADO...|[alquil, retas, t...|[alquil retas, re...|[alquil retas tor...|(10000,[0,3,6,11,...|(5000,[30,33,118,...| (2000,[1054],[1.0])|(17000,[0,3,6,11,...|(17000,[0,3,6,11,...|\n",
            "|2020-11-02|9999-12-31|     Capital Federal|          Recoleta|    4|       3|        3|        187.0|          187.0|    Apartment|          Rent|[-34.594257354736...|            2730.0|Talcahuano 1200 -...|[talcahuan, 1200,...|[talcahuan 1200, ...|[talcahuan 1200 r...|(10000,[1,3,4,5,6...|(5000,[0,1,5,12,2...|(2000,[43,49,210,...|(17000,[1,3,4,5,6...|(17000,[1,3,4,5,6...|\n",
            "|2020-11-02|9999-12-31|     Capital Federal|     Puerto Madero|    4|       3|        4|        233.0|          233.0|    Apartment|          Rent|[-34.879692077636...|            4095.0|ALQUILER TORRE EL...|[alquil, torr, fa...|[alquil torr, tor...|[alquil torr far,...|(10000,[0,1,2,3,4...|(5000,[0,5,6,11,2...|(2000,[62,123,173...|(17000,[0,1,2,3,4...|(17000,[0,1,2,3,4...|\n",
            "|2020-11-02|2020-11-03|     Capital Federal|           Palermo|    5|       4|        5|        280.0|          250.0|    Apartment|          Rent|[-34.879692077636...|            4095.0|Av. Cerviño 4500 ...|[av, cerviñ, 4500...|[av cerviñ, cervi...|[av cerviñ 4500, ...|(10000,[1,3,6,8,9...|(5000,[0,25,30,33...|(2000,[43,60,61,4...|(17000,[1,3,6,8,9...|(17000,[1,3,6,8,9...|\n",
            "|2020-11-02|9999-12-31|Bs.As. G.B.A. Zon...|             Tigre|    6|       5|        4|        600.0|          550.0|        House|          Rent|[-34.436244964599...|            5460.0|Espectacular casa...|[espectacul, cas,...|[espectacul cas, ...|[espectacul cas e...|(10000,[5,8,12,33...|(5000,[21,679,774...|        (2000,[],[])|(17000,[5,8,12,33...|(17000,[5,8,12,33...|\n",
            "|2020-11-02|9999-12-31|             Neuquén|Villa La Angostura|    6|       3|        3|       1000.0|          150.0|        House|          Rent|[-40.789234161376...|             291.2|Alquiler Turístic...|[alquil, turist, ...|[alquil turist, t...|[alquil turist ca...|(10000,[0,1,3,4,6...|(5000,[0,19,149,1...|(2000,[564,582],[...|(17000,[0,1,3,4,6...|(17000,[0,1,3,4,6...|\n",
            "|2020-11-02|9999-12-31|Bs.As. G.B.A. Zon...|             Pilar|    8|       5|        6|       1741.2|          600.0|        House|          Rent|[-34.879692077636...|            3640.0|Casa - La Lomada ...|[cas, lom, pil, e...|[cas lom, lom pil...|[cas lom pil, lom...|(10000,[0,2,4,6,8...|(5000,[16,21,74,1...|(2000,[82,515,517...|(17000,[0,2,4,6,8...|(17000,[0,2,4,6,8...|\n",
            "+----------+----------+--------------------+------------------+-----+--------+---------+-------------+---------------+-------------+--------------+--------------------+------------------+--------------------+--------------------+--------------------+--------------------+--------------------+--------------------+--------------------+--------------------+--------------------+\n",
            "only showing top 20 rows\n",
            "\n"
          ]
        }
      ],
      "source": [
        "rent_df.show()"
      ]
    },
    {
      "cell_type": "code",
      "execution_count": 25,
      "metadata": {
        "colab": {
          "base_uri": "https://localhost:8080/"
        },
        "id": "lo0Db34FVHxx",
        "outputId": "40ee8bd3-89fa-4911-8268-2f5828b03015"
      },
      "outputs": [
        {
          "output_type": "execute_result",
          "data": {
            "text/plain": [
              "49569"
            ]
          },
          "metadata": {},
          "execution_count": 25
        }
      ],
      "source": [
        "rent_df.count()"
      ]
    },
    {
      "cell_type": "markdown",
      "metadata": {
        "id": "zkDNceyI82he"
      },
      "source": [
        "We drop multiple columns created by the text analytics process and keep only the 'final_feature' column, which represents the numerical essence of the text data."
      ]
    },
    {
      "cell_type": "code",
      "execution_count": 26,
      "metadata": {
        "id": "mpnYImnuVSwW"
      },
      "outputs": [],
      "source": [
        "rent_df = rent_df.drop(\"full_description\", \"processed_text\", \"bigrams\", \"trigrams\", \"features_unigrams\", \"features_bigrams\", \"features_trigrams\", \"features\")"
      ]
    },
    {
      "cell_type": "markdown",
      "metadata": {
        "id": "mY59oQKXQw1c"
      },
      "source": [
        "# Create Buckets"
      ]
    },
    {
      "cell_type": "code",
      "execution_count": 27,
      "metadata": {
        "id": "XHC1NAn_QwSX"
      },
      "outputs": [],
      "source": [
        "# casting amount to euro to integer (round to the nearest integer)\n",
        "rent_df = rent_df.withColumn(\"amount_in_euro\", round(\"amount_in_euro\", 2))"
      ]
    },
    {
      "cell_type": "code",
      "execution_count": 28,
      "metadata": {
        "colab": {
          "base_uri": "https://localhost:8080/"
        },
        "id": "K8zxG1XEoD4a",
        "outputId": "899d5805-e9c1-46e7-9499-704396531c5f"
      },
      "outputs": [
        {
          "output_type": "stream",
          "name": "stdout",
          "text": [
            "+-------------------+-------------------+-------------------+\n",
            "|min(amount_in_euro)|max(amount_in_euro)|avg(amount_in_euro)|\n",
            "+-------------------+-------------------+-------------------+\n",
            "|               14.3|           210680.0| 1084.4188182130033|\n",
            "+-------------------+-------------------+-------------------+\n",
            "\n"
          ]
        }
      ],
      "source": [
        "rent_df.select(\"amount_in_euro\").agg(min(\"amount_in_euro\"), max(\"amount_in_euro\"), avg(\"amount_in_euro\")).show()"
      ]
    },
    {
      "cell_type": "markdown",
      "metadata": {
        "id": "3JDZsEH89POZ"
      },
      "source": [
        " We checked the range of our price values by calculating the minimum, maximum, and average values of the 'amount_in_euro', revealing a range from 14.3 to 210,680 euros, with an average of approximately 1084.42 euros. To better handle very high or low prices and make the data more suitable for analysis, we decided to take the logarithm of the price column."
      ]
    },
    {
      "cell_type": "code",
      "execution_count": 29,
      "metadata": {
        "id": "BAMn4oCDPI3f"
      },
      "outputs": [],
      "source": [
        "rent_df = rent_df.withColumn(\"log_price\", log(col(\"amount_in_euro\")))"
      ]
    },
    {
      "cell_type": "markdown",
      "source": [
        "After taking the logarithm, we divided the prices into several meaningful buckets based on their logarithmic values. Using the defined function 'define_price_bucket', we assigned each price into one of five buckets: prices up to 190 euros were categorized into bucket 0, those between 190 and 300 euros into bucket 1, those between 300 and 570 euros into bucket 2, those between 570 and 2000 euros into bucket 3, and any higher prices into bucket 4. This categorization allows for a more manageable representation of price ranges in our analysis, aiding in tasks such as visualization and modeling."
      ],
      "metadata": {
        "id": "Mhs4uwujgWsO"
      }
    },
    {
      "cell_type": "code",
      "execution_count": 30,
      "metadata": {
        "colab": {
          "base_uri": "https://localhost:8080/"
        },
        "id": "_Aj9f5wjNM34",
        "outputId": "e935532e-1d1f-42a2-9bf1-a9d4d21ec459"
      },
      "outputs": [
        {
          "output_type": "execute_result",
          "data": {
            "text/plain": [
              "13375"
            ]
          },
          "metadata": {},
          "execution_count": 30
        }
      ],
      "source": [
        "rent_df.filter(col(\"amount_in_euro\") <= 190).count()"
      ]
    },
    {
      "cell_type": "code",
      "execution_count": 31,
      "metadata": {
        "colab": {
          "base_uri": "https://localhost:8080/"
        },
        "id": "VsXSjXtfNaOD",
        "outputId": "302b0c7b-fdf8-4a52-987a-541be49a375e"
      },
      "outputs": [
        {
          "output_type": "execute_result",
          "data": {
            "text/plain": [
              "12251"
            ]
          },
          "metadata": {},
          "execution_count": 31
        }
      ],
      "source": [
        "rent_df.filter((col(\"amount_in_euro\") > 190) & (col(\"amount_in_euro\") <= 300)).count()"
      ]
    },
    {
      "cell_type": "code",
      "execution_count": 32,
      "metadata": {
        "colab": {
          "base_uri": "https://localhost:8080/"
        },
        "id": "9wvvJrxmNaLs",
        "outputId": "b199a973-cd94-4cc3-badd-4862a88621f8"
      },
      "outputs": [
        {
          "output_type": "execute_result",
          "data": {
            "text/plain": [
              "10476"
            ]
          },
          "metadata": {},
          "execution_count": 32
        }
      ],
      "source": [
        "rent_df.filter((col(\"amount_in_euro\") > 300) & (col(\"amount_in_euro\") <= 570)).count()"
      ]
    },
    {
      "cell_type": "code",
      "execution_count": 33,
      "metadata": {
        "colab": {
          "base_uri": "https://localhost:8080/"
        },
        "id": "6jVSVS6xNaH4",
        "outputId": "4e13d0fc-b45a-4725-d4c3-ba3d9b6fcb5b"
      },
      "outputs": [
        {
          "output_type": "execute_result",
          "data": {
            "text/plain": [
              "8495"
            ]
          },
          "metadata": {},
          "execution_count": 33
        }
      ],
      "source": [
        "rent_df.filter((col(\"amount_in_euro\") > 570) & (col(\"amount_in_euro\") <= 2000)).count()"
      ]
    },
    {
      "cell_type": "code",
      "execution_count": 34,
      "metadata": {
        "id": "U8jPM9BHPYEt"
      },
      "outputs": [],
      "source": [
        "from pyspark.sql.functions import when, col\n",
        "\n",
        "def define_price_bucket(amount):\n",
        "    return (when(col(amount) <= 190, 0)\n",
        "            .when((col(amount) > 190) & (col(amount) <= 300), 1)\n",
        "            .when((col(amount) > 300) & (col(amount) <= 570), 2)\n",
        "            .when((col(amount) > 570) & (col(amount) <= 2000), 3)\n",
        "            .otherwise(4))\n",
        "\n",
        "# Apply the function to create the 'price_bucket' column\n",
        "rent_df = rent_df.withColumn(\"price_bucket\", define_price_bucket(\"amount_in_euro\"))\n"
      ]
    },
    {
      "cell_type": "code",
      "source": [
        "rent_df.groupBy(\"price_bucket\").count().show() # displaying the buckets"
      ],
      "metadata": {
        "colab": {
          "base_uri": "https://localhost:8080/"
        },
        "id": "8boqY_hu8O2u",
        "outputId": "158d6aa1-073d-4319-f1a2-a530276e65c3"
      },
      "execution_count": 115,
      "outputs": [
        {
          "output_type": "stream",
          "name": "stdout",
          "text": [
            "+------------+-----+\n",
            "|price_bucket|count|\n",
            "+------------+-----+\n",
            "|           1|12251|\n",
            "|           3| 8495|\n",
            "|           4| 4972|\n",
            "|           2|10476|\n",
            "|           0|13375|\n",
            "+------------+-----+\n",
            "\n"
          ]
        }
      ]
    },
    {
      "cell_type": "code",
      "execution_count": 119,
      "metadata": {
        "colab": {
          "base_uri": "https://localhost:8080/",
          "height": 675
        },
        "id": "ATt3S4yvP6wB",
        "outputId": "6643e94a-1781-4669-8da2-6f5af55ce139"
      },
      "outputs": [
        {
          "output_type": "stream",
          "name": "stderr",
          "text": [
            "<ipython-input-119-08c6bbbe5108>:9: FutureWarning: \n",
            "\n",
            "Passing `palette` without assigning `hue` is deprecated and will be removed in v0.14.0. Assign the `x` variable to `hue` and set `legend=False` for the same effect.\n",
            "\n",
            "  sns.barplot(data=bucket_counts, x='price_bucket', y='count', palette=\"viridis\")\n"
          ]
        },
        {
          "output_type": "display_data",
          "data": {
            "text/plain": [
              "<Figure size 1000x600 with 1 Axes>"
            ],
            "image/png": "[encoded data removed]"
          },
          "metadata": {}
        }
      ],
      "source": [
        "import matplotlib.pyplot as plt\n",
        "import seaborn as sns\n",
        "\n",
        "# Convert to Pandas DataFrame for plotting\n",
        "bucket_counts = rent_df.groupBy(\"price_bucket\").count().toPandas()\n",
        "\n",
        "# Create a bar plot\n",
        "plt.figure(figsize=(10, 6))\n",
        "sns.barplot(data=bucket_counts, x='price_bucket', y='count', palette=\"viridis\")\n",
        "plt.title('Distribution of Price Buckets')\n",
        "plt.xlabel('Price Buckets')\n",
        "plt.ylabel('Count')\n",
        "plt.xticks()\n",
        "plt.show()\n"
      ]
    },
    {
      "cell_type": "markdown",
      "source": [
        "The bar plot displays the five price buckets we created. We can clearly see that the distribution across the columns is imbalanced, with the values of some groups being significantly higher than others. For example, Group 1 (represented as 0 in the plot) is almost double that of Group 5 (represented as 4 in the plot)."
      ],
      "metadata": {
        "id": "Xr4jIAGf9EeH"
      }
    },
    {
      "cell_type": "markdown",
      "metadata": {
        "id": "eeac-czb-Lsd"
      },
      "source": [
        "Moving forward, we grouped the dataset by the 'price_bucket'  columns and counts the occurrences of each combination. Afterward, it orders the results by 'price_bucket' and the count of occurrences in descending order for better readability. Finally, it displays the top 50 results showing the counts of each property type within each price buckets."
      ]
    },
    {
      "cell_type": "code",
      "execution_count": 37,
      "metadata": {
        "colab": {
          "base_uri": "https://localhost:8080/"
        },
        "id": "lKoPlj8iQGr2",
        "outputId": "7d4f221a-77e3-4ee8-f8df-33a8e649d4c7"
      },
      "outputs": [
        {
          "output_type": "stream",
          "name": "stdout",
          "text": [
            "+------------+----------------+-----+\n",
            "|price_bucket|   property_type|count|\n",
            "+------------+----------------+-----+\n",
            "|           4|       Apartment| 1097|\n",
            "|           4|           House| 1061|\n",
            "|           4|          Office| 1004|\n",
            "|           4|Commercial Space|  702|\n",
            "|           4|           Other|  674|\n",
            "|           4|       Warehouse|  319|\n",
            "|           4|             Lot|   70|\n",
            "|           4|          Garage|   26|\n",
            "|           4|          Duplex|   15|\n",
            "|           4|   Country House|    4|\n",
            "|           3|       Apartment| 2242|\n",
            "|           3|           House| 1701|\n",
            "|           3|           Other| 1537|\n",
            "|           3|Commercial Space| 1494|\n",
            "|           3|          Office|  892|\n",
            "|           3|       Warehouse|  355|\n",
            "|           3|          Duplex|  137|\n",
            "|           3|             Lot|  101|\n",
            "|           3|   Country House|   21|\n",
            "|           3|          Garage|   15|\n",
            "|           2|       Apartment| 5076|\n",
            "|           2|           House| 1561|\n",
            "|           2|Commercial Space| 1158|\n",
            "|           2|           Other| 1134|\n",
            "|           2|          Office|  903|\n",
            "|           2|          Duplex|  416|\n",
            "|           2|       Warehouse|  152|\n",
            "|           2|             Lot|   65|\n",
            "|           2|          Garage|    7|\n",
            "|           2|   Country House|    4|\n",
            "|           1|       Apartment| 8050|\n",
            "|           1|           House| 1106|\n",
            "|           1|Commercial Space|  883|\n",
            "|           1|           Other|  751|\n",
            "|           1|          Office|  697|\n",
            "|           1|          Duplex|  657|\n",
            "|           1|       Warehouse|   58|\n",
            "|           1|             Lot|   35|\n",
            "|           1|   Country House|    8|\n",
            "|           1|          Garage|    6|\n",
            "|           0|       Apartment| 8383|\n",
            "|           0|           Other| 1728|\n",
            "|           0|Commercial Space|  955|\n",
            "|           0|          Office|  809|\n",
            "|           0|           House|  710|\n",
            "|           0|          Duplex|  572|\n",
            "|           0|          Garage|  144|\n",
            "|           0|             Lot|   46|\n",
            "|           0|       Warehouse|   27|\n",
            "|           0|   Country House|    1|\n",
            "+------------+----------------+-----+\n",
            "\n"
          ]
        }
      ],
      "source": [
        "# Group by 'price_bucket' and 'property_type' and count occurrences\n",
        "type_bucket_counts = rent_df.groupBy(\"price_bucket\", \"property_type\").count()\n",
        "\n",
        "# Order by 'price_bucket' for better readability\n",
        "type_bucket_counts = type_bucket_counts.orderBy(\"price_bucket\", \"count\", ascending=False)\n",
        "\n",
        "# Show the results\n",
        "type_bucket_counts.show(50)"
      ]
    },
    {
      "cell_type": "code",
      "execution_count": 38,
      "metadata": {
        "colab": {
          "base_uri": "https://localhost:8080/",
          "height": 506
        },
        "id": "39frp6TzQMeH",
        "outputId": "577b9ad9-0bd5-4c01-adbb-f25c582eeb82"
      },
      "outputs": [
        {
          "output_type": "display_data",
          "data": {
            "text/plain": [
              "<Figure size 1400x700 with 1 Axes>"
            ],
            "image/png": "[encoded data removed]"
          },
          "metadata": {}
        }
      ],
      "source": [
        "# Convert to Pandas DataFrame for plotting\n",
        "type_bucket_counts_pd = type_bucket_counts.toPandas()\n",
        "\n",
        "# Plot\n",
        "plt.figure(figsize=(14, 7))\n",
        "sns.barplot(x=\"price_bucket\", y=\"count\", hue=\"property_type\", data=type_bucket_counts_pd)\n",
        "plt.title('Counts of Property Types within Price Buckets')\n",
        "plt.xlabel('Price Bucket')\n",
        "plt.ylabel('Count')\n",
        "plt.xticks()\n",
        "plt.legend(title='Property Type', bbox_to_anchor=(1.05, 1), loc='upper left')\n",
        "plt.show()\n",
        "\n"
      ]
    },
    {
      "cell_type": "markdown",
      "source": [
        "Barplot insights:\n",
        "* Apartments are the most common property type across most price buckets, particularly dominant in price buckets 0 and 1.\n",
        "* Houses and Commercial Spaces also appear frequently, but less so than apartments, and are more evenly distributed across the price buckets.\n",
        "* Other property types like offices, duplexes, garages, lots, warehouses, and country houses are less frequent overall and show smaller counts in the various price buckets.\n",
        "\n"
      ],
      "metadata": {
        "id": "BJEVah-V-EHB"
      }
    },
    {
      "cell_type": "markdown",
      "metadata": {
        "id": "dsVqmVQxsHux"
      },
      "source": [
        "# Encoding"
      ]
    },
    {
      "cell_type": "markdown",
      "metadata": {
        "id": "W27pzllamPaZ"
      },
      "source": [
        "## Operation Type"
      ]
    },
    {
      "cell_type": "markdown",
      "metadata": {
        "id": "uHkza2anmSpi"
      },
      "source": [
        "Operation type column now have only one value: rent. So we dropped out the column."
      ]
    },
    {
      "cell_type": "code",
      "execution_count": 39,
      "metadata": {
        "id": "LKOONwXLmQe1"
      },
      "outputs": [],
      "source": [
        "rent_df = rent_df.drop(\"operation_type\")"
      ]
    },
    {
      "cell_type": "markdown",
      "metadata": {
        "id": "VhDUBrx2mV6_"
      },
      "source": [
        "## Start Date and End Date"
      ]
    },
    {
      "cell_type": "markdown",
      "metadata": {
        "id": "MFG9qVrx-dYO"
      },
      "source": [
        "We extracted year, month, and day of the week from the \"start_date\" and \"end_date\" columns"
      ]
    },
    {
      "cell_type": "code",
      "execution_count": 40,
      "metadata": {
        "id": "5yoPwa38mQaq"
      },
      "outputs": [],
      "source": [
        "\n",
        "rent_df = rent_df.withColumn(\"start_year\", year(\"start_date\")) \\\n",
        "                 .withColumn(\"start_month\", month(\"start_date\")) \\\n",
        "                 .withColumn(\"start_day_of_week\", dayofweek(\"start_date\"))\n",
        "\n"
      ]
    },
    {
      "cell_type": "code",
      "execution_count": 41,
      "metadata": {
        "id": "jdOrWLPQmQWg"
      },
      "outputs": [],
      "source": [
        "rent_df = rent_df.withColumn(\"end_year\", year(\"end_date\")) \\\n",
        "                 .withColumn(\"end_month\", month(\"end_date\")) \\\n",
        "                 .withColumn(\"end_day_of_week\", dayofweek(\"end_date\"))"
      ]
    },
    {
      "cell_type": "code",
      "execution_count": 42,
      "metadata": {
        "id": "JmJHriUFmQSz"
      },
      "outputs": [],
      "source": [
        "rent_df = rent_df.withColumn(\"is_active\", F.when(col(\"end_year\") == 9999, 1).otherwise(0))"
      ]
    },
    {
      "cell_type": "code",
      "execution_count": 43,
      "metadata": {
        "id": "8wxheZgvmQP8"
      },
      "outputs": [],
      "source": [
        "rent_df = rent_df.withColumn(\"end_year\", F.when(col(\"end_year\") == 9999, 2021).otherwise(col(\"end_year\")))"
      ]
    },
    {
      "cell_type": "code",
      "execution_count": 44,
      "metadata": {
        "colab": {
          "base_uri": "https://localhost:8080/"
        },
        "id": "7LwkzHkwmQMs",
        "outputId": "498a645d-fcb9-494f-abc7-70ddc546e770"
      },
      "outputs": [
        {
          "output_type": "stream",
          "name": "stdout",
          "text": [
            "+----------+----------+--------------------+------------------+-----+--------+---------+-------------+---------------+-------------+--------------------+--------------+--------------------+------------------+------------+----------+-----------+-----------------+--------+---------+---------------+---------+\n",
            "|start_date|  end_date|                  l2|                l3|rooms|bedrooms|bathrooms|surface_total|surface_covered|property_type|         coordinates|amount_in_euro|      final_features|         log_price|price_bucket|start_year|start_month|start_day_of_week|end_year|end_month|end_day_of_week|is_active|\n",
            "+----------+----------+--------------------+------------------+-----+--------+---------+-------------+---------------+-------------+--------------------+--------------+--------------------+------------------+------------+----------+-----------+-----------------+--------+---------+---------------+---------+\n",
            "|2020-11-02|2020-11-16|     Capital Federal|           Palermo|    2|       2|        1|       2189.0|         1813.0|        Other|[-34.581897735595...|       21385.0|(17000,[0,1,5,6,9...| 9.970445020661009|           4|      2020|         11|                2|    2020|       11|              2|        0|\n",
            "|2020-11-02|9999-12-31|     Capital Federal|            Retiro|   10|       5|        9|       1500.0|         1500.0|       Office|[-34.597373962402...|       27300.0|(17000,[0,5,6,9,1...| 10.21464198117305|           4|      2020|         11|                2|    2021|       12|              6|        1|\n",
            "|2020-11-02|9999-12-31|     Capital Federal|            Retiro|   14|      12|       12|       2000.0|         2000.0|       Office|[-34.597373962402...|       38220.0|(17000,[0,5,6,9,1...|10.551114217794265|           4|      2020|         11|                2|    2021|       12|              6|        1|\n",
            "|2020-11-02|2020-11-16|     Capital Federal|           Palermo|    3|       3|        2|        210.0|          210.0|       Office|[-34.576053619384...|        3630.9|(17000,[6,20,22,2...| 8.197235830412668|           4|      2020|         11|                2|    2020|       11|              2|        0|\n",
            "|2020-11-02|2020-11-16|     Capital Federal|         Catalinas|    3|       3|        2|        432.0|          432.0|       Office|[-34.595085144042...|       11793.6|(17000,[0,1,4,5,6...| 9.375312290435025|           4|      2020|         11|                2|    2020|       11|              2|        0|\n",
            "|2020-11-02|9999-12-31|     Capital Federal|         Monserrat|    4|       2|        3|       1304.0|          590.0|       Office|[-34.612655639648...|        6825.0|(17000,[0,1,5,8,1...|  8.82834762005316|           4|      2020|         11|                2|    2021|       12|              6|        1|\n",
            "|2020-11-02|9999-12-31|Bs.As. G.B.A. Zon...|             Pilar|    2|       2|        1|       2100.0|         2000.0|    Warehouse|[-34.413089752197...|        3640.0|(17000,[1,6,18,19...| 8.199738960630786|           4|      2020|         11|                2|    2021|       12|              6|        1|\n",
            "|2020-11-02|2020-11-09|     Capital Federal|           Palermo|    3|       2|        1|         74.0|           64.0|    Apartment|[-34.879692077636...|         455.0|(17000,[0,1,2,3,4...|  6.12029741895095|           2|      2020|         11|                2|    2020|       11|              2|        0|\n",
            "|2020-11-02|9999-12-31|     Capital Federal|     Puerto Madero|    3|       2|        3|        208.0|          200.0|    Apartment|[-34.603286743164...|       3919.37|(17000,[5,11,20,2...|  8.27368620558287|           4|      2020|         11|                2|    2021|       12|              6|        1|\n",
            "|2020-11-02|9999-12-31|     Capital Federal|     Puerto Madero|    3|       2|        3|        375.0|          250.0|    Apartment|[-34.879692077636...|        7280.0|(17000,[1,2,3,5,6...| 8.892886141190731|           4|      2020|         11|                2|    2021|       12|              6|        1|\n",
            "|2020-11-02|2020-11-25|Bs.As. G.B.A. Zon...|           Escobar|    4|       3|        2|        466.2|          270.0|        House|[-34.444469451904...|       10010.0|(17000,[0,3,10,11...| 9.211339872309265|           4|      2020|         11|                2|    2020|       11|              4|        0|\n",
            "|2020-11-02|2021-02-23|Buenos Aires Cost...|     Mar del Plata|    4|       3|        3|       438.17|         347.07|        House|[-37.959014892578...|        3094.0|(17000,[0,1,3,4,5...| 8.037220031133012|           4|      2020|         11|                2|    2021|        2|              3|        0|\n",
            "|2020-11-02|2020-11-03|Bs.As. G.B.A. Zon...|             Tigre|    4|       3|        3|        330.0|          230.0|    Apartment|[-34.879692077636...|        3731.0|(17000,[0,2,3,4,5...| 8.224431573221159|           4|      2020|         11|                2|    2020|       11|              3|        0|\n",
            "|2020-11-02|9999-12-31|     Capital Federal|          Belgrano|    4|       3|        2|        172.0|          162.0|    Apartment|[-34.553192138671...|        2275.0|(17000,[0,3,6,11,...| 7.729735331385051|           4|      2020|         11|                2|    2021|       12|              6|        1|\n",
            "|2020-11-02|9999-12-31|     Capital Federal|          Recoleta|    4|       3|        3|        187.0|          187.0|    Apartment|[-34.594257354736...|        2730.0|(17000,[1,3,4,5,6...| 7.912056888179006|           4|      2020|         11|                2|    2021|       12|              6|        1|\n",
            "|2020-11-02|9999-12-31|     Capital Federal|     Puerto Madero|    4|       3|        4|        233.0|          233.0|    Apartment|[-34.879692077636...|        4095.0|(17000,[0,1,2,3,4...|  8.31752199628717|           4|      2020|         11|                2|    2021|       12|              6|        1|\n",
            "|2020-11-02|2020-11-03|     Capital Federal|           Palermo|    5|       4|        5|        280.0|          250.0|    Apartment|[-34.879692077636...|        4095.0|(17000,[1,3,6,8,9...|  8.31752199628717|           4|      2020|         11|                2|    2020|       11|              3|        0|\n",
            "|2020-11-02|9999-12-31|Bs.As. G.B.A. Zon...|             Tigre|    6|       5|        4|        600.0|          550.0|        House|[-34.436244964599...|        5460.0|(17000,[5,8,12,33...| 8.605204068738951|           4|      2020|         11|                2|    2021|       12|              6|        1|\n",
            "|2020-11-02|9999-12-31|             Neuquén|Villa La Angostura|    6|       3|        3|       1000.0|          150.0|        House|[-40.789234161376...|         291.2|(17000,[0,1,3,4,6...| 5.674010316322531|           1|      2020|         11|                2|    2021|       12|              6|        1|\n",
            "|2020-11-02|9999-12-31|Bs.As. G.B.A. Zon...|             Pilar|    8|       5|        6|       1741.2|          600.0|        House|[-34.879692077636...|        3640.0|(17000,[0,2,4,6,8...| 8.199738960630786|           4|      2020|         11|                2|    2021|       12|              6|        1|\n",
            "+----------+----------+--------------------+------------------+-----+--------+---------+-------------+---------------+-------------+--------------------+--------------+--------------------+------------------+------------+----------+-----------+-----------------+--------+---------+---------------+---------+\n",
            "only showing top 20 rows\n",
            "\n"
          ]
        }
      ],
      "source": [
        "rent_df.show()"
      ]
    },
    {
      "cell_type": "code",
      "execution_count": 45,
      "metadata": {
        "id": "iI82tMFkmQIx"
      },
      "outputs": [],
      "source": [
        "#drop the \"start_data\" and \"end_data\"\n",
        "rent_df = rent_df.drop(\"start_date\", \"end_date\")"
      ]
    },
    {
      "cell_type": "markdown",
      "metadata": {
        "id": "1RJ_XzzKmd3f"
      },
      "source": [
        "## l3"
      ]
    },
    {
      "cell_type": "markdown",
      "metadata": {
        "id": "n6L9V4o0_ErT"
      },
      "source": [
        "WFirst, we find less common categories in the 'l3' column—those appearing 2100 times or fewer. We group these as 'Other' to focus on the most common ones. Then, we check how many unique categories are left in the 'l3' column. Next, we convert the 'l3' column into numbers using StringIndexer and OneHotEncoder."
      ]
    },
    {
      "cell_type": "code",
      "execution_count": 46,
      "metadata": {
        "colab": {
          "base_uri": "https://localhost:8080/"
        },
        "id": "kfbv51FVmQFk",
        "outputId": "b7e9ff38-0a58-457b-ef91-650cdfc6e345"
      },
      "outputs": [
        {
          "output_type": "execute_result",
          "data": {
            "text/plain": [
              "385"
            ]
          },
          "metadata": {},
          "execution_count": 46
        }
      ],
      "source": [
        "rent_df.select(\"l3\").distinct().count()"
      ]
    },
    {
      "cell_type": "code",
      "execution_count": 47,
      "metadata": {
        "id": "pIFgwctPmQCi"
      },
      "outputs": [],
      "source": [
        "# Count the frequency of each category in 'l3'\n",
        "freq = rent_df.groupBy('l3').count()\n",
        "\n",
        "# Filter to find categories that appear less than or equal to 10 times\n",
        "infrequent_categories = freq.filter(col('count') <= 2100)\n"
      ]
    },
    {
      "cell_type": "code",
      "execution_count": 48,
      "metadata": {
        "id": "mCd8VaSUmP_F"
      },
      "outputs": [],
      "source": [
        "# Create a list or DataFrame of infrequent categories\n",
        "infrequent_list = infrequent_categories.select('l3').rdd.flatMap(lambda x: x).collect()\n",
        "\n",
        "# Broadcast the infrequent list to optimize join performance\n",
        "infrequent_broadcast = spark.sparkContext.broadcast(infrequent_list)\n",
        "\n",
        "# Create a new column where infrequent categories are replaced by 'Other'\n",
        "rent_df = rent_df.withColumn('l3', when(col('l3').isin(infrequent_broadcast.value), 'Other').otherwise(col('l3')))\n"
      ]
    },
    {
      "cell_type": "code",
      "execution_count": 49,
      "metadata": {
        "colab": {
          "base_uri": "https://localhost:8080/"
        },
        "id": "88fjP3hfmP8C",
        "outputId": "5ac382ec-254d-4e04-85d2-01796275008d"
      },
      "outputs": [
        {
          "output_type": "execute_result",
          "data": {
            "text/plain": [
              "5"
            ]
          },
          "metadata": {},
          "execution_count": 49
        }
      ],
      "source": [
        "rent_df.select(\"l3\").distinct().count()"
      ]
    },
    {
      "cell_type": "code",
      "execution_count": 50,
      "metadata": {
        "id": "46l_ezKZmP47"
      },
      "outputs": [],
      "source": [
        "# Indexing the modified 'l3' column\n",
        "indexer_l3 = StringIndexer(inputCol=\"l3\", outputCol=\"l3_encoded\")\n",
        "\n",
        "# One-hot encoding the indexed values\n",
        "encoder_l3 = OneHotEncoder(inputCols=[\"l3_encoded\"], outputCols=[\"l3_one_hot\"])\n"
      ]
    },
    {
      "cell_type": "code",
      "execution_count": 51,
      "metadata": {
        "id": "M5axSqMbmP17"
      },
      "outputs": [],
      "source": [
        "# Define a pipeline to apply the transformations\n",
        "pipeline_l3 = Pipeline(stages=[indexer_l3, encoder_l3])"
      ]
    },
    {
      "cell_type": "code",
      "execution_count": 52,
      "metadata": {
        "id": "LcS-6lyEmn5V"
      },
      "outputs": [],
      "source": [
        "# Fit and transform the DataFrame\n",
        "rent_df = pipeline_l3.fit(rent_df).transform(rent_df)"
      ]
    },
    {
      "cell_type": "code",
      "execution_count": 53,
      "metadata": {
        "colab": {
          "base_uri": "https://localhost:8080/"
        },
        "id": "SIntxpskmn1q",
        "outputId": "19d84470-3583-4386-9f7a-2389c82344cb"
      },
      "outputs": [
        {
          "output_type": "stream",
          "name": "stdout",
          "text": [
            "+--------------------+-------------+-----+--------+---------+-------------+---------------+-------------+--------------------+--------------+--------------------+------------------+------------+----------+-----------+-----------------+--------+---------+---------------+---------+----------+-------------+\n",
            "|                  l2|           l3|rooms|bedrooms|bathrooms|surface_total|surface_covered|property_type|         coordinates|amount_in_euro|      final_features|         log_price|price_bucket|start_year|start_month|start_day_of_week|end_year|end_month|end_day_of_week|is_active|l3_encoded|   l3_one_hot|\n",
            "+--------------------+-------------+-----+--------+---------+-------------+---------------+-------------+--------------------+--------------+--------------------+------------------+------------+----------+-----------+-----------------+--------+---------+---------------+---------+----------+-------------+\n",
            "|     Capital Federal|      Palermo|    2|       2|        1|       2189.0|         1813.0|        Other|[-34.581897735595...|       21385.0|(17000,[0,1,5,6,9...| 9.970445020661009|           4|      2020|         11|                2|    2020|       11|              2|        0|       3.0|(4,[3],[1.0])|\n",
            "|     Capital Federal|        Other|   10|       5|        9|       1500.0|         1500.0|       Office|[-34.597373962402...|       27300.0|(17000,[0,5,6,9,1...| 10.21464198117305|           4|      2020|         11|                2|    2021|       12|              6|        1|       0.0|(4,[0],[1.0])|\n",
            "|     Capital Federal|        Other|   14|      12|       12|       2000.0|         2000.0|       Office|[-34.597373962402...|       38220.0|(17000,[0,5,6,9,1...|10.551114217794265|           4|      2020|         11|                2|    2021|       12|              6|        1|       0.0|(4,[0],[1.0])|\n",
            "|     Capital Federal|      Palermo|    3|       3|        2|        210.0|          210.0|       Office|[-34.576053619384...|        3630.9|(17000,[6,20,22,2...| 8.197235830412668|           4|      2020|         11|                2|    2020|       11|              2|        0|       3.0|(4,[3],[1.0])|\n",
            "|     Capital Federal|        Other|    3|       3|        2|        432.0|          432.0|       Office|[-34.595085144042...|       11793.6|(17000,[0,1,4,5,6...| 9.375312290435025|           4|      2020|         11|                2|    2020|       11|              2|        0|       0.0|(4,[0],[1.0])|\n",
            "|     Capital Federal|        Other|    4|       2|        3|       1304.0|          590.0|       Office|[-34.612655639648...|        6825.0|(17000,[0,1,5,8,1...|  8.82834762005316|           4|      2020|         11|                2|    2021|       12|              6|        1|       0.0|(4,[0],[1.0])|\n",
            "|Bs.As. G.B.A. Zon...|        Other|    2|       2|        1|       2100.0|         2000.0|    Warehouse|[-34.413089752197...|        3640.0|(17000,[1,6,18,19...| 8.199738960630786|           4|      2020|         11|                2|    2021|       12|              6|        1|       0.0|(4,[0],[1.0])|\n",
            "|     Capital Federal|      Palermo|    3|       2|        1|         74.0|           64.0|    Apartment|[-34.879692077636...|         455.0|(17000,[0,1,2,3,4...|  6.12029741895095|           2|      2020|         11|                2|    2020|       11|              2|        0|       3.0|(4,[3],[1.0])|\n",
            "|     Capital Federal|        Other|    3|       2|        3|        208.0|          200.0|    Apartment|[-34.603286743164...|       3919.37|(17000,[5,11,20,2...|  8.27368620558287|           4|      2020|         11|                2|    2021|       12|              6|        1|       0.0|(4,[0],[1.0])|\n",
            "|     Capital Federal|        Other|    3|       2|        3|        375.0|          250.0|    Apartment|[-34.879692077636...|        7280.0|(17000,[1,2,3,5,6...| 8.892886141190731|           4|      2020|         11|                2|    2021|       12|              6|        1|       0.0|(4,[0],[1.0])|\n",
            "|Bs.As. G.B.A. Zon...|        Other|    4|       3|        2|        466.2|          270.0|        House|[-34.444469451904...|       10010.0|(17000,[0,3,10,11...| 9.211339872309265|           4|      2020|         11|                2|    2020|       11|              4|        0|       0.0|(4,[0],[1.0])|\n",
            "|Buenos Aires Cost...|Mar del Plata|    4|       3|        3|       438.17|         347.07|        House|[-37.959014892578...|        3094.0|(17000,[0,1,3,4,5...| 8.037220031133012|           4|      2020|         11|                2|    2021|        2|              3|        0|       1.0|(4,[1],[1.0])|\n",
            "|Bs.As. G.B.A. Zon...|        Other|    4|       3|        3|        330.0|          230.0|    Apartment|[-34.879692077636...|        3731.0|(17000,[0,2,3,4,5...| 8.224431573221159|           4|      2020|         11|                2|    2020|       11|              3|        0|       0.0|(4,[0],[1.0])|\n",
            "|     Capital Federal|        Other|    4|       3|        2|        172.0|          162.0|    Apartment|[-34.553192138671...|        2275.0|(17000,[0,3,6,11,...| 7.729735331385051|           4|      2020|         11|                2|    2021|       12|              6|        1|       0.0|(4,[0],[1.0])|\n",
            "|     Capital Federal|        Other|    4|       3|        3|        187.0|          187.0|    Apartment|[-34.594257354736...|        2730.0|(17000,[1,3,4,5,6...| 7.912056888179006|           4|      2020|         11|                2|    2021|       12|              6|        1|       0.0|(4,[0],[1.0])|\n",
            "|     Capital Federal|        Other|    4|       3|        4|        233.0|          233.0|    Apartment|[-34.879692077636...|        4095.0|(17000,[0,1,2,3,4...|  8.31752199628717|           4|      2020|         11|                2|    2021|       12|              6|        1|       0.0|(4,[0],[1.0])|\n",
            "|     Capital Federal|      Palermo|    5|       4|        5|        280.0|          250.0|    Apartment|[-34.879692077636...|        4095.0|(17000,[1,3,6,8,9...|  8.31752199628717|           4|      2020|         11|                2|    2020|       11|              3|        0|       3.0|(4,[3],[1.0])|\n",
            "|Bs.As. G.B.A. Zon...|        Other|    6|       5|        4|        600.0|          550.0|        House|[-34.436244964599...|        5460.0|(17000,[5,8,12,33...| 8.605204068738951|           4|      2020|         11|                2|    2021|       12|              6|        1|       0.0|(4,[0],[1.0])|\n",
            "|             Neuquén|        Other|    6|       3|        3|       1000.0|          150.0|        House|[-40.789234161376...|         291.2|(17000,[0,1,3,4,6...| 5.674010316322531|           1|      2020|         11|                2|    2021|       12|              6|        1|       0.0|(4,[0],[1.0])|\n",
            "|Bs.As. G.B.A. Zon...|        Other|    8|       5|        6|       1741.2|          600.0|        House|[-34.879692077636...|        3640.0|(17000,[0,2,4,6,8...| 8.199738960630786|           4|      2020|         11|                2|    2021|       12|              6|        1|       0.0|(4,[0],[1.0])|\n",
            "+--------------------+-------------+-----+--------+---------+-------------+---------------+-------------+--------------------+--------------+--------------------+------------------+------------+----------+-----------+-----------------+--------+---------+---------------+---------+----------+-------------+\n",
            "only showing top 20 rows\n",
            "\n"
          ]
        }
      ],
      "source": [
        "# Now you can use 'transformed_df' for your machine learning purposes\n",
        "rent_df.show()"
      ]
    },
    {
      "cell_type": "code",
      "execution_count": 54,
      "metadata": {
        "id": "QAjFMVMTmny2"
      },
      "outputs": [],
      "source": [
        "rent_df = rent_df.drop(\"l3_encoded\", \"l3\")"
      ]
    },
    {
      "cell_type": "markdown",
      "metadata": {
        "id": "yD749a45mtB_"
      },
      "source": [
        "## l2"
      ]
    },
    {
      "cell_type": "markdown",
      "metadata": {
        "id": "_F-A4taF_GXM"
      },
      "source": [
        "Similarly, we begin by identifying infrequent categories in the 'l2' column, replacing them with a label 'Other' to prevent overfitting. Next, we encode the modified 'l2' column into numerical format, employing StringIndexer for indexing and OneHotEncoder for one-hot encoding. Finally, we apply these transformations using a pipeline."
      ]
    },
    {
      "cell_type": "code",
      "execution_count": 55,
      "metadata": {
        "id": "eGmwWdsumnvI"
      },
      "outputs": [],
      "source": [
        "# Indexing the modified 'l2' column\n",
        "indexer_l2 = StringIndexer(inputCol=\"l2\", outputCol=\"l2_encoded\")\n",
        "\n",
        "# One-hot encoding the indexed values\n",
        "encoder_l2 = OneHotEncoder(inputCols=[\"l2_encoded\"], outputCols=[\"l2_one_hot\"])\n"
      ]
    },
    {
      "cell_type": "code",
      "execution_count": 56,
      "metadata": {
        "id": "RdXZbMPcmnrz"
      },
      "outputs": [],
      "source": [
        "# Define a pipeline to apply the transformations\n",
        "pipeline_l2 = Pipeline(stages=[indexer_l2, encoder_l2])"
      ]
    },
    {
      "cell_type": "code",
      "execution_count": 57,
      "metadata": {
        "id": "bv6w2ymKmnoY"
      },
      "outputs": [],
      "source": [
        "# Fit and transform the DataFrame\n",
        "rent_df = pipeline_l2.fit(rent_df).transform(rent_df)"
      ]
    },
    {
      "cell_type": "code",
      "execution_count": 58,
      "metadata": {
        "colab": {
          "base_uri": "https://localhost:8080/"
        },
        "id": "vd9j15PKmnkl",
        "outputId": "6a5aaa4e-162d-4d89-dfc9-5d0dcc01ab23"
      },
      "outputs": [
        {
          "output_type": "stream",
          "name": "stdout",
          "text": [
            "+--------------------+-----+--------+---------+-------------+---------------+-------------+--------------------+--------------+--------------------+------------------+------------+----------+-----------+-----------------+--------+---------+---------------+---------+-------------+----------+--------------+\n",
            "|                  l2|rooms|bedrooms|bathrooms|surface_total|surface_covered|property_type|         coordinates|amount_in_euro|      final_features|         log_price|price_bucket|start_year|start_month|start_day_of_week|end_year|end_month|end_day_of_week|is_active|   l3_one_hot|l2_encoded|    l2_one_hot|\n",
            "+--------------------+-----+--------+---------+-------------+---------------+-------------+--------------------+--------------+--------------------+------------------+------------+----------+-----------+-----------------+--------+---------+---------------+---------+-------------+----------+--------------+\n",
            "|     Capital Federal|    2|       2|        1|       2189.0|         1813.0|        Other|[-34.581897735595...|       21385.0|(17000,[0,1,5,6,9...| 9.970445020661009|           4|      2020|         11|                2|    2020|       11|              2|        0|(4,[3],[1.0])|       0.0|(26,[0],[1.0])|\n",
            "|     Capital Federal|   10|       5|        9|       1500.0|         1500.0|       Office|[-34.597373962402...|       27300.0|(17000,[0,5,6,9,1...| 10.21464198117305|           4|      2020|         11|                2|    2021|       12|              6|        1|(4,[0],[1.0])|       0.0|(26,[0],[1.0])|\n",
            "|     Capital Federal|   14|      12|       12|       2000.0|         2000.0|       Office|[-34.597373962402...|       38220.0|(17000,[0,5,6,9,1...|10.551114217794265|           4|      2020|         11|                2|    2021|       12|              6|        1|(4,[0],[1.0])|       0.0|(26,[0],[1.0])|\n",
            "|     Capital Federal|    3|       3|        2|        210.0|          210.0|       Office|[-34.576053619384...|        3630.9|(17000,[6,20,22,2...| 8.197235830412668|           4|      2020|         11|                2|    2020|       11|              2|        0|(4,[3],[1.0])|       0.0|(26,[0],[1.0])|\n",
            "|     Capital Federal|    3|       3|        2|        432.0|          432.0|       Office|[-34.595085144042...|       11793.6|(17000,[0,1,4,5,6...| 9.375312290435025|           4|      2020|         11|                2|    2020|       11|              2|        0|(4,[0],[1.0])|       0.0|(26,[0],[1.0])|\n",
            "|     Capital Federal|    4|       2|        3|       1304.0|          590.0|       Office|[-34.612655639648...|        6825.0|(17000,[0,1,5,8,1...|  8.82834762005316|           4|      2020|         11|                2|    2021|       12|              6|        1|(4,[0],[1.0])|       0.0|(26,[0],[1.0])|\n",
            "|Bs.As. G.B.A. Zon...|    2|       2|        1|       2100.0|         2000.0|    Warehouse|[-34.413089752197...|        3640.0|(17000,[1,6,18,19...| 8.199738960630786|           4|      2020|         11|                2|    2021|       12|              6|        1|(4,[0],[1.0])|       1.0|(26,[1],[1.0])|\n",
            "|     Capital Federal|    3|       2|        1|         74.0|           64.0|    Apartment|[-34.879692077636...|         455.0|(17000,[0,1,2,3,4...|  6.12029741895095|           2|      2020|         11|                2|    2020|       11|              2|        0|(4,[3],[1.0])|       0.0|(26,[0],[1.0])|\n",
            "|     Capital Federal|    3|       2|        3|        208.0|          200.0|    Apartment|[-34.603286743164...|       3919.37|(17000,[5,11,20,2...|  8.27368620558287|           4|      2020|         11|                2|    2021|       12|              6|        1|(4,[0],[1.0])|       0.0|(26,[0],[1.0])|\n",
            "|     Capital Federal|    3|       2|        3|        375.0|          250.0|    Apartment|[-34.879692077636...|        7280.0|(17000,[1,2,3,5,6...| 8.892886141190731|           4|      2020|         11|                2|    2021|       12|              6|        1|(4,[0],[1.0])|       0.0|(26,[0],[1.0])|\n",
            "|Bs.As. G.B.A. Zon...|    4|       3|        2|        466.2|          270.0|        House|[-34.444469451904...|       10010.0|(17000,[0,3,10,11...| 9.211339872309265|           4|      2020|         11|                2|    2020|       11|              4|        0|(4,[0],[1.0])|       1.0|(26,[1],[1.0])|\n",
            "|Buenos Aires Cost...|    4|       3|        3|       438.17|         347.07|        House|[-37.959014892578...|        3094.0|(17000,[0,1,3,4,5...| 8.037220031133012|           4|      2020|         11|                2|    2021|        2|              3|        0|(4,[1],[1.0])|       3.0|(26,[3],[1.0])|\n",
            "|Bs.As. G.B.A. Zon...|    4|       3|        3|        330.0|          230.0|    Apartment|[-34.879692077636...|        3731.0|(17000,[0,2,3,4,5...| 8.224431573221159|           4|      2020|         11|                2|    2020|       11|              3|        0|(4,[0],[1.0])|       1.0|(26,[1],[1.0])|\n",
            "|     Capital Federal|    4|       3|        2|        172.0|          162.0|    Apartment|[-34.553192138671...|        2275.0|(17000,[0,3,6,11,...| 7.729735331385051|           4|      2020|         11|                2|    2021|       12|              6|        1|(4,[0],[1.0])|       0.0|(26,[0],[1.0])|\n",
            "|     Capital Federal|    4|       3|        3|        187.0|          187.0|    Apartment|[-34.594257354736...|        2730.0|(17000,[1,3,4,5,6...| 7.912056888179006|           4|      2020|         11|                2|    2021|       12|              6|        1|(4,[0],[1.0])|       0.0|(26,[0],[1.0])|\n",
            "|     Capital Federal|    4|       3|        4|        233.0|          233.0|    Apartment|[-34.879692077636...|        4095.0|(17000,[0,1,2,3,4...|  8.31752199628717|           4|      2020|         11|                2|    2021|       12|              6|        1|(4,[0],[1.0])|       0.0|(26,[0],[1.0])|\n",
            "|     Capital Federal|    5|       4|        5|        280.0|          250.0|    Apartment|[-34.879692077636...|        4095.0|(17000,[1,3,6,8,9...|  8.31752199628717|           4|      2020|         11|                2|    2020|       11|              3|        0|(4,[3],[1.0])|       0.0|(26,[0],[1.0])|\n",
            "|Bs.As. G.B.A. Zon...|    6|       5|        4|        600.0|          550.0|        House|[-34.436244964599...|        5460.0|(17000,[5,8,12,33...| 8.605204068738951|           4|      2020|         11|                2|    2021|       12|              6|        1|(4,[0],[1.0])|       1.0|(26,[1],[1.0])|\n",
            "|             Neuquén|    6|       3|        3|       1000.0|          150.0|        House|[-40.789234161376...|         291.2|(17000,[0,1,3,4,6...| 5.674010316322531|           1|      2020|         11|                2|    2021|       12|              6|        1|(4,[0],[1.0])|       9.0|(26,[9],[1.0])|\n",
            "|Bs.As. G.B.A. Zon...|    8|       5|        6|       1741.2|          600.0|        House|[-34.879692077636...|        3640.0|(17000,[0,2,4,6,8...| 8.199738960630786|           4|      2020|         11|                2|    2021|       12|              6|        1|(4,[0],[1.0])|       1.0|(26,[1],[1.0])|\n",
            "+--------------------+-----+--------+---------+-------------+---------------+-------------+--------------------+--------------+--------------------+------------------+------------+----------+-----------+-----------------+--------+---------+---------------+---------+-------------+----------+--------------+\n",
            "only showing top 20 rows\n",
            "\n"
          ]
        }
      ],
      "source": [
        "rent_df.show()"
      ]
    },
    {
      "cell_type": "code",
      "execution_count": 59,
      "metadata": {
        "id": "-RFZjNPTmnhA"
      },
      "outputs": [],
      "source": [
        "rent_df = rent_df.drop(\"l2\", \"l2_encoded\")"
      ]
    },
    {
      "cell_type": "code",
      "execution_count": 60,
      "metadata": {
        "colab": {
          "base_uri": "https://localhost:8080/"
        },
        "id": "50SW6h0DmPy0",
        "outputId": "ad5ecd8b-a06c-4174-b4ef-00f920387f87"
      },
      "outputs": [
        {
          "output_type": "stream",
          "name": "stdout",
          "text": [
            "+-----+--------+---------+-------------+---------------+-------------+--------------------+--------------+--------------------+------------------+------------+----------+-----------+-----------------+--------+---------+---------------+---------+-------------+--------------+\n",
            "|rooms|bedrooms|bathrooms|surface_total|surface_covered|property_type|         coordinates|amount_in_euro|      final_features|         log_price|price_bucket|start_year|start_month|start_day_of_week|end_year|end_month|end_day_of_week|is_active|   l3_one_hot|    l2_one_hot|\n",
            "+-----+--------+---------+-------------+---------------+-------------+--------------------+--------------+--------------------+------------------+------------+----------+-----------+-----------------+--------+---------+---------------+---------+-------------+--------------+\n",
            "|    2|       2|        1|       2189.0|         1813.0|        Other|[-34.581897735595...|       21385.0|(17000,[0,1,5,6,9...| 9.970445020661009|           4|      2020|         11|                2|    2020|       11|              2|        0|(4,[3],[1.0])|(26,[0],[1.0])|\n",
            "|   10|       5|        9|       1500.0|         1500.0|       Office|[-34.597373962402...|       27300.0|(17000,[0,5,6,9,1...| 10.21464198117305|           4|      2020|         11|                2|    2021|       12|              6|        1|(4,[0],[1.0])|(26,[0],[1.0])|\n",
            "|   14|      12|       12|       2000.0|         2000.0|       Office|[-34.597373962402...|       38220.0|(17000,[0,5,6,9,1...|10.551114217794265|           4|      2020|         11|                2|    2021|       12|              6|        1|(4,[0],[1.0])|(26,[0],[1.0])|\n",
            "|    3|       3|        2|        210.0|          210.0|       Office|[-34.576053619384...|        3630.9|(17000,[6,20,22,2...| 8.197235830412668|           4|      2020|         11|                2|    2020|       11|              2|        0|(4,[3],[1.0])|(26,[0],[1.0])|\n",
            "|    3|       3|        2|        432.0|          432.0|       Office|[-34.595085144042...|       11793.6|(17000,[0,1,4,5,6...| 9.375312290435025|           4|      2020|         11|                2|    2020|       11|              2|        0|(4,[0],[1.0])|(26,[0],[1.0])|\n",
            "|    4|       2|        3|       1304.0|          590.0|       Office|[-34.612655639648...|        6825.0|(17000,[0,1,5,8,1...|  8.82834762005316|           4|      2020|         11|                2|    2021|       12|              6|        1|(4,[0],[1.0])|(26,[0],[1.0])|\n",
            "|    2|       2|        1|       2100.0|         2000.0|    Warehouse|[-34.413089752197...|        3640.0|(17000,[1,6,18,19...| 8.199738960630786|           4|      2020|         11|                2|    2021|       12|              6|        1|(4,[0],[1.0])|(26,[1],[1.0])|\n",
            "|    3|       2|        1|         74.0|           64.0|    Apartment|[-34.879692077636...|         455.0|(17000,[0,1,2,3,4...|  6.12029741895095|           2|      2020|         11|                2|    2020|       11|              2|        0|(4,[3],[1.0])|(26,[0],[1.0])|\n",
            "|    3|       2|        3|        208.0|          200.0|    Apartment|[-34.603286743164...|       3919.37|(17000,[5,11,20,2...|  8.27368620558287|           4|      2020|         11|                2|    2021|       12|              6|        1|(4,[0],[1.0])|(26,[0],[1.0])|\n",
            "|    3|       2|        3|        375.0|          250.0|    Apartment|[-34.879692077636...|        7280.0|(17000,[1,2,3,5,6...| 8.892886141190731|           4|      2020|         11|                2|    2021|       12|              6|        1|(4,[0],[1.0])|(26,[0],[1.0])|\n",
            "|    4|       3|        2|        466.2|          270.0|        House|[-34.444469451904...|       10010.0|(17000,[0,3,10,11...| 9.211339872309265|           4|      2020|         11|                2|    2020|       11|              4|        0|(4,[0],[1.0])|(26,[1],[1.0])|\n",
            "|    4|       3|        3|       438.17|         347.07|        House|[-37.959014892578...|        3094.0|(17000,[0,1,3,4,5...| 8.037220031133012|           4|      2020|         11|                2|    2021|        2|              3|        0|(4,[1],[1.0])|(26,[3],[1.0])|\n",
            "|    4|       3|        3|        330.0|          230.0|    Apartment|[-34.879692077636...|        3731.0|(17000,[0,2,3,4,5...| 8.224431573221159|           4|      2020|         11|                2|    2020|       11|              3|        0|(4,[0],[1.0])|(26,[1],[1.0])|\n",
            "|    4|       3|        2|        172.0|          162.0|    Apartment|[-34.553192138671...|        2275.0|(17000,[0,3,6,11,...| 7.729735331385051|           4|      2020|         11|                2|    2021|       12|              6|        1|(4,[0],[1.0])|(26,[0],[1.0])|\n",
            "|    4|       3|        3|        187.0|          187.0|    Apartment|[-34.594257354736...|        2730.0|(17000,[1,3,4,5,6...| 7.912056888179006|           4|      2020|         11|                2|    2021|       12|              6|        1|(4,[0],[1.0])|(26,[0],[1.0])|\n",
            "|    4|       3|        4|        233.0|          233.0|    Apartment|[-34.879692077636...|        4095.0|(17000,[0,1,2,3,4...|  8.31752199628717|           4|      2020|         11|                2|    2021|       12|              6|        1|(4,[0],[1.0])|(26,[0],[1.0])|\n",
            "|    5|       4|        5|        280.0|          250.0|    Apartment|[-34.879692077636...|        4095.0|(17000,[1,3,6,8,9...|  8.31752199628717|           4|      2020|         11|                2|    2020|       11|              3|        0|(4,[3],[1.0])|(26,[0],[1.0])|\n",
            "|    6|       5|        4|        600.0|          550.0|        House|[-34.436244964599...|        5460.0|(17000,[5,8,12,33...| 8.605204068738951|           4|      2020|         11|                2|    2021|       12|              6|        1|(4,[0],[1.0])|(26,[1],[1.0])|\n",
            "|    6|       3|        3|       1000.0|          150.0|        House|[-40.789234161376...|         291.2|(17000,[0,1,3,4,6...| 5.674010316322531|           1|      2020|         11|                2|    2021|       12|              6|        1|(4,[0],[1.0])|(26,[9],[1.0])|\n",
            "|    8|       5|        6|       1741.2|          600.0|        House|[-34.879692077636...|        3640.0|(17000,[0,2,4,6,8...| 8.199738960630786|           4|      2020|         11|                2|    2021|       12|              6|        1|(4,[0],[1.0])|(26,[1],[1.0])|\n",
            "+-----+--------+---------+-------------+---------------+-------------+--------------------+--------------+--------------------+------------------+------------+----------+-----------+-----------------+--------+---------+---------------+---------+-------------+--------------+\n",
            "only showing top 20 rows\n",
            "\n"
          ]
        }
      ],
      "source": [
        "rent_df.show()"
      ]
    },
    {
      "cell_type": "markdown",
      "metadata": {
        "id": "7Fft5kv-m8OV"
      },
      "source": [
        "## Property type"
      ]
    },
    {
      "cell_type": "markdown",
      "metadata": {
        "id": "o3yqyO15_vBU"
      },
      "source": [
        "Moving forward, we indexex the categories in the 'property_type' column, then applies one-hot encoding to create binary vectors for each category. Afterward, it drops the original 'property_type' column as it's replaced by the encoded vectors, simplifying the dataset for further analysis or modeling."
      ]
    },
    {
      "cell_type": "code",
      "execution_count": 61,
      "metadata": {
        "id": "ISpN20dumPvu"
      },
      "outputs": [],
      "source": [
        "# Indexing the modified 'property_type' column\n",
        "indexer_property = StringIndexer(inputCol=\"property_type\", outputCol=\"property_encoded\")\n",
        "\n",
        "# One-hot encoding the indexed values\n",
        "encoder_property = OneHotEncoder(inputCols=[\"property_encoded\"], outputCols=[\"property_one_hot\"])"
      ]
    },
    {
      "cell_type": "code",
      "execution_count": 62,
      "metadata": {
        "id": "CfcQzvA2m-XC"
      },
      "outputs": [],
      "source": [
        "# Define a pipeline to apply the transformations\n",
        "pipeline_property = Pipeline(stages=[indexer_property, encoder_property])"
      ]
    },
    {
      "cell_type": "code",
      "execution_count": 63,
      "metadata": {
        "id": "3j_TEy0um-T8"
      },
      "outputs": [],
      "source": [
        "# Fit and transform the DataFrame\n",
        "rent_df = pipeline_property.fit(rent_df).transform(rent_df)"
      ]
    },
    {
      "cell_type": "code",
      "execution_count": 64,
      "metadata": {
        "id": "zKiG2EzJm-QM"
      },
      "outputs": [],
      "source": [
        "rent_df = rent_df.drop(\"property_type\", \"property_encoded\")"
      ]
    },
    {
      "cell_type": "code",
      "execution_count": 65,
      "metadata": {
        "colab": {
          "base_uri": "https://localhost:8080/"
        },
        "id": "jASUiI5dm-MS",
        "outputId": "a544a118-86b1-4507-da29-46b8b02f2866"
      },
      "outputs": [
        {
          "output_type": "stream",
          "name": "stdout",
          "text": [
            "+-----+--------+---------+-------------+---------------+--------------------+--------------+--------------------+------------------+------------+----------+-----------+-----------------+--------+---------+---------------+---------+-------------+--------------+----------------+\n",
            "|rooms|bedrooms|bathrooms|surface_total|surface_covered|         coordinates|amount_in_euro|      final_features|         log_price|price_bucket|start_year|start_month|start_day_of_week|end_year|end_month|end_day_of_week|is_active|   l3_one_hot|    l2_one_hot|property_one_hot|\n",
            "+-----+--------+---------+-------------+---------------+--------------------+--------------+--------------------+------------------+------------+----------+-----------+-----------------+--------+---------+---------------+---------+-------------+--------------+----------------+\n",
            "|    2|       2|        1|       2189.0|         1813.0|[-34.581897735595...|       21385.0|(17000,[0,1,5,6,9...| 9.970445020661009|           4|      2020|         11|                2|    2020|       11|              2|        0|(4,[3],[1.0])|(26,[0],[1.0])|   (9,[2],[1.0])|\n",
            "|   10|       5|        9|       1500.0|         1500.0|[-34.597373962402...|       27300.0|(17000,[0,5,6,9,1...| 10.21464198117305|           4|      2020|         11|                2|    2021|       12|              6|        1|(4,[0],[1.0])|(26,[0],[1.0])|   (9,[4],[1.0])|\n",
            "|   14|      12|       12|       2000.0|         2000.0|[-34.597373962402...|       38220.0|(17000,[0,5,6,9,1...|10.551114217794265|           4|      2020|         11|                2|    2021|       12|              6|        1|(4,[0],[1.0])|(26,[0],[1.0])|   (9,[4],[1.0])|\n",
            "|    3|       3|        2|        210.0|          210.0|[-34.576053619384...|        3630.9|(17000,[6,20,22,2...| 8.197235830412668|           4|      2020|         11|                2|    2020|       11|              2|        0|(4,[3],[1.0])|(26,[0],[1.0])|   (9,[4],[1.0])|\n",
            "|    3|       3|        2|        432.0|          432.0|[-34.595085144042...|       11793.6|(17000,[0,1,4,5,6...| 9.375312290435025|           4|      2020|         11|                2|    2020|       11|              2|        0|(4,[0],[1.0])|(26,[0],[1.0])|   (9,[4],[1.0])|\n",
            "|    4|       2|        3|       1304.0|          590.0|[-34.612655639648...|        6825.0|(17000,[0,1,5,8,1...|  8.82834762005316|           4|      2020|         11|                2|    2021|       12|              6|        1|(4,[0],[1.0])|(26,[0],[1.0])|   (9,[4],[1.0])|\n",
            "|    2|       2|        1|       2100.0|         2000.0|[-34.413089752197...|        3640.0|(17000,[1,6,18,19...| 8.199738960630786|           4|      2020|         11|                2|    2021|       12|              6|        1|(4,[0],[1.0])|(26,[1],[1.0])|   (9,[6],[1.0])|\n",
            "|    3|       2|        1|         74.0|           64.0|[-34.879692077636...|         455.0|(17000,[0,1,2,3,4...|  6.12029741895095|           2|      2020|         11|                2|    2020|       11|              2|        0|(4,[3],[1.0])|(26,[0],[1.0])|   (9,[0],[1.0])|\n",
            "|    3|       2|        3|        208.0|          200.0|[-34.603286743164...|       3919.37|(17000,[5,11,20,2...|  8.27368620558287|           4|      2020|         11|                2|    2021|       12|              6|        1|(4,[0],[1.0])|(26,[0],[1.0])|   (9,[0],[1.0])|\n",
            "|    3|       2|        3|        375.0|          250.0|[-34.879692077636...|        7280.0|(17000,[1,2,3,5,6...| 8.892886141190731|           4|      2020|         11|                2|    2021|       12|              6|        1|(4,[0],[1.0])|(26,[0],[1.0])|   (9,[0],[1.0])|\n",
            "|    4|       3|        2|        466.2|          270.0|[-34.444469451904...|       10010.0|(17000,[0,3,10,11...| 9.211339872309265|           4|      2020|         11|                2|    2020|       11|              4|        0|(4,[0],[1.0])|(26,[1],[1.0])|   (9,[1],[1.0])|\n",
            "|    4|       3|        3|       438.17|         347.07|[-37.959014892578...|        3094.0|(17000,[0,1,3,4,5...| 8.037220031133012|           4|      2020|         11|                2|    2021|        2|              3|        0|(4,[1],[1.0])|(26,[3],[1.0])|   (9,[1],[1.0])|\n",
            "|    4|       3|        3|        330.0|          230.0|[-34.879692077636...|        3731.0|(17000,[0,2,3,4,5...| 8.224431573221159|           4|      2020|         11|                2|    2020|       11|              3|        0|(4,[0],[1.0])|(26,[1],[1.0])|   (9,[0],[1.0])|\n",
            "|    4|       3|        2|        172.0|          162.0|[-34.553192138671...|        2275.0|(17000,[0,3,6,11,...| 7.729735331385051|           4|      2020|         11|                2|    2021|       12|              6|        1|(4,[0],[1.0])|(26,[0],[1.0])|   (9,[0],[1.0])|\n",
            "|    4|       3|        3|        187.0|          187.0|[-34.594257354736...|        2730.0|(17000,[1,3,4,5,6...| 7.912056888179006|           4|      2020|         11|                2|    2021|       12|              6|        1|(4,[0],[1.0])|(26,[0],[1.0])|   (9,[0],[1.0])|\n",
            "|    4|       3|        4|        233.0|          233.0|[-34.879692077636...|        4095.0|(17000,[0,1,2,3,4...|  8.31752199628717|           4|      2020|         11|                2|    2021|       12|              6|        1|(4,[0],[1.0])|(26,[0],[1.0])|   (9,[0],[1.0])|\n",
            "|    5|       4|        5|        280.0|          250.0|[-34.879692077636...|        4095.0|(17000,[1,3,6,8,9...|  8.31752199628717|           4|      2020|         11|                2|    2020|       11|              3|        0|(4,[3],[1.0])|(26,[0],[1.0])|   (9,[0],[1.0])|\n",
            "|    6|       5|        4|        600.0|          550.0|[-34.436244964599...|        5460.0|(17000,[5,8,12,33...| 8.605204068738951|           4|      2020|         11|                2|    2021|       12|              6|        1|(4,[0],[1.0])|(26,[1],[1.0])|   (9,[1],[1.0])|\n",
            "|    6|       3|        3|       1000.0|          150.0|[-40.789234161376...|         291.2|(17000,[0,1,3,4,6...| 5.674010316322531|           1|      2020|         11|                2|    2021|       12|              6|        1|(4,[0],[1.0])|(26,[9],[1.0])|   (9,[1],[1.0])|\n",
            "|    8|       5|        6|       1741.2|          600.0|[-34.879692077636...|        3640.0|(17000,[0,2,4,6,8...| 8.199738960630786|           4|      2020|         11|                2|    2021|       12|              6|        1|(4,[0],[1.0])|(26,[1],[1.0])|   (9,[1],[1.0])|\n",
            "+-----+--------+---------+-------------+---------------+--------------------+--------------+--------------------+------------------+------------+----------+-----------+-----------------+--------+---------+---------------+---------+-------------+--------------+----------------+\n",
            "only showing top 20 rows\n",
            "\n"
          ]
        }
      ],
      "source": [
        "rent_df.show()"
      ]
    },
    {
      "cell_type": "markdown",
      "metadata": {
        "id": "0hsANQBbnFmF"
      },
      "source": [
        "## Dates (Month and Day of Week)"
      ]
    },
    {
      "cell_type": "markdown",
      "metadata": {
        "id": "WMJwJH-dALpU"
      },
      "source": [
        "We used StringIndexer to convert categorical values in columns such as 'start_month', 'end_month', 'start_day_of_week', and 'end_day_of_week' into numerical indices. Subsequently, OneHotEncoder is applied to these indexed values, creating binary vectors in new columns like 'encoded_start_month', 'encoded_end_month', 'encoded_start_day_of_week', and 'encoded_end_day_of_week'."
      ]
    },
    {
      "cell_type": "code",
      "execution_count": 66,
      "metadata": {
        "id": "RhMAase2m-Iu"
      },
      "outputs": [],
      "source": [
        "indexer_date = StringIndexer(inputCols=[\"start_month\", \"end_month\", \"start_day_of_week\", \"end_day_of_week\"],\n",
        "                              outputCols=[\"indexed_start_month\", \"indexed_end_month\", \"indexed_start_day_of_week\", \\\n",
        "                                          \"indexed_end_day_of_week\"])\n",
        "\n",
        "# One-hot encoding the indexed month and day columns\n",
        "encoder_date = OneHotEncoder(inputCols=[\"indexed_start_month\", \"indexed_end_month\", \"indexed_start_day_of_week\", \\\n",
        "                                        \"indexed_end_day_of_week\"],\n",
        "                        outputCols=[\"encoded_start_month\", \"encoded_end_month\", \"encoded_start_day_of_week\", \\\n",
        "                                    \"encoded_end_day_of_week\"])"
      ]
    },
    {
      "cell_type": "code",
      "execution_count": 67,
      "metadata": {
        "id": "kGZEiifxm-DV"
      },
      "outputs": [],
      "source": [
        "# Define a pipeline\n",
        "pipeline_date = Pipeline(stages=[indexer_date, encoder_date])"
      ]
    },
    {
      "cell_type": "code",
      "execution_count": 68,
      "metadata": {
        "id": "3yqmZVD7m-AV"
      },
      "outputs": [],
      "source": [
        "# Fit the pipeline to the DataFrame\n",
        "model_date = pipeline_date.fit(rent_df)\n",
        "\n",
        "# Transform the DataFrame\n",
        "rent_df = model_date.transform(rent_df)"
      ]
    },
    {
      "cell_type": "code",
      "execution_count": 69,
      "metadata": {
        "id": "sUOsaAMmm98i"
      },
      "outputs": [],
      "source": [
        "rent_df = rent_df.drop(\"indexed_start_month\", \"indexed_end_month\", \"indexed_start_day_of_week\", \"indexed_end_day_of_week\",\n",
        "                       \"start_month\", \"start_day_of_week\", \"end_month\", \"end_day_of_week\")"
      ]
    },
    {
      "cell_type": "code",
      "execution_count": 70,
      "metadata": {
        "colab": {
          "base_uri": "https://localhost:8080/"
        },
        "id": "8XILtjsjnOU7",
        "outputId": "18a9945e-2f70-4625-cb75-0d54b20e12f4"
      },
      "outputs": [
        {
          "output_type": "stream",
          "name": "stdout",
          "text": [
            "+-----+--------+---------+-------------+---------------+--------------------+--------------+--------------------+------------------+------------+----------+--------+---------+-------------+--------------+----------------+-------------------+-----------------+-------------------------+-----------------------+\n",
            "|rooms|bedrooms|bathrooms|surface_total|surface_covered|         coordinates|amount_in_euro|      final_features|         log_price|price_bucket|start_year|end_year|is_active|   l3_one_hot|    l2_one_hot|property_one_hot|encoded_start_month|encoded_end_month|encoded_start_day_of_week|encoded_end_day_of_week|\n",
            "+-----+--------+---------+-------------+---------------+--------------------+--------------+--------------------+------------------+------------+----------+--------+---------+-------------+--------------+----------------+-------------------+-----------------+-------------------------+-----------------------+\n",
            "|    2|       2|        1|       2189.0|         1813.0|[-34.581897735595...|       21385.0|(17000,[0,1,5,6,9...| 9.970445020661009|           4|      2020|    2020|        0|(4,[3],[1.0])|(26,[0],[1.0])|   (9,[2],[1.0])|         (11,[],[])|   (11,[9],[1.0])|            (6,[5],[1.0])|          (6,[4],[1.0])|\n",
            "|   10|       5|        9|       1500.0|         1500.0|[-34.597373962402...|       27300.0|(17000,[0,5,6,9,1...| 10.21464198117305|           4|      2020|    2021|        1|(4,[0],[1.0])|(26,[0],[1.0])|   (9,[4],[1.0])|         (11,[],[])|   (11,[0],[1.0])|            (6,[5],[1.0])|          (6,[0],[1.0])|\n",
            "|   14|      12|       12|       2000.0|         2000.0|[-34.597373962402...|       38220.0|(17000,[0,5,6,9,1...|10.551114217794265|           4|      2020|    2021|        1|(4,[0],[1.0])|(26,[0],[1.0])|   (9,[4],[1.0])|         (11,[],[])|   (11,[0],[1.0])|            (6,[5],[1.0])|          (6,[0],[1.0])|\n",
            "|    3|       3|        2|        210.0|          210.0|[-34.576053619384...|        3630.9|(17000,[6,20,22,2...| 8.197235830412668|           4|      2020|    2020|        0|(4,[3],[1.0])|(26,[0],[1.0])|   (9,[4],[1.0])|         (11,[],[])|   (11,[9],[1.0])|            (6,[5],[1.0])|          (6,[4],[1.0])|\n",
            "|    3|       3|        2|        432.0|          432.0|[-34.595085144042...|       11793.6|(17000,[0,1,4,5,6...| 9.375312290435025|           4|      2020|    2020|        0|(4,[0],[1.0])|(26,[0],[1.0])|   (9,[4],[1.0])|         (11,[],[])|   (11,[9],[1.0])|            (6,[5],[1.0])|          (6,[4],[1.0])|\n",
            "|    4|       2|        3|       1304.0|          590.0|[-34.612655639648...|        6825.0|(17000,[0,1,5,8,1...|  8.82834762005316|           4|      2020|    2021|        1|(4,[0],[1.0])|(26,[0],[1.0])|   (9,[4],[1.0])|         (11,[],[])|   (11,[0],[1.0])|            (6,[5],[1.0])|          (6,[0],[1.0])|\n",
            "|    2|       2|        1|       2100.0|         2000.0|[-34.413089752197...|        3640.0|(17000,[1,6,18,19...| 8.199738960630786|           4|      2020|    2021|        1|(4,[0],[1.0])|(26,[1],[1.0])|   (9,[6],[1.0])|         (11,[],[])|   (11,[0],[1.0])|            (6,[5],[1.0])|          (6,[0],[1.0])|\n",
            "|    3|       2|        1|         74.0|           64.0|[-34.879692077636...|         455.0|(17000,[0,1,2,3,4...|  6.12029741895095|           2|      2020|    2020|        0|(4,[3],[1.0])|(26,[0],[1.0])|   (9,[0],[1.0])|         (11,[],[])|   (11,[9],[1.0])|            (6,[5],[1.0])|          (6,[4],[1.0])|\n",
            "|    3|       2|        3|        208.0|          200.0|[-34.603286743164...|       3919.37|(17000,[5,11,20,2...|  8.27368620558287|           4|      2020|    2021|        1|(4,[0],[1.0])|(26,[0],[1.0])|   (9,[0],[1.0])|         (11,[],[])|   (11,[0],[1.0])|            (6,[5],[1.0])|          (6,[0],[1.0])|\n",
            "|    3|       2|        3|        375.0|          250.0|[-34.879692077636...|        7280.0|(17000,[1,2,3,5,6...| 8.892886141190731|           4|      2020|    2021|        1|(4,[0],[1.0])|(26,[0],[1.0])|   (9,[0],[1.0])|         (11,[],[])|   (11,[0],[1.0])|            (6,[5],[1.0])|          (6,[0],[1.0])|\n",
            "|    4|       3|        2|        466.2|          270.0|[-34.444469451904...|       10010.0|(17000,[0,3,10,11...| 9.211339872309265|           4|      2020|    2020|        0|(4,[0],[1.0])|(26,[1],[1.0])|   (9,[1],[1.0])|         (11,[],[])|   (11,[9],[1.0])|            (6,[5],[1.0])|          (6,[3],[1.0])|\n",
            "|    4|       3|        3|       438.17|         347.07|[-37.959014892578...|        3094.0|(17000,[0,1,3,4,5...| 8.037220031133012|           4|      2020|    2021|        0|(4,[1],[1.0])|(26,[3],[1.0])|   (9,[1],[1.0])|         (11,[],[])|   (11,[1],[1.0])|            (6,[5],[1.0])|          (6,[1],[1.0])|\n",
            "|    4|       3|        3|        330.0|          230.0|[-34.879692077636...|        3731.0|(17000,[0,2,3,4,5...| 8.224431573221159|           4|      2020|    2020|        0|(4,[0],[1.0])|(26,[1],[1.0])|   (9,[0],[1.0])|         (11,[],[])|   (11,[9],[1.0])|            (6,[5],[1.0])|          (6,[1],[1.0])|\n",
            "|    4|       3|        2|        172.0|          162.0|[-34.553192138671...|        2275.0|(17000,[0,3,6,11,...| 7.729735331385051|           4|      2020|    2021|        1|(4,[0],[1.0])|(26,[0],[1.0])|   (9,[0],[1.0])|         (11,[],[])|   (11,[0],[1.0])|            (6,[5],[1.0])|          (6,[0],[1.0])|\n",
            "|    4|       3|        3|        187.0|          187.0|[-34.594257354736...|        2730.0|(17000,[1,3,4,5,6...| 7.912056888179006|           4|      2020|    2021|        1|(4,[0],[1.0])|(26,[0],[1.0])|   (9,[0],[1.0])|         (11,[],[])|   (11,[0],[1.0])|            (6,[5],[1.0])|          (6,[0],[1.0])|\n",
            "|    4|       3|        4|        233.0|          233.0|[-34.879692077636...|        4095.0|(17000,[0,1,2,3,4...|  8.31752199628717|           4|      2020|    2021|        1|(4,[0],[1.0])|(26,[0],[1.0])|   (9,[0],[1.0])|         (11,[],[])|   (11,[0],[1.0])|            (6,[5],[1.0])|          (6,[0],[1.0])|\n",
            "|    5|       4|        5|        280.0|          250.0|[-34.879692077636...|        4095.0|(17000,[1,3,6,8,9...|  8.31752199628717|           4|      2020|    2020|        0|(4,[3],[1.0])|(26,[0],[1.0])|   (9,[0],[1.0])|         (11,[],[])|   (11,[9],[1.0])|            (6,[5],[1.0])|          (6,[1],[1.0])|\n",
            "|    6|       5|        4|        600.0|          550.0|[-34.436244964599...|        5460.0|(17000,[5,8,12,33...| 8.605204068738951|           4|      2020|    2021|        1|(4,[0],[1.0])|(26,[1],[1.0])|   (9,[1],[1.0])|         (11,[],[])|   (11,[0],[1.0])|            (6,[5],[1.0])|          (6,[0],[1.0])|\n",
            "|    6|       3|        3|       1000.0|          150.0|[-40.789234161376...|         291.2|(17000,[0,1,3,4,6...| 5.674010316322531|           1|      2020|    2021|        1|(4,[0],[1.0])|(26,[9],[1.0])|   (9,[1],[1.0])|         (11,[],[])|   (11,[0],[1.0])|            (6,[5],[1.0])|          (6,[0],[1.0])|\n",
            "|    8|       5|        6|       1741.2|          600.0|[-34.879692077636...|        3640.0|(17000,[0,2,4,6,8...| 8.199738960630786|           4|      2020|    2021|        1|(4,[0],[1.0])|(26,[1],[1.0])|   (9,[1],[1.0])|         (11,[],[])|   (11,[0],[1.0])|            (6,[5],[1.0])|          (6,[0],[1.0])|\n",
            "+-----+--------+---------+-------------+---------------+--------------------+--------------+--------------------+------------------+------------+----------+--------+---------+-------------+--------------+----------------+-------------------+-----------------+-------------------------+-----------------------+\n",
            "only showing top 20 rows\n",
            "\n"
          ]
        }
      ],
      "source": [
        "rent_df.show()"
      ]
    },
    {
      "cell_type": "markdown",
      "metadata": {
        "id": "mwCKFUsqnUHg"
      },
      "source": [
        "# Scaling\n",
        "Scaling is important for machine learning to ensure that features with different scales contribute equally to the model training process, preventing certain features from dominating due to their larger magnitude"
      ]
    },
    {
      "cell_type": "markdown",
      "metadata": {
        "id": "axNSHEr3nXPt"
      },
      "source": [
        "## Lat Lon"
      ]
    },
    {
      "cell_type": "code",
      "execution_count": 71,
      "metadata": {
        "colab": {
          "base_uri": "https://localhost:8080/"
        },
        "id": "AmJk7XaFnT6y",
        "outputId": "6f8f91cc-fb23-4f7f-c2f6-3e56df133912"
      },
      "outputs": [
        {
          "output_type": "execute_result",
          "data": {
            "text/plain": [
              "[('rooms', 'int'),\n",
              " ('bedrooms', 'int'),\n",
              " ('bathrooms', 'int'),\n",
              " ('surface_total', 'double'),\n",
              " ('surface_covered', 'double'),\n",
              " ('coordinates', 'array<double>'),\n",
              " ('amount_in_euro', 'double'),\n",
              " ('final_features', 'vector'),\n",
              " ('log_price', 'double'),\n",
              " ('price_bucket', 'int'),\n",
              " ('start_year', 'int'),\n",
              " ('end_year', 'int'),\n",
              " ('is_active', 'int'),\n",
              " ('l3_one_hot', 'vector'),\n",
              " ('l2_one_hot', 'vector'),\n",
              " ('property_one_hot', 'vector'),\n",
              " ('encoded_start_month', 'vector'),\n",
              " ('encoded_end_month', 'vector'),\n",
              " ('encoded_start_day_of_week', 'vector'),\n",
              " ('encoded_end_day_of_week', 'vector')]"
            ]
          },
          "metadata": {},
          "execution_count": 71
        }
      ],
      "source": [
        "rent_df.dtypes"
      ]
    },
    {
      "cell_type": "code",
      "execution_count": 72,
      "metadata": {
        "colab": {
          "base_uri": "https://localhost:8080/"
        },
        "id": "mJLRbr2cejMo",
        "outputId": "5dd25d37-4e38-4099-b309-95b631143f0c"
      },
      "outputs": [
        {
          "output_type": "execute_result",
          "data": {
            "text/plain": [
              "[('rooms', 'int'),\n",
              " ('bedrooms', 'int'),\n",
              " ('bathrooms', 'int'),\n",
              " ('surface_total', 'double'),\n",
              " ('surface_covered', 'double'),\n",
              " ('coordinates', 'array<double>'),\n",
              " ('amount_in_euro', 'double'),\n",
              " ('final_features', 'vector'),\n",
              " ('log_price', 'double'),\n",
              " ('price_bucket', 'int'),\n",
              " ('start_year', 'int'),\n",
              " ('end_year', 'int'),\n",
              " ('is_active', 'int'),\n",
              " ('l3_one_hot', 'vector'),\n",
              " ('l2_one_hot', 'vector'),\n",
              " ('property_one_hot', 'vector'),\n",
              " ('encoded_start_month', 'vector'),\n",
              " ('encoded_end_month', 'vector'),\n",
              " ('encoded_start_day_of_week', 'vector'),\n",
              " ('encoded_end_day_of_week', 'vector')]"
            ]
          },
          "metadata": {},
          "execution_count": 72
        }
      ],
      "source": [
        "rent_df.dtypes"
      ]
    },
    {
      "cell_type": "markdown",
      "metadata": {
        "id": "H8E23MQ2nb3r"
      },
      "source": [
        "\n",
        "We splitted the longitude and latitude, which are in list form, into two separate columns instead of a single list, to make them compatible with machine learning algorithms."
      ]
    },
    {
      "cell_type": "code",
      "execution_count": 73,
      "metadata": {
        "id": "S0sq4d6oQoHE"
      },
      "outputs": [],
      "source": [
        "rent_df = rent_df.withColumn(\"latitude\", col(\"coordinates\").getItem(0))\n",
        "rent_df = rent_df.withColumn(\"longitude\", col(\"coordinates\").getItem(1))"
      ]
    },
    {
      "cell_type": "markdown",
      "metadata": {
        "id": "bDg3nKVenegV"
      },
      "source": [
        "We applied MinMax scaling to normalize the latitude and longitude features. This was done to ensure that these features were on a similar scale to the other features in the dataset, making them comparable in magnitude.  \n",
        "By dropping the original \"coordinates\" column, combining latitude and longitude into a single feature vector using VectorAssembler, and then scaling this vector with MinMaxScaler, we achieved normalization. These steps ensured that geographical coordinates were on a similar scale as other features, enabling fair comparison and accurate analysis within our dataset."
      ]
    },
    {
      "cell_type": "code",
      "execution_count": 74,
      "metadata": {
        "id": "EQDIujuNnOMv"
      },
      "outputs": [],
      "source": [
        "rent_df = rent_df.drop(\"coordinates\")"
      ]
    },
    {
      "cell_type": "code",
      "execution_count": 75,
      "metadata": {
        "id": "FdWqL5EdnOI9"
      },
      "outputs": [],
      "source": [
        "# Define the VectorAssembler to combine latitude and longitude into a single feature vector\n",
        "assembler_coord = VectorAssembler(inputCols=[\"latitude\", \"longitude\"], outputCol=\"coordinates_vector\")\n",
        "\n",
        "# Define the scaler\n",
        "scaler_coord = MinMaxScaler(inputCol=\"coordinates_vector\", outputCol=\"scaled_coordinates\")"
      ]
    },
    {
      "cell_type": "code",
      "execution_count": 76,
      "metadata": {
        "colab": {
          "base_uri": "https://localhost:8080/"
        },
        "id": "Tg2l3Db3eHoB",
        "outputId": "7ea00bbb-0e9b-4acf-b8cc-676444e5f095"
      },
      "outputs": [
        {
          "output_type": "stream",
          "name": "stdout",
          "text": [
            "['rooms', 'bedrooms', 'bathrooms', 'surface_total', 'surface_covered', 'amount_in_euro', 'final_features', 'log_price', 'price_bucket', 'start_year', 'end_year', 'is_active', 'l3_one_hot', 'l2_one_hot', 'property_one_hot', 'encoded_start_month', 'encoded_end_month', 'encoded_start_day_of_week', 'encoded_end_day_of_week', 'latitude', 'longitude']\n"
          ]
        }
      ],
      "source": [
        "print(rent_df.columns)\n"
      ]
    },
    {
      "cell_type": "code",
      "execution_count": 77,
      "metadata": {
        "id": "Za3RRKnjeWVX"
      },
      "outputs": [],
      "source": [
        "# Create a pipeline and fit it\n",
        "pipeline_coord = Pipeline(stages=[assembler_coord, scaler_coord])\n",
        "model_coord = pipeline_coord.fit(rent_df)\n",
        "rent_df = model_coord.transform(rent_df)"
      ]
    },
    {
      "cell_type": "code",
      "execution_count": 78,
      "metadata": {
        "colab": {
          "base_uri": "https://localhost:8080/"
        },
        "id": "KM6ZKcoYnOAs",
        "outputId": "7bd90ceb-af81-4e19-9843-a62b78418e67"
      },
      "outputs": [
        {
          "output_type": "stream",
          "name": "stdout",
          "text": [
            "+-----+--------+---------+-------------+---------------+--------------+--------------------+------------------+------------+----------+--------+---------+-------------+--------------+----------------+-------------------+-----------------+-------------------------+-----------------------+-------------------+-------------------+--------------------+--------------------+\n",
            "|rooms|bedrooms|bathrooms|surface_total|surface_covered|amount_in_euro|      final_features|         log_price|price_bucket|start_year|end_year|is_active|   l3_one_hot|    l2_one_hot|property_one_hot|encoded_start_month|encoded_end_month|encoded_start_day_of_week|encoded_end_day_of_week|           latitude|          longitude|  coordinates_vector|  scaled_coordinates|\n",
            "+-----+--------+---------+-------------+---------------+--------------+--------------------+------------------+------------+----------+--------+---------+-------------+--------------+----------------+-------------------+-----------------+-------------------------+-----------------------+-------------------+-------------------+--------------------+--------------------+\n",
            "|    2|       2|        1|       2189.0|         1813.0|       21385.0|(17000,[0,1,5,6,9...| 9.970445020661009|           4|      2020|    2020|        0|(4,[3],[1.0])|(26,[0],[1.0])|   (9,[2],[1.0])|         (11,[],[])|   (11,[9],[1.0])|            (6,[5],[1.0])|          (6,[4],[1.0])|  -34.5818977355957| -58.43695068359375|[-34.581897735595...|[0.21176270844938...|\n",
            "|   10|       5|        9|       1500.0|         1500.0|       27300.0|(17000,[0,5,6,9,1...| 10.21464198117305|           4|      2020|    2021|        1|(4,[0],[1.0])|(26,[0],[1.0])|   (9,[4],[1.0])|         (11,[],[])|   (11,[0],[1.0])|            (6,[5],[1.0])|          (6,[0],[1.0])|-34.597373962402344| -58.37876510620117|[-34.597373962402...|[0.21160071297176...|\n",
            "|   14|      12|       12|       2000.0|         2000.0|       38220.0|(17000,[0,5,6,9,1...|10.551114217794265|           4|      2020|    2021|        1|(4,[0],[1.0])|(26,[0],[1.0])|   (9,[4],[1.0])|         (11,[],[])|   (11,[0],[1.0])|            (6,[5],[1.0])|          (6,[0],[1.0])|-34.597373962402344| -58.37876510620117|[-34.597373962402...|[0.21160071297176...|\n",
            "|    3|       3|        2|        210.0|          210.0|        3630.9|(17000,[6,20,22,2...| 8.197235830412668|           4|      2020|    2020|        0|(4,[3],[1.0])|(26,[0],[1.0])|   (9,[4],[1.0])|         (11,[],[])|   (11,[9],[1.0])|            (6,[5],[1.0])|          (6,[4],[1.0])|-34.576053619384766| -58.40154266357422|[-34.576053619384...|[0.21182388100835...|\n",
            "|    3|       3|        2|        432.0|          432.0|       11793.6|(17000,[0,1,4,5,6...| 9.375312290435025|           4|      2020|    2020|        0|(4,[0],[1.0])|(26,[0],[1.0])|   (9,[4],[1.0])|         (11,[],[])|   (11,[9],[1.0])|            (6,[5],[1.0])|          (6,[4],[1.0])| -34.59508514404297| -58.37207794189453|[-34.595085144042...|[0.21162467089303...|\n",
            "|    4|       2|        3|       1304.0|          590.0|        6825.0|(17000,[0,1,5,8,1...|  8.82834762005316|           4|      2020|    2021|        1|(4,[0],[1.0])|(26,[0],[1.0])|   (9,[4],[1.0])|         (11,[],[])|   (11,[0],[1.0])|            (6,[5],[1.0])|          (6,[0],[1.0])| -34.61265563964844| -58.38187026977539|[-34.612655639648...|[0.21144075391744...|\n",
            "|    2|       2|        1|       2100.0|         2000.0|        3640.0|(17000,[1,6,18,19...| 8.199738960630786|           4|      2020|    2021|        1|(4,[0],[1.0])|(26,[1],[1.0])|   (9,[6],[1.0])|         (11,[],[])|   (11,[0],[1.0])|            (6,[5],[1.0])|          (6,[0],[1.0])|-34.413089752197266| -58.96527862548828|[-34.413089752197...|[0.21352968500244...|\n",
            "|    3|       2|        1|         74.0|           64.0|         455.0|(17000,[0,1,2,3,4...|  6.12029741895095|           2|      2020|    2020|        0|(4,[3],[1.0])|(26,[0],[1.0])|   (9,[0],[1.0])|         (11,[],[])|   (11,[9],[1.0])|            (6,[5],[1.0])|          (6,[4],[1.0])| -34.87969207763672|-59.226341247558594|[-34.879692077636...|[0.20864558324341...|\n",
            "|    3|       2|        3|        208.0|          200.0|       3919.37|(17000,[5,11,20,2...|  8.27368620558287|           4|      2020|    2021|        1|(4,[0],[1.0])|(26,[0],[1.0])|   (9,[0],[1.0])|         (11,[],[])|   (11,[0],[1.0])|            (6,[5],[1.0])|          (6,[0],[1.0])| -34.60328674316406| -58.36337661743164|[-34.603286743164...|[0.21153882167516...|\n",
            "|    3|       2|        3|        375.0|          250.0|        7280.0|(17000,[1,2,3,5,6...| 8.892886141190731|           4|      2020|    2021|        1|(4,[0],[1.0])|(26,[0],[1.0])|   (9,[0],[1.0])|         (11,[],[])|   (11,[0],[1.0])|            (6,[5],[1.0])|          (6,[0],[1.0])| -34.87969207763672|-59.226341247558594|[-34.879692077636...|[0.20864558324341...|\n",
            "|    4|       3|        2|        466.2|          270.0|       10010.0|(17000,[0,3,10,11...| 9.211339872309265|           4|      2020|    2020|        0|(4,[0],[1.0])|(26,[1],[1.0])|   (9,[1],[1.0])|         (11,[],[])|   (11,[9],[1.0])|            (6,[5],[1.0])|          (6,[3],[1.0])|  -34.4444694519043| -58.72944259643555|[-34.444469451904...|[0.21320122190190...|\n",
            "|    4|       3|        3|       438.17|         347.07|        3094.0|(17000,[0,1,3,4,5...| 8.037220031133012|           4|      2020|    2021|        0|(4,[1],[1.0])|(26,[3],[1.0])|   (9,[1],[1.0])|         (11,[],[])|   (11,[1],[1.0])|            (6,[5],[1.0])|          (6,[1],[1.0])|-37.959014892578125| -57.56409454345703|[-37.959014892578...|[0.17641315499109...|\n",
            "|    4|       3|        3|        330.0|          230.0|        3731.0|(17000,[0,2,3,4,5...| 8.224431573221159|           4|      2020|    2020|        0|(4,[0],[1.0])|(26,[1],[1.0])|   (9,[0],[1.0])|         (11,[],[])|   (11,[9],[1.0])|            (6,[5],[1.0])|          (6,[1],[1.0])| -34.87969207763672|-59.226341247558594|[-34.879692077636...|[0.20864558324341...|\n",
            "|    4|       3|        2|        172.0|          162.0|        2275.0|(17000,[0,3,6,11,...| 7.729735331385051|           4|      2020|    2021|        1|(4,[0],[1.0])|(26,[0],[1.0])|   (9,[0],[1.0])|         (11,[],[])|   (11,[0],[1.0])|            (6,[5],[1.0])|          (6,[0],[1.0])|-34.553192138671875|-58.436641693115234|[-34.553192138671...|[0.21206318071192...|\n",
            "|    4|       3|        3|        187.0|          187.0|        2730.0|(17000,[1,3,4,5,6...| 7.912056888179006|           4|      2020|    2021|        1|(4,[0],[1.0])|(26,[0],[1.0])|   (9,[0],[1.0])|         (11,[],[])|   (11,[0],[1.0])|            (6,[5],[1.0])|          (6,[0],[1.0])| -34.59425735473633| -58.38591766357422|[-34.594257354736...|[0.21163333567455...|\n",
            "|    4|       3|        4|        233.0|          233.0|        4095.0|(17000,[0,1,2,3,4...|  8.31752199628717|           4|      2020|    2021|        1|(4,[0],[1.0])|(26,[0],[1.0])|   (9,[0],[1.0])|         (11,[],[])|   (11,[0],[1.0])|            (6,[5],[1.0])|          (6,[0],[1.0])| -34.87969207763672|-59.226341247558594|[-34.879692077636...|[0.20864558324341...|\n",
            "|    5|       4|        5|        280.0|          250.0|        4095.0|(17000,[1,3,6,8,9...|  8.31752199628717|           4|      2020|    2020|        0|(4,[3],[1.0])|(26,[0],[1.0])|   (9,[0],[1.0])|         (11,[],[])|   (11,[9],[1.0])|            (6,[5],[1.0])|          (6,[1],[1.0])| -34.87969207763672|-59.226341247558594|[-34.879692077636...|[0.20864558324341...|\n",
            "|    6|       5|        4|        600.0|          550.0|        5460.0|(17000,[5,8,12,33...| 8.605204068738951|           4|      2020|    2021|        1|(4,[0],[1.0])|(26,[1],[1.0])|   (9,[1],[1.0])|         (11,[],[])|   (11,[0],[1.0])|            (6,[5],[1.0])|          (6,[0],[1.0])| -34.43624496459961| -58.62520217895508|[-34.436244964599...|[0.21328731069898...|\n",
            "|    6|       3|        3|       1000.0|          150.0|         291.2|(17000,[0,1,3,4,6...| 5.674010316322531|           1|      2020|    2021|        1|(4,[0],[1.0])|(26,[9],[1.0])|   (9,[1],[1.0])|         (11,[],[])|   (11,[0],[1.0])|            (6,[5],[1.0])|          (6,[0],[1.0])| -40.78923416137695|  -71.5979995727539|[-40.789234161376...|[0.14678818709970...|\n",
            "|    8|       5|        6|       1741.2|          600.0|        3640.0|(17000,[0,2,4,6,8...| 8.199738960630786|           4|      2020|    2021|        1|(4,[0],[1.0])|(26,[1],[1.0])|   (9,[1],[1.0])|         (11,[],[])|   (11,[0],[1.0])|            (6,[5],[1.0])|          (6,[0],[1.0])| -34.87969207763672|-59.226341247558594|[-34.879692077636...|[0.20864558324341...|\n",
            "+-----+--------+---------+-------------+---------------+--------------+--------------------+------------------+------------+----------+--------+---------+-------------+--------------+----------------+-------------------+-----------------+-------------------------+-----------------------+-------------------+-------------------+--------------------+--------------------+\n",
            "only showing top 20 rows\n",
            "\n"
          ]
        }
      ],
      "source": [
        "rent_df.show()"
      ]
    },
    {
      "cell_type": "code",
      "execution_count": 79,
      "metadata": {
        "id": "qmVKoi7UnzUd"
      },
      "outputs": [],
      "source": [
        "rent_df = rent_df.drop(\"latitude\", \"longitude\", \"coordinates_vector\")"
      ]
    },
    {
      "cell_type": "markdown",
      "metadata": {
        "id": "MvXKh0pin2WZ"
      },
      "source": [
        "We utilized the K-means clustering algorithm to cluster geographic locations. This algorithm partitioned the geographical coordinates into clusters based on their proximity, allowing us to categorize locations into groups with similar latitudes and longitudes."
      ]
    },
    {
      "cell_type": "code",
      "execution_count": 80,
      "metadata": {
        "id": "TZwEqysgnzPv"
      },
      "outputs": [],
      "source": [
        "kmeans = KMeans(featuresCol='scaled_coordinates', predictionCol='geo_cluster', k=10)\n",
        "model_kmeans = kmeans.fit(rent_df)\n",
        "rent_df = model_kmeans.transform(rent_df)\n"
      ]
    },
    {
      "cell_type": "code",
      "execution_count": 81,
      "metadata": {
        "colab": {
          "base_uri": "https://localhost:8080/"
        },
        "id": "2JwPcMrDnzLT",
        "outputId": "df8cc260-4d37-4283-8a0e-0071c6ec29f8"
      },
      "outputs": [
        {
          "output_type": "stream",
          "name": "stdout",
          "text": [
            "+-----+--------+---------+-------------+---------------+--------------+--------------------+------------------+------------+----------+--------+---------+-------------+--------------+----------------+-------------------+-----------------+-------------------------+-----------------------+--------------------+-----------+\n",
            "|rooms|bedrooms|bathrooms|surface_total|surface_covered|amount_in_euro|      final_features|         log_price|price_bucket|start_year|end_year|is_active|   l3_one_hot|    l2_one_hot|property_one_hot|encoded_start_month|encoded_end_month|encoded_start_day_of_week|encoded_end_day_of_week|  scaled_coordinates|geo_cluster|\n",
            "+-----+--------+---------+-------------+---------------+--------------+--------------------+------------------+------------+----------+--------+---------+-------------+--------------+----------------+-------------------+-----------------+-------------------------+-----------------------+--------------------+-----------+\n",
            "|    2|       2|        1|       2189.0|         1813.0|       21385.0|(17000,[0,1,5,6,9...| 9.970445020661009|           4|      2020|    2020|        0|(4,[3],[1.0])|(26,[0],[1.0])|   (9,[2],[1.0])|         (11,[],[])|   (11,[9],[1.0])|            (6,[5],[1.0])|          (6,[4],[1.0])|[0.21176270844938...|          9|\n",
            "|   10|       5|        9|       1500.0|         1500.0|       27300.0|(17000,[0,5,6,9,1...| 10.21464198117305|           4|      2020|    2021|        1|(4,[0],[1.0])|(26,[0],[1.0])|   (9,[4],[1.0])|         (11,[],[])|   (11,[0],[1.0])|            (6,[5],[1.0])|          (6,[0],[1.0])|[0.21160071297176...|          9|\n",
            "|   14|      12|       12|       2000.0|         2000.0|       38220.0|(17000,[0,5,6,9,1...|10.551114217794265|           4|      2020|    2021|        1|(4,[0],[1.0])|(26,[0],[1.0])|   (9,[4],[1.0])|         (11,[],[])|   (11,[0],[1.0])|            (6,[5],[1.0])|          (6,[0],[1.0])|[0.21160071297176...|          9|\n",
            "|    3|       3|        2|        210.0|          210.0|        3630.9|(17000,[6,20,22,2...| 8.197235830412668|           4|      2020|    2020|        0|(4,[3],[1.0])|(26,[0],[1.0])|   (9,[4],[1.0])|         (11,[],[])|   (11,[9],[1.0])|            (6,[5],[1.0])|          (6,[4],[1.0])|[0.21182388100835...|          9|\n",
            "|    3|       3|        2|        432.0|          432.0|       11793.6|(17000,[0,1,4,5,6...| 9.375312290435025|           4|      2020|    2020|        0|(4,[0],[1.0])|(26,[0],[1.0])|   (9,[4],[1.0])|         (11,[],[])|   (11,[9],[1.0])|            (6,[5],[1.0])|          (6,[4],[1.0])|[0.21162467089303...|          9|\n",
            "|    4|       2|        3|       1304.0|          590.0|        6825.0|(17000,[0,1,5,8,1...|  8.82834762005316|           4|      2020|    2021|        1|(4,[0],[1.0])|(26,[0],[1.0])|   (9,[4],[1.0])|         (11,[],[])|   (11,[0],[1.0])|            (6,[5],[1.0])|          (6,[0],[1.0])|[0.21144075391744...|          9|\n",
            "|    2|       2|        1|       2100.0|         2000.0|        3640.0|(17000,[1,6,18,19...| 8.199738960630786|           4|      2020|    2021|        1|(4,[0],[1.0])|(26,[1],[1.0])|   (9,[6],[1.0])|         (11,[],[])|   (11,[0],[1.0])|            (6,[5],[1.0])|          (6,[0],[1.0])|[0.21352968500244...|          6|\n",
            "|    3|       2|        1|         74.0|           64.0|         455.0|(17000,[0,1,2,3,4...|  6.12029741895095|           2|      2020|    2020|        0|(4,[3],[1.0])|(26,[0],[1.0])|   (9,[0],[1.0])|         (11,[],[])|   (11,[9],[1.0])|            (6,[5],[1.0])|          (6,[4],[1.0])|[0.20864558324341...|          6|\n",
            "|    3|       2|        3|        208.0|          200.0|       3919.37|(17000,[5,11,20,2...|  8.27368620558287|           4|      2020|    2021|        1|(4,[0],[1.0])|(26,[0],[1.0])|   (9,[0],[1.0])|         (11,[],[])|   (11,[0],[1.0])|            (6,[5],[1.0])|          (6,[0],[1.0])|[0.21153882167516...|          9|\n",
            "|    3|       2|        3|        375.0|          250.0|        7280.0|(17000,[1,2,3,5,6...| 8.892886141190731|           4|      2020|    2021|        1|(4,[0],[1.0])|(26,[0],[1.0])|   (9,[0],[1.0])|         (11,[],[])|   (11,[0],[1.0])|            (6,[5],[1.0])|          (6,[0],[1.0])|[0.20864558324341...|          6|\n",
            "|    4|       3|        2|        466.2|          270.0|       10010.0|(17000,[0,3,10,11...| 9.211339872309265|           4|      2020|    2020|        0|(4,[0],[1.0])|(26,[1],[1.0])|   (9,[1],[1.0])|         (11,[],[])|   (11,[9],[1.0])|            (6,[5],[1.0])|          (6,[3],[1.0])|[0.21320122190190...|          0|\n",
            "|    4|       3|        3|       438.17|         347.07|        3094.0|(17000,[0,1,3,4,5...| 8.037220031133012|           4|      2020|    2021|        0|(4,[1],[1.0])|(26,[3],[1.0])|   (9,[1],[1.0])|         (11,[],[])|   (11,[1],[1.0])|            (6,[5],[1.0])|          (6,[1],[1.0])|[0.17641315499109...|          7|\n",
            "|    4|       3|        3|        330.0|          230.0|        3731.0|(17000,[0,2,3,4,5...| 8.224431573221159|           4|      2020|    2020|        0|(4,[0],[1.0])|(26,[1],[1.0])|   (9,[0],[1.0])|         (11,[],[])|   (11,[9],[1.0])|            (6,[5],[1.0])|          (6,[1],[1.0])|[0.20864558324341...|          6|\n",
            "|    4|       3|        2|        172.0|          162.0|        2275.0|(17000,[0,3,6,11,...| 7.729735331385051|           4|      2020|    2021|        1|(4,[0],[1.0])|(26,[0],[1.0])|   (9,[0],[1.0])|         (11,[],[])|   (11,[0],[1.0])|            (6,[5],[1.0])|          (6,[0],[1.0])|[0.21206318071192...|          9|\n",
            "|    4|       3|        3|        187.0|          187.0|        2730.0|(17000,[1,3,4,5,6...| 7.912056888179006|           4|      2020|    2021|        1|(4,[0],[1.0])|(26,[0],[1.0])|   (9,[0],[1.0])|         (11,[],[])|   (11,[0],[1.0])|            (6,[5],[1.0])|          (6,[0],[1.0])|[0.21163333567455...|          9|\n",
            "|    4|       3|        4|        233.0|          233.0|        4095.0|(17000,[0,1,2,3,4...|  8.31752199628717|           4|      2020|    2021|        1|(4,[0],[1.0])|(26,[0],[1.0])|   (9,[0],[1.0])|         (11,[],[])|   (11,[0],[1.0])|            (6,[5],[1.0])|          (6,[0],[1.0])|[0.20864558324341...|          6|\n",
            "|    5|       4|        5|        280.0|          250.0|        4095.0|(17000,[1,3,6,8,9...|  8.31752199628717|           4|      2020|    2020|        0|(4,[3],[1.0])|(26,[0],[1.0])|   (9,[0],[1.0])|         (11,[],[])|   (11,[9],[1.0])|            (6,[5],[1.0])|          (6,[1],[1.0])|[0.20864558324341...|          6|\n",
            "|    6|       5|        4|        600.0|          550.0|        5460.0|(17000,[5,8,12,33...| 8.605204068738951|           4|      2020|    2021|        1|(4,[0],[1.0])|(26,[1],[1.0])|   (9,[1],[1.0])|         (11,[],[])|   (11,[0],[1.0])|            (6,[5],[1.0])|          (6,[0],[1.0])|[0.21328731069898...|          0|\n",
            "|    6|       3|        3|       1000.0|          150.0|         291.2|(17000,[0,1,3,4,6...| 5.674010316322531|           1|      2020|    2021|        1|(4,[0],[1.0])|(26,[9],[1.0])|   (9,[1],[1.0])|         (11,[],[])|   (11,[0],[1.0])|            (6,[5],[1.0])|          (6,[0],[1.0])|[0.14678818709970...|          2|\n",
            "|    8|       5|        6|       1741.2|          600.0|        3640.0|(17000,[0,2,4,6,8...| 8.199738960630786|           4|      2020|    2021|        1|(4,[0],[1.0])|(26,[1],[1.0])|   (9,[1],[1.0])|         (11,[],[])|   (11,[0],[1.0])|            (6,[5],[1.0])|          (6,[0],[1.0])|[0.20864558324341...|          6|\n",
            "+-----+--------+---------+-------------+---------------+--------------+--------------------+------------------+------------+----------+--------+---------+-------------+--------------+----------------+-------------------+-----------------+-------------------------+-----------------------+--------------------+-----------+\n",
            "only showing top 20 rows\n",
            "\n"
          ]
        }
      ],
      "source": [
        "rent_df.show()"
      ]
    },
    {
      "cell_type": "code",
      "execution_count": 82,
      "metadata": {
        "id": "jh7WTorhnzH6"
      },
      "outputs": [],
      "source": [
        "rent_df = rent_df.drop(\"scaled_coordinates\")"
      ]
    },
    {
      "cell_type": "markdown",
      "source": [
        "## Final Features"
      ],
      "metadata": {
        "id": "59rnw1hDM5bP"
      }
    },
    {
      "cell_type": "markdown",
      "source": [
        "We applied a MinMaxScaler to the 'final_features' column which is a numeric vector representation of our text column, creating a scaled version in the new column 'scaled_final_features', and then removed the original 'final_features' column."
      ],
      "metadata": {
        "id": "LoqWAhfsADus"
      }
    },
    {
      "cell_type": "code",
      "source": [
        "minmax_scaler = MinMaxScaler(inputCol=\"final_features\", outputCol=\"scaled_final_features\")\n",
        "\n",
        "minmax_scaler_model = minmax_scaler.fit(rent_df)\n",
        "\n",
        "rent_df = minmax_scaler_model.transform(rent_df)"
      ],
      "metadata": {
        "id": "JuVhoc3dN9VW"
      },
      "execution_count": 83,
      "outputs": []
    },
    {
      "cell_type": "code",
      "source": [
        "rent_df = rent_df.drop(\"final_features\")"
      ],
      "metadata": {
        "id": "utEglFPXOXDq"
      },
      "execution_count": 84,
      "outputs": []
    },
    {
      "cell_type": "code",
      "source": [
        "rent_df.show()"
      ],
      "metadata": {
        "colab": {
          "base_uri": "https://localhost:8080/"
        },
        "id": "js4k_dkgOY-_",
        "outputId": "1a189911-4443-40a0-ca5f-b7e9825b26e9"
      },
      "execution_count": 85,
      "outputs": [
        {
          "output_type": "stream",
          "name": "stdout",
          "text": [
            "+-----+--------+---------+-------------+---------------+--------------+------------------+------------+----------+--------+---------+-------------+--------------+----------------+-------------------+-----------------+-------------------------+-----------------------+-----------+---------------------+\n",
            "|rooms|bedrooms|bathrooms|surface_total|surface_covered|amount_in_euro|         log_price|price_bucket|start_year|end_year|is_active|   l3_one_hot|    l2_one_hot|property_one_hot|encoded_start_month|encoded_end_month|encoded_start_day_of_week|encoded_end_day_of_week|geo_cluster|scaled_final_features|\n",
            "+-----+--------+---------+-------------+---------------+--------------+------------------+------------+----------+--------+---------+-------------+--------------+----------------+-------------------+-----------------+-------------------------+-----------------------+-----------+---------------------+\n",
            "|    2|       2|        1|       2189.0|         1813.0|       21385.0| 9.970445020661009|           4|      2020|    2020|        0|(4,[3],[1.0])|(26,[0],[1.0])|   (9,[2],[1.0])|         (11,[],[])|   (11,[9],[1.0])|            (6,[5],[1.0])|          (6,[4],[1.0])|          9| (17000,[0,1,5,6,9...|\n",
            "|   10|       5|        9|       1500.0|         1500.0|       27300.0| 10.21464198117305|           4|      2020|    2021|        1|(4,[0],[1.0])|(26,[0],[1.0])|   (9,[4],[1.0])|         (11,[],[])|   (11,[0],[1.0])|            (6,[5],[1.0])|          (6,[0],[1.0])|          9| (17000,[0,5,6,9,1...|\n",
            "|   14|      12|       12|       2000.0|         2000.0|       38220.0|10.551114217794265|           4|      2020|    2021|        1|(4,[0],[1.0])|(26,[0],[1.0])|   (9,[4],[1.0])|         (11,[],[])|   (11,[0],[1.0])|            (6,[5],[1.0])|          (6,[0],[1.0])|          9| (17000,[0,5,6,9,1...|\n",
            "|    3|       3|        2|        210.0|          210.0|        3630.9| 8.197235830412668|           4|      2020|    2020|        0|(4,[3],[1.0])|(26,[0],[1.0])|   (9,[4],[1.0])|         (11,[],[])|   (11,[9],[1.0])|            (6,[5],[1.0])|          (6,[4],[1.0])|          9| (17000,[6,20,22,2...|\n",
            "|    3|       3|        2|        432.0|          432.0|       11793.6| 9.375312290435025|           4|      2020|    2020|        0|(4,[0],[1.0])|(26,[0],[1.0])|   (9,[4],[1.0])|         (11,[],[])|   (11,[9],[1.0])|            (6,[5],[1.0])|          (6,[4],[1.0])|          9| (17000,[0,1,4,5,6...|\n",
            "|    4|       2|        3|       1304.0|          590.0|        6825.0|  8.82834762005316|           4|      2020|    2021|        1|(4,[0],[1.0])|(26,[0],[1.0])|   (9,[4],[1.0])|         (11,[],[])|   (11,[0],[1.0])|            (6,[5],[1.0])|          (6,[0],[1.0])|          9| (17000,[0,1,5,8,1...|\n",
            "|    2|       2|        1|       2100.0|         2000.0|        3640.0| 8.199738960630786|           4|      2020|    2021|        1|(4,[0],[1.0])|(26,[1],[1.0])|   (9,[6],[1.0])|         (11,[],[])|   (11,[0],[1.0])|            (6,[5],[1.0])|          (6,[0],[1.0])|          6| (17000,[1,6,18,19...|\n",
            "|    3|       2|        1|         74.0|           64.0|         455.0|  6.12029741895095|           2|      2020|    2020|        0|(4,[3],[1.0])|(26,[0],[1.0])|   (9,[0],[1.0])|         (11,[],[])|   (11,[9],[1.0])|            (6,[5],[1.0])|          (6,[4],[1.0])|          6| (17000,[0,1,2,3,4...|\n",
            "|    3|       2|        3|        208.0|          200.0|       3919.37|  8.27368620558287|           4|      2020|    2021|        1|(4,[0],[1.0])|(26,[0],[1.0])|   (9,[0],[1.0])|         (11,[],[])|   (11,[0],[1.0])|            (6,[5],[1.0])|          (6,[0],[1.0])|          9| (17000,[5,11,20,2...|\n",
            "|    3|       2|        3|        375.0|          250.0|        7280.0| 8.892886141190731|           4|      2020|    2021|        1|(4,[0],[1.0])|(26,[0],[1.0])|   (9,[0],[1.0])|         (11,[],[])|   (11,[0],[1.0])|            (6,[5],[1.0])|          (6,[0],[1.0])|          6| (17000,[1,2,3,5,6...|\n",
            "|    4|       3|        2|        466.2|          270.0|       10010.0| 9.211339872309265|           4|      2020|    2020|        0|(4,[0],[1.0])|(26,[1],[1.0])|   (9,[1],[1.0])|         (11,[],[])|   (11,[9],[1.0])|            (6,[5],[1.0])|          (6,[3],[1.0])|          0| (17000,[0,3,10,11...|\n",
            "|    4|       3|        3|       438.17|         347.07|        3094.0| 8.037220031133012|           4|      2020|    2021|        0|(4,[1],[1.0])|(26,[3],[1.0])|   (9,[1],[1.0])|         (11,[],[])|   (11,[1],[1.0])|            (6,[5],[1.0])|          (6,[1],[1.0])|          7| (17000,[0,1,3,4,5...|\n",
            "|    4|       3|        3|        330.0|          230.0|        3731.0| 8.224431573221159|           4|      2020|    2020|        0|(4,[0],[1.0])|(26,[1],[1.0])|   (9,[0],[1.0])|         (11,[],[])|   (11,[9],[1.0])|            (6,[5],[1.0])|          (6,[1],[1.0])|          6| (17000,[0,2,3,4,5...|\n",
            "|    4|       3|        2|        172.0|          162.0|        2275.0| 7.729735331385051|           4|      2020|    2021|        1|(4,[0],[1.0])|(26,[0],[1.0])|   (9,[0],[1.0])|         (11,[],[])|   (11,[0],[1.0])|            (6,[5],[1.0])|          (6,[0],[1.0])|          9| (17000,[0,3,6,11,...|\n",
            "|    4|       3|        3|        187.0|          187.0|        2730.0| 7.912056888179006|           4|      2020|    2021|        1|(4,[0],[1.0])|(26,[0],[1.0])|   (9,[0],[1.0])|         (11,[],[])|   (11,[0],[1.0])|            (6,[5],[1.0])|          (6,[0],[1.0])|          9| (17000,[1,3,4,5,6...|\n",
            "|    4|       3|        4|        233.0|          233.0|        4095.0|  8.31752199628717|           4|      2020|    2021|        1|(4,[0],[1.0])|(26,[0],[1.0])|   (9,[0],[1.0])|         (11,[],[])|   (11,[0],[1.0])|            (6,[5],[1.0])|          (6,[0],[1.0])|          6| (17000,[0,1,2,3,4...|\n",
            "|    5|       4|        5|        280.0|          250.0|        4095.0|  8.31752199628717|           4|      2020|    2020|        0|(4,[3],[1.0])|(26,[0],[1.0])|   (9,[0],[1.0])|         (11,[],[])|   (11,[9],[1.0])|            (6,[5],[1.0])|          (6,[1],[1.0])|          6| (17000,[1,3,6,8,9...|\n",
            "|    6|       5|        4|        600.0|          550.0|        5460.0| 8.605204068738951|           4|      2020|    2021|        1|(4,[0],[1.0])|(26,[1],[1.0])|   (9,[1],[1.0])|         (11,[],[])|   (11,[0],[1.0])|            (6,[5],[1.0])|          (6,[0],[1.0])|          0| (17000,[5,8,12,33...|\n",
            "|    6|       3|        3|       1000.0|          150.0|         291.2| 5.674010316322531|           1|      2020|    2021|        1|(4,[0],[1.0])|(26,[9],[1.0])|   (9,[1],[1.0])|         (11,[],[])|   (11,[0],[1.0])|            (6,[5],[1.0])|          (6,[0],[1.0])|          2| (17000,[0,1,3,4,6...|\n",
            "|    8|       5|        6|       1741.2|          600.0|        3640.0| 8.199738960630786|           4|      2020|    2021|        1|(4,[0],[1.0])|(26,[1],[1.0])|   (9,[1],[1.0])|         (11,[],[])|   (11,[0],[1.0])|            (6,[5],[1.0])|          (6,[0],[1.0])|          6| (17000,[0,2,4,6,8...|\n",
            "+-----+--------+---------+-------------+---------------+--------------+------------------+------------+----------+--------+---------+-------------+--------------+----------------+-------------------+-----------------+-------------------------+-----------------------+-----------+---------------------+\n",
            "only showing top 20 rows\n",
            "\n"
          ]
        }
      ]
    },
    {
      "cell_type": "markdown",
      "metadata": {
        "id": "Br6gtaRRn8g0"
      },
      "source": [
        "## Other Columns"
      ]
    },
    {
      "cell_type": "markdown",
      "metadata": {
        "id": "beVkz8O5DQB1"
      },
      "source": [
        "We first assemble the selected numerical features (\"rooms\", \"bedrooms\", \"bathrooms\", \"surface_total\", \"surface_covered\") into a single vector column named \"features\" using VectorAssembler. Then, we scale these features using MinMaxScaler to ensure that all features are within the same scale range.\n"
      ]
    },
    {
      "cell_type": "code",
      "execution_count": 86,
      "metadata": {
        "id": "IM0Zhce0nzDN"
      },
      "outputs": [],
      "source": [
        "assembler_other = VectorAssembler(\n",
        "    inputCols=[\"rooms\", \"bedrooms\", \"bathrooms\", \"surface_total\", \"surface_covered\"],\n",
        "    outputCol=\"features\")"
      ]
    },
    {
      "cell_type": "code",
      "execution_count": 87,
      "metadata": {
        "id": "mKOHB_m_ny_W"
      },
      "outputs": [],
      "source": [
        "scaler_other = MinMaxScaler(\n",
        "    inputCol=\"features\",\n",
        "    outputCol=\"scaled_features\")"
      ]
    },
    {
      "cell_type": "code",
      "execution_count": 88,
      "metadata": {
        "id": "sFAeIncTny7h"
      },
      "outputs": [],
      "source": [
        "pipeline_other = Pipeline(stages=[assembler_other, scaler_other])\n",
        "\n",
        "# Fit the pipeline to the DataFrame\n",
        "model_other = pipeline_other.fit(rent_df)\n",
        "\n",
        "# Transform the DataFrame\n",
        "rent_df = model_other.transform(rent_df)"
      ]
    },
    {
      "cell_type": "markdown",
      "metadata": {
        "id": "Y0_dhtxUDoAD"
      },
      "source": [
        "To handle the scaled features, we convert the vector representation into a list format using a function (UDF) named \"split_array_to_list\". This allows for easier manipulation and compatibility with subsequent processing steps.\n",
        "\n",
        "Afterwards, we extract each scaled feature from the list representation and create separate columns for them, appending \"_scaled\" to the original feature name (e.g., \"rooms_scaled\", \"bedrooms_scaled\", etc.) make scaled feature easily accessible for analysis and modeling tasks."
      ]
    },
    {
      "cell_type": "code",
      "execution_count": 89,
      "metadata": {
        "id": "nWPIHbJ2ny3J"
      },
      "outputs": [],
      "source": [
        "def split_array_to_list(col):\n",
        "    def to_list(v):\n",
        "        return v.toArray().tolist()\n",
        "    return F.udf(to_list, ArrayType(DoubleType()))(col)\n"
      ]
    },
    {
      "cell_type": "code",
      "execution_count": 90,
      "metadata": {
        "id": "9o4wjDuBnyy1"
      },
      "outputs": [],
      "source": [
        "rent_df = rent_df.withColumn(\"scaled_features\", split_array_to_list(F.col(\"scaled_features\")))"
      ]
    },
    {
      "cell_type": "code",
      "execution_count": 91,
      "metadata": {
        "id": "JYArpNiKoEvV"
      },
      "outputs": [],
      "source": [
        "for i, feature in enumerate([\"rooms\", \"bedrooms\", \"bathrooms\", \"surface_total\", \"surface_covered\"]):\n",
        "    rent_df = rent_df.withColumn(f\"{feature}_scaled\", col(\"scaled_features\")[i])"
      ]
    },
    {
      "cell_type": "code",
      "execution_count": 92,
      "metadata": {
        "colab": {
          "base_uri": "https://localhost:8080/"
        },
        "id": "2hL8kjrgoErG",
        "outputId": "b1f5a73d-e259-4dd9-8ac0-498925c96d25"
      },
      "outputs": [
        {
          "output_type": "stream",
          "name": "stdout",
          "text": [
            "+-----+--------+---------+-------------+---------------+--------------+------------------+------------+----------+--------+---------+-------------+--------------+----------------+-------------------+-----------------+-------------------------+-----------------------+-----------+---------------------+--------------------+--------------------+--------------------+-------------------+-------------------+--------------------+----------------------+\n",
            "|rooms|bedrooms|bathrooms|surface_total|surface_covered|amount_in_euro|         log_price|price_bucket|start_year|end_year|is_active|   l3_one_hot|    l2_one_hot|property_one_hot|encoded_start_month|encoded_end_month|encoded_start_day_of_week|encoded_end_day_of_week|geo_cluster|scaled_final_features|            features|     scaled_features|        rooms_scaled|    bedrooms_scaled|   bathrooms_scaled|surface_total_scaled|surface_covered_scaled|\n",
            "+-----+--------+---------+-------------+---------------+--------------+------------------+------------+----------+--------+---------+-------------+--------------+----------------+-------------------+-----------------+-------------------------+-----------------------+-----------+---------------------+--------------------+--------------------+--------------------+-------------------+-------------------+--------------------+----------------------+\n",
            "|    2|       2|        1|       2189.0|         1813.0|       21385.0| 9.970445020661009|           4|      2020|    2020|        0|(4,[3],[1.0])|(26,[0],[1.0])|   (9,[2],[1.0])|         (11,[],[])|   (11,[9],[1.0])|            (6,[5],[1.0])|          (6,[4],[1.0])|          9| (17000,[0,1,5,6,9...|[2.0,2.0,1.0,2189...|[0.02941176470588...|0.029411764705882353|0.03225806451612903|                0.0|0.013619601225076569|  0.022386340069590064|\n",
            "|   10|       5|        9|       1500.0|         1500.0|       27300.0| 10.21464198117305|           4|      2020|    2021|        1|(4,[0],[1.0])|(26,[0],[1.0])|   (9,[4],[1.0])|         (11,[],[])|   (11,[0],[1.0])|            (6,[5],[1.0])|          (6,[0],[1.0])|          9| (17000,[0,5,6,9,1...|[10.0,5.0,9.0,150...|[0.26470588235294...|  0.2647058823529412|0.08064516129032258|0.42105263157894735|0.009313082067629227|  0.018780100006912923|\n",
            "|   14|      12|       12|       2000.0|         2000.0|       38220.0|10.551114217794265|           4|      2020|    2021|        1|(4,[0],[1.0])|(26,[0],[1.0])|   (9,[4],[1.0])|         (11,[],[])|   (11,[0],[1.0])|            (6,[5],[1.0])|          (6,[0],[1.0])|          9| (17000,[0,5,6,9,1...|[14.0,12.0,12.0,2...|[0.38235294117647...| 0.38235294117647056| 0.1935483870967742| 0.5789473684210527|0.012438277392337022|  0.024540866880199092|\n",
            "|    3|       3|        2|        210.0|          210.0|        3630.9| 8.197235830412668|           4|      2020|    2020|        0|(4,[3],[1.0])|(26,[0],[1.0])|   (9,[4],[1.0])|         (11,[],[])|   (11,[9],[1.0])|            (6,[5],[1.0])|          (6,[4],[1.0])|          9| (17000,[6,20,22,2...|[3.0,3.0,2.0,210....|[0.05882352941176...|0.058823529411764705|0.04838709677419355|0.05263157894736842|0.001250078129883...|  0.003917321473834597|\n",
            "|    3|       3|        2|        432.0|          432.0|       11793.6| 9.375312290435025|           4|      2020|    2020|        0|(4,[0],[1.0])|(26,[0],[1.0])|   (9,[4],[1.0])|         (11,[],[])|   (11,[9],[1.0])|            (6,[5],[1.0])|          (6,[4],[1.0])|          9| (17000,[0,1,4,5,6...|[3.0,3.0,2.0,432....|[0.05882352941176...|0.058823529411764705|0.04838709677419355|0.05263157894736842|0.002637664854053...|  0.006475101965573658|\n",
            "|    4|       2|        3|       1304.0|          590.0|        6825.0|  8.82834762005316|           4|      2020|    2021|        1|(4,[0],[1.0])|(26,[0],[1.0])|   (9,[4],[1.0])|         (11,[],[])|   (11,[0],[1.0])|            (6,[5],[1.0])|          (6,[0],[1.0])|          9| (17000,[0,1,5,8,1...|[4.0,2.0,3.0,1304...|[0.08823529411764...| 0.08823529411764705|0.03225806451612903|0.10526315789473684|0.008088005500343772|  0.008295504297532088|\n",
            "|    2|       2|        1|       2100.0|         2000.0|        3640.0| 8.199738960630786|           4|      2020|    2021|        1|(4,[0],[1.0])|(26,[1],[1.0])|   (9,[6],[1.0])|         (11,[],[])|   (11,[0],[1.0])|            (6,[5],[1.0])|          (6,[0],[1.0])|          6| (17000,[1,6,18,19...|[2.0,2.0,1.0,2100...|[0.02941176470588...|0.029411764705882353|0.03225806451612903|                0.0|0.013063316457278581|  0.024540866880199092|\n",
            "|    3|       2|        1|         74.0|           64.0|         455.0|  6.12029741895095|           2|      2020|    2020|        0|(4,[3],[1.0])|(26,[0],[1.0])|   (9,[0],[1.0])|         (11,[],[])|   (11,[9],[1.0])|            (6,[5],[1.0])|          (6,[4],[1.0])|          6| (17000,[0,1,2,3,4...|[3.0,2.0,1.0,74.0...|[0.05882352941176...|0.058823529411764705|0.03225806451612903|                0.0|4.000250015625977E-4|  0.002235177546835035|\n",
            "|    3|       2|        3|        208.0|          200.0|       3919.37|  8.27368620558287|           4|      2020|    2021|        1|(4,[0],[1.0])|(26,[0],[1.0])|   (9,[0],[1.0])|         (11,[],[])|   (11,[0],[1.0])|            (6,[5],[1.0])|          (6,[0],[1.0])|          9| (17000,[5,11,20,2...|[3.0,2.0,3.0,208....|[0.05882352941176...|0.058823529411764705|0.03225806451612903|0.10526315789473684|0.001237577348584...|  0.003802106136368...|\n",
            "|    3|       2|        3|        375.0|          250.0|        7280.0| 8.892886141190731|           4|      2020|    2021|        1|(4,[0],[1.0])|(26,[0],[1.0])|   (9,[0],[1.0])|         (11,[],[])|   (11,[0],[1.0])|            (6,[5],[1.0])|          (6,[0],[1.0])|          6| (17000,[1,2,3,5,6...|[3.0,2.0,3.0,375....|[0.05882352941176...|0.058823529411764705|0.03225806451612903|0.10526315789473684| 0.00228139258703669|  0.004378182823697491|\n",
            "|    4|       3|        2|        466.2|          270.0|       10010.0| 9.211339872309265|           4|      2020|    2020|        0|(4,[0],[1.0])|(26,[1],[1.0])|   (9,[1],[1.0])|         (11,[],[])|   (11,[9],[1.0])|            (6,[5],[1.0])|          (6,[3],[1.0])|          0| (17000,[0,3,10,11...|[4.0,3.0,2.0,466....|[0.08823529411764...| 0.08823529411764705|0.04838709677419355|0.05263157894736842|0.002851428214263...|  0.004608613498628938|\n",
            "|    4|       3|        3|       438.17|         347.07|        3094.0| 8.037220031133012|           4|      2020|    2021|        0|(4,[1],[1.0])|(26,[3],[1.0])|   (9,[1],[1.0])|         (11,[],[])|   (11,[1],[1.0])|            (6,[5],[1.0])|          (6,[1],[1.0])|          7| (17000,[0,1,3,4,5...|[4.0,3.0,3.0,438....|[0.08823529411764...| 0.08823529411764705|0.04838709677419355|0.10526315789473684|0.002676229764360...|  0.005496578104477268|\n",
            "|    4|       3|        3|        330.0|          230.0|        3731.0| 8.224431573221159|           4|      2020|    2020|        0|(4,[0],[1.0])|(26,[1],[1.0])|   (9,[0],[1.0])|         (11,[],[])|   (11,[9],[1.0])|            (6,[5],[1.0])|          (6,[1],[1.0])|          6| (17000,[0,2,3,4,5...|[4.0,3.0,3.0,330....|[0.08823529411764...| 0.08823529411764705|0.04838709677419355|0.10526315789473684|0.002000125007812...|  0.004147752148766044|\n",
            "|    4|       3|        2|        172.0|          162.0|        2275.0| 7.729735331385051|           4|      2020|    2021|        1|(4,[0],[1.0])|(26,[0],[1.0])|   (9,[0],[1.0])|         (11,[],[])|   (11,[0],[1.0])|            (6,[5],[1.0])|          (6,[0],[1.0])|          9| (17000,[0,3,6,11,...|[4.0,3.0,2.0,172....|[0.08823529411764...| 0.08823529411764705|0.04838709677419355|0.05263157894736842|0.001012563285205...|  0.003364287853999...|\n",
            "|    4|       3|        3|        187.0|          187.0|        2730.0| 7.912056888179006|           4|      2020|    2021|        1|(4,[0],[1.0])|(26,[0],[1.0])|   (9,[0],[1.0])|         (11,[],[])|   (11,[0],[1.0])|            (6,[5],[1.0])|          (6,[0],[1.0])|          9| (17000,[1,3,4,5,6...|[4.0,3.0,3.0,187....|[0.08823529411764...| 0.08823529411764705|0.04838709677419355|0.10526315789473684|0.001106319144946...|  0.003652326197663...|\n",
            "|    4|       3|        4|        233.0|          233.0|        4095.0|  8.31752199628717|           4|      2020|    2021|        1|(4,[0],[1.0])|(26,[0],[1.0])|   (9,[0],[1.0])|         (11,[],[])|   (11,[0],[1.0])|            (6,[5],[1.0])|          (6,[0],[1.0])|          6| (17000,[0,1,2,3,4...|[4.0,3.0,4.0,233....|[0.08823529411764...| 0.08823529411764705|0.04838709677419355|0.15789473684210525|0.001393837114819...|  0.004182316750005761|\n",
            "|    5|       4|        5|        280.0|          250.0|        4095.0|  8.31752199628717|           4|      2020|    2020|        0|(4,[3],[1.0])|(26,[0],[1.0])|   (9,[0],[1.0])|         (11,[],[])|   (11,[9],[1.0])|            (6,[5],[1.0])|          (6,[1],[1.0])|          6| (17000,[1,3,6,8,9...|[5.0,4.0,5.0,280....|[0.11764705882352...| 0.11764705882352941|0.06451612903225806|0.21052631578947367|0.001687605475342209|  0.004378182823697491|\n",
            "|    6|       5|        4|        600.0|          550.0|        5460.0| 8.605204068738951|           4|      2020|    2021|        1|(4,[0],[1.0])|(26,[1],[1.0])|   (9,[1],[1.0])|         (11,[],[])|   (11,[0],[1.0])|            (6,[5],[1.0])|          (6,[0],[1.0])|          0| (17000,[5,8,12,33...|[6.0,5.0,4.0,600....|[0.14705882352941...| 0.14705882352941177|0.08064516129032258|0.15789473684210525|0.003687730483155...|  0.007834642947669194|\n",
            "|    6|       3|        3|       1000.0|          150.0|         291.2| 5.674010316322531|           1|      2020|    2021|        1|(4,[0],[1.0])|(26,[9],[1.0])|   (9,[1],[1.0])|         (11,[],[])|   (11,[0],[1.0])|            (6,[5],[1.0])|          (6,[0],[1.0])|          2| (17000,[0,1,3,4,6...|[6.0,3.0,3.0,1000...|[0.14705882352941...| 0.14705882352941177|0.04838709677419355|0.10526315789473684|0.006187886742921433|  0.003226029449040...|\n",
            "|    8|       5|        6|       1741.2|          600.0|        3640.0| 8.199738960630786|           4|      2020|    2021|        1|(4,[0],[1.0])|(26,[1],[1.0])|   (9,[1],[1.0])|         (11,[],[])|   (11,[0],[1.0])|            (6,[5],[1.0])|          (6,[0],[1.0])|          6| (17000,[0,2,4,6,8...|[8.0,5.0,6.0,1741...|[0.20588235294117...| 0.20588235294117646|0.08064516129032258| 0.2631578947368421|0.010820676292268268|  0.008410719634997812|\n",
            "+-----+--------+---------+-------------+---------------+--------------+------------------+------------+----------+--------+---------+-------------+--------------+----------------+-------------------+-----------------+-------------------------+-----------------------+-----------+---------------------+--------------------+--------------------+--------------------+-------------------+-------------------+--------------------+----------------------+\n",
            "only showing top 20 rows\n",
            "\n"
          ]
        }
      ],
      "source": [
        "rent_df.show()"
      ]
    },
    {
      "cell_type": "code",
      "execution_count": 93,
      "metadata": {
        "id": "qu7RsC8hoEmc"
      },
      "outputs": [],
      "source": [
        "#drop original columns\n",
        "rent_df = rent_df.drop(\"rooms\", \"bedrooms\", \"bathrooms\", \"surface_total\", \"surface_covered\", \"features\", \"scaled_features\")"
      ]
    },
    {
      "cell_type": "code",
      "execution_count": 94,
      "metadata": {
        "colab": {
          "base_uri": "https://localhost:8080/"
        },
        "id": "Cfib1ZXIoEiv",
        "outputId": "12a1c51d-b41d-408b-ea00-652799205e92"
      },
      "outputs": [
        {
          "output_type": "stream",
          "name": "stdout",
          "text": [
            "+--------------+------------------+------------+----------+--------+---------+-------------+--------------+----------------+-------------------+-----------------+-------------------------+-----------------------+-----------+---------------------+--------------------+-------------------+-------------------+--------------------+----------------------+\n",
            "|amount_in_euro|         log_price|price_bucket|start_year|end_year|is_active|   l3_one_hot|    l2_one_hot|property_one_hot|encoded_start_month|encoded_end_month|encoded_start_day_of_week|encoded_end_day_of_week|geo_cluster|scaled_final_features|        rooms_scaled|    bedrooms_scaled|   bathrooms_scaled|surface_total_scaled|surface_covered_scaled|\n",
            "+--------------+------------------+------------+----------+--------+---------+-------------+--------------+----------------+-------------------+-----------------+-------------------------+-----------------------+-----------+---------------------+--------------------+-------------------+-------------------+--------------------+----------------------+\n",
            "|       21385.0| 9.970445020661009|           4|      2020|    2020|        0|(4,[3],[1.0])|(26,[0],[1.0])|   (9,[2],[1.0])|         (11,[],[])|   (11,[9],[1.0])|            (6,[5],[1.0])|          (6,[4],[1.0])|          9| (17000,[0,1,5,6,9...|0.029411764705882353|0.03225806451612903|                0.0|0.013619601225076569|  0.022386340069590064|\n",
            "|       27300.0| 10.21464198117305|           4|      2020|    2021|        1|(4,[0],[1.0])|(26,[0],[1.0])|   (9,[4],[1.0])|         (11,[],[])|   (11,[0],[1.0])|            (6,[5],[1.0])|          (6,[0],[1.0])|          9| (17000,[0,5,6,9,1...|  0.2647058823529412|0.08064516129032258|0.42105263157894735|0.009313082067629227|  0.018780100006912923|\n",
            "|       38220.0|10.551114217794265|           4|      2020|    2021|        1|(4,[0],[1.0])|(26,[0],[1.0])|   (9,[4],[1.0])|         (11,[],[])|   (11,[0],[1.0])|            (6,[5],[1.0])|          (6,[0],[1.0])|          9| (17000,[0,5,6,9,1...| 0.38235294117647056| 0.1935483870967742| 0.5789473684210527|0.012438277392337022|  0.024540866880199092|\n",
            "|        3630.9| 8.197235830412668|           4|      2020|    2020|        0|(4,[3],[1.0])|(26,[0],[1.0])|   (9,[4],[1.0])|         (11,[],[])|   (11,[9],[1.0])|            (6,[5],[1.0])|          (6,[4],[1.0])|          9| (17000,[6,20,22,2...|0.058823529411764705|0.04838709677419355|0.05263157894736842|0.001250078129883...|  0.003917321473834597|\n",
            "|       11793.6| 9.375312290435025|           4|      2020|    2020|        0|(4,[0],[1.0])|(26,[0],[1.0])|   (9,[4],[1.0])|         (11,[],[])|   (11,[9],[1.0])|            (6,[5],[1.0])|          (6,[4],[1.0])|          9| (17000,[0,1,4,5,6...|0.058823529411764705|0.04838709677419355|0.05263157894736842|0.002637664854053...|  0.006475101965573658|\n",
            "|        6825.0|  8.82834762005316|           4|      2020|    2021|        1|(4,[0],[1.0])|(26,[0],[1.0])|   (9,[4],[1.0])|         (11,[],[])|   (11,[0],[1.0])|            (6,[5],[1.0])|          (6,[0],[1.0])|          9| (17000,[0,1,5,8,1...| 0.08823529411764705|0.03225806451612903|0.10526315789473684|0.008088005500343772|  0.008295504297532088|\n",
            "|        3640.0| 8.199738960630786|           4|      2020|    2021|        1|(4,[0],[1.0])|(26,[1],[1.0])|   (9,[6],[1.0])|         (11,[],[])|   (11,[0],[1.0])|            (6,[5],[1.0])|          (6,[0],[1.0])|          6| (17000,[1,6,18,19...|0.029411764705882353|0.03225806451612903|                0.0|0.013063316457278581|  0.024540866880199092|\n",
            "|         455.0|  6.12029741895095|           2|      2020|    2020|        0|(4,[3],[1.0])|(26,[0],[1.0])|   (9,[0],[1.0])|         (11,[],[])|   (11,[9],[1.0])|            (6,[5],[1.0])|          (6,[4],[1.0])|          6| (17000,[0,1,2,3,4...|0.058823529411764705|0.03225806451612903|                0.0|4.000250015625977E-4|  0.002235177546835035|\n",
            "|       3919.37|  8.27368620558287|           4|      2020|    2021|        1|(4,[0],[1.0])|(26,[0],[1.0])|   (9,[0],[1.0])|         (11,[],[])|   (11,[0],[1.0])|            (6,[5],[1.0])|          (6,[0],[1.0])|          9| (17000,[5,11,20,2...|0.058823529411764705|0.03225806451612903|0.10526315789473684|0.001237577348584...|  0.003802106136368...|\n",
            "|        7280.0| 8.892886141190731|           4|      2020|    2021|        1|(4,[0],[1.0])|(26,[0],[1.0])|   (9,[0],[1.0])|         (11,[],[])|   (11,[0],[1.0])|            (6,[5],[1.0])|          (6,[0],[1.0])|          6| (17000,[1,2,3,5,6...|0.058823529411764705|0.03225806451612903|0.10526315789473684| 0.00228139258703669|  0.004378182823697491|\n",
            "|       10010.0| 9.211339872309265|           4|      2020|    2020|        0|(4,[0],[1.0])|(26,[1],[1.0])|   (9,[1],[1.0])|         (11,[],[])|   (11,[9],[1.0])|            (6,[5],[1.0])|          (6,[3],[1.0])|          0| (17000,[0,3,10,11...| 0.08823529411764705|0.04838709677419355|0.05263157894736842|0.002851428214263...|  0.004608613498628938|\n",
            "|        3094.0| 8.037220031133012|           4|      2020|    2021|        0|(4,[1],[1.0])|(26,[3],[1.0])|   (9,[1],[1.0])|         (11,[],[])|   (11,[1],[1.0])|            (6,[5],[1.0])|          (6,[1],[1.0])|          7| (17000,[0,1,3,4,5...| 0.08823529411764705|0.04838709677419355|0.10526315789473684|0.002676229764360...|  0.005496578104477268|\n",
            "|        3731.0| 8.224431573221159|           4|      2020|    2020|        0|(4,[0],[1.0])|(26,[1],[1.0])|   (9,[0],[1.0])|         (11,[],[])|   (11,[9],[1.0])|            (6,[5],[1.0])|          (6,[1],[1.0])|          6| (17000,[0,2,3,4,5...| 0.08823529411764705|0.04838709677419355|0.10526315789473684|0.002000125007812...|  0.004147752148766044|\n",
            "|        2275.0| 7.729735331385051|           4|      2020|    2021|        1|(4,[0],[1.0])|(26,[0],[1.0])|   (9,[0],[1.0])|         (11,[],[])|   (11,[0],[1.0])|            (6,[5],[1.0])|          (6,[0],[1.0])|          9| (17000,[0,3,6,11,...| 0.08823529411764705|0.04838709677419355|0.05263157894736842|0.001012563285205...|  0.003364287853999...|\n",
            "|        2730.0| 7.912056888179006|           4|      2020|    2021|        1|(4,[0],[1.0])|(26,[0],[1.0])|   (9,[0],[1.0])|         (11,[],[])|   (11,[0],[1.0])|            (6,[5],[1.0])|          (6,[0],[1.0])|          9| (17000,[1,3,4,5,6...| 0.08823529411764705|0.04838709677419355|0.10526315789473684|0.001106319144946...|  0.003652326197663...|\n",
            "|        4095.0|  8.31752199628717|           4|      2020|    2021|        1|(4,[0],[1.0])|(26,[0],[1.0])|   (9,[0],[1.0])|         (11,[],[])|   (11,[0],[1.0])|            (6,[5],[1.0])|          (6,[0],[1.0])|          6| (17000,[0,1,2,3,4...| 0.08823529411764705|0.04838709677419355|0.15789473684210525|0.001393837114819...|  0.004182316750005761|\n",
            "|        4095.0|  8.31752199628717|           4|      2020|    2020|        0|(4,[3],[1.0])|(26,[0],[1.0])|   (9,[0],[1.0])|         (11,[],[])|   (11,[9],[1.0])|            (6,[5],[1.0])|          (6,[1],[1.0])|          6| (17000,[1,3,6,8,9...| 0.11764705882352941|0.06451612903225806|0.21052631578947367|0.001687605475342209|  0.004378182823697491|\n",
            "|        5460.0| 8.605204068738951|           4|      2020|    2021|        1|(4,[0],[1.0])|(26,[1],[1.0])|   (9,[1],[1.0])|         (11,[],[])|   (11,[0],[1.0])|            (6,[5],[1.0])|          (6,[0],[1.0])|          0| (17000,[5,8,12,33...| 0.14705882352941177|0.08064516129032258|0.15789473684210525|0.003687730483155...|  0.007834642947669194|\n",
            "|         291.2| 5.674010316322531|           1|      2020|    2021|        1|(4,[0],[1.0])|(26,[9],[1.0])|   (9,[1],[1.0])|         (11,[],[])|   (11,[0],[1.0])|            (6,[5],[1.0])|          (6,[0],[1.0])|          2| (17000,[0,1,3,4,6...| 0.14705882352941177|0.04838709677419355|0.10526315789473684|0.006187886742921433|  0.003226029449040...|\n",
            "|        3640.0| 8.199738960630786|           4|      2020|    2021|        1|(4,[0],[1.0])|(26,[1],[1.0])|   (9,[1],[1.0])|         (11,[],[])|   (11,[0],[1.0])|            (6,[5],[1.0])|          (6,[0],[1.0])|          6| (17000,[0,2,4,6,8...| 0.20588235294117646|0.08064516129032258| 0.2631578947368421|0.010820676292268268|  0.008410719634997812|\n",
            "+--------------+------------------+------------+----------+--------+---------+-------------+--------------+----------------+-------------------+-----------------+-------------------------+-----------------------+-----------+---------------------+--------------------+-------------------+-------------------+--------------------+----------------------+\n",
            "only showing top 20 rows\n",
            "\n"
          ]
        }
      ],
      "source": [
        "rent_df.show()"
      ]
    },
    {
      "cell_type": "code",
      "execution_count": 95,
      "metadata": {
        "id": "C8f51MnbhkIt"
      },
      "outputs": [],
      "source": [
        "rent_df=rent_df.drop(\"amount_in_euro\",\"log_price\")"
      ]
    },
    {
      "cell_type": "markdown",
      "source": [
        "Note: back to EDA we saw that the surface_total and 'surface_covered' are high correlated so we decided to drop out the one of them to avoid multicoliniarity."
      ],
      "metadata": {
        "id": "1m5jmQZnttNX"
      }
    },
    {
      "cell_type": "code",
      "source": [
        "rent_df = rent_df.drop('surface_covered_scaled')"
      ],
      "metadata": {
        "id": "XE3v8T9CtrFA"
      },
      "execution_count": 96,
      "outputs": []
    },
    {
      "cell_type": "code",
      "execution_count": 97,
      "metadata": {
        "id": "x6DMVT8F_z19"
      },
      "outputs": [],
      "source": [
        "rent_df.write.format(\"parquet\").mode(\"overwrite\").save(google_drive_path + \"rent_ml.parquet\")"
      ]
    },
    {
      "cell_type": "markdown",
      "metadata": {
        "id": "TNZkDqdOx8kV"
      },
      "source": [
        "# Feature Selection"
      ]
    },
    {
      "cell_type": "code",
      "execution_count": 98,
      "metadata": {
        "id": "otK7w0tu_4b1"
      },
      "outputs": [],
      "source": [
        "rent_df = spark.read.format(\"parquet\").load(google_drive_path + \"rent_ml.parquet\")"
      ]
    },
    {
      "cell_type": "code",
      "execution_count": 99,
      "metadata": {
        "colab": {
          "base_uri": "https://localhost:8080/"
        },
        "id": "AXYyvQb-0TFI",
        "outputId": "c70ef79a-66e2-4c77-9e7c-4fa10ea543e4"
      },
      "outputs": [
        {
          "output_type": "execute_result",
          "data": {
            "text/plain": [
              "[('price_bucket', 'int'),\n",
              " ('start_year', 'int'),\n",
              " ('end_year', 'int'),\n",
              " ('is_active', 'int'),\n",
              " ('l3_one_hot', 'vector'),\n",
              " ('l2_one_hot', 'vector'),\n",
              " ('property_one_hot', 'vector'),\n",
              " ('encoded_start_month', 'vector'),\n",
              " ('encoded_end_month', 'vector'),\n",
              " ('encoded_start_day_of_week', 'vector'),\n",
              " ('encoded_end_day_of_week', 'vector'),\n",
              " ('geo_cluster', 'int'),\n",
              " ('scaled_final_features', 'vector'),\n",
              " ('rooms_scaled', 'double'),\n",
              " ('bedrooms_scaled', 'double'),\n",
              " ('bathrooms_scaled', 'double'),\n",
              " ('surface_total_scaled', 'double')]"
            ]
          },
          "metadata": {},
          "execution_count": 99
        }
      ],
      "source": [
        "rent_df.dtypes"
      ]
    },
    {
      "cell_type": "code",
      "execution_count": 100,
      "metadata": {
        "colab": {
          "base_uri": "https://localhost:8080/"
        },
        "id": "v0_ZOtl_0HZu",
        "outputId": "182b0cec-1122-46b8-87ac-1f4a8687be93"
      },
      "outputs": [
        {
          "output_type": "execute_result",
          "data": {
            "text/plain": [
              "DataFrame[price_bucket: int, start_year: int, end_year: int, is_active: int, l3_one_hot: vector, l2_one_hot: vector, property_one_hot: vector, encoded_start_month: vector, encoded_end_month: vector, encoded_start_day_of_week: vector, encoded_end_day_of_week: vector, geo_cluster: int, scaled_final_features: vector, rooms_scaled: double, bedrooms_scaled: double, bathrooms_scaled: double, surface_total_scaled: double]"
            ]
          },
          "metadata": {},
          "execution_count": 100
        }
      ],
      "source": [
        "rent_df.cache()"
      ]
    },
    {
      "cell_type": "code",
      "execution_count": 101,
      "metadata": {
        "id": "WwH_3FrKbSx9"
      },
      "outputs": [],
      "source": [
        "#split the dataset to train and test set with seed=5\n",
        "(trainingData, testData)= rent_df.randomSplit([0.7, 0.3],seed=5)"
      ]
    },
    {
      "cell_type": "code",
      "execution_count": 103,
      "metadata": {
        "colab": {
          "base_uri": "https://localhost:8080/"
        },
        "id": "nv8EhHv4oEe5",
        "outputId": "7a0fdbad-aa73-41e2-fe01-02144cb8f889"
      },
      "outputs": [
        {
          "output_type": "stream",
          "name": "stdout",
          "text": [
            "Feature: start_year, Importance: 0.002853830171876703\n",
            "Feature: l2_one_hot, Importance: 0.0017757300100067917\n",
            "Feature: bedrooms_scaled, Importance: 0.001072785568983559\n",
            "Feature: encoded_start_day_of_week, Importance: 0.00042748610995869745\n",
            "Feature: encoded_start_month, Importance: 0.00034011274084579584\n",
            "Feature: rooms_scaled, Importance: 9.983280776532907e-05\n",
            "Feature: end_year, Importance: 5.4698944892703716e-05\n",
            "Feature: scaled_final_features, Importance: 0.0\n",
            "Feature: is_active, Importance: 0.0\n",
            "Feature: l3_one_hot, Importance: 0.0\n",
            "Feature: property_one_hot, Importance: 0.0\n",
            "Feature: encoded_end_month, Importance: 0.0\n",
            "Feature: encoded_end_day_of_week, Importance: 0.0\n",
            "Feature: geo_cluster, Importance: 0.0\n",
            "Feature: bathrooms_scaled, Importance: 0.0\n",
            "Feature: surface_total_scaled, Importance: 0.0\n"
          ]
        }
      ],
      "source": [
        "# Define all features\n",
        "features = [\n",
        "    'scaled_final_features', 'start_year', 'end_year', 'is_active',\n",
        "    'l3_one_hot', 'l2_one_hot', 'property_one_hot', 'encoded_start_month',\n",
        "    'encoded_end_month', 'encoded_start_day_of_week', 'encoded_end_day_of_week',\n",
        "    'geo_cluster', 'rooms_scaled', 'bedrooms_scaled', 'bathrooms_scaled',\n",
        "    'surface_total_scaled']\n",
        "\n",
        "# Assemble features into a single vector\n",
        "assembler = VectorAssembler(inputCols=features, outputCol=\"features\")\n",
        "train_data_transformed = assembler.transform(trainingData)\n",
        "\n",
        "# Initialize the Random Forest classifier\n",
        "rf_classifier = RandomForestClassifier(featuresCol=\"features\", labelCol=\"price_bucket\", numTrees=10)\n",
        "\n",
        "# Train the Random Forest model\n",
        "rf_model = rf_classifier.fit(train_data_transformed)\n",
        "\n",
        "# Extract feature importances\n",
        "importances = rf_model.featureImportances\n",
        "\n",
        "# Map feature importances to feature names\n",
        "feature_dict = dict(zip(features, importances))\n",
        "sorted_features = sorted(feature_dict.items(), key=lambda x: x[1], reverse=True)\n",
        "\n",
        "# Print the sorted features by importance\n",
        "for feature, importance in sorted_features:\n",
        "    print(f\"Feature: {feature}, Importance: {importance}\")\n"
      ]
    },
    {
      "cell_type": "markdown",
      "metadata": {
        "id": "dbK1j4i1b7y0"
      },
      "source": [
        "Results of Random Forest Feature selection:   \n",
        "Feature: start_year, Importance: 0.002853830171876703  \n",
        "Feature: l2_one_hot, Importance: 0.0017757300100067917  \n",
        "Feature: bedrooms_scaled, Importance: 0.001072785568983559  \n",
        "Feature: encoded_start_day_of_week, Importance: 0.00042748610995869745  \n",
        "Feature: encoded_start_month, Importance: 0.00034011274084579584  \n",
        "Feature: rooms_scaled, Importance: 9.983280776532907e-05  \n",
        "Feature: end_year, Importance: 5.4698944892703716e-05  \n",
        "\n",
        "Based on the results of the Random Forest feature selection, all listed features have relatively low importance scores, indicating a minimal impact on the target variable. The importance values of all other columns in the dataset are zero, suggesting that these features do not contribute significantly to the model's predictive accuracy."
      ]
    },
    {
      "cell_type": "markdown",
      "metadata": {
        "id": "w1IJ06bFHhLx"
      },
      "source": [
        "\n",
        "Our first try was the **PCA** however we have two issues:\n",
        "1. when we use all features and more specific final_feautes included the code takes too long.\n",
        "2. without that column the variation of the first 4PC was lower than 0.6 so it didnt capture the variation of the document early.In addition, it's important to note that despite the lower variation captured by the first four principal components (PCs), the effectiveness of dimensionality reduction was not compromised.\n",
        "Here is the code:"
      ]
    },
    {
      "cell_type": "code",
      "execution_count": null,
      "metadata": {
        "id": "Svw8g80ePART"
      },
      "outputs": [],
      "source": [
        "# import matplotlib.pyplot as plt\n",
        "# import numpy as np\n",
        "# from pyspark.ml.feature import PCA\n",
        "\n",
        "# # Define feature columns for PCA\n",
        "# pca_feature_columns = ['price_bucket', 'start_year', 'end_year', 'is_active',\n",
        "#                        'l3_one_hot', 'l2_one_hot', 'property_one_hot',\n",
        "#                        'encoded_start_month', 'encoded_end_month',\n",
        "#                        'encoded_start_day_of_week', 'encoded_end_day_of_week',\n",
        "#                        'geo_cluster', 'rooms_scaled', 'bedrooms_scaled',\n",
        "#                        'bathrooms_scaled', 'surface_total_scaled',\n",
        "#                        'surface_covered_scaled']\n",
        "\n",
        "# # Define stages for preprocessing\n",
        "# stages = []\n",
        "\n",
        "# # Combine selected features into a single vector\n",
        "# assembler = VectorAssembler(inputCols=pca_feature_columns, outputCol=\"pca_features\")\n",
        "# stages += [assembler]\n",
        "\n",
        "# # Apply PCA\n",
        "# pca = PCA(k=4, inputCol=\"pca_features\", outputCol=\"pca_features_result\")\n",
        "# stages += [pca]\n",
        "# pipeline = Pipeline(stages=stages)\n",
        "# pipeline_model = pipeline.fit(rent_df)\n",
        "# transformed_data = pipeline_model.transform(rent_df)\n",
        "\n",
        "# # Get PCA features\n",
        "# pca_features = transformed_data.select(\"pca_features_result\")\n",
        "# explained_variance = pipeline_model.stages[-1].explainedVariance\n",
        "# print(\"Explained Variance for each component:\", explained_variance)\n",
        "\n",
        "# # Plot variance explained by each principal component\n",
        "# plt.figure(figsize=(10, 6))\n",
        "# plt.plot(np.arange(1, len(explained_variance) + 1), explained_variance, marker='o', linestyle='-')\n",
        "# plt.title('Variance Explained by Principal Components')\n",
        "# plt.xlabel('Principal Component')\n",
        "# plt.ylabel('Variance Explained')\n",
        "# plt.xticks(np.arange(1, len(explained_variance) + 1))\n",
        "# plt.grid(True)\n",
        "# plt.show()"
      ]
    },
    {
      "cell_type": "markdown",
      "metadata": {
        "id": "zD18qlMtcBFM"
      },
      "source": [
        "### Group of Features"
      ]
    },
    {
      "cell_type": "markdown",
      "metadata": {
        "id": "hEfjZKZkcF4G"
      },
      "source": [
        "We decided to run models on two different group of features. One with all features and another one with a subset of features based on the Random Forest Feature selection. However,as we see in EDA the relationships between our variable are very small. This is the reason we get only seven features from random forest and with really small numbers of importance."
      ]
    },
    {
      "cell_type": "code",
      "execution_count": 104,
      "metadata": {
        "id": "TLl73PZMI-nU"
      },
      "outputs": [],
      "source": [
        "# Select all features\n",
        "all_features=[\n",
        "         'scaled_final_features','start_year', 'end_year', 'is_active',\n",
        "         'l3_one_hot', 'l2_one_hot', 'property_one_hot', 'encoded_start_month',\n",
        "         'encoded_end_month', 'encoded_start_day_of_week', 'encoded_end_day_of_week',\n",
        "         'geo_cluster', 'rooms_scaled', 'bedrooms_scaled', 'bathrooms_scaled',\n",
        "         'surface_total_scaled']\n",
        "\n",
        "# Select the target variable\n",
        "target_variable = 'price_bucket'\n",
        "\n",
        "# Assemble features into a feature vector\n",
        "assembler_all = VectorAssembler(inputCols=all_features, outputCol=\"all_features\")\n",
        "data_all = assembler_all.transform(rent_df)\n",
        "\n",
        "# Split the data into training and testing sets\n",
        "(trainingData, testData) = data_all.randomSplit([0.7, 0.3],seed=5)\n"
      ]
    },
    {
      "cell_type": "code",
      "execution_count": 106,
      "metadata": {
        "id": "y2H0omK-Ckdv"
      },
      "outputs": [],
      "source": [
        "# Select relevant features based on their importance scores\n",
        "selected_features = ['start_year','end_year', 'l2_one_hot', 'bedrooms_scaled', 'encoded_start_day_of_week','encoded_start_month','rooms_scaled']\n",
        "\n",
        "# Select the target variable\n",
        "target_variable = 'price_bucket'\n",
        "\n",
        "# Assemble features into a feature vector\n",
        "assembler_sel = VectorAssembler(inputCols=selected_features, outputCol=\"sel_features\")\n",
        "data_sel = assembler_sel.transform(rent_df)\n",
        "\n",
        "# Split the data into training and testing sets\n",
        "(train_data, test_data) = data_sel.randomSplit([0.7, 0.3],seed=5)\n"
      ]
    },
    {
      "cell_type": "markdown",
      "source": [
        "# Models"
      ],
      "metadata": {
        "id": "qKU3WjQPcF6c"
      }
    },
    {
      "cell_type": "markdown",
      "source": [
        "For our multiclass classification problem aimed at predicting bucket_price in an imbalanced dataset, we will use the F1-score as a performance metric. We are testing three models: Decision Tree, Random Forest, and LinearSVC, which serves as the base for a OneVsRest strategy"
      ],
      "metadata": {
        "id": "9WyYR2lMBDMI"
      }
    },
    {
      "cell_type": "markdown",
      "metadata": {
        "id": "GRrUzofJcOtY"
      },
      "source": [
        "## Decision Tree\n",
        "We choose Decision Trees because they handle skewed class distributions well and offer interpretability, aiding in understanding which features are important and how decisions are made in the model."
      ]
    },
    {
      "cell_type": "code",
      "execution_count": 107,
      "metadata": {
        "colab": {
          "base_uri": "https://localhost:8080/"
        },
        "id": "Glhz-QnPE88Q",
        "outputId": "8f20391d-2414-4923-d270-bbd985f4312f"
      },
      "outputs": [
        {
          "output_type": "stream",
          "name": "stdout",
          "text": [
            "Test F1 Score = 0.490815\n"
          ]
        }
      ],
      "source": [
        "# Train a DecisionTreeClassifier\n",
        "dt = DecisionTreeClassifier(labelCol=target_variable, featuresCol=\"all_features\")\n",
        "\n",
        "# Train the model\n",
        "dc_model = dt.fit(trainingData)\n",
        "\n",
        "# Make predictions\n",
        "predictions_dc_all = dc_model.transform(testData)\n",
        "\n",
        "# Create an evaluator\n",
        "evaluator_dc_all = MulticlassClassificationEvaluator(\n",
        "    labelCol=target_variable,\n",
        "    predictionCol=\"prediction\",\n",
        "    metricName=\"f1\"\n",
        ")\n",
        "\n",
        "# Compute the F1-score\n",
        "f1_score = evaluator_dc_all.evaluate(predictions_dc_all)\n",
        "print(\"Test F1 Score = %g\" % f1_score)"
      ]
    },
    {
      "cell_type": "markdown",
      "metadata": {
        "id": "718HrXhMdKQy"
      },
      "source": [
        "The F1 Score, rates the DecisionTreeClassifier as not that good, scoring 0.490815. This means it's not perfect at sorting your dataset's different categories, which aren't evenly balanced. Using all the features might be a problem because it could make the model too specific or include unnecessary stuff.  To make the model better, we tried to pick only the most important features."
      ]
    },
    {
      "cell_type": "code",
      "execution_count": 108,
      "metadata": {
        "colab": {
          "base_uri": "https://localhost:8080/"
        },
        "id": "Wop4X7bSoEaq",
        "outputId": "9e96316b-0cc2-4e0b-cb05-00189e200054"
      },
      "outputs": [
        {
          "output_type": "stream",
          "name": "stdout",
          "text": [
            "Test F1 Score = 0.458125\n"
          ]
        }
      ],
      "source": [
        "# Train a DecisionTreeClassifier\n",
        "dt = DecisionTreeClassifier(labelCol=target_variable, featuresCol=\"sel_features\")\n",
        "\n",
        "# Train the model\n",
        "dc_model_sel = dt.fit(train_data)\n",
        "\n",
        "# Make predictions\n",
        "predictions_dc_sel = dc_model_sel.transform(test_data)\n",
        "\n",
        "# Create an evaluator\n",
        "evaluator_dc_sel = MulticlassClassificationEvaluator(\n",
        "    labelCol=target_variable,\n",
        "    predictionCol=\"prediction\",\n",
        "    metricName=\"f1\"\n",
        ")\n",
        "\n",
        "# Compute the F1-score\n",
        "f1_score_dc_sel = evaluator_dc_sel.evaluate(predictions_dc_sel)\n",
        "print(\"Test F1 Score = %g\" % f1_score_dc_sel)\n"
      ]
    },
    {
      "cell_type": "markdown",
      "metadata": {
        "id": "eABvUW9CdQxq"
      },
      "source": [
        "By limiting the analysis to only the most important features, the test F1 Score has decreased to 0.458125, indicating a drop in model performance compared to using all features. This suggests that the excluded features contained valuable information for classification. Additionally, we were suspicious about that because the importance scores of the selected features were not high enough to accurately classify instances."
      ]
    },
    {
      "cell_type": "markdown",
      "metadata": {
        "id": "CbMysJwudVJK"
      },
      "source": [
        "## Random Forest\n",
        "We also pick Random Forest for sorting out imbalanced dataset in multiclass classification. It's good at avoiding overfitting, handling lots of data, and dealing with imbalanced classes by combining many decision trees. This teamwork approach boosts accuracy, especially helpful for tangled relationships and uneven class sizes in the data."
      ]
    },
    {
      "cell_type": "code",
      "execution_count": 109,
      "metadata": {
        "colab": {
          "base_uri": "https://localhost:8080/"
        },
        "id": "Ie5kuXSByaD2",
        "outputId": "a7047d5e-9775-49d9-88a5-61689dc810f2"
      },
      "outputs": [
        {
          "output_type": "stream",
          "name": "stdout",
          "text": [
            "Test F1 Score = 0.309201\n"
          ]
        }
      ],
      "source": [
        "# Train a RandomForestClassifier\n",
        "rf_classifier = RandomForestClassifier(\n",
        "    labelCol=target_variable,\n",
        "    featuresCol=\"all_features\",\n",
        "    numTrees=20,  # Number of trees in the forest\n",
        "    maxDepth=5    # Maximum depth of each tree\n",
        ")\n",
        "\n",
        "# Train the model\n",
        "model_rf_all = rf_classifier.fit(trainingData)\n",
        "\n",
        "# Make predictions\n",
        "predictions_rf_all = model_rf_all.transform(testData)\n",
        "\n",
        "# Create an evaluator\n",
        "evaluator_rf_all = MulticlassClassificationEvaluator(\n",
        "    labelCol=target_variable,\n",
        "    predictionCol=\"prediction\",\n",
        "    metricName=\"f1\"\n",
        ")\n",
        "\n",
        "# Compute the F1-score\n",
        "f1_score = evaluator_rf_all.evaluate(predictions_rf_all)\n",
        "print(\"Test F1 Score = %g\" % f1_score)\n"
      ]
    },
    {
      "cell_type": "markdown",
      "metadata": {
        "id": "5b80Uwf9k2Nf"
      },
      "source": [
        "The F1 Score rates the Random Forest as underperforming with a score of 0.309201. This relatively low value indicates that the model is not very effective at distinguishing between the different categories in our imbalanced dataset."
      ]
    },
    {
      "cell_type": "code",
      "execution_count": 110,
      "metadata": {
        "colab": {
          "base_uri": "https://localhost:8080/"
        },
        "id": "AIM2soL9dcl4",
        "outputId": "d2c79122-2c70-4fdf-afa2-14c862a18508"
      },
      "outputs": [
        {
          "output_type": "stream",
          "name": "stdout",
          "text": [
            "Test F1 Score = 0.429172\n"
          ]
        }
      ],
      "source": [
        "# Train a RandomForestClassifier\n",
        "rf_classifier = RandomForestClassifier(\n",
        "    labelCol=target_variable,\n",
        "    featuresCol=\"sel_features\",\n",
        "    numTrees=20,  # Number of trees in the forest\n",
        "    maxDepth=5    # Maximum depth of each tree\n",
        ")\n",
        "\n",
        "# Train the model\n",
        "model_rf_sel = rf_classifier.fit(train_data)\n",
        "\n",
        "# Make predictions\n",
        "predictions_rf_sel = model_rf_sel.transform(test_data)\n",
        "\n",
        "# Create an evaluator\n",
        "evaluator_rf_sel = MulticlassClassificationEvaluator(\n",
        "    labelCol=target_variable,\n",
        "    predictionCol=\"prediction\",\n",
        "    metricName=\"f1\"\n",
        ")\n",
        "\n",
        "# Compute the F1-score\n",
        "f1_score = evaluator_rf_sel.evaluate(predictions_rf_sel)\n",
        "print(\"Test F1 Score = %g\" % f1_score)\n"
      ]
    },
    {
      "cell_type": "markdown",
      "metadata": {
        "id": "W0BJbyVdk4Zk"
      },
      "source": [
        "Also, the F1 Score indicates a better outcome for the DecisionTreeClassifier using selected features, with a score of 0.458125, compared to the Random Forest model, which scores slightly lower at 0.429172. This suggests that the DecisionTreeClassifier is better suited to handling the specific subset of features chosen for this analysis. The consistent underperformance of the Random Forest model across both feature subsets underscores that it may not be the optimal choice for this particular dataset."
      ]
    },
    {
      "cell_type": "markdown",
      "metadata": {
        "id": "mIkctC_ydb66"
      },
      "source": [
        "## SVC\n",
        "\n",
        "We also use LinearSVC as a base for OneVsRest classification to handle imbalanced datasets in multiclass scenarios. LinearSVC offers a robust base, and OneVsRest expands its capabilities to address multiple classes, which can improve the F1-score and effectively address imbalanced data distributions."
      ]
    },
    {
      "cell_type": "code",
      "source": [
        "rent_df.dtypes"
      ],
      "metadata": {
        "colab": {
          "base_uri": "https://localhost:8080/"
        },
        "id": "G1XQgKQWfoSt",
        "outputId": "07cca3b1-0086-4856-9bf0-505654f75df5"
      },
      "execution_count": 15,
      "outputs": [
        {
          "output_type": "execute_result",
          "data": {
            "text/plain": [
              "[('price_bucket', 'int'),\n",
              " ('start_year', 'int'),\n",
              " ('end_year', 'int'),\n",
              " ('is_active', 'int'),\n",
              " ('l3_one_hot', 'vector'),\n",
              " ('l2_one_hot', 'vector'),\n",
              " ('property_one_hot', 'vector'),\n",
              " ('encoded_start_month', 'vector'),\n",
              " ('encoded_end_month', 'vector'),\n",
              " ('encoded_start_day_of_week', 'vector'),\n",
              " ('encoded_end_day_of_week', 'vector'),\n",
              " ('geo_cluster', 'int'),\n",
              " ('scaled_final_features', 'vector'),\n",
              " ('rooms_scaled', 'double'),\n",
              " ('bedrooms_scaled', 'double'),\n",
              " ('bathrooms_scaled', 'double'),\n",
              " ('surface_total_scaled', 'double')]"
            ]
          },
          "metadata": {},
          "execution_count": 15
        }
      ]
    },
    {
      "cell_type": "code",
      "execution_count": 111,
      "metadata": {
        "colab": {
          "base_uri": "https://localhost:8080/"
        },
        "id": "RgVtnRW8EuUi",
        "outputId": "13b47db7-5699-460b-b2d4-4699a65aed28"
      },
      "outputs": [
        {
          "output_type": "stream",
          "name": "stdout",
          "text": [
            "Test F1 Score = 0.661193\n"
          ]
        }
      ],
      "source": [
        "# Train a LinearSVC classifier\n",
        "base_classifier = LinearSVC(maxIter=10, regParam=0.1)\n",
        "\n",
        "# Instantiate the OneVsRest classifier\n",
        "ovr_all = OneVsRest(classifier=base_classifier, labelCol=target_variable,featuresCol=\"all_features\")\n",
        "\n",
        "# Train the model\n",
        "model_svm_all = ovr_all.fit(trainingData)\n",
        "\n",
        "# Make predictions\n",
        "predictions_svm_all = model_svm_all.transform(testData)\n",
        "\n",
        "# Create an evaluator\n",
        "evaluator_svm_all = MulticlassClassificationEvaluator(\n",
        "    labelCol=target_variable,\n",
        "    predictionCol=\"prediction\",\n",
        "    metricName=\"f1\"\n",
        ")\n",
        "\n",
        "# Compute the F1-score\n",
        "f1_score = evaluator_svm_all.evaluate(predictions_svm_all)\n",
        "print(\"Test F1 Score = %g\" % f1_score)"
      ]
    },
    {
      "cell_type": "markdown",
      "metadata": {
        "id": "rcckf8iLmtQ4"
      },
      "source": [
        "The LinearSVC classifier, used with the OneVsRest method, got a higher test score (0.661193) than the RandomForestClassifier and DecisionTreeClassifier. LinearSVC is good at handling data with lots of features and works well when the data can be separated in a straight line. Unlike the RandomForestClassifier, which combines many decision trees and can get complicated, LinearSVC focuses on finding the best line to separate the categories. So, it's a better fit for this job and gave a better result."
      ]
    },
    {
      "cell_type": "code",
      "execution_count": 112,
      "metadata": {
        "colab": {
          "base_uri": "https://localhost:8080/"
        },
        "id": "ZALh20zPdt-c",
        "outputId": "df20cb4f-073e-4b23-b18a-e7f59686f282"
      },
      "outputs": [
        {
          "output_type": "stream",
          "name": "stdout",
          "text": [
            "Test F1 Score = 0.374558\n"
          ]
        }
      ],
      "source": [
        "# Train a LinearSVC classifier\n",
        "base_classifier = LinearSVC(maxIter=10, regParam=0.1)\n",
        "\n",
        "# Instantiate the OneVsRest classifier\n",
        "ovr_sel = OneVsRest(classifier=base_classifier, labelCol=target_variable,featuresCol=\"sel_features\")\n",
        "\n",
        "# Train the model\n",
        "model_svm_sel = ovr_sel.fit(train_data)\n",
        "\n",
        "# Make predictions\n",
        "predictions_svm_sel = model_svm_sel.transform(test_data)\n",
        "\n",
        "# Create an evaluator\n",
        "evaluator_svm_Sel = MulticlassClassificationEvaluator(\n",
        "    labelCol=target_variable,\n",
        "    predictionCol=\"prediction\",\n",
        "    metricName=\"f1\"\n",
        ")\n",
        "\n",
        "# Compute the F1-score\n",
        "f1_score = evaluator_svm_Sel.evaluate(predictions_svm_sel)\n",
        "print(\"Test F1 Score = %g\" % f1_score)"
      ]
    },
    {
      "cell_type": "markdown",
      "metadata": {
        "id": "xNhbjuYhqzvQ"
      },
      "source": [
        "Using a LinearSVC classifier with selected features resulted in a test F1 Score of 0.374558, which is much worst than the score obtained with all features. This suggests that the chosen features don't effectively capture the patterns needed for classification. By selecting features, we make the data simpler while keeping the most important ones but in that case is not enough. This is something we expected to see because from the EDA we saw that they are not a high association or relationship between the variables and from digging into feature importance with RandomForestClassifier and exploring the data, which showed that the selected features weren't highly important and didn't have strong relationships with each other. So, the best model for us is the LinearSVC using all features.\n"
      ]
    },
    {
      "cell_type": "markdown",
      "metadata": {
        "id": "f_A6D2jzd3Xf"
      },
      "source": [
        "# Hyperparameter Tuning Using the Optuna Library"
      ]
    },
    {
      "cell_type": "code",
      "execution_count": 113,
      "metadata": {
        "colab": {
          "base_uri": "https://localhost:8080/"
        },
        "id": "od0-Cy70d8Jc",
        "outputId": "4b5bf629-c270-45e9-aa24-b6d80d01a76d"
      },
      "outputs": [
        {
          "output_type": "stream",
          "name": "stdout",
          "text": [
            "Collecting optuna\n",
            "  Downloading optuna-3.6.1-py3-none-any.whl (380 kB)\n",
            "\u001b[2K     \u001b[90m━━━━━━━━━━━━━━━━━━━━━━━━━━━━━━━━━━━━━━━━\u001b[0m \u001b[32m380.1/380.1 kB\u001b[0m \u001b[31m8.3 MB/s\u001b[0m eta \u001b[36m0:00:00\u001b[0m\n",
            "\u001b[?25hCollecting alembic>=1.5.0 (from optuna)\n",
            "  Downloading alembic-1.13.1-py3-none-any.whl (233 kB)\n",
            "\u001b[2K     \u001b[90m━━━━━━━━━━━━━━━━━━━━━━━━━━━━━━━━━━━━━━━━\u001b[0m \u001b[32m233.4/233.4 kB\u001b[0m \u001b[31m14.5 MB/s\u001b[0m eta \u001b[36m0:00:00\u001b[0m\n",
            "\u001b[?25hCollecting colorlog (from optuna)\n",
            "  Downloading colorlog-6.8.2-py3-none-any.whl (11 kB)\n",
            "Requirement already satisfied: numpy in /usr/local/lib/python3.10/dist-packages (from optuna) (1.25.2)\n",
            "Requirement already satisfied: packaging>=20.0 in /usr/local/lib/python3.10/dist-packages (from optuna) (24.0)\n",
            "Requirement already satisfied: sqlalchemy>=1.3.0 in /usr/local/lib/python3.10/dist-packages (from optuna) (2.0.29)\n",
            "Requirement already satisfied: tqdm in /usr/local/lib/python3.10/dist-packages (from optuna) (4.66.4)\n",
            "Requirement already satisfied: PyYAML in /usr/local/lib/python3.10/dist-packages (from optuna) (6.0.1)\n",
            "Collecting Mako (from alembic>=1.5.0->optuna)\n",
            "  Downloading Mako-1.3.3-py3-none-any.whl (78 kB)\n",
            "\u001b[2K     \u001b[90m━━━━━━━━━━━━━━━━━━━━━━━━━━━━━━━━━━━━━━━━\u001b[0m \u001b[32m78.8/78.8 kB\u001b[0m \u001b[31m9.7 MB/s\u001b[0m eta \u001b[36m0:00:00\u001b[0m\n",
            "\u001b[?25hRequirement already satisfied: typing-extensions>=4 in /usr/local/lib/python3.10/dist-packages (from alembic>=1.5.0->optuna) (4.11.0)\n",
            "Requirement already satisfied: greenlet!=0.4.17 in /usr/local/lib/python3.10/dist-packages (from sqlalchemy>=1.3.0->optuna) (3.0.3)\n",
            "Requirement already satisfied: MarkupSafe>=0.9.2 in /usr/local/lib/python3.10/dist-packages (from Mako->alembic>=1.5.0->optuna) (2.1.5)\n",
            "Installing collected packages: Mako, colorlog, alembic, optuna\n",
            "Successfully installed Mako-1.3.3 alembic-1.13.1 colorlog-6.8.2 optuna-3.6.1\n"
          ]
        }
      ],
      "source": [
        "! pip install optuna"
      ]
    },
    {
      "cell_type": "code",
      "execution_count": 118,
      "metadata": {
        "colab": {
          "base_uri": "https://localhost:8080/"
        },
        "id": "HO5xOhGVig1q",
        "outputId": "3114c27a-9337-41e0-8cb0-92b5facca55a"
      },
      "outputs": [
        {
          "output_type": "stream",
          "name": "stderr",
          "text": [
            "[I 2024-05-09 10:43:04,079] A new study created in memory with name: no-name-a31d663a-ed2f-4bd8-a0ed-a8343c97fa24\n",
            "<ipython-input-118-a203db077248>:5: FutureWarning: suggest_loguniform has been deprecated in v3.0.0. This feature will be removed in v6.0.0. See https://github.com/optuna/optuna/releases/tag/v3.0.0. Use suggest_float(..., log=True) instead.\n",
            "  reg_param = trial.suggest_loguniform('regParam', 1e-4, 1.0)\n",
            "[I 2024-05-09 10:46:10,586] Trial 0 finished with value: 0.662782994902543 and parameters: {'maxIter': 55, 'regParam': 0.02146237021455805}. Best is trial 0 with value: 0.662782994902543.\n",
            "[I 2024-05-09 10:49:11,623] Trial 1 finished with value: 0.6563547008975347 and parameters: {'maxIter': 69, 'regParam': 0.0036485663278348784}. Best is trial 0 with value: 0.662782994902543.\n",
            "[I 2024-05-09 10:50:48,049] Trial 2 finished with value: 0.6644003651647831 and parameters: {'maxIter': 30, 'regParam': 0.004754863429209989}. Best is trial 2 with value: 0.6644003651647831.\n",
            "[I 2024-05-09 10:54:05,083] Trial 3 finished with value: 0.6530555484284543 and parameters: {'maxIter': 72, 'regParam': 0.001784545646183937}. Best is trial 2 with value: 0.6644003651647831.\n",
            "[I 2024-05-09 10:57:45,058] Trial 4 finished with value: 0.6657300731153827 and parameters: {'maxIter': 84, 'regParam': 0.0706831226089022}. Best is trial 4 with value: 0.6657300731153827.\n",
            "[I 2024-05-09 11:01:01,830] Trial 5 finished with value: 0.6636436449437237 and parameters: {'maxIter': 79, 'regParam': 0.044816127027929205}. Best is trial 4 with value: 0.6657300731153827.\n",
            "[I 2024-05-09 11:03:14,213] Trial 6 finished with value: 0.6675142211673649 and parameters: {'maxIter': 46, 'regParam': 0.09113983289583483}. Best is trial 6 with value: 0.6675142211673649.\n",
            "[I 2024-05-09 11:06:59,916] Trial 7 finished with value: 0.656093045257732 and parameters: {'maxIter': 93, 'regParam': 0.011314189411012733}. Best is trial 6 with value: 0.6675142211673649.\n",
            "[I 2024-05-09 11:08:03,039] Trial 8 finished with value: 0.6697154308700678 and parameters: {'maxIter': 19, 'regParam': 0.3513597556191449}. Best is trial 8 with value: 0.6697154308700678.\n",
            "[I 2024-05-09 11:09:29,648] Trial 9 finished with value: 0.6606401972693163 and parameters: {'maxIter': 28, 'regParam': 0.6658417393520601}. Best is trial 8 with value: 0.6697154308700678.\n",
            "[I 2024-05-09 11:10:17,635] Trial 10 finished with value: 0.6655959181712223 and parameters: {'maxIter': 11, 'regParam': 0.00016374859669575508}. Best is trial 8 with value: 0.6697154308700678.\n",
            "[I 2024-05-09 11:12:23,452] Trial 11 finished with value: 0.6634386594539834 and parameters: {'maxIter': 45, 'regParam': 0.5179379544430393}. Best is trial 8 with value: 0.6697154308700678.\n",
            "[I 2024-05-09 11:13:10,445] Trial 12 finished with value: 0.662785786959749 and parameters: {'maxIter': 11, 'regParam': 0.14582136414734292}. Best is trial 8 with value: 0.6697154308700678.\n",
            "[I 2024-05-09 11:14:56,397] Trial 13 finished with value: 0.6700334524369174 and parameters: {'maxIter': 34, 'regParam': 0.1625687468008969}. Best is trial 13 with value: 0.6700334524369174.\n",
            "[I 2024-05-09 11:16:21,152] Trial 14 finished with value: 0.6693926910088983 and parameters: {'maxIter': 27, 'regParam': 0.29991104220951065}. Best is trial 13 with value: 0.6700334524369174.\n",
            "[I 2024-05-09 11:18:11,857] Trial 15 finished with value: 0.6542363401031008 and parameters: {'maxIter': 38, 'regParam': 0.9236432624751507}. Best is trial 13 with value: 0.6700334524369174.\n",
            "[I 2024-05-09 11:19:14,839] Trial 16 finished with value: 0.6698703213885713 and parameters: {'maxIter': 19, 'regParam': 0.20499973658676113}. Best is trial 13 with value: 0.6700334524369174.\n",
            "[I 2024-05-09 11:21:05,238] Trial 17 finished with value: 0.6588201187229855 and parameters: {'maxIter': 38, 'regParam': 0.0006680181512296576}. Best is trial 13 with value: 0.6700334524369174.\n",
            "[I 2024-05-09 11:23:28,933] Trial 18 finished with value: 0.6649080185699784 and parameters: {'maxIter': 55, 'regParam': 0.025533816705485372}. Best is trial 13 with value: 0.6700334524369174.\n",
            "[I 2024-05-09 11:24:34,299] Trial 19 finished with value: 0.670164082296622 and parameters: {'maxIter': 20, 'regParam': 0.18064706382699164}. Best is trial 19 with value: 0.670164082296622.\n",
            "[I 2024-05-09 11:25:39,653] Trial 20 finished with value: 0.6717548550343042 and parameters: {'maxIter': 21, 'regParam': 0.029045791555450343}. Best is trial 20 with value: 0.6717548550343042.\n",
            "[I 2024-05-09 11:26:43,971] Trial 21 finished with value: 0.6712368070161889 and parameters: {'maxIter': 20, 'regParam': 0.05345064982882617}. Best is trial 20 with value: 0.6717548550343042.\n",
            "[I 2024-05-09 11:27:51,536] Trial 22 finished with value: 0.6705801339067112 and parameters: {'maxIter': 21, 'regParam': 0.03659445574160267}. Best is trial 20 with value: 0.6717548550343042.\n",
            "[I 2024-05-09 11:29:04,181] Trial 23 finished with value: 0.6710293778366 and parameters: {'maxIter': 22, 'regParam': 0.01380707670869098}. Best is trial 20 with value: 0.6717548550343042.\n",
            "[I 2024-05-09 11:29:59,437] Trial 24 finished with value: 0.6715707082218506 and parameters: {'maxIter': 12, 'regParam': 0.010745813009028694}. Best is trial 20 with value: 0.6717548550343042.\n",
            "[I 2024-05-09 11:30:44,118] Trial 25 finished with value: 0.6646380763899299 and parameters: {'maxIter': 11, 'regParam': 0.005111814992482308}. Best is trial 20 with value: 0.6717548550343042.\n",
            "[I 2024-05-09 11:33:31,117] Trial 26 finished with value: 0.6613656184712172 and parameters: {'maxIter': 47, 'regParam': 0.008168817640225241}. Best is trial 20 with value: 0.6717548550343042.\n",
            "[I 2024-05-09 11:34:27,710] Trial 27 finished with value: 0.6744514419103032 and parameters: {'maxIter': 15, 'regParam': 0.0018904203860666783}. Best is trial 27 with value: 0.6744514419103032.\n",
            "[I 2024-05-09 11:35:13,484] Trial 28 finished with value: 0.662151194048105 and parameters: {'maxIter': 10, 'regParam': 0.0012700929136610704}. Best is trial 27 with value: 0.6744514419103032.\n",
            "[I 2024-05-09 11:36:17,016] Trial 29 finished with value: 0.6725874531742004 and parameters: {'maxIter': 16, 'regParam': 0.0005337982952392665}. Best is trial 27 with value: 0.6744514419103032.\n",
            "[I 2024-05-09 11:37:56,283] Trial 30 finished with value: 0.6601021053634032 and parameters: {'maxIter': 34, 'regParam': 0.00029737178528723123}. Best is trial 27 with value: 0.6744514419103032.\n",
            "[I 2024-05-09 11:38:51,548] Trial 31 finished with value: 0.6745187430266271 and parameters: {'maxIter': 15, 'regParam': 0.0005997624764662636}. Best is trial 31 with value: 0.6745187430266271.\n",
            "[I 2024-05-09 11:41:47,018] Trial 32 finished with value: 0.6520587170451984 and parameters: {'maxIter': 64, 'regParam': 0.0003882928605537509}. Best is trial 31 with value: 0.6745187430266271.\n",
            "[I 2024-05-09 11:43:07,742] Trial 33 finished with value: 0.6682767315123883 and parameters: {'maxIter': 25, 'regParam': 0.0014223308391099504}. Best is trial 31 with value: 0.6745187430266271.\n",
            "[I 2024-05-09 11:44:04,089] Trial 34 finished with value: 0.6721538530150861 and parameters: {'maxIter': 16, 'regParam': 0.002688821438293201}. Best is trial 31 with value: 0.6745187430266271.\n",
            "[I 2024-05-09 11:45:04,695] Trial 35 finished with value: 0.6740440547172606 and parameters: {'maxIter': 16, 'regParam': 0.0025054028647333534}. Best is trial 31 with value: 0.6745187430266271.\n",
            "[I 2024-05-09 11:46:40,297] Trial 36 finished with value: 0.6634359035614579 and parameters: {'maxIter': 32, 'regParam': 0.0001093419958154684}. Best is trial 31 with value: 0.6745187430266271.\n",
            "[I 2024-05-09 11:48:02,641] Trial 37 finished with value: 0.6676317374932929 and parameters: {'maxIter': 26, 'regParam': 0.0007596628672209411}. Best is trial 31 with value: 0.6745187430266271.\n",
            "[I 2024-05-09 11:50:39,418] Trial 38 finished with value: 0.6561243376753797 and parameters: {'maxIter': 62, 'regParam': 0.002528533460080254}. Best is trial 31 with value: 0.6745187430266271.\n",
            "[I 2024-05-09 11:51:33,727] Trial 39 finished with value: 0.6734484774456555 and parameters: {'maxIter': 15, 'regParam': 0.0006400151073743757}. Best is trial 31 with value: 0.6745187430266271.\n",
            "[I 2024-05-09 11:55:30,579] Trial 40 finished with value: 0.6497484698382608 and parameters: {'maxIter': 97, 'regParam': 0.0010212174264126739}. Best is trial 31 with value: 0.6745187430266271.\n",
            "[I 2024-05-09 11:56:23,838] Trial 41 finished with value: 0.6738096273959371 and parameters: {'maxIter': 15, 'regParam': 0.00042359718801439567}. Best is trial 31 with value: 0.6745187430266271.\n",
            "[I 2024-05-09 11:57:17,816] Trial 42 finished with value: 0.6723187652133706 and parameters: {'maxIter': 15, 'regParam': 0.00024813460086754805}. Best is trial 31 with value: 0.6745187430266271.\n",
            "[I 2024-05-09 11:58:09,638] Trial 43 finished with value: 0.6721818967650232 and parameters: {'maxIter': 15, 'regParam': 0.005951668148761099}. Best is trial 31 with value: 0.6745187430266271.\n",
            "[I 2024-05-09 11:59:31,155] Trial 44 finished with value: 0.6666824821825442 and parameters: {'maxIter': 25, 'regParam': 0.002021971406396087}. Best is trial 31 with value: 0.6745187430266271.\n",
            "[I 2024-05-09 12:02:47,439] Trial 45 finished with value: 0.649570796832506 and parameters: {'maxIter': 78, 'regParam': 0.0004412185129270183}. Best is trial 31 with value: 0.6745187430266271.\n",
            "[I 2024-05-09 12:04:21,529] Trial 46 finished with value: 0.6640076723045142 and parameters: {'maxIter': 30, 'regParam': 0.0037174971627529025}. Best is trial 31 with value: 0.6745187430266271.\n",
            "[I 2024-05-09 12:05:18,633] Trial 47 finished with value: 0.6749822263063568 and parameters: {'maxIter': 15, 'regParam': 0.0002132577079520325}. Best is trial 47 with value: 0.6749822263063568.\n",
            "[I 2024-05-09 12:07:05,763] Trial 48 finished with value: 0.6589555187389725 and parameters: {'maxIter': 38, 'regParam': 0.0001823735514729827}. Best is trial 47 with value: 0.6749822263063568.\n",
            "[I 2024-05-09 12:09:02,986] Trial 49 finished with value: 0.6579772481098852 and parameters: {'maxIter': 42, 'regParam': 0.0008537498047641435}. Best is trial 47 with value: 0.6749822263063568.\n"
          ]
        },
        {
          "output_type": "stream",
          "name": "stdout",
          "text": [
            "Best trial:\n",
            " F1-score: 0.6749822263063568\n",
            " Params: \n",
            "    maxIter: 15\n",
            "    regParam: 0.0002132577079520325\n"
          ]
        }
      ],
      "source": [
        "import optuna\n",
        "def objective(trial):\n",
        "    # Suggest values for the hyperparameters\n",
        "    max_iter = trial.suggest_int('maxIter', 10, 100)\n",
        "    reg_param = trial.suggest_loguniform('regParam', 1e-4, 1.0)\n",
        "\n",
        "    # Setup the classifier\n",
        "    base_classifier = LinearSVC(maxIter=max_iter, regParam=reg_param, featuresCol=\"all_features\")\n",
        "    ovr = OneVsRest(classifier=base_classifier, labelCol=target_variable, featuresCol=\"all_features\")\n",
        "\n",
        "    # Fit the model\n",
        "    model = ovr.fit(trainingData)\n",
        "\n",
        "    # Make predictions\n",
        "    predictions = model.transform(testData)\n",
        "\n",
        "    # Evaluate the model\n",
        "    evaluator = MulticlassClassificationEvaluator(\n",
        "        labelCol=target_variable,\n",
        "        predictionCol=\"prediction\",\n",
        "        metricName=\"f1\"\n",
        "    )\n",
        "    f1_score = evaluator.evaluate(predictions)\n",
        "\n",
        "    return f1_score\n",
        "\n",
        "# Assuming you have 'trainingData' and 'testData' datasets, and 'target_variable' defined\n",
        "\n",
        "# Create a study object and optimize the objective function\n",
        "study = optuna.create_study(direction='maximize')\n",
        "study.optimize(objective, n_trials=50)  # You can adjust the number of trials as needed\n",
        "\n",
        "print(\"Best trial:\")\n",
        "trial = study.best_trial\n",
        "print(f\" F1-score: {trial.value}\")\n",
        "print(\" Params: \")\n",
        "for key, value in trial.params.items():\n",
        "    print(f\"    {key}: {value}\")\n"
      ]
    },
    {
      "cell_type": "markdown",
      "metadata": {
        "id": "Igj79BXLMRFw"
      },
      "source": [
        "Moving forward, we optimize hyperparameters for a classification task using Optuna. The objective function trains and evaluates a classifier, tuning hyperparameters such as maxIter and regParam for a LinearSVC model while employing the OneVsRest strategy. The best trial, Trial 42, finished with a value of 0.6749822263063568 and parameters {'maxIter': 15, 'regParam': 0.0002132577079520325}. This trial achieved the highest F1-score among all trials, enhancing the model's performance for the classification task ahead.\n",
        "\n",
        "\n",
        "\n",
        "\n",
        "\n",
        "\n",
        "\n",
        "\n"
      ]
    },
    {
      "cell_type": "code",
      "source": [],
      "metadata": {
        "id": "1rcLJPT60dI2"
      },
      "execution_count": null,
      "outputs": []
    }
  ],
  "metadata": {
    "colab": {
      "toc_visible": true,
      "provenance": []
    },
    "kernelspec": {
      "display_name": "Python 3",
      "name": "python3"
    },
    "language_info": {
      "name": "python"
    }
  },
  "nbformat": 4,
  "nbformat_minor": 0
}